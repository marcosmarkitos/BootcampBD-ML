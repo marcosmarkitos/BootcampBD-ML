{
 "cells": [
  {
   "cell_type": "markdown",
   "metadata": {},
   "source": [
    "## Calcular el Factorial de un número\n",
    "\n",
    "Crear una función en R que calcule el factorial de un número. Se puede hacer recursivo o iterativo."
   ]
  },
  {
   "cell_type": "code",
   "execution_count": 30,
   "metadata": {},
   "outputs": [],
   "source": [
    "miFactorial<-function(X){\n",
    "    f<-c(1:X)\n",
    "    factorial<-prod(f)\n",
    "    factorial\n",
    "}"
   ]
  },
  {
   "cell_type": "code",
   "execution_count": 35,
   "metadata": {},
   "outputs": [
    {
     "data": {
      "text/html": [
       "1"
      ],
      "text/latex": [
       "1"
      ],
      "text/markdown": [
       "1"
      ],
      "text/plain": [
       "[1] 1"
      ]
     },
     "metadata": {},
     "output_type": "display_data"
    }
   ],
   "source": [
    "miFactorial(1)"
   ]
  },
  {
   "cell_type": "markdown",
   "metadata": {},
   "source": [
    "## Percentiles\n",
    "\n",
    "Hacer una función que calcule el percentil de un vector. Recibirá dos parámetros, el vector y el percentil que queremos ver, sino se indica el percentil se supondrá que es el 50%."
   ]
  },
  {
   "cell_type": "code",
   "execution_count": 7,
   "metadata": {},
   "outputs": [
    {
     "data": {
      "text/html": [
       "12"
      ],
      "text/latex": [
       "12"
      ],
      "text/markdown": [
       "12"
      ],
      "text/plain": [
       "[1] 12"
      ]
     },
     "metadata": {},
     "output_type": "display_data"
    },
    {
     "data": {
      "text/html": [
       "11.5"
      ],
      "text/latex": [
       "11.5"
      ],
      "text/markdown": [
       "11.5"
      ],
      "text/plain": [
       "[1] 11.5"
      ]
     },
     "metadata": {},
     "output_type": "display_data"
    },
    {
     "data": {
      "text/html": [
       "<strong>70%:</strong> 11.5"
      ],
      "text/latex": [
       "\\textbf{70\\textbackslash{}\\%:} 11.5"
      ],
      "text/markdown": [
       "**70%:** 11.5"
      ],
      "text/plain": [
       " 70% \n",
       "11.5 "
      ]
     },
     "metadata": {},
     "output_type": "display_data"
    }
   ],
   "source": [
    "vector<-c(1,3,5,7,985,45,12,1)\n",
    "\n",
    "percentile = function(x, per=50){\n",
    "    x = sort(x)\n",
    "    pXX = round((per/100) * length(x))\n",
    "    return(x[pXX])\n",
    "}\n",
    "\n",
    "calcPercentile<-function(x,p=50){\n",
    "    p<-p/100\n",
    "    x<-sort(na.omit(x))\n",
    "    idx<- 1+(length(x)-1)*p\n",
    "    err<-ceiling(idx)-idx\n",
    "    xl <- x[floor(idx)]\n",
    "    xh <- x[ceiling(idx)]\n",
    "    xl*err+xh*(1-err)\n",
    "}\n",
    "percentile (vector,70)\n",
    "calcPercentile(vector,70)\n",
    "quantile(vector,0.7)"
   ]
  },
  {
   "cell_type": "markdown",
   "metadata": {},
   "source": [
    " ## CSV edad española\n",
    " \n",
    " Usando el CSV del INE.¿Cual es la media de edad de la población española? ¿y la mediana? ¿la moda?"
   ]
  },
  {
   "cell_type": "markdown",
   "metadata": {},
   "source": [
    "\\\\[ \n",
    "    \\bar{x} =  \\frac{1}{\\text{poblaciónTotal}} \\sum _{i=1}^N edad_i · poblaciónConEdad_i \n",
    "\\\\]"
   ]
  },
  {
   "cell_type": "code",
   "execution_count": 9,
   "metadata": {},
   "outputs": [],
   "source": [
    "poblacion<-read.csv(\"data/9663c.csv\",skip=6,\n",
    "                    fileEncoding=\"ISO-8859-1\",header=F)\n",
    "poblacion$V5<-NULL\n",
    "colnames(poblacion)<-c(\"edadTxt\",\"Total\",\"Hombres\",\"Mujeres\")\n",
    "poblacion<-poblacion[1:105,]\n",
    "poblacion$edad<-0:104"
   ]
  },
  {
   "cell_type": "code",
   "execution_count": 10,
   "metadata": {},
   "outputs": [
    {
     "data": {
      "text/html": [
       "<table>\n",
       "<caption>A data.frame: 6 × 5</caption>\n",
       "<thead>\n",
       "\t<tr><th></th><th scope=col>edadTxt</th><th scope=col>Total</th><th scope=col>Hombres</th><th scope=col>Mujeres</th><th scope=col>edad</th></tr>\n",
       "\t<tr><th></th><th scope=col>&lt;fct&gt;</th><th scope=col>&lt;dbl&gt;</th><th scope=col>&lt;dbl&gt;</th><th scope=col>&lt;dbl&gt;</th><th scope=col>&lt;int&gt;</th></tr>\n",
       "</thead>\n",
       "<tbody>\n",
       "\t<tr><th scope=row>100</th><td>    99 años </td><td>7894</td><td>1773</td><td>6121</td><td> 99</td></tr>\n",
       "\t<tr><th scope=row>101</th><td>    100 años</td><td>5381</td><td>1204</td><td>4177</td><td>100</td></tr>\n",
       "\t<tr><th scope=row>102</th><td>    101 años</td><td>3266</td><td> 675</td><td>2591</td><td>101</td></tr>\n",
       "\t<tr><th scope=row>103</th><td>    102 años</td><td>1762</td><td> 285</td><td>1477</td><td>102</td></tr>\n",
       "\t<tr><th scope=row>104</th><td>    103 años</td><td>1103</td><td> 169</td><td> 935</td><td>103</td></tr>\n",
       "\t<tr><th scope=row>105</th><td>    104 años</td><td> 638</td><td>  97</td><td> 542</td><td>104</td></tr>\n",
       "</tbody>\n",
       "</table>\n"
      ],
      "text/latex": [
       "A data.frame: 6 × 5\n",
       "\\begin{tabular}{r|lllll}\n",
       "  & edadTxt & Total & Hombres & Mujeres & edad\\\\\n",
       "  & <fct> & <dbl> & <dbl> & <dbl> & <int>\\\\\n",
       "\\hline\n",
       "\t100 &     99 años  & 7894 & 1773 & 6121 &  99\\\\\n",
       "\t101 &     100 años & 5381 & 1204 & 4177 & 100\\\\\n",
       "\t102 &     101 años & 3266 &  675 & 2591 & 101\\\\\n",
       "\t103 &     102 años & 1762 &  285 & 1477 & 102\\\\\n",
       "\t104 &     103 años & 1103 &  169 &  935 & 103\\\\\n",
       "\t105 &     104 años &  638 &   97 &  542 & 104\\\\\n",
       "\\end{tabular}\n"
      ],
      "text/markdown": [
       "\n",
       "A data.frame: 6 × 5\n",
       "\n",
       "| <!--/--> | edadTxt &lt;fct&gt; | Total &lt;dbl&gt; | Hombres &lt;dbl&gt; | Mujeres &lt;dbl&gt; | edad &lt;int&gt; |\n",
       "|---|---|---|---|---|---|\n",
       "| 100 |     99 años  | 7894 | 1773 | 6121 |  99 |\n",
       "| 101 |     100 años | 5381 | 1204 | 4177 | 100 |\n",
       "| 102 |     101 años | 3266 |  675 | 2591 | 101 |\n",
       "| 103 |     102 años | 1762 |  285 | 1477 | 102 |\n",
       "| 104 |     103 años | 1103 |  169 |  935 | 103 |\n",
       "| 105 |     104 años |  638 |   97 |  542 | 104 |\n",
       "\n"
      ],
      "text/plain": [
       "    edadTxt      Total Hombres Mujeres edad\n",
       "100     99 años  7894  1773    6121     99 \n",
       "101     100 años 5381  1204    4177    100 \n",
       "102     101 años 3266   675    2591    101 \n",
       "103     102 años 1762   285    1477    102 \n",
       "104     103 años 1103   169     935    103 \n",
       "105     104 años  638    97     542    104 "
      ]
     },
     "metadata": {},
     "output_type": "display_data"
    }
   ],
   "source": [
    "poblacion <- poblacion[1:105,]\n",
    "#poblacion$edad <- 0:104\n",
    "poblacion$edad <- as.integer(sub(\"año(|s)\",\"\",poblacion$edadTxt))\n",
    "tail(poblacion)"
   ]
  },
  {
   "cell_type": "code",
   "execution_count": 65,
   "metadata": {},
   "outputs": [
    {
     "data": {
      "text/html": [
       "42.586387378654"
      ],
      "text/latex": [
       "42.586387378654"
      ],
      "text/markdown": [
       "42.586387378654"
      ],
      "text/plain": [
       "[1] 42.58639"
      ]
     },
     "metadata": {},
     "output_type": "display_data"
    }
   ],
   "source": [
    "mediaPoblacionEspañola<-sum(poblacion$Total*poblacion$edad)/sum(poblacion$Total)\n",
    "mediaPoblacionEspañola"
   ]
  },
  {
   "cell_type": "code",
   "execution_count": 11,
   "metadata": {},
   "outputs": [
    {
     "data": {
      "text/html": [
       "43"
      ],
      "text/latex": [
       "43"
      ],
      "text/markdown": [
       "43"
      ],
      "text/plain": [
       "[1] 43"
      ]
     },
     "metadata": {},
     "output_type": "display_data"
    }
   ],
   "source": [
    "indice<-sum(poblacion$Total)/2\n",
    "acumulado<-0\n",
    "i<-1\n",
    "while (acumulado<indice){\n",
    "    acumulado<-acumulado+poblacion$Total[i]\n",
    "    i<-i+1\n",
    "}\n",
    "medianaPoblacionEspañola<-poblacion$edad[i-1]\n",
    "medianaPoblacionEspañola"
   ]
  },
  {
   "cell_type": "code",
   "execution_count": 84,
   "metadata": {},
   "outputs": [
    {
     "data": {
      "text/html": [
       "41"
      ],
      "text/latex": [
       "41"
      ],
      "text/markdown": [
       "41"
      ],
      "text/plain": [
       "[1] 41"
      ]
     },
     "metadata": {},
     "output_type": "display_data"
    }
   ],
   "source": [
    "modaPoblacionEspañola<-poblacion$edad[which.max(poblacion$Total)]\n",
    "modaPoblacionEspañola"
   ]
  },
  {
   "cell_type": "markdown",
   "metadata": {},
   "source": [
    "## Peso al nacer\n",
    "\n",
    "Leer el dataset que se encuentra en tests/birthweight_reduced.csv. \n",
    "Quedarse con la columna Birthweight.\n",
    "Calcular cuantiles, media, desigualdad Chebyshev para k=2, y compararla con los cuartiles. Boxplot.\n",
    "Pinta su histograma y función de densidad."
   ]
  },
  {
   "cell_type": "code",
   "execution_count": 14,
   "metadata": {},
   "outputs": [],
   "source": [
    "bwt<-read.csv(\"data/birthweight_reduced.csv\")\n",
    "weight<-bwt$Birthweight*0.453592"
   ]
  },
  {
   "cell_type": "code",
   "execution_count": 15,
   "metadata": {},
   "outputs": [
    {
     "data": {
      "text/html": [
       "0.5"
      ],
      "text/latex": [
       "0.5"
      ],
      "text/markdown": [
       "0.5"
      ],
      "text/plain": [
       "[1] 0.5"
      ]
     },
     "metadata": {},
     "output_type": "display_data"
    }
   ],
   "source": [
    "k<-sqrt(2)\n",
    "1/k^2\n",
    "lim_inf<-mean(weight)-k*sd(weight)\n",
    "lim_sup<-mean(weight)+k*sd(weight)"
   ]
  },
  {
   "cell_type": "code",
   "execution_count": 16,
   "metadata": {},
   "outputs": [
    {
     "data": {
      "text/html": [
       "<style>\n",
       ".dl-inline {width: auto; margin:0; padding: 0}\n",
       ".dl-inline>dt, .dl-inline>dd {float: none; width: auto; display: inline-block}\n",
       ".dl-inline>dt::after {content: \":\\0020\"; padding-right: .5ex}\n",
       ".dl-inline>dt:not(:first-of-type) {padding-left: .5ex}\n",
       "</style><dl class=dl-inline><dt>25%</dt><dd>2.9256684</dd><dt>75%</dt><dd>3.628736</dd></dl>\n"
      ],
      "text/latex": [
       "\\begin{description*}\n",
       "\\item[25\\textbackslash{}\\%] 2.9256684\n",
       "\\item[75\\textbackslash{}\\%] 3.628736\n",
       "\\end{description*}\n"
      ],
      "text/markdown": [
       "25%\n",
       ":   2.925668475%\n",
       ":   3.628736\n",
       "\n"
      ],
      "text/plain": [
       "     25%      75% \n",
       "2.925668 3.628736 "
      ]
     },
     "metadata": {},
     "output_type": "display_data"
    }
   ],
   "source": [
    "quantile(weight, c(0.25,0.75))"
   ]
  },
  {
   "cell_type": "code",
   "execution_count": 17,
   "metadata": {},
   "outputs": [
    {
     "data": {
      "image/png": "[encoded data removed]",
      "text/plain": [
       "Plot with title “Peso al nacer”"
      ]
     },
     "metadata": {
      "image/png": {
       "height": 420,
       "width": 420
      },
      "text/plain": {
       "height": 420,
       "width": 420
      }
     },
     "output_type": "display_data"
    }
   ],
   "source": [
    "boxplot(weight, main=\"Peso al nacer\")"
   ]
  }
 ],
 "metadata": {
  "kernelspec": {
   "display_name": "R",
   "language": "R",
   "name": "ir"
  },
  "language_info": {
   "codemirror_mode": "r",
   "file_extension": ".r",
   "mimetype": "text/x-r-source",
   "name": "R",
   "pygments_lexer": "r",
   "version": "3.6.0"
  }
 },
 "nbformat": 4,
 "nbformat_minor": 1
}
