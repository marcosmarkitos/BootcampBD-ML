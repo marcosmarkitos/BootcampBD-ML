{
 "cells": [
  {
   "cell_type": "markdown",
   "metadata": {},
   "source": [
    "## Calcular el Factorial de un número\n",
    "\n",
    "Crear una función en R que calcule el factorial de un número. Se puede hacer recursivo o iterativo."
   ]
  },
  {
   "cell_type": "code",
   "execution_count": 9,
   "metadata": {},
   "outputs": [],
   "source": [
    "# Solución recursiva\n",
    "factorial<-function(x){\n",
    "    if (x > 0){\n",
    "        return(x*factorial(x-1))\n",
    "    } else {\n",
    "        return(1)\n",
    "    }\n",
    "}\n",
    "\n",
    "# Solución iterativa\n",
    "factorial2<-function(x){\n",
    "    m = 1\n",
    "    while (x > 0){\n",
    "        m<-m*x\n",
    "        x<-x-1\n",
    "    }\n",
    "    return(m)\n",
    "}\n",
    "\n",
    "miFactorial<-function(X){\n",
    "    f<-c(1:X)\n",
    "    factorial<-prod(f)\n",
    "    factorial\n",
    "}\n",
    "miFactorial<-function(X){\n",
    "    prod(1:X)\n",
    "}"
   ]
  },
  {
   "cell_type": "code",
   "execution_count": 4,
   "metadata": {},
   "outputs": [
    {
     "data": {
      "text/html": [
       "6"
      ],
      "text/latex": [
       "6"
      ],
      "text/markdown": [
       "6"
      ],
      "text/plain": [
       "[1] 6"
      ]
     },
     "metadata": {},
     "output_type": "display_data"
    },
    {
     "data": {
      "text/html": [
       "6"
      ],
      "text/latex": [
       "6"
      ],
      "text/markdown": [
       "6"
      ],
      "text/plain": [
       "[1] 6"
      ]
     },
     "metadata": {},
     "output_type": "display_data"
    }
   ],
   "source": [
    "factorial(3)\n",
    "factorial2(3)"
   ]
  },
  {
   "cell_type": "code",
   "execution_count": 10,
   "metadata": {},
   "outputs": [
    {
     "data": {
      "text/html": [
       "720"
      ],
      "text/latex": [
       "720"
      ],
      "text/markdown": [
       "720"
      ],
      "text/plain": [
       "[1] 720"
      ]
     },
     "metadata": {},
     "output_type": "display_data"
    }
   ],
   "source": [
    "miFactorial(6)"
   ]
  },
  {
   "cell_type": "markdown",
   "metadata": {},
   "source": [
    "## Percentiles\n",
    "\n",
    "Hacer una función que calcule el percentil de un vector. Recibirá dos parámetros, el vector y el percentil que queremos ver, sino se indica el percentil se supondrá que es el 50%."
   ]
  },
  {
   "cell_type": "code",
   "execution_count": 42,
   "metadata": {},
   "outputs": [],
   "source": [
    "percentil1<-function(v,p=50){\n",
    "    return(sort(v)[length(v)*p/100+1])\n",
    "}\n",
    "percentil2 = function(x, per=50){\n",
    "    x = sort(x)\n",
    "    pXX = round((per/100) * length(x))+1\n",
    "    return(x[pXX])\n",
    "}\n",
    "\n",
    "calcPercentile<-function(x,p=50){\n",
    "    p<-p/100\n",
    "    x<-sort(na.omit(x))\n",
    "    idx<- 1+(length(x)-1)*p \n",
    "    \n",
    "    err<-ceiling(idx)-idx\n",
    "    \n",
    "    xl <- x[floor(idx)]\n",
    "    xh <- x[ceiling(idx)]\n",
    "    \n",
    "    xl*err+xh*(1-err)    \n",
    "}"
   ]
  },
  {
   "cell_type": "code",
   "execution_count": 36,
   "metadata": {},
   "outputs": [],
   "source": [
    "v<-c(5, 10, 6, 1, 9,3 , 20, 35, 2,7)"
   ]
  },
  {
   "cell_type": "code",
   "execution_count": 41,
   "metadata": {},
   "outputs": [
    {
     "data": {
      "text/html": [
       "0.8"
      ],
      "text/latex": [
       "0.8"
      ],
      "text/markdown": [
       "0.8"
      ],
      "text/plain": [
       "[1] 0.8"
      ]
     },
     "metadata": {},
     "output_type": "display_data"
    },
    {
     "data": {
      "text/html": [
       "5"
      ],
      "text/latex": [
       "5"
      ],
      "text/markdown": [
       "5"
      ],
      "text/plain": [
       "[1] 5"
      ]
     },
     "metadata": {},
     "output_type": "display_data"
    },
    {
     "data": {
      "text/html": [
       "6"
      ],
      "text/latex": [
       "6"
      ],
      "text/markdown": [
       "6"
      ],
      "text/plain": [
       "[1] 6"
      ]
     },
     "metadata": {},
     "output_type": "display_data"
    }
   ],
   "source": [
    "idx<-5.2\n",
    "ceiling(idx)-idx\n",
    "floor(idx)\n",
    "ceiling(idx)"
   ]
  },
  {
   "cell_type": "code",
   "execution_count": 48,
   "metadata": {},
   "outputs": [
    {
     "data": {
      "text/html": [
       "<style>\n",
       ".list-inline {list-style: none; margin:0; padding: 0}\n",
       ".list-inline>li {display: inline-block}\n",
       ".list-inline>li:not(:last-child)::after {content: \"\\00b7\"; padding: 0 .5ex}\n",
       "</style>\n",
       "<ol class=list-inline><li>1</li><li>2</li><li>3</li><li>5</li><li>6</li><li>7</li><li>9</li><li>10</li><li>20</li><li>35</li></ol>\n"
      ],
      "text/latex": [
       "\\begin{enumerate*}\n",
       "\\item 1\n",
       "\\item 2\n",
       "\\item 3\n",
       "\\item 5\n",
       "\\item 6\n",
       "\\item 7\n",
       "\\item 9\n",
       "\\item 10\n",
       "\\item 20\n",
       "\\item 35\n",
       "\\end{enumerate*}\n"
      ],
      "text/markdown": [
       "1. 1\n",
       "2. 2\n",
       "3. 3\n",
       "4. 5\n",
       "5. 6\n",
       "6. 7\n",
       "7. 9\n",
       "8. 10\n",
       "9. 20\n",
       "10. 35\n",
       "\n",
       "\n"
      ],
      "text/plain": [
       " [1]  1  2  3  5  6  7  9 10 20 35"
      ]
     },
     "metadata": {},
     "output_type": "display_data"
    }
   ],
   "source": [
    "sort(v)"
   ]
  },
  {
   "cell_type": "code",
   "execution_count": 38,
   "metadata": {},
   "outputs": [
    {
     "data": {
      "text/html": [
       "7"
      ],
      "text/latex": [
       "7"
      ],
      "text/markdown": [
       "7"
      ],
      "text/plain": [
       "[1] 7"
      ]
     },
     "metadata": {},
     "output_type": "display_data"
    },
    {
     "data": {
      "text/html": [
       "7"
      ],
      "text/latex": [
       "7"
      ],
      "text/markdown": [
       "7"
      ],
      "text/plain": [
       "[1] 7"
      ]
     },
     "metadata": {},
     "output_type": "display_data"
    }
   ],
   "source": [
    "percentil1(v,p=50)\n",
    "percentil2(v,per=50)"
   ]
  },
  {
   "cell_type": "code",
   "execution_count": 49,
   "metadata": {},
   "outputs": [
    {
     "data": {
      "text/html": [
       "16.5"
      ],
      "text/latex": [
       "16.5"
      ],
      "text/markdown": [
       "16.5"
      ],
      "text/plain": [
       "[1] 16.5"
      ]
     },
     "metadata": {},
     "output_type": "display_data"
    },
    {
     "data": {
      "text/html": [
       "<strong>85%:</strong> 16.5"
      ],
      "text/latex": [
       "\\textbf{85\\textbackslash{}\\%:} 16.5"
      ],
      "text/markdown": [
       "**85%:** 16.5"
      ],
      "text/plain": [
       " 85% \n",
       "16.5 "
      ]
     },
     "metadata": {},
     "output_type": "display_data"
    }
   ],
   "source": [
    "calcPercentile(v,p=85)\n",
    "quantile(v,0.85)"
   ]
  },
  {
   "cell_type": "code",
   "execution_count": 50,
   "metadata": {},
   "outputs": [
    {
     "data": {
      "text/html": [
       "7.4382104750257"
      ],
      "text/latex": [
       "7.4382104750257"
      ],
      "text/markdown": [
       "7.4382104750257"
      ],
      "text/plain": [
       "[1] 7.43821"
      ]
     },
     "metadata": {},
     "output_type": "display_data"
    },
    {
     "data": {
      "text/html": [
       "<strong>70%:</strong> 7.4382104750257"
      ],
      "text/latex": [
       "\\textbf{70\\textbackslash{}\\%:} 7.4382104750257"
      ],
      "text/markdown": [
       "**70%:** 7.4382104750257"
      ],
      "text/plain": [
       "    70% \n",
       "7.43821 "
      ]
     },
     "metadata": {},
     "output_type": "display_data"
    }
   ],
   "source": [
    "x<-runif(100,min=0,max=10)\n",
    "calcPercentile(x,p=70)\n",
    "quantile(x,0.7)"
   ]
  },
  {
   "cell_type": "code",
   "execution_count": 51,
   "metadata": {},
   "outputs": [
    {
     "data": {
      "text/html": [
       "<pre class=language-r><code>function (x, ...) \n",
       "UseMethod(\"quantile\")</code></pre>"
      ],
      "text/latex": [
       "\\begin{minted}{r}\n",
       "function (x, ...) \n",
       "UseMethod(\"quantile\")\n",
       "\\end{minted}"
      ],
      "text/markdown": [
       "```r\n",
       "function (x, ...) \n",
       "UseMethod(\"quantile\")\n",
       "```"
      ],
      "text/plain": [
       "function (x, ...) \n",
       "UseMethod(\"quantile\")\n",
       "<bytecode: 0x55a846bb1f78>\n",
       "<environment: namespace:stats>"
      ]
     },
     "metadata": {},
     "output_type": "display_data"
    }
   ],
   "source": [
    "quantile"
   ]
  },
  {
   "cell_type": "markdown",
   "metadata": {},
   "source": [
    " ## CSV edad española\n",
    " \n",
    " Usando el CSV del INE.¿Cual es la media de edad de la población española? ¿y la mediana? ¿la moda?"
   ]
  },
  {
   "cell_type": "markdown",
   "metadata": {},
   "source": [
    "\\\\[ \n",
    "    \\bar{x} =  \\frac{1}{\\text{poblaciónTotal}} \\sum _{i=1}^N edad_i · poblaciónConEdad_i \n",
    "\\\\]"
   ]
  },
  {
   "cell_type": "code",
   "execution_count": 53,
   "metadata": {},
   "outputs": [
    {
     "data": {
      "text/html": [
       "<table>\n",
       "<caption>A data.frame: 6 × 5</caption>\n",
       "<thead>\n",
       "\t<tr><th></th><th scope=col>edadTxt</th><th scope=col>Total</th><th scope=col>Hombres</th><th scope=col>Mujeres</th><th scope=col>edad</th></tr>\n",
       "\t<tr><th></th><th scope=col>&lt;fct&gt;</th><th scope=col>&lt;dbl&gt;</th><th scope=col>&lt;dbl&gt;</th><th scope=col>&lt;dbl&gt;</th><th scope=col>&lt;int&gt;</th></tr>\n",
       "</thead>\n",
       "<tbody>\n",
       "\t<tr><th scope=row>1</th><td>    0 años</td><td>393112</td><td>202106</td><td>191005</td><td>0</td></tr>\n",
       "\t<tr><th scope=row>2</th><td>    1 año </td><td>419307</td><td>215644</td><td>203663</td><td>1</td></tr>\n",
       "\t<tr><th scope=row>3</th><td>    2 años</td><td>430003</td><td>221650</td><td>208352</td><td>2</td></tr>\n",
       "\t<tr><th scope=row>4</th><td>    3 años</td><td>432554</td><td>222917</td><td>209637</td><td>3</td></tr>\n",
       "\t<tr><th scope=row>5</th><td>    4 años</td><td>443764</td><td>228592</td><td>215172</td><td>4</td></tr>\n",
       "\t<tr><th scope=row>6</th><td>    5 años</td><td>465525</td><td>240006</td><td>225518</td><td>5</td></tr>\n",
       "</tbody>\n",
       "</table>\n"
      ],
      "text/latex": [
       "A data.frame: 6 × 5\n",
       "\\begin{tabular}{r|lllll}\n",
       "  & edadTxt & Total & Hombres & Mujeres & edad\\\\\n",
       "  & <fct> & <dbl> & <dbl> & <dbl> & <int>\\\\\n",
       "\\hline\n",
       "\t1 &     0 años & 393112 & 202106 & 191005 & 0\\\\\n",
       "\t2 &     1 año  & 419307 & 215644 & 203663 & 1\\\\\n",
       "\t3 &     2 años & 430003 & 221650 & 208352 & 2\\\\\n",
       "\t4 &     3 años & 432554 & 222917 & 209637 & 3\\\\\n",
       "\t5 &     4 años & 443764 & 228592 & 215172 & 4\\\\\n",
       "\t6 &     5 años & 465525 & 240006 & 225518 & 5\\\\\n",
       "\\end{tabular}\n"
      ],
      "text/markdown": [
       "\n",
       "A data.frame: 6 × 5\n",
       "\n",
       "| <!--/--> | edadTxt &lt;fct&gt; | Total &lt;dbl&gt; | Hombres &lt;dbl&gt; | Mujeres &lt;dbl&gt; | edad &lt;int&gt; |\n",
       "|---|---|---|---|---|---|\n",
       "| 1 |     0 años | 393112 | 202106 | 191005 | 0 |\n",
       "| 2 |     1 año  | 419307 | 215644 | 203663 | 1 |\n",
       "| 3 |     2 años | 430003 | 221650 | 208352 | 2 |\n",
       "| 4 |     3 años | 432554 | 222917 | 209637 | 3 |\n",
       "| 5 |     4 años | 443764 | 228592 | 215172 | 4 |\n",
       "| 6 |     5 años | 465525 | 240006 | 225518 | 5 |\n",
       "\n"
      ],
      "text/plain": [
       "  edadTxt    Total  Hombres Mujeres edad\n",
       "1     0 años 393112 202106  191005  0   \n",
       "2     1 año  419307 215644  203663  1   \n",
       "3     2 años 430003 221650  208352  2   \n",
       "4     3 años 432554 222917  209637  3   \n",
       "5     4 años 443764 228592  215172  4   \n",
       "6     5 años 465525 240006  225518  5   "
      ]
     },
     "metadata": {},
     "output_type": "display_data"
    }
   ],
   "source": [
    "poblacion<-read.csv(\"data/9663c.csv\",skip=6,\n",
    "                    fileEncoding=\"ISO-8859-1\",header=F)\n",
    "poblacion$V5<-NULL\n",
    "colnames(poblacion)<-c(\"edadTxt\",\"Total\",\"Hombres\",\"Mujeres\")\n",
    "poblacion<-poblacion[1:105,]\n",
    "poblacion$edad<-0:104\n",
    "head(poblacion)"
   ]
  },
  {
   "cell_type": "code",
   "execution_count": 55,
   "metadata": {},
   "outputs": [
    {
     "data": {
      "text/html": [
       "<style>\n",
       ".list-inline {list-style: none; margin:0; padding: 0}\n",
       ".list-inline>li {display: inline-block}\n",
       ".list-inline>li:not(:last-child)::after {content: \"\\00b7\"; padding: 0 .5ex}\n",
       "</style>\n",
       "<ol class=list-inline><li>0</li><li>1</li><li>2</li><li>3</li><li>4</li><li>5</li></ol>\n"
      ],
      "text/latex": [
       "\\begin{enumerate*}\n",
       "\\item 0\n",
       "\\item 1\n",
       "\\item 2\n",
       "\\item 3\n",
       "\\item 4\n",
       "\\item 5\n",
       "\\end{enumerate*}\n"
      ],
      "text/markdown": [
       "1. 0\n",
       "2. 1\n",
       "3. 2\n",
       "4. 3\n",
       "5. 4\n",
       "6. 5\n",
       "\n",
       "\n"
      ],
      "text/plain": [
       "[1] 0 1 2 3 4 5"
      ]
     },
     "metadata": {},
     "output_type": "display_data"
    }
   ],
   "source": [
    "as.integer(head(sub(\"año(|s)\",\"\",poblacion$edadTxt)))"
   ]
  },
  {
   "cell_type": "code",
   "execution_count": 57,
   "metadata": {},
   "outputs": [
    {
     "data": {
      "text/html": [
       "<table>\n",
       "<caption>A data.frame: 6 × 5</caption>\n",
       "<thead>\n",
       "\t<tr><th></th><th scope=col>edadTxt</th><th scope=col>Total</th><th scope=col>Hombres</th><th scope=col>Mujeres</th><th scope=col>edad</th></tr>\n",
       "\t<tr><th></th><th scope=col>&lt;fct&gt;</th><th scope=col>&lt;dbl&gt;</th><th scope=col>&lt;dbl&gt;</th><th scope=col>&lt;dbl&gt;</th><th scope=col>&lt;int&gt;</th></tr>\n",
       "</thead>\n",
       "<tbody>\n",
       "\t<tr><th scope=row>100</th><td>    99 años </td><td>7894</td><td>1773</td><td>6121</td><td> 99</td></tr>\n",
       "\t<tr><th scope=row>101</th><td>    100 años</td><td>5381</td><td>1204</td><td>4177</td><td>100</td></tr>\n",
       "\t<tr><th scope=row>102</th><td>    101 años</td><td>3266</td><td> 675</td><td>2591</td><td>101</td></tr>\n",
       "\t<tr><th scope=row>103</th><td>    102 años</td><td>1762</td><td> 285</td><td>1477</td><td>102</td></tr>\n",
       "\t<tr><th scope=row>104</th><td>    103 años</td><td>1103</td><td> 169</td><td> 935</td><td>103</td></tr>\n",
       "\t<tr><th scope=row>105</th><td>    104 años</td><td> 638</td><td>  97</td><td> 542</td><td>104</td></tr>\n",
       "</tbody>\n",
       "</table>\n"
      ],
      "text/latex": [
       "A data.frame: 6 × 5\n",
       "\\begin{tabular}{r|lllll}\n",
       "  & edadTxt & Total & Hombres & Mujeres & edad\\\\\n",
       "  & <fct> & <dbl> & <dbl> & <dbl> & <int>\\\\\n",
       "\\hline\n",
       "\t100 &     99 años  & 7894 & 1773 & 6121 &  99\\\\\n",
       "\t101 &     100 años & 5381 & 1204 & 4177 & 100\\\\\n",
       "\t102 &     101 años & 3266 &  675 & 2591 & 101\\\\\n",
       "\t103 &     102 años & 1762 &  285 & 1477 & 102\\\\\n",
       "\t104 &     103 años & 1103 &  169 &  935 & 103\\\\\n",
       "\t105 &     104 años &  638 &   97 &  542 & 104\\\\\n",
       "\\end{tabular}\n"
      ],
      "text/markdown": [
       "\n",
       "A data.frame: 6 × 5\n",
       "\n",
       "| <!--/--> | edadTxt &lt;fct&gt; | Total &lt;dbl&gt; | Hombres &lt;dbl&gt; | Mujeres &lt;dbl&gt; | edad &lt;int&gt; |\n",
       "|---|---|---|---|---|---|\n",
       "| 100 |     99 años  | 7894 | 1773 | 6121 |  99 |\n",
       "| 101 |     100 años | 5381 | 1204 | 4177 | 100 |\n",
       "| 102 |     101 años | 3266 |  675 | 2591 | 101 |\n",
       "| 103 |     102 años | 1762 |  285 | 1477 | 102 |\n",
       "| 104 |     103 años | 1103 |  169 |  935 | 103 |\n",
       "| 105 |     104 años |  638 |   97 |  542 | 104 |\n",
       "\n"
      ],
      "text/plain": [
       "    edadTxt      Total Hombres Mujeres edad\n",
       "100     99 años  7894  1773    6121     99 \n",
       "101     100 años 5381  1204    4177    100 \n",
       "102     101 años 3266   675    2591    101 \n",
       "103     102 años 1762   285    1477    102 \n",
       "104     103 años 1103   169     935    103 \n",
       "105     104 años  638    97     542    104 "
      ]
     },
     "metadata": {},
     "output_type": "display_data"
    }
   ],
   "source": [
    "poblacion <- poblacion[1:105,]\n",
    "#poblacion$edad <- 0:104\n",
    "poblacion$edad <- as.integer(sub(\"año(|s)\",\"\",poblacion$edadTxt))\n",
    "poblacion$edad <- as.integer(sub(\"año(s*)\",\"\",poblacion$edadTxt))\n",
    "tail(poblacion)"
   ]
  },
  {
   "cell_type": "code",
   "execution_count": 62,
   "metadata": {},
   "outputs": [
    {
     "data": {
      "text/html": [
       "'La moda es: 41 años'"
      ],
      "text/latex": [
       "'La moda es: 41 años'"
      ],
      "text/markdown": [
       "'La moda es: 41 años'"
      ],
      "text/plain": [
       "[1] \"La moda es: 41 años\""
      ]
     },
     "metadata": {},
     "output_type": "display_data"
    },
    {
     "data": {
      "text/html": [
       "41"
      ],
      "text/latex": [
       "41"
      ],
      "text/markdown": [
       "41"
      ],
      "text/plain": [
       "[1] 41"
      ]
     },
     "metadata": {},
     "output_type": "display_data"
    }
   ],
   "source": [
    "paste(\"La moda es:\",poblacion$edad[which.max(poblacion$Total)],'años')\n",
    "poblacion$edad[poblacion$Total == max(poblacion$Total)]"
   ]
  },
  {
   "cell_type": "code",
   "execution_count": 64,
   "metadata": {},
   "outputs": [
    {
     "data": {
      "text/html": [
       "'La edad media es: 42.59 años'"
      ],
      "text/latex": [
       "'La edad media es: 42.59 años'"
      ],
      "text/markdown": [
       "'La edad media es: 42.59 años'"
      ],
      "text/plain": [
       "[1] \"La edad media es: 42.59 años\""
      ]
     },
     "metadata": {},
     "output_type": "display_data"
    }
   ],
   "source": [
    "paste(\"La edad media es:\",round(sum(poblacion$Total*poblacion$edad)/sum(poblacion$Total),2),\"años\")"
   ]
  },
  {
   "cell_type": "code",
   "execution_count": 66,
   "metadata": {},
   "outputs": [
    {
     "data": {
      "text/html": [
       "<style>\n",
       ".list-inline {list-style: none; margin:0; padding: 0}\n",
       ".list-inline>li {display: inline-block}\n",
       ".list-inline>li:not(:last-child)::after {content: \"\\00b7\"; padding: 0 .5ex}\n",
       "</style>\n",
       "<ol class=list-inline><li>1</li><li>2</li><li>3</li><li>3</li><li>4</li><li>4</li></ol>\n"
      ],
      "text/latex": [
       "\\begin{enumerate*}\n",
       "\\item 1\n",
       "\\item 2\n",
       "\\item 3\n",
       "\\item 3\n",
       "\\item 4\n",
       "\\item 4\n",
       "\\end{enumerate*}\n"
      ],
      "text/markdown": [
       "1. 1\n",
       "2. 2\n",
       "3. 3\n",
       "4. 3\n",
       "5. 4\n",
       "6. 4\n",
       "\n",
       "\n"
      ],
      "text/plain": [
       "[1] 1 2 3 3 4 4"
      ]
     },
     "metadata": {},
     "output_type": "display_data"
    }
   ],
   "source": [
    "rep(c(1,2,3,4),c(1,1,2,2))"
   ]
  },
  {
   "cell_type": "code",
   "execution_count": 67,
   "metadata": {},
   "outputs": [
    {
     "data": {
      "text/html": [
       "42.586387378654"
      ],
      "text/latex": [
       "42.586387378654"
      ],
      "text/markdown": [
       "42.586387378654"
      ],
      "text/plain": [
       "[1] 42.58639"
      ]
     },
     "metadata": {},
     "output_type": "display_data"
    }
   ],
   "source": [
    "mean(rep(poblacion$edad,poblacion$Total))"
   ]
  },
  {
   "cell_type": "code",
   "execution_count": 70,
   "metadata": {},
   "outputs": [
    {
     "data": {
      "text/html": [
       "43"
      ],
      "text/latex": [
       "43"
      ],
      "text/markdown": [
       "43"
      ],
      "text/plain": [
       "[1] 43"
      ]
     },
     "metadata": {},
     "output_type": "display_data"
    }
   ],
   "source": [
    "indice<-sum(poblacion$Total)/2\n",
    "acumulado<-0\n",
    "i<-1\n",
    "while (acumulado<indice){\n",
    "    acumulado<-acumulado+poblacion$Total[i]\n",
    "    i<-i+1\n",
    "}\n",
    "medianaPoblacionEspañola<-poblacion$edad[i-1]\n",
    "medianaPoblacionEspañola"
   ]
  },
  {
   "cell_type": "code",
   "execution_count": 69,
   "metadata": {},
   "outputs": [
    {
     "data": {
      "text/html": [
       "'Mediana: 43'"
      ],
      "text/latex": [
       "'Mediana: 43'"
      ],
      "text/markdown": [
       "'Mediana: 43'"
      ],
      "text/plain": [
       "[1] \"Mediana: 43\""
      ]
     },
     "metadata": {},
     "output_type": "display_data"
    }
   ],
   "source": [
    "paste0(\"Mediana: \",median(rep(poblacion$edad,poblacion$Total)))"
   ]
  },
  {
   "cell_type": "code",
   "execution_count": 73,
   "metadata": {},
   "outputs": [
    {
     "data": {
      "image/png": "[encoded data removed]",
      "text/plain": [
       "plot without title"
      ]
     },
     "metadata": {
      "image/png": {
       "height": 360,
       "width": 480
      },
      "text/plain": {
       "height": 360,
       "width": 480
      }
     },
     "output_type": "display_data"
    }
   ],
   "source": [
    "options(repr.plot.height=6,repr.plot.width=8)\n",
    "pobNorm<-cumsum(poblacion$Total)/sum(poblacion$Total)\n",
    "plot(poblacion$edad,pobNorm)"
   ]
  },
  {
   "cell_type": "code",
   "execution_count": 76,
   "metadata": {},
   "outputs": [
    {
     "data": {
      "image/png": "[encoded data removed]",
      "text/plain": [
       "plot without title"
      ]
     },
     "metadata": {
      "image/png": {
       "height": 360,
       "width": 480
      },
      "text/plain": {
       "height": 360,
       "width": 480
      }
     },
     "output_type": "display_data"
    }
   ],
   "source": [
    "plot(abs(pobNorm-0.5))"
   ]
  },
  {
   "cell_type": "code",
   "execution_count": 78,
   "metadata": {},
   "outputs": [
    {
     "data": {
      "text/html": [
       "43"
      ],
      "text/latex": [
       "43"
      ],
      "text/markdown": [
       "43"
      ],
      "text/plain": [
       "[1] 43"
      ]
     },
     "metadata": {},
     "output_type": "display_data"
    }
   ],
   "source": [
    "which.min(abs(pobNorm-0.5))"
   ]
  },
  {
   "cell_type": "code",
   "execution_count": 80,
   "metadata": {},
   "outputs": [
    {
     "data": {
      "text/html": [
       "<style>\n",
       ".list-inline {list-style: none; margin:0; padding: 0}\n",
       ".list-inline>li {display: inline-block}\n",
       ".list-inline>li:not(:last-child)::after {content: \"\\00b7\"; padding: 0 .5ex}\n",
       "</style>\n",
       "<ol class=list-inline><li>0.0417025397868314</li><li>0.0244253734120048</li><li>0.00726043451281888</li><li>0.00964275485282862</li></ol>\n"
      ],
      "text/latex": [
       "\\begin{enumerate*}\n",
       "\\item 0.0417025397868314\n",
       "\\item 0.0244253734120048\n",
       "\\item 0.00726043451281888\n",
       "\\item 0.00964275485282862\n",
       "\\end{enumerate*}\n"
      ],
      "text/markdown": [
       "1. 0.0417025397868314\n",
       "2. 0.0244253734120048\n",
       "3. 0.00726043451281888\n",
       "4. 0.00964275485282862\n",
       "\n",
       "\n"
      ],
      "text/plain": [
       "[1] 0.041702540 0.024425373 0.007260435 0.009642755"
      ]
     },
     "metadata": {},
     "output_type": "display_data"
    }
   ],
   "source": [
    "abs(pobNorm-0.5)[c(41,42,43,44)]"
   ]
  },
  {
   "cell_type": "code",
   "execution_count": 81,
   "metadata": {},
   "outputs": [
    {
     "data": {
      "text/html": [
       "<style>\n",
       ".list-inline {list-style: none; margin:0; padding: 0}\n",
       ".list-inline>li {display: inline-block}\n",
       ".list-inline>li:not(:last-child)::after {content: \"\\00b7\"; padding: 0 .5ex}\n",
       "</style>\n",
       "<ol class=list-inline><li>0.458297460213169</li><li>0.475574626587995</li><li>0.492739565487181</li><li>0.509642754852829</li></ol>\n"
      ],
      "text/latex": [
       "\\begin{enumerate*}\n",
       "\\item 0.458297460213169\n",
       "\\item 0.475574626587995\n",
       "\\item 0.492739565487181\n",
       "\\item 0.509642754852829\n",
       "\\end{enumerate*}\n"
      ],
      "text/markdown": [
       "1. 0.458297460213169\n",
       "2. 0.475574626587995\n",
       "3. 0.492739565487181\n",
       "4. 0.509642754852829\n",
       "\n",
       "\n"
      ],
      "text/plain": [
       "[1] 0.4582975 0.4755746 0.4927396 0.5096428"
      ]
     },
     "metadata": {},
     "output_type": "display_data"
    }
   ],
   "source": [
    "pobNorm[c(41,42,43,44)]"
   ]
  },
  {
   "cell_type": "code",
   "execution_count": 83,
   "metadata": {},
   "outputs": [
    {
     "data": {
      "text/html": [
       "43"
      ],
      "text/latex": [
       "43"
      ],
      "text/markdown": [
       "43"
      ],
      "text/plain": [
       "[1] 43"
      ]
     },
     "metadata": {},
     "output_type": "display_data"
    }
   ],
   "source": [
    "poblacion$edad[which.min(abs(pobNorm-0.5))+1]"
   ]
  },
  {
   "cell_type": "markdown",
   "metadata": {},
   "source": [
    "## Peso al nacer\n",
    "\n",
    "Leer el dataset que se encuentra en tests/birthweight_reduced.csv. \n",
    "Quedarse con la columna Birthweight.\n",
    "Calcular cuantiles, media, desigualdad Chebyshev para k=2, y compararla con los cuartiles. Boxplot.\n",
    "Pinta su histograma y función de densidad."
   ]
  },
  {
   "cell_type": "code",
   "execution_count": 86,
   "metadata": {},
   "outputs": [],
   "source": [
    "bwt<-read.csv(\"data/birthweight_reduced.csv\")\n",
    "weight<-bwt$Birthweight*0.453592"
   ]
  },
  {
   "cell_type": "code",
   "execution_count": 90,
   "metadata": {},
   "outputs": [
    {
     "data": {
      "text/html": [
       "'Como máxmo el 0.5 de las muestras estaran fuera del intervalo [ 2.4420263428054 , 4.14801742862317 ]'"
      ],
      "text/latex": [
       "'Como máxmo el 0.5 de las muestras estaran fuera del intervalo {[} 2.4420263428054 , 4.14801742862317 {]}'"
      ],
      "text/markdown": [
       "'Como máxmo el 0.5 de las muestras estaran fuera del intervalo [ 2.4420263428054 , 4.14801742862317 ]'"
      ],
      "text/plain": [
       "[1] \"Como máxmo el 0.5 de las muestras estaran fuera del intervalo [ 2.4420263428054 , 4.14801742862317 ]\""
      ]
     },
     "metadata": {},
     "output_type": "display_data"
    }
   ],
   "source": [
    "k<-sqrt(2)\n",
    "\n",
    "lim_inf<-mean(weight)-k*sd(weight)\n",
    "lim_sup<-mean(weight)+k*sd(weight)\n",
    "paste(\"Como máximo el\",1/k^2,\"de las muestras estaran fuera del intervalo [\",lim_inf,\",\",lim_sup,\"]\")"
   ]
  },
  {
   "cell_type": "code",
   "execution_count": 91,
   "metadata": {},
   "outputs": [
    {
     "data": {
      "text/html": [
       "<style>\n",
       ".dl-inline {width: auto; margin:0; padding: 0}\n",
       ".dl-inline>dt, .dl-inline>dd {float: none; width: auto; display: inline-block}\n",
       ".dl-inline>dt::after {content: \":\\0020\"; padding-right: .5ex}\n",
       ".dl-inline>dt:not(:first-of-type) {padding-left: .5ex}\n",
       "</style><dl class=dl-inline><dt>25%</dt><dd>2.9256684</dd><dt>75%</dt><dd>3.628736</dd></dl>\n"
      ],
      "text/latex": [
       "\\begin{description*}\n",
       "\\item[25\\textbackslash{}\\%] 2.9256684\n",
       "\\item[75\\textbackslash{}\\%] 3.628736\n",
       "\\end{description*}\n"
      ],
      "text/markdown": [
       "25%\n",
       ":   2.925668475%\n",
       ":   3.628736\n",
       "\n"
      ],
      "text/plain": [
       "     25%      75% \n",
       "2.925668 3.628736 "
      ]
     },
     "metadata": {},
     "output_type": "display_data"
    }
   ],
   "source": [
    "quantile(weight,c(0.25,0.75))"
   ]
  },
  {
   "cell_type": "code",
   "execution_count": 93,
   "metadata": {},
   "outputs": [
    {
     "data": {
      "image/png": "[encoded data removed]",
      "text/plain": [
       "Plot with title “Peso al nacer”"
      ]
     },
     "metadata": {
      "image/png": {
       "height": 360,
       "width": 480
      },
      "text/plain": {
       "height": 360,
       "width": 480
      }
     },
     "output_type": "display_data"
    }
   ],
   "source": [
    "boxplot(weight,main=\"Peso al nacer\")"
   ]
  },
  {
   "cell_type": "code",
   "execution_count": 94,
   "metadata": {},
   "outputs": [
    {
     "data": {
      "image/png": "[encoded data removed]",
      "text/plain": [
       "plot without title"
      ]
     },
     "metadata": {
      "image/png": {
       "height": 360,
       "width": 480
      },
      "text/plain": {
       "height": 360,
       "width": 480
      }
     },
     "output_type": "display_data"
    }
   ],
   "source": [
    "library(ggplot2)\n",
    "ggplot(bwt,aes(y=Birthweight))+geom_boxplot(color=\"red\")"
   ]
  },
  {
   "cell_type": "code",
   "execution_count": 95,
   "metadata": {},
   "outputs": [
    {
     "data": {
      "image/png": "[encoded data removed]",
      "text/plain": [
       "plot without title"
      ]
     },
     "metadata": {
      "image/png": {
       "height": 360,
       "width": 480
      },
      "text/plain": {
       "height": 360,
       "width": 480
      }
     },
     "output_type": "display_data"
    }
   ],
   "source": [
    "ggplot(bwt,aes(x=Birthweight))+geom_histogram(bins=10,color=\"red\",fill=\"blue\")"
   ]
  },
  {
   "cell_type": "code",
   "execution_count": 102,
   "metadata": {},
   "outputs": [
    {
     "data": {
      "image/png": "[encoded data removed]",
      "text/plain": [
       "plot without title"
      ]
     },
     "metadata": {
      "image/png": {
       "height": 360,
       "width": 480
      },
      "text/plain": {
       "height": 360,
       "width": 480
      }
     },
     "output_type": "display_data"
    }
   ],
   "source": [
    "ggplot(bwt,aes(x=Birthweight))+geom_density(color=\"red\",fill=\"blue\",bw=0.8)"
   ]
  },
  {
   "cell_type": "code",
   "execution_count": null,
   "metadata": {},
   "outputs": [],
   "source": []
  }
 ],
 "metadata": {
  "kernelspec": {
   "display_name": "R",
   "language": "R",
   "name": "ir"
  },
  "language_info": {
   "codemirror_mode": "r",
   "file_extension": ".r",
   "mimetype": "text/x-r-source",
   "name": "R",
   "pygments_lexer": "r",
   "version": "3.6.0"
  }
 },
 "nbformat": 4,
 "nbformat_minor": 1
}
