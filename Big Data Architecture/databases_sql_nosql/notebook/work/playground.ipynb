{
 "cells": [
  {
   "cell_type": "markdown",
   "metadata": {},
   "source": [
    "# Query Time!"
   ]
  },
  {
   "cell_type": "markdown",
   "metadata": {},
   "source": [
    "Comparemos operaciones parecidas en ambas bases de datos."
   ]
  },
  {
   "cell_type": "markdown",
   "metadata": {},
   "source": [
    "## Primero hagamos un setup"
   ]
  },
  {
   "cell_type": "code",
   "execution_count": null,
   "metadata": {},
   "outputs": [],
   "source": [
    "import psycopg2\n",
    "conn = psycopg2.connect(\"dbname=dota user=dota password=dota host=psql\")\n",
    "postgres = conn.cursor()"
   ]
  },
  {
   "cell_type": "code",
   "execution_count": null,
   "metadata": {},
   "outputs": [],
   "source": [
    "from pymongo import MongoClient\n",
    "from pprint import pprint\n",
    "client = MongoClient('mongodb', 27017)\n",
    "mongodb = client.dota"
   ]
  },
  {
   "cell_type": "markdown",
   "metadata": {},
   "source": [
    "## Simple query\n",
    "Postgres:"
   ]
  },
  {
   "cell_type": "code",
   "execution_count": null,
   "metadata": {
    "scrolled": true
   },
   "outputs": [],
   "source": [
    "postgres.execute(\"SELECT * FROM heroes WHERE name = 'Tiny'\")\n",
    "postgres.fetchone()"
   ]
  },
  {
   "cell_type": "markdown",
   "metadata": {},
   "source": [
    "MongoDB:"
   ]
  },
  {
   "cell_type": "code",
   "execution_count": null,
   "metadata": {},
   "outputs": [],
   "source": [
    "mongodb.heroes.find_one({\"name\": \"Tiny\"})"
   ]
  },
  {
   "cell_type": "markdown",
   "metadata": {},
   "source": [
    "## Query con LIKE\n",
    "Postgres:"
   ]
  },
  {
   "cell_type": "code",
   "execution_count": null,
   "metadata": {
    "scrolled": true
   },
   "outputs": [],
   "source": [
    "postgres.execute(\"SELECT * FROM items WHERE description like '%blade%'\")\n",
    "postgres.fetchone()"
   ]
  },
  {
   "cell_type": "markdown",
   "metadata": {},
   "source": [
    "MongoDB:"
   ]
  },
  {
   "cell_type": "code",
   "execution_count": null,
   "metadata": {},
   "outputs": [],
   "source": [
    "mongodb.items.find_one({\"description\": {\"$regex\": u\".*blade.*\"}})\n",
    "## Also possible: db.items.find({\"description\": /.*blade.*/}), only on mongo cli"
   ]
  },
  {
   "cell_type": "markdown",
   "metadata": {},
   "source": [
    "## Query con > (greater than)\n",
    "Postgres:"
   ]
  },
  {
   "cell_type": "code",
   "execution_count": null,
   "metadata": {
    "scrolled": true
   },
   "outputs": [],
   "source": [
    "postgres.execute(\"SELECT * FROM items WHERE cost > 5000\")\n",
    "postgres.fetchone()"
   ]
  },
  {
   "cell_type": "markdown",
   "metadata": {},
   "source": [
    "MongoDB:"
   ]
  },
  {
   "cell_type": "code",
   "execution_count": null,
   "metadata": {},
   "outputs": [],
   "source": [
    "mongodb.items.find_one({\"cost\": {\"$gt\": 5000}})\n",
    "# In cli: db.items.find({\"cost\": {$gt: 500}})"
   ]
  },
  {
   "cell_type": "markdown",
   "metadata": {},
   "source": [
    "## Count\n",
    "Postgres:"
   ]
  },
  {
   "cell_type": "code",
   "execution_count": null,
   "metadata": {
    "scrolled": true
   },
   "outputs": [],
   "source": [
    "postgres.execute(\"SELECT COUNT(*) FROM heroes\")\n",
    "postgres.fetchone()"
   ]
  },
  {
   "cell_type": "markdown",
   "metadata": {},
   "source": [
    "MongoDB:"
   ]
  },
  {
   "cell_type": "code",
   "execution_count": null,
   "metadata": {},
   "outputs": [],
   "source": [
    "mongodb.heroes.find().count()"
   ]
  },
  {
   "cell_type": "markdown",
   "metadata": {},
   "source": [
    "## Nuevas colecciones/tablas\n",
    "Postgres:"
   ]
  },
  {
   "cell_type": "code",
   "execution_count": null,
   "metadata": {
    "scrolled": true
   },
   "outputs": [],
   "source": [
    "postgres.execute(\"\"\"\n",
    "CREATE TABLE quests(\n",
    "   ID           INT PRIMARY KEY NOT NULL,\n",
    "   name         CHAR(50) NOT NULL,\n",
    "   description  CHAR(250) NOT NULL,\n",
    "   exp          INT NOT NULL\n",
    ")\"\"\")\n",
    "conn.commit()\n",
    "\n",
    "\n",
    "postgres.execute(\"SELECT * FROM quests\")\n",
    "postgres.fetchone()"
   ]
  },
  {
   "cell_type": "markdown",
   "metadata": {},
   "source": [
    "MongoDB:"
   ]
  },
  {
   "cell_type": "code",
   "execution_count": null,
   "metadata": {},
   "outputs": [],
   "source": [
    "mongodb.quests.insert_one({\n",
    "    \"name\": \"find sword\",\n",
    "    \"description\": \"Find the hidden sword\",\n",
    "    \"exp\": 500\n",
    "    })\n",
    "mongodb.quests.find_one()"
   ]
  },
  {
   "cell_type": "markdown",
   "metadata": {},
   "source": [
    "## Insertar datos\n",
    "Postgres:"
   ]
  },
  {
   "cell_type": "code",
   "execution_count": null,
   "metadata": {
    "scrolled": true
   },
   "outputs": [],
   "source": [
    "conn.rollback()\n",
    "postgres.execute(\"\"\"\n",
    "INSERT INTO quests (id, name, description, exp) VALUES (1, 'find sword', 'Find the hidden sword', 500)\n",
    "\"\"\")\n",
    "conn.commit()\n",
    "\n",
    "postgres.execute(\"select * from quests\")\n",
    "postgres.fetchone()"
   ]
  },
  {
   "cell_type": "markdown",
   "metadata": {},
   "source": [
    "MongoDB:"
   ]
  },
  {
   "cell_type": "code",
   "execution_count": null,
   "metadata": {},
   "outputs": [],
   "source": [
    "mongodb.quests.insert_many([\n",
    "    {\n",
    "    \"name\": \"find armor\",\n",
    "    \"description\": \"Find the hidden armor\",\n",
    "    \"exp\": 1000\n",
    "    },\n",
    "    {\n",
    "    \"name\": \"find helmet\",\n",
    "    \"description\": \"Find the hidden helmet\",\n",
    "    \"exp\": 200\n",
    "    },\n",
    "])\n",
    "mongodb.quests.find_one({\"name\": \"find armor\"})"
   ]
  },
  {
   "cell_type": "markdown",
   "metadata": {},
   "source": [
    "__NOTA:__ Los documentos en MongoDB no tienen restricciones de insercion por primary key (se duplican)."
   ]
  },
  {
   "cell_type": "markdown",
   "metadata": {},
   "source": [
    "## Joins\n",
    "Postgres:"
   ]
  },
  {
   "cell_type": "code",
   "execution_count": null,
   "metadata": {
    "scrolled": true
   },
   "outputs": [],
   "source": [
    "conn.rollback()\n",
    "postgres.execute(\"\"\"\n",
    "SELECT * \n",
    "    FROM heroes \n",
    "    LEFT JOIN skills on skills.hero_id = heroes.id\n",
    "    WHERE heroes.name = 'Pugna'\n",
    "\"\"\")\n",
    "heroes_skills = postgres.fetchall()\n",
    "\n",
    "for hero in heroes_skills:\n",
    "    pprint(hero)"
   ]
  },
  {
   "cell_type": "markdown",
   "metadata": {},
   "source": [
    "MongoDB:"
   ]
  },
  {
   "cell_type": "code",
   "execution_count": null,
   "metadata": {},
   "outputs": [],
   "source": [
    "mongodb.heroes.find_one(\n",
    "    {\n",
    "    \"name\": \"Pugna\"\n",
    "    })"
   ]
  },
  {
   "cell_type": "markdown",
   "metadata": {},
   "source": [
    "## Modificar tablas - Anadir columnas\n",
    "Postgres:"
   ]
  },
  {
   "cell_type": "code",
   "execution_count": null,
   "metadata": {
    "scrolled": true
   },
   "outputs": [],
   "source": [
    "conn.rollback()\n",
    "postgres.execute(\"\"\"\n",
    "ALTER TABLE heroes ADD COLUMN items varchar(300) DEFAULT ''\n",
    "\"\"\")\n",
    "conn.commit()"
   ]
  },
  {
   "cell_type": "code",
   "execution_count": null,
   "metadata": {},
   "outputs": [],
   "source": [
    "postgres.execute(\"\"\"\n",
    "UPDATE heroes SET items = 'Teleport Scroll, magic wand, sword' WHERE name = 'Tiny'\n",
    "\"\"\")\n",
    "conn.commit()\n",
    "\n",
    "postgres.execute(\"select * from heroes where name = 'Tiny'\")\n",
    "postgres.fetchone()"
   ]
  },
  {
   "cell_type": "markdown",
   "metadata": {},
   "source": [
    "MongoDB:"
   ]
  },
  {
   "cell_type": "code",
   "execution_count": null,
   "metadata": {},
   "outputs": [],
   "source": [
    "mongodb.heroes.update_one(\n",
    "\t{\"name\": \"Tiny\"}, \n",
    "\t{\"$set\": {\"items\": \"Teleport Scroll, magic wand, sword\"}}\n",
    ")\n",
    "mongodb.heroes.find_one({\"name\": \"Tiny\"})"
   ]
  },
  {
   "cell_type": "markdown",
   "metadata": {},
   "source": [
    "## Relacionar datos nuevos entre tablas/colecciones\n",
    "Postgres:"
   ]
  },
  {
   "cell_type": "code",
   "execution_count": null,
   "metadata": {
    "scrolled": true
   },
   "outputs": [],
   "source": [
    "# conn.rollback()\n",
    "# postgres.execute(\"\"\"\n",
    "# CREATE TABLE public.heroes_items\n",
    "# (\n",
    "#   id integer NOT NULL DEFAULT nextval('heroes_items_id_seq'::regclass),\n",
    "#   hero_id integer,\n",
    "#   item_id integer,\n",
    "#   obtained timestamp without time zone,\n",
    "#   CONSTRAINT heroes_items_pkey PRIMARY KEY (id),\n",
    "#   CONSTRAINT heroes_items_hero_id_fkey FOREIGN KEY (hero_id)\n",
    "#       REFERENCES public.heroes (id) MATCH SIMPLE\n",
    "#       ON UPDATE NO ACTION ON DELETE NO ACTION,\n",
    "#   CONSTRAINT heroes_items_item_id_fkey FOREIGN KEY (item_id)\n",
    "#       REFERENCES public.items (id) MATCH SIMPLE\n",
    "#       ON UPDATE NO ACTION ON DELETE NO ACTION\n",
    "# )\n",
    "# \"\"\")\n",
    "# conn.commit()"
   ]
  },
  {
   "cell_type": "code",
   "execution_count": null,
   "metadata": {},
   "outputs": [],
   "source": [
    "conn.rollback()\n",
    "postgres.execute(\"\"\"\n",
    "INSERT into heroes_items (hero_id, item_id) VALUES (33, 26)  \n",
    "\"\"\")\n",
    "conn.commit()\n",
    "\n",
    "postgres.execute(\"select * from heroes_items\")\n",
    "postgres.fetchone()"
   ]
  },
  {
   "cell_type": "code",
   "execution_count": null,
   "metadata": {},
   "outputs": [],
   "source": [
    "postgres.execute(\"\"\"\n",
    "    SELECT * FROM heroes \n",
    "    LEFT JOIN heroes_items ON heroes.id = heroes_items.hero_id \n",
    "    LEFT JOIN items ON heroes_items.item_id = items.id\n",
    "    WHERE heroes.id = 33;\n",
    "\"\"\")\n",
    "postgres.fetchone()"
   ]
  },
  {
   "cell_type": "markdown",
   "metadata": {},
   "source": [
    "MongoDB:"
   ]
  },
  {
   "cell_type": "code",
   "execution_count": null,
   "metadata": {},
   "outputs": [],
   "source": [
    "mongodb.heroes.update_one(\n",
    "\t{\"name\": \"Visage\"}, \n",
    "\t{\"$push\": {\"items\": mongodb.items.find_one({\"name\": \"Blades_of_Attack\"})}}\n",
    ")\n",
    "mongodb.heroes.find_one({\"name\": \"Visage\"})"
   ]
  },
  {
   "cell_type": "markdown",
   "metadata": {},
   "source": [
    "## Modificar datos existentes\n",
    "Postgres:"
   ]
  },
  {
   "cell_type": "code",
   "execution_count": null,
   "metadata": {
    "scrolled": true
   },
   "outputs": [],
   "source": [
    "conn.rollback()\n",
    "postgres.execute(\"\"\"\n",
    "    UPDATE items SET name = 'MEGA SWORD' WHERE name = 'Sacred_Relic'\n",
    "\"\"\")\n",
    "conn.commit()"
   ]
  },
  {
   "cell_type": "code",
   "execution_count": null,
   "metadata": {},
   "outputs": [],
   "source": [
    "postgres.execute(\"\"\"\n",
    "    SELECT * FROM heroes \n",
    "    LEFT JOIN heroes_items ON heroes.id = heroes_items.hero_id \n",
    "    LEFT JOIN items ON heroes_items.item_id = items.id\n",
    "    WHERE heroes.id = 33\n",
    "\"\"\")\n",
    "postgres.fetchone()"
   ]
  },
  {
   "cell_type": "markdown",
   "metadata": {},
   "source": [
    "MongoDB:"
   ]
  },
  {
   "cell_type": "code",
   "execution_count": null,
   "metadata": {},
   "outputs": [],
   "source": [
    "mongodb.heroes.update_one(\n",
    "\t{\"name\": \"Visage\"}, \n",
    "\t{\"$pull\": {\"items\": {\"name\": \"Blades_of_Attack\"}}}\n",
    ")\n",
    "mongodb.heroes.find_one(\n",
    "    {\n",
    "    \"name\": \"Visage\"\n",
    "    })"
   ]
  },
  {
   "cell_type": "code",
   "execution_count": null,
   "metadata": {},
   "outputs": [],
   "source": [
    "mongodb.items.update_one(\n",
    "\t{\"name\": \"Blades_of_Attack\"}, \n",
    "\t{\"$set\": {\"name\": \"MEGA Blades of Attack\"}}\n",
    ")\n",
    "mongodb.items.find_one({\"name\": \"MEGA Blades of Attack\"})"
   ]
  },
  {
   "cell_type": "code",
   "execution_count": null,
   "metadata": {},
   "outputs": [],
   "source": [
    "mongodb.heroes.update_one(\n",
    "\t{\"name\": \"Visage\"}, \n",
    "\t{\"$push\": {\"items\": mongodb.items.find_one({\"name\": \"MEGA Blades of Attack\"})}}\n",
    ")\n",
    "mongodb.heroes.find_one(\n",
    "    {\n",
    "    \"name\": \"Visage\"\n",
    "    })"
   ]
  },
  {
   "cell_type": "markdown",
   "metadata": {},
   "source": [
    "## Borrar Elementos\n",
    "Postgres:"
   ]
  },
  {
   "cell_type": "code",
   "execution_count": null,
   "metadata": {
    "scrolled": true
   },
   "outputs": [],
   "source": [
    "conn.rollback()\n",
    "postgres.execute(\"\"\"\n",
    "DELETE FROM items WHERE id = 26\n",
    "\"\"\")\n",
    "conn.commit()"
   ]
  },
  {
   "cell_type": "markdown",
   "metadata": {},
   "source": [
    "__NOTA:__ Al fallar, lo ideal seria cambiar el constraint:\n",
    "```\n",
    "ALTER TABLE table_y   \n",
    "    DROP CONSTRAINT constraint_name,   \n",
    "    ADD CONSTRAINT constraint_name FOREIGN KEY (column_in_table_y)\n",
    "          REFERENCES table_x (referenced_column_in_table_x) ON DELETE CASCADE;\n",
    "```"
   ]
  },
  {
   "cell_type": "markdown",
   "metadata": {},
   "source": [
    "MongoDB:"
   ]
  },
  {
   "cell_type": "code",
   "execution_count": null,
   "metadata": {},
   "outputs": [],
   "source": [
    "mongodb.items.delete_one( {\"name\": \"MEGA Blades of Attack\"} )\n",
    "mongodb.heroes.find_one(\n",
    "    {\n",
    "    \"name\": \"Visage\"\n",
    "    })"
   ]
  },
  {
   "cell_type": "code",
   "execution_count": null,
   "metadata": {},
   "outputs": [],
   "source": [
    "mongodb.heroes.update_one(\n",
    "\t{\"name\": \"Visage\"}, \n",
    "\t{\"$pull\": {\"items\": {\"name\": \"MEGA Blades of Attack\"}}}\n",
    ")\n",
    "mongodb.heroes.find_one(\n",
    "    {\n",
    "    \"name\": \"Visage\"\n",
    "    })"
   ]
  },
  {
   "cell_type": "markdown",
   "metadata": {},
   "source": [
    "## Agrupar / GROUP BY / ORDER BY\n",
    "Postgres:"
   ]
  },
  {
   "cell_type": "code",
   "execution_count": null,
   "metadata": {
    "scrolled": true
   },
   "outputs": [],
   "source": [
    "conn.rollback()\n",
    "postgres.execute(\"\"\"\n",
    "SELECT type, count(*) FROM heroes GROUP BY type ORDER BY type DESC;\n",
    "\"\"\")\n",
    "hero_types = postgres.fetchall()\n",
    "\n",
    "for hero in hero_types:\n",
    "    pprint(hero)"
   ]
  },
  {
   "cell_type": "markdown",
   "metadata": {},
   "source": [
    "MongoDB:"
   ]
  },
  {
   "cell_type": "code",
   "execution_count": null,
   "metadata": {},
   "outputs": [],
   "source": [
    "aggregation = mongodb.heroes.aggregate([\n",
    "    {\"$group\" : {\"_id\": \"$type\", \"count\": {\"$sum\": 1}}}\n",
    "])\n",
    "for results in aggregation:\n",
    "    print(results)"
   ]
  },
  {
   "cell_type": "markdown",
   "metadata": {},
   "source": [
    "## EXTRA! MAP REDUCE!"
   ]
  },
  {
   "cell_type": "markdown",
   "metadata": {},
   "source": [
    "Se pueden efectuar operaciones de tipo map reduce tanto en mongo como en postgresql, aunque el idioma difiere bastante.  \n",
    "\n",
    "Veamos Postgres primero:"
   ]
  },
  {
   "cell_type": "code",
   "execution_count": null,
   "metadata": {},
   "outputs": [],
   "source": [
    "conn.rollback()\n",
    "postgres.execute(\"\"\"CREATE EXTENSION pg_trgm;\"\"\")\n",
    "postgres.execute(\"\"\"\n",
    "    with heroes as (\n",
    "        select id, name\n",
    "        from heroes\n",
    "    )\n",
    "    select similarity('alche', name), *\n",
    "        from heroes\n",
    "    order by 1 desc\n",
    "\"\"\")\n",
    "results = postgres.fetchall()\n",
    "\n",
    "for similar_hero in results:\n",
    "    print(similar_hero)"
   ]
  },
  {
   "cell_type": "markdown",
   "metadata": {},
   "source": [
    "Para MongoDB mejor utilicemos la consola:\n",
    "\n",
    "```\n",
    "db.heroes.mapReduce(\n",
    "    function(){\n",
    "        var name = this.name;\n",
    "        for (var idx = 0; idx < this.skills.length; idx++) {\n",
    "                           emit(name, this.skills[idx].description);\n",
    "                       }\n",
    "    },\n",
    "    function(key, values) {return values.length},\n",
    "    {\n",
    "        query: {},\n",
    "        out: \"total_skills\"\n",
    "    }\n",
    "    )\n",
    "\n",
    "db.heroes.mapReduce(\n",
    "    function(){\n",
    "        var name = this.name;\n",
    "        if (this.items == null) {\n",
    "            emit(name, 0);\n",
    "            return;\n",
    "        }\n",
    "        for (var idx = 0; idx < this.items.length; idx++) {\n",
    "                           emit(name, this.items[idx].cost);\n",
    "                       }\n",
    "    },\n",
    "    function(key, values) {return Array.sum(values)},\n",
    "    {\n",
    "        query: {},\n",
    "        out: \"total_skills\"\n",
    "    }\n",
    "    )\n",
    "\n",
    "```"
   ]
  },
  {
   "cell_type": "code",
   "execution_count": null,
   "metadata": {},
   "outputs": [],
   "source": [
    "#.find().sort({\"value\": -1})"
   ]
  }
 ],
 "metadata": {
  "kernelspec": {
   "display_name": "Python 3",
   "language": "python",
   "name": "python3"
  },
  "language_info": {
   "codemirror_mode": {
    "name": "ipython",
    "version": 3
   },
   "file_extension": ".py",
   "mimetype": "text/x-python",
   "name": "python",
   "nbconvert_exporter": "python",
   "pygments_lexer": "ipython3",
   "version": "3.7.3"
  }
 },
 "nbformat": 4,
 "nbformat_minor": 2
}
