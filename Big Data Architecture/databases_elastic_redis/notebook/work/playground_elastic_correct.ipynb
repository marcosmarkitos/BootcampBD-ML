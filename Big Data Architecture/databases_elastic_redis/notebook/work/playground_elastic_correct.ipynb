{
 "cells": [
  {
   "cell_type": "markdown",
   "metadata": {},
   "source": [
    "# Elasticsearch queries\n",
    "\n",
    "Repasemos las posibles queries que ofrece elastic, desde las mas comunes hasta algunas mas complejas.  \n",
    "\n",
    "## Setup\n",
    "\n",
    "Lo primero es declarar el cliente y un par de metodos para facilitar los ejemplos."
   ]
  },
  {
   "cell_type": "code",
   "execution_count": null,
   "metadata": {},
   "outputs": [],
   "source": [
    "from elasticsearch import Elasticsearch\n",
    "from dateutil.parser import parse as parse_date\n",
    "\n",
    "\n",
    "es = Elasticsearch(\"http://elasticsearch:9200\")\n",
    "es.info()\n",
    "\n",
    "def print_hits(results):\n",
    "    \" Simple utility function to print results of a search query. \"\n",
    "    print_search_stats(results)\n",
    "    for hit in results['hits']['hits']:\n",
    "        # get created date for a repo and fallback to authored_date for a commit\n",
    "        print('/%s/%s/%s [%s]: |%s| %s - %s' % (\n",
    "                hit['_index'], hit['_type'], hit['_id'], hit['_score'],\n",
    "                hit['_source']['play_name'].split('\\n')[0],\n",
    "                hit['_source']['speaker'].split('\\n')[0],\n",
    "                hit['_source']['text_entry']))\n",
    "\n",
    "    print('=' * 80)\n",
    "def print_search_stats(results):\n",
    "    print('=' * 80)\n",
    "    print('Total %d found in %dms' % (results['hits']['total'], results['took']))\n",
    "    print('-' * 80)\n",
    "\n",
    "def search_query(query):\n",
    "    \"\"\"Executes a call to elastic via q param\"\"\"\n",
    "    print_hits(es.search(index='shakespeare', params={\"q\": query}))\n",
    "\n",
    "\n",
    "def search_query_body(body):\n",
    "    \"\"\"Executes a call to elastic via q param\"\"\"\n",
    "    print_hits(es.search(index='shakespeare', body=body))"
   ]
  },
  {
   "cell_type": "markdown",
   "metadata": {},
   "source": [
    "## Busquedas\n",
    "\n",
    "### Buscar en el campo `_all`\n",
    "\n",
    "Elastic permite hacer una busqueda en todos los campos a la vez, gracias a  \n",
    "un campo especial llamado `_all` disponible en las queries:"
   ]
  },
  {
   "cell_type": "code",
   "execution_count": null,
   "metadata": {},
   "outputs": [],
   "source": [
    "search_query(\"love\")"
   ]
  },
  {
   "cell_type": "markdown",
   "metadata": {},
   "source": [
    "### Busqueda por campos\n",
    "\n",
    "Tambien podemos hacer busquedas directas en cada campo:"
   ]
  },
  {
   "cell_type": "code",
   "execution_count": null,
   "metadata": {},
   "outputs": [],
   "source": [
    "search_query(\"speaker:(ROMEO OR JULIET)\")"
   ]
  },
  {
   "cell_type": "code",
   "execution_count": null,
   "metadata": {},
   "outputs": [],
   "source": [
    "search_query(\"speaker:(ROMEO OR JULIET) AND NOT speaker:JULIET\")"
   ]
  },
  {
   "cell_type": "markdown",
   "metadata": {},
   "source": [
    "### Busqueda con boosts\n",
    "\n",
    "Tambien podemos hacer busquedas con ciertos campos potenciados:"
   ]
  },
  {
   "cell_type": "code",
   "execution_count": null,
   "metadata": {},
   "outputs": [],
   "source": [
    "search_query(\"text_entry:love AND (speaker:ROMEO^5 OR speaker:JULIET)\")"
   ]
  },
  {
   "cell_type": "markdown",
   "metadata": {},
   "source": [
    "### Busqueda con comodines o wildcards\n",
    "\n",
    "Tambien podemos hacer busquedas con comodines dentro de campos:"
   ]
  },
  {
   "cell_type": "code",
   "execution_count": null,
   "metadata": {},
   "outputs": [],
   "source": [
    "search_query(\"play_name:ot?ello\")"
   ]
  },
  {
   "cell_type": "code",
   "execution_count": null,
   "metadata": {},
   "outputs": [],
   "source": [
    "search_query(\"play_name:K* AND NOT play_name:*John*\")"
   ]
  },
  {
   "cell_type": "code",
   "execution_count": null,
   "metadata": {},
   "outputs": [],
   "source": [
    "search_query(\"text_entry:kil? AND speaker:(*king*^4)\")"
   ]
  },
  {
   "cell_type": "markdown",
   "metadata": {},
   "source": [
    "### Busqueda con Fuzziness\n",
    "\n",
    "Tambien podemos hacer busquedas con fuzzyness:"
   ]
  },
  {
   "cell_type": "code",
   "execution_count": null,
   "metadata": {},
   "outputs": [],
   "source": [
    "search_query(\"text_entry:inocent~1\")"
   ]
  },
  {
   "cell_type": "code",
   "execution_count": null,
   "metadata": {},
   "outputs": [],
   "source": [
    "search_query_body({\n",
    "  \"query\": {\n",
    "    \"query_string\": {\n",
    "      \"query\": \"love AND (NOT play_name:\\\"Romeo and Juliet\\\")\"\n",
    "    }\n",
    "  }\n",
    "})"
   ]
  },
  {
   "cell_type": "markdown",
   "metadata": {},
   "source": [
    "## Indexes y maps\n",
    "\n",
    "Antes de insertar datos es recomendable siempre crear el indice y sus mapeos:"
   ]
  },
  {
   "cell_type": "code",
   "execution_count": null,
   "metadata": {},
   "outputs": [],
   "source": [
    "es.indices.create(index='documents_february', body={\n",
    "  \"settings\": {\n",
    "    \"number_of_replicas\": 1,\n",
    "    \"number_of_shards\": 3,\n",
    "    \"analysis\": {},\n",
    "    \"refresh_interval\": \"1s\"\n",
    "  },\n",
    "  \"mappings\": {\n",
    "    \"document\": {\n",
    "      \"properties\": {\n",
    "        \"title\": {\n",
    "          \"type\": \"text\",\n",
    "          \"analyzer\": \"english\"\n",
    "        }\n",
    "      }\n",
    "    }\n",
    "  }\n",
    "})\n",
    "# DEPRECATED! 1 type in elastic > 6.0.0"
   ]
  },
  {
   "cell_type": "markdown",
   "metadata": {},
   "source": [
    "Esto es equivalente a:\n",
    "```\n",
    "PUT /documents\n",
    "{\n",
    "  \"settings\": {\n",
    "    \"number_of_replicas\": 1,\n",
    "    \"number_of_shards\": 3,\n",
    "    \"analysis\": {},\n",
    "    \"refresh_interval\": \"1s\"\n",
    "  },\n",
    "  \"mappings\": {\n",
    "    \"title_text\": {\n",
    "      \"properties\": {\n",
    "        \"title\": {\n",
    "          \"type\": \"text\",\n",
    "          \"analyzer\": \"english\"\n",
    "        }\n",
    "      }\n",
    "    }\n",
    "  }\n",
    "}\n",
    "```"
   ]
  },
  {
   "cell_type": "code",
   "execution_count": null,
   "metadata": {},
   "outputs": [],
   "source": [
    "es.indices.get(\"documents_february\")\n",
    "# Equivalente a GET /documents_february [_settings|_mappings]"
   ]
  },
  {
   "cell_type": "markdown",
   "metadata": {},
   "source": [
    "### Modificar tipos"
   ]
  },
  {
   "cell_type": "code",
   "execution_count": null,
   "metadata": {},
   "outputs": [],
   "source": [
    "es.indices.put_mapping(index='documents_february', doc_type='document', body={\n",
    "  \"document\": {\n",
    "    \"properties\": {\n",
    "      \"content\": {\n",
    "          \"type\": \"text\",\n",
    "          \"analyzer\": \"english\"\n",
    "      },\n",
    "    }\n",
    "  }\n",
    "})\n",
    "es.indices.put_mapping(index='documents_february', doc_type='document', body={\n",
    "  \"document\": {\n",
    "    \"properties\": {\n",
    "      \"tag\": {\n",
    "          \"type\": \"keyword\"\n",
    "      },\n",
    "    }\n",
    "  }\n",
    "})\n",
    "es.indices.get(\"documents_february\")"
   ]
  },
  {
   "cell_type": "markdown",
   "metadata": {},
   "source": [
    "Esto es equivalente a:\n",
    "    ```\n",
    "    PUT /documents_february/_mapping/document\n",
    "    {\n",
    "      \"document\": {\n",
    "        \"properties\": {\n",
    "          \"tag\": {\n",
    "            \"type\": \"keyword\"\n",
    "          }\n",
    "        }\n",
    "      }\n",
    "    }\n",
    "    ```\n",
    "    \n",
    "## Manejo de documentos\n",
    "\n",
    "Hagamos CRUD sobre documentos:"
   ]
  },
  {
   "cell_type": "code",
   "execution_count": null,
   "metadata": {},
   "outputs": [],
   "source": [
    "es.create(index='documents_february', doc_type='document', id=0, body={\n",
    "    \"title\": \"New Document\",\n",
    "    \"content\": \"This is a new document for the master class\",\n",
    "    \"tag\": [\"general\", \"testing\"]\n",
    "})"
   ]
  },
  {
   "cell_type": "markdown",
   "metadata": {},
   "source": [
    "Equivalente a:\n",
    "```\n",
    "PUT /documents_february/document/1\n",
    "{\n",
    "  \"title\": \"New Document\",\n",
    "  \"content\": \"This is a new document for the master class\",\n",
    "  \"tag\": [\n",
    "    \"testing\"\n",
    "  ]\n",
    "}\n",
    "-----\n",
    "\n",
    "POST /documents_february/document\n",
    "{\n",
    "  \"title\": \"New Document\",\n",
    "  \"content\": \"This is a new document for the master class\",\n",
    "  \"tag\": [\n",
    "    \"testing\"\n",
    "  ]\n",
    "}\n",
    "```\n",
    "\n",
    "### Lectura"
   ]
  },
  {
   "cell_type": "code",
   "execution_count": null,
   "metadata": {},
   "outputs": [],
   "source": [
    "es.get(index='documents_february', doc_type='document', id=0)"
   ]
  },
  {
   "cell_type": "markdown",
   "metadata": {},
   "source": [
    "Equivalente a:\n",
    "```\n",
    "GET /documents_february/document/0\n",
    "```\n",
    "\n",
    "### Borrado"
   ]
  },
  {
   "cell_type": "code",
   "execution_count": null,
   "metadata": {},
   "outputs": [],
   "source": [
    "es.delete(index='documents_february', doc_type='document', id=0)"
   ]
  },
  {
   "cell_type": "markdown",
   "metadata": {},
   "source": [
    "Equivalente a:\n",
    "```\n",
    "DELETE /documents_february/document/0\n",
    "```"
   ]
  },
  {
   "cell_type": "markdown",
   "metadata": {},
   "source": [
    "## Agregacion y Queries complejas\n",
    "\n",
    "Elastic permite, gracias a su API de agregacion, realizar queries mas complejas:\n",
    "\n",
    "```\n",
    "POST /_search\n",
    "\n",
    "{\n",
    "    \"size\":0,\n",
    "    \"aggs\" : {\n",
    "        \"Popular plays\" : {\n",
    "            \"terms\" : {\n",
    "                \"field\" : \"play_name.keyword\"\n",
    "            }\n",
    "        }\n",
    "    }\n",
    "}\n",
    "\n",
    "-------\n",
    "{\n",
    "    \"size\":0,\n",
    "    \"aggs\" : {\n",
    "        \"Total plays\" : {\n",
    "            \"terms\" : {\n",
    "                \"field\" : \"play_name.keyword\"\n",
    "            },\n",
    "            \"aggs\" : {\n",
    "             \"Per type\" : {\n",
    "                 \"terms\" : {\n",
    "                     \"field\" : \"speaker.keyword\"\n",
    "                  }\n",
    "             }\n",
    "            }\n",
    "        }\n",
    "    }\n",
    "}\n",
    "\n",
    "-------\n",
    "{\n",
    "  \"query\": {\n",
    "    \"bool\": {\n",
    "      \"must\": [\n",
    "        {\n",
    "          \"match\": {\n",
    "            \"speaker\": \"*king*\"\n",
    "          }\n",
    "        }\n",
    "      ]\n",
    "    }\n",
    "  },\n",
    "  \"aggs\": {\n",
    "    \"my_agg\": {\n",
    "      \"terms\": {\n",
    "        \"field\": \"play_name.keyword\",\n",
    "        \"size\": 10\n",
    "      }\n",
    "    }\n",
    "  },\n",
    "  \"sort\": [\n",
    "    {\n",
    "      \"play_name.keyword\": {\n",
    "        \"order\": \"desc\"\n",
    "      }\n",
    "    }\n",
    "  ]\n",
    "}\n",
    "```"
   ]
  }
 ],
 "metadata": {
  "kernelspec": {
   "display_name": "Python 3",
   "language": "python",
   "name": "python3"
  },
  "language_info": {
   "codemirror_mode": {
    "name": "ipython",
    "version": 3
   },
   "file_extension": ".py",
   "mimetype": "text/x-python",
   "name": "python",
   "nbconvert_exporter": "python",
   "pygments_lexer": "ipython3",
   "version": "3.6.4"
  }
 },
 "nbformat": 4,
 "nbformat_minor": 2
}