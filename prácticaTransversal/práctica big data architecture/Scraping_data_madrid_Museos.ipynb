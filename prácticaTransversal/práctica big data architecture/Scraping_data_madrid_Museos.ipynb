{
  "nbformat": 4,
  "nbformat_minor": 0,
  "metadata": {
    "colab": {
      "name": "Scraping data madrid Museos.ipynb",
      "provenance": [],
      "collapsed_sections": []
    },
    "kernelspec": {
      "name": "python3",
      "display_name": "Python 3"
    }
  },
  "cells": [
    {
      "cell_type": "code",
      "metadata": {
        "id": "F-tLS9U7dNnb",
        "colab_type": "code",
        "colab": {}
      },
      "source": [
        "# importamos librerías\n",
        "import json\n",
        "import requests\n",
        "import time\n",
        "from google.colab import files\n",
        "\n",
        "# abrimos el fichero donde se van a volcar los datos\n",
        "filep = open('Museos Madrid.csv', 'w')\n",
        "\n",
        "# extraemos los datos del API REST datos.madrid.es\n",
        "response = requests.get(\"https://datos.madrid.es/egob/catalogo/201132-0-museos.json\", headers={'User-Agent': 'Mozilla/5.0 (Windows NT 10.0; Win64; x64) AppleWebKit/537.36 (KHTML, like Gecko) Chrome/79.0.3945.88 Safari/537.36'})\n",
        "    \n",
        "result = response.json()\n",
        "\n",
        "# añadimos la cabecera al fichero\n",
        "print(\"Nombre,URL info,Ciudad,Código postal,Dirección,Latitud,Longitud\", file=filep)\n",
        "\n",
        "# seleccionamos los datos de interés y los volcamos al fichero\n",
        "for element in result['@graph']:\n",
        "  latitude = 0\n",
        "  longitude = 0\n",
        "  if 'location' in element:\n",
        "    latitude = element['location']['latitude']\n",
        "    longitude = element['location']['longitude']\n",
        "  print(\"{},{},{},{},{},{},{}\".format(element['title'], element['relation'], element['address']['locality'], element['address']['postal-code'], element['address']['street-address'], latitude, longitude), file=filep)\n",
        " \n",
        "# cerramos y descargamos el fichero\n",
        "filep.close()\n",
        "files.download('Museos Madrid.csv')\n"
      ],
      "execution_count": 0,
      "outputs": []
    }
  ]
}