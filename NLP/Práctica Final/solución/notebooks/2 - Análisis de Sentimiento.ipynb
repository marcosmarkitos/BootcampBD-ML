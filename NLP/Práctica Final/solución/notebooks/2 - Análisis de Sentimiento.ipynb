{
 "cells": [
  {
   "cell_type": "code",
   "execution_count": 156,
   "metadata": {},
   "outputs": [],
   "source": [
    "import os\n",
    "import pandas as pd\n",
    "import numpy as np\n",
    "\n",
    "import matplotlib.pyplot as plt\n",
    "import matplotlib.cm as cm\n",
    "\n",
    "seed = 42"
   ]
  },
  {
   "cell_type": "markdown",
   "metadata": {},
   "source": [
    "# Carga de datos\n",
    "\n",
    "Para el presente ejercicio se utilizarán las siguientes categorías de productos anotados de reviews de Amazon:\n",
    "- Clothing\n",
    "- Office products\n",
    "- Video games\n",
    "\n",
    "Fuente de datos: http://jmcauley.ucsd.edu/data/amazon/"
   ]
  },
  {
   "cell_type": "code",
   "execution_count": 73,
   "metadata": {},
   "outputs": [],
   "source": [
    "datasets_path = '../datasets'\n",
    "\n",
    "clothing_json = 'reviews_Clothing_Shoes_and_Jewelry_5.json.gz'\n",
    "office_json = 'reviews_Office_Products_5.json.gz'\n",
    "videogames = 'reviews_Video_Games_5.json.gz'"
   ]
  },
  {
   "cell_type": "code",
   "execution_count": 34,
   "metadata": {},
   "outputs": [],
   "source": [
    "df_office = pd.read_json(os.path.join(datasets_path, office_json), lines=True, compression='gzip')\n",
    "df_clothing = pd.read_json(os.path.join(datasets_path, clothing_json), lines=True, compression='gzip')\n",
    "df_videogames = pd.read_json(os.path.join(datasets_path, videogames), lines=True, compression='gzip')"
   ]
  },
  {
   "cell_type": "markdown",
   "metadata": {},
   "source": [
    "# Trabajamos con la review (texto) y el overall (rating, o número de estrellas)"
   ]
  },
  {
   "cell_type": "code",
   "execution_count": 35,
   "metadata": {},
   "outputs": [],
   "source": [
    "df_clothing = df_clothing.dropna(subset=['reviewText', 'overall'])[['reviewText', 'overall']]\n",
    "df_office = df_office.dropna(subset=['reviewText', 'overall'])[['reviewText', 'overall']]\n",
    "df_videogames = df_videogames.dropna(subset=['reviewText', 'overall'])[['reviewText', 'overall']]"
   ]
  },
  {
   "cell_type": "code",
   "execution_count": 37,
   "metadata": {},
   "outputs": [
    {
     "data": {
      "text/html": [
       "<div>\n",
       "<style scoped>\n",
       "    .dataframe tbody tr th:only-of-type {\n",
       "        vertical-align: middle;\n",
       "    }\n",
       "\n",
       "    .dataframe tbody tr th {\n",
       "        vertical-align: top;\n",
       "    }\n",
       "\n",
       "    .dataframe thead th {\n",
       "        text-align: right;\n",
       "    }\n",
       "</style>\n",
       "<table border=\"1\" class=\"dataframe\">\n",
       "  <thead>\n",
       "    <tr style=\"text-align: right;\">\n",
       "      <th></th>\n",
       "      <th>reviewText</th>\n",
       "      <th>overall</th>\n",
       "    </tr>\n",
       "  </thead>\n",
       "  <tbody>\n",
       "    <tr>\n",
       "      <th>0</th>\n",
       "      <td>This is a great tutu and at a really great pri...</td>\n",
       "      <td>5</td>\n",
       "    </tr>\n",
       "    <tr>\n",
       "      <th>1</th>\n",
       "      <td>I bought this for my 4 yr old daughter for dan...</td>\n",
       "      <td>5</td>\n",
       "    </tr>\n",
       "    <tr>\n",
       "      <th>2</th>\n",
       "      <td>What can I say... my daughters have it in oran...</td>\n",
       "      <td>5</td>\n",
       "    </tr>\n",
       "    <tr>\n",
       "      <th>3</th>\n",
       "      <td>We bought several tutus at once, and they are ...</td>\n",
       "      <td>5</td>\n",
       "    </tr>\n",
       "    <tr>\n",
       "      <th>4</th>\n",
       "      <td>Thank you Halo Heaven great product for Little...</td>\n",
       "      <td>5</td>\n",
       "    </tr>\n",
       "  </tbody>\n",
       "</table>\n",
       "</div>"
      ],
      "text/plain": [
       "                                          reviewText  overall\n",
       "0  This is a great tutu and at a really great pri...        5\n",
       "1  I bought this for my 4 yr old daughter for dan...        5\n",
       "2  What can I say... my daughters have it in oran...        5\n",
       "3  We bought several tutus at once, and they are ...        5\n",
       "4  Thank you Halo Heaven great product for Little...        5"
      ]
     },
     "execution_count": 37,
     "metadata": {},
     "output_type": "execute_result"
    }
   ],
   "source": [
    "df_clothing.head()"
   ]
  },
  {
   "cell_type": "markdown",
   "metadata": {},
   "source": [
    "# Normalizamos el número de estrellas\n",
    "\n",
    "En función del número de estrellas las reviews serán etiquetadas como\n",
    "- **Negativas** (0): 1 ó 2 estrellas\n",
    "- **Positivas** (1): 4 ó 5 estrellas\n",
    "- **Neutrales** (2): 3 estrellas"
   ]
  },
  {
   "cell_type": "code",
   "execution_count": 38,
   "metadata": {},
   "outputs": [],
   "source": [
    "df_clothing.loc[:, 'sentiment'] = [0 if rank < 3 else 1 if rank > 3 else 2 for rank in df_clothing['overall']]\n",
    "df_office.loc[:, 'sentiment'] = [0 if rank < 3 else 1 if rank > 3 else 2 for rank in df_office['overall']]\n",
    "df_videogames.loc[:, 'sentiment'] = [0 if rank < 3 else 1 if rank > 3 else 2 for rank in df_videogames['overall']]"
   ]
  },
  {
   "cell_type": "markdown",
   "metadata": {},
   "source": [
    "# Trabajamos con un subset de cada corpus\n",
    "\n",
    "Balancear el dataset con respecto a la variable objetivo nos ayudará a obtener mejores resultados"
   ]
  },
  {
   "cell_type": "code",
   "execution_count": 52,
   "metadata": {},
   "outputs": [],
   "source": [
    "n_reviews_per_sentiment = 2500\n",
    "\n",
    "df_clothing = df_clothing.groupby('sentiment', group_keys=False).apply(lambda x: x.sample(min(len(x), n_reviews_per_sentiment)))\n",
    "df_office = df_office.groupby('sentiment', group_keys=False).apply(lambda x: x.sample(min(len(x), n_reviews_per_sentiment)))\n",
    "df_videogames = df_videogames.groupby('sentiment', group_keys=False).apply(lambda x: x.sample(min(len(x), n_reviews_per_sentiment)))"
   ]
  },
  {
   "cell_type": "code",
   "execution_count": 53,
   "metadata": {},
   "outputs": [
    {
     "data": {
      "image/png": "[encoded data removed]",
      "text/plain": [
       "<Figure size 576x288 with 1 Axes>"
      ]
     },
     "metadata": {
      "needs_background": "light"
     },
     "output_type": "display_data"
    },
    {
     "data": {
      "image/png": "[encoded data removed]",
      "text/plain": [
       "<Figure size 576x288 with 1 Axes>"
      ]
     },
     "metadata": {
      "needs_background": "light"
     },
     "output_type": "display_data"
    }
   ],
   "source": [
    "aux = pd.DataFrame(df_clothing['overall'].value_counts(sort=False).sort_index())\n",
    "ax = aux.plot(kind='bar', title='Overall ratings distribution (clothing)', figsize=(8, 4))\n",
    "\n",
    "aux = pd.DataFrame(df_clothing['sentiment'].value_counts(sort=False).sort_index())\n",
    "ax = aux.plot(kind='bar', title='Sentiment distribution (clothing)', figsize=(8, 4))"
   ]
  },
  {
   "cell_type": "code",
   "execution_count": 54,
   "metadata": {},
   "outputs": [
    {
     "data": {
      "image/png": "[encoded data removed]",
      "text/plain": [
       "<Figure size 576x288 with 1 Axes>"
      ]
     },
     "metadata": {
      "needs_background": "light"
     },
     "output_type": "display_data"
    },
    {
     "data": {
      "image/png": "[encoded data removed]",
      "text/plain": [
       "<Figure size 576x288 with 1 Axes>"
      ]
     },
     "metadata": {
      "needs_background": "light"
     },
     "output_type": "display_data"
    }
   ],
   "source": [
    "aux = pd.DataFrame(df_office['overall'].value_counts(sort=False).sort_index())\n",
    "ax = aux.plot(kind='bar', title='Overall ratings distribution (office)', figsize=(8, 4))\n",
    "\n",
    "aux = pd.DataFrame(df_office['sentiment'].value_counts(sort=False).sort_index())\n",
    "ax = aux.plot(kind='bar', title='Sentiment distribution (office)', figsize=(8, 4))"
   ]
  },
  {
   "cell_type": "code",
   "execution_count": 55,
   "metadata": {},
   "outputs": [
    {
     "data": {
      "image/png": "[encoded data removed]",
      "text/plain": [
       "<Figure size 576x288 with 1 Axes>"
      ]
     },
     "metadata": {
      "needs_background": "light"
     },
     "output_type": "display_data"
    },
    {
     "data": {
      "image/png": "[encoded data removed]",
      "text/plain": [
       "<Figure size 576x288 with 1 Axes>"
      ]
     },
     "metadata": {
      "needs_background": "light"
     },
     "output_type": "display_data"
    }
   ],
   "source": [
    "aux = pd.DataFrame(df_videogames['overall'].value_counts(sort=False).sort_index())\n",
    "ax = aux.plot(kind='bar', title='Overall ratings distribution (videogames)', figsize=(8, 4))\n",
    "\n",
    "aux = pd.DataFrame(df_videogames['sentiment'].value_counts(sort=False).sort_index())\n",
    "ax = aux.plot(kind='bar', title='Sentiment distribution (videogames)', figsize=(8, 4))"
   ]
  },
  {
   "cell_type": "markdown",
   "metadata": {},
   "source": [
    "# Juntamos los tres DataFrames en uno"
   ]
  },
  {
   "cell_type": "code",
   "execution_count": 56,
   "metadata": {},
   "outputs": [],
   "source": [
    "df = pd.concat([df_clothing, df_office, df_videogames])"
   ]
  },
  {
   "cell_type": "code",
   "execution_count": 57,
   "metadata": {},
   "outputs": [
    {
     "data": {
      "text/plain": [
       "(22500, 3)"
      ]
     },
     "execution_count": 57,
     "metadata": {},
     "output_type": "execute_result"
    }
   ],
   "source": [
    "df.shape"
   ]
  },
  {
   "cell_type": "markdown",
   "metadata": {},
   "source": [
    "# Pruebas con VADER (Valence Aware Sentiment Dictionary and sEntiment Reasoner)"
   ]
  },
  {
   "cell_type": "code",
   "execution_count": 58,
   "metadata": {},
   "outputs": [],
   "source": [
    "from vaderSentiment.vaderSentiment import SentimentIntensityAnalyzer"
   ]
  },
  {
   "cell_type": "code",
   "execution_count": 61,
   "metadata": {},
   "outputs": [],
   "source": [
    "vader_analyser = SentimentIntensityAnalyzer()"
   ]
  },
  {
   "cell_type": "markdown",
   "metadata": {},
   "source": [
    "Seleccionamos al azar reviews de etiquetadas como negativo, positivo o neutro.\n",
    "\n",
    "Modificando el filtro `(df['sentiment']==0)` podemos seleccionar la categoría deseada.\n",
    "\n",
    "El `compound` representa la polaridad e intensidad del sentimiento inferido de la review."
   ]
  },
  {
   "cell_type": "code",
   "execution_count": 72,
   "metadata": {
    "scrolled": true
   },
   "outputs": [
    {
     "name": "stdout",
     "output_type": "stream",
     "text": [
      "First off, the only reason I bought this EP was because of all the good reviews it got.There's really nothing good about this EP. I have to say it's probably the worst that Maxis ever put out. I change families and my kids grow up fast; I don't need 325 Mr. Humbles showing up at the door, nor do I desire to have countless popups of \"gained\" and \"lost\" enthusiasm in hobbies, which lead to \"secret hobby lots\" which are basically smaller versions of community lots and your access to them can be denied once your hobby levels drop.The only things I like are the new cribs and nursery sets for toddlers and the bohemian and ballet outfits for our girls.Yuck... I want to sell my copy now.\n",
      "{'neg': 0.099, 'neu': 0.817, 'pos': 0.084, 'compound': -0.4665}\n"
     ]
    }
   ],
   "source": [
    "review_test = df[df['sentiment']==0].sample(1)['reviewText'].values[0]\n",
    "print(review_test)\n",
    "print(vader_analyser.polarity_scores(review_test))"
   ]
  },
  {
   "cell_type": "markdown",
   "metadata": {},
   "source": [
    "## Conclusiones al usar VADER\n",
    "\n",
    "Puede observarse como el uso de VADER es muy sencillo gracias a la librería _vaderSentiment_. Al realizar algunas pruebas (ejcutando la celda anterior distintas veces para las distintas categorías) puede observarse como si bien a veces el resultado es correcto, en general no es demasiado preciso.\n",
    "\n",
    "Además, la única manera de poder ajustar su funcionamiento sería mediante la edición del lexicon, tarea que no tiene sentido realizar existiendo alternativas mucho más eficaces y realizables como son las basadas en modelos de aprendizaje automático."
   ]
  },
  {
   "cell_type": "markdown",
   "metadata": {},
   "source": [
    "# Procesamos el texto\n",
    "\n",
    "Implementación de la etapa de procesado similar a la del ejercicio 1-Topic Modeling"
   ]
  },
  {
   "cell_type": "code",
   "execution_count": 107,
   "metadata": {},
   "outputs": [],
   "source": [
    "import re\n",
    "import unicodedata\n",
    "from stop_words import get_stop_words"
   ]
  },
  {
   "cell_type": "code",
   "execution_count": 99,
   "metadata": {},
   "outputs": [],
   "source": [
    "def sentence_normalization(sentence):\n",
    "    sentence = unicodedata.normalize('NFKD', sentence).lower().encode('ascii', errors='ignore').decode('utf-8')\n",
    "    sentence = re.sub(' +', ' ', ' '.join([word if word.isalpha() else '' for word in sentence.split()])).strip()\n",
    "    return sentence"
   ]
  },
  {
   "cell_type": "code",
   "execution_count": 100,
   "metadata": {},
   "outputs": [],
   "source": [
    "def remove_stopwords(sentence, sw_list):\n",
    "    sentence = ' '.join([word for word in sentence.split() if word not in sw_list])\n",
    "    return sentence"
   ]
  },
  {
   "cell_type": "code",
   "execution_count": 101,
   "metadata": {},
   "outputs": [],
   "source": [
    "def get_lemmas_dict(data_path, lemmas_dict_file):\n",
    "    lemmas_dict = {}\n",
    "    with open(os.path.join(data_path, lemmas_dict_file), 'r') as f:\n",
    "        for line in f:\n",
    "            (key, val) = line.split()\n",
    "            lemmas_dict[str(val)] = key\n",
    "    return lemmas_dict"
   ]
  },
  {
   "cell_type": "code",
   "execution_count": 102,
   "metadata": {},
   "outputs": [],
   "source": [
    "def lemmatize(sentence, lemmas_dict):\n",
    "    sentence = ' '.join([lemmas_dict.get(word, word) for word in sentence.split()])\n",
    "    return sentence"
   ]
  },
  {
   "cell_type": "code",
   "execution_count": 103,
   "metadata": {},
   "outputs": [
    {
     "data": {
      "text/plain": [
       "'run'"
      ]
     },
     "execution_count": 103,
     "metadata": {},
     "output_type": "execute_result"
    }
   ],
   "source": [
    "lemmas_path = '../data'\n",
    "english_lemmas = 'lemmatization-en.txt'  # Fuente: https://github.com/michmech/lemmatization-lists\n",
    "\n",
    "english_lemmas_dict = get_lemmas_dict(lemmas_path, english_lemmas)\n",
    "english_lemmas_dict.get('running')"
   ]
  },
  {
   "cell_type": "code",
   "execution_count": 105,
   "metadata": {},
   "outputs": [
    {
     "data": {
      "text/plain": [
       "['a', 'about', 'above', 'after', 'again', 'against', 'all', 'am', 'an', 'and']"
      ]
     },
     "execution_count": 105,
     "metadata": {},
     "output_type": "execute_result"
    }
   ],
   "source": [
    "# Stop words\n",
    "sw_list = get_stop_words('en')\n",
    "sw_list[:10]"
   ]
  },
  {
   "cell_type": "code",
   "execution_count": 109,
   "metadata": {},
   "outputs": [],
   "source": [
    "processed_sentences = []\n",
    "\n",
    "for sent in df['reviewText']:\n",
    "    sent = sentence_normalization(sent)\n",
    "    sent = remove_stopwords(sent, sw_list)\n",
    "    sent = lemmatize(sent, english_lemmas_dict)\n",
    "    processed_sentences.append(sent)"
   ]
  },
  {
   "cell_type": "code",
   "execution_count": 110,
   "metadata": {},
   "outputs": [],
   "source": [
    "df['processed_review'] = processed_sentences"
   ]
  },
  {
   "cell_type": "code",
   "execution_count": 111,
   "metadata": {},
   "outputs": [
    {
     "data": {
      "text/html": [
       "<div>\n",
       "<style scoped>\n",
       "    .dataframe tbody tr th:only-of-type {\n",
       "        vertical-align: middle;\n",
       "    }\n",
       "\n",
       "    .dataframe tbody tr th {\n",
       "        vertical-align: top;\n",
       "    }\n",
       "\n",
       "    .dataframe thead th {\n",
       "        text-align: right;\n",
       "    }\n",
       "</style>\n",
       "<table border=\"1\" class=\"dataframe\">\n",
       "  <thead>\n",
       "    <tr style=\"text-align: right;\">\n",
       "      <th></th>\n",
       "      <th>reviewText</th>\n",
       "      <th>overall</th>\n",
       "      <th>sentiment</th>\n",
       "      <th>processed_review</th>\n",
       "    </tr>\n",
       "  </thead>\n",
       "  <tbody>\n",
       "    <tr>\n",
       "      <th>263543</th>\n",
       "      <td>i imagined more color and the pearls to seem a...</td>\n",
       "      <td>2</td>\n",
       "      <td>0</td>\n",
       "      <td>imagine color pearl seem little little every t...</td>\n",
       "    </tr>\n",
       "    <tr>\n",
       "      <th>35253</th>\n",
       "      <td>I like Haggar, but really I am not real keen o...</td>\n",
       "      <td>2</td>\n",
       "      <td>0</td>\n",
       "      <td>like really real keen expandable make good qua...</td>\n",
       "    </tr>\n",
       "    <tr>\n",
       "      <th>137895</th>\n",
       "      <td>I should have returned it, but I washed it alr...</td>\n",
       "      <td>2</td>\n",
       "      <td>0</td>\n",
       "      <td>return wash gather area back</td>\n",
       "    </tr>\n",
       "    <tr>\n",
       "      <th>186096</th>\n",
       "      <td>Update: After a little less than a year the va...</td>\n",
       "      <td>1</td>\n",
       "      <td>0</td>\n",
       "      <td>little little year vamp tear join real shame s...</td>\n",
       "    </tr>\n",
       "    <tr>\n",
       "      <th>14671</th>\n",
       "      <td>I bought these thinking that I was getting the...</td>\n",
       "      <td>2</td>\n",
       "      <td>0</td>\n",
       "      <td>buy think get well slipper ugg name another pa...</td>\n",
       "    </tr>\n",
       "  </tbody>\n",
       "</table>\n",
       "</div>"
      ],
      "text/plain": [
       "                                               reviewText  overall  sentiment  \\\n",
       "263543  i imagined more color and the pearls to seem a...        2          0   \n",
       "35253   I like Haggar, but really I am not real keen o...        2          0   \n",
       "137895  I should have returned it, but I washed it alr...        2          0   \n",
       "186096  Update: After a little less than a year the va...        1          0   \n",
       "14671   I bought these thinking that I was getting the...        2          0   \n",
       "\n",
       "                                         processed_review  \n",
       "263543  imagine color pearl seem little little every t...  \n",
       "35253   like really real keen expandable make good qua...  \n",
       "137895                       return wash gather area back  \n",
       "186096  little little year vamp tear join real shame s...  \n",
       "14671   buy think get well slipper ugg name another pa...  "
      ]
     },
     "execution_count": 111,
     "metadata": {},
     "output_type": "execute_result"
    }
   ],
   "source": [
    "df.head()"
   ]
  },
  {
   "cell_type": "code",
   "execution_count": 112,
   "metadata": {},
   "outputs": [
    {
     "name": "stdout",
     "output_type": "stream",
     "text": [
      "Raw review:\n",
      "I love the Keen Bali and they are hard to find on sale.  I tried these and returned them as they were too tight on my high instep.\n",
      "\n",
      "\n",
      "Processed review:\n",
      "love keen bali hard find try return tight high\n"
     ]
    }
   ],
   "source": [
    "print('Raw review:\\n{}\\n\\n'.format(df['reviewText'].iloc[100]))\n",
    "print('Processed review:\\n{}'.format(df['processed_review'].iloc[100]))"
   ]
  },
  {
   "cell_type": "markdown",
   "metadata": {},
   "source": [
    "# Definimos los siguientes experimentos para el entrenamiento y validación de modelos de clasificación de reviews de Amazon en función del sentimiento inferido en ellos\n",
    "\n",
    "La representación de las reviews la realizaremos vectorizando los documentos con el TfidfVectorizer\n",
    "\n",
    "- Modelo de **clasificación binaria** (reviews positivas y negativas) **sin procesado de texto**\n",
    "- Modelo de **clasificación binaria** (reviews positivas y negativas) **con procesado de texto**\n",
    "- Modelo de **clasificación binaria** (reviews positivas y negativas) **con procesado de texto** y **algunos parámetros configurados en el vectorizer**\n",
    "- Modelo de **clasificación multi**-clase (reviews positivas, negativas y neutras) **sin procesado de texto**\n",
    "- Modelo de **clasificación multi**-clase (reviews positivas, negativas y neutras) **con procesado de texto**\n",
    "- Modelo de **clasificación multi**-clase (reviews positivas, negativas y neutras) **con procesado de texto** y **algunos parámetros configurados en el vectorizer**\n",
    "\n",
    "Para todos los experimentos se entrenarán los mismos modelos, con igual política de búsqueda de hiperparámetros y mismos porcentajes para train y test."
   ]
  },
  {
   "cell_type": "code",
   "execution_count": 169,
   "metadata": {},
   "outputs": [],
   "source": [
    "from sklearn.model_selection import train_test_split\n",
    "from sklearn.feature_extraction.text import TfidfVectorizer\n",
    "from sklearn.feature_selection import chi2\n",
    "from sklearn.linear_model import LogisticRegression\n",
    "from sklearn.naive_bayes import MultinomialNB\n",
    "from sklearn.metrics import accuracy_score, confusion_matrix, classification_report"
   ]
  },
  {
   "cell_type": "code",
   "execution_count": 191,
   "metadata": {},
   "outputs": [],
   "source": [
    "def get_classification_sentiment_model_results(\n",
    "    reviews,\n",
    "    sentiment,\n",
    "    max_df=1.00,\n",
    "    min_df=1,\n",
    "    max_features=None,\n",
    "    ngram_range=(1, 1),\n",
    "    multi=False,\n",
    "    visualize=False\n",
    "):\n",
    "\n",
    "    # Dividir en train y test\n",
    "    X_train, X_test, y_train, y_test = train_test_split(\n",
    "        reviews,\n",
    "        sentiment,\n",
    "        train_size=0.75,\n",
    "        test_size=0.25,\n",
    "        random_state=seed,\n",
    "        shuffle=True,\n",
    "        stratify=sentiment\n",
    "    )\n",
    "    \n",
    "    # Extracción de características (matriz documento-término de scores TF-IDF)\n",
    "    cv = TfidfVectorizer()\n",
    "    cv.fit(X_train)\n",
    "    X_train_ = cv.transform(X_train)\n",
    "    X_test_ = cv.transform(X_test)\n",
    "    \n",
    "    train_acc = []\n",
    "    test_acc = []\n",
    "    if not multi:  # Clasificación binaria\n",
    "        # Tunning sobre una Logistic Regression\n",
    "        c_params = [0.01, 0.05, 0.25, 0.5, 1, 10, 100, 1000, 10000]\n",
    "        lr_models = []\n",
    "\n",
    "        for c in c_params:\n",
    "            lr = LogisticRegression(C=c, solver='lbfgs', max_iter=3000)\n",
    "            lr.fit(X_train_, y_train)\n",
    "\n",
    "            train_predict = lr.predict(X_train_)\n",
    "            test_predict = lr.predict(X_test_)\n",
    "            train_acc.append(accuracy_score(y_train, train_predict))\n",
    "            test_acc.append(accuracy_score(y_test, test_predict))\n",
    "            lr_models.append(lr)\n",
    "            \n",
    "        # Predecir con el modelo \"óptimo\"\n",
    "        lr_ = lr_models[np.argmax(test_acc)]\n",
    "        test_predict = lr_.predict(X_test_)\n",
    "\n",
    "    else:  # Clasificación multi-clase, sin hyperparameter tunning\n",
    "        mnb_model = MultinomialNB()\n",
    "        mnb_model.fit(X_train_, y_train)\n",
    "        test_predict = mnb_model.predict(X_test_)\n",
    "    \n",
    "    # Visualizar resultados\n",
    "    if visualize and not multi:\n",
    "        plt.figure(figsize=(12, 8))\n",
    "        plt.plot(train_acc, label='train')\n",
    "        plt.plot(test_acc, label='test')\n",
    "        plt.axvline(np.argmax(test_acc), c='g', ls='--', alpha=0.8)\n",
    "        plt.title('Accuracy evolution for different C values')\n",
    "        plt.xlabel('C')\n",
    "        plt.ylabel('Accuracy')\n",
    "        plt.legend()\n",
    "        plt.grid()\n",
    "        plt.xticks(list(range(len(c_params))), c_params)\n",
    "        plt.tight_layout()\n",
    "        plt.show()\n",
    "    \n",
    "    \n",
    "    # Confusion matrix, classification report y accuracy score para el clasificador \"óptimo\"\n",
    "    print('Confussion matrix:\\n{}'.format(confusion_matrix(y_test, test_predict)))\n",
    "    print('\\nClassification report:\\n{}'.format(classification_report(y_test, test_predict)))\n",
    "    print('Accuracy score:{}'.format(accuracy_score(y_test, test_predict)))"
   ]
  },
  {
   "cell_type": "markdown",
   "metadata": {},
   "source": [
    "## Sin procesado de texto + Clasificación binaria"
   ]
  },
  {
   "cell_type": "code",
   "execution_count": 192,
   "metadata": {
    "scrolled": false
   },
   "outputs": [
    {
     "data": {
      "image/png": "[encoded data removed]",
      "text/plain": [
       "<Figure size 864x576 with 1 Axes>"
      ]
     },
     "metadata": {
      "needs_background": "light"
     },
     "output_type": "display_data"
    },
    {
     "name": "stdout",
     "output_type": "stream",
     "text": [
      "Confussion matrix:\n",
      "[[1636  239]\n",
      " [ 259 1616]]\n",
      "\n",
      "Classification report:\n",
      "              precision    recall  f1-score   support\n",
      "\n",
      "           0       0.86      0.87      0.87      1875\n",
      "           1       0.87      0.86      0.87      1875\n",
      "\n",
      "    accuracy                           0.87      3750\n",
      "   macro avg       0.87      0.87      0.87      3750\n",
      "weighted avg       0.87      0.87      0.87      3750\n",
      "\n",
      "Accuracy score:0.8672\n"
     ]
    }
   ],
   "source": [
    "get_classification_sentiment_model_results(\n",
    "    reviews=df[df['sentiment'] != 2]['reviewText'],\n",
    "    sentiment=df[df['sentiment'] != 2]['sentiment'],\n",
    "    multi=False,\n",
    "    visualize=True\n",
    ")"
   ]
  },
  {
   "cell_type": "markdown",
   "metadata": {},
   "source": [
    "## Con procesado de texto + Clasificación binaria"
   ]
  },
  {
   "cell_type": "code",
   "execution_count": 193,
   "metadata": {},
   "outputs": [
    {
     "data": {
      "image/png": "[encoded data removed]",
      "text/plain": [
       "<Figure size 864x576 with 1 Axes>"
      ]
     },
     "metadata": {
      "needs_background": "light"
     },
     "output_type": "display_data"
    },
    {
     "name": "stdout",
     "output_type": "stream",
     "text": [
      "Confussion matrix:\n",
      "[[1522  353]\n",
      " [ 337 1538]]\n",
      "\n",
      "Classification report:\n",
      "              precision    recall  f1-score   support\n",
      "\n",
      "           0       0.82      0.81      0.82      1875\n",
      "           1       0.81      0.82      0.82      1875\n",
      "\n",
      "    accuracy                           0.82      3750\n",
      "   macro avg       0.82      0.82      0.82      3750\n",
      "weighted avg       0.82      0.82      0.82      3750\n",
      "\n",
      "Accuracy score:0.816\n"
     ]
    }
   ],
   "source": [
    "get_classification_sentiment_model_results(\n",
    "    reviews=df[df['sentiment'] != 2]['processed_review'],\n",
    "    sentiment=df[df['sentiment'] != 2]['sentiment'],\n",
    "    multi=False,\n",
    "    visualize=True\n",
    ")"
   ]
  },
  {
   "cell_type": "markdown",
   "metadata": {},
   "source": [
    "## Con procesado de texto + Clasificación binaria + Tunning TfidfVectorizer"
   ]
  },
  {
   "cell_type": "code",
   "execution_count": 194,
   "metadata": {},
   "outputs": [
    {
     "data": {
      "image/png": "[encoded data removed]",
      "text/plain": [
       "<Figure size 864x576 with 1 Axes>"
      ]
     },
     "metadata": {
      "needs_background": "light"
     },
     "output_type": "display_data"
    },
    {
     "name": "stdout",
     "output_type": "stream",
     "text": [
      "Confussion matrix:\n",
      "[[1522  353]\n",
      " [ 337 1538]]\n",
      "\n",
      "Classification report:\n",
      "              precision    recall  f1-score   support\n",
      "\n",
      "           0       0.82      0.81      0.82      1875\n",
      "           1       0.81      0.82      0.82      1875\n",
      "\n",
      "    accuracy                           0.82      3750\n",
      "   macro avg       0.82      0.82      0.82      3750\n",
      "weighted avg       0.82      0.82      0.82      3750\n",
      "\n",
      "Accuracy score:0.816\n"
     ]
    }
   ],
   "source": [
    "get_classification_sentiment_model_results(\n",
    "    reviews=df[df['sentiment'] != 2]['processed_review'],\n",
    "    sentiment=df[df['sentiment'] != 2]['sentiment'],\n",
    "    max_df=0.95,\n",
    "    min_df=15,\n",
    "    max_features=3000,\n",
    "    ngram_range=(2, 3),\n",
    "    multi=False,\n",
    "    visualize=True\n",
    ")"
   ]
  },
  {
   "cell_type": "markdown",
   "metadata": {},
   "source": [
    "## Sin procesado de texto + Clasificación multi-clase"
   ]
  },
  {
   "cell_type": "code",
   "execution_count": 195,
   "metadata": {},
   "outputs": [
    {
     "name": "stdout",
     "output_type": "stream",
     "text": [
      "Confussion matrix:\n",
      "[[1060   84  731]\n",
      " [ 166  968  741]\n",
      " [ 384  195 1296]]\n",
      "\n",
      "Classification report:\n",
      "              precision    recall  f1-score   support\n",
      "\n",
      "           0       0.66      0.57      0.61      1875\n",
      "           1       0.78      0.52      0.62      1875\n",
      "           2       0.47      0.69      0.56      1875\n",
      "\n",
      "    accuracy                           0.59      5625\n",
      "   macro avg       0.63      0.59      0.60      5625\n",
      "weighted avg       0.63      0.59      0.60      5625\n",
      "\n",
      "Accuracy score:0.5909333333333333\n"
     ]
    }
   ],
   "source": [
    "get_classification_sentiment_model_results(\n",
    "    reviews=df['reviewText'],\n",
    "    sentiment=df['sentiment'],\n",
    "    multi=True,\n",
    "    visualize=True\n",
    ")"
   ]
  },
  {
   "cell_type": "markdown",
   "metadata": {},
   "source": [
    "## Con procesado de texto + Clasificación multi-clase"
   ]
  },
  {
   "cell_type": "code",
   "execution_count": 196,
   "metadata": {},
   "outputs": [
    {
     "name": "stdout",
     "output_type": "stream",
     "text": [
      "Confussion matrix:\n",
      "[[1020  151  704]\n",
      " [ 227  967  681]\n",
      " [ 433  303 1139]]\n",
      "\n",
      "Classification report:\n",
      "              precision    recall  f1-score   support\n",
      "\n",
      "           0       0.61      0.54      0.57      1875\n",
      "           1       0.68      0.52      0.59      1875\n",
      "           2       0.45      0.61      0.52      1875\n",
      "\n",
      "    accuracy                           0.56      5625\n",
      "   macro avg       0.58      0.56      0.56      5625\n",
      "weighted avg       0.58      0.56      0.56      5625\n",
      "\n",
      "Accuracy score:0.5557333333333333\n"
     ]
    }
   ],
   "source": [
    "get_classification_sentiment_model_results(\n",
    "    reviews=df['processed_review'],\n",
    "    sentiment=df['sentiment'],\n",
    "    multi=True,\n",
    "    visualize=True\n",
    ")"
   ]
  },
  {
   "cell_type": "markdown",
   "metadata": {},
   "source": [
    "## Con procesado de texto + Clasificación multi-clase + Tunning TfidfVectorizer"
   ]
  },
  {
   "cell_type": "code",
   "execution_count": 197,
   "metadata": {},
   "outputs": [
    {
     "name": "stdout",
     "output_type": "stream",
     "text": [
      "Confussion matrix:\n",
      "[[1020  151  704]\n",
      " [ 227  967  681]\n",
      " [ 433  303 1139]]\n",
      "\n",
      "Classification report:\n",
      "              precision    recall  f1-score   support\n",
      "\n",
      "           0       0.61      0.54      0.57      1875\n",
      "           1       0.68      0.52      0.59      1875\n",
      "           2       0.45      0.61      0.52      1875\n",
      "\n",
      "    accuracy                           0.56      5625\n",
      "   macro avg       0.58      0.56      0.56      5625\n",
      "weighted avg       0.58      0.56      0.56      5625\n",
      "\n",
      "Accuracy score:0.5557333333333333\n"
     ]
    }
   ],
   "source": [
    "get_classification_sentiment_model_results(\n",
    "    reviews=df['processed_review'],\n",
    "    sentiment=df['sentiment'],\n",
    "    max_df=0.95,\n",
    "    min_df=15,\n",
    "    max_features=3000,\n",
    "    ngram_range=(2, 3),\n",
    "    multi=True,\n",
    "    visualize=True\n",
    ")"
   ]
  },
  {
   "cell_type": "markdown",
   "metadata": {},
   "source": [
    "# Conclusiones\n",
    "\n",
    "La presente solución es solo una propuesta de las múltiples opciones que había para resolver el ejercicio.\n",
    "\n",
    "Para la clasificación binaria se ha entrenado una Regresión Logística. Para el problema multi-clase se ha entrenado un clasificador Multinomial Naive Bayes.\n",
    "\n",
    "De los resultados podemos obtener algunas conclusiones:\n",
    "- La clasificación binaria arroja mejores resultados que la clasificación multi-clase. Algo esperable pero que queda demostrado\n",
    "- El preprocesado de texto no necesariamente redunda en mejores resultados. Aunque en general ayuda, en los resultados obtenidos de los resultados de los experimentos realizados se puede ver como aquellos modelos entrenados sin procesar el texto son mejores trabajando con el texto en crudo. Para ello se utiliza, principalmente, el macro avg f1-score como figura de mérito a comparar entre modelos\n",
    "- En la clasificación binaria no parece haber grandes diferencias en las métricas a la hora de predecir reviews como positivas o negativas. Podemos determinar que el balanceo de clases ha permitido que el modelo generalice de manera uniforme entre ambas clases\n",
    "- En cambio, para la clasificación multi-clase, las métricas por clase son bastante desiguales. En general el accuracy es mayor para la clase \"positiva\" y menor para las \"neutrales\". En cambio, el recall para estas últimas es el mayor de todas las clases. Pese a esto, los resultados son potencialmente mejorables ya que no son métricas que permitan determinar que ninguno de los tres es un buen modelo.\n",
    "\n",
    "Además del procesado del dato y enrtenamiento de modelos que se presenta en este notebook, otras opciones a considerar a la hora de abordar este retro podrían ser:\n",
    "- La etiquetación de las reviews como positivas, negativas y neutras ha sido directa, sin realizar ningún tipo análisis en dicha segmentación. Diferentes estrategias pueden plantearse a la hora de definir umbrales en el número de estrellas (en este caso) y su correspondencia con la categoría sentimiento. Una posibilidad puede ser el análisis de la distribución de la frecuencia de aparición de distintas categorías gramaticales por número de estrellas.\n",
    "- Procesado de texto más complejo. Desambiguación en la lemmatización, confección de una lista de stop words y no usar una por defecto, eliminación de URLs o direcciones de correo, etc.\n",
    "- Extracción de características como la longitud de la review, las categorías gramaticales presentes (y su presencia), la inclusión de determinadas palabras (altamente correladas con el target) como posibles categorías (Term Presence) de manera que su presencia (o ausencia) facilite el reconocimiento por parte del clasificador...\n",
    "- Tunning de lo parámetros del vetorizer para tratar de encontrar la combinación que maximice los resultados\n",
    "- Uso de word embeddings como features para el entrenamiento del clasificador\n",
    "- Entrenamiento de otros tipo de clasificadores (Random Forest Classifier, SVM, Redes Neuronales...) de manera que se pueda encontrar un modelo para el que, dado un procesado de datos, funcione mejor que el resto\n",
    "- Pruebas, para este caso de uso, de otros modelos de análisis de sentimiento pre-entrenados"
   ]
  }
 ],
 "metadata": {
  "kernelspec": {
   "display_name": "Python 3",
   "language": "python",
   "name": "python3"
  },
  "language_info": {
   "codemirror_mode": {
    "name": "ipython",
    "version": 3
   },
   "file_extension": ".py",
   "mimetype": "text/x-python",
   "name": "python",
   "nbconvert_exporter": "python",
   "pygments_lexer": "ipython3",
   "version": "3.6.9"
  }
 },
 "nbformat": 4,
 "nbformat_minor": 2
}
