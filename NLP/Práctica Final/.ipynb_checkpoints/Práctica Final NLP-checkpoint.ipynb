{
 "cells": [
  {
   "cell_type": "markdown",
   "metadata": {},
   "source": [
    "# Práctica final NLP"
   ]
  },
  {
   "cell_type": "markdown",
   "metadata": {},
   "source": [
    "## Introducción\n",
    "\n",
    "El objetivo principal de la presente actividad es el de evaluar los conocimientos del alumno planteando algunos retos de NLP lo más prácticos y realistas posibles.\n",
    "\n",
    "Los temas de los tres ejercicios - detallados a continuación - son los siguientes:\n",
    "- **Modelado de topics**\n",
    "- **Análisis de sentimiento**\n",
    "- **NLG**\n",
    "\n",
    "No se busca tanto que el performance de los distintos modelos que se implementen sea inmejorable, si no justificar las decisiones de diseño (fases en el preprocesado, modelos escogidos, features utilizadas, etc.), comentar los resutlados obtenidos y razonar los retos resueltos, así como las limitaciones encontradas.\n",
    "\n",
    "Al no haber una única manera de resolver los ejercicios no se indican los pasos a seguir. Para su resolución, el alumno deberá implementar los métodos y técnicas que considere necesarios de los descritos en clase.\n",
    "\n",
    "A continuación se detallan los ejercicios a resolver y datasets a utilizar:"
   ]
  },
  {
   "cell_type": "markdown",
   "metadata": {},
   "source": [
    "## Ejercicios\n",
    "\n",
    "### 1. Modelado de Topics\n",
    "\n",
    "El objetivo principal de este ejercicio es el de realizar un **análisis exploratorio** - etapa principal en cualquier problema de analítica, ML, DL y, por supuesto, NLP - de alguno de los datasets disponibles (tweets o reviews de Amazon).\n",
    "\n",
    "Además del análisis exploratorio, se pide que el alumno realice un **modelado de topics** identificando los principales temas que aparecen en los corpus, así como los tokens que los componen.\n",
    "\n",
    "Será muy valorable si se incluyen **gráficos descriptivos** que describan los corpus utilizados.\n",
    "\n",
    "Se recomienda, aunque no es obligatorio, utilizar los datasets de las reviews de Amazon y que este ejercicio sea la _antesala_ del ejercicio 2.\n",
    "\n",
    "### 2. Análisis de Sentimiento\n",
    "\n",
    "Implementación y evaluación de un modelo de análisis de sentimiento.\n",
    "\n",
    "El objetivo principal es el de realizar un **modelo de clasificación binaria**. Se valorará positivamente comparar la variación en los resultados al usar **diferentes modelos**, al **modificar algún paso en la etapa de preprocesado** (stemming vs no stemming, p.ej.), así como la comparación de resultados utilizando o bien **modelos pre-entrenados** o modelos más simples (como VADER).\n",
    "\n",
    "Se utilizará alguno de los datasets disponibles de **reviews de Amazon**.\n",
    "\n",
    "Soluciones más avanzadas como por ejemplo modelos de clasificación multi-clase o basados en embeddings serán valorables.\n",
    "\n",
    "### 3. Generación de Lenguaje Natural\n",
    "\n",
    "Implementación de un **modelo de generación de lenguaje** utilizando algún dataset de los propuestos de **Twitter**.\n",
    "\n",
    "El objetivo es el de **simular la creación de un bot que escriba tweets** de manera similar al del autor utilizado para el entrenamiento.\n",
    "\n",
    "Se valorará principalmente la **argumentación de los pasos realizados y las conclusiones al analizar los resultados y limitaciones encontradas**.\n",
    "\n"
   ]
  },
  {
   "cell_type": "markdown",
   "metadata": {},
   "source": [
    "## Datasets\n",
    "\n",
    "Los datasets escogidos para los distintos ejercicios son los siguientes:\n",
    "- **Reviews de Amazon**: Reviews de productos de Amazon clasificadas por categorías (libros, electrónica, automoción, ...). Las reviews contienen la calificación (número de estrellas) por lo que es perfecto para problemas de clasificación supervisada del sentimiento. Se recomienda trabajar con subsets de dichos datasets para evitar problemas de memoria y de desbalanceo de clases. Enlace: http://jmcauley.ucsd.edu/data/amazon/\n",
    "- **Tweets**: Conjunto de tweets de diferentes personalidades. Los tweets están en crudo, esto es, contendrán enlaces, menciones, hashtags que convendrá normalizar u eliminar. Enlace: https://www.kaggle.com/speckledpingu/RawTwitterFeeds"
   ]
  },
  {
   "cell_type": "markdown",
   "metadata": {},
   "source": [
    "##  Consideraciones\n",
    "\n",
    "Como se comentaba, por delante del performance de los distintos modelos que se prueben, se valorará positivamante para todos los ejercicios:\n",
    "\n",
    "- Análisis exploratorio y descripción de las variables escogidas\n",
    "- Argumentación del modelo (o modelos) escogidos, así como de las etapas implementadas en el preprocesado\n",
    "- Comparativa de resultados modificando alguna etapa en el preprocesado, probando diferentes modelos, etc\n",
    "- Conclusiones\n",
    "- Retos superados y limitaciones"
   ]
  },
  {
   "cell_type": "markdown",
   "metadata": {},
   "source": [
    "## Formato de entrega\n",
    "\n",
    "La práctica deberá resolverse en **Python** con las librerías descritas durante la asignatura. Además del código, es **fundamental** incluir el detalle de los pasos realizados, la justificación en la elección de según qué algoritmos o etapas en el preprocesado, así como comentarios y conclusiones sobre los resultados obtenidos.\n",
    "\n",
    "Por tanto, pese a que la estructura del proyecto es flexible, se recomienda alguna de estas opciones:\n",
    "- Un Jupyter notebook con todo el código y explicaciones / conclusiones / etc\n",
    "- Tres Jupyter notebooks (uno por ejercicio) con todo el código y explicaciones / conclusiones / etc\n",
    "- Un proyecto de Python (uno o varios módulos .py) y una memoria en formato PDF con las explicaciones / conclusiones / etc"
   ]
  }
 ],
 "metadata": {
  "colab": {
   "name": "PracticaTemplate.ipynb",
   "provenance": [],
   "version": "0.3.2"
  },
  "kernelspec": {
   "display_name": "Python 3",
   "language": "python",
   "name": "python3"
  },
  "language_info": {
   "codemirror_mode": {
    "name": "ipython",
    "version": 3
   },
   "file_extension": ".py",
   "mimetype": "text/x-python",
   "name": "python",
   "nbconvert_exporter": "python",
   "pygments_lexer": "ipython3",
   "version": "3.7.4"
  }
 },
 "nbformat": 4,
 "nbformat_minor": 1
}
