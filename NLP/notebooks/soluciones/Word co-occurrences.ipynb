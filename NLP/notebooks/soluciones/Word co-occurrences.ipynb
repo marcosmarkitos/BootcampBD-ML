{
 "cells": [
  {
   "cell_type": "code",
   "execution_count": 7,
   "metadata": {},
   "outputs": [],
   "source": [
    "import pandas as pd\n",
    "import gensim"
   ]
  },
  {
   "cell_type": "code",
   "execution_count": 8,
   "metadata": {},
   "outputs": [],
   "source": [
    "df = pd.read_csv('../../datasets/reviews_sample.csv')\n",
    "df = df[['review_body']]\n",
    "df.dropna(inplace=True)"
   ]
  },
  {
   "cell_type": "code",
   "execution_count": 23,
   "metadata": {},
   "outputs": [],
   "source": [
    "def text_preprocessing(text):\n",
    "    result=[]\n",
    "    for token in gensim.utils.simple_preprocess(text) :\n",
    "        if token not in gensim.parsing.preprocessing.STOPWORDS and len(token) > 3:\n",
    "            result.append(token)\n",
    "    ' '.join(result)\n",
    "    return result"
   ]
  },
  {
   "cell_type": "code",
   "execution_count": 24,
   "metadata": {},
   "outputs": [
    {
     "data": {
      "text/plain": [
       "['know', 'answer', 'questions', 'gotten', 'google', 'mini', 'instead']"
      ]
     },
     "execution_count": 24,
     "metadata": {},
     "output_type": "execute_result"
    }
   ],
   "source": [
    "text_preprocessing(df['review_body'].iloc[0])"
   ]
  },
  {
   "cell_type": "code",
   "execution_count": 39,
   "metadata": {},
   "outputs": [],
   "source": [
    "reviews = [text_preprocessing(review) for review in df['review_body']]"
   ]
  },
  {
   "cell_type": "code",
   "execution_count": 44,
   "metadata": {},
   "outputs": [],
   "source": [
    "import numpy as np\n",
    "import nltk\n",
    "from nltk import bigrams\n",
    "import itertools\n",
    "import pandas as pd\n",
    " \n",
    "def generate_co_occurrence_matrix(corpus):\n",
    "    vocab = set(corpus)\n",
    "    vocab = list(vocab)\n",
    "    vocab_index = {word: i for i, word in enumerate(vocab)}\n",
    " \n",
    "    # Create bigrams from all words in corpus\n",
    "    bi_grams = list(bigrams(corpus))\n",
    " \n",
    "    # Frequency distribution of bigrams ((word1, word2), num_occurrences)\n",
    "    bigram_freq = nltk.FreqDist(bi_grams).most_common(len(bi_grams))\n",
    " \n",
    "    # Initialise co-occurrence matrix\n",
    "    # co_occurrence_matrix[current][previous]\n",
    "    co_occurrence_matrix = np.zeros((len(vocab), len(vocab)))\n",
    " \n",
    "    # Loop through the bigrams taking the current and previous word,\n",
    "    # and the number of occurrences of the bigram.\n",
    "    for bigram in bigram_freq:\n",
    "        current = bigram[0][1]\n",
    "        previous = bigram[0][0]\n",
    "        count = bigram[1]\n",
    "        pos_current = vocab_index[current]\n",
    "        pos_previous = vocab_index[previous]\n",
    "        co_occurrence_matrix[pos_current][pos_previous] = count\n",
    "    co_occurrence_matrix = np.matrix(co_occurrence_matrix)\n",
    " \n",
    "    # return the matrix and the index\n",
    "    return co_occurrence_matrix, vocab_index"
   ]
  },
  {
   "cell_type": "code",
   "execution_count": 46,
   "metadata": {},
   "outputs": [
    {
     "name": "stdout",
     "output_type": "stream",
     "text": [
      "             clock  mail  frustrate  bien  general  home  skeptical  actually  \\\n",
      "clock          0.0   0.0        0.0   0.0      0.0   0.0        0.0       0.0   \n",
      "mail           0.0   0.0        0.0   0.0      0.0   0.0        0.0       0.0   \n",
      "frustrate      0.0   0.0        0.0   0.0      0.0   0.0        0.0       0.0   \n",
      "bien           0.0   0.0        0.0   0.0      0.0   0.0        0.0       0.0   \n",
      "general        0.0   0.0        0.0   0.0      0.0   0.0        0.0       0.0   \n",
      "home           0.0   0.0        0.0   0.0      0.0   0.0        0.0       0.0   \n",
      "skeptical      0.0   0.0        0.0   0.0      0.0   0.0        0.0       0.0   \n",
      "actually       0.0   0.0        0.0   0.0      0.0   0.0        0.0       0.0   \n",
      "number         0.0   0.0        0.0   0.0      0.0   0.0        0.0       0.0   \n",
      "cable          0.0   0.0        0.0   0.0      0.0   0.0        0.0       0.0   \n",
      "able           0.0   0.0        0.0   0.0      0.0   0.0        0.0       0.0   \n",
      "second         0.0   0.0        0.0   0.0      0.0   0.0        0.0       0.0   \n",
      "year           0.0   0.0        0.0   0.0      0.0   0.0        0.0       0.0   \n",
      "speaker        0.0   0.0        0.0   0.0      0.0   0.0        0.0       0.0   \n",
      "apps           0.0   0.0        0.0   0.0      0.0   0.0        0.0       0.0   \n",
      "yard           0.0   0.0        0.0   0.0      0.0   0.0        0.0       0.0   \n",
      "wyoming        0.0   0.0        0.0   0.0      0.0   0.0        0.0       0.0   \n",
      "loooooove      0.0   0.0        0.0   0.0      0.0   0.0        0.0       0.0   \n",
      "cottage        0.0   0.0        0.0   0.0      0.0   0.0        0.0       0.0   \n",
      "dots           0.0   0.0        0.0   0.0      0.0   0.0        0.0       0.0   \n",
      "list           0.0   0.0        0.0   0.0      0.0   0.0        0.0       0.0   \n",
      "charm          0.0   0.0        0.0   0.0      0.0   0.0        0.0       0.0   \n",
      "gifted         0.0   0.0        0.0   0.0      0.0   0.0        0.0       0.0   \n",
      "savy           0.0   0.0        0.0   0.0      0.0   0.0        0.0       0.0   \n",
      "friend         0.0   0.0        0.0   0.0      0.0   0.0        0.0       0.0   \n",
      "left           0.0   0.0        0.0   0.0      0.0   0.0        0.0       0.0   \n",
      "respond        0.0   0.0        0.0   0.0      0.0   0.0        0.0       0.0   \n",
      "generations    0.0   0.0        0.0   0.0      0.0   0.0        0.0       0.0   \n",
      "bass           0.0   0.0        0.0   0.0      0.0   0.0        0.0       0.0   \n",
      "play           0.0   0.0        0.0   0.0      0.0   0.0        0.0       0.0   \n",
      "...            ...   ...        ...   ...      ...   ...        ...       ...   \n",
      "useful         0.0   0.0        0.0   0.0      0.0   0.0        0.0       0.0   \n",
      "responses      0.0   0.0        0.0   0.0      0.0   0.0        0.0       0.0   \n",
      "medication     0.0   0.0        0.0   0.0      0.0   0.0        0.0       0.0   \n",
      "tiny           0.0   0.0        0.0   0.0      0.0   0.0        0.0       0.0   \n",
      "phone          0.0   0.0        0.0   0.0      0.0   0.0        0.0       0.0   \n",
      "super          0.0   0.0        0.0   0.0      0.0   0.0        0.0       0.0   \n",
      "smarter        0.0   0.0        0.0   0.0      0.0   0.0        0.0       0.0   \n",
      "time           0.0   0.0        0.0   0.0      0.0   0.0        0.0       0.0   \n",
      "upset          0.0   0.0        0.0   0.0      0.0   0.0        0.0       0.0   \n",
      "drops          0.0   0.0        0.0   0.0      0.0   0.0        0.0       0.0   \n",
      "actual         0.0   0.0        0.0   0.0      0.0   0.0        0.0       0.0   \n",
      "cases          0.0   0.0        0.0   0.0      0.0   0.0        0.0       0.0   \n",
      "boyfriend      0.0   0.0        0.0   0.0      0.0   0.0        0.0       0.0   \n",
      "alex           0.0   0.0        0.0   0.0      0.0   0.0        0.0       0.0   \n",
      "paid           0.0   0.0        0.0   0.0      0.0   0.0        0.0       0.0   \n",
      "connection     0.0   0.0        0.0   0.0      0.0   0.0        0.0       0.0   \n",
      "sensitive      0.0   0.0        0.0   0.0      0.0   0.0        0.0       0.0   \n",
      "forget         0.0   0.0        0.0   0.0      0.0   0.0        0.0       0.0   \n",
      "programs       0.0   0.0        0.0   0.0      0.0   0.0        0.0       0.0   \n",
      "sounded        0.0   0.0        0.0   0.0      0.0   0.0        0.0       0.0   \n",
      "switch         0.0   0.0        0.0   0.0      0.0   0.0        0.0       0.0   \n",
      "took           0.0   0.0        0.0   0.0      0.0   0.0        0.0       0.0   \n",
      "analogue       0.0   0.0        0.0   0.0      0.0   0.0        0.0       0.0   \n",
      "local          0.0   0.0        0.0   0.0      0.0   0.0        0.0       0.0   \n",
      "makes          0.0   0.0        0.0   0.0      0.0   0.0        0.0       0.0   \n",
      "connect        0.0   0.0        0.0   0.0      0.0   0.0        0.0       0.0   \n",
      "remember       0.0   0.0        0.0   0.0      0.0   0.0        0.0       0.0   \n",
      "switches       0.0   0.0        0.0   0.0      0.0   0.0        0.0       0.0   \n",
      "feedback       0.0   0.0        0.0   0.0      0.0   0.0        0.0       0.0   \n",
      "downstairs     0.0   0.0        0.0   0.0      0.0   0.0        0.0       0.0   \n",
      "\n",
      "             number  cable  ...  switch  took  analogue  local  makes  \\\n",
      "clock           0.0    0.0  ...     0.0   0.0       0.0    0.0    0.0   \n",
      "mail            0.0    0.0  ...     0.0   0.0       0.0    0.0    0.0   \n",
      "frustrate       0.0    0.0  ...     0.0   0.0       0.0    0.0    0.0   \n",
      "bien            0.0    0.0  ...     0.0   0.0       0.0    0.0    0.0   \n",
      "general         0.0    0.0  ...     0.0   0.0       0.0    0.0    0.0   \n",
      "home            0.0    0.0  ...     0.0   0.0       0.0    0.0    0.0   \n",
      "skeptical       0.0    0.0  ...     0.0   0.0       0.0    0.0    0.0   \n",
      "actually        0.0    0.0  ...     0.0   0.0       0.0    0.0    0.0   \n",
      "number          0.0    0.0  ...     0.0   0.0       0.0    0.0    0.0   \n",
      "cable           0.0    0.0  ...     0.0   0.0       0.0    0.0    0.0   \n",
      "able            0.0    0.0  ...     0.0   0.0       0.0    0.0    0.0   \n",
      "second          0.0    0.0  ...     0.0   0.0       0.0    0.0    0.0   \n",
      "year            0.0    0.0  ...     0.0   0.0       0.0    0.0    0.0   \n",
      "speaker         0.0    0.0  ...     0.0   0.0       0.0    0.0    0.0   \n",
      "apps            0.0    0.0  ...     0.0   0.0       0.0    0.0    0.0   \n",
      "yard            0.0    0.0  ...     0.0   0.0       0.0    0.0    0.0   \n",
      "wyoming         0.0    0.0  ...     0.0   0.0       0.0    0.0    0.0   \n",
      "loooooove       0.0    0.0  ...     0.0   0.0       0.0    0.0    0.0   \n",
      "cottage         0.0    0.0  ...     0.0   0.0       0.0    0.0    0.0   \n",
      "dots            0.0    0.0  ...     0.0   0.0       0.0    0.0    0.0   \n",
      "list            0.0    0.0  ...     0.0   0.0       0.0    0.0    0.0   \n",
      "charm           0.0    0.0  ...     0.0   0.0       0.0    0.0    0.0   \n",
      "gifted          0.0    0.0  ...     0.0   0.0       0.0    0.0    0.0   \n",
      "savy            0.0    0.0  ...     0.0   0.0       0.0    0.0    0.0   \n",
      "friend          0.0    0.0  ...     0.0   0.0       0.0    0.0    0.0   \n",
      "left            0.0    0.0  ...     0.0   0.0       0.0    0.0    0.0   \n",
      "respond         0.0    0.0  ...     0.0   0.0       0.0    0.0    0.0   \n",
      "generations     0.0    0.0  ...     0.0   0.0       0.0    0.0    0.0   \n",
      "bass            0.0    0.0  ...     0.0   0.0       0.0    0.0    0.0   \n",
      "play            0.0    0.0  ...     0.0   0.0       0.0    0.0    0.0   \n",
      "...             ...    ...  ...     ...   ...       ...    ...    ...   \n",
      "useful          0.0    0.0  ...     0.0   0.0       0.0    0.0    0.0   \n",
      "responses       0.0    0.0  ...     0.0   0.0       0.0    0.0    0.0   \n",
      "medication      0.0    0.0  ...     0.0   0.0       0.0    0.0    0.0   \n",
      "tiny            0.0    0.0  ...     0.0   0.0       0.0    0.0    0.0   \n",
      "phone           0.0    0.0  ...     0.0   0.0       0.0    0.0    0.0   \n",
      "super           0.0    0.0  ...     0.0   0.0       0.0    0.0    0.0   \n",
      "smarter         0.0    0.0  ...     0.0   0.0       0.0    0.0    0.0   \n",
      "time            0.0    0.0  ...     0.0   0.0       0.0    0.0    0.0   \n",
      "upset           0.0    0.0  ...     0.0   0.0       0.0    0.0    0.0   \n",
      "drops           0.0    0.0  ...     0.0   0.0       0.0    0.0    0.0   \n",
      "actual          0.0    0.0  ...     0.0   0.0       0.0    0.0    0.0   \n",
      "cases           0.0    0.0  ...     0.0   0.0       0.0    0.0    0.0   \n",
      "boyfriend       0.0    0.0  ...     0.0   0.0       0.0    0.0    0.0   \n",
      "alex            0.0    0.0  ...     0.0   0.0       0.0    0.0    0.0   \n",
      "paid            0.0    0.0  ...     0.0   0.0       0.0    0.0    0.0   \n",
      "connection      0.0    0.0  ...     0.0   0.0       2.0    0.0    0.0   \n",
      "sensitive       0.0    0.0  ...     0.0   0.0       0.0    0.0    0.0   \n",
      "forget          0.0    0.0  ...     0.0   0.0       0.0    0.0    0.0   \n",
      "programs        0.0    0.0  ...     0.0   0.0       0.0    0.0    0.0   \n",
      "sounded         0.0    0.0  ...     0.0   0.0       0.0    0.0    0.0   \n",
      "switch          0.0    0.0  ...     0.0   0.0       0.0    0.0    0.0   \n",
      "took            0.0    0.0  ...     0.0   0.0       0.0    0.0    0.0   \n",
      "analogue        0.0    0.0  ...     0.0   0.0       0.0    0.0    0.0   \n",
      "local           0.0    0.0  ...     0.0   0.0       0.0    0.0    0.0   \n",
      "makes           0.0    0.0  ...     0.0   0.0       0.0    0.0    0.0   \n",
      "connect         0.0    0.0  ...     0.0   0.0       0.0    0.0    0.0   \n",
      "remember        0.0    0.0  ...     0.0   0.0       0.0    0.0    0.0   \n",
      "switches        0.0    0.0  ...     0.0   0.0       0.0    0.0    0.0   \n",
      "feedback        0.0    0.0  ...     0.0   0.0       0.0    0.0    0.0   \n",
      "downstairs      0.0    0.0  ...     0.0   0.0       0.0    0.0    0.0   \n",
      "\n",
      "             connect  remember  switches  feedback  downstairs  \n",
      "clock            0.0       0.0       0.0       0.0         0.0  \n",
      "mail             0.0       0.0       0.0       0.0         0.0  \n",
      "frustrate        0.0       0.0       0.0       0.0         0.0  \n",
      "bien             0.0       0.0       0.0       0.0         0.0  \n",
      "general          0.0       0.0       0.0       0.0         0.0  \n",
      "home             0.0       0.0       0.0       0.0         0.0  \n",
      "skeptical        0.0       0.0       0.0       0.0         0.0  \n",
      "actually         0.0       0.0       0.0       0.0         0.0  \n",
      "number           0.0       0.0       0.0       0.0         0.0  \n",
      "cable            0.0       0.0       0.0       0.0         0.0  \n",
      "able             0.0       0.0       0.0       0.0         0.0  \n",
      "second           0.0       0.0       0.0       0.0         0.0  \n",
      "year             0.0       0.0       0.0       0.0         0.0  \n",
      "speaker          0.0       0.0       0.0       0.0         0.0  \n",
      "apps             0.0       0.0       0.0       0.0         0.0  \n",
      "yard             0.0       0.0       0.0       0.0         0.0  \n",
      "wyoming          0.0       0.0       0.0       0.0         0.0  \n",
      "loooooove        0.0       0.0       0.0       0.0         0.0  \n",
      "cottage          0.0       0.0       0.0       0.0         0.0  \n",
      "dots             0.0       0.0       0.0       0.0         0.0  \n",
      "list             0.0       0.0       0.0       0.0         0.0  \n",
      "charm            0.0       0.0       0.0       0.0         0.0  \n",
      "gifted           0.0       0.0       0.0       0.0         0.0  \n",
      "savy             0.0       0.0       0.0       0.0         0.0  \n",
      "friend           0.0       0.0       0.0       0.0         0.0  \n",
      "left             0.0       0.0       0.0       0.0         0.0  \n",
      "respond          0.0       0.0       0.0       0.0         0.0  \n",
      "generations      0.0       0.0       0.0       0.0         0.0  \n",
      "bass             0.0       0.0       0.0       0.0         0.0  \n",
      "play             0.0       0.0       0.0       0.0         0.0  \n",
      "...              ...       ...       ...       ...         ...  \n",
      "useful           0.0       0.0       0.0       0.0         0.0  \n",
      "responses        0.0       0.0       0.0       0.0         0.0  \n",
      "medication       0.0       0.0       0.0       0.0         0.0  \n",
      "tiny             0.0       0.0       0.0       0.0         0.0  \n",
      "phone            0.0       0.0       0.0       0.0         0.0  \n",
      "super            0.0       0.0       0.0       0.0         0.0  \n",
      "smarter          0.0       0.0       0.0       0.0         0.0  \n",
      "time             0.0       0.0       0.0       0.0         0.0  \n",
      "upset            0.0       0.0       0.0       0.0         0.0  \n",
      "drops            0.0       0.0       0.0       0.0         0.0  \n",
      "actual           0.0       0.0       0.0       0.0         0.0  \n",
      "cases            0.0       0.0       0.0       0.0         0.0  \n",
      "boyfriend        0.0       0.0       0.0       0.0         0.0  \n",
      "alex             0.0       0.0       0.0       0.0         0.0  \n",
      "paid             0.0       0.0       0.0       0.0         0.0  \n",
      "connection       0.0       0.0       0.0       0.0         0.0  \n",
      "sensitive        0.0       0.0       0.0       0.0         0.0  \n",
      "forget           0.0       0.0       0.0       0.0         0.0  \n",
      "programs         0.0       0.0       0.0       0.0         0.0  \n",
      "sounded          0.0       0.0       0.0       0.0         0.0  \n",
      "switch           0.0       0.0       0.0       0.0         0.0  \n",
      "took             0.0       0.0       0.0       0.0         0.0  \n",
      "analogue         0.0       0.0       0.0       0.0         0.0  \n",
      "local            0.0       0.0       0.0       0.0         0.0  \n",
      "makes            0.0       0.0       0.0       0.0         0.0  \n",
      "connect          0.0       0.0       0.0       0.0         0.0  \n",
      "remember         0.0       0.0       0.0       0.0         0.0  \n",
      "switches         0.0       0.0       0.0       0.0         0.0  \n",
      "feedback         0.0       0.0       0.0       0.0         0.0  \n",
      "downstairs       0.0       0.0       0.0       0.0         0.0  \n",
      "\n",
      "[467 rows x 467 columns]\n"
     ]
    }
   ],
   "source": [
    "text_data = [['Where', 'Python', 'is', 'used'],\n",
    "             ['What', 'is', 'Python' 'used', 'in'],\n",
    "             ['Why', 'Python', 'is', 'best'],\n",
    "             ['What', 'companies', 'use', 'Python']]\n",
    " \n",
    "# Create one list using many lists\n",
    "data = list(itertools.chain.from_iterable(reviews))\n",
    "matrix, vocab_index = generate_co_occurrence_matrix(data)\n",
    " \n",
    "data_matrix = pd.DataFrame(matrix, index=vocab_index,\n",
    "                             columns=vocab_index)\n",
    "print(data_matrix)"
   ]
  },
  {
   "cell_type": "code",
   "execution_count": 48,
   "metadata": {},
   "outputs": [
    {
     "data": {
      "text/plain": [
       "pandas.core.frame.DataFrame"
      ]
     },
     "execution_count": 48,
     "metadata": {},
     "output_type": "execute_result"
    }
   ],
   "source": [
    "type(data_matrix)"
   ]
  },
  {
   "cell_type": "code",
   "execution_count": 49,
   "metadata": {},
   "outputs": [],
   "source": [
    "data_matrix.to_csv('../results/alexa_reviews_cooccurrences.csv')"
   ]
  },
  {
   "cell_type": "code",
   "execution_count": null,
   "metadata": {},
   "outputs": [],
   "source": []
  },
  {
   "cell_type": "code",
   "execution_count": null,
   "metadata": {},
   "outputs": [],
   "source": []
  },
  {
   "cell_type": "code",
   "execution_count": null,
   "metadata": {},
   "outputs": [],
   "source": []
  },
  {
   "cell_type": "code",
   "execution_count": null,
   "metadata": {},
   "outputs": [],
   "source": []
  },
  {
   "cell_type": "code",
   "execution_count": null,
   "metadata": {},
   "outputs": [],
   "source": []
  },
  {
   "cell_type": "code",
   "execution_count": null,
   "metadata": {},
   "outputs": [],
   "source": []
  },
  {
   "cell_type": "code",
   "execution_count": null,
   "metadata": {},
   "outputs": [],
   "source": []
  }
 ],
 "metadata": {
  "kernelspec": {
   "display_name": "Python 3",
   "language": "python",
   "name": "python3"
  },
  "language_info": {
   "codemirror_mode": {
    "name": "ipython",
    "version": 3
   },
   "file_extension": ".py",
   "mimetype": "text/x-python",
   "name": "python",
   "nbconvert_exporter": "python",
   "pygments_lexer": "ipython3",
   "version": "3.7.6"
  }
 },
 "nbformat": 4,
 "nbformat_minor": 2
}
