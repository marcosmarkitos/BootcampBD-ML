{
 "cells": [
  {
   "cell_type": "code",
   "execution_count": 7,
   "metadata": {},
   "outputs": [],
   "source": [
    "import sys\n",
    "sys.path.append('../..')\n",
    "\n",
    "from utils import load_cinema_reviews, get_lemmas_dict"
   ]
  },
  {
   "cell_type": "markdown",
   "metadata": {},
   "source": [
    "# Lectura de datos"
   ]
  },
  {
   "cell_type": "code",
   "execution_count": 2,
   "metadata": {},
   "outputs": [],
   "source": [
    "# Path al directorio donde tenemos los datasets con las reviews\n",
    "# ¡Descomprimir antes!\n",
    "datasets_path = '../../datasets'\n",
    "corpus_cine_folder = 'corpusCine'"
   ]
  },
  {
   "cell_type": "code",
   "execution_count": 3,
   "metadata": {},
   "outputs": [],
   "source": [
    "reviews_dict = load_cinema_reviews(datasets_path, corpus_cine_folder)"
   ]
  },
  {
   "cell_type": "code",
   "execution_count": 4,
   "metadata": {},
   "outputs": [
    {
     "name": "stdout",
     "output_type": "stream",
     "text": [
      "3878\n"
     ]
    }
   ],
   "source": [
    "print(len(reviews_dict))"
   ]
  },
  {
   "cell_type": "code",
   "execution_count": 5,
   "metadata": {
    "scrolled": true
   },
   "outputs": [
    {
     "data": {
      "text/plain": [
       "{'author': 'Javier Moreno',\n",
       " 'title': 'Harry poter y el caliz de fuego',\n",
       " 'summary': 'Interesante adaptación de la novela de Rowling',\n",
       " 'review_text': 'No. Esta vez no voy a usar una película como pretexto para exponer mis ideas o pensamientos mas dementes/racionales/insensatos. Esta vez, y lo juro ante el sagrado Necronomicón de Lovecraft, pienso hablar de la película en si (por primera vez y esperando que no sirva de precedente), aunque creo que es evidente que prefiero que una película me haga reflexionar sobre cualquier aspecto que en ella se de cita. Quizas algún dia hable sobre todo lo que significa la saga de novelas de Rowling (anda que no tengo cosas de las que hablar) desde una perspectiva menos mitológica y mas profunda.Parto de la base de que soy un autentico fan de los libros, los adoro, me parecen de lo mejorcito que ha salido en fantasia, con un personaje principal realmente interesante y atormentado a todos los niveles por todo lo que su no-existencia está implicando. Parto de la base, que cuando se adapta un libro a la gran pantalla, lo que menos me interesa es su posible fidelidad o no (aunque seria un autentico hipócrita si negara que me importa un bledo). Parto de la base, que lo que mas me gusta ver en una adaptación, es ver plasmado en imagenes lo que los libros me sugirieron con palabras.Tras estas premisas, indico como preludio, que las adaptaciones de Columbus me parecieron bastante interesantes, acordes con lo que los libros narran y reflejando en imagenes todo lo que disfruté en cada uno de los dos volumenes llevados a la gran pantalla por el director de solo en casa. Tambien me gustaria indicar, que la tercera pelicula, dirigida por Alfonso Cuaron, si bien a nivel tecnico me parecio bastante sorprendente (a excepción de ese anorexico hombre lobo), no me acabó de convencer, es mas, me defraudó muchisimo, porque no vi el espiritu de la novela reflejado en la pantalla. Rowling puede decir que la pelicula le encanta y mil cosas mas, pero si a mi me ponen un cheque de 10 millones de dolares sobre la mesa, digo si hace falta que dios existe por mucho que traicione todo lo que la novela implicaba.Con estas breves reseñas, y como indicaba, tras el fiasco sufrido con Harry Potter y el prisionero de Azkaban, he acudido al cine, sin ninguna información (no queria sentirme influido a ningún nivel, ni predispuesto a sentirme decepcionado, ni predispuesto a sentirme satisfecho) a ver la cuarta película del mago huerfano. ¿Que me he encontrado en la película?, pues no mucho, lo que mas me a sorprendido es que un libro de 650 paginas, aun habiendo obviado ciertos pasajes, haya sido mas que correctamente sintetizado en 150 minutos de pelicula, me he encontrado con un director, Mike Newell (realizador entre otras de Cuatro bodas y un funeral, y a priori el menos indicado para una película como esta), que a sabido trasladar la idea global que inspiraba la novela a los 35mm. Sorprendente sin lugar a dudas. Me he encontrado tambien con unos individuos que representaban en las anteriores peliculas a los personajes de las novelas actuando minimamente, aunque Daniel Radcliffe tenga menos talento que la araña a la cual Ojoloco Moody le lanza las maldiciones imperdonables. Mucho efecto visual -inevitable-, absolutamente apabullantes y en ocasiones excelentes (con especial mención para el colacuerno hungaro), buen ritmo narrativo, y algunas escenas que precisaban de mas metraje (especialmente el ataque de los mortifagos, que con lo genial que queda su entrada en escena, uno desea mucho mas). En USA el filme a sido calificado PG-13, en España PG-7. Bueno, es cierto que es muy oscura (algo por otra parte heredero del espiritu de la novela -y me estoy repitiendo con el jodido espiritu-), tiene momentos \"terrorificos\" como la citada aparición de los mortifagos en los mundiales de quidditch y tiene momentos divertidos. Eso es la película, los fans mas radicales de Harry Potter la amarán, los fans mas puristas la repudiaran, entre los menos radicales habrá gente a la que le guste y otra a la que le deje indiferente, y a los que no se han leido las novelas pues les parecera entretenida. Yo, que siendo seguidor de los libros, prefiero situarme en un termino medio, ni tan increible como estoy leyendo por ahi, ni tan mala como se podría esperar viniendo del director que viene. Una película interesante que a mi modo de ver mejora muchisimo el fiasco de Cuarón.De todas formas, dentro de 20 años, veremos si la saga cinematográfica del mago londinense sigue siendo recordada o se quedará en el olvido mas absoluto. Será digno de verlo, si se me permite una reflexión rapida.. soy de los que piensan que los filmes no aguantarán el paso del tiempo como si lo harán las novelas.Y por ultimo, recomendaciones para los productores, para la orden del fenix olvidaros de David Yates y contratad a Guillermo del Toro, para the half blood prince yo apostaria por un Shane Carruth (director de Primer) y para el septimo libro, aun sin haberlo leido, Darren Aronofsky, del cual una vez mas reivindico el urgente estreno de The fountain, que servidor, desde que vio Requiem por un sueño, ansia ver la tercera obra maestra de este director tan destroyer.PD: En caso de no ser Aronofsky, un Takashi Miike seria tremendo.'}"
      ]
     },
     "execution_count": 5,
     "metadata": {},
     "output_type": "execute_result"
    }
   ],
   "source": [
    "reviews_dict.get(10)"
   ]
  },
  {
   "cell_type": "markdown",
   "metadata": {},
   "source": [
    "# Clase String\n",
    "\n",
    "Clase nativa de Python que íncorpora utilidades para procesado de texto.\n",
    "\n",
    "Enlace a los distintos métodos: [link](https://www.w3schools.com/python/python_ref_string.asp). "
   ]
  },
  {
   "cell_type": "markdown",
   "metadata": {},
   "source": [
    "# Tokenización"
   ]
  },
  {
   "cell_type": "code",
   "execution_count": 6,
   "metadata": {},
   "outputs": [
    {
     "name": "stdout",
     "output_type": "stream",
     "text": [
      "No. Esta vez no voy a usar una película como pretexto para exponer mis ideas o pensamientos mas dementes/racionales/insensatos. Esta vez, y lo juro ante el sagrado Necronomicón de Lovecraft, pienso hablar de la película en si (por primera vez y esperando que no sirva de precedente), aunque creo que es evidente que prefiero que una película me haga reflexionar sobre cualquier aspecto que en ella se de cita. Quizas algún dia hable sobre todo lo que significa la saga de novelas de Rowling (anda que no tengo cosas de las que hablar) desde una perspectiva menos mitológica y mas profunda.Parto de la base de que soy un autentico fan de los libros, los adoro, me parecen de lo mejorcito que ha salido en fantasia, con un personaje principal realmente interesante y atormentado a todos los niveles por todo lo que su no-existencia está implicando. Parto de la base, que cuando se adapta un libro a la gran pantalla, lo que menos me interesa es su posible fidelidad o no (aunque seria un autentico hipó\n"
     ]
    }
   ],
   "source": [
    "review = reviews_dict.get(10).get('review_text')\n",
    "print(review[:1000])"
   ]
  },
  {
   "cell_type": "markdown",
   "metadata": {},
   "source": [
    "## Frases"
   ]
  },
  {
   "cell_type": "code",
   "execution_count": 7,
   "metadata": {
    "scrolled": true
   },
   "outputs": [
    {
     "name": "stdout",
     "output_type": "stream",
     "text": [
      "['No', ' Esta vez no voy a usar una película como pretexto para exponer mis ideas o pensamientos mas dementes/racionales/insensatos', ' Esta vez, y lo juro ante el sagrado Necronomicón de Lovecraft, pienso hablar de la película en si (por primera vez y esperando que no sirva de precedente), aunque creo que es evidente que prefiero que una película me haga reflexionar sobre cualquier aspecto que en ella se de cita', ' Quizas algún dia hable sobre todo lo que significa la saga de novelas de Rowling (anda que no tengo cosas de las que hablar) desde una perspectiva menos mitológica y mas profunda', 'Parto de la base de que soy un autentico fan de los libros, los adoro, me parecen de lo mejorcito que ha salido en fantasia, con un personaje principal realmente interesante y atormentado a todos los niveles por todo lo que su no-existencia está implicando']\n"
     ]
    }
   ],
   "source": [
    "sentences = review.split('.')\n",
    "print(sentences[:5])"
   ]
  },
  {
   "cell_type": "markdown",
   "metadata": {},
   "source": [
    "## Tokens"
   ]
  },
  {
   "cell_type": "code",
   "execution_count": 8,
   "metadata": {},
   "outputs": [
    {
     "name": "stdout",
     "output_type": "stream",
     "text": [
      " Esta vez, y lo juro ante el sagrado Necronomicón de Lovecraft, pienso hablar de la película en si (por primera vez y esperando que no sirva de precedente), aunque creo que es evidente que prefiero que una película me haga reflexionar sobre cualquier aspecto que en ella se de cita\n"
     ]
    }
   ],
   "source": [
    "sentence = sentences[2]\n",
    "print(sentence)"
   ]
  },
  {
   "cell_type": "code",
   "execution_count": 9,
   "metadata": {
    "scrolled": true
   },
   "outputs": [
    {
     "name": "stdout",
     "output_type": "stream",
     "text": [
      "Palabra 0         \n",
      "Palabra 1    Esta \n",
      "Palabra 2    vez, \n",
      "Palabra 3    y    \n",
      "Palabra 4    lo   \n",
      "Palabra 5    juro \n",
      "Palabra 6    ante \n",
      "Palabra 7    el   \n",
      "Palabra 8    sagrado\n",
      "Palabra 9    Necronomicón\n",
      "Palabra 10   de   \n",
      "Palabra 11   Lovecraft,\n",
      "Palabra 12   pienso\n",
      "Palabra 13   hablar\n",
      "Palabra 14   de   \n",
      "Palabra 15   la   \n",
      "Palabra 16   película\n",
      "Palabra 17   en   \n",
      "Palabra 18   si   \n",
      "Palabra 19   (por \n",
      "Palabra 20   primera\n",
      "Palabra 21   vez  \n",
      "Palabra 22   y    \n",
      "Palabra 23   esperando\n",
      "Palabra 24   que  \n",
      "Palabra 25   no   \n",
      "Palabra 26   sirva\n",
      "Palabra 27   de   \n",
      "Palabra 28   precedente),\n",
      "Palabra 29   aunque\n",
      "Palabra 30   creo \n",
      "Palabra 31   que  \n",
      "Palabra 32   es   \n",
      "Palabra 33   evidente\n",
      "Palabra 34   que  \n",
      "Palabra 35   prefiero\n",
      "Palabra 36   que  \n",
      "Palabra 37   una  \n",
      "Palabra 38   película\n",
      "Palabra 39   me   \n",
      "Palabra 40   haga \n",
      "Palabra 41   reflexionar\n",
      "Palabra 42   sobre\n",
      "Palabra 43   cualquier\n",
      "Palabra 44   aspecto\n",
      "Palabra 45   que  \n",
      "Palabra 46   en   \n",
      "Palabra 47   ella \n",
      "Palabra 48   se   \n",
      "Palabra 49   de   \n",
      "Palabra 50   cita \n"
     ]
    }
   ],
   "source": [
    "for idx, word in enumerate(sentence.split(' ')):\n",
    "    print('Palabra {0:5}{1:5}'.format(str(idx), word))"
   ]
  },
  {
   "cell_type": "markdown",
   "metadata": {},
   "source": [
    "# Normalización"
   ]
  },
  {
   "cell_type": "code",
   "execution_count": 10,
   "metadata": {},
   "outputs": [
    {
     "name": "stdout",
     "output_type": "stream",
     "text": [
      " Esta vez, y lo juro ante el sagrado Necronomicón de Lovecraft, pienso hablar de la película en si (por primera vez y esperando que no sirva de precedente), aunque creo que es evidente que prefiero que una película me haga reflexionar sobre cualquier aspecto que en ella se de cita\n"
     ]
    }
   ],
   "source": [
    "print(sentence)"
   ]
  },
  {
   "cell_type": "markdown",
   "metadata": {},
   "source": [
    "## Convertir a minúsculas"
   ]
  },
  {
   "cell_type": "code",
   "execution_count": 11,
   "metadata": {},
   "outputs": [
    {
     "data": {
      "text/plain": [
       "' esta vez, y lo juro ante el sagrado necronomicón de lovecraft, pienso hablar de la película en si (por primera vez y esperando que no sirva de precedente), aunque creo que es evidente que prefiero que una película me haga reflexionar sobre cualquier aspecto que en ella se de cita'"
      ]
     },
     "execution_count": 11,
     "metadata": {},
     "output_type": "execute_result"
    }
   ],
   "source": [
    "sentence.lower()"
   ]
  },
  {
   "cell_type": "markdown",
   "metadata": {},
   "source": [
    "## Convertir a mayúsculas"
   ]
  },
  {
   "cell_type": "code",
   "execution_count": 12,
   "metadata": {},
   "outputs": [
    {
     "data": {
      "text/plain": [
       "' ESTA VEZ, Y LO JURO ANTE EL SAGRADO NECRONOMICÓN DE LOVECRAFT, PIENSO HABLAR DE LA PELÍCULA EN SI (POR PRIMERA VEZ Y ESPERANDO QUE NO SIRVA DE PRECEDENTE), AUNQUE CREO QUE ES EVIDENTE QUE PREFIERO QUE UNA PELÍCULA ME HAGA REFLEXIONAR SOBRE CUALQUIER ASPECTO QUE EN ELLA SE DE CITA'"
      ]
     },
     "execution_count": 12,
     "metadata": {},
     "output_type": "execute_result"
    }
   ],
   "source": [
    "sentence.upper()"
   ]
  },
  {
   "cell_type": "markdown",
   "metadata": {},
   "source": [
    "## Eliminar espacios al inicio y al final"
   ]
  },
  {
   "cell_type": "code",
   "execution_count": 13,
   "metadata": {},
   "outputs": [
    {
     "data": {
      "text/plain": [
       "'Esta vez, y lo juro ante el sagrado Necronomicón de Lovecraft, pienso hablar de la película en si (por primera vez y esperando que no sirva de precedente), aunque creo que es evidente que prefiero que una película me haga reflexionar sobre cualquier aspecto que en ella se de cita'"
      ]
     },
     "execution_count": 13,
     "metadata": {},
     "output_type": "execute_result"
    }
   ],
   "source": [
    "sentence.strip()"
   ]
  },
  {
   "cell_type": "markdown",
   "metadata": {},
   "source": [
    "## Filtrado"
   ]
  },
  {
   "cell_type": "code",
   "execution_count": 14,
   "metadata": {},
   "outputs": [
    {
     "data": {
      "text/plain": [
       "' sta vez y lo juro ante el sagrado ecronomic n de ovecraft pienso hablar de la pel cula en si por primera vez y esperando que no sirva de precedente aunque creo que es evidente que prefiero que una pel cula me haga reflexionar sobre cualquier aspecto que en ella se de cita'"
      ]
     },
     "execution_count": 14,
     "metadata": {},
     "output_type": "execute_result"
    }
   ],
   "source": [
    "# Solo minúsculas y números\n",
    "import re\n",
    "re.sub(r'[^a-z0-9]+', ' ', sentence)"
   ]
  },
  {
   "cell_type": "code",
   "execution_count": 15,
   "metadata": {},
   "outputs": [
    {
     "data": {
      "text/plain": [
       "' '"
      ]
     },
     "execution_count": 15,
     "metadata": {},
     "output_type": "execute_result"
    }
   ],
   "source": [
    "# Solo números\n",
    "# Quedarse solo con números\n",
    "import re\n",
    "re.sub('[^0-9]+', ' ', sentence)"
   ]
  },
  {
   "cell_type": "markdown",
   "metadata": {},
   "source": [
    "## Eliminar puntuación"
   ]
  },
  {
   "cell_type": "code",
   "execution_count": 16,
   "metadata": {},
   "outputs": [
    {
     "data": {
      "text/plain": [
       "'Esta vez y lo juro ante el sagrado Necronomicón de Lovecraft pienso hablar de la película en si por primera vez y esperando que no sirva de precedente aunque creo que es evidente que prefiero que una película me haga reflexionar sobre cualquier aspecto que en ella se de cita'"
      ]
     },
     "execution_count": 16,
     "metadata": {},
     "output_type": "execute_result"
    }
   ],
   "source": [
    "import string\n",
    "table = str.maketrans('', '', string.punctuation)\n",
    "' '.join([word.translate(table) for word in sentence.split()])"
   ]
  },
  {
   "cell_type": "markdown",
   "metadata": {},
   "source": [
    "## Eliminar acentos"
   ]
  },
  {
   "cell_type": "code",
   "execution_count": 17,
   "metadata": {},
   "outputs": [],
   "source": [
    "import unicodedata"
   ]
  },
  {
   "cell_type": "code",
   "execution_count": 18,
   "metadata": {},
   "outputs": [
    {
     "data": {
      "text/plain": [
       "'Texto Acentuado n'"
      ]
     },
     "execution_count": 18,
     "metadata": {},
     "output_type": "execute_result"
    }
   ],
   "source": [
    "text_with_accents = 'Téxtô Ácěntuado ñ'\n",
    "unicodedata.normalize('NFKD', text_with_accents).encode('ascii', 'ignore').decode('utf-8', 'ignore')"
   ]
  },
  {
   "cell_type": "markdown",
   "metadata": {},
   "source": [
    "## Convertir números a texto"
   ]
  },
  {
   "cell_type": "code",
   "execution_count": 19,
   "metadata": {},
   "outputs": [],
   "source": [
    "from num2words import num2words"
   ]
  },
  {
   "cell_type": "code",
   "execution_count": 20,
   "metadata": {},
   "outputs": [
    {
     "data": {
      "text/plain": [
       "'two'"
      ]
     },
     "execution_count": 20,
     "metadata": {},
     "output_type": "execute_result"
    }
   ],
   "source": [
    "num2words(2)"
   ]
  },
  {
   "cell_type": "code",
   "execution_count": 21,
   "metadata": {},
   "outputs": [
    {
     "data": {
      "text/plain": [
       "'dos'"
      ]
     },
     "execution_count": 21,
     "metadata": {},
     "output_type": "execute_result"
    }
   ],
   "source": [
    "num2words(2, lang='es', ordinal=False)"
   ]
  },
  {
   "cell_type": "code",
   "execution_count": 22,
   "metadata": {},
   "outputs": [
    {
     "data": {
      "text/plain": [
       "'segundo'"
      ]
     },
     "execution_count": 22,
     "metadata": {},
     "output_type": "execute_result"
    }
   ],
   "source": [
    "num2words(2, lang='es', ordinal=True)"
   ]
  },
  {
   "cell_type": "code",
   "execution_count": 23,
   "metadata": {},
   "outputs": [
    {
     "data": {
      "text/plain": [
       "['Hoy', 'es', 'veintinueve', 'de', 'junio', 'de', 'dos mil veinte']"
      ]
     },
     "execution_count": 23,
     "metadata": {},
     "output_type": "execute_result"
    }
   ],
   "source": [
    "[word if not word.isdigit() else num2words(word, lang='es', ordinal=False) for word in 'Hoy es 29 de junio de 2020'.split(' ')]"
   ]
  },
  {
   "cell_type": "markdown",
   "metadata": {},
   "source": [
    "## Stopwords"
   ]
  },
  {
   "cell_type": "markdown",
   "metadata": {},
   "source": [
    "Palabras con - a priori - ningún significado o que aportan muy poca información. Suelen ser palabras muy comunes como, por ejemplo, preposiciones.\n",
    "\n",
    "En NLP se suele trabajar con vocabularios enormes (en _Don Quijote de la Mancha_ aparecen en torno a **23.000 palabras distintas**) por lo que interesa filtras aquellas que menos información aporten.\n",
    "\n",
    "Debate: ¿qué significa que _aporten información_?"
   ]
  },
  {
   "cell_type": "code",
   "execution_count": 24,
   "metadata": {},
   "outputs": [],
   "source": [
    "from stop_words import get_stop_words"
   ]
  },
  {
   "cell_type": "code",
   "execution_count": 25,
   "metadata": {
    "scrolled": true
   },
   "outputs": [],
   "source": [
    "sw_list = get_stop_words('es')"
   ]
  },
  {
   "cell_type": "code",
   "execution_count": 26,
   "metadata": {
    "scrolled": true
   },
   "outputs": [
    {
     "name": "stdout",
     "output_type": "stream",
     "text": [
      "['a', 'al', 'algo', 'algunas', 'algunos', 'ante', 'antes', 'como', 'con', 'contra', 'cual', 'cuando', 'de', 'del', 'desde', 'donde', 'durante', 'e', 'el', 'ella', 'ellas', 'ellos', 'en', 'entre', 'era', 'erais', 'eran', 'eras', 'eres', 'es', 'esa', 'esas', 'ese', 'eso', 'esos', 'esta', 'estaba', 'estabais', 'estaban', 'estabas', 'estad', 'estada', 'estadas', 'estado', 'estados', 'estamos', 'estando', 'estar', 'estaremos', 'estará', 'estarán', 'estarás', 'estaré', 'estaréis', 'estaría', 'estaríais', 'estaríamos', 'estarían', 'estarías', 'estas', 'este', 'estemos', 'esto', 'estos', 'estoy', 'estuve', 'estuviera', 'estuvierais', 'estuvieran', 'estuvieras', 'estuvieron', 'estuviese', 'estuvieseis', 'estuviesen', 'estuvieses', 'estuvimos', 'estuviste', 'estuvisteis', 'estuviéramos', 'estuviésemos', 'estuvo', 'está', 'estábamos', 'estáis', 'están', 'estás', 'esté', 'estéis', 'estén', 'estés', 'fue', 'fuera', 'fuerais', 'fueran', 'fueras', 'fueron', 'fuese', 'fueseis', 'fuesen', 'fueses', 'fui', 'fuimos', 'fuiste', 'fuisteis', 'fuéramos', 'fuésemos', 'ha', 'habida', 'habidas', 'habido', 'habidos', 'habiendo', 'habremos', 'habrá', 'habrán', 'habrás', 'habré', 'habréis', 'habría', 'habríais', 'habríamos', 'habrían', 'habrías', 'habéis', 'había', 'habíais', 'habíamos', 'habían', 'habías', 'han', 'has', 'hasta', 'hay', 'haya', 'hayamos', 'hayan', 'hayas', 'hayáis', 'he', 'hemos', 'hube', 'hubiera', 'hubierais', 'hubieran', 'hubieras', 'hubieron', 'hubiese', 'hubieseis', 'hubiesen', 'hubieses', 'hubimos', 'hubiste', 'hubisteis', 'hubiéramos', 'hubiésemos', 'hubo', 'la', 'las', 'le', 'les', 'lo', 'los', 'me', 'mi', 'mis', 'mucho', 'muchos', 'muy', 'más', 'mí', 'mía', 'mías', 'mío', 'míos', 'nada', 'ni', 'no', 'nos', 'nosotras', 'nosotros', 'nuestra', 'nuestras', 'nuestro', 'nuestros', 'o', 'os', 'otra', 'otras', 'otro', 'otros', 'para', 'pero', 'poco', 'por', 'porque', 'que', 'quien', 'quienes', 'qué', 'se', 'sea', 'seamos', 'sean', 'seas', 'seremos', 'será', 'serán', 'serás', 'seré', 'seréis', 'sería', 'seríais', 'seríamos', 'serían', 'serías', 'seáis', 'sido', 'siendo', 'sin', 'sobre', 'sois', 'somos', 'son', 'soy', 'su', 'sus', 'suya', 'suyas', 'suyo', 'suyos', 'sí', 'también', 'tanto', 'te', 'tendremos', 'tendrá', 'tendrán', 'tendrás', 'tendré', 'tendréis', 'tendría', 'tendríais', 'tendríamos', 'tendrían', 'tendrías', 'tened', 'tenemos', 'tenga', 'tengamos', 'tengan', 'tengas', 'tengo', 'tengáis', 'tenida', 'tenidas', 'tenido', 'tenidos', 'teniendo', 'tenéis', 'tenía', 'teníais', 'teníamos', 'tenían', 'tenías', 'ti', 'tiene', 'tienen', 'tienes', 'todo', 'todos', 'tu', 'tus', 'tuve', 'tuviera', 'tuvierais', 'tuvieran', 'tuvieras', 'tuvieron', 'tuviese', 'tuvieseis', 'tuviesen', 'tuvieses', 'tuvimos', 'tuviste', 'tuvisteis', 'tuviéramos', 'tuviésemos', 'tuvo', 'tuya', 'tuyas', 'tuyo', 'tuyos', 'tú', 'un', 'una', 'uno', 'unos', 'vosotras', 'vosotros', 'vuestra', 'vuestras', 'vuestro', 'vuestros', 'y', 'ya', 'yo', 'él', 'éramos']\n"
     ]
    }
   ],
   "source": [
    "print(sw_list)"
   ]
  },
  {
   "cell_type": "code",
   "execution_count": 27,
   "metadata": {},
   "outputs": [
    {
     "name": "stdout",
     "output_type": "stream",
     "text": [
      "Frase completa:\n",
      " Esta vez, y lo juro ante el sagrado Necronomicón de Lovecraft, pienso hablar de la película en si (por primera vez y esperando que no sirva de precedente), aunque creo que es evidente que prefiero que una película me haga reflexionar sobre cualquier aspecto que en ella se de cita\n",
      "\n",
      "Frase sin stopwords:\n",
      "Esta vez, juro sagrado Necronomicón Lovecraft, pienso hablar película si (por primera vez esperando sirva precedente), aunque creo evidente prefiero película haga reflexionar cualquier aspecto cita\n"
     ]
    }
   ],
   "source": [
    "sentence_no_sw = ' '.join([word for word in sentence.split() if word not in sw_list])\n",
    "\n",
    "print('Frase completa:\\n{}\\n'.format(sentence))\n",
    "print('Frase sin stopwords:\\n{}'.format(sentence_no_sw))"
   ]
  },
  {
   "cell_type": "markdown",
   "metadata": {},
   "source": [
    "## Lemmatization"
   ]
  },
  {
   "cell_type": "markdown",
   "metadata": {},
   "source": [
    "Técnica de normalización de textos que busca reducir las palabras a su raíz (lemma).\n",
    "\n",
    "\n",
    "Muy utilizado para reducir la cardinalidad del vocabulario asociando para diferentes formas flexionadas un único token ('entreno', 'entrenarás', 'entrenaría' -> 'entrenar').\n",
    "\n",
    "Aunque muy utilizados en motores de búsqueda "
   ]
  },
  {
   "cell_type": "code",
   "execution_count": 8,
   "metadata": {},
   "outputs": [],
   "source": [
    "data_path = '../../data'\n",
    "lemmas_dict_file = 'lemmatization-es.txt'"
   ]
  },
  {
   "cell_type": "code",
   "execution_count": 9,
   "metadata": {},
   "outputs": [],
   "source": [
    "lemmas_dict = get_lemmas_dict(data_path, lemmas_dict_file)"
   ]
  },
  {
   "cell_type": "code",
   "execution_count": 10,
   "metadata": {},
   "outputs": [
    {
     "data": {
      "text/plain": [
       "{'aes': '\\ufeffa',\n",
       " 'ababas': 'abar',\n",
       " 'abababites': 'abababite',\n",
       " 'ababanes': 'ababan',\n",
       " 'ababoles': 'ababol',\n",
       " 'abacas': 'abaca',\n",
       " 'abacerias': 'abaceria',\n",
       " 'abacera': 'abacero',\n",
       " 'abaceras': 'abacero',\n",
       " 'abaceros': 'abacero',\n",
       " 'abaciales': 'abacial',\n",
       " 'abacos': 'abaco',\n",
       " 'abades': 'abad',\n",
       " 'abadas': 'abar',\n",
       " 'abadejos': 'abadejo',\n",
       " 'abadenga': 'abadengo',\n",
       " 'abadengas': 'abadengo',\n",
       " 'abadengos': 'abadengo',\n",
       " 'abadesas': 'abadesa',\n",
       " 'abadias': 'abadia',\n",
       " 'abadiados': 'abadiado',\n",
       " 'abadiatos': 'abadiato',\n",
       " 'abajaderos': 'abajadero',\n",
       " 'abajamientos': 'abajamiento',\n",
       " 'abaja': 'abajar',\n",
       " 'abajaba': 'abajar',\n",
       " 'abajabais': 'abajar',\n",
       " 'abajabamos': 'abajar',\n",
       " 'abajaban': 'abajar',\n",
       " 'abajabas': 'abajar',\n",
       " 'abajad': 'abajar',\n",
       " 'abajada': 'abajar',\n",
       " 'abajadas': 'abajar',\n",
       " 'abajado': 'abajar',\n",
       " 'abajados': 'abajar',\n",
       " 'abajais': 'abajar',\n",
       " 'abajamos': 'abajar',\n",
       " 'abajan': 'abajar',\n",
       " 'abajando': 'abajar',\n",
       " 'abajara': 'abajar',\n",
       " 'abajarais': 'abajar',\n",
       " 'abajaramos': 'abajar',\n",
       " 'abajaran': 'abajar',\n",
       " 'abajaras': 'abajar',\n",
       " 'abajare': 'abajar',\n",
       " 'abajareis': 'abajar',\n",
       " 'abajaremos': 'abajar',\n",
       " 'abajaren': 'abajar',\n",
       " 'abajares': 'abajar',\n",
       " 'abajaria': 'abajar',\n",
       " 'abajariais': 'abajar',\n",
       " 'abajariamos': 'abajar',\n",
       " 'abajarian': 'abajar',\n",
       " 'abajarias': 'abajar',\n",
       " 'abajaron': 'abajar',\n",
       " 'abajas': 'abajar',\n",
       " 'abajase': 'abajar',\n",
       " 'abajaseis': 'abajar',\n",
       " 'abajasemos': 'abajar',\n",
       " 'abajasen': 'abajar',\n",
       " 'abajases': 'abajar',\n",
       " 'abajaste': 'abajar',\n",
       " 'abajasteis': 'abajar',\n",
       " 'abaje': 'abajar',\n",
       " 'abajeis': 'abajar',\n",
       " 'abajemos': 'abajar',\n",
       " 'abajen': 'abajar',\n",
       " 'abajes': 'abajar',\n",
       " 'abajo': 'abajar',\n",
       " 'abajeña': 'abajeño',\n",
       " 'abajeñas': 'abajeño',\n",
       " 'abajeños': 'abajeño',\n",
       " 'abalance': 'abalanzar',\n",
       " 'abalanceis': 'abalanzar',\n",
       " 'abalancemos': 'abalanzar',\n",
       " 'abalancen': 'abalanzar',\n",
       " 'abalances': 'abalanzar',\n",
       " 'abalanza': 'abalanzar',\n",
       " 'abalanzaba': 'abalanzar',\n",
       " 'abalanzabais': 'abalanzar',\n",
       " 'abalanzabamos': 'abalanzar',\n",
       " 'abalanzaban': 'abalanzar',\n",
       " 'abalanzabas': 'abalanzar',\n",
       " 'abalanzad': 'abalanzar',\n",
       " 'abalanzada': 'abalanzar',\n",
       " 'abalanzadas': 'abalanzar',\n",
       " 'abalanzado': 'abalanzar',\n",
       " 'abalanzados': 'abalanzar',\n",
       " 'abalanzais': 'abalanzar',\n",
       " 'abalanzamos': 'abalanzar',\n",
       " 'abalanzan': 'abalanzar',\n",
       " 'abalanzando': 'abalanzar',\n",
       " 'abalanzara': 'abalanzar',\n",
       " 'abalanzarais': 'abalanzar',\n",
       " 'abalanzaramos': 'abalanzar',\n",
       " 'abalanzaran': 'abalanzar',\n",
       " 'abalanzaras': 'abalanzar',\n",
       " 'abalanzare': 'abalanzar',\n",
       " 'abalanzareis': 'abalanzar',\n",
       " 'abalanzaremos': 'abalanzar',\n",
       " 'abalanzaren': 'abalanzar',\n",
       " 'abalanzares': 'abalanzar',\n",
       " 'abalanzaria': 'abalanzar',\n",
       " 'abalanzariais': 'abalanzar',\n",
       " 'abalanzariamos': 'abalanzar',\n",
       " 'abalanzarian': 'abalanzar',\n",
       " 'abalanzarias': 'abalanzar',\n",
       " 'abalanzaron': 'abalanzar',\n",
       " 'abalanzas': 'abalanzar',\n",
       " 'abalanzase': 'abalanzar',\n",
       " 'abalanzaseis': 'abalanzar',\n",
       " 'abalanzasemos': 'abalanzar',\n",
       " 'abalanzasen': 'abalanzar',\n",
       " 'abalanzases': 'abalanzar',\n",
       " 'abalanzaste': 'abalanzar',\n",
       " 'abalanzasteis': 'abalanzar',\n",
       " 'abalanzo': 'abalanzar',\n",
       " 'abalaustra': 'abalaustrar',\n",
       " 'abalaustraba': 'abalaustrar',\n",
       " 'abalaustrabais': 'abalaustrar',\n",
       " 'abalaustrabamos': 'abalaustrar',\n",
       " 'abalaustraban': 'abalaustrar',\n",
       " 'abalaustrabas': 'abalaustrar',\n",
       " 'abalaustrad': 'abalaustrar',\n",
       " 'abalaustrada': 'abalaustrar',\n",
       " 'abalaustradas': 'abalaustrar',\n",
       " 'abalaustrado': 'abalaustrar',\n",
       " 'abalaustrados': 'abalaustrar',\n",
       " 'abalaustrais': 'abalaustrar',\n",
       " 'abalaustramos': 'abalaustrar',\n",
       " 'abalaustran': 'abalaustrar',\n",
       " 'abalaustrando': 'abalaustrar',\n",
       " 'abalaustrara': 'abalaustrar',\n",
       " 'abalaustrarais': 'abalaustrar',\n",
       " 'abalaustraramos': 'abalaustrar',\n",
       " 'abalaustraran': 'abalaustrar',\n",
       " 'abalaustraras': 'abalaustrar',\n",
       " 'abalaustrare': 'abalaustrar',\n",
       " 'abalaustrareis': 'abalaustrar',\n",
       " 'abalaustraremos': 'abalaustrar',\n",
       " 'abalaustraren': 'abalaustrar',\n",
       " 'abalaustrares': 'abalaustrar',\n",
       " 'abalaustraria': 'abalaustrar',\n",
       " 'abalaustrariais': 'abalaustrar',\n",
       " 'abalaustrariamos': 'abalaustrar',\n",
       " 'abalaustrarian': 'abalaustrar',\n",
       " 'abalaustrarias': 'abalaustrar',\n",
       " 'abalaustraron': 'abalaustrar',\n",
       " 'abalaustras': 'abalaustrar',\n",
       " 'abalaustrase': 'abalaustrar',\n",
       " 'abalaustraseis': 'abalaustrar',\n",
       " 'abalaustrasemos': 'abalaustrar',\n",
       " 'abalaustrasen': 'abalaustrar',\n",
       " 'abalaustrases': 'abalaustrar',\n",
       " 'abalaustraste': 'abalaustrar',\n",
       " 'abalaustrasteis': 'abalaustrar',\n",
       " 'abalaustre': 'abalaustrar',\n",
       " 'abalaustreis': 'abalaustrar',\n",
       " 'abalaustremos': 'abalaustrar',\n",
       " 'abalaustren': 'abalaustrar',\n",
       " 'abalaustres': 'abalaustrar',\n",
       " 'abalaustro': 'abalaustrar',\n",
       " 'abaleadora': 'abaleador',\n",
       " 'abaleadoras': 'abaleador',\n",
       " 'abaleadores': 'abaleador',\n",
       " 'abaleaduras': 'abaleadura',\n",
       " 'abalea': 'abalear',\n",
       " 'abaleaba': 'abalear',\n",
       " 'abaleabais': 'abalear',\n",
       " 'abaleabamos': 'abalear',\n",
       " 'abaleaban': 'abalear',\n",
       " 'abaleabas': 'abalear',\n",
       " 'abalead': 'abalear',\n",
       " 'abaleada': 'abalear',\n",
       " 'abaleadas': 'abalear',\n",
       " 'abaleado': 'abalear',\n",
       " 'abaleados': 'abalear',\n",
       " 'abaleais': 'abalear',\n",
       " 'abaleamos': 'abalear',\n",
       " 'abalean': 'abalear',\n",
       " 'abaleando': 'abalear',\n",
       " 'abaleara': 'abalear',\n",
       " 'abalearais': 'abalear',\n",
       " 'abalearamos': 'abalear',\n",
       " 'abalearan': 'abalear',\n",
       " 'abalearas': 'abalear',\n",
       " 'abaleare': 'abalear',\n",
       " 'abaleareis': 'abalear',\n",
       " 'abalearemos': 'abalear',\n",
       " 'abalearen': 'abalear',\n",
       " 'abaleares': 'abalear',\n",
       " 'abalearia': 'abalear',\n",
       " 'abaleariais': 'abalear',\n",
       " 'abaleariamos': 'abalear',\n",
       " 'abalearian': 'abalear',\n",
       " 'abalearias': 'abalear',\n",
       " 'abalearon': 'abalear',\n",
       " 'abaleas': 'abalear',\n",
       " 'abalease': 'abalear',\n",
       " 'abaleaseis': 'abalear',\n",
       " 'abaleasemos': 'abalear',\n",
       " 'abaleasen': 'abalear',\n",
       " 'abaleases': 'abalear',\n",
       " 'abaleaste': 'abalear',\n",
       " 'abaleasteis': 'abalear',\n",
       " 'abalee': 'abalear',\n",
       " 'abaleeis': 'abalear',\n",
       " 'abaleemos': 'abalear',\n",
       " 'abaleen': 'abalear',\n",
       " 'abalees': 'abalear',\n",
       " 'abaleo': 'abalear',\n",
       " 'abaleos': 'abaleo',\n",
       " 'abalizamientos': 'abalizamiento',\n",
       " 'abalice': 'abalizar',\n",
       " 'abaliceis': 'abalizar',\n",
       " 'abalicemos': 'abalizar',\n",
       " 'abalicen': 'abalizar',\n",
       " 'abalices': 'abalizar',\n",
       " 'abaliza': 'abalizar',\n",
       " 'abalizaba': 'abalizar',\n",
       " 'abalizabais': 'abalizar',\n",
       " 'abalizabamos': 'abalizar',\n",
       " 'abalizaban': 'abalizar',\n",
       " 'abalizabas': 'abalizar',\n",
       " 'abalizad': 'abalizar',\n",
       " 'abalizada': 'abalizar',\n",
       " 'abalizadas': 'abalizar',\n",
       " 'abalizado': 'abalizar',\n",
       " 'abalizados': 'abalizar',\n",
       " 'abalizais': 'abalizar',\n",
       " 'abalizamos': 'abalizar',\n",
       " 'abalizan': 'abalizar',\n",
       " 'abalizando': 'abalizar',\n",
       " 'abalizara': 'abalizar',\n",
       " 'abalizarais': 'abalizar',\n",
       " 'abalizaramos': 'abalizar',\n",
       " 'abalizaran': 'abalizar',\n",
       " 'abalizaras': 'abalizar',\n",
       " 'abalizare': 'abalizar',\n",
       " 'abalizareis': 'abalizar',\n",
       " 'abalizaremos': 'abalizar',\n",
       " 'abalizaren': 'abalizar',\n",
       " 'abalizares': 'abalizar',\n",
       " 'abalizaria': 'abalizar',\n",
       " 'abalizariais': 'abalizar',\n",
       " 'abalizariamos': 'abalizar',\n",
       " 'abalizarian': 'abalizar',\n",
       " 'abalizarias': 'abalizar',\n",
       " 'abalizaron': 'abalizar',\n",
       " 'abalizas': 'abalizar',\n",
       " 'abalizase': 'abalizar',\n",
       " 'abalizaseis': 'abalizar',\n",
       " 'abalizasemos': 'abalizar',\n",
       " 'abalizasen': 'abalizar',\n",
       " 'abalizases': 'abalizar',\n",
       " 'abalizaste': 'abalizar',\n",
       " 'abalizasteis': 'abalizar',\n",
       " 'abalizo': 'abalizar',\n",
       " 'aballa': 'aballar',\n",
       " 'aballaba': 'aballar',\n",
       " 'aballabais': 'aballar',\n",
       " 'aballabamos': 'aballar',\n",
       " 'aballaban': 'aballar',\n",
       " 'aballabas': 'aballar',\n",
       " 'aballad': 'aballar',\n",
       " 'aballada': 'aballar',\n",
       " 'aballadas': 'aballar',\n",
       " 'aballado': 'aballar',\n",
       " 'aballados': 'aballar',\n",
       " 'aballais': 'aballar',\n",
       " 'aballamos': 'aballar',\n",
       " 'aballan': 'aballar',\n",
       " 'aballando': 'aballar',\n",
       " 'aballara': 'aballar',\n",
       " 'aballarais': 'aballar',\n",
       " 'aballaramos': 'aballar',\n",
       " 'aballaran': 'aballar',\n",
       " 'aballaras': 'aballar',\n",
       " 'aballare': 'aballar',\n",
       " 'aballareis': 'aballar',\n",
       " 'aballaremos': 'aballar',\n",
       " 'aballaren': 'aballar',\n",
       " 'aballares': 'aballar',\n",
       " 'aballaria': 'aballar',\n",
       " 'aballariais': 'aballar',\n",
       " 'aballariamos': 'aballar',\n",
       " 'aballarian': 'aballar',\n",
       " 'aballarias': 'aballar',\n",
       " 'aballaron': 'aballar',\n",
       " 'aballas': 'aballar',\n",
       " 'aballase': 'aballar',\n",
       " 'aballaseis': 'aballar',\n",
       " 'aballasemos': 'aballar',\n",
       " 'aballasen': 'aballar',\n",
       " 'aballases': 'aballar',\n",
       " 'aballaste': 'aballar',\n",
       " 'aballasteis': 'aballar',\n",
       " 'aballe': 'aballar',\n",
       " 'aballeis': 'aballar',\n",
       " 'aballemos': 'aballar',\n",
       " 'aballen': 'aballar',\n",
       " 'aballes': 'aballar',\n",
       " 'aballo': 'aballar',\n",
       " 'aballesta': 'aballestar',\n",
       " 'aballestaba': 'aballestar',\n",
       " 'aballestabais': 'aballestar',\n",
       " 'aballestabamos': 'aballestar',\n",
       " 'aballestaban': 'aballestar',\n",
       " 'aballestabas': 'aballestar',\n",
       " 'aballestad': 'aballestar',\n",
       " 'aballestada': 'aballestar',\n",
       " 'aballestadas': 'aballestar',\n",
       " 'aballestado': 'aballestar',\n",
       " 'aballestados': 'aballestar',\n",
       " 'aballestais': 'aballestar',\n",
       " 'aballestamos': 'aballestar',\n",
       " 'aballestan': 'aballestar',\n",
       " 'aballestando': 'aballestar',\n",
       " 'aballestara': 'aballestar',\n",
       " 'aballestarais': 'aballestar',\n",
       " 'aballestaramos': 'aballestar',\n",
       " 'aballestaran': 'aballestar',\n",
       " 'aballestaras': 'aballestar',\n",
       " 'aballestare': 'aballestar',\n",
       " 'aballestareis': 'aballestar',\n",
       " 'aballestaremos': 'aballestar',\n",
       " 'aballestaren': 'aballestar',\n",
       " 'aballestares': 'aballestar',\n",
       " 'aballestaria': 'aballestar',\n",
       " 'aballestariais': 'aballestar',\n",
       " 'aballestariamos': 'aballestar',\n",
       " 'aballestarian': 'aballestar',\n",
       " 'aballestarias': 'aballestar',\n",
       " 'aballestaron': 'aballestar',\n",
       " 'aballestas': 'aballestar',\n",
       " 'aballestase': 'aballestar',\n",
       " 'aballestaseis': 'aballestar',\n",
       " 'aballestasemos': 'aballestar',\n",
       " 'aballestasen': 'aballestar',\n",
       " 'aballestases': 'aballestar',\n",
       " 'aballestaste': 'aballestar',\n",
       " 'aballestasteis': 'aballestar',\n",
       " 'aballeste': 'aballestar',\n",
       " 'aballesteis': 'aballestar',\n",
       " 'aballestemos': 'aballestar',\n",
       " 'aballesten': 'aballestar',\n",
       " 'aballestes': 'aballestar',\n",
       " 'aballesto': 'aballestar',\n",
       " 'abalorios': 'abalorio',\n",
       " 'abaluarta': 'abaluartar',\n",
       " 'abaluartaba': 'abaluartar',\n",
       " 'abaluartabais': 'abaluartar',\n",
       " 'abaluartabamos': 'abaluartar',\n",
       " 'abaluartaban': 'abaluartar',\n",
       " 'abaluartabas': 'abaluartar',\n",
       " 'abaluartad': 'abaluartar',\n",
       " 'abaluartada': 'abaluartar',\n",
       " 'abaluartadas': 'abaluartar',\n",
       " 'abaluartado': 'abaluartar',\n",
       " 'abaluartados': 'abaluartar',\n",
       " 'abaluartais': 'abaluartar',\n",
       " 'abaluartamos': 'abaluartar',\n",
       " 'abaluartan': 'abaluartar',\n",
       " 'abaluartando': 'abaluartar',\n",
       " 'abaluartara': 'abaluartar',\n",
       " 'abaluartarais': 'abaluartar',\n",
       " 'abaluartaramos': 'abaluartar',\n",
       " 'abaluartaran': 'abaluartar',\n",
       " 'abaluartaras': 'abaluartar',\n",
       " 'abaluartare': 'abaluartar',\n",
       " 'abaluartareis': 'abaluartar',\n",
       " 'abaluartaremos': 'abaluartar',\n",
       " 'abaluartaren': 'abaluartar',\n",
       " 'abaluartares': 'abaluartar',\n",
       " 'abaluartaria': 'abaluartar',\n",
       " 'abaluartariais': 'abaluartar',\n",
       " 'abaluartariamos': 'abaluartar',\n",
       " 'abaluartarian': 'abaluartar',\n",
       " 'abaluartarias': 'abaluartar',\n",
       " 'abaluartaron': 'abaluartar',\n",
       " 'abaluartas': 'abaluartar',\n",
       " 'abaluartase': 'abaluartar',\n",
       " 'abaluartaseis': 'abaluartar',\n",
       " 'abaluartasemos': 'abaluartar',\n",
       " 'abaluartasen': 'abaluartar',\n",
       " 'abaluartases': 'abaluartar',\n",
       " 'abaluartaste': 'abaluartar',\n",
       " 'abaluartasteis': 'abaluartar',\n",
       " 'abaluarte': 'abaluartar',\n",
       " 'abaluarteis': 'abaluartar',\n",
       " 'abaluartemos': 'abaluartar',\n",
       " 'abaluarten': 'abaluartar',\n",
       " 'abaluartes': 'abaluartar',\n",
       " 'abaluarto': 'abaluartar',\n",
       " 'abañadora': 'abañador',\n",
       " 'abañadoras': 'abañador',\n",
       " 'abañadores': 'abañador',\n",
       " 'abañaduras': 'abañadura',\n",
       " 'abana': 'abanar',\n",
       " 'abanaba': 'abanar',\n",
       " 'abanabais': 'abanar',\n",
       " 'abanabamos': 'abanar',\n",
       " 'abanaban': 'abanar',\n",
       " 'abanabas': 'abanar',\n",
       " 'abanad': 'abanar',\n",
       " 'abanada': 'abanar',\n",
       " 'abanadas': 'abanar',\n",
       " 'abanado': 'abanar',\n",
       " 'abanados': 'abanar',\n",
       " 'abanais': 'abanar',\n",
       " 'abanamos': 'abanar',\n",
       " 'abanan': 'abanar',\n",
       " 'abanando': 'abanar',\n",
       " 'abanara': 'abanar',\n",
       " 'abanarais': 'abanar',\n",
       " 'abanaramos': 'abanar',\n",
       " 'abanaran': 'abanar',\n",
       " 'abanaras': 'abanar',\n",
       " 'abanare': 'abanar',\n",
       " 'abanareis': 'abanar',\n",
       " 'abanaremos': 'abanar',\n",
       " 'abanaren': 'abanar',\n",
       " 'abanares': 'abanar',\n",
       " 'abanaria': 'abanar',\n",
       " 'abanariais': 'abanar',\n",
       " 'abanariamos': 'abanar',\n",
       " 'abanarian': 'abanar',\n",
       " 'abanarias': 'abanar',\n",
       " 'abanaron': 'abanar',\n",
       " 'abanas': 'abanar',\n",
       " 'abanase': 'abanar',\n",
       " 'abanaseis': 'abanar',\n",
       " 'abanasemos': 'abanar',\n",
       " 'abanasen': 'abanar',\n",
       " 'abanases': 'abanar',\n",
       " 'abanaste': 'abanar',\n",
       " 'abanasteis': 'abanar',\n",
       " 'abane': 'abanar',\n",
       " 'abaneis': 'abanar',\n",
       " 'abanemos': 'abanar',\n",
       " 'abanen': 'abanar',\n",
       " 'abanes': 'abanar',\n",
       " 'abano': 'abanar',\n",
       " 'abaña': 'abañar',\n",
       " 'abañaba': 'abañar',\n",
       " 'abañabais': 'abañar',\n",
       " 'abañabamos': 'abañar',\n",
       " 'abañaban': 'abañar',\n",
       " 'abañabas': 'abañar',\n",
       " 'abañad': 'abañar',\n",
       " 'abañada': 'abañar',\n",
       " 'abañadas': 'abañar',\n",
       " 'abañado': 'abañar',\n",
       " 'abañados': 'abañar',\n",
       " 'abañais': 'abañar',\n",
       " 'abañamos': 'abañar',\n",
       " 'abañan': 'abañar',\n",
       " 'abañando': 'abañar',\n",
       " 'abañara': 'abañar',\n",
       " 'abañarais': 'abañar',\n",
       " 'abañaramos': 'abañar',\n",
       " 'abañaran': 'abañar',\n",
       " 'abañaras': 'abañar',\n",
       " 'abañare': 'abañar',\n",
       " 'abañareis': 'abañar',\n",
       " 'abañaremos': 'abañar',\n",
       " 'abañaren': 'abañar',\n",
       " 'abañares': 'abañar',\n",
       " 'abañaria': 'abañar',\n",
       " 'abañariais': 'abañar',\n",
       " 'abañariamos': 'abañar',\n",
       " 'abañarian': 'abañar',\n",
       " 'abañarias': 'abañar',\n",
       " 'abañaron': 'abañar',\n",
       " 'abañas': 'abañar',\n",
       " 'abañase': 'abañar',\n",
       " 'abañaseis': 'abañar',\n",
       " 'abañasemos': 'abañar',\n",
       " 'abañasen': 'abañar',\n",
       " 'abañases': 'abañar',\n",
       " 'abañaste': 'abañar',\n",
       " 'abañasteis': 'abañar',\n",
       " 'abañe': 'abañar',\n",
       " 'abañeis': 'abañar',\n",
       " 'abañemos': 'abañar',\n",
       " 'abañen': 'abañar',\n",
       " 'abañes': 'abañar',\n",
       " 'abaño': 'abañar',\n",
       " 'abandalice': 'abandalizar',\n",
       " 'abandaliceis': 'abandalizar',\n",
       " 'abandalicemos': 'abandalizar',\n",
       " 'abandalicen': 'abandalizar',\n",
       " 'abandalices': 'abandalizar',\n",
       " 'abandaliza': 'abandalizar',\n",
       " 'abandalizaba': 'abandalizar',\n",
       " 'abandalizabais': 'abandalizar',\n",
       " 'abandalizabamos': 'abandalizar',\n",
       " 'abandalizaban': 'abandalizar',\n",
       " 'abandalizabas': 'abandalizar',\n",
       " 'abandalizad': 'abandalizar',\n",
       " 'abandalizada': 'abandalizar',\n",
       " 'abandalizadas': 'abandalizar',\n",
       " 'abandalizado': 'abandalizar',\n",
       " 'abandalizados': 'abandalizar',\n",
       " 'abandalizais': 'abandalizar',\n",
       " 'abandalizamos': 'abandalizar',\n",
       " 'abandalizan': 'abandalizar',\n",
       " 'abandalizando': 'abandalizar',\n",
       " 'abandalizara': 'abandalizar',\n",
       " 'abandalizarais': 'abandalizar',\n",
       " 'abandalizaramos': 'abandalizar',\n",
       " 'abandalizaran': 'abandalizar',\n",
       " 'abandalizaras': 'abandalizar',\n",
       " 'abandalizare': 'abandalizar',\n",
       " 'abandalizareis': 'abandalizar',\n",
       " 'abandalizaremos': 'abandalizar',\n",
       " 'abandalizaren': 'abandalizar',\n",
       " 'abandalizares': 'abandalizar',\n",
       " 'abandalizaria': 'abandalizar',\n",
       " 'abandalizariais': 'abandalizar',\n",
       " 'abandalizariamos': 'abandalizar',\n",
       " 'abandalizarian': 'abandalizar',\n",
       " 'abandalizarias': 'abandalizar',\n",
       " 'abandalizaron': 'abandalizar',\n",
       " 'abandalizas': 'abandalizar',\n",
       " 'abandalizase': 'abandalizar',\n",
       " 'abandalizaseis': 'abandalizar',\n",
       " 'abandalizasemos': 'abandalizar',\n",
       " 'abandalizasen': 'abandalizar',\n",
       " 'abandalizases': 'abandalizar',\n",
       " 'abandalizaste': 'abandalizar',\n",
       " 'abandalizasteis': 'abandalizar',\n",
       " 'abandalizo': 'abandalizar',\n",
       " 'abanderada': 'abanderar',\n",
       " 'abanderadas': 'abanderar',\n",
       " 'abanderados': 'abanderar',\n",
       " 'abanderamientos': 'abanderamiento',\n",
       " 'abandera': 'abanderar',\n",
       " 'abanderaba': 'abanderar',\n",
       " 'abanderabais': 'abanderar',\n",
       " 'abanderabamos': 'abanderar',\n",
       " 'abanderaban': 'abanderar',\n",
       " 'abanderabas': 'abanderar',\n",
       " 'abanderad': 'abanderar',\n",
       " 'abanderado': 'abanderar',\n",
       " 'abanderais': 'abanderar',\n",
       " 'abanderamos': 'abanderar',\n",
       " 'abanderan': 'abanderar',\n",
       " 'abanderando': 'abanderar',\n",
       " 'abanderara': 'abanderar',\n",
       " 'abanderarais': 'abanderar',\n",
       " 'abanderaramos': 'abanderar',\n",
       " 'abanderaran': 'abanderar',\n",
       " 'abanderaras': 'abanderar',\n",
       " 'abanderare': 'abanderar',\n",
       " 'abanderareis': 'abanderar',\n",
       " 'abanderaremos': 'abanderar',\n",
       " 'abanderaren': 'abanderar',\n",
       " 'abanderares': 'abanderar',\n",
       " 'abanderaria': 'abanderar',\n",
       " 'abanderariais': 'abanderar',\n",
       " 'abanderariamos': 'abanderar',\n",
       " 'abanderarian': 'abanderar',\n",
       " 'abanderarias': 'abanderar',\n",
       " 'abanderaron': 'abanderar',\n",
       " 'abanderas': 'abanderar',\n",
       " 'abanderase': 'abanderar',\n",
       " 'abanderaseis': 'abanderar',\n",
       " 'abanderasemos': 'abanderar',\n",
       " 'abanderasen': 'abanderar',\n",
       " 'abanderases': 'abanderar',\n",
       " 'abanderaste': 'abanderar',\n",
       " 'abanderasteis': 'abanderar',\n",
       " 'abandere': 'abanderar',\n",
       " 'abandereis': 'abanderar',\n",
       " 'abanderemos': 'abanderar',\n",
       " 'abanderen': 'abanderar',\n",
       " 'abanderes': 'abanderar',\n",
       " 'abandero': 'abanderar',\n",
       " 'abanderice': 'abanderizar',\n",
       " 'abandericeis': 'abanderizar',\n",
       " 'abandericemos': 'abanderizar',\n",
       " 'abandericen': 'abanderizar',\n",
       " 'abanderices': 'abanderizar',\n",
       " 'abanderiza': 'abanderizar',\n",
       " 'abanderizaba': 'abanderizar',\n",
       " 'abanderizabais': 'abanderizar',\n",
       " 'abanderizabamos': 'abanderizar',\n",
       " 'abanderizaban': 'abanderizar',\n",
       " 'abanderizabas': 'abanderizar',\n",
       " 'abanderizad': 'abanderizar',\n",
       " 'abanderizada': 'abanderizar',\n",
       " 'abanderizadas': 'abanderizar',\n",
       " 'abanderizado': 'abanderizar',\n",
       " 'abanderizados': 'abanderizar',\n",
       " 'abanderizais': 'abanderizar',\n",
       " 'abanderizamos': 'abanderizar',\n",
       " 'abanderizan': 'abanderizar',\n",
       " 'abanderizando': 'abanderizar',\n",
       " 'abanderizara': 'abanderizar',\n",
       " 'abanderizarais': 'abanderizar',\n",
       " 'abanderizaramos': 'abanderizar',\n",
       " 'abanderizaran': 'abanderizar',\n",
       " 'abanderizaras': 'abanderizar',\n",
       " 'abanderizare': 'abanderizar',\n",
       " 'abanderizareis': 'abanderizar',\n",
       " 'abanderizaremos': 'abanderizar',\n",
       " 'abanderizaren': 'abanderizar',\n",
       " 'abanderizares': 'abanderizar',\n",
       " 'abanderizaria': 'abanderizar',\n",
       " 'abanderizariais': 'abanderizar',\n",
       " 'abanderizariamos': 'abanderizar',\n",
       " 'abanderizarian': 'abanderizar',\n",
       " 'abanderizarias': 'abanderizar',\n",
       " 'abanderizaron': 'abanderizar',\n",
       " 'abanderizas': 'abanderizar',\n",
       " 'abanderizase': 'abanderizar',\n",
       " 'abanderizaseis': 'abanderizar',\n",
       " 'abanderizasemos': 'abanderizar',\n",
       " 'abanderizasen': 'abanderizar',\n",
       " 'abanderizases': 'abanderizar',\n",
       " 'abanderizaste': 'abanderizar',\n",
       " 'abanderizasteis': 'abanderizar',\n",
       " 'abanderizo': 'abanderizar',\n",
       " 'abandona': 'abandonar',\n",
       " 'abandonaba': 'abandonar',\n",
       " 'abandonabais': 'abandonar',\n",
       " 'abandonabamos': 'abandonar',\n",
       " 'abandonaban': 'abandonar',\n",
       " 'abandonabas': 'abandonar',\n",
       " 'abandonad': 'abandonar',\n",
       " 'abandonada': 'abandonar',\n",
       " 'abandonadas': 'abandonar',\n",
       " 'abandonado': 'abandonar',\n",
       " 'abandonados': 'abandonar',\n",
       " 'abandonais': 'abandonar',\n",
       " 'abandonamos': 'abandonar',\n",
       " 'abandonan': 'abandonar',\n",
       " 'abandonando': 'abandonar',\n",
       " 'abandonara': 'abandonar',\n",
       " 'abandonarais': 'abandonar',\n",
       " 'abandonaramos': 'abandonar',\n",
       " 'abandonaran': 'abandonar',\n",
       " 'abandonaras': 'abandonar',\n",
       " 'abandonare': 'abandonar',\n",
       " 'abandonareis': 'abandonar',\n",
       " 'abandonaremos': 'abandonar',\n",
       " 'abandonaren': 'abandonar',\n",
       " 'abandonares': 'abandonar',\n",
       " 'abandonaria': 'abandonar',\n",
       " 'abandonariais': 'abandonar',\n",
       " 'abandonariamos': 'abandonar',\n",
       " 'abandonarian': 'abandonar',\n",
       " 'abandonarias': 'abandonar',\n",
       " 'abandonaron': 'abandonar',\n",
       " 'abandonas': 'abandonar',\n",
       " 'abandonase': 'abandonar',\n",
       " 'abandonaseis': 'abandonar',\n",
       " 'abandonasemos': 'abandonar',\n",
       " 'abandonasen': 'abandonar',\n",
       " 'abandonases': 'abandonar',\n",
       " 'abandonaste': 'abandonar',\n",
       " 'abandonasteis': 'abandonar',\n",
       " 'abandone': 'abandonar',\n",
       " 'abandoneis': 'abandonar',\n",
       " 'abandonemos': 'abandonar',\n",
       " 'abandonen': 'abandonar',\n",
       " 'abandones': 'abandonar',\n",
       " 'abandono': 'abandonar',\n",
       " 'abandonismos': 'abandonismo',\n",
       " 'abandonistas': 'abandonista',\n",
       " 'abandonos': 'abandono',\n",
       " 'abanica': 'abanicar',\n",
       " 'abanicaba': 'abanicar',\n",
       " 'abanicabais': 'abanicar',\n",
       " 'abanicabamos': 'abanicar',\n",
       " 'abanicaban': 'abanicar',\n",
       " 'abanicabas': 'abanicar',\n",
       " 'abanicad': 'abanicar',\n",
       " 'abanicada': 'abanicar',\n",
       " 'abanicadas': 'abanicar',\n",
       " 'abanicado': 'abanicar',\n",
       " 'abanicados': 'abanicar',\n",
       " 'abanicais': 'abanicar',\n",
       " 'abanicamos': 'abanicar',\n",
       " 'abanican': 'abanicar',\n",
       " 'abanicando': 'abanicar',\n",
       " 'abanicara': 'abanicar',\n",
       " 'abanicarais': 'abanicar',\n",
       " 'abanicaramos': 'abanicar',\n",
       " 'abanicaran': 'abanicar',\n",
       " 'abanicaras': 'abanicar',\n",
       " 'abanicare': 'abanicar',\n",
       " 'abanicareis': 'abanicar',\n",
       " 'abanicaremos': 'abanicar',\n",
       " 'abanicaren': 'abanicar',\n",
       " 'abanicares': 'abanicar',\n",
       " 'abanicaria': 'abanicar',\n",
       " 'abanicariais': 'abanicar',\n",
       " 'abanicariamos': 'abanicar',\n",
       " 'abanicarian': 'abanicar',\n",
       " 'abanicarias': 'abanicar',\n",
       " 'abanicaron': 'abanicar',\n",
       " 'abanicas': 'abanicar',\n",
       " 'abanicase': 'abanicar',\n",
       " 'abanicaseis': 'abanicar',\n",
       " 'abanicasemos': 'abanicar',\n",
       " 'abanicasen': 'abanicar',\n",
       " 'abanicases': 'abanicar',\n",
       " 'abanicaste': 'abanicar',\n",
       " 'abanicasteis': 'abanicar',\n",
       " 'abanico': 'abanicar',\n",
       " 'abanique': 'abanicar',\n",
       " 'abaniqueis': 'abanicar',\n",
       " 'abaniquemos': 'abanicar',\n",
       " 'abaniquen': 'abanicar',\n",
       " 'abaniques': 'abanicar',\n",
       " 'abanicazos': 'abanicazo',\n",
       " 'abanicos': 'abanico',\n",
       " 'abanillos': 'abanillo',\n",
       " 'abaniqueos': 'abaniqueo',\n",
       " 'abaniquerias': 'abaniqueria',\n",
       " 'abaniquera': 'abaniquero',\n",
       " 'abaniqueras': 'abaniquero',\n",
       " 'abaniqueros': 'abaniquero',\n",
       " 'abanos': 'abano',\n",
       " 'abantos': 'abanto',\n",
       " 'aba': 'abar',\n",
       " 'ababa': 'abar',\n",
       " 'ababais': 'abar',\n",
       " 'ababamos': 'abar',\n",
       " 'ababan': 'abar',\n",
       " 'abad': 'abar',\n",
       " 'abada': 'abar',\n",
       " 'abado': 'abar',\n",
       " 'abados': 'abar',\n",
       " 'abais': 'abar',\n",
       " 'abamos': 'abar',\n",
       " 'aban': 'abar',\n",
       " 'abando': 'abar',\n",
       " 'abara': 'abar',\n",
       " 'abarais': 'abar',\n",
       " 'abaramos': 'abar',\n",
       " 'abaran': 'abar',\n",
       " 'abaras': 'abar',\n",
       " 'abare': 'abar',\n",
       " 'abareis': 'abar',\n",
       " 'abaremos': 'abar',\n",
       " 'abaren': 'abar',\n",
       " 'abares': 'abar',\n",
       " 'abaria': 'abar',\n",
       " 'abariais': 'abar',\n",
       " 'abariamos': 'abar',\n",
       " 'abarian': 'abar',\n",
       " 'abarias': 'abar',\n",
       " 'abaron': 'abar',\n",
       " 'abas': 'abar',\n",
       " 'abase': 'abar',\n",
       " 'abaseis': 'abar',\n",
       " 'abasemos': 'abar',\n",
       " 'abasen': 'abar',\n",
       " 'abases': 'abar',\n",
       " 'abaste': 'abastar',\n",
       " 'abasteis': 'abastar',\n",
       " 'abe': 'abar',\n",
       " 'abeis': 'abar',\n",
       " 'abemos': 'abar',\n",
       " 'aben': 'abar',\n",
       " 'abes': 'abar',\n",
       " 'abo': 'abar',\n",
       " 'abaratamientos': 'abaratamiento',\n",
       " 'abarata': 'abaratar',\n",
       " 'abarataba': 'abaratar',\n",
       " 'abaratabais': 'abaratar',\n",
       " 'abaratabamos': 'abaratar',\n",
       " 'abarataban': 'abaratar',\n",
       " 'abaratabas': 'abaratar',\n",
       " 'abaratad': 'abaratar',\n",
       " 'abaratada': 'abaratar',\n",
       " 'abaratadas': 'abaratar',\n",
       " 'abaratado': 'abaratar',\n",
       " 'abaratados': 'abaratar',\n",
       " 'abaratais': 'abaratar',\n",
       " 'abaratamos': 'abaratar',\n",
       " 'abaratan': 'abaratar',\n",
       " 'abaratando': 'abaratar',\n",
       " 'abaratara': 'abaratar',\n",
       " 'abaratarais': 'abaratar',\n",
       " 'abarataramos': 'abaratar',\n",
       " 'abarataran': 'abaratar',\n",
       " 'abarataras': 'abaratar',\n",
       " 'abaratare': 'abaratar',\n",
       " 'abaratareis': 'abaratar',\n",
       " 'abarataremos': 'abaratar',\n",
       " 'abarataren': 'abaratar',\n",
       " 'abaratares': 'abaratar',\n",
       " 'abarataria': 'abaratar',\n",
       " 'abaratariais': 'abaratar',\n",
       " 'abaratariamos': 'abaratar',\n",
       " 'abaratarian': 'abaratar',\n",
       " 'abaratarias': 'abaratar',\n",
       " 'abarataron': 'abaratar',\n",
       " 'abaratas': 'abaratar',\n",
       " 'abaratase': 'abaratar',\n",
       " 'abarataseis': 'abaratar',\n",
       " 'abaratasemos': 'abaratar',\n",
       " 'abaratasen': 'abaratar',\n",
       " 'abaratases': 'abaratar',\n",
       " 'abarataste': 'abaratar',\n",
       " 'abaratasteis': 'abaratar',\n",
       " 'abarate': 'abaratar',\n",
       " 'abarateis': 'abaratar',\n",
       " 'abaratemos': 'abaratar',\n",
       " 'abaraten': 'abaratar',\n",
       " 'abarates': 'abaratar',\n",
       " 'abarato': 'abaratar',\n",
       " 'abarbecha': 'abarbechar',\n",
       " 'abarbechaba': 'abarbechar',\n",
       " 'abarbechabais': 'abarbechar',\n",
       " 'abarbechabamos': 'abarbechar',\n",
       " 'abarbechaban': 'abarbechar',\n",
       " 'abarbechabas': 'abarbechar',\n",
       " 'abarbechad': 'abarbechar',\n",
       " 'abarbechada': 'abarbechar',\n",
       " 'abarbechadas': 'abarbechar',\n",
       " 'abarbechado': 'abarbechar',\n",
       " 'abarbechados': 'abarbechar',\n",
       " 'abarbechais': 'abarbechar',\n",
       " 'abarbechamos': 'abarbechar',\n",
       " 'abarbechan': 'abarbechar',\n",
       " 'abarbechando': 'abarbechar',\n",
       " 'abarbechara': 'abarbechar',\n",
       " 'abarbecharais': 'abarbechar',\n",
       " 'abarbecharamos': 'abarbechar',\n",
       " 'abarbecharan': 'abarbechar',\n",
       " 'abarbecharas': 'abarbechar',\n",
       " 'abarbechare': 'abarbechar',\n",
       " 'abarbechareis': 'abarbechar',\n",
       " 'abarbecharemos': 'abarbechar',\n",
       " 'abarbecharen': 'abarbechar',\n",
       " 'abarbechares': 'abarbechar',\n",
       " 'abarbecharia': 'abarbechar',\n",
       " 'abarbechariais': 'abarbechar',\n",
       " 'abarbechariamos': 'abarbechar',\n",
       " 'abarbecharian': 'abarbechar',\n",
       " 'abarbecharias': 'abarbechar',\n",
       " 'abarbecharon': 'abarbechar',\n",
       " 'abarbechas': 'abarbechar',\n",
       " 'abarbechase': 'abarbechar',\n",
       " 'abarbechaseis': 'abarbechar',\n",
       " 'abarbechasemos': 'abarbechar',\n",
       " 'abarbechasen': 'abarbechar',\n",
       " 'abarbechases': 'abarbechar',\n",
       " 'abarbechaste': 'abarbechar',\n",
       " 'abarbechasteis': 'abarbechar',\n",
       " 'abarbeche': 'abarbechar',\n",
       " 'abarbecheis': 'abarbechar',\n",
       " 'abarbechemos': 'abarbechar',\n",
       " 'abarbechen': 'abarbechar',\n",
       " 'abarbeches': 'abarbechar',\n",
       " 'abarbecho': 'abarbechar',\n",
       " 'abarbeta': 'abarbetar',\n",
       " 'abarbetaba': 'abarbetar',\n",
       " 'abarbetabais': 'abarbetar',\n",
       " 'abarbetabamos': 'abarbetar',\n",
       " 'abarbetaban': 'abarbetar',\n",
       " 'abarbetabas': 'abarbetar',\n",
       " 'abarbetad': 'abarbetar',\n",
       " 'abarbetada': 'abarbetar',\n",
       " 'abarbetadas': 'abarbetar',\n",
       " 'abarbetado': 'abarbetar',\n",
       " 'abarbetados': 'abarbetar',\n",
       " 'abarbetais': 'abarbetar',\n",
       " 'abarbetamos': 'abarbetar',\n",
       " 'abarbetan': 'abarbetar',\n",
       " 'abarbetando': 'abarbetar',\n",
       " 'abarbetara': 'abarbetar',\n",
       " 'abarbetarais': 'abarbetar',\n",
       " 'abarbetaramos': 'abarbetar',\n",
       " 'abarbetaran': 'abarbetar',\n",
       " 'abarbetaras': 'abarbetar',\n",
       " 'abarbetare': 'abarbetar',\n",
       " 'abarbetareis': 'abarbetar',\n",
       " 'abarbetaremos': 'abarbetar',\n",
       " 'abarbetaren': 'abarbetar',\n",
       " 'abarbetares': 'abarbetar',\n",
       " 'abarbetaria': 'abarbetar',\n",
       " 'abarbetariais': 'abarbetar',\n",
       " 'abarbetariamos': 'abarbetar',\n",
       " 'abarbetarian': 'abarbetar',\n",
       " 'abarbetarias': 'abarbetar',\n",
       " 'abarbetaron': 'abarbetar',\n",
       " 'abarbetas': 'abarbetar',\n",
       " 'abarbetase': 'abarbetar',\n",
       " 'abarbetaseis': 'abarbetar',\n",
       " 'abarbetasemos': 'abarbetar',\n",
       " 'abarbetasen': 'abarbetar',\n",
       " 'abarbetases': 'abarbetar',\n",
       " 'abarbetaste': 'abarbetar',\n",
       " 'abarbetasteis': 'abarbetar',\n",
       " 'abarbete': 'abarbetar',\n",
       " 'abarbeteis': 'abarbetar',\n",
       " 'abarbetemos': 'abarbetar',\n",
       " 'abarbeten': 'abarbetar',\n",
       " 'abarbetes': 'abarbetar',\n",
       " 'abarbeto': 'abarbetar',\n",
       " 'abarcas': 'abarcar',\n",
       " 'abarcables': 'abarcable',\n",
       " 'abarcadora': 'abarcador',\n",
       " 'abarcadoras': 'abarcador',\n",
       " 'abarcadores': 'abarcador',\n",
       " 'abarcaduras': 'abarcadura',\n",
       " 'abarcamientos': 'abarcamiento',\n",
       " 'abarca': 'abarcar',\n",
       " 'abarcaba': 'abarcar',\n",
       " 'abarcabais': 'abarcar',\n",
       " 'abarcabamos': 'abarcar',\n",
       " 'abarcaban': 'abarcar',\n",
       " 'abarcabas': 'abarcar',\n",
       " 'abarcad': 'abarcar',\n",
       " 'abarcada': 'abarcar',\n",
       " 'abarcadas': 'abarcar',\n",
       " 'abarcado': 'abarcar',\n",
       " 'abarcados': 'abarcar',\n",
       " 'abarcais': 'abarcar',\n",
       " 'abarcamos': 'abarcar',\n",
       " 'abarcan': 'abarcar',\n",
       " 'abarcando': 'abarcar',\n",
       " 'abarcara': 'abarcar',\n",
       " 'abarcarais': 'abarcar',\n",
       " 'abarcaramos': 'abarcar',\n",
       " 'abarcaran': 'abarcar',\n",
       " 'abarcaras': 'abarcar',\n",
       " 'abarcare': 'abarcar',\n",
       " 'abarcareis': 'abarcar',\n",
       " 'abarcaremos': 'abarcar',\n",
       " 'abarcaren': 'abarcar',\n",
       " 'abarcares': 'abarcar',\n",
       " 'abarcaria': 'abarcar',\n",
       " 'abarcariais': 'abarcar',\n",
       " 'abarcariamos': 'abarcar',\n",
       " 'abarcarian': 'abarcar',\n",
       " 'abarcarias': 'abarcar',\n",
       " 'abarcaron': 'abarcar',\n",
       " 'abarcase': 'abarcar',\n",
       " 'abarcaseis': 'abarcar',\n",
       " 'abarcasemos': 'abarcar',\n",
       " 'abarcasen': 'abarcar',\n",
       " 'abarcases': 'abarcar',\n",
       " 'abarcaste': 'abarcar',\n",
       " 'abarcasteis': 'abarcar',\n",
       " 'abarco': 'abarcar',\n",
       " 'abarque': 'abarcar',\n",
       " 'abarqueis': 'abarcar',\n",
       " 'abarquemos': 'abarcar',\n",
       " 'abarquen': 'abarcar',\n",
       " 'abarques': 'abarcar',\n",
       " 'abaritonada': 'abaritonado',\n",
       " 'abaritonadas': 'abaritonado',\n",
       " 'abaritonados': 'abaritonado',\n",
       " 'abarloamientos': 'abarloamiento',\n",
       " 'abarloa': 'abarloar',\n",
       " 'abarloaba': 'abarloar',\n",
       " 'abarloabais': 'abarloar',\n",
       " 'abarloabamos': 'abarloar',\n",
       " 'abarloaban': 'abarloar',\n",
       " 'abarloabas': 'abarloar',\n",
       " 'abarload': 'abarloar',\n",
       " 'abarloada': 'abarloar',\n",
       " 'abarloadas': 'abarloar',\n",
       " 'abarloado': 'abarloar',\n",
       " 'abarloados': 'abarloar',\n",
       " 'abarloais': 'abarloar',\n",
       " 'abarloamos': 'abarloar',\n",
       " 'abarloan': 'abarloar',\n",
       " 'abarloando': 'abarloar',\n",
       " 'abarloara': 'abarloar',\n",
       " 'abarloarais': 'abarloar',\n",
       " 'abarloaramos': 'abarloar',\n",
       " 'abarloaran': 'abarloar',\n",
       " 'abarloaras': 'abarloar',\n",
       " 'abarloare': 'abarloar',\n",
       " 'abarloareis': 'abarloar',\n",
       " 'abarloaremos': 'abarloar',\n",
       " 'abarloaren': 'abarloar',\n",
       " 'abarloares': 'abarloar',\n",
       " 'abarloaria': 'abarloar',\n",
       " 'abarloariais': 'abarloar',\n",
       " 'abarloariamos': 'abarloar',\n",
       " 'abarloarian': 'abarloar',\n",
       " 'abarloarias': 'abarloar',\n",
       " 'abarloaron': 'abarloar',\n",
       " 'abarloas': 'abarloar',\n",
       " 'abarloase': 'abarloar',\n",
       " 'abarloaseis': 'abarloar',\n",
       " 'abarloasemos': 'abarloar',\n",
       " 'abarloasen': 'abarloar',\n",
       " 'abarloases': 'abarloar',\n",
       " 'abarloaste': 'abarloar',\n",
       " 'abarloasteis': 'abarloar',\n",
       " ...}"
      ]
     },
     "execution_count": 10,
     "metadata": {},
     "output_type": "execute_result"
    }
   ],
   "source": [
    "lemmas_dict"
   ]
  },
  {
   "cell_type": "code",
   "execution_count": 33,
   "metadata": {},
   "outputs": [
    {
     "data": {
      "text/plain": [
       "'comer'"
      ]
     },
     "execution_count": 33,
     "metadata": {},
     "output_type": "execute_result"
    }
   ],
   "source": [
    "lemmas_dict.get('comieron')"
   ]
  },
  {
   "cell_type": "code",
   "execution_count": 34,
   "metadata": {},
   "outputs": [
    {
     "data": {
      "text/plain": [
       "'mamar'"
      ]
     },
     "execution_count": 34,
     "metadata": {},
     "output_type": "execute_result"
    }
   ],
   "source": [
    "lemmas_dict.get('mama')"
   ]
  },
  {
   "cell_type": "code",
   "execution_count": 35,
   "metadata": {},
   "outputs": [
    {
     "data": {
      "text/plain": [
       "'cincar'"
      ]
     },
     "execution_count": 35,
     "metadata": {},
     "output_type": "execute_result"
    }
   ],
   "source": [
    "lemmas_dict.get('cinco')"
   ]
  },
  {
   "cell_type": "code",
   "execution_count": 36,
   "metadata": {
    "scrolled": true
   },
   "outputs": [
    {
     "name": "stdout",
     "output_type": "stream",
     "text": [
      "Token          Lemma     \n",
      "Esta           Esta      \n",
      "vez,           vez,      \n",
      "y              y         \n",
      "lo             el        \n",
      "juro           jurar     \n",
      "ante           ante      \n",
      "el             el        \n",
      "sagrado        sagrado   \n",
      "Necronomicón   Necronomicón\n",
      "de             dar       \n",
      "Lovecraft,     Lovecraft,\n",
      "pienso         pensar    \n",
      "hablar         hablar    \n",
      "de             dar       \n",
      "la             lo        \n",
      "película       película  \n",
      "en             en        \n",
      "si             si        \n",
      "(por           (por      \n",
      "primera        primero   \n",
      "vez            vez       \n",
      "y              y         \n",
      "esperando      esperar   \n",
      "que            que       \n",
      "no             no        \n",
      "sirva          servir    \n",
      "de             dar       \n",
      "precedente),   precedente),\n",
      "aunque         aunque    \n",
      "creo           creer     \n",
      "que            que       \n",
      "es             ser       \n",
      "evidente       evidente  \n",
      "que            que       \n",
      "prefiero       preferir  \n",
      "que            que       \n",
      "una            uno       \n",
      "película       película  \n",
      "me             me        \n",
      "haga           hacer     \n",
      "reflexionar    reflexionar\n",
      "sobre          sobrar    \n",
      "cualquier      cualquiera\n",
      "aspecto        aspecto   \n",
      "que            que       \n",
      "en             en        \n",
      "ella           el        \n",
      "se             ser       \n",
      "de             dar       \n",
      "cita           citar     \n"
     ]
    }
   ],
   "source": [
    "sentence_lemmatized = ' '.join([lemmas_dict.get(word, word) for word in sentence.split()])\n",
    "\n",
    "print('{0:15}{1:10}'.format('Token' ,'Lemma'))\n",
    "for word in sentence.split():\n",
    "    print('{0:15}{1:10}'.format(word, lemmas_dict.get(word, word)))"
   ]
  },
  {
   "cell_type": "markdown",
   "metadata": {},
   "source": [
    "# Palabras más frecuentes"
   ]
  },
  {
   "cell_type": "code",
   "execution_count": 37,
   "metadata": {},
   "outputs": [
    {
     "data": {
      "text/plain": [
       "[('que', 4), ('palabras', 3), ('con', 2), ('-', 2), ('a', 2)]"
      ]
     },
     "execution_count": 37,
     "metadata": {},
     "output_type": "execute_result"
    }
   ],
   "source": [
    "from collections import Counter\n",
    "\n",
    "freq_text = 'Palabras con - a priori - ningún significado o que aportan muy poca' + \\\n",
    "            'información. Suelen ser palabras muy comunes como, por ejemplo,' + \\\n",
    "            ' preposiciones. En NLP se suele trabajar con vocabularios enormes' + \\\n",
    "            '(en Don Quijote de la Mancha aparecen en torno a 23.000 palabras distintas)' + \\\n",
    "            'por lo que interesa filtras aquellas que menos información aporten.' + \\\n",
    "            'Debate: ¿qué significa que aporten información?'\n",
    "\n",
    "word_freqs = Counter(freq_text.lower().split())\n",
    "word_freqs.most_common(5)"
   ]
  },
  {
   "cell_type": "markdown",
   "metadata": {},
   "source": [
    "# Pipeline"
   ]
  },
  {
   "cell_type": "code",
   "execution_count": 52,
   "metadata": {},
   "outputs": [],
   "source": [
    "def text_normalizer(text, lemmatize=False, sw_list=None):\n",
    "    \n",
    "    processed_text = []\n",
    "    \n",
    "    if sw_list is None:\n",
    "        sw_list = []\n",
    "    \n",
    "    if lemmatize:\n",
    "        lemmas_dict = get_lemmas_dict()\n",
    "    \n",
    "    # Convierte el texto a minúsuculas\n",
    "    text = text.lower()\n",
    "    \n",
    "    # Eliminar caracteres \"extraños\"\n",
    "    text = unicodedata.normalize('NFKD', text).encode('ascii', 'ignore').decode('utf-8', 'ignore')\n",
    "    \n",
    "    # Tabla para eliminar signos de puntuación\n",
    "    table = str.maketrans('', '', string.punctuation)\n",
    "    \n",
    "    # Segmentar texto en frases\n",
    "    sentences = text.split('.')\n",
    "    \n",
    "    # Para cada frase\n",
    "    for sentence in sentences:\n",
    "        words = sentence.split(' ')\n",
    "        # Para cada palabra\n",
    "        for word in words:\n",
    "            if word not in string.punctuation and word not in sw_list:  # Si se pasa, elimina stop words\n",
    "                word = word.translate(table)\n",
    "                if lemmatize:\n",
    "                    word = lemmas_dict.get(word, word)\n",
    "                if word.isdigit():\n",
    "                    word = num2words(word, lang='es')\n",
    "            processed_text.append(word)\n",
    "    \n",
    "    return ' '.join(processed_text)\n",
    "    "
   ]
  },
  {
   "cell_type": "code",
   "execution_count": 54,
   "metadata": {},
   "outputs": [
    {
     "data": {
      "text/plain": [
       "'frase a normalizar con numero doscientos trece y caracter extranos'"
      ]
     },
     "execution_count": 54,
     "metadata": {},
     "output_type": "execute_result"
    }
   ],
   "source": [
    "text_1 = 'Fráse a nòrmaliZAR, con números: 213 y car*acteres extraños'\n",
    "text_normalizer(text_1, lemmatize=True)"
   ]
  },
  {
   "cell_type": "code",
   "execution_count": null,
   "metadata": {},
   "outputs": [],
   "source": []
  }
 ],
 "metadata": {
  "kernelspec": {
   "display_name": "Python 3",
   "language": "python",
   "name": "python3"
  },
  "language_info": {
   "codemirror_mode": {
    "name": "ipython",
    "version": 3
   },
   "file_extension": ".py",
   "mimetype": "text/x-python",
   "name": "python",
   "nbconvert_exporter": "python",
   "pygments_lexer": "ipython3",
   "version": "3.7.4"
  }
 },
 "nbformat": 4,
 "nbformat_minor": 2
}
