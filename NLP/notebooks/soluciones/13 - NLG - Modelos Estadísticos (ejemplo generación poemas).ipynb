{
 "cells": [
  {
   "cell_type": "markdown",
   "metadata": {},
   "source": [
    "# Import necessary packages"
   ]
  },
  {
   "cell_type": "code",
   "execution_count": 30,
   "metadata": {},
   "outputs": [],
   "source": [
    "import numpy as np\n",
    "import pandas as pd\n",
    "from copy import deepcopy"
   ]
  },
  {
   "cell_type": "code",
   "execution_count": 31,
   "metadata": {},
   "outputs": [],
   "source": [
    "from keras.models import Sequential\n",
    "from keras.layers import Dense\n",
    "from keras.layers import Dropout\n",
    "from keras.layers import LSTM\n",
    "from keras.utils import np_utils"
   ]
  },
  {
   "cell_type": "markdown",
   "metadata": {},
   "source": [
    "# Load the data"
   ]
  },
  {
   "cell_type": "code",
   "execution_count": 5,
   "metadata": {},
   "outputs": [],
   "source": [
    "data = '../../datasets/sonnets.txt'"
   ]
  },
  {
   "cell_type": "code",
   "execution_count": 6,
   "metadata": {},
   "outputs": [
    {
     "name": "stdout",
     "output_type": "stream",
     "text": [
      "Corpus length 97920\n"
     ]
    }
   ],
   "source": [
    "text = (open(data).read()).lower().strip()\n",
    "\n",
    "print('Corpus length {}'.format(len(text)))"
   ]
  },
  {
   "cell_type": "markdown",
   "metadata": {},
   "source": [
    "# Characters mapping"
   ]
  },
  {
   "cell_type": "code",
   "execution_count": 7,
   "metadata": {},
   "outputs": [
    {
     "name": "stdout",
     "output_type": "stream",
     "text": [
      "Unique chars: 39\n"
     ]
    }
   ],
   "source": [
    "characters = sorted(list(set(text)))\n",
    "n_to_char = {n:char for n, char in enumerate(characters)}\n",
    "char_to_n = {char:n for n, char in enumerate(characters)}\n",
    "\n",
    "print('Unique chars: {}'.format(len(characters)))"
   ]
  },
  {
   "cell_type": "code",
   "execution_count": 8,
   "metadata": {},
   "outputs": [
    {
     "name": "stdout",
     "output_type": "stream",
     "text": [
      "['\\n', ' ', '!', \"'\", '(', ')', ',', '-', '.', ':', ';', '?', 'a', 'b', 'c', 'd', 'e', 'f', 'g', 'h', 'i', 'j', 'k', 'l', 'm', 'n', 'o', 'p', 'q', 'r', 's', 't', 'u', 'v', 'w', 'x', 'y', 'z', '\\ufeff']\n"
     ]
    }
   ],
   "source": [
    "print(characters)"
   ]
  },
  {
   "cell_type": "markdown",
   "metadata": {},
   "source": [
    "# Data preprocessing"
   ]
  },
  {
   "cell_type": "code",
   "execution_count": 9,
   "metadata": {},
   "outputs": [],
   "source": [
    "X = []\n",
    "Y = []\n",
    "length = len(text)\n",
    "seq_length = 100\n",
    "for i in range(0, length-seq_length, 1):\n",
    "    sequence = text[i:i + seq_length]\n",
    "    label =text[i + seq_length]\n",
    "    X.append([char_to_n[char] for char in sequence])\n",
    "    Y.append(char_to_n[label])"
   ]
  },
  {
   "cell_type": "code",
   "execution_count": 10,
   "metadata": {},
   "outputs": [],
   "source": [
    "X_modified = np.reshape(X, (len(X), seq_length, 1))\n",
    "X_modified = X_modified / float(len(characters))\n",
    "Y_modified = np_utils.to_categorical(Y)"
   ]
  },
  {
   "cell_type": "markdown",
   "metadata": {},
   "source": [
    "# Load pretrained models"
   ]
  },
  {
   "cell_type": "code",
   "execution_count": 53,
   "metadata": {},
   "outputs": [],
   "source": [
    "model_1_path = '../../data/poetry/model_1.h5'\n",
    "model_2_path = '../../data/poetry/model_2.h5'\n",
    "model_3_path = '../../data/poetry/model_3.h5'\n",
    "model_4_path = '../../data/poetry/model_4.h5'"
   ]
  },
  {
   "cell_type": "code",
   "execution_count": 54,
   "metadata": {
    "scrolled": true
   },
   "outputs": [
    {
     "name": "stdout",
     "output_type": "stream",
     "text": [
      "_________________________________________________________________\n",
      "Layer (type)                 Output Shape              Param #   \n",
      "=================================================================\n",
      "lstm_23 (LSTM)               (None, 100, 400)          643200    \n",
      "_________________________________________________________________\n",
      "dropout_23 (Dropout)         (None, 100, 400)          0         \n",
      "_________________________________________________________________\n",
      "lstm_24 (LSTM)               (None, 400)               1281600   \n",
      "_________________________________________________________________\n",
      "dropout_24 (Dropout)         (None, 400)               0         \n",
      "_________________________________________________________________\n",
      "dense_11 (Dense)             (None, 38)                15238     \n",
      "=================================================================\n",
      "Total params: 1,940,038\n",
      "Trainable params: 1,940,038\n",
      "Non-trainable params: 0\n",
      "_________________________________________________________________\n"
     ]
    }
   ],
   "source": [
    "# Model 1\n",
    "model_1 = Sequential()\n",
    "model_1.add(LSTM(400, input_shape=(X_modified.shape[1], X_modified.shape[2]), return_sequences=True))\n",
    "model_1.add(Dropout(0.2))\n",
    "model_1.add(LSTM(400))\n",
    "model_1.add(Dropout(0.2))\n",
    "model_1.add(Dense(Y_modified.shape[1], activation='softmax'))\n",
    "model_1.compile(loss='categorical_crossentropy', optimizer='adam')\n",
    "model_1.load_weights(model_1_path)\n",
    "model_1.summary()"
   ]
  },
  {
   "cell_type": "code",
   "execution_count": 55,
   "metadata": {},
   "outputs": [
    {
     "name": "stdout",
     "output_type": "stream",
     "text": [
      "_________________________________________________________________\n",
      "Layer (type)                 Output Shape              Param #   \n",
      "=================================================================\n",
      "lstm_25 (LSTM)               (None, 100, 400)          643200    \n",
      "_________________________________________________________________\n",
      "dropout_25 (Dropout)         (None, 100, 400)          0         \n",
      "_________________________________________________________________\n",
      "lstm_26 (LSTM)               (None, 400)               1281600   \n",
      "_________________________________________________________________\n",
      "dropout_26 (Dropout)         (None, 400)               0         \n",
      "_________________________________________________________________\n",
      "dense_12 (Dense)             (None, 38)                15238     \n",
      "=================================================================\n",
      "Total params: 1,940,038\n",
      "Trainable params: 1,940,038\n",
      "Non-trainable params: 0\n",
      "_________________________________________________________________\n"
     ]
    }
   ],
   "source": [
    "# Model 2\n",
    "model_2 = Sequential()\n",
    "model_2.add(LSTM(400, input_shape=(X_modified.shape[1], X_modified.shape[2]), return_sequences=True))\n",
    "model_2.add(Dropout(0.2))\n",
    "model_2.add(LSTM(400))\n",
    "model_2.add(Dropout(0.2))\n",
    "model_2.add(Dense(Y_modified.shape[1], activation='softmax'))\n",
    "model_2.compile(loss='categorical_crossentropy', optimizer='adam')\n",
    "model_2.load_weights(model_2_path)\n",
    "model_2.summary()"
   ]
  },
  {
   "cell_type": "code",
   "execution_count": 56,
   "metadata": {},
   "outputs": [
    {
     "name": "stdout",
     "output_type": "stream",
     "text": [
      "_________________________________________________________________\n",
      "Layer (type)                 Output Shape              Param #   \n",
      "=================================================================\n",
      "lstm_27 (LSTM)               (None, 100, 400)          643200    \n",
      "_________________________________________________________________\n",
      "dropout_27 (Dropout)         (None, 100, 400)          0         \n",
      "_________________________________________________________________\n",
      "lstm_28 (LSTM)               (None, 100, 400)          1281600   \n",
      "_________________________________________________________________\n",
      "dropout_28 (Dropout)         (None, 100, 400)          0         \n",
      "_________________________________________________________________\n",
      "lstm_29 (LSTM)               (None, 400)               1281600   \n",
      "_________________________________________________________________\n",
      "dropout_29 (Dropout)         (None, 400)               0         \n",
      "_________________________________________________________________\n",
      "dense_13 (Dense)             (None, 38)                15238     \n",
      "=================================================================\n",
      "Total params: 3,221,638\n",
      "Trainable params: 3,221,638\n",
      "Non-trainable params: 0\n",
      "_________________________________________________________________\n"
     ]
    }
   ],
   "source": [
    "# Model 3\n",
    "model_3 = Sequential()\n",
    "model_3.add(LSTM(400, input_shape=(X_modified.shape[1], X_modified.shape[2]), return_sequences=True))\n",
    "model_3.add(Dropout(0.2))\n",
    "model_3.add(LSTM(400, return_sequences=True))\n",
    "model_3.add(Dropout(0.2))\n",
    "model_3.add(LSTM(400))\n",
    "model_3.add(Dropout(0.2))\n",
    "model_3.add(Dense(Y_modified.shape[1], activation='softmax'))\n",
    "model_3.compile(loss='categorical_crossentropy', optimizer='adam')\n",
    "model_3.load_weights(model_3_path)\n",
    "model_3.summary()"
   ]
  },
  {
   "cell_type": "code",
   "execution_count": 57,
   "metadata": {},
   "outputs": [
    {
     "name": "stdout",
     "output_type": "stream",
     "text": [
      "_________________________________________________________________\n",
      "Layer (type)                 Output Shape              Param #   \n",
      "=================================================================\n",
      "lstm_30 (LSTM)               (None, 100, 700)          1965600   \n",
      "_________________________________________________________________\n",
      "dropout_30 (Dropout)         (None, 100, 700)          0         \n",
      "_________________________________________________________________\n",
      "lstm_31 (LSTM)               (None, 700)               3922800   \n",
      "_________________________________________________________________\n",
      "dropout_31 (Dropout)         (None, 700)               0         \n",
      "_________________________________________________________________\n",
      "dense_14 (Dense)             (None, 38)                26638     \n",
      "=================================================================\n",
      "Total params: 5,915,038\n",
      "Trainable params: 5,915,038\n",
      "Non-trainable params: 0\n",
      "_________________________________________________________________\n"
     ]
    }
   ],
   "source": [
    "# Model 4\n",
    "model_4 = Sequential()\n",
    "model_4.add(LSTM(700, input_shape=(X_modified.shape[1], X_modified.shape[2]), return_sequences=True))\n",
    "model_4.add(Dropout(0.2))\n",
    "model_4.add(LSTM(700))\n",
    "model_4.add(Dropout(0.2))\n",
    "model_4.add(Dense(Y_modified.shape[1], activation='softmax'))\n",
    "model_4.compile(loss='categorical_crossentropy', optimizer='adam')\n",
    "model_4.load_weights(model_4_path)\n",
    "model_4.summary()"
   ]
  },
  {
   "cell_type": "markdown",
   "metadata": {},
   "source": [
    "# Generate text"
   ]
  },
  {
   "cell_type": "code",
   "execution_count": 58,
   "metadata": {},
   "outputs": [],
   "source": [
    "def generate_text(model, string_id):\n",
    "    string_mapped = deepcopy(string_id)\n",
    "    full_string = [n_to_char[value] for value in string_mapped]\n",
    "    \n",
    "    # Generating characters\n",
    "    for i in range(400):\n",
    "        x = np.reshape(string_mapped,(1,len(string_mapped), 1))\n",
    "        x = x / float(len(characters))\n",
    "\n",
    "        pred_index = np.argmax(model.predict(x, verbose=0))\n",
    "        seq = [n_to_char[value] for value in string_mapped]\n",
    "        full_string.append(n_to_char[pred_index])\n",
    "\n",
    "        string_mapped.append(pred_index)\n",
    "        string_mapped = string_mapped[1:len(string_mapped)]\n",
    "        \n",
    "    text = \"\"\n",
    "    for char in full_string:\n",
    "        text = text + char\n",
    "    return text"
   ]
  },
  {
   "cell_type": "code",
   "execution_count": 59,
   "metadata": {
    "scrolled": true
   },
   "outputs": [],
   "source": [
    "model_1_results = generate_text(model_1, X[5])"
   ]
  },
  {
   "cell_type": "code",
   "execution_count": 60,
   "metadata": {},
   "outputs": [],
   "source": [
    "model_2_results = generate_text(model_2, X[5])"
   ]
  },
  {
   "cell_type": "code",
   "execution_count": 61,
   "metadata": {},
   "outputs": [],
   "source": [
    "model_3_results = generate_text(model_3, X[5])"
   ]
  },
  {
   "cell_type": "code",
   "execution_count": 62,
   "metadata": {},
   "outputs": [],
   "source": [
    "model_4_results = generate_text(model_4, X[5])"
   ]
  },
  {
   "cell_type": "markdown",
   "metadata": {},
   "source": [
    "# Show the results"
   ]
  },
  {
   "cell_type": "code",
   "execution_count": 63,
   "metadata": {
    "scrolled": true
   },
   "outputs": [
    {
     "name": "stdout",
     "output_type": "stream",
     "text": [
      "from fairest creatures we desire increase,\n",
      " that thereby beauty's rose might never die,\n",
      " but as the \n"
     ]
    }
   ],
   "source": [
    "t = ''\n",
    "for ch in X[5]:\n",
    "    t += n_to_char.get(ch)\n",
    "print(t)"
   ]
  },
  {
   "cell_type": "code",
   "execution_count": 64,
   "metadata": {},
   "outputs": [
    {
     "name": "stdout",
     "output_type": "stream",
     "text": [
      "from fairest creatures we desire increase,\n",
      " that thereby beauty's rose might never die,\n",
      " but as the the the the the the the the the the the the \n",
      "      thi the the the the the the the the the the the the the the the the the \n",
      "      thi the the the the the the the the the the the the the the the the the \n",
      "      thi the the the the the the the the the the the the the the the the the \n",
      "      thi the the the the the the the the the the the the the the the the the \n",
      "      thi the the the the the the the t\n"
     ]
    }
   ],
   "source": [
    "print(model_1_results)"
   ]
  },
  {
   "cell_type": "code",
   "execution_count": 65,
   "metadata": {},
   "outputs": [
    {
     "name": "stdout",
     "output_type": "stream",
     "text": [
      "from fairest creatures we desire increase,\n",
      " that thereby beauty's rose might never die,\n",
      " but as the rime shing of shy dear line,\n",
      " the pteeeru touerate would be becur'd\n",
      " ofe of the frrls of wouth waste of thee,\n",
      " and maky mames marke drtths for thy sige;\n",
      "   then i dogaiend; gal forl the south,-\n",
      "   that seemny shall sooe, so anl bester,\n",
      " dnmuare the cullsed of that which it fotd,\n",
      " and so those bestimgs hived to decay desire\n",
      " onends so thee in the lovrer of mes,\n",
      " thy pecord srmmer shall i nne her st\n"
     ]
    }
   ],
   "source": [
    "print(model_2_results)"
   ]
  },
  {
   "cell_type": "code",
   "execution_count": 66,
   "metadata": {},
   "outputs": [
    {
     "name": "stdout",
     "output_type": "stream",
     "text": [
      "from fairest creatures we desire increase,\n",
      " that thereby beauty's rose might never die,\n",
      " but as the ression do in puestance;\n",
      " the carve of this hair beauty seouldtt lies,\n",
      " that dve is mott steet beauty being dead;\n",
      " then love i love, and they wealth move so date,\n",
      " making thy pemora to shou me donfounds,\n",
      " which that me not to thee i so be fore,\n",
      " thou mayst ceauh me, and shey me not to beare\n",
      " my bllst not the words sef to the eair,\n",
      " the one mf thee that i am forsent,\n",
      " and make my move so greet it w\n"
     ]
    }
   ],
   "source": [
    "print(model_3_results)"
   ]
  },
  {
   "cell_type": "code",
   "execution_count": 67,
   "metadata": {},
   "outputs": [
    {
     "name": "stdout",
     "output_type": "stream",
     "text": [
      "from fairest creatures we desire increase,\n",
      " that thereby beauty's rose might never die,\n",
      " but as the rareried that my mame re brow,\n",
      " i frub io love, forthtet ao thie hese rooroing;\n",
      " but thos siat mades mnwer iis fifrrende.\n",
      " for whete thou art not, though i feer thou art,\n",
      " within the gentle coosur of my breast,\n",
      " from whence at pleasure thou mayst come and part;\n",
      "   and even thence thou wilt be stol'n i fear,\n",
      "   for truth proves thinvith that giass so hil soorng.\n",
      "\n",
      " xxii\n",
      "\n",
      " who will believe my verse i\n"
     ]
    }
   ],
   "source": [
    "print(model_4_results)"
   ]
  },
  {
   "cell_type": "code",
   "execution_count": null,
   "metadata": {
    "collapsed": true
   },
   "outputs": [],
   "source": []
  }
 ],
 "metadata": {
  "kernelspec": {
   "display_name": "Python 3",
   "language": "python",
   "name": "python3"
  },
  "language_info": {
   "codemirror_mode": {
    "name": "ipython",
    "version": 3
   },
   "file_extension": ".py",
   "mimetype": "text/x-python",
   "name": "python",
   "nbconvert_exporter": "python",
   "pygments_lexer": "ipython3",
   "version": "3.7.4"
  }
 },
 "nbformat": 4,
 "nbformat_minor": 2
}
