{
 "cells": [
  {
   "cell_type": "markdown",
   "metadata": {},
   "source": [
    "# NLG: Realiser\n",
    "\n",
    "En lingúística (en concreto, en NLG, o Natural Language Generation) , la _realización_ es el proceso mediante el cual se genera texto real en un determinado idioma a partir de una representación sintáctica.\n",
    "\n",
    "Sin entrar en demasiados detalles, las principales etapas en un modelo de NLG son:\n",
    "\n",
    "1. Planificación del documento: decidir qué se quiere \"decir\" y construir un documento absracto que describa la estructura de la información que se presentará.\n",
    "2. Microplanning: elección de palabras y expresiones para desarrollar las especificaciones del documento final.\n",
    "3. Realización: convertir todas las especificaciones del texto abstracto en texto real. Habrá que tener en cuenta:\n",
    "    - Reglas sintácticas\n",
    "    - Reglas morfológicas \n",
    "    - Reglas ortográficas\n",
    "\n",
    "<img src=https://www.researchgate.net/profile/Kamenka_Staykova/publication/272264342/figure/fig2/AS:359792108425219@1462792531151/Sequential-architecture-of-NLG-system.png width=650px>\n",
    "\n",
    "Realizaremos algunos ejemplos usando [SimpleNLG-ES](https://github.com/citiususc/SimpleNLG-ES), API sobre Java para NLG.\n",
    "\n",
    "[nlglib](https://github.com/roman-kutlak/nlglib/wiki/Intro) es una librería open source para Python que ofrece capacidades para la Generación Automática de Texto. Actualmente realiza dicha generación mediante lógica de primer orden."
   ]
  },
  {
   "cell_type": "markdown",
   "metadata": {},
   "source": [
    "## Logging"
   ]
  },
  {
   "cell_type": "code",
   "execution_count": 95,
   "metadata": {},
   "outputs": [],
   "source": [
    "# pip3 install --upgrade nlglib"
   ]
  },
  {
   "cell_type": "code",
   "execution_count": 96,
   "metadata": {},
   "outputs": [],
   "source": [
    "import logging\n",
    "import sys\n",
    "\n",
    "level = logging.INFO\n",
    "\n",
    "root = logging.getLogger()\n",
    "root.setLevel(level)\n",
    "\n",
    "handler = logging.StreamHandler(sys.stdout)\n",
    "handler.setLevel(level)\n",
    "formatter = logging.Formatter('%(asctime)s - %(name)s - %(levelname)s - %(message)s')\n",
    "handler.setFormatter(formatter)\n",
    "root.addHandler(handler)"
   ]
  },
  {
   "cell_type": "markdown",
   "metadata": {},
   "source": [
    "## Levantamos el server"
   ]
  },
  {
   "cell_type": "code",
   "execution_count": 97,
   "metadata": {},
   "outputs": [],
   "source": [
    "from nlglib.realisation.simplenlg.client import SimpleNLGServer"
   ]
  },
  {
   "cell_type": "code",
   "execution_count": 98,
   "metadata": {
    "scrolled": true
   },
   "outputs": [
    {
     "name": "stdout",
     "output_type": "stream",
     "text": [
      "2020-07-07 02:49:20,948 - nlglib.simplenlg.server - ERROR - java.net.BindException: Address already in use (Bind failed)\n",
      "2020-07-07 02:49:20,948 - nlglib.simplenlg.server - ERROR - java.net.BindException: Address already in use (Bind failed)\n",
      "2020-07-07 02:49:20,948 - nlglib.simplenlg.server - ERROR - java.net.BindException: Address already in use (Bind failed)\n",
      "2020-07-07 02:49:20,958 - nlglib.simplenlg.server - ERROR - \tat java.net.PlainSocketImpl.socketBind(Native Method)\n",
      "2020-07-07 02:49:20,958 - nlglib.simplenlg.server - ERROR - \tat java.net.PlainSocketImpl.socketBind(Native Method)\n",
      "2020-07-07 02:49:20,958 - nlglib.simplenlg.server - ERROR - \tat java.net.PlainSocketImpl.socketBind(Native Method)\n",
      "2020-07-07 02:49:20,961 - nlglib.simplenlg.server - ERROR - \tat java.net.AbstractPlainSocketImpl.bind(AbstractPlainSocketImpl.java:387)\n",
      "2020-07-07 02:49:20,961 - nlglib.simplenlg.server - ERROR - \tat java.net.AbstractPlainSocketImpl.bind(AbstractPlainSocketImpl.java:387)\n",
      "2020-07-07 02:49:20,961 - nlglib.simplenlg.server - ERROR - \tat java.net.AbstractPlainSocketImpl.bind(AbstractPlainSocketImpl.java:387)\n",
      "2020-07-07 02:49:20,966 - nlglib.simplenlg.server - ERROR - \tat java.net.ServerSocket.bind(ServerSocket.java:375)\n",
      "2020-07-07 02:49:20,966 - nlglib.simplenlg.server - ERROR - \tat java.net.ServerSocket.bind(ServerSocket.java:375)\n",
      "2020-07-07 02:49:20,966 - nlglib.simplenlg.server - ERROR - \tat java.net.ServerSocket.bind(ServerSocket.java:375)\n",
      "2020-07-07 02:49:20,971 - nlglib.simplenlg.server - ERROR - \tat java.net.ServerSocket.<init>(ServerSocket.java:237)\n",
      "2020-07-07 02:49:20,971 - nlglib.simplenlg.server - ERROR - \tat java.net.ServerSocket.<init>(ServerSocket.java:237)\n",
      "2020-07-07 02:49:20,971 - nlglib.simplenlg.server - ERROR - \tat java.net.ServerSocket.<init>(ServerSocket.java:237)\n",
      "2020-07-07 02:49:20,976 - nlglib.simplenlg.server - ERROR - \tat java.net.ServerSocket.<init>(ServerSocket.java:181)\n",
      "2020-07-07 02:49:20,976 - nlglib.simplenlg.server - ERROR - \tat java.net.ServerSocket.<init>(ServerSocket.java:181)\n",
      "2020-07-07 02:49:20,976 - nlglib.simplenlg.server - ERROR - \tat java.net.ServerSocket.<init>(ServerSocket.java:181)\n",
      "2020-07-07 02:49:20,981 - nlglib.simplenlg.server - ERROR - \tat simplenlg.server.SimpleServer.<init>(SimpleServer.java:84)\n",
      "2020-07-07 02:49:20,981 - nlglib.simplenlg.server - ERROR - \tat simplenlg.server.SimpleServer.<init>(SimpleServer.java:84)\n",
      "2020-07-07 02:49:20,981 - nlglib.simplenlg.server - ERROR - \tat simplenlg.server.SimpleServer.<init>(SimpleServer.java:84)\n",
      "2020-07-07 02:49:20,989 - nlglib.simplenlg.server - ERROR - \tat simplenlg.server.SimpleServer.main(SimpleServer.java:155)\n",
      "2020-07-07 02:49:20,989 - nlglib.simplenlg.server - ERROR - \tat simplenlg.server.SimpleServer.main(SimpleServer.java:155)\n",
      "2020-07-07 02:49:20,989 - nlglib.simplenlg.server - ERROR - \tat simplenlg.server.SimpleServer.main(SimpleServer.java:155)\n",
      "2020-07-07 02:49:21,660 - nlglib.realisation.simplenlg.client - INFO - Server up and running (4020)\n",
      "2020-07-07 02:49:21,660 - nlglib.realisation.simplenlg.client - INFO - Server up and running (4020)\n",
      "2020-07-07 02:49:21,660 - nlglib.realisation.simplenlg.client - INFO - Server up and running (4020)\n"
     ]
    }
   ],
   "source": [
    "port = 4020\n",
    "server = SimpleNLGServer('../../data/realiser_lib/SimpleNLG-es-1.1.0.jar', port)\n",
    "server.start()"
   ]
  },
  {
   "cell_type": "code",
   "execution_count": 99,
   "metadata": {},
   "outputs": [],
   "source": [
    "# Para tumbar el server\n",
    "# server.shutdown()"
   ]
  },
  {
   "cell_type": "markdown",
   "metadata": {},
   "source": [
    "# Realiser"
   ]
  },
  {
   "cell_type": "code",
   "execution_count": 100,
   "metadata": {},
   "outputs": [],
   "source": [
    "from nlglib.realisation.simplenlg.realisation import Realiser\n",
    "realiser = Realiser(host='localhost', port=port)"
   ]
  },
  {
   "cell_type": "markdown",
   "metadata": {},
   "source": [
    "## Estructuras"
   ]
  },
  {
   "cell_type": "code",
   "execution_count": 101,
   "metadata": {},
   "outputs": [],
   "source": [
    "from nlglib.microplanning import Clause, NP, VP, Adjective, PrepositionPhrase, Coordination, Conjunction"
   ]
  },
  {
   "cell_type": "markdown",
   "metadata": {},
   "source": [
    "### Construir una frase"
   ]
  },
  {
   "cell_type": "code",
   "execution_count": 102,
   "metadata": {
    "scrolled": true
   },
   "outputs": [
    {
     "name": "stdout",
     "output_type": "stream",
     "text": [
      "María persigue un mono.\n"
     ]
    }
   ],
   "source": [
    "p = Clause(\"María\", \"perseguir\", \"un mono\")\n",
    "\n",
    "print(realiser(p))"
   ]
  },
  {
   "cell_type": "code",
   "execution_count": 103,
   "metadata": {
    "scrolled": true
   },
   "outputs": [
    {
     "data": {
      "text/plain": [
       "'María perseguirá un mono.'"
      ]
     },
     "execution_count": 103,
     "metadata": {},
     "output_type": "execute_result"
    }
   ],
   "source": [
    "p['TENSE'] = 'FUTURE'\n",
    "\n",
    "realiser(p)"
   ]
  },
  {
   "cell_type": "code",
   "execution_count": 104,
   "metadata": {
    "scrolled": true
   },
   "outputs": [
    {
     "data": {
      "text/plain": [
       "'María persiguió un mono.'"
      ]
     },
     "execution_count": 104,
     "metadata": {},
     "output_type": "execute_result"
    }
   ],
   "source": [
    "p['TENSE'] = 'PAST'\n",
    "\n",
    "realiser(p)"
   ]
  },
  {
   "cell_type": "code",
   "execution_count": 105,
   "metadata": {
    "scrolled": true
   },
   "outputs": [
    {
     "data": {
      "text/plain": [
       "'Un mono sió perseguido por María.'"
      ]
     },
     "execution_count": 105,
     "metadata": {},
     "output_type": "execute_result"
    }
   ],
   "source": [
    "p['PASSIVE'] = 'true'\n",
    "realiser(p)"
   ]
  },
  {
   "cell_type": "code",
   "execution_count": 106,
   "metadata": {},
   "outputs": [
    {
     "data": {
      "text/plain": [
       "'¿Sió un mono perseguido por María?'"
      ]
     },
     "execution_count": 106,
     "metadata": {},
     "output_type": "execute_result"
    }
   ],
   "source": [
    "p['INTERROGATIVE_TYPE'] = 'YES_NO'\n",
    "realiser(p)"
   ]
  },
  {
   "cell_type": "code",
   "execution_count": 107,
   "metadata": {},
   "outputs": [
    {
     "data": {
      "text/plain": [
       "'¿No sió un mono perseguido por María?'"
      ]
     },
     "execution_count": 107,
     "metadata": {},
     "output_type": "execute_result"
    }
   ],
   "source": [
    "p['NEGATED'] = 'true'\n",
    "realiser(p)"
   ]
  },
  {
   "cell_type": "markdown",
   "metadata": {},
   "source": [
    "### Construirlo elemento a elemento"
   ]
  },
  {
   "cell_type": "code",
   "execution_count": 83,
   "metadata": {},
   "outputs": [
    {
     "name": "stdout",
     "output_type": "stream",
     "text": [
      "La rápida corredora persigue un mono.\n"
     ]
    }
   ],
   "source": [
    "c = Clause()\n",
    "\n",
    "subject = NP(\"la\", \"corredora\")\n",
    "objekt = NP(\"un\", \"mono\")\n",
    "verb = VP(\"perseguir\")\n",
    "\n",
    "subject.premodifiers.append(\"rápida\")\n",
    "# subject += Adjective('lista')\n",
    "\n",
    "c.subject = subject\n",
    "c.predicate = verb\n",
    "c.object = objekt\n",
    "# c['TENSE'] = 'PRESENT'\n",
    "\n",
    "#c['NEGATED'] = 'true'\n",
    "#c['INTERROGATIVE_TYPE'] = 'YES_NO'\n",
    "\n",
    "print(realiser(c))"
   ]
  },
  {
   "cell_type": "markdown",
   "metadata": {},
   "source": [
    "## Unir oraciones"
   ]
  },
  {
   "cell_type": "code",
   "execution_count": 84,
   "metadata": {},
   "outputs": [],
   "source": [
    "p = Clause(\"yo\", \"estar\", \"feliz\");\n",
    "q = Clause(None, \"comer\", \"pescado\");\n",
    "# q = Clause(None, verb=\"comer\", object=\"pescado\");"
   ]
  },
  {
   "cell_type": "code",
   "execution_count": 85,
   "metadata": {},
   "outputs": [],
   "source": [
    "q['COMPLEMENTISER'] = \"porque\"\n",
    "q['TENSE'] = 'PAST'\n",
    "\n",
    "p.complements.append(q)"
   ]
  },
  {
   "cell_type": "code",
   "execution_count": 86,
   "metadata": {},
   "outputs": [
    {
     "data": {
      "text/plain": [
       "'Yo estoy feliz porque comió pescado.'"
      ]
     },
     "execution_count": 86,
     "metadata": {},
     "output_type": "execute_result"
    }
   ],
   "source": [
    "realiser(p)"
   ]
  },
  {
   "cell_type": "code",
   "execution_count": null,
   "metadata": {},
   "outputs": [],
   "source": []
  },
  {
   "cell_type": "code",
   "execution_count": null,
   "metadata": {},
   "outputs": [],
   "source": []
  }
 ],
 "metadata": {
  "kernelspec": {
   "display_name": "Python 3",
   "language": "python",
   "name": "python3"
  },
  "language_info": {
   "codemirror_mode": {
    "name": "ipython",
    "version": 3
   },
   "file_extension": ".py",
   "mimetype": "text/x-python",
   "name": "python",
   "nbconvert_exporter": "python",
   "pygments_lexer": "ipython3",
   "version": "3.7.4"
  }
 },
 "nbformat": 4,
 "nbformat_minor": 2
}
