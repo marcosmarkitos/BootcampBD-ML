{
 "cells": [
  {
   "cell_type": "markdown",
   "metadata": {},
   "source": [
    "# Named Entity Recognition (NER)\n",
    "\n",
    "Como hemos visto, un NER se encarga de etiquetar palabras en un texto en un conjunto de categorías (nombres de persona, de localización, de entidades de tiempo...). \n",
    "\n",
    "<img src=https://miro.medium.com/max/1400/1*8LOMipM-fmszClg-AwATkQ.png width=600px>\n",
    "\n",
    "A diferencia de un problema de clasificación de documentos (en el que todo el documento es clasificado en una categoría), aquí cada palabra (o, más correctamente, cada token) es etiquetado secuencialmente.\n",
    "\n",
    "Existen distintas aproximaciones para abordar este tipo de problemas:\n",
    "- **_Clásicas_**: principalmente basados en reglas\n",
    "- **Machine Learning**: se distinguen a su vez dos categorías aquí:\n",
    "    - **Clasificación multi-clase**: se busca clasificar cada token entre un conjunto de categorías sin información del contexto del token\n",
    "    - **CRF**: modelar el texto secuencialmente mediante un grafo probabilístico. En cada token se extraen features que tratan de representar su contexto. [Aquí](https://www.depends-on-the-definition.com/named-entity-recognition-conditional-random-fields-python/) lo explican muy bien.\n",
    "- **Deep learning**: estado del arte (como en casi todas las áreas). Utilizar modelos como las Bi-LSTM permite inferir el contexto de un token de una manera más completa tanto de tokens anteriores a el, como posteriores.\n",
    "\n",
    "**Nosotros vamos a implementar una solución basada en un CRF**.\n",
    "\n",
    "<img src=https://i.imgur.com/ukAr3Uh.jpg width=700px>\n",
    "\n",
    "\n",
    "## Pasos que seguiremos para entrenar un modelo de reconocimiento de entidades\n",
    "\n",
    "Etapa de **entrenamiento**\n",
    "1. Obtener un corpus de entrenamiento\n",
    "2. Etiquetar todos los tokens. Aquellos que no correspondan con una categoría se les asocia el label 'O'\n",
    "3. Definir qué features se extraerán \n",
    "4. Entrenar un modelo de clasificación secuencial para predecir las etiquetas de los tokens\n",
    "\n",
    "Etapa de **testeo**\n",
    "1. Obtener un corpus de test etiquetado\n",
    "2. Lanzar el modelo etiquetando los tokens\n",
    "3. Analizar resultados\n",
    "\n",
    "\n",
    "## IO / IOB Encoding\n",
    "\n",
    "Existen dos maneras principales de etiquetas las etiquetas (IO e IOB).\n",
    "\n",
    "- **IO** (inside-ouside): cada token tendrá una etiqueta, **no tiene en cuenta entidades compuestas por varios tokens**, o chunks, como, por ejemplo, 'Nueva York'.\n",
    "- **IOB** (inside-outside-beginning): cada token tendrá una etiqueta. Si tiene en cuenta chunks. Para codificar el inicio y final de las entidades se incluyen los prefijos 'B-' ('Beginning') e 'I-' ('Inside') para indicar que un token es el inicio de una entidad o pertenece a la misma.\n",
    "\n",
    "En ambos, la etiqueta **'O'** ('Outside') significa que el token no pertenece a ninguna entidad.\n",
    "\n",
    "<img src=https://image.slidesharecdn.com/07lectiener-160215132149/95/ie-named-entity-recognition-ner-36-638.jpg>\n",
    "\n",
    "> Debate: ¿cuál pensáis que arroja mejores resultados?\n",
    "\n",
    "\n",
    "## Features\n",
    "\n",
    "Algunas de las features que podemos extraer son:\n",
    "- **Palabras**\n",
    "    - El token actual e información sobre el mismo (mayúsculas, signos de puntuación, ...)\n",
    "    - Tokens anteriores / posteriores e información sobre ellos\n",
    "    - Substrings (word shapes)\n",
    "- **Información lingüística**\n",
    "    - PoS tags (del token, de los anteriores / consecutivos)\n",
    "- **Otras labels**\n",
    "    - NER labels (del token actual, de los anteriores)\n",
    "\n",
    "\n",
    "## ¡Al lío!\n",
    "\n",
    "Vamos a entrenar nuestro primer modelos de reconocimiento de entidades. Para ello, utilizaremos:\n",
    "- Dataset CoNLL 2002, con PoS Tags\n",
    "- Librería sklearn_crf suite"
   ]
  },
  {
   "cell_type": "markdown",
   "metadata": {},
   "source": [
    "# CoNLL 2002 Shared Tasks con PoS Tags\n",
    "\n",
    "La CoNLL (Conference on Computational Natural Language Learning) es una conferencia anual organizada por la SIGNLL (ACL's Special Interest Group of Natural Language Processing). Usaremos un corpus con **frases en castellano** con información tanto de los **PoS Tags** como de **entidades etiquetadas**.\n",
    "\n",
    "Links:\n",
    "- https://www.cs.upc.edu/~nlp/tools/nerc/nerc.html\n",
    "- https://www.plantl.gob.es/tecnologias-lenguaje/catalogo-TL/campanas-evaluacion/Paginas/conll-2002.aspx"
   ]
  },
  {
   "cell_type": "markdown",
   "metadata": {},
   "source": [
    "# sklearn_crfsuite\n",
    "\n",
    "Instalación: `pip install sklearn-crfsuite`\n",
    "\n",
    "Links:\n",
    "- Tutorial: https://sklearn-crfsuite.readthedocs.io/en/latest/tutorial.html\n",
    "- API reference: https://sklearn-crfsuite.readthedocs.io/en/latest/api.html"
   ]
  },
  {
   "cell_type": "code",
   "execution_count": null,
   "metadata": {},
   "outputs": [],
   "source": [
    "# !pip3 install sklearn_crfsuite"
   ]
  },
  {
   "cell_type": "code",
   "execution_count": 1,
   "metadata": {},
   "outputs": [],
   "source": [
    "import os \n",
    "import io\n",
    "\n",
    "import pandas as pd\n",
    "\n",
    "import sklearn_crfsuite\n",
    "from sklearn_crfsuite import scorers\n",
    "from sklearn_crfsuite import metrics"
   ]
  },
  {
   "cell_type": "markdown",
   "metadata": {},
   "source": [
    "# Funciones útiles"
   ]
  },
  {
   "cell_type": "code",
   "execution_count": 2,
   "metadata": {},
   "outputs": [],
   "source": [
    "def load_data(filepath):\n",
    "    with io.open(filepath, encoding='latin-1') as f:\n",
    "        idsent = 0\n",
    "        sentences = []\n",
    "        for l in f:\n",
    "            if not len(l.strip()):\n",
    "                sentence = []\n",
    "                idsent += 1\n",
    "            else:\n",
    "                word, pos, ner = l.strip().split(' ')\n",
    "                sentences.append(['sentence#'+str(idsent), word, pos, ner])\n",
    "                \n",
    "        df = pd.DataFrame(sentences)\n",
    "        df.columns = ['Sentence#','word','pos','ner']\n",
    "        \n",
    "        return df"
   ]
  },
  {
   "cell_type": "code",
   "execution_count": 3,
   "metadata": {},
   "outputs": [],
   "source": [
    "def data_summary(data):\n",
    "    print(\"Number of sentences: \", len(data.groupby(['Sentence#'])))\n",
    "\n",
    "    words = list(set(data[\"word\"].values))\n",
    "    n_words = len(words)\n",
    "    print(\"Number of words in the dataset: \", n_words)\n",
    "\n",
    "    tags = list(set(data[\"ner\"].values))\n",
    "    print(\"NER Tags:\", tags)\n",
    "    n_tags = len(tags)\n",
    "    print(\"Number of Labels: \", n_tags)\n",
    "\n",
    "    print(\"What the dataset looks like:\")\n",
    "    display(data.head(10))\n",
    "    return"
   ]
  },
  {
   "cell_type": "code",
   "execution_count": 4,
   "metadata": {},
   "outputs": [],
   "source": [
    "def get_sentences(data):\n",
    "    sentgroups = data.groupby('Sentence#')\n",
    "\n",
    "    sentences = []\n",
    "    for name, g in sentgroups:\n",
    "        s = []\n",
    "        for row in g.itertuples():\n",
    "            s.append((row.word,row.pos,row.ner))\n",
    "        sentences.append(s)\n",
    "    \n",
    "    return sentences"
   ]
  },
  {
   "cell_type": "code",
   "execution_count": 5,
   "metadata": {},
   "outputs": [],
   "source": [
    "def get_labels(data):\n",
    "    tags = list(set(data[\"ner\"].values))\n",
    "    return tags"
   ]
  },
  {
   "cell_type": "markdown",
   "metadata": {},
   "source": [
    "# Carga de datos"
   ]
  },
  {
   "cell_type": "code",
   "execution_count": 6,
   "metadata": {},
   "outputs": [],
   "source": [
    "datasets_path = '../../datasets/CoNLL2002_NER'\n",
    "corpus_train_file = 'esp.train'\n",
    "corpus_test_file = 'esp.testa'\n",
    "corpus_val_file = 'esp.testb'"
   ]
  },
  {
   "cell_type": "code",
   "execution_count": 7,
   "metadata": {},
   "outputs": [],
   "source": [
    "df_train = load_data(os.path.join(datasets_path, corpus_train_file))\n",
    "df_test = load_data(os.path.join(datasets_path, corpus_test_file))\n",
    "df_val = load_data(os.path.join(datasets_path, corpus_val_file))"
   ]
  },
  {
   "cell_type": "code",
   "execution_count": 8,
   "metadata": {},
   "outputs": [],
   "source": [
    "sentences_train = get_sentences(df_train)\n",
    "sentences_test = get_sentences(df_test)\n",
    "sentences_val = get_sentences(df_val)"
   ]
  },
  {
   "cell_type": "code",
   "execution_count": 9,
   "metadata": {
    "scrolled": true
   },
   "outputs": [
    {
     "name": "stdout",
     "output_type": "stream",
     "text": [
      "Number of sentences:  8323\n",
      "Number of words in the dataset:  26099\n",
      "NER Tags: ['B-ORG', 'I-ORG', 'I-LOC', 'I-MISC', 'I-PER', 'B-PER', 'B-LOC', 'O', 'B-MISC']\n",
      "Number of Labels:  9\n",
      "What the dataset looks like:\n"
     ]
    },
    {
     "data": {
      "text/html": [
       "<div>\n",
       "<style scoped>\n",
       "    .dataframe tbody tr th:only-of-type {\n",
       "        vertical-align: middle;\n",
       "    }\n",
       "\n",
       "    .dataframe tbody tr th {\n",
       "        vertical-align: top;\n",
       "    }\n",
       "\n",
       "    .dataframe thead th {\n",
       "        text-align: right;\n",
       "    }\n",
       "</style>\n",
       "<table border=\"1\" class=\"dataframe\">\n",
       "  <thead>\n",
       "    <tr style=\"text-align: right;\">\n",
       "      <th></th>\n",
       "      <th>Sentence#</th>\n",
       "      <th>word</th>\n",
       "      <th>pos</th>\n",
       "      <th>ner</th>\n",
       "    </tr>\n",
       "  </thead>\n",
       "  <tbody>\n",
       "    <tr>\n",
       "      <th>0</th>\n",
       "      <td>sentence#0</td>\n",
       "      <td>Melbourne</td>\n",
       "      <td>NP</td>\n",
       "      <td>B-LOC</td>\n",
       "    </tr>\n",
       "    <tr>\n",
       "      <th>1</th>\n",
       "      <td>sentence#0</td>\n",
       "      <td>(</td>\n",
       "      <td>Fpa</td>\n",
       "      <td>O</td>\n",
       "    </tr>\n",
       "    <tr>\n",
       "      <th>2</th>\n",
       "      <td>sentence#0</td>\n",
       "      <td>Australia</td>\n",
       "      <td>NP</td>\n",
       "      <td>B-LOC</td>\n",
       "    </tr>\n",
       "    <tr>\n",
       "      <th>3</th>\n",
       "      <td>sentence#0</td>\n",
       "      <td>)</td>\n",
       "      <td>Fpt</td>\n",
       "      <td>O</td>\n",
       "    </tr>\n",
       "    <tr>\n",
       "      <th>4</th>\n",
       "      <td>sentence#0</td>\n",
       "      <td>,</td>\n",
       "      <td>Fc</td>\n",
       "      <td>O</td>\n",
       "    </tr>\n",
       "    <tr>\n",
       "      <th>5</th>\n",
       "      <td>sentence#0</td>\n",
       "      <td>25</td>\n",
       "      <td>Z</td>\n",
       "      <td>O</td>\n",
       "    </tr>\n",
       "    <tr>\n",
       "      <th>6</th>\n",
       "      <td>sentence#0</td>\n",
       "      <td>may</td>\n",
       "      <td>NC</td>\n",
       "      <td>O</td>\n",
       "    </tr>\n",
       "    <tr>\n",
       "      <th>7</th>\n",
       "      <td>sentence#0</td>\n",
       "      <td>(</td>\n",
       "      <td>Fpa</td>\n",
       "      <td>O</td>\n",
       "    </tr>\n",
       "    <tr>\n",
       "      <th>8</th>\n",
       "      <td>sentence#0</td>\n",
       "      <td>EFE</td>\n",
       "      <td>NC</td>\n",
       "      <td>B-ORG</td>\n",
       "    </tr>\n",
       "    <tr>\n",
       "      <th>9</th>\n",
       "      <td>sentence#0</td>\n",
       "      <td>)</td>\n",
       "      <td>Fpt</td>\n",
       "      <td>O</td>\n",
       "    </tr>\n",
       "  </tbody>\n",
       "</table>\n",
       "</div>"
      ],
      "text/plain": [
       "    Sentence#       word  pos    ner\n",
       "0  sentence#0  Melbourne   NP  B-LOC\n",
       "1  sentence#0          (  Fpa      O\n",
       "2  sentence#0  Australia   NP  B-LOC\n",
       "3  sentence#0          )  Fpt      O\n",
       "4  sentence#0          ,   Fc      O\n",
       "5  sentence#0         25    Z      O\n",
       "6  sentence#0        may   NC      O\n",
       "7  sentence#0          (  Fpa      O\n",
       "8  sentence#0        EFE   NC  B-ORG\n",
       "9  sentence#0          )  Fpt      O"
      ]
     },
     "metadata": {},
     "output_type": "display_data"
    }
   ],
   "source": [
    "data_summary(df_train)"
   ]
  },
  {
   "cell_type": "code",
   "execution_count": 10,
   "metadata": {},
   "outputs": [
    {
     "name": "stdout",
     "output_type": "stream",
     "text": [
      "Number of sentences:  1915\n",
      "Number of words in the dataset:  9646\n",
      "NER Tags: ['B-ORG', 'I-ORG', 'I-LOC', 'I-MISC', 'I-PER', 'B-PER', 'B-LOC', 'O', 'B-MISC']\n",
      "Number of Labels:  9\n",
      "What the dataset looks like:\n"
     ]
    },
    {
     "data": {
      "text/html": [
       "<div>\n",
       "<style scoped>\n",
       "    .dataframe tbody tr th:only-of-type {\n",
       "        vertical-align: middle;\n",
       "    }\n",
       "\n",
       "    .dataframe tbody tr th {\n",
       "        vertical-align: top;\n",
       "    }\n",
       "\n",
       "    .dataframe thead th {\n",
       "        text-align: right;\n",
       "    }\n",
       "</style>\n",
       "<table border=\"1\" class=\"dataframe\">\n",
       "  <thead>\n",
       "    <tr style=\"text-align: right;\">\n",
       "      <th></th>\n",
       "      <th>Sentence#</th>\n",
       "      <th>word</th>\n",
       "      <th>pos</th>\n",
       "      <th>ner</th>\n",
       "    </tr>\n",
       "  </thead>\n",
       "  <tbody>\n",
       "    <tr>\n",
       "      <th>0</th>\n",
       "      <td>sentence#0</td>\n",
       "      <td>Sao</td>\n",
       "      <td>NC</td>\n",
       "      <td>B-LOC</td>\n",
       "    </tr>\n",
       "    <tr>\n",
       "      <th>1</th>\n",
       "      <td>sentence#0</td>\n",
       "      <td>Paulo</td>\n",
       "      <td>VMI</td>\n",
       "      <td>I-LOC</td>\n",
       "    </tr>\n",
       "    <tr>\n",
       "      <th>2</th>\n",
       "      <td>sentence#0</td>\n",
       "      <td>(</td>\n",
       "      <td>Fpa</td>\n",
       "      <td>O</td>\n",
       "    </tr>\n",
       "    <tr>\n",
       "      <th>3</th>\n",
       "      <td>sentence#0</td>\n",
       "      <td>Brasil</td>\n",
       "      <td>NC</td>\n",
       "      <td>B-LOC</td>\n",
       "    </tr>\n",
       "    <tr>\n",
       "      <th>4</th>\n",
       "      <td>sentence#0</td>\n",
       "      <td>)</td>\n",
       "      <td>Fpt</td>\n",
       "      <td>O</td>\n",
       "    </tr>\n",
       "    <tr>\n",
       "      <th>5</th>\n",
       "      <td>sentence#0</td>\n",
       "      <td>,</td>\n",
       "      <td>Fc</td>\n",
       "      <td>O</td>\n",
       "    </tr>\n",
       "    <tr>\n",
       "      <th>6</th>\n",
       "      <td>sentence#0</td>\n",
       "      <td>23</td>\n",
       "      <td>Z</td>\n",
       "      <td>O</td>\n",
       "    </tr>\n",
       "    <tr>\n",
       "      <th>7</th>\n",
       "      <td>sentence#0</td>\n",
       "      <td>may</td>\n",
       "      <td>NC</td>\n",
       "      <td>O</td>\n",
       "    </tr>\n",
       "    <tr>\n",
       "      <th>8</th>\n",
       "      <td>sentence#0</td>\n",
       "      <td>(</td>\n",
       "      <td>Fpa</td>\n",
       "      <td>O</td>\n",
       "    </tr>\n",
       "    <tr>\n",
       "      <th>9</th>\n",
       "      <td>sentence#0</td>\n",
       "      <td>EFECOM</td>\n",
       "      <td>NP</td>\n",
       "      <td>B-ORG</td>\n",
       "    </tr>\n",
       "  </tbody>\n",
       "</table>\n",
       "</div>"
      ],
      "text/plain": [
       "    Sentence#    word  pos    ner\n",
       "0  sentence#0     Sao   NC  B-LOC\n",
       "1  sentence#0   Paulo  VMI  I-LOC\n",
       "2  sentence#0       (  Fpa      O\n",
       "3  sentence#0  Brasil   NC  B-LOC\n",
       "4  sentence#0       )  Fpt      O\n",
       "5  sentence#0       ,   Fc      O\n",
       "6  sentence#0      23    Z      O\n",
       "7  sentence#0     may   NC      O\n",
       "8  sentence#0       (  Fpa      O\n",
       "9  sentence#0  EFECOM   NP  B-ORG"
      ]
     },
     "metadata": {},
     "output_type": "display_data"
    }
   ],
   "source": [
    "data_summary(df_test)"
   ]
  },
  {
   "cell_type": "code",
   "execution_count": 11,
   "metadata": {},
   "outputs": [
    {
     "data": {
      "text/plain": [
       "[('Imagínense', 'VMM', 'O'),\n",
       " ('ustedes', 'PP', 'O'),\n",
       " ('que', 'CS', 'O'),\n",
       " ('entre', 'SP', 'O'),\n",
       " ('aquellos', 'DD', 'O'),\n",
       " ('españoles', 'NC', 'O'),\n",
       " (',', 'Fc', 'O'),\n",
       " ('que', 'PR', 'O'),\n",
       " ('fueron', 'VSI', 'O'),\n",
       " ('quienes', 'PR', 'O'),\n",
       " ('llevaron', 'VMI', 'O'),\n",
       " ('a', 'SP', 'O'),\n",
       " ('Europa', 'VMN', 'B-LOC'),\n",
       " ('esos', 'DD', 'O'),\n",
       " ('dones', 'NC', 'O'),\n",
       " ('americanos', 'AQ', 'O'),\n",
       " (',', 'Fc', 'O'),\n",
       " ('se', 'P0', 'O'),\n",
       " ('hubiera', 'VAS', 'O'),\n",
       " ('impuesto', 'VMP', 'O'),\n",
       " ('la', 'DA', 'O'),\n",
       " ('patriotería', 'NC', 'O'),\n",
       " ('gastronómica', 'AQ', 'O'),\n",
       " (':', 'Fd', 'O'),\n",
       " ('patatas', 'NC', 'O'),\n",
       " ('y', 'CC', 'O'),\n",
       " ('tomates', 'NC', 'O'),\n",
       " ('se', 'P0', 'O'),\n",
       " ('hubieran', 'VAS', 'O'),\n",
       " ('quedado', 'VMP', 'O'),\n",
       " ('en', 'SP', 'O'),\n",
       " ('curiosidades', 'NC', 'O'),\n",
       " ('botánicas', 'AQ', 'O'),\n",
       " ('.', 'Fp', 'O')]"
      ]
     },
     "execution_count": 11,
     "metadata": {},
     "output_type": "execute_result"
    }
   ],
   "source": [
    "sentences_train[3]"
   ]
  },
  {
   "cell_type": "code",
   "execution_count": 21,
   "metadata": {
    "scrolled": true
   },
   "outputs": [
    {
     "data": {
      "text/plain": [
       "[('Ambos', 'DN', 'O'),\n",
       " ('dirigentes', 'NC', 'O'),\n",
       " ('han', 'VAI', 'O'),\n",
       " ('coincidido', 'VMP', 'O'),\n",
       " ('en', 'SP', 'O'),\n",
       " ('advertir', 'VMN', 'O'),\n",
       " ('que', 'CS', 'O'),\n",
       " ('la', 'DA', 'O'),\n",
       " ('ETA', 'NC', 'B-ORG'),\n",
       " ('no', 'RN', 'O'),\n",
       " ('está', 'VMI', 'O'),\n",
       " ('acabada', 'AQ', 'O'),\n",
       " ('y', 'CC', 'O'),\n",
       " ('que', 'PR', 'O'),\n",
       " ('puede', 'VMI', 'O'),\n",
       " ('seguir', 'VMN', 'O'),\n",
       " ('con', 'SP', 'O'),\n",
       " ('su', 'DP', 'O'),\n",
       " ('actuación', 'NC', 'O'),\n",
       " ('violenta', 'AQ', 'O'),\n",
       " ('durante', 'SP', 'O'),\n",
       " ('varios', 'DI', 'O'),\n",
       " ('años', 'NC', 'O'),\n",
       " ('si', 'CS', 'O'),\n",
       " ('no', 'RN', 'O'),\n",
       " ('se', 'P0', 'O'),\n",
       " ('articulan', 'VMI', 'O'),\n",
       " ('soluciones', 'NC', 'O'),\n",
       " ('políticas', 'AQ', 'O'),\n",
       " (',', 'Fc', 'O'),\n",
       " ('entre', 'SP', 'O'),\n",
       " ('las', 'DA', 'O'),\n",
       " ('que', 'CS', 'O'),\n",
       " ('Montero', 'NC', 'B-PER'),\n",
       " ('ha', 'VAI', 'O'),\n",
       " ('citado', 'VMP', 'O'),\n",
       " ('la', 'DA', 'O'),\n",
       " ('necesidad', 'NC', 'O'),\n",
       " ('de', 'SP', 'O'),\n",
       " ('que', 'PR', 'O'),\n",
       " ('se', 'P0', 'O'),\n",
       " ('dé', 'VMS', 'O'),\n",
       " ('a', 'SP', 'O'),\n",
       " ('las', 'DA', 'O'),\n",
       " ('instituciones', 'NC', 'O'),\n",
       " ('vascas', 'AQ', 'O'),\n",
       " ('la', 'DA', 'O'),\n",
       " ('capacidad', 'NC', 'O'),\n",
       " ('de', 'SP', 'O'),\n",
       " ('convocar', 'VMN', 'O'),\n",
       " ('referendos', 'NC', 'O'),\n",
       " ('.', 'Fp', 'O')]"
      ]
     },
     "execution_count": 21,
     "metadata": {},
     "output_type": "execute_result"
    }
   ],
   "source": [
    "sentences_test[28]"
   ]
  },
  {
   "cell_type": "markdown",
   "metadata": {},
   "source": [
    "# Extracción de features\n",
    "\n",
    "Definimos las features que queremos usar."
   ]
  },
  {
   "cell_type": "code",
   "execution_count": null,
   "metadata": {},
   "outputs": [],
   "source": [
    "def word2features(sent, i):\n",
    "    word = sent[i][0]\n",
    "    postag = sent[i][1]\n",
    "    \n",
    "    # TODO\n",
    "\n",
    "# WI - palabra actual\n",
    "    # mayúsculas\n",
    "    # sustantivo (pos tag)\n",
    "    # stop word\n",
    "    # signo de puntuacion + caracteres especiales\n",
    "    # números\n",
    "    # longitud\n",
    "    \n",
    "# W3 - palabra anterior\n",
    "    # mayúsculas\n",
    "    # sustantivo (pos tag)\n",
    "    # stop word\n",
    "    # signo de puntuacion + caracteres especiales\n",
    "    # números\n",
    "    # longitud\n",
    "    \n",
    "# W5 - palabra siguiente\n",
    "    # mayúsculas\n",
    "    # sustantivo (pos tag)\n",
    "    # stop word\n",
    "    # signo de puntuacion + caracteres especiales\n",
    "    # números\n",
    "    # longitud\n",
    "    \n",
    "    \n",
    "    return features"
   ]
  },
  {
   "cell_type": "code",
   "execution_count": null,
   "metadata": {},
   "outputs": [],
   "source": [
    "def sent2features(sent):\n",
    "    return [word2features(sent, i) for i in range(len(sent))]"
   ]
  },
  {
   "cell_type": "code",
   "execution_count": null,
   "metadata": {},
   "outputs": [],
   "source": [
    "def sent2labels(sent):\n",
    "    return [word[2] for word in sent]"
   ]
  },
  {
   "cell_type": "markdown",
   "metadata": {},
   "source": [
    "# Datos para entrenamiento, validación y testeo"
   ]
  },
  {
   "cell_type": "code",
   "execution_count": null,
   "metadata": {},
   "outputs": [],
   "source": [
    "X_train = [sent2features(s) for s in sentences_train]\n",
    "y_train = [sent2labels(s) for s in sentences_train]\n",
    "\n",
    "X_test = [sent2features(s) for s in sentences_test]\n",
    "y_test = [sent2labels(s) for s in sentences_test]\n",
    "\n",
    "X_val = [sent2features(s) for s in sentences_val]\n",
    "y_val = [sent2labels(s) for s in sentences_val]"
   ]
  },
  {
   "cell_type": "code",
   "execution_count": null,
   "metadata": {},
   "outputs": [],
   "source": [
    "X_train[0][0]"
   ]
  },
  {
   "cell_type": "markdown",
   "metadata": {},
   "source": [
    "# Entrenamiento"
   ]
  },
  {
   "cell_type": "code",
   "execution_count": null,
   "metadata": {},
   "outputs": [],
   "source": [
    "crf_ = sklearn_crfsuite.CRF(\n",
    "    # TODO\n",
    ")\n",
    "crf_.fit(X_train, y_train)"
   ]
  },
  {
   "cell_type": "markdown",
   "metadata": {},
   "source": [
    "# Evaluación\n",
    "\n",
    "Emplear los datos de validación para _tunnear_ el modelo"
   ]
  },
  {
   "cell_type": "code",
   "execution_count": null,
   "metadata": {},
   "outputs": [],
   "source": [
    "def eval(X, y, removeO=True):\n",
    "    y_pred = crf_.predict(X)\n",
    "    labels = list(crf_.classes_)\n",
    "    \n",
    "    if removeO:\n",
    "        labels.remove('O')\n",
    "    \n",
    "    f1_score_ = metrics.flat_f1_score(y, y_pred, average='weighted', labels=labels)\n",
    "    print('F1 score: {0:.3f}'.format(f1_score_))\n",
    "    \n",
    "    # Group B and I results\n",
    "    sorted_labels = sorted(\n",
    "        labels,\n",
    "        key=lambda name: (name[1:], name[0])\n",
    "    )\n",
    "    \n",
    "    classification_report_ = metrics.flat_classification_report(y, y_pred, labels=sorted_labels, digits=3)\n",
    "    print(classification_report_)"
   ]
  },
  {
   "cell_type": "code",
   "execution_count": null,
   "metadata": {
    "scrolled": true
   },
   "outputs": [],
   "source": [
    "eval(X_val, y_val)"
   ]
  },
  {
   "cell_type": "markdown",
   "metadata": {},
   "source": [
    "# Resultados finales\n",
    "\n",
    "Una vez ajustado el modelo, usar el test set para evaluar el modelo final."
   ]
  },
  {
   "cell_type": "code",
   "execution_count": null,
   "metadata": {},
   "outputs": [],
   "source": [
    "eval(X_test, y_test)"
   ]
  },
  {
   "cell_type": "markdown",
   "metadata": {},
   "source": [
    "# Transiciones más probables / improbables"
   ]
  },
  {
   "cell_type": "code",
   "execution_count": null,
   "metadata": {},
   "outputs": [],
   "source": [
    "from collections import Counter"
   ]
  },
  {
   "cell_type": "code",
   "execution_count": null,
   "metadata": {},
   "outputs": [],
   "source": [
    "def print_transitions(transition_features):\n",
    "    for (label_from, label_to), weight in transition_features:\n",
    "        print('{0:10}->   {1:10}->   {2:10}'.format(label_from, label_to, weight))"
   ]
  },
  {
   "cell_type": "code",
   "execution_count": null,
   "metadata": {},
   "outputs": [],
   "source": [
    "common_transitions = Counter(crf_.transition_features_).most_common(10)\n",
    "\n",
    "print('Transiciones más probables')\n",
    "print_transitions(common_transitions)"
   ]
  },
  {
   "cell_type": "code",
   "execution_count": null,
   "metadata": {},
   "outputs": [],
   "source": [
    "uncommon_transitions = Counter(crf_.transition_features_).most_common()[-10:]\n",
    "\n",
    "print('Transiciones más improbables')\n",
    "print_transitions(uncommon_transitions)"
   ]
  },
  {
   "cell_type": "markdown",
   "metadata": {},
   "source": [
    "# Características estado"
   ]
  },
  {
   "cell_type": "code",
   "execution_count": null,
   "metadata": {},
   "outputs": [],
   "source": [
    "def print_state_features(state_features):\n",
    "    for (attr, label), weight in state_features:\n",
    "        print('{0:10}->   {1:10}->   {2:10}'.format(weight, label, attr))"
   ]
  },
  {
   "cell_type": "code",
   "execution_count": null,
   "metadata": {},
   "outputs": [],
   "source": [
    "positive_state_features = Counter(crf_.state_features_).most_common(10)\n",
    "\n",
    "print('Las más positivas')\n",
    "print_state_features(positive_state_features)"
   ]
  },
  {
   "cell_type": "code",
   "execution_count": null,
   "metadata": {},
   "outputs": [],
   "source": [
    "negative_state_features = Counter(crf_.state_features_).most_common()[-10:]\n",
    "\n",
    "print('Las más negativas')\n",
    "print_state_features(negative_state_features)"
   ]
  },
  {
   "cell_type": "code",
   "execution_count": null,
   "metadata": {},
   "outputs": [],
   "source": []
  }
 ],
 "metadata": {
  "kernelspec": {
   "display_name": "Python 3",
   "language": "python",
   "name": "python3"
  },
  "language_info": {
   "codemirror_mode": {
    "name": "ipython",
    "version": 3
   },
   "file_extension": ".py",
   "mimetype": "text/x-python",
   "name": "python",
   "nbconvert_exporter": "python",
   "pygments_lexer": "ipython3",
   "version": "3.7.6"
  }
 },
 "nbformat": 4,
 "nbformat_minor": 2
}
