{
 "cells": [
  {
   "cell_type": "markdown",
   "metadata": {},
   "source": [
    "# Word Embeddings\n",
    "\n",
    "Los Word Embeddings son aquellas técnicas y modelos de lenguaje que permiten mapear palabras a vectores de valores continuos. Durante el entrenamiento de dichos vectores se buscará que capturen la información semántica de las palabras.\n",
    "\n",
    "<img src=https://miro.medium.com/max/1280/1*OEmWDt4eztOcm5pr2QbxfA.png widt=500px>\n",
    "\n",
    "Gracias a que lso vectores tienen información sobre la semántica, mediante operaciones vectoriales podemos encontrar palabras (o documentos) que tienen un significado similar.\n",
    "\n",
    "La idea principal de este tipo de modelos es que **palabras que aparecen en contextos similares tienen semánticas similares**. **Concepto de sustituibilidad**.\n",
    "\n",
    "**Aquellas palabras que semánticamente son similares tendrán - idealmente - vectores-palabra cercanos entre sí.**\n",
    "\n",
    "Existen multitud de modelos, en esta sesión veremos solo algunas. "
   ]
  },
  {
   "cell_type": "markdown",
   "metadata": {},
   "source": [
    "## Word2Vec\n",
    "\n",
    "El modelo más famoso de word embeddings. Inventado por [Tomas Mikolov en 2013 en Google](https://arxiv.org/pdf/1310.4546.pdf))\n",
    "\n",
    "https://radimrehurek.com/gensim/models/word2vec.html\n",
    "\n",
    "### Hyperparameters\n",
    "\n",
    "Algunos de los hiperparámetros que deberemos tener en cuenta y configuraremos:\n",
    "\n",
    "- **size**: dimensionalidad de las palabras vector\n",
    "- **window**: ventana para obtener el contexto de cada palabra. Se mide en número de palabras máximo entre la palabra actual y la palabra a predecir\n",
    "- **min_count**: frecuencia mínima de aparición de una palabra para que sea considerada en el entrenamiento\n",
    "- **sg**: algoritmo escogido. 1 para Skip-Gram, 0 para CBOW\n",
    "- **hs**: si = 1, se utiliza una softmax jerárquica. Si = 0, y negative != 0, se emplea negative sampling\n",
    "- **negative**: si = 0, no se usa negative sampling. Si es > 0, se usará negative sampling. El valor indica el número de \"palabras ruidosas\" se incluirán (usual entre 5-20 para datasets pequeños, entre 2-5 para datasets grandes)\n",
    "\n",
    "### Noción de contexto\n",
    "\n",
    "<img src=https://docs.chainer.org/en/v4.0.0b2/_images/center_context_word.png width=450px>\n",
    "\n",
    "## Atributos\n",
    "\n",
    "- wv: word vectors, contiene el mapeo entre palabras y vectores (embeddings)\n",
    "- vocabulary: vocabulario (o diccionario) del modelo\n",
    "\n",
    "\n",
    "## Negative sampling\n",
    "\n",
    "Cuando se trabaja en NLP el tamaño del vocabulario suele tener una cardinalidad enorme. Esto afecta a los modelos de lenguaje a la hora de predecir aquellas palabras que, aunque correctas, no son demasiado frecuentes.\n",
    "\n",
    "Además, contextos muy comunes (como los que podrían ser aquellos en los que se encuentran muchas stop words) hacen que el entrenamiento sea lento. Se emplea, por tanto, para reducir la carga computacional al problema.\n",
    "\n",
    "La solución que se propone - e implementa - Word2Vec es que cada palabra tenga una determinada probabilidad de ser eliminada del training set. Dicha probabilidad estará relacionada con la frecuencia de repetición de dicha palabra.\n",
    "\n",
    "\n",
    "## Arquitecturas\n",
    "\n",
    "Existen dos arquitecturas de este modelo: CBOW y Skip Gram.\n",
    "\n",
    "\n",
    "#### CBOW (Continuous Bag of Words)\n",
    "\n",
    "Durante el entrenamiento, el modelo tratará de **predecir la palabra actual** dado el contexto en el que se encuentre. La capa de entrada contendrá las palabras-contexto y la de salida será la palabra actual (o palabra a predecir). La capa intermedia tendrá una dimension igual al número de dimensiones en el que queremos representar la palabra actual a la salida.\n",
    "\n",
    "<img src=https://miro.medium.com/max/1104/0*CCsrTAjN80MqswXG width=400px>\n",
    "\n",
    "\n",
    "#### Skip Gram\n",
    "\n",
    "Durante el entrenamiento, el modelo tratará de predecir **el contexto (palabras-contexto)** a una palabra dada. La capa de entrada contendrá la palabra actual y la de salida serán las palabras contexto. La capa intermedia es análoga a la presente en la arquitectura CBOW.\n",
    "\n",
    "<img src=https://miro.medium.com/max/1280/0*Ta3qx5CQsrJloyCA.png width=300px>\n",
    "\n",
    "### ¿Cuál es mejor?\n",
    "\n",
    "En general, depende. CBOW, al haber sido entrenado para predecir una palabra dado un contexto, será algo mejor _rellenando huecos_, aunque eso puede significar que palabras correctas pero menos comunes no aparezcan como resultado algunas veces. Skip Gram, en cambio, \n",
    "\n",
    "Si atendemos a los comentarios de Mikolov:\n",
    "\n",
    "- Skip-gram: funciona bien con conjuntos de datos pequeños, representando bien incluso palabras o frases extrañas (poco comunes)\n",
    "- CBOW: entrenamiento varias veces más rápido, su performance mejor para aquellas palabras más frecuentes que el resto"
   ]
  },
  {
   "cell_type": "markdown",
   "metadata": {},
   "source": [
    "## Palabras más similares"
   ]
  },
  {
   "cell_type": "code",
   "execution_count": 1,
   "metadata": {},
   "outputs": [],
   "source": [
    "def print_sim_words(word, model1, model2):\n",
    "    query = \"Most similar to {}\".format(word) \n",
    "    print(query)\n",
    "    print(\"-\"*len(query))\n",
    "    for (sim1, sim2) in zip(model1.wv.most_similar(word), model2.wv.most_similar(word)):\n",
    "        print(\"{}:{}{:.3f}{}{}:{}{:.3f}\".format(sim1[0],\n",
    "                                               \" \"*(20-len(sim1[0])), \n",
    "                                               sim1[1], \n",
    "                                               \" \"*10, \n",
    "                                               sim2[0],\n",
    "                                               \" \"*(20-len(sim2[0])),\n",
    "                                               sim2[1]))\n",
    "    print(\"\\n\")"
   ]
  },
  {
   "cell_type": "markdown",
   "metadata": {},
   "source": [
    "## Importamos las librerías"
   ]
  },
  {
   "cell_type": "code",
   "execution_count": 2,
   "metadata": {},
   "outputs": [],
   "source": [
    "from gensim.models import Word2Vec\n",
    "from gensim.models.word2vec import LineSentence"
   ]
  },
  {
   "cell_type": "markdown",
   "metadata": {},
   "source": [
    "## Lectura de datos"
   ]
  },
  {
   "cell_type": "code",
   "execution_count": 7,
   "metadata": {},
   "outputs": [],
   "source": [
    "corpus = LineSentence('../../datasets/spanish_news_corpus_doc.txt', limit=200)"
   ]
  },
  {
   "cell_type": "markdown",
   "metadata": {},
   "source": [
    "## Hyperparameters"
   ]
  },
  {
   "cell_type": "code",
   "execution_count": 8,
   "metadata": {},
   "outputs": [],
   "source": [
    "sg_params = {\n",
    "    'size': 200,\n",
    "    'window': 10,\n",
    "    'min_count': 5,\n",
    "    'sg': 1,\n",
    "    'hs': 0,\n",
    "    'negative': 20\n",
    "}\n",
    "\n",
    "cbow_params = {\n",
    "    'size': 200,\n",
    "    'window': 10,\n",
    "    'min_count': 5,\n",
    "    'sg': 0,\n",
    "    'hs': 0,\n",
    "    'negative': 20\n",
    "}"
   ]
  },
  {
   "cell_type": "markdown",
   "metadata": {},
   "source": [
    "## Inicializamos los objetos Word2Vec"
   ]
  },
  {
   "cell_type": "code",
   "execution_count": 9,
   "metadata": {},
   "outputs": [],
   "source": [
    "# Skip Gram\n",
    "w2v_sg = Word2Vec(**sg_params)\n",
    "\n",
    "# CBOW\n",
    "w2v_cbow = Word2Vec(**cbow_params)"
   ]
  },
  {
   "cell_type": "markdown",
   "metadata": {},
   "source": [
    "## Construímos el vocabulario"
   ]
  },
  {
   "cell_type": "code",
   "execution_count": 10,
   "metadata": {
    "scrolled": true
   },
   "outputs": [],
   "source": [
    "# Skip Gram\n",
    "w2v_sg.build_vocab(corpus)\n",
    "\n",
    "# CBOW\n",
    "w2v_cbow.build_vocab(corpus)"
   ]
  },
  {
   "cell_type": "code",
   "execution_count": 11,
   "metadata": {},
   "outputs": [
    {
     "name": "stdout",
     "output_type": "stream",
     "text": [
      "Vocabulario compuesto por 2576 palabras\n"
     ]
    }
   ],
   "source": [
    "print('Vocabulario compuesto por {} palabras'.format(len(w2v_sg.wv.vocab)))"
   ]
  },
  {
   "cell_type": "code",
   "execution_count": 13,
   "metadata": {},
   "outputs": [
    {
     "name": "stdout",
     "output_type": "stream",
     "text": [
      "Vocabulario compuesto por 2576 palabras\n"
     ]
    }
   ],
   "source": [
    "print('Vocabulario compuesto por {} palabras'.format(len(w2v_cbow.wv.vocab)))"
   ]
  },
  {
   "cell_type": "markdown",
   "metadata": {},
   "source": [
    "## Entrenamos los pesos de los embeddings"
   ]
  },
  {
   "cell_type": "code",
   "execution_count": 14,
   "metadata": {
    "scrolled": true
   },
   "outputs": [
    {
     "data": {
      "text/plain": [
       "(2048950, 3906600)"
      ]
     },
     "execution_count": 14,
     "metadata": {},
     "output_type": "execute_result"
    }
   ],
   "source": [
    "# Skip Gram\n",
    "w2v_sg.train(sentences=corpus, total_examples=w2v_sg.corpus_count, epochs=40)"
   ]
  },
  {
   "cell_type": "code",
   "execution_count": 15,
   "metadata": {},
   "outputs": [
    {
     "data": {
      "text/plain": [
       "(2049337, 3906600)"
      ]
     },
     "execution_count": 15,
     "metadata": {},
     "output_type": "execute_result"
    }
   ],
   "source": [
    "# CBOW\n",
    "w2v_cbow.train(sentences=corpus, total_examples=w2v_cbow.corpus_count, epochs=40)"
   ]
  },
  {
   "cell_type": "markdown",
   "metadata": {},
   "source": [
    "## Guardamos los modelos"
   ]
  },
  {
   "cell_type": "code",
   "execution_count": null,
   "metadata": {},
   "outputs": [],
   "source": [
    "w2v_sg.save('../../data/w2v_sg_d300_mc5_w5.pkl')\n",
    "w2v_cbow.save('../../data/w2v_sg_d300_mc5_w5.pkl')"
   ]
  },
  {
   "cell_type": "markdown",
   "metadata": {},
   "source": [
    "## Algunos resultados"
   ]
  },
  {
   "cell_type": "code",
   "execution_count": 20,
   "metadata": {
    "scrolled": true
   },
   "outputs": [
    {
     "name": "stdout",
     "output_type": "stream",
     "text": [
      "Most similar to elecciones\n",
      "--------------------------\n",
      "generales:           0.920          generales:           0.716\n",
      "forzar:              0.847          forzar:              0.618\n",
      "presentar:           0.815          moción:              0.526\n",
      "moción:              0.805          cs:                  0.524\n",
      "sánchez:             0.800          johnson:             0.505\n",
      "oposición:           0.788          oposición:           0.495\n",
      "investidura:         0.782          comicios:            0.488\n",
      "mayoría:             0.774          apoyos:              0.487\n",
      "apoyos:              0.766          escaños:             0.479\n",
      "cs:                  0.761          electoral:           0.477\n",
      "\n",
      "\n",
      "Most similar to botín\n",
      "---------------------\n",
      "ana:                 0.870          ana:                 0.704\n",
      "vicepresidente:      0.854          planeta:             0.683\n",
      "ferrovial:           0.846          jesús:               0.547\n",
      "jesús:               0.841          próxima:             0.501\n",
      "álvarez:             0.838          ribera:              0.484\n",
      "gonzález:            0.826          presidenta:          0.483\n",
      "policía:             0.820          gobernador:          0.479\n",
      "pérez:               0.819          viral:               0.478\n",
      "endesa:              0.818          informado:           0.474\n",
      "presidenta:          0.811          tratar:              0.473\n",
      "\n",
      "\n",
      "Most similar to sánchez\n",
      "-----------------------\n",
      "pedro:               0.941          pedro:               0.700\n",
      "rivera:              0.929          rivera:              0.661\n",
      "investidura:         0.894          cs:                  0.541\n",
      "psoe:                0.886          negociar:            0.535\n",
      "cs:                  0.879          psoe:                0.530\n",
      "unidas:              0.862          naranja:             0.530\n",
      "iglesias:            0.855          investidura:         0.527\n",
      "gobierno:            0.854          iglesias:            0.509\n",
      "moción:              0.853          funciones:           0.507\n",
      "negociar:            0.843          rechaza:             0.507\n",
      "\n",
      "\n",
      "Most similar to impeachment\n",
      "---------------------------\n",
      "donald:              0.935          donald:              0.555\n",
      "trump:               0.904          trump:               0.537\n",
      "aplicar:             0.795          destacadas:          0.486\n",
      "ue:                  0.768          optimismo:           0.484\n",
      "reino:               0.766          confirma:            0.466\n",
      "duro:                0.765          bolsas:              0.465\n",
      "lautenschläger:      0.756          gobernador:          0.458\n",
      "dijo:                0.748          posibilidades:       0.450\n",
      "político:            0.746          ex:                  0.439\n",
      "acuerdo:             0.743          representantes:      0.439\n",
      "\n",
      "\n"
     ]
    }
   ],
   "source": [
    "print_sim_words('elecciones', w2v_cbow, w2v_sg)\n",
    "print_sim_words('botín', w2v_cbow, w2v_sg)\n",
    "print_sim_words('sánchez', w2v_cbow, w2v_sg)\n",
    "print_sim_words('impeachment', w2v_cbow, w2v_sg)"
   ]
  },
  {
   "cell_type": "markdown",
   "metadata": {},
   "source": [
    "## Palabras fuera del vocabulario (OOV Words)\n",
    "\n",
    "Los embeddings calculados a nivel de palabra no devolverán un vector para aquellos tokens que no hayan guardado en su vocabulario. Una vez que los vectores palabra han sido aprendidos, aquellas palabras que no han sido aprendidas durante el entrenamiento no tendrán representación."
   ]
  },
  {
   "cell_type": "code",
   "execution_count": 21,
   "metadata": {},
   "outputs": [
    {
     "data": {
      "text/plain": [
       "False"
      ]
     },
     "execution_count": 21,
     "metadata": {},
     "output_type": "execute_result"
    }
   ],
   "source": [
    "'asereje' in w2v_cbow.wv.vocab"
   ]
  },
  {
   "cell_type": "code",
   "execution_count": null,
   "metadata": {
    "scrolled": true
   },
   "outputs": [],
   "source": [
    "w2v_cbow.wv.most_similar('asereje')"
   ]
  },
  {
   "cell_type": "markdown",
   "metadata": {},
   "source": [
    "Algunas estrategias para lidiar con palabras OOV:\n",
    "- Asignar un vector que siga una distribución aleatoria uniforme. P. ej.:\n",
    "`unk = np.random.uniform(-np.var(w2v.wv.vectors), np.var(w2v.wv.vectors), w2v.wv.vector_size)`\n",
    "- Reemplazar por un token especial, conocido y distinto del resto, (`<unk>`) y entrenar los embeddings\n",
    "- Reemplazar por un token especial, conocido y disinto del resto, y añadir información extra. P. ej.: `<unk_noun>` o `<unk_verb>`\n",
    "- Utilizar modelos que no sean a nivel de palabra"
   ]
  },
  {
   "cell_type": "markdown",
   "metadata": {},
   "source": [
    "## Visualización: Bonus\n",
    "\n",
    "[Enlace](https://anvaka.github.io/pm/#/galaxy/word2vec-wiki?cx=-16179&cy=-1641&cz=4313&lx=0.3194&ly=-0.5230&lz=-0.4110&lw=0.6749&ml=300&s=1.75&l=1&v=d50_clean)\n",
    "\n",
    "<img src=https://empresas.blogthinkbig.com/wp-content/uploads/2019/06/embeddings_galaxy.png width=650px>"
   ]
  }
 ],
 "metadata": {
  "kernelspec": {
   "display_name": "Python 3",
   "language": "python",
   "name": "python3"
  },
  "language_info": {
   "codemirror_mode": {
    "name": "ipython",
    "version": 3
   },
   "file_extension": ".py",
   "mimetype": "text/x-python",
   "name": "python",
   "nbconvert_exporter": "python",
   "pygments_lexer": "ipython3",
   "version": "3.7.4"
  }
 },
 "nbformat": 4,
 "nbformat_minor": 2
}
