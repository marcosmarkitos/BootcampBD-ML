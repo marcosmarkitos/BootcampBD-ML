{
 "cells": [
  {
   "cell_type": "markdown",
   "metadata": {},
   "source": [
    "# Document Embeddings (Doc2Vec)\n",
    "\n",
    "Existen multitud de maneras de abordar este problema. El que estudiaremos, y que se presenta a continuación, es Doc2Vec.\n",
    "\n",
    "## Paragraph Vector: Distributed memory (PV-DM)\n",
    "\n",
    "De manera similar a Word2Vec, en este caso los vectores representarán la información de un documento, en lugar de una palabra. En este caso, además de tener los vectores para cada palabra, se incluye un vector hace referencia al documento completo. De esta forma, cuando se calculan las palabras-vector, el vector para el documento es calculado también.\n",
    "\n",
    "![pv-dm](../soluciones/img/PV-DM.png)\n",
    "\n",
    "## Paragraph Vector: Distributed Bag of Words (PV-DBoW)\n",
    "\n",
    "Análogo (o similar) al Skip-Gram en Word2Vec, el vector del documento es la entrada a la red, de manera que tratará de predecirse el contexto (todas las palabras que componen el documento).\n",
    "\n",
    "![pv-dbow](../soluciones/img/PV-DBoW.png)"
   ]
  },
  {
   "cell_type": "markdown",
   "metadata": {},
   "source": [
    "# Excercise: Document Clustering"
   ]
  },
  {
   "cell_type": "code",
   "execution_count": 1,
   "metadata": {},
   "outputs": [],
   "source": [
    "import pandas as pd\n",
    "import numpy as np\n",
    "from time import time\n",
    "from sklearn.model_selection import train_test_split\n",
    "from sklearn.metrics.pairwise import cosine_similarity"
   ]
  },
  {
   "cell_type": "code",
   "execution_count": 2,
   "metadata": {},
   "outputs": [],
   "source": [
    "from nltk import sent_tokenize\n",
    "from nltk.corpus import stopwords\n",
    "import string\n",
    "from tqdm import tqdm\n",
    "import re"
   ]
  },
  {
   "cell_type": "code",
   "execution_count": 3,
   "metadata": {},
   "outputs": [
    {
     "name": "stdout",
     "output_type": "stream",
     "text": [
      "!\"#$%&'()*+,./:;<=>?@[\\]^_`{|}~“”«»¿¡‘’\n"
     ]
    }
   ],
   "source": [
    "string.punctuation += '“”«»¿¡‘’'\n",
    "string.punctuation = string.punctuation.replace('-', '')\n",
    "table = str.maketrans({key: None for key in string.punctuation})\n",
    "print(string.punctuation)"
   ]
  },
  {
   "cell_type": "code",
   "execution_count": 4,
   "metadata": {},
   "outputs": [],
   "source": [
    "def preprocess(sent):\n",
    "    return [token for token in re.sub(\"\\n+\", \" \", str(sent).lower().translate(table)).split(\" \")]"
   ]
  },
  {
   "cell_type": "code",
   "execution_count": 5,
   "metadata": {},
   "outputs": [],
   "source": [
    "def doc_list_format(df, save=False, fname='train'):\n",
    "    # List for appending documents. One line per document\n",
    "    doc_list = []\n",
    "    # Iterate over DataFrames and join preprocessed title and text in the same line\n",
    "    for idx, (title, text) in enumerate(zip(df['title'], df['text'])):\n",
    "        article_proc = \" \".join(preprocess(title))\n",
    "        try:\n",
    "            for sent in sent_tokenize(text):\n",
    "                article_proc += \" \" + \" \".join(preprocess(sent))\n",
    "        except:\n",
    "            pass\n",
    "        doc_list.append(article_proc)\n",
    "        if save:\n",
    "            with open('../../datasets/spanish_news_corpus_doc2vec_' + fname + '.txt', 'a') as f:\n",
    "                f.write(article_proc + \"\\n\")\n",
    "        else:\n",
    "            pass\n",
    "    return doc_list"
   ]
  },
  {
   "cell_type": "markdown",
   "metadata": {},
   "source": [
    "## Data Loading"
   ]
  },
  {
   "cell_type": "code",
   "execution_count": 6,
   "metadata": {},
   "outputs": [
    {
     "name": "stdout",
     "output_type": "stream",
     "text": [
      "CPU times: user 439 ms, sys: 7.33 s, total: 7.77 s\n",
      "Wall time: 8.34 s\n"
     ]
    }
   ],
   "source": [
    "%%time\n",
    "df = pd.read_excel('../../datasets/spanish_news_corpus.xlsx')"
   ]
  },
  {
   "cell_type": "code",
   "execution_count": 7,
   "metadata": {},
   "outputs": [
    {
     "name": "stdout",
     "output_type": "stream",
     "text": [
      "(39352, 6)\n"
     ]
    },
    {
     "data": {
      "text/html": [
       "<div>\n",
       "<style scoped>\n",
       "    .dataframe tbody tr th:only-of-type {\n",
       "        vertical-align: middle;\n",
       "    }\n",
       "\n",
       "    .dataframe tbody tr th {\n",
       "        vertical-align: top;\n",
       "    }\n",
       "\n",
       "    .dataframe thead th {\n",
       "        text-align: right;\n",
       "    }\n",
       "</style>\n",
       "<table border=\"1\" class=\"dataframe\">\n",
       "  <thead>\n",
       "    <tr style=\"text-align: right;\">\n",
       "      <th></th>\n",
       "      <th>date</th>\n",
       "      <th>title</th>\n",
       "      <th>text</th>\n",
       "      <th>keywords</th>\n",
       "      <th>media</th>\n",
       "      <th>url</th>\n",
       "    </tr>\n",
       "  </thead>\n",
       "  <tbody>\n",
       "    <tr>\n",
       "      <th>39347</th>\n",
       "      <td>2019-10-23</td>\n",
       "      <td>Campofrío esquiva los aranceles de EEUU y la c...</td>\n",
       "      <td>La segunda mayor empresa de alimentación españ...</td>\n",
       "      <td>facturación|proteínas|esquiva|porcina|arancele...</td>\n",
       "      <td>expansion</td>\n",
       "      <td>https://www.expansion.com/empresas/distribucio...</td>\n",
       "    </tr>\n",
       "    <tr>\n",
       "      <th>39348</th>\n",
       "      <td>2019-10-23</td>\n",
       "      <td>Capital Group aflora el 3,1% del capital de Ce...</td>\n",
       "      <td>La gestora de fondos estadounidense Capital Gr...</td>\n",
       "      <td>management|capital|través|euros|principal|comp...</td>\n",
       "      <td>expansion</td>\n",
       "      <td>https://www.expansion.com/mercados/2019/10/23/...</td>\n",
       "    </tr>\n",
       "    <tr>\n",
       "      <th>39349</th>\n",
       "      <td>2019-10-23</td>\n",
       "      <td>Se equivoca al rellenar la lotería y gana dos ...</td>\n",
       "      <td>Las personas que creen en el destino suelen pe...</td>\n",
       "      <td>vez|dólares|primer|ganador|dos|equivoca|número...</td>\n",
       "      <td>elconfidencial</td>\n",
       "      <td>https://www.elconfidencial.com/alma-corazon-vi...</td>\n",
       "    </tr>\n",
       "    <tr>\n",
       "      <th>39350</th>\n",
       "      <td>2019-10-23</td>\n",
       "      <td>El Premio Nacional de Narrativa, por Milena Bu...</td>\n",
       "      <td>Leo con enorme alivio y regocijo las declaraci...</td>\n",
       "      <td>ser|vez|escritor|si|valor|solapa|prostitutas|b...</td>\n",
       "      <td>elperiodico</td>\n",
       "      <td>https://www.elperiodico.com/es/opinion/2019102...</td>\n",
       "    </tr>\n",
       "    <tr>\n",
       "      <th>39351</th>\n",
       "      <td>2019-10-24</td>\n",
       "      <td>¿Dónde ve oportunidades en los mercados? por V...</td>\n",
       "      <td>¿Dónde ve oportunidades en los mercados?\\n\\n¿S...</td>\n",
       "      <td>dónde|responderá|regístrese|ve|riesgos|puede|p...</td>\n",
       "      <td>expansion</td>\n",
       "      <td>https://www.expansion.com/encuentros/victor-de...</td>\n",
       "    </tr>\n",
       "  </tbody>\n",
       "</table>\n",
       "</div>"
      ],
      "text/plain": [
       "            date                                              title  \\\n",
       "39347 2019-10-23  Campofrío esquiva los aranceles de EEUU y la c...   \n",
       "39348 2019-10-23  Capital Group aflora el 3,1% del capital de Ce...   \n",
       "39349 2019-10-23  Se equivoca al rellenar la lotería y gana dos ...   \n",
       "39350 2019-10-23  El Premio Nacional de Narrativa, por Milena Bu...   \n",
       "39351 2019-10-24  ¿Dónde ve oportunidades en los mercados? por V...   \n",
       "\n",
       "                                                    text  \\\n",
       "39347  La segunda mayor empresa de alimentación españ...   \n",
       "39348  La gestora de fondos estadounidense Capital Gr...   \n",
       "39349  Las personas que creen en el destino suelen pe...   \n",
       "39350  Leo con enorme alivio y regocijo las declaraci...   \n",
       "39351  ¿Dónde ve oportunidades en los mercados?\\n\\n¿S...   \n",
       "\n",
       "                                                keywords           media  \\\n",
       "39347  facturación|proteínas|esquiva|porcina|arancele...       expansion   \n",
       "39348  management|capital|través|euros|principal|comp...       expansion   \n",
       "39349  vez|dólares|primer|ganador|dos|equivoca|número...  elconfidencial   \n",
       "39350  ser|vez|escritor|si|valor|solapa|prostitutas|b...     elperiodico   \n",
       "39351  dónde|responderá|regístrese|ve|riesgos|puede|p...       expansion   \n",
       "\n",
       "                                                     url  \n",
       "39347  https://www.expansion.com/empresas/distribucio...  \n",
       "39348  https://www.expansion.com/mercados/2019/10/23/...  \n",
       "39349  https://www.elconfidencial.com/alma-corazon-vi...  \n",
       "39350  https://www.elperiodico.com/es/opinion/2019102...  \n",
       "39351  https://www.expansion.com/encuentros/victor-de...  "
      ]
     },
     "execution_count": 7,
     "metadata": {},
     "output_type": "execute_result"
    }
   ],
   "source": [
    "print(df.shape)\n",
    "df.tail()"
   ]
  },
  {
   "cell_type": "code",
   "execution_count": 8,
   "metadata": {},
   "outputs": [],
   "source": [
    "%%time\n",
    "doc = doc_list_format(df, save=False, fname='train')"
   ]
  },
  {
   "cell_type": "markdown",
   "metadata": {},
   "source": [
    "## Doc2Vec Training"
   ]
  },
  {
   "cell_type": "markdown",
   "metadata": {},
   "source": [
    "```python\n",
    "params = {'corpus_file': '../../datasets/spanish_news_corpus_doc.txt',\n",
    "          'dm': 1,\n",
    "          'vector_size': 300,\n",
    "          'window':5,\n",
    "          'min_count': 5,\n",
    "          'sample': 1e-5,\n",
    "          'hs': 0,\n",
    "          'negative': 20,\n",
    "          'dm_mean': 1,\n",
    "          'epochs': 20,\n",
    "          'workers': 6}\n",
    "d2v = Doc2Vec(**params)\n",
    "```"
   ]
  },
  {
   "cell_type": "code",
   "execution_count": 9,
   "metadata": {},
   "outputs": [],
   "source": [
    "from gensim.models import Doc2Vec\n",
    "d2v = Doc2Vec.load('../../trained_models/d2v_dbow_d300_mc5_w5.pkl')"
   ]
  },
  {
   "cell_type": "code",
   "execution_count": 11,
   "metadata": {},
   "outputs": [
    {
     "name": "stdout",
     "output_type": "stream",
     "text": [
      "0.8111827\n",
      "0.5287716\n"
     ]
    }
   ],
   "source": [
    "doc_1 = d2v.infer_vector(['sánchez', 'repetición', 'elecciones', 'pacto', 'psoe', 'socialistas'])\n",
    "doc_2 = d2v.infer_vector(['casado', 'rivera', 'no', 'investidura', 'abstención', 'pp', 'cs'])\n",
    "doc_3 = d2v.infer_vector(['dana', 'temporal', 'gota', 'fría', 'alicante', 'lluvias', 'torrenciales'])\n",
    "print(cosine_similarity(doc_1.reshape(1, -1), doc_2.reshape(1, -1))[0][0])\n",
    "print(cosine_similarity(doc_1.reshape(1, -1), doc_3.reshape(1, -1))[0][0])"
   ]
  },
  {
   "cell_type": "markdown",
   "metadata": {},
   "source": [
    "## Birch Clustering"
   ]
  },
  {
   "cell_type": "code",
   "execution_count": 12,
   "metadata": {},
   "outputs": [],
   "source": [
    "from sklearn.cluster import Birch\n",
    "from sklearn.metrics import silhouette_score\n",
    "import itertools"
   ]
  },
  {
   "cell_type": "code",
   "execution_count": 13,
   "metadata": {},
   "outputs": [],
   "source": [
    "np.random.seed(2019)\n",
    "rnd_index = np.random.choice(range(len(doc)), size=10000, replace=False)"
   ]
  },
  {
   "cell_type": "code",
   "execution_count": 21,
   "metadata": {},
   "outputs": [
    {
     "name": "stdout",
     "output_type": "stream",
     "text": [
      "CPU times: user 27.4 s, sys: 962 ms, total: 28.4 s\n",
      "Wall time: 29 s\n"
     ]
    }
   ],
   "source": [
    "%%time\n",
    "birch = Birch(branching_factor=50, threshold=0.5, n_clusters=13, compute_labels=True).fit(d2v.docvecs.vectors_docs[rnd_index])\n",
    "labels = birch.labels_"
   ]
  },
  {
   "cell_type": "code",
   "execution_count": 22,
   "metadata": {},
   "outputs": [],
   "source": [
    "clusters = {n: df.loc[rnd_index[np.where(labels==n)[0].tolist()].tolist(), 'title'].values.tolist() for n in range(len(set(labels)))}"
   ]
  },
  {
   "cell_type": "code",
   "execution_count": 23,
   "metadata": {},
   "outputs": [
    {
     "name": "stdout",
     "output_type": "stream",
     "text": [
      "##################################################\n",
      "Cluster: 0\n",
      "* El poder de salvar vidas de la educación sexual\n",
      "* Cuba: Colas kilométricas para poder echar gasolina\n",
      "* Gana 4,1 millones de euros en la lotería tras cambiar un número que le recordaba a su exmarido\n",
      "* Tommy Hilfiger lanza su segunda colección cápsula para hombre 'TommyXMercedes-Benz'\n",
      "* Los años Anagrama\n",
      "* Un viaje cinematográfico con el crítico Elvis Mitchell como guía\n",
      "* Entre el amor y el espanto, por Daniel Fernández\n",
      "* Antonio Banderas traslada el espíritu de Broadway a Málaga\n",
      "* Camilo Sesto: Los mejores temas del cantante fallecido\n",
      "* Karina Sainz Borgo: “No conozco otra cosa que no sea la violencia”\n",
      "##################################################\n",
      "Cluster: 1\n",
      "* Fotos: Vandalizadas, censuradas y vilipendiadas: ¿qué tienen estas 10 obras de arte para despertar tanto rechazo?\n",
      "* El exlíder ultraderechista austriaco abandona la política, acosado por el caso Ibiza\n",
      "* Israel: Benjamin Netanyahu afirma que se anexionará el Valle del Jordán si gana las elecciones\n",
      "* Jefes militares dan su respaldo al presidente de Perú, Martín Vizcarra\n",
      "* ‘Al Rojo Vivo’: LaSexta cambia su programación para emitir un programa especial tras la sentencia del procés\n",
      "* Entrevista: Alejandro Amenábar: “No se puede hacer cine al dictado del público”\n",
      "* Acuerdo en Ecuador entre el presidente Lenín Moreno y los indígenas\n",
      "* Margarita Robles aboga por el papel de la mujer para conseguir la paz y un ‘desarrollo justo y sostenible’\n",
      "* Boris Johnson, contra las cuerdas\n",
      "* Lo que no nos han contado sobre el atentado de Carrero Blanco\n",
      "##################################################\n",
      "Cluster: 2\n",
      "* Los pedidos industriales de Alemania caen el doble de lo previsto por la debilidad de la demanda doméstica\n",
      "* Se habla del Supremo con el IRPH, de las conferencias de Varoufakis y de la vuelta de Artur Mas\n",
      "* El cuadro macro salta por los aires y arruina los cálculos de Sánchez para el 10-N\n",
      "* La banca europea ha recortado casi medio millón de empleos desde el estallido de la crisis\n",
      "* La Fed está lista para otra rebaja de tipos pese a la división de sus funcionarios\n",
      "* La banca reduce a la mínima expresión la rentabilidad de los depósitos\n",
      "* El Chart de Hódar: Colonial, tendencia alcista\n",
      "* El euro cae por debajo de los 1,10 dólares tras el anuncio del BCE\n",
      "* El Ibex rebota un 0,58% tras las buenas noticias sobre China-EEUU y el Brexit\n",
      "* Meliá Hotels: otra vez a por el 'soportazo' de los 6,90 euros\n",
      "##################################################\n",
      "Cluster: 3\n",
      "* Cuando la inclusión está en el ADN empresarial\n",
      "* La ropa recogida gracias a la campaña '#YoNoDesperdicio' se destinará a los afectados por la DANA\n",
      "* Standard & Poor's sale en defensa del compromiso sostenible de Telefónica\n",
      "* El PP Aragón reflexionará cómo \"ser más útil\" a la ciudadanía en la XI Escuela de Verano 'Antonio Torres'\n",
      "* ¿Una campaña sin ex? González no participará y Zapatero, Aznar y Rajoy no tienen actos en agenda\n",
      "* Una doctora del tribunal del socialista Marí-Klose conocía los dos libros plagiados en su tesis\n",
      "* Lucha contra el fraude: PSD2\n",
      "* Por qué no hay vocaciones ‘STEM’ en España\n",
      "* Silencio en Moncloa ante las similitudes con el caso Sánchez\n",
      "* ¿A qué edad deberían aprender los niños conceptos empresariales y financieros?\n",
      "##################################################\n",
      "Cluster: 4\n",
      "* El Supremo niega la patria potestad a un padre que intentó matar a su mujer\n",
      "* Un niño muere hoy en Barcelona tras ser atropellado\n",
      "* Espectacular caída de un puente en Taiwán\n",
      "* Ana Julia Quezada mientras metía el cadáver de Gabriel Cruz en el coche: \"Ahora a llevárselo de aquí\"\n",
      "* Barcelona: Trece detenidos en un dispositivo contra los robos violentos\n",
      "* Juan Carlos Quer denuncia a su exmujer por simulación de delito\n",
      "* Una turista danesa cae al mar en un accidente de parapente en Turquía\n",
      "* Muere un niño de 5 años atropellado por una moto en Barcelona\n",
      "* Servicios mínimos del 33% en Rodalies y normalidad en Urgencias por la huelga del 18-O\n",
      "* Blanca Fernández Ochoa: Comienza la autopsia que resolverá si su muerte fue o no accidental\n",
      "##################################################\n",
      "Cluster: 5\n",
      "* Centro Zaragoza cumple 30 años investigando en los cambios en automoción para dar respuesta al sector\n",
      "* Lotería Nacional, comprobar resultado del jueves 5 de septiembre del 2019\n",
      "* Binter iniciará sus operaciones entre Canarias y Zaragoza a finales de octubre\n",
      "* Levi Lee (Realme) reconoce ciertas similitudes con Xiaomi y apunta a España como uno de sus principales mercados\n",
      "* Los jugadores expulsados de Pokémon GO reclaman que Xiaomi activó automáticamente el acelerador de juegos\n",
      "* Tres retos y tres soluciones para la movilidad\n",
      "* Bonoloto, sorteo de hoy jueves 10 de octubre del 2019\n",
      "* Caso Volkswagen: Arranca este lunes en Alemania el primer macrojuicio por trucar los motores diésel\n",
      "* La primera macrodemanda europea por el caso Volkswagen arranca en Alemania\n",
      "* Xiaomi Circle Iron, nuevos auriculares con audio de alta resolución\n",
      "##################################################\n",
      "Cluster: 6\n",
      "* La Fiscalía considera que la sentencia del 'procés' elude el papel crucial de Felipe VI\n",
      "* Las condiciones del diálogo\n",
      "* Cataluña: El PP pide a los Mossos que identifiquen a los agresores de una periodista de TVE en la Diada\n",
      "* Interior envía varios grupos de 'antidisturbios' a Cataluña y evaluará con los Mossos si incrementa el refuerzo policial\n",
      "* Himno de España en la Diada «Cuando vimos que empezaba a sonar “els Segadors” con Torra, subimos el volumen de los altavoces»\n",
      "* La gran falacia del giro al centro que propugna ahora Casado\n",
      "* Casado reúne el lunes a la dirección del PP en Barcelona un día antes del 1-O\n",
      "* Ferreras (también) sale en defensa de la periodista de Telecinco agredida en Cataluña\n",
      "* Los fiscales de Vigilancia Penitenciaria ven un trato de favor a los presos del 1-0\n",
      "* Foment del Treball denuncia a la ANC por conducta anti competitiva\n",
      "##################################################\n",
      "Cluster: 7\n",
      "* La tecnología en las zapatillas cuestiona el récord de Brigid Kosgei en el maratón\n",
      "* (Previa) Sevilla, Getafe y Espanyol inician ante rivales accesibles su camino en la Liga Europa\n",
      "* Facu Campazzo certifica en el Mundial el 'negociazo' del Real Madrid renovándolo\n",
      "* Leo Messi: \"Espero que a Ansu Fati lo lleven como a mí: poco a poco y sin presión\"\n",
      "* Sarri: \"La sensación desde mi banquillo es que estaba el partido bajo control\"\n",
      "* Bartomeu denuncia a AuronPlay por decirle \"Nobita, vamos a por ti\"\n",
      "* Un enjambre de abejas ataca a Dani Alves en pleno partido\n",
      "* Neymar, en Barcelona para el juicio contra el Barça\n",
      "* Nadal: \"Quiero seguir vinculado al deporte cuando me retire\"\n",
      "* Rodrigo: \"Ha sido un gran partido y muy completo por nuestra parte\"\n",
      "##################################################\n",
      "Cluster: 8\n",
      "* Realizan en Italia el primer trasplante del mundo de vértebras humanas\n",
      "* La Puerta del Infierno, el brutal agujero de Siberia que ya jamás podrá cerrarse\n",
      "* Linfoma: Estos son los síntomas del cáncer linfático\n",
      "* Oriol Balaguer: cómo preparar la mejor tarta de queso\n",
      "* El brote de listeria le puede costar hasta cuatro años de prisión a Magrudis\n",
      "* Consejos para combatir las migrañas en el trabajo\n",
      "* La receta de la mejor salsa de tomate casera\n",
      "* Cómo preparar una sabrosa paella de montaña\n",
      "* La exposición en el útero al bisfenol A, ligada a sibilancias y una peor función pulmonar\n",
      "* Matarse por vivir más: así es la nueva tiranía de la salud\n",
      "##################################################\n",
      "Cluster: 9\n",
      "* Grupo Solaria invertirá 13,7 millones en una planta fotovoltaica en Alcañiz\n",
      "* El Gobierno designa a Indra coordinador del futuro caza europeo\n",
      "* Sareb elige a Haya y Servihabitat como finalistas de su megacontrato de 8.000M\n",
      "* Repsol invertirá más de 20 millones en su parada programada de noviembre en Puertollano\n",
      "* FCC ya tiene listo su negocio de Medio Ambiente para una nueva ‘operación Aqualia’\n",
      "* Inditex encuentra la fórmula para impulsar sus márgenes\n",
      "* Mapfre se alía con 'el inversor más paciente' para mejorar su inversión en EEUU\n",
      "* Inditex ganó un 10% más tras cerrar el mejor primer semestre de la historia en beneficio y ventas\n",
      "* Vidrala negocia la venta de su actividad de fabricación de vidrio en Bélgica\n",
      "* Petronor invierte 49 millones en la parada de la unidad de refino 1 para implementar mejoras tecnológicas\n",
      "##################################################\n",
      "Cluster: 10\n",
      "* El tiempo: se impone la estabilidad, a excepción de tormentas en el noroeste de la Península\n",
      "* El tiempo en La Luisiana y El Campillo: previsión meteorológica de hoy, miércoles 4 de septiembre\n",
      "* El tiempo en Tudela: previsión meteorológica de hoy, viernes 13 de septiembre\n",
      "* Lluvias y frío en un fin de semana que será la antesalana de otra DANA\n",
      "* El tiempo en San Martín de la Vega: previsión meteorológica de hoy, lunes 21 de octubre\n",
      "* Veinte provincias alcanzarán hoy temperaturas superiores a los 30 grados\n",
      "* El tiempo en El Puerto de Santa María: previsión meteorológica de hoy, martes 1 de octubre\n",
      "* Las temperaturas vuelven a subir hoy en España, excepto en el área mediterránea, donde se esperan lluvias y viento\n",
      "* El tiempo en Torrevieja: previsión meteorológica de hoy, viernes 18 de octubre\n",
      "* El tiempo en Santa Cruz de Tenerife para hoy: alerta amarilla por temperaturas máximas\n",
      "##################################################\n",
      "Cluster: 11\n",
      "* UPyD se integrará en las listas de Cs en las elecciones generales\n",
      "* Lorena Roldán defiende la \"fortaleza\" de Ciudadanos a pesar de las recientes bajas: \"También hay nuevo talento\"\n",
      "* Elecciones 10N: Errejón tiene decidido ser candidato si Más Madrid le ratifica\n",
      "* Vox se sitúa como tercera fuerza y alcanza los 33 escaños mientras PP y PSOE suben\n",
      "* Sánchez apremia a Iglesias a abandonar la idea de una coalición\n",
      "* Rivera avisa a Sánchez: pide negociar reformas a cambio de su apoyo\n",
      "* UPyD y Ciudadanos se presentarán juntos en las elecciones generales\n",
      "* Mediaset ofrece a los líderes políticos un debate a cinco y Atresmedia hará su propuesta cuando se convoquen elecciones\n",
      "* Feijóo insiste ante Casado en su rechazo a la coalición España Suma\n",
      "* El PNV ya piensa en las elecciones del 10-N: pide al Congreso no celebrar el próximo Pleno\n",
      "##################################################\n",
      "Cluster: 12\n",
      "* El abogado de Puigdemont se juega el billete a Bélgica en el interrogatorio por blanqueo\n",
      "* El BCE detectó tasaciones infladas en un 27% en Popular durante la ampliación de 2016\n",
      "* Nuevo revés judicial para el exalcalde de O Grove: confirman la inadmisión de la demanda contra 'Fariña'\n",
      "* La UDEF registra la casa del abogado de Puigdemont en una operación contra el blanqueo\n",
      "* Saracho asegura que Popular “no necesitaba 2.500 millones, necesitaba 8.000” en 2016\n",
      "* Punto y final a una indignidad\n",
      "* Eloy Velasco lamenta la falta de medios de los jueces ante la delincuencia económica\n",
      "* La Audiencia Nacional procesa a 25 personas por un amaño de partidos con el que habrían ganado 3,6 millones\n",
      "* La imputación de Aguirre empieza a cobrarse las primeras víctimas en el Gobierno de Díaz Ayuso\n",
      "* Rato pone fin al juicio de Bankia con un ataque a Goirigolzarri: \"El banco vale menos que en 2012\"\n"
     ]
    }
   ],
   "source": [
    "for k, v in clusters.items():\n",
    "    print(\"#\"*50)\n",
    "    print(\"Cluster: {}\".format(k))\n",
    "    for i in np.random.choice(range(len(v)), size=10, replace=False).tolist():\n",
    "        print(\"* {}\".format(v[i]))"
   ]
  }
 ],
 "metadata": {
  "kernelspec": {
   "display_name": "Python 3",
   "language": "python",
   "name": "python3"
  },
  "language_info": {
   "codemirror_mode": {
    "name": "ipython",
    "version": 3
   },
   "file_extension": ".py",
   "mimetype": "text/x-python",
   "name": "python",
   "nbconvert_exporter": "python",
   "pygments_lexer": "ipython3",
   "version": "3.7.6"
  }
 },
 "nbformat": 4,
 "nbformat_minor": 2
}
