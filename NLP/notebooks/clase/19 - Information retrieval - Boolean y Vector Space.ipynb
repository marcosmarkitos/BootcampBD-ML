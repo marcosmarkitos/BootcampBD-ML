{
 "cells": [
  {
   "cell_type": "markdown",
   "metadata": {
    "colab_type": "text",
    "id": "OWsf9pph9dMB"
   },
   "source": [
    "# Information Retrieval\n",
    " \n",
    "La Recuperación de Información (Information Retrieval, IR) es la ciencia que permite encontrar información en datos de naturaleza no estructurada, dada una necesidad de información.\n",
    "\n",
    "Imaginad que queremos tener un buscador de libros.\n",
    "\n",
    "<img src=https://i.imgur.com/CLRu4C7.png>\n",
    "\n",
    "> Se plantean algunos retos...\n",
    "\n",
    "El diagrama de una arquitectura genérica para un sistema de IR que veíamos:\n",
    "\n",
    "<img src=https://www.tutorialspoint.com/natural_language_processing/images/relevant_output_about_information.jpg>\n",
    "\n",
    "## Partes de la arquitectura\n",
    "\n",
    "- The User: ....\n",
    "- Query: \"comics de batman\"\n",
    "- Query operations: Transforma la query de texto, en alguna representación común a la de los documentos.\n",
    "- Document collection: ...\n",
    "- Indexer: Representación común de los documentos.\n",
    "- Retrieval System + Rankeo: Modelo o sistema, que calcula que documentos son más relevantes, dada la query del usuario.\n",
    "- Feedback: explícito o implícito \n",
    "\n",
    "## ¿Como lo hacemos?\n",
    "\n",
    "Vamos a ver algunos ejemplos de implementaciones sencillas de sistemas de IR.\n",
    "\n",
    "## Recursos\n",
    "\n",
    "* [Information Retrieval Book](https://nlp.stanford.edu/IR-book/) Recomendadíssimo.\n",
    "* [Papers](https://ai.google/research/pubs?area=InformationRetrievalandtheWeb), muchos papers\n",
    "* [Neural IR Recap](https://arxiv.org/pdf/1705.01509.pdf)"
   ]
  },
  {
   "cell_type": "markdown",
   "metadata": {
    "colab_type": "text",
    "id": "dpisysvO8TPN"
   },
   "source": [
    "# Boolean Retrieval\n",
    "\n",
    "Modelo más simple de Information Retrieval (IR). Basado en lógica booleana y teoría de conjuntos, los documentos estarán representados por un vector de tamaño el vocabulario del corpus, y tendrá como valores 1 o 0 (Term Presence).\n",
    "\n",
    "En esencia, es un bag-of-words donde solo se considera la presencia (o ausencia) de las palabras que conforman el vocabulario.\n",
    "\n",
    "Las queries estarán también expresadas mediante lógica booleana (otro vector similar al de un documento).\n",
    "\n",
    "Nuestro corpus - o conjunto de documentos - estará representado como una matriz de documento-término"
   ]
  },
  {
   "cell_type": "code",
   "execution_count": null,
   "metadata": {
    "colab": {},
    "colab_type": "code",
    "id": "WTvRC2m68TPQ"
   },
   "outputs": [],
   "source": [
    "import numpy as np"
   ]
  },
  {
   "cell_type": "code",
   "execution_count": null,
   "metadata": {
    "colab": {
     "base_uri": "https://localhost:8080/",
     "height": 34
    },
    "colab_type": "code",
    "executionInfo": {
     "elapsed": 635,
     "status": "ok",
     "timestamp": 1531317203118,
     "user": {
      "displayName": "David Torrejon",
      "photoUrl": "https://lh3.googleusercontent.com/a/default-user=s128",
      "userId": "100674754889499666756"
     },
     "user_tz": -120
    },
    "id": "l8SrI-sE8TPX",
    "outputId": "e62ec85e-cc36-47e7-bbe5-719cc13520dd"
   },
   "outputs": [],
   "source": [
    "V = 5  # número de palabras en el vocabulario\n",
    "D = 3  # número de documentos en el corpus\n",
    "\n",
    "a = np.random.randint(2, size=(D,V), dtype=\"bool\")\n",
    "a.shape"
   ]
  },
  {
   "cell_type": "code",
   "execution_count": null,
   "metadata": {
    "scrolled": true
   },
   "outputs": [],
   "source": [
    "# Matriz documento-término con el Term Presence como feature weight\n",
    "a"
   ]
  },
  {
   "cell_type": "code",
   "execution_count": null,
   "metadata": {
    "colab": {
     "base_uri": "https://localhost:8080/",
     "height": 34
    },
    "colab_type": "code",
    "executionInfo": {
     "elapsed": 457,
     "status": "ok",
     "timestamp": 1531317203732,
     "user": {
      "displayName": "David Torrejon",
      "photoUrl": "https://lh3.googleusercontent.com/a/default-user=s128",
      "userId": "100674754889499666756"
     },
     "user_tz": -120
    },
    "id": "vRiW9QpdFvNC",
    "outputId": "37f9a665-060f-4885-e00a-7c53038cc57c"
   },
   "outputs": [],
   "source": [
    "a[0,:]"
   ]
  },
  {
   "cell_type": "code",
   "execution_count": null,
   "metadata": {
    "colab": {
     "base_uri": "https://localhost:8080/",
     "height": 34
    },
    "colab_type": "code",
    "executionInfo": {
     "elapsed": 480,
     "status": "ok",
     "timestamp": 1531317204364,
     "user": {
      "displayName": "David Torrejon",
      "photoUrl": "https://lh3.googleusercontent.com/a/default-user=s128",
      "userId": "100674754889499666756"
     },
     "user_tz": -120
    },
    "id": "ra8ceZWkGBlk",
    "outputId": "716cbe7f-0699-4325-d833-e5b4d7a9e7d6"
   },
   "outputs": [],
   "source": [
    "a[:,1]"
   ]
  },
  {
   "cell_type": "markdown",
   "metadata": {
    "colab_type": "text",
    "id": "T75LRYwEEOtW"
   },
   "source": [
    "Con numpy tambien podemos hacer uso de puertas lógicas\n",
    "\n",
    "https://docs.scipy.org/doc/numpy-1.13.0/reference/routines.logic.html"
   ]
  },
  {
   "cell_type": "code",
   "execution_count": null,
   "metadata": {
    "scrolled": true
   },
   "outputs": [],
   "source": [
    "np.logical_and(a[0,:], a[1,:])"
   ]
  },
  {
   "cell_type": "code",
   "execution_count": null,
   "metadata": {},
   "outputs": [],
   "source": [
    "np.logical_and(np.logical_and(a[0,:], a[1,:]), np.logical_not(a[2,:]))"
   ]
  },
  {
   "cell_type": "markdown",
   "metadata": {
    "colab_type": "text",
    "id": "1iiT5O10HdRt"
   },
   "source": [
    "Por ejemplo, si quiero todos los documentos que contengan el termino 0 o 1"
   ]
  },
  {
   "cell_type": "code",
   "execution_count": null,
   "metadata": {
    "colab": {},
    "colab_type": "code",
    "id": "ql1HV2XPHhJ9"
   },
   "outputs": [],
   "source": [
    "feat_vect = np.array([False, False, True, False, False])  # query de prueba"
   ]
  },
  {
   "cell_type": "code",
   "execution_count": null,
   "metadata": {
    "colab": {
     "base_uri": "https://localhost:8080/",
     "height": 68
    },
    "colab_type": "code",
    "executionInfo": {
     "elapsed": 461,
     "status": "ok",
     "timestamp": 1531317207324,
     "user": {
      "displayName": "David Torrejon",
      "photoUrl": "https://lh3.googleusercontent.com/a/default-user=s128",
      "userId": "100674754889499666756"
     },
     "user_tz": -120
    },
    "id": "8tPTf1acH2SA",
    "outputId": "e18636b0-d520-4d01-f6b0-e15484a90cdc"
   },
   "outputs": [],
   "source": [
    "a"
   ]
  },
  {
   "cell_type": "code",
   "execution_count": null,
   "metadata": {
    "colab": {
     "base_uri": "https://localhost:8080/",
     "height": 34
    },
    "colab_type": "code",
    "executionInfo": {
     "elapsed": 461,
     "status": "ok",
     "timestamp": 1531317208379,
     "user": {
      "displayName": "David Torrejon",
      "photoUrl": "https://lh3.googleusercontent.com/a/default-user=s128",
      "userId": "100674754889499666756"
     },
     "user_tz": -120
    },
    "id": "rhrcRkVnGLea",
    "outputId": "21529a5a-f18e-4f9b-c325-43fc63edd1d0"
   },
   "outputs": [],
   "source": [
    "np.dot(a, feat_vect)"
   ]
  },
  {
   "cell_type": "markdown",
   "metadata": {
    "colab_type": "text",
    "id": "W_B-Umv-EByQ"
   },
   "source": [
    "### Sparse Representations"
   ]
  },
  {
   "cell_type": "code",
   "execution_count": null,
   "metadata": {
    "colab": {},
    "colab_type": "code",
    "id": "2SSpg6z_8TPv"
   },
   "outputs": [],
   "source": [
    "from scipy.sparse import csr_matrix"
   ]
  },
  {
   "cell_type": "code",
   "execution_count": null,
   "metadata": {
    "colab": {
     "base_uri": "https://localhost:8080/",
     "height": 34
    },
    "colab_type": "code",
    "executionInfo": {
     "elapsed": 478,
     "status": "ok",
     "timestamp": 1531317211313,
     "user": {
      "displayName": "David Torrejon",
      "photoUrl": "https://lh3.googleusercontent.com/a/default-user=s128",
      "userId": "100674754889499666756"
     },
     "user_tz": -120
    },
    "id": "HoIPJv898TP0",
    "outputId": "94ae4084-f578-431c-9462-926c7acfd098"
   },
   "outputs": [],
   "source": [
    "a_sparse = csr_matrix(a)\n",
    "a_sparse[:].nonzero()"
   ]
  },
  {
   "cell_type": "code",
   "execution_count": null,
   "metadata": {
    "colab": {
     "base_uri": "https://localhost:8080/",
     "height": 34
    },
    "colab_type": "code",
    "executionInfo": {
     "elapsed": 453,
     "status": "ok",
     "timestamp": 1531317212319,
     "user": {
      "displayName": "David Torrejon",
      "photoUrl": "https://lh3.googleusercontent.com/a/default-user=s128",
      "userId": "100674754889499666756"
     },
     "user_tz": -120
    },
    "id": "pDHaS6TD8TP7",
    "outputId": "9a4f9c31-c326-40ba-fca8-22e336223d35"
   },
   "outputs": [],
   "source": [
    "from sys import getsizeof\n",
    "print(getsizeof(a), getsizeof(a_sparse))"
   ]
  },
  {
   "cell_type": "markdown",
   "metadata": {
    "colab_type": "text",
    "id": "Ms7OEA2g8TQH"
   },
   "source": [
    "## Inverted Indexes"
   ]
  },
  {
   "cell_type": "code",
   "execution_count": null,
   "metadata": {
    "colab": {},
    "colab_type": "code",
    "id": "-n09S4k98TQI"
   },
   "outputs": [],
   "source": [
    "documents = [\n",
    "    \"Julio Cesar era un emperador romano\",\n",
    "    \"La ensalada Cesar lleva tomate lechuga y pollo\",\n",
    "    \"El restaurante Casa Cesar ofrece una variedad de platos muy grande\",\n",
    "    \"Las ensaladas son muy sanas\",\n",
    "    \"A Cesar le gustan mucho las ensaladas\",\n",
    "    \"Cesar era el emperador más querido. A Cesar le construyeron un museo. Los hombres y mujeres aclamaban a Cesar\"\n",
    "]"
   ]
  },
  {
   "cell_type": "code",
   "execution_count": null,
   "metadata": {
    "colab": {},
    "colab_type": "code",
    "id": "YWOhfJ6i8TQO"
   },
   "outputs": [],
   "source": [
    "vocabulary = set([t for doc in documents for t in doc.split(\" \")])\n",
    "w2id = {k:i for i, k in enumerate(vocabulary)}"
   ]
  },
  {
   "cell_type": "code",
   "execution_count": null,
   "metadata": {
    "colab": {
     "base_uri": "https://localhost:8080/",
     "height": 54
    },
    "colab_type": "code",
    "executionInfo": {
     "elapsed": 458,
     "status": "ok",
     "timestamp": 1531317215291,
     "user": {
      "displayName": "David Torrejon",
      "photoUrl": "https://lh3.googleusercontent.com/a/default-user=s128",
      "userId": "100674754889499666756"
     },
     "user_tz": -120
    },
    "id": "F1WH0XRM8TQT",
    "outputId": "976ede34-0bf7-43cc-e81a-dae5d7bfabde"
   },
   "outputs": [],
   "source": [
    "doc_matrix = np.zeros((len(documents), len(vocabulary)))\n",
    "doc_matrix.shape"
   ]
  },
  {
   "cell_type": "code",
   "execution_count": null,
   "metadata": {
    "colab": {
     "base_uri": "https://localhost:8080/",
     "height": 343
    },
    "colab_type": "code",
    "executionInfo": {
     "elapsed": 459,
     "status": "ok",
     "timestamp": 1531317216294,
     "user": {
      "displayName": "David Torrejon",
      "photoUrl": "https://lh3.googleusercontent.com/a/default-user=s128",
      "userId": "100674754889499666756"
     },
     "user_tz": -120
    },
    "id": "4bBodb6Y8TQb",
    "outputId": "e1c00209-0490-49be-a09f-dd3169617e24"
   },
   "outputs": [],
   "source": [
    "for i, doc in enumerate(documents):\n",
    "    for t in doc.split(\" \"):\n",
    "        doc_matrix[i,w2id[t]]+=1\n",
    "doc_matrix"
   ]
  },
  {
   "cell_type": "code",
   "execution_count": null,
   "metadata": {
    "colab": {
     "base_uri": "https://localhost:8080/",
     "height": 751
    },
    "colab_type": "code",
    "executionInfo": {
     "elapsed": 484,
     "status": "ok",
     "timestamp": 1531317217326,
     "user": {
      "displayName": "David Torrejon",
      "photoUrl": "https://lh3.googleusercontent.com/a/default-user=s128",
      "userId": "100674754889499666756"
     },
     "user_tz": -120
    },
    "id": "_tXWEqO48TQk",
    "outputId": "8ce762b7-7c95-47a3-b3e6-1fa829209e99"
   },
   "outputs": [],
   "source": [
    "inverted_index = {}\n",
    "for id_doc, doc in enumerate(documents):\n",
    "    for t in doc.split(\" \"):\n",
    "        if t in inverted_index:\n",
    "            inverted_index[t].append(id_doc)\n",
    "        else:\n",
    "            inverted_index[t] = [id_doc]\n",
    "inverted_index"
   ]
  },
  {
   "cell_type": "code",
   "execution_count": null,
   "metadata": {
    "colab": {
     "base_uri": "https://localhost:8080/",
     "height": 751
    },
    "colab_type": "code",
    "executionInfo": {
     "elapsed": 463,
     "status": "ok",
     "timestamp": 1531317218348,
     "user": {
      "displayName": "David Torrejon",
      "photoUrl": "https://lh3.googleusercontent.com/a/default-user=s128",
      "userId": "100674754889499666756"
     },
     "user_tz": -120
    },
    "id": "mte-s5fQ8TQr",
    "outputId": "10b091cd-a52f-4948-bf89-0a0391bd8fda"
   },
   "outputs": [],
   "source": [
    "# Una pequeña mejora. Se indica no solo el documento si no también \"dónde\" se encuentra en dichos documentos\n",
    "inverted_index = {}\n",
    "for id_doc, doc in enumerate(documents):\n",
    "    for pos, t in enumerate(doc.split(\" \")):\n",
    "        if t in inverted_index:\n",
    "            inverted_index[t].append((id_doc,pos))\n",
    "        else:\n",
    "            inverted_index[t] = [(id_doc,pos)]\n",
    "inverted_index"
   ]
  },
  {
   "cell_type": "code",
   "execution_count": null,
   "metadata": {
    "colab": {},
    "colab_type": "code",
    "id": "WjdiSiWp8TQy"
   },
   "outputs": [],
   "source": [
    "query = ['ensalada', 'Cesar']"
   ]
  },
  {
   "cell_type": "code",
   "execution_count": null,
   "metadata": {
    "colab": {
     "base_uri": "https://localhost:8080/",
     "height": 173
    },
    "colab_type": "code",
    "executionInfo": {
     "elapsed": 484,
     "status": "ok",
     "timestamp": 1531317220337,
     "user": {
      "displayName": "David Torrejon",
      "photoUrl": "https://lh3.googleusercontent.com/a/default-user=s128",
      "userId": "100674754889499666756"
     },
     "user_tz": -120
    },
    "id": "Y1FKpwxc8TQ5",
    "outputId": "b52e29f3-0c50-419e-af85-7e3d0ff37979"
   },
   "outputs": [],
   "source": [
    "# Si ALGUNO (OR) de los términos aparece en el documento -> print(doc)\n",
    "for q_item in query:\n",
    "    if q_item in inverted_index:\n",
    "        for doc_id in inverted_index[q_item]:\n",
    "            print(documents[doc_id[0]])"
   ]
  },
  {
   "cell_type": "code",
   "execution_count": null,
   "metadata": {
    "colab": {
     "base_uri": "https://localhost:8080/",
     "height": 54
    },
    "colab_type": "code",
    "executionInfo": {
     "elapsed": 479,
     "status": "ok",
     "timestamp": 1531317221336,
     "user": {
      "displayName": "David Torrejon",
      "photoUrl": "https://lh3.googleusercontent.com/a/default-user=s128",
      "userId": "100674754889499666756"
     },
     "user_tz": -120
    },
    "id": "kFfYYAQQ8TRC",
    "outputId": "0de1e6d6-8630-44f3-e298-6ac85c5823a3"
   },
   "outputs": [],
   "source": [
    "# Si AMBOS (AND) de los términos aparece en el documento -> print(doc)\n",
    "possible_docs ={}\n",
    "for q_item in query:\n",
    "    if q_item in inverted_index:\n",
    "        for doc_id in inverted_index[q_item]:\n",
    "            if doc_id[0] in possible_docs:\n",
    "                possible_docs[doc_id[0]]+=1\n",
    "            else:\n",
    "                possible_docs[doc_id[0]]=1\n",
    "true_docs = [doc_id for doc_id, count in possible_docs.items() if count == len(query)]\n",
    "for doc in true_docs:\n",
    "    print(documents[doc])"
   ]
  },
  {
   "cell_type": "markdown",
   "metadata": {
    "colab_type": "text",
    "id": "1PljdlCa8TRJ"
   },
   "source": [
    "# Vector Spaces \n",
    "\n",
    "<img src=http://blog.christianperone.com/wp-content/uploads/2013/09/vector_space.png width=450px>\n",
    "\n",
    "A diferencia del modelo booleano, las componentes en los vectores de cada documento tendrán un valor distinto al Term Presence. Dicho peso puede ser el que elijamos (por ejemplo, Term Frequency, o TF-IDF).\n",
    "\n",
    "Pese a que el estado del arte muestra que modelos basados en Deep Learning arrojan mejores resultados, muy posiblemente la mayoría de sistemas de IR funcionen con alguna aproximación a este tipo de algoritmos.\n",
    "\n",
    "Recordemos: Term Frequency y Document Frequency.\n",
    "\n",
    "## TF y DF\n",
    "\n",
    "<img src=https://i.imgur.com/9o3G6Ia.png>\n",
    "\n",
    "## TF-IDF\n",
    "\n",
    "Term Frequency - Inverse Document Frequency.\n",
    "\n",
    "El weigth dado por el algoritmo tf-idf equivale a cuantas más veces aparezca una palabra en un documento, y cuantas menos veces aparezca en otros documentos, más importante será esa palabra para ese documento."
   ]
  },
  {
   "cell_type": "code",
   "execution_count": null,
   "metadata": {
    "colab": {},
    "colab_type": "code",
    "id": "F5JvigiC8TRL"
   },
   "outputs": [],
   "source": [
    "nb_docs = len(documents)\n",
    "vocab_size = len(vocabulary)"
   ]
  },
  {
   "cell_type": "code",
   "execution_count": null,
   "metadata": {
    "colab": {
     "base_uri": "https://localhost:8080/",
     "height": 34
    },
    "colab_type": "code",
    "executionInfo": {
     "elapsed": 449,
     "status": "ok",
     "timestamp": 1531317223332,
     "user": {
      "displayName": "David Torrejon",
      "photoUrl": "https://lh3.googleusercontent.com/a/default-user=s128",
      "userId": "100674754889499666756"
     },
     "user_tz": -120
    },
    "id": "EGWIzaIT8TRO",
    "outputId": "35d6e612-a1ba-4fec-95d8-a3d37b5bdfb7"
   },
   "outputs": [],
   "source": [
    "vector_docs = np.zeros(shape=(nb_docs, vocab_size))\n",
    "vector_docs.shape"
   ]
  },
  {
   "cell_type": "markdown",
   "metadata": {
    "colab_type": "text",
    "id": "9dG5CaqB8TRT"
   },
   "source": [
    "## Term Frequency, algunas maneras de calcularlo"
   ]
  },
  {
   "cell_type": "code",
   "execution_count": null,
   "metadata": {
    "colab": {},
    "colab_type": "code",
    "id": "YTV2_FFT8TRV"
   },
   "outputs": [],
   "source": [
    "# Term Presence (boolean TF)\n",
    "tp_w = np.zeros(shape=(nb_docs, vocab_size))\n",
    "for i, doc in enumerate(documents):\n",
    "    for t in doc.split(\" \"):\n",
    "        tp_w[i, w2id[t]] = 1\n",
    "print(tp_w)"
   ]
  },
  {
   "cell_type": "code",
   "execution_count": null,
   "metadata": {
    "colab": {},
    "colab_type": "code",
    "id": "i741Rm2_8TRZ"
   },
   "outputs": [],
   "source": [
    "# TF\n",
    "tf_w = np.zeros(shape=(nb_docs, vocab_size))\n",
    "for i, doc in enumerate(documents):\n",
    "    for t in doc.split(\" \"):\n",
    "        tf_w[i, w2id[t]] += 1\n",
    "print(tf_w)"
   ]
  },
  {
   "cell_type": "code",
   "execution_count": null,
   "metadata": {
    "colab": {},
    "colab_type": "code",
    "id": "V1sY8tD88TRb",
    "scrolled": true
   },
   "outputs": [],
   "source": [
    "# TF normalizado\n",
    "tf_w = np.zeros(shape=(nb_docs, vocab_size))\n",
    "for i, doc in enumerate(documents):\n",
    "    for t in doc.split(\" \"):\n",
    "        tf_w[i, w2id[t]] += 1\n",
    "    tf_w[i,:] /=len(doc.split(\" \"))\n",
    "print(tf_w)"
   ]
  },
  {
   "cell_type": "code",
   "execution_count": null,
   "metadata": {
    "colab": {
     "base_uri": "https://localhost:8080/",
     "height": 170
    },
    "colab_type": "code",
    "executionInfo": {
     "elapsed": 473,
     "status": "ok",
     "timestamp": 1531317228320,
     "user": {
      "displayName": "David Torrejon",
      "photoUrl": "https://lh3.googleusercontent.com/a/default-user=s128",
      "userId": "100674754889499666756"
     },
     "user_tz": -120
    },
    "id": "MGOog32x8TRn",
    "outputId": "aa84fdec-0c35-461f-bf93-4c4ee33b26c9",
    "scrolled": true
   },
   "outputs": [],
   "source": [
    "# TF log\n",
    "def apply_log(a, eps=0.1):\n",
    "    a = a if a > 0 else eps\n",
    "    return np.log(1+a)\n",
    "vlog = np.vectorize(apply_log)\n",
    "\n",
    "tf_w = np.zeros(shape=(nb_docs, vocab_size))\n",
    "for i, doc in enumerate(documents):\n",
    "    for t in doc.split(\" \"):\n",
    "        tf_w[i, w2id[t]] += 1\n",
    "tf_w = vlog(tf_w)\n",
    "print(tf_w)"
   ]
  },
  {
   "cell_type": "code",
   "execution_count": null,
   "metadata": {
    "colab": {},
    "colab_type": "code",
    "id": "wD36IbB58TRp"
   },
   "outputs": [],
   "source": [
    "from collections import Counter"
   ]
  },
  {
   "cell_type": "code",
   "execution_count": null,
   "metadata": {
    "colab": {},
    "colab_type": "code",
    "id": "G6Cdud5k8TRu",
    "scrolled": true
   },
   "outputs": [],
   "source": [
    "# TF Augmented\n",
    "def apply_augmented(a, max_w):\n",
    "    return 0.5+((0.5*a)/max_w)\n",
    "vaug = np.vectorize(apply_augmented)\n",
    "\n",
    "tf_w = np.zeros(shape=(nb_docs, vocab_size))\n",
    "for i, doc in enumerate(documents):\n",
    "    tokens = doc.split(\" \")\n",
    "    max_w = Counter(tokens).most_common(1)[0][1]\n",
    "    for t in tokens:\n",
    "        tf_w[i, w2id[t]] += 1\n",
    "    tf_w[i,:] = vaug(tf_w[i,:], max_w)\n",
    "\n",
    "print(tf_w)"
   ]
  },
  {
   "cell_type": "markdown",
   "metadata": {
    "colab_type": "text",
    "id": "qJQTiXco8TRw"
   },
   "source": [
    "## IDF, algunas formas de calcularlo\n",
    "\n",
    "El IDF se computa como el numero de documentos dividido por el numero de veces que aparece el termino t en un la colección de documentos."
   ]
  },
  {
   "cell_type": "code",
   "execution_count": null,
   "metadata": {
    "colab": {},
    "colab_type": "code",
    "id": "OCRSB6q58TRx"
   },
   "outputs": [],
   "source": [
    "from math import log"
   ]
  },
  {
   "cell_type": "code",
   "execution_count": null,
   "metadata": {
    "colab": {},
    "colab_type": "code",
    "id": "pS-cczGQ8TR0"
   },
   "outputs": [],
   "source": [
    "# DF\n",
    "df_dict = {w:0 for w in vocabulary}\n",
    "for doc in documents:\n",
    "    for w in df_dict.keys():\n",
    "        if w in doc.split(\" \"):\n",
    "            df_dict[w]+=1.0\n",
    "print(df_dict)"
   ]
  },
  {
   "cell_type": "code",
   "execution_count": null,
   "metadata": {
    "colab": {},
    "colab_type": "code",
    "id": "P4NKc3dJ8TR1",
    "scrolled": true
   },
   "outputs": [],
   "source": [
    "# Basic IDF\n",
    "idf_w = np.zeros(shape=(nb_docs, vocab_size))\n",
    "for i, doc in enumerate(documents):\n",
    "    tokens = doc.split(\" \")\n",
    "    for t in tokens:\n",
    "        idf_w[i, w2id[t]] = log(nb_docs/df_dict[t])\n",
    "print(idf_w)"
   ]
  },
  {
   "cell_type": "code",
   "execution_count": null,
   "metadata": {
    "colab": {},
    "colab_type": "code",
    "id": "nlEzLme_8TR5",
    "scrolled": true
   },
   "outputs": [],
   "source": [
    "# Smooth IDF\n",
    "idf_w = np.zeros(shape=(nb_docs, vocab_size))\n",
    "for i, doc in enumerate(documents):\n",
    "    tokens = doc.split(\" \")\n",
    "    for t in tokens:\n",
    "        idf_w[i, w2id[t]] = log(1+(1+nb_docs/1+df_dict[t]))\n",
    "print(idf_w)"
   ]
  },
  {
   "cell_type": "markdown",
   "metadata": {
    "colab_type": "text",
    "id": "j_OGCGIA8TR9"
   },
   "source": [
    "## TF-IDF"
   ]
  },
  {
   "cell_type": "code",
   "execution_count": null,
   "metadata": {
    "colab": {
     "base_uri": "https://localhost:8080/",
     "height": 34
    },
    "colab_type": "code",
    "executionInfo": {
     "elapsed": 474,
     "status": "ok",
     "timestamp": 1531317237340,
     "user": {
      "displayName": "David Torrejon",
      "photoUrl": "https://lh3.googleusercontent.com/a/default-user=s128",
      "userId": "100674754889499666756"
     },
     "user_tz": -120
    },
    "id": "3VTuRi9g8TR-",
    "outputId": "55a66598-f561-40d5-c18c-8cede91e320d"
   },
   "outputs": [],
   "source": [
    "tf_idf_w = tf_w * idf_w\n",
    "tf_idf_w.shape"
   ]
  },
  {
   "cell_type": "code",
   "execution_count": null,
   "metadata": {
    "colab": {
     "base_uri": "https://localhost:8080/",
     "height": 170
    },
    "colab_type": "code",
    "executionInfo": {
     "elapsed": 463,
     "status": "ok",
     "timestamp": 1531317238301,
     "user": {
      "displayName": "David Torrejon",
      "photoUrl": "https://lh3.googleusercontent.com/a/default-user=s128",
      "userId": "100674754889499666756"
     },
     "user_tz": -120
    },
    "id": "9oB18BPR8TR_",
    "outputId": "d1837d92-dfec-422b-bf2e-90886bf7c425"
   },
   "outputs": [],
   "source": [
    "tf_idf_w[5,:]"
   ]
  },
  {
   "cell_type": "markdown",
   "metadata": {
    "colab_type": "text",
    "id": "olwn_Lg_Mnvm"
   },
   "source": [
    "## Feature Matrix"
   ]
  },
  {
   "cell_type": "code",
   "execution_count": null,
   "metadata": {
    "colab": {},
    "colab_type": "code",
    "id": "bS0mRqfKMzjT"
   },
   "outputs": [],
   "source": [
    "import pandas as pd"
   ]
  },
  {
   "cell_type": "code",
   "execution_count": null,
   "metadata": {
    "colab": {
     "base_uri": "https://localhost:8080/",
     "height": 264
    },
    "colab_type": "code",
    "executionInfo": {
     "elapsed": 721,
     "status": "ok",
     "timestamp": 1531317240569,
     "user": {
      "displayName": "David Torrejon",
      "photoUrl": "https://lh3.googleusercontent.com/a/default-user=s128",
      "userId": "100674754889499666756"
     },
     "user_tz": -120
    },
    "id": "uEO8Xxl8MwAG",
    "outputId": "452c03da-5c5c-4d63-bc5d-857fbc882184"
   },
   "outputs": [],
   "source": [
    "pd.DataFrame(tf_idf_w, columns=vocabulary)"
   ]
  },
  {
   "cell_type": "code",
   "execution_count": null,
   "metadata": {
    "colab": {
     "base_uri": "https://localhost:8080/",
     "height": 119
    },
    "colab_type": "code",
    "executionInfo": {
     "elapsed": 468,
     "status": "ok",
     "timestamp": 1531317241176,
     "user": {
      "displayName": "David Torrejon",
      "photoUrl": "https://lh3.googleusercontent.com/a/default-user=s128",
      "userId": "100674754889499666756"
     },
     "user_tz": -120
    },
    "id": "BuFIAGfqNR6G",
    "outputId": "7e1e229d-88b7-4ce4-86b6-0924d9262fd6"
   },
   "outputs": [],
   "source": [
    "documents"
   ]
  },
  {
   "cell_type": "markdown",
   "metadata": {
    "colab_type": "text",
    "id": "7kv_p77uNX4L"
   },
   "source": [
    "## Esto ya lo conocíamos (TfIdfVectorizer)"
   ]
  },
  {
   "cell_type": "code",
   "execution_count": null,
   "metadata": {
    "colab": {},
    "colab_type": "code",
    "id": "8FDLJzn0NeM_"
   },
   "outputs": [],
   "source": [
    "from sklearn.feature_extraction.text import TfidfVectorizer"
   ]
  },
  {
   "cell_type": "code",
   "execution_count": null,
   "metadata": {
    "colab": {},
    "colab_type": "code",
    "id": "0V51Li8rN3xV"
   },
   "outputs": [],
   "source": [
    "docs = np.array(documents)\n",
    "tfidf = TfidfVectorizer()\n",
    "feature_matrix = tfidf.fit_transform(docs)\n"
   ]
  },
  {
   "cell_type": "code",
   "execution_count": null,
   "metadata": {
    "colab": {
     "base_uri": "https://localhost:8080/",
     "height": 264
    },
    "colab_type": "code",
    "executionInfo": {
     "elapsed": 477,
     "status": "ok",
     "timestamp": 1531317243033,
     "user": {
      "displayName": "David Torrejon",
      "photoUrl": "https://lh3.googleusercontent.com/a/default-user=s128",
      "userId": "100674754889499666756"
     },
     "user_tz": -120
    },
    "id": "1atR7ta8N_WS",
    "outputId": "d1039024-88d7-405f-f2cb-c13059e55011"
   },
   "outputs": [],
   "source": [
    "pd.DataFrame(feature_matrix.toarray(), columns=tfidf.get_feature_names())"
   ]
  },
  {
   "cell_type": "markdown",
   "metadata": {
    "colab_type": "text",
    "id": "OzPvNhZlNf5z"
   },
   "source": [
    "## Plotting documents"
   ]
  },
  {
   "cell_type": "code",
   "execution_count": null,
   "metadata": {
    "colab": {},
    "colab_type": "code",
    "id": "PbCo8EdV8TSC"
   },
   "outputs": [],
   "source": [
    "from sklearn.manifold import TSNE\n",
    "import matplotlib.pyplot as plt\n",
    "\n",
    "tfidf_low_dim = TSNE(n_components=2).fit_transform(tf_idf_w)"
   ]
  },
  {
   "cell_type": "code",
   "execution_count": null,
   "metadata": {
    "colab": {
     "base_uri": "https://localhost:8080/",
     "height": 492
    },
    "colab_type": "code",
    "executionInfo": {
     "elapsed": 492,
     "status": "ok",
     "timestamp": 1531317244517,
     "user": {
      "displayName": "David Torrejon",
      "photoUrl": "https://lh3.googleusercontent.com/a/default-user=s128",
      "userId": "100674754889499666756"
     },
     "user_tz": -120
    },
    "id": "MkmCokYq8TSE",
    "outputId": "69ff7ef3-21b9-4323-c1ff-b5d7ca3ee979"
   },
   "outputs": [],
   "source": [
    "maxx = max(tfidf_low_dim[:, 0])+0.0001\n",
    "minx = min(tfidf_low_dim[:, 0])-0.0001\n",
    "maxy = max(tfidf_low_dim[:, 1])+0.0001\n",
    "miny = min(tfidf_low_dim[:, 1])-0.0001\n",
    "\n",
    "fig, ax = plt.subplots(figsize=(15, 8))\n",
    "\n",
    "plt.scatter(tfidf_low_dim[:, 0], tfidf_low_dim[:, 1], cmap=plt.cm.Spectral)\n",
    "plt.axis([minx, maxx, miny, maxy])\n",
    "for i, txt in enumerate(np.arange(nb_docs).tolist()):\n",
    "    ax.annotate(txt, (tfidf_low_dim[:, 0][i],tfidf_low_dim[:, 1][i]))\n",
    "plt.show()"
   ]
  },
  {
   "cell_type": "markdown",
   "metadata": {
    "colab_type": "text",
    "id": "I3qqKCRy8TSG"
   },
   "source": [
    "## Querying the model\n",
    "\n",
    "\n",
    "![](http://blog.christianperone.com/wp-content/uploads/2013/09/cosinesimilarityfq1.png)\n",
    "\n"
   ]
  },
  {
   "cell_type": "code",
   "execution_count": null,
   "metadata": {
    "colab": {},
    "colab_type": "code",
    "id": "AOlAj-MO8TSH"
   },
   "outputs": [],
   "source": [
    "query = 'ensalada Cesar sanas'"
   ]
  },
  {
   "cell_type": "code",
   "execution_count": null,
   "metadata": {
    "colab": {
     "base_uri": "https://localhost:8080/",
     "height": 34
    },
    "colab_type": "code",
    "executionInfo": {
     "elapsed": 462,
     "status": "ok",
     "timestamp": 1531317245669,
     "user": {
      "displayName": "David Torrejon",
      "photoUrl": "https://lh3.googleusercontent.com/a/default-user=s128",
      "userId": "100674754889499666756"
     },
     "user_tz": -120
    },
    "id": "Peucs6e18TSI",
    "outputId": "adae822a-58ce-429d-dd0f-c8a82d29e314"
   },
   "outputs": [],
   "source": [
    "q_w = np.zeros(shape=(1, vocab_size))\n",
    "\n",
    "for t in query.split(\" \"):\n",
    "    if t in w2id:\n",
    "        q_w[0, w2id[t]] += 1\n",
    "q_tf = q_w\n",
    "q_tf.shape"
   ]
  },
  {
   "cell_type": "code",
   "execution_count": null,
   "metadata": {
    "colab": {
     "base_uri": "https://localhost:8080/",
     "height": 170
    },
    "colab_type": "code",
    "executionInfo": {
     "elapsed": 454,
     "status": "ok",
     "timestamp": 1531317246317,
     "user": {
      "displayName": "David Torrejon",
      "photoUrl": "https://lh3.googleusercontent.com/a/default-user=s128",
      "userId": "100674754889499666756"
     },
     "user_tz": -120
    },
    "id": "qJisouvT8TSO",
    "outputId": "a96b0da1-788c-4c33-a4f7-7b7ec02f919e"
   },
   "outputs": [],
   "source": [
    "q_idf = np.zeros(shape=(1, vocab_size))\n",
    "\n",
    "tokens = query.split(\" \")\n",
    "for t in tokens:\n",
    "    if t in w2id:\n",
    "        q_idf[0, w2id[t]] = log((nb_docs/df_dict[t]))\n",
    "q_idf"
   ]
  },
  {
   "cell_type": "code",
   "execution_count": null,
   "metadata": {
    "colab": {
     "base_uri": "https://localhost:8080/",
     "height": 170
    },
    "colab_type": "code",
    "executionInfo": {
     "elapsed": 464,
     "status": "ok",
     "timestamp": 1531317246952,
     "user": {
      "displayName": "David Torrejon",
      "photoUrl": "https://lh3.googleusercontent.com/a/default-user=s128",
      "userId": "100674754889499666756"
     },
     "user_tz": -120
    },
    "id": "qL5ju4wV8TSR",
    "outputId": "fa9894dd-a60b-4334-e73a-b6821624ce2d"
   },
   "outputs": [],
   "source": [
    "query_rep = q_tf * q_idf\n",
    "query_rep"
   ]
  },
  {
   "cell_type": "markdown",
   "metadata": {
    "colab_type": "text",
    "id": "eUOWp5m4KkUN"
   },
   "source": [
    "### Cosine similarity\n",
    "\n",
    "Visualización de Cosine Similarity\n",
    "\n",
    "\n",
    "![](https://lh4.googleusercontent.com/SodVc3Xo77b8LhEjqXymSaA-bI-kQdPeY8uG-J0wSSp5q-pxVAf_rPMUX9Y)\n",
    "\n",
    "\n"
   ]
  },
  {
   "cell_type": "code",
   "execution_count": null,
   "metadata": {
    "colab": {},
    "colab_type": "code",
    "id": "SHcVyTHw8TST"
   },
   "outputs": [],
   "source": [
    "def cos_similarity(x, y):\n",
    "    numerator = np.sum(x*y, axis=-1)\n",
    "    a = np.sqrt(np.sum(x**2, axis=-1))\n",
    "    b = np.sqrt(np.sum(y**2, axis=-1))\n",
    "    denominator = a*b\n",
    "    return numerator/denominator"
   ]
  },
  {
   "cell_type": "code",
   "execution_count": null,
   "metadata": {
    "colab": {
     "base_uri": "https://localhost:8080/",
     "height": 119
    },
    "colab_type": "code",
    "executionInfo": {
     "elapsed": 449,
     "status": "ok",
     "timestamp": 1531317248687,
     "user": {
      "displayName": "David Torrejon",
      "photoUrl": "https://lh3.googleusercontent.com/a/default-user=s128",
      "userId": "100674754889499666756"
     },
     "user_tz": -120
    },
    "id": "n0snLP8M8TSV",
    "outputId": "ede63115-6502-4d9a-eefe-e2aac3a1d5fa"
   },
   "outputs": [],
   "source": [
    "for i in range(nb_docs):\n",
    "    print(documents[i], cos_similarity(query_rep, tf_idf_w[i,:]))"
   ]
  },
  {
   "cell_type": "code",
   "execution_count": null,
   "metadata": {
    "colab": {},
    "colab_type": "code",
    "id": "s2BosoFb8TSa"
   },
   "outputs": [],
   "source": [
    "from sklearn.metrics.pairwise import cosine_similarity"
   ]
  },
  {
   "cell_type": "code",
   "execution_count": null,
   "metadata": {
    "colab": {
     "base_uri": "https://localhost:8080/",
     "height": 51
    },
    "colab_type": "code",
    "executionInfo": {
     "elapsed": 487,
     "status": "ok",
     "timestamp": 1531317249870,
     "user": {
      "displayName": "David Torrejon",
      "photoUrl": "https://lh3.googleusercontent.com/a/default-user=s128",
      "userId": "100674754889499666756"
     },
     "user_tz": -120
    },
    "id": "9LUrCBzu8TSc",
    "outputId": "5b9cd4e2-9fe5-4e13-89a3-2592d62e8cc6"
   },
   "outputs": [],
   "source": [
    "cosine_similarity(query_rep, tf_idf_w)"
   ]
  }
 ],
 "metadata": {
  "colab": {
   "collapsed_sections": [
    "Ms7OEA2g8TQH",
    "9dG5CaqB8TRT",
    "qJQTiXco8TRw",
    "j_OGCGIA8TR9",
    "I3qqKCRy8TSG"
   ],
   "name": "Solución Intro to IR.ipynb",
   "provenance": [],
   "version": "0.3.2"
  },
  "kernelspec": {
   "display_name": "Python 3",
   "language": "python",
   "name": "python3"
  },
  "language_info": {
   "codemirror_mode": {
    "name": "ipython",
    "version": 3
   },
   "file_extension": ".py",
   "mimetype": "text/x-python",
   "name": "python",
   "nbconvert_exporter": "python",
   "pygments_lexer": "ipython3",
   "version": "3.7.6"
  }
 },
 "nbformat": 4,
 "nbformat_minor": 1
}
