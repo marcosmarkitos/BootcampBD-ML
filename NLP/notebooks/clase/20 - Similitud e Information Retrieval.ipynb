{
 "cells": [
  {
   "cell_type": "markdown",
   "metadata": {},
   "source": [
    "# Similarity metrics e IR con Word Embeddings"
   ]
  },
  {
   "cell_type": "markdown",
   "metadata": {},
   "source": [
    "## Import Libraries"
   ]
  },
  {
   "cell_type": "code",
   "execution_count": 2,
   "metadata": {},
   "outputs": [],
   "source": [
    "import pandas as pd\n",
    "import numpy as np\n",
    "from gensim.models import Word2Vec\n",
    "from gensim.similarities import WmdSimilarity"
   ]
  },
  {
   "cell_type": "code",
   "execution_count": 3,
   "metadata": {},
   "outputs": [],
   "source": [
    "from nltk import sent_tokenize\n",
    "from nltk.corpus import stopwords\n",
    "import string\n",
    "from tqdm import tqdm\n",
    "import re"
   ]
  },
  {
   "cell_type": "code",
   "execution_count": 4,
   "metadata": {},
   "outputs": [
    {
     "name": "stdout",
     "output_type": "stream",
     "text": [
      "!\"#$%&'()*+,./:;<=>?@[\\]^_`{|}~“”«»¿¡‘’\n"
     ]
    }
   ],
   "source": [
    "string.punctuation += '“”«»¿¡‘’'\n",
    "string.punctuation = string.punctuation.replace('-', '')\n",
    "table = str.maketrans({key: None for key in string.punctuation})\n",
    "sw_list = stopwords.words('spanish')\n",
    "print(string.punctuation)"
   ]
  },
  {
   "cell_type": "markdown",
   "metadata": {},
   "source": [
    "## Define functions"
   ]
  },
  {
   "cell_type": "code",
   "execution_count": 19,
   "metadata": {},
   "outputs": [],
   "source": [
    "def preprocess(sent):\n",
    "    return [token for token in \n",
    "            re.sub(\"\\n+\", \" \", str(sent).lower().translate(table)).split(\" \") \n",
    "            if token not in sw_list]"
   ]
  },
  {
   "cell_type": "code",
   "execution_count": 5,
   "metadata": {},
   "outputs": [],
   "source": [
    "def generate_search_corpus(df, media_filt):\n",
    "    wmd_corpus = []\n",
    "    for idx, (title, text, media) in tqdm(enumerate(zip(df['title'],\n",
    "                                                        df['text'],\n",
    "                                                        df['media']))):\n",
    "        if media == media_filt:\n",
    "            article_proc = preprocess(title)\n",
    "            try:\n",
    "                for sent in sent_tokenize(text):\n",
    "                    article_proc += preprocess(sent)\n",
    "            except:\n",
    "                pass\n",
    "            wmd_corpus.append(article_proc)\n",
    "        else:\n",
    "            continue\n",
    "    return wmd_corpus"
   ]
  },
  {
   "cell_type": "markdown",
   "metadata": {},
   "source": [
    "## Data Loading"
   ]
  },
  {
   "cell_type": "code",
   "execution_count": 6,
   "metadata": {},
   "outputs": [
    {
     "name": "stdout",
     "output_type": "stream",
     "text": [
      "CPU times: user 97.8 ms, sys: 4.91 s, total: 5.01 s\n",
      "Wall time: 5.69 s\n"
     ]
    }
   ],
   "source": [
    "%%time\n",
    "df = pd.read_excel('../../datasets/spanish_news_corpus.xlsx')"
   ]
  },
  {
   "cell_type": "code",
   "execution_count": 7,
   "metadata": {},
   "outputs": [
    {
     "name": "stdout",
     "output_type": "stream",
     "text": [
      "(39352, 6)\n"
     ]
    },
    {
     "data": {
      "text/html": [
       "<div>\n",
       "<style scoped>\n",
       "    .dataframe tbody tr th:only-of-type {\n",
       "        vertical-align: middle;\n",
       "    }\n",
       "\n",
       "    .dataframe tbody tr th {\n",
       "        vertical-align: top;\n",
       "    }\n",
       "\n",
       "    .dataframe thead th {\n",
       "        text-align: right;\n",
       "    }\n",
       "</style>\n",
       "<table border=\"1\" class=\"dataframe\">\n",
       "  <thead>\n",
       "    <tr style=\"text-align: right;\">\n",
       "      <th></th>\n",
       "      <th>date</th>\n",
       "      <th>title</th>\n",
       "      <th>text</th>\n",
       "      <th>keywords</th>\n",
       "      <th>media</th>\n",
       "      <th>url</th>\n",
       "    </tr>\n",
       "  </thead>\n",
       "  <tbody>\n",
       "    <tr>\n",
       "      <th>39347</th>\n",
       "      <td>2019-10-23</td>\n",
       "      <td>Campofrío esquiva los aranceles de EEUU y la c...</td>\n",
       "      <td>La segunda mayor empresa de alimentación españ...</td>\n",
       "      <td>facturación|proteínas|esquiva|porcina|arancele...</td>\n",
       "      <td>expansion</td>\n",
       "      <td>https://www.expansion.com/empresas/distribucio...</td>\n",
       "    </tr>\n",
       "    <tr>\n",
       "      <th>39348</th>\n",
       "      <td>2019-10-23</td>\n",
       "      <td>Capital Group aflora el 3,1% del capital de Ce...</td>\n",
       "      <td>La gestora de fondos estadounidense Capital Gr...</td>\n",
       "      <td>management|capital|través|euros|principal|comp...</td>\n",
       "      <td>expansion</td>\n",
       "      <td>https://www.expansion.com/mercados/2019/10/23/...</td>\n",
       "    </tr>\n",
       "    <tr>\n",
       "      <th>39349</th>\n",
       "      <td>2019-10-23</td>\n",
       "      <td>Se equivoca al rellenar la lotería y gana dos ...</td>\n",
       "      <td>Las personas que creen en el destino suelen pe...</td>\n",
       "      <td>vez|dólares|primer|ganador|dos|equivoca|número...</td>\n",
       "      <td>elconfidencial</td>\n",
       "      <td>https://www.elconfidencial.com/alma-corazon-vi...</td>\n",
       "    </tr>\n",
       "    <tr>\n",
       "      <th>39350</th>\n",
       "      <td>2019-10-23</td>\n",
       "      <td>El Premio Nacional de Narrativa, por Milena Bu...</td>\n",
       "      <td>Leo con enorme alivio y regocijo las declaraci...</td>\n",
       "      <td>ser|vez|escritor|si|valor|solapa|prostitutas|b...</td>\n",
       "      <td>elperiodico</td>\n",
       "      <td>https://www.elperiodico.com/es/opinion/2019102...</td>\n",
       "    </tr>\n",
       "    <tr>\n",
       "      <th>39351</th>\n",
       "      <td>2019-10-24</td>\n",
       "      <td>¿Dónde ve oportunidades en los mercados? por V...</td>\n",
       "      <td>¿Dónde ve oportunidades en los mercados?\\n\\n¿S...</td>\n",
       "      <td>dónde|responderá|regístrese|ve|riesgos|puede|p...</td>\n",
       "      <td>expansion</td>\n",
       "      <td>https://www.expansion.com/encuentros/victor-de...</td>\n",
       "    </tr>\n",
       "  </tbody>\n",
       "</table>\n",
       "</div>"
      ],
      "text/plain": [
       "            date                                              title  \\\n",
       "39347 2019-10-23  Campofrío esquiva los aranceles de EEUU y la c...   \n",
       "39348 2019-10-23  Capital Group aflora el 3,1% del capital de Ce...   \n",
       "39349 2019-10-23  Se equivoca al rellenar la lotería y gana dos ...   \n",
       "39350 2019-10-23  El Premio Nacional de Narrativa, por Milena Bu...   \n",
       "39351 2019-10-24  ¿Dónde ve oportunidades en los mercados? por V...   \n",
       "\n",
       "                                                    text  \\\n",
       "39347  La segunda mayor empresa de alimentación españ...   \n",
       "39348  La gestora de fondos estadounidense Capital Gr...   \n",
       "39349  Las personas que creen en el destino suelen pe...   \n",
       "39350  Leo con enorme alivio y regocijo las declaraci...   \n",
       "39351  ¿Dónde ve oportunidades en los mercados?\\n\\n¿S...   \n",
       "\n",
       "                                                keywords           media  \\\n",
       "39347  facturación|proteínas|esquiva|porcina|arancele...       expansion   \n",
       "39348  management|capital|través|euros|principal|comp...       expansion   \n",
       "39349  vez|dólares|primer|ganador|dos|equivoca|número...  elconfidencial   \n",
       "39350  ser|vez|escritor|si|valor|solapa|prostitutas|b...     elperiodico   \n",
       "39351  dónde|responderá|regístrese|ve|riesgos|puede|p...       expansion   \n",
       "\n",
       "                                                     url  \n",
       "39347  https://www.expansion.com/empresas/distribucio...  \n",
       "39348  https://www.expansion.com/mercados/2019/10/23/...  \n",
       "39349  https://www.elconfidencial.com/alma-corazon-vi...  \n",
       "39350  https://www.elperiodico.com/es/opinion/2019102...  \n",
       "39351  https://www.expansion.com/encuentros/victor-de...  "
      ]
     },
     "execution_count": 7,
     "metadata": {},
     "output_type": "execute_result"
    }
   ],
   "source": [
    "print(df.shape)\n",
    "df.tail()"
   ]
  },
  {
   "cell_type": "code",
   "execution_count": 8,
   "metadata": {},
   "outputs": [
    {
     "data": {
      "text/html": [
       "<div>\n",
       "<style scoped>\n",
       "    .dataframe tbody tr th:only-of-type {\n",
       "        vertical-align: middle;\n",
       "    }\n",
       "\n",
       "    .dataframe tbody tr th {\n",
       "        vertical-align: top;\n",
       "    }\n",
       "\n",
       "    .dataframe thead th {\n",
       "        text-align: right;\n",
       "    }\n",
       "</style>\n",
       "<table border=\"1\" class=\"dataframe\">\n",
       "  <thead>\n",
       "    <tr style=\"text-align: right;\">\n",
       "      <th></th>\n",
       "      <th>media</th>\n",
       "      <th>count</th>\n",
       "    </tr>\n",
       "  </thead>\n",
       "  <tbody>\n",
       "    <tr>\n",
       "      <th>8</th>\n",
       "      <td>elpais</td>\n",
       "      <td>6261</td>\n",
       "    </tr>\n",
       "    <tr>\n",
       "      <th>1</th>\n",
       "      <td>bolsamania</td>\n",
       "      <td>4221</td>\n",
       "    </tr>\n",
       "    <tr>\n",
       "      <th>3</th>\n",
       "      <td>elconfidencial</td>\n",
       "      <td>4031</td>\n",
       "    </tr>\n",
       "    <tr>\n",
       "      <th>5</th>\n",
       "      <td>eleconomista</td>\n",
       "      <td>3756</td>\n",
       "    </tr>\n",
       "    <tr>\n",
       "      <th>11</th>\n",
       "      <td>lavanguardia</td>\n",
       "      <td>3282</td>\n",
       "    </tr>\n",
       "    <tr>\n",
       "      <th>10</th>\n",
       "      <td>expansion</td>\n",
       "      <td>3055</td>\n",
       "    </tr>\n",
       "    <tr>\n",
       "      <th>12</th>\n",
       "      <td>okdiario</td>\n",
       "      <td>3023</td>\n",
       "    </tr>\n",
       "    <tr>\n",
       "      <th>9</th>\n",
       "      <td>elperiodico</td>\n",
       "      <td>2912</td>\n",
       "    </tr>\n",
       "    <tr>\n",
       "      <th>0</th>\n",
       "      <td>abc</td>\n",
       "      <td>2314</td>\n",
       "    </tr>\n",
       "    <tr>\n",
       "      <th>14</th>\n",
       "      <td>vozpopuli</td>\n",
       "      <td>1984</td>\n",
       "    </tr>\n",
       "    <tr>\n",
       "      <th>7</th>\n",
       "      <td>elmundo</td>\n",
       "      <td>1864</td>\n",
       "    </tr>\n",
       "    <tr>\n",
       "      <th>6</th>\n",
       "      <td>elindependiente</td>\n",
       "      <td>1551</td>\n",
       "    </tr>\n",
       "    <tr>\n",
       "      <th>2</th>\n",
       "      <td>diario16</td>\n",
       "      <td>899</td>\n",
       "    </tr>\n",
       "    <tr>\n",
       "      <th>4</th>\n",
       "      <td>eldiario</td>\n",
       "      <td>166</td>\n",
       "    </tr>\n",
       "    <tr>\n",
       "      <th>13</th>\n",
       "      <td>reuters</td>\n",
       "      <td>32</td>\n",
       "    </tr>\n",
       "  </tbody>\n",
       "</table>\n",
       "</div>"
      ],
      "text/plain": [
       "              media  count\n",
       "8            elpais   6261\n",
       "1        bolsamania   4221\n",
       "3    elconfidencial   4031\n",
       "5      eleconomista   3756\n",
       "11     lavanguardia   3282\n",
       "10        expansion   3055\n",
       "12         okdiario   3023\n",
       "9       elperiodico   2912\n",
       "0               abc   2314\n",
       "14        vozpopuli   1984\n",
       "7           elmundo   1864\n",
       "6   elindependiente   1551\n",
       "2          diario16    899\n",
       "4          eldiario    166\n",
       "13          reuters     32"
      ]
     },
     "execution_count": 8,
     "metadata": {},
     "output_type": "execute_result"
    }
   ],
   "source": [
    "df.groupby(by='media')['title'].count().reset_index(name='count').sort_values('count', ascending=False)"
   ]
  },
  {
   "cell_type": "code",
   "execution_count": 22,
   "metadata": {},
   "outputs": [
    {
     "name": "stderr",
     "output_type": "stream",
     "text": [
      "39352it [00:15, 2615.51it/s]\n"
     ]
    }
   ],
   "source": [
    "media = 'elpais'\n",
    "wmd_corpus = generate_search_corpus(df, media)"
   ]
  },
  {
   "cell_type": "code",
   "execution_count": 23,
   "metadata": {},
   "outputs": [
    {
     "name": "stdout",
     "output_type": "stream",
     "text": [
      "Retrieved 6261 news from elpais\n",
      "\n",
      "rock psicodélico pink floyd siguiendo rastro leyenda aunque naturales londres capital inglesa pink floyd conjuró leyenda aquí llegaron años 60 continuar estudios configuraron banda primero tocando pequeños locales ámbito underground después recintos londinenses emblemáticos música ruta puede comenzar sur icónica central eléctrica battersea ir ascendiendo hacia estudios abbey road grabaron...\n"
     ]
    }
   ],
   "source": [
    "print(\"Retrieved {} news from {}\\n\".format(len(wmd_corpus), media))\n",
    "print(\" \".join(wmd_corpus[0][:50]) + \"...\")"
   ]
  },
  {
   "cell_type": "code",
   "execution_count": 5,
   "metadata": {},
   "outputs": [],
   "source": [
    "w2v = Word2Vec.load('../../data/w2v_sg_d300_mc5_w5.pkl')"
   ]
  },
  {
   "cell_type": "markdown",
   "metadata": {},
   "source": [
    "# Word Mover's Distance (WMD)"
   ]
  },
  {
   "cell_type": "markdown",
   "metadata": {},
   "source": [
    "> *M. J. Kusner et al., From Word Embeddings To Document Distances* http://proceedings.mlr.press/v37/kusnerb15.pdf"
   ]
  },
  {
   "cell_type": "markdown",
   "metadata": {},
   "source": [
    "Minimum (weighted) cumulative cost requiered to move all words from $\\boldsymbol{d}_1$ to $\\boldsymbol{d}_2$"
   ]
  },
  {
   "cell_type": "markdown",
   "metadata": {},
   "source": [
    "$\\boxed{min_{\\boldsymbol{T}\\geqslant{0}} \\sum_{i,j=1}^{n} T_{ij} c(i,j)}$"
   ]
  },
  {
   "cell_type": "markdown",
   "metadata": {},
   "source": [
    "where,"
   ]
  },
  {
   "cell_type": "markdown",
   "metadata": {},
   "source": [
    "$\\sum_{j=1}^{n} T_{ij}=d_i , \\forall i \\in \\{1, ..., n\\}$"
   ]
  },
  {
   "cell_type": "markdown",
   "metadata": {},
   "source": [
    "$\\sum_{i=1}^{n} T_{ij}=d_j , \\forall j \\in \\{1, ..., n\\}$"
   ]
  },
  {
   "cell_type": "code",
   "execution_count": 39,
   "metadata": {},
   "outputs": [],
   "source": [
    "np.random.seed(2019)\n",
    "rnd_index = np.random.choice(range(len(wmd_corpus)), size=2000, replace=False)"
   ]
  },
  {
   "cell_type": "code",
   "execution_count": 40,
   "metadata": {},
   "outputs": [],
   "source": [
    "wmd_corpus_subsampled = [wmd_corpus[i] for i in rnd_index]"
   ]
  },
  {
   "cell_type": "code",
   "execution_count": 41,
   "metadata": {},
   "outputs": [
    {
     "data": {
      "text/html": [
       "<div>\n",
       "<style scoped>\n",
       "    .dataframe tbody tr th:only-of-type {\n",
       "        vertical-align: middle;\n",
       "    }\n",
       "\n",
       "    .dataframe tbody tr th {\n",
       "        vertical-align: top;\n",
       "    }\n",
       "\n",
       "    .dataframe thead th {\n",
       "        text-align: right;\n",
       "    }\n",
       "</style>\n",
       "<table border=\"1\" class=\"dataframe\">\n",
       "  <thead>\n",
       "    <tr style=\"text-align: right;\">\n",
       "      <th></th>\n",
       "      <th>date</th>\n",
       "      <th>title</th>\n",
       "      <th>text</th>\n",
       "      <th>keywords</th>\n",
       "      <th>url</th>\n",
       "    </tr>\n",
       "    <tr>\n",
       "      <th>media</th>\n",
       "      <th></th>\n",
       "      <th></th>\n",
       "      <th></th>\n",
       "      <th></th>\n",
       "      <th></th>\n",
       "    </tr>\n",
       "  </thead>\n",
       "  <tbody>\n",
       "    <tr>\n",
       "      <th>elpais</th>\n",
       "      <td>2000</td>\n",
       "      <td>2000</td>\n",
       "      <td>2000</td>\n",
       "      <td>2000</td>\n",
       "      <td>2000</td>\n",
       "    </tr>\n",
       "  </tbody>\n",
       "</table>\n",
       "</div>"
      ],
      "text/plain": [
       "        date  title  text  keywords   url\n",
       "media                                    \n",
       "elpais  2000   2000  2000      2000  2000"
      ]
     },
     "execution_count": 41,
     "metadata": {},
     "output_type": "execute_result"
    }
   ],
   "source": [
    "df_subsampled = df.loc[df['media'] == media]\n",
    "df_subsampled.reset_index(drop=True, inplace=True)\n",
    "df_subsampled = df_subsampled.loc[rnd_index.tolist()]\n",
    "df_subsampled.groupby(by='media').count()"
   ]
  },
  {
   "cell_type": "code",
   "execution_count": 42,
   "metadata": {},
   "outputs": [],
   "source": [
    "num_best = 10\n",
    "index = WmdSimilarity(\n",
    "    wmd_corpus_subsampled,\n",
    "    w2v,\n",
    "    num_best=10,\n",
    "    normalize_w2v_and_replace=True\n",
    ")"
   ]
  },
  {
   "cell_type": "code",
   "execution_count": 43,
   "metadata": {},
   "outputs": [
    {
     "name": "stdout",
     "output_type": "stream",
     "text": [
      "[(1115, 0.4745356637985376), (998, 0.46729975530731205), (1602, 0.46706819794022386), (203, 0.4589042803326058), (359, 0.45765305536221107), (1632, 0.4502073050835806), (1361, 0.4487842156082014), (1315, 0.4476928429704906), (1676, 0.44752450626188167), (1156, 0.4470963067805243)]\n",
      "CPU times: user 3min 14s, sys: 0 ns, total: 3min 14s\n",
      "Wall time: 3min 14s\n"
     ]
    }
   ],
   "source": [
    "%%time\n",
    "#sent = 'Caída de las acciones de Telefónica, Alvarez Pallete plantea un plan de bajas voluntarias para mayores de 53 años.'\n",
    "#sent = 'Negociaciones para el pacto de gobierno entre PSOE y Unidas Podemos para evitar repeticion electoral.'\n",
    "#sent = 'Sigue la búsqueda de la desaparecida Blanca Fernández Ochoa, esquiadora de Cercedilla.'\n",
    "#sent = 'Boris Johnson plantea un brexit duro para la salida de la unión Europea.'\n",
    "sent = 'Alicante, Orihuela afectada por las inundaciones provocadas por las lluvias torrenciales del DANA.'\n",
    "#sent = 'Incendios en el Amazonas queman miles de hectáreas y crean tensión entre Macrón y Bolsonaro.'\n",
    "#sent = 'Iñigo Errejón se presenta a las elecciones generales con Más País en las provincias con mayor circunscripción.'\n",
    "query = preprocess(sent)\n",
    "\n",
    "sims = index[query]  # A query is simply a \"look-up\" in the similarity class.\n",
    "print(sims)"
   ]
  },
  {
   "cell_type": "code",
   "execution_count": 38,
   "metadata": {},
   "outputs": [
    {
     "name": "stdout",
     "output_type": "stream",
     "text": [
      "Query:\n",
      "Alicante, Orihuela afectada por las inundaciones provocadas por las lluvias torrenciales del DANA.\n",
      "##################################################################################################\n",
      "\n",
      "\n",
      "sim = 0.4673\n",
      "Title: Las lluvias torrenciales remiten en Alicante y Valencia pero arrecian en Murcia y Almería \n",
      "\n",
      "Text: La gota fría, que azota desde el lunes al área mediterránea, entró el miércoles por la noche en su fase más adversa, que durará hasta que acabe el viernes. Tras un rápido descenso de norte a sur por el este, la depresión aislada en niveles altos (dana), es decir, un embolsamiento de aire en capas altas conocido popularmente como gota fría— se encuentra este jueves en el mar, entre el norte de Argelia y el sureste de la Península, desde donde recibe \"combustible\" para generar más tormentas y hacer que sean torrenciales y duraderas, explica la Agencia Estatal de Meteorología (Aemet). Almería, Alicante y Murcia continúan esta tarde bajo aviso rojo, el máximo de los tres existentes, por lluvias muy intensas —de 60 litros por metro cuadrado o más en una hora en Almería, 70 en Murcia y 90 en Alicante y con acumulaciones de 120 litros en 12 horas en Almería, 180 en Alicante y 200 en Murcia—. En Almería y Alicante, el aviso estará en vigor hasta las doce de la noche del viernes, mientras que en Murcia se espera poder levantarlo a las seis de la mañana.\n",
      "\n",
      "Durante la pasada madrugada, las zonas más afectadas por las lluvias han sido Baleares y Valencia, mientras que por la mañana han arreciado en una amplia zona entre Alicante y Valencia y por la tarde bajan por el sur de Alicante y se centran en Murcia y Almería, explica Jaime Rey, jefe de Predicción Operativa de la Aemet, que añade que la mejoría de la situación en Valencia ha permitido rebajar el aviso de rojo a naranja al mediodía. Sin embargo, las tormentas se reactivarán en la zona, por lo que volverá a rojo entre las seis de la mañana del viernes y la medianoche del sábado.\n",
      "\n",
      "Hasta las tres de la tarde de este jueves, según datos de la Aemet, se habían recogido ya 283 litros en Ontinyent que lidera la tabla, 199 en Molina de Segura (Murcia), 143,2 en Almansa (Albacete) y 136,6 en Fontanars dels Alforins (Valencia). La red de observatorios de la Asociación Valenciana de Meteorología (Avamet) habla de acumulados de 431,6 litros en Beniarrés, 390,3 en Benissili y 343,8 en Ontinyent.\n",
      "\n",
      "El incidente más grave hasta el momento es la muerte de dos personas en Caudete (Alicante) y el desbordamiento del río Clariano a su paso por Ontinyent, localidad del sur de Valencia de 35.000 habitantes, que ha dejado 40 rescatados y 150 evacuados. Según Aemet, nunca había llovido tanto en este municipio desde que hay registros (y datan de 1917): 297 litros por metro cuadrado en 24 horas. El Ayuntamiento de Molina de Segura (Murcia) ha recomendado el desalojo a los vecinos de zonas inundables de huerta y el de Cieza ha hecho lo propio con los de barriadas del extrarradio. Se han registrado además tornados en las localidades alicantinas de Dènia y Guardamar del Segura, que no han dejado heridos, pero sí daños materiales.\n",
      "\n",
      "#DANAsetembre: #precipitacions (mm) registrades HUI (fins a les 7:30h) superiors als 100mm:\n",
      "\n",
      "\n",
      "\n",
      "301,8 la Vall Gallinera/Benissili\n",
      "\n",
      "294,2 Beniarrés/Museu del Clima\n",
      "\n",
      "235,0 Ontinyent/el Pilar\n",
      "\n",
      "221,4 Ontinyet/Col. Pureza de María\n",
      "\n",
      "217,2 Gaianes\n",
      "\n",
      "197,0 Agres/la Valleta\n",
      "\n",
      "191,8 l'Orxa pic.twitter.com/xJNKp0TxVD — AVAMET (@avamet) September 12, 2019\n",
      "\n",
      "Un dato revelador de la virulencia de esta dana es que los avisos rojos son dobles, por lluvias pero también por tormentas, lo que supone “un hito” en el sistema de Meteoalerta.\n",
      "\n",
      "“Esta tormentas estarán entre las peores de los últimos 13 años por su intensidad torrencial, por su persistencia, por la presencia de vientos muy fuertes de 80, 90 e incluso 100 kilómetros por hora, porque puede aparecer pedrisco de más de dos centímetros y porque existe probabilidad de trombas marinas y de tornados en el Levante, con temporal marítimo de olas de hasta cuatro metros”, describe Rubén del Campo, uno de los portavoces de la Aemet.\n",
      "\n",
      "Pero también se esperan chubascos importantes de aquí al viernes en otras zonas de la Comunidad Valenciana, Baleares, el sureste de Castilla-La Mancha y la parte más oriental de Andalucía, que mantienen el aviso naranja, el segundo de los tres niveles existentes, también a Granada; y en amarillo, el primer nivel, a Jaén, Ciudad Real e Ibiza y Formentera. Además, persisten los avisos amarillos por mala mar.\n",
      "\n",
      "Las danas, recuerda Del Campo, “son unas de las estructuras más complicadas de predecir en cuanto a movimiento y su ubicación determina qué cantidad de agua va a caer y dónde”. El portavoz avisa de que pequeñas variaciones en la humedad o en el viento pueden llevar las tormentas a puntos no previstos.\n",
      "\n",
      "¿Qué pasará en las próximas horas? A última hora y durante toda la mañana del viernes la Dana se desplazará lentamente hacia el noroeste en \"un movimiento en sentido contrario al habitual en la circulación general de la atmósfera, que manda las borrascas de oeste a este\". En su camino, seguirá inyectando aire húmedo a tierra, lo que seguirá favoreciendo la formación de tormentas. \"La zona de máximas precipitaciones será de nuevo Valencia y Alicante\", destaca Rey.\n",
      "\n",
      "El viernes siguen en rojo por lluvias y tormentas Almería, Alicante, Valencia y Murcia, en naranja Granada, Albacete, Castellón, Valencia e Ibiza y Formentera y en amarillo, Jaén, Teruel, Ciudad Real, Cuenca y Mallorca. Continúa también el riesgo por mala mar en toda la Comunidad Valenciana, A Coruña, Baleares y Murcia y por viento se reduce a Albacete, Alicante, Valencia y Baleares.\n",
      "\n",
      "A partir del sábado, avanza Rey, el núcleo frío de la dana \"se irá calentando, por lo que perderá intensidad\", se debilitará y se desestructurará. Su trayectoria la llevará al mediodía del sábado a situarse en el centro de Portugal, pero su parte delantera seguirá causando precipitaciones intensas y tormentas, que afectarán al sistema central, Castilla-La Mancha y Madrid—hay avisos amarillos en Ciudad Real, Cuenca, Guadalajara, Toledo, Ávila, Madrid, Alicante, Valencia y Cáceres por lluvias de entre 40 y 60 litros, pero no a la hora, sino en total—.\n",
      "----------------------------------------------------------------------------------------------------\n",
      "\n",
      "\n",
      "sim = 0.4589\n",
      "Title: Meteorología eleva a rojo el aviso por tormentas en Baleares \n",
      "\n",
      "Text: La DANA amenaza con tormentas \"potencialmente peligrosas\" en el Mediterráneo. En la foto, paraguas esta mañana en Bilbao. vídeo: atlas | foto: efe\n",
      "\n",
      "La Agencia Estatal de Meteorología (Aemet) ha elevado a las nueve de la noche de este martes el nivel de alerta por lluvias torrenciales en Baleares a rojo, el máximo de una escala de tres, ante la previsión de que se acaben recogiendo más de 180 litros de agua por metro cuadrado en 12 horas. El aviso rojo, que estará activo hasta las 3.00 del miércoles, afecta al norte y nordeste y a la sierra de Tramontana de Mallorca, mientras que el resto del archipiélago se mantiene en naranja hasta las doce la noche del próximo jueves, como estaba también hasta ese momento Mallorca. La previsión inicial era de 100 litros o más en 12 horas. A partir de los 60 litros, se consideran lluvias torrenciales. A las nueve y media, habían caído 156.2 en la estación de Escorca Lluc y 121 en la de Escorca Son Torrella, en Pollença 107.8 y en Port de Pollença 72.0.\n",
      "\n",
      "10/09 21:57 #AEMET actualiza #FMA en Baleares. Activos hoy y mañana. Nivel máx rojo. Imagen del mapa de avisos en vigor a las 21:57 . Para ver una tabla de avisos actualizada haga CLIC EN LA IMAGEN o visite https://t.co/ZLtvIG8xWo https://t.co/3d4Brle7UU — AEMET (@AEMET_Esp) September 10, 2019\n",
      "\n",
      "A consecuencia de las lluvias, el torrente de Sa Mosquera (Selva) y el torrent Petit de Campanet se han desbordado, ha informado el Servicio de Emergencias 112, que ha gestionado 72 incidentes, 60 de ellos en Mallorca y entre las que destacan el auxilio a ocho embarcaciones a la deriva, 16 árboles caídos, seis interrupciones de servicios básicos y 30 inundaciones de edificios o establecimientos. En 19 localidades se han suspendido las clases, avanza el Gobierno balear.\n",
      "\n",
      "La causa de estas lluvias es una nueva DANA —acrónimo de Depresión Aislada en Niveles Altos, es decir, un embolsamiento de aire en capas altas conocido popularmente como gota fría— que entró la noche del lunes por el norte peninsular. La dana estaba este mediodía sobre el Cantábrico oriental, informa Beatriz Hervella, una de las portavoces de la Aemet. Según detalla Hervella, la DANA se desplaza con \"bastante rapidez\" de norte a sur por el flanco este, de modo que \"a media tarde se sitúa sobre Castellón y Tarragona; a última hora, sobre el sureste peninsular; y mañana por la mañana, sobre Argelia\". Este movimiento hace que los chubascos y tormentas más intensos de este martes se esperaran en las Baleares.\n",
      "\n",
      "Precipitación acumulada hasta las 20:30 de 156,1mm. en prov. de Illes Balears.Datos PROVISIONALES de est. auto. pic.twitter.com/6Dc8MaXjF0 — AEMET (@AEMET_Esp) September 10, 2019\n",
      "\n",
      "También se preveían tormentas y chubascos, aunque de menor intensidad, en Cataluña. La Aemet retiró a las seis de esta mañana el aviso rojo de Barcelona y Girona, donde se temían 100 litros por metro cuadrado en 12 horas durante la noche del lunes al martes pero se recogieron menos de 50, ya que el grueso de la precipitación y su aparato eléctrico cayeron sobre el mar, en el límite de la costa. \"De los 48,2 litros caídos en Barcelona, 19.8 fueron en una hora, de cuatro a cinco de la madrugada\", destaca Hervella. Barcelona y Girona, al igual que Tarragona, permanecen hasta el mediodía del miércoles bajo aviso amarillo, el nivel más bajo de la escala.\n",
      "\n",
      "Aunque el temporal afecta sobre todo al área mediterránea, también se está dejando notar en otras zonas de la Península, con lluvias persistentes en el Cantábrico este martes y vientos fuertes en amplias zonas de la Península este martes y el miércoles, sobre todo en zonas altas de montaña. Así, Cantabria, País Vasco y Asturias estuvieron todo el día en alerta amarilla, que la Aemet retiró por la noche. Se esperaban acumulados de 15 litros por metro cuadrado en una hora o de 40 o más en 12, que han sido ampliamente superados en muchos puntos. Por ejemplo, en Alto Campoo (Cantabria) se contabilizaron 118.6, en Amieva (Asturias) 101.2, y más de 80 en las localidades cántabras de Los Tojos, Ramales de la Victoria, Camaleño y Fuente De.\n",
      "\n",
      "Además, Almería, Cádiz, Granada, Málaga, Barcelona, Girona, Tarragona, Ceuta, Melilla y Baleares tienen avisos mala mar, todos amarillos salvo en Barcelona y Girona, donde sube a naranja. \"Es lo más destacado del día en Cataluña, porque hay viento del nordeste de fuerza ocho y olas de entre tres y cuatro metros\", subraya la portavoz. En el mar de Alborán, hay fuerza siete y olas de la misma entidad.\n",
      "\n",
      "Por vientos, hay avisos en Almería, Granada, Huesca, Zaragoza, Cantabria, Albacete, Cuenca, Guadalajara, Ávila, Burgos, León, Palencia, Segovia, Soria, Barcelona, Girona, Tarragona, Madrid, Castellón, Baleares y La Rioja. Son todos amarillos, por rachas de entre 70 y 80 kilómetros por hora. Y el último ingrediente del temporal son las temperaturas. La DANA ha provocado este martes una importante y brusca caída de las máximas en toda la Península salvo en las costas. El descenso ha sido entre notable y extraordinario, es decir, de cinco a ocho grados menos respecto a los valores del lunes, incluso nueve en zonas altas.\n",
      "\n",
      "Los valores se han situado hoy muy por debajo de los normales de estas fechas, con unas máximas que se mueven entre los 5 y los 10ºC por debajo de lo que correspondería. \"León ha pasado de 23,7 grados el lunes a una máxima de 17 este martes y mañana, se vuelve a subir a 23\", pone como ejemplo la portavoz, que avanza que las temperaturas se recuperarán rápidamente el miércoles en el norte y en el interior. \"Solo seguirán bajas e incluso caerán algo más en los puntos donde llueva\", este de Castilla-La Mancha y de Andalucía, Comunidad Valenciana y Murcia, advierte Hervella.\n",
      "\n",
      "Para el miércoles, la previsión de la Aemet es que la DANA continúe su desplazamiento hacia el sur. \"Probablemente ya se encuentre situada en el mar, entre Argelia y la Península y deje de nuevo tiempo adverso, con precipitaciones fuertes o muy fuertes por la mañana en el litoral catalán, sobre todo en Tarragona, a mediodía en la Comunidad Valenciana y en las últimas horas, en Baleares\", pronostica la meteoróloga. Los vientos volverán a arreciar en el área mediterránea y zonas altas del centro y la la mitad oriental peninsular; así como la mala mar en el litoral de Cataluña y de Castellón.\n",
      "\n",
      "El jueves parece que la DANA se mantendrá Argelia, por lo que la inestabilidad se desplaza al sureste peninsular y el viernes se abren varios escenarios, entre ellos que vuelva a subir. \"No sabemos si se va a terminar consumiendo ella sola girando sobre sí misma o va a moverse al norte para incorporarse a la circulación general y morir lejos de la Península\", concluye la experta.\n",
      "----------------------------------------------------------------------------------------------------\n",
      "\n",
      "\n",
      "sim = 0.4577\n",
      "Title: Fotos: Las imágenes del día, 25/09/2019 \n",
      "\n",
      "Text: 4\n",
      "\n",
      "Un grupo de personas junto a una carretera dañada en una zona afectada por el terremoto a las afueras de Mirpur (Pakistán), que ha causado la muerte de 22 personas y cientos de heridos.\n",
      "----------------------------------------------------------------------------------------------------\n",
      "\n",
      "\n",
      "sim = 0.4457\n",
      "Title: Viaje por tres provincias sacudidas por la gota fría: “El agua saltaba la carretera” \n",
      "\n",
      "Text: A cuatro kilómetros de Orihuela (76.700 habitantes), en Alicante, la zona cero de la gota fría del sureste español, la CV-87 está cortada. Enfrente, Manuel Martínez, el pelo cano y un mechero en la mano, contempla los limoneros y el cultivo anegado de alcachofas desde el porche. Saluda a los vecinos. “Qué desastre, dicen que va a llover otra vez”, le dice una mujer que pasea a un perro pequeño. Manuel no tiene ni luz ni agua. “A mí me entró la tromba a por la terraza de arriba, caía tanto que se me inundó todo”. En la trasera de su calle en Bigastro (6.700 habitantes), también en Alicante, la Unidad Militar de Emergencias (UME) achica agua de unos bungalós.\n",
      "\n",
      "Los soldados reparten botellas. Hay moscas, cultivos inundados, gente con botas de agua y fregonas. Enseres en las puertas y coches de bomberos. Un helicóptero sobrevuela la huerta. Aquí termina un viaje de 387 kilómetros por tres provincias sacudidas por la gota fría.\n",
      "\n",
      "Un hombre en camiseta negra pasa con dos niñas y su esposa, que señala el pavimento teñido de marrón y dice: “Todo esto estaba lleno de agua”. También se llama Manuel. “Justo acabo de llegar de Orihuela, desde las seis de la mañana de ayer [por el viernes]. Y ha sido porque he venido con un hombre que se conoce bien todo y hemos podido pasar”. Trabaja en esa ciudad aislada desde el jueves. Tuvo suerte porque pudo dormir en casa de su madre.\n",
      "\n",
      "El viaje ha comenzado por la mañana en Almería con el inquietante anuncio de que hay 90 carreteras cortadas en la última provincia andaluza, Murcia y Alicante. Las cunetas, levantadas por el agua, jugarán todo el camino a morder el asfalto. La tierra que a veces cruza la carretera es grisácea camino de San José (1.100 habitantes), el gran centro turístico del Parque Nacional de Cabo de Gata.\n",
      "\n",
      "La extensa playa de San José está partida en dos por el agua que arrasó la rambla la madrugada del viernes y se llevó por delante coches, tumbonas, sombrillas, una portería de fútbol y hasta la caseta de una empresa de kayak. Se salvó, por un par de metros, la caseta de Turismo, pero Ángela Cano tuvo que tirar un montón de mapas y folletos que anuncian excursiones de esnórquel, rutas en barco e inmersiones. “Cuando abrí la puerta estaba todo embarrado”. Muestra los vídeos de los coches amontonados casi al borde del mar.\n",
      "\n",
      "“En las playas del parque huele a depuradora y el agua está color chocolate”, cuenta un empresario de la zona. “Llevamos 11 días sin poder salir por el viento y el temporal, ya ves”, se lamenta.\n",
      "\n",
      "Rumbo al norte por la A-7, la radio anuncia que el Gobierno de Murcia decreta zona catastrófica y que hay un muerto más en Orihuela. Y más de 3.000 evacuados. 5.000 intervenciones de rescate. Mientras, carteles inquietantes se suceden. Rambla Bombón. Rambla Los Feos. Rambla Limpia. Los quitamiedos no dejan ver lo que hay debajo, pero a estas alturas ya sabemos que esas rieras cuando llueve y caen 500 litros por metro cuadrado o solo 100, son una maldición. Las que se ven, al llegar a Lorca, por ejemplo, parecen brazos desollados, arañados por un rastrillo gigante.\n",
      "\n",
      "Los Alcázares (15.600 habitantes), al borde del Mar Menor, aún muestra la furia de la torrentera. Una enorme tubería escupe barro junto al puente, en cuyos ojos se ha estampado tanto un Audi familiar como un taburete de pino. “El agua pasaba por encima de la carretera”, exclama una mujer. “Yo me salvé porque vivo en un segundo, ahí”. En la calle principal hay un enorme ajetreo de coches patrulla, camiones del servicio forestal que achican el agua de los garajes, gente con botas embarradas transportando cepillos, sorteando losetas levantadas y lagunas de barro pegajoso.\n",
      "\n",
      "Apuntes salvados\n",
      "\n",
      "En las puertas de las casas se amontonan colchones, sofás, mil enseres. La vida de la gente se ha colocado empapada sobre la acera. Los Cánovas señalan la marca que ha dejado el agua. A ellos, que viven en Murcia y veranean aquí, no les pilló. En la casa de al lado, los Soto, que después de la última riada, en 2016, levantaron el suelo dos palmos, llevan trabajando más de 24 horas. En la madrugada del viernes, el agua les subió hasta la rodilla. Les caía por el respiradero de los baños, salía por la taza. Su casa hoy son camas, sillas, mesas con ropa, trastos encima. Y también los apuntes de la hija, que está opositando. “Lo primero que salvé”, dice. Y barro. Mucho barro. “Y nosotros tuvimos suerte. Los chicos de atrás han sido evacuados”. Como las decenas de personas, que están en el centro de alto rendimiento y un colegio. Camino a la salida, en una plazuela, los militares descargan agua. “Vamos a llevársela a los vecinos que no pueden venir a por ella, gente mayor”, apunta uno. A dos cuadras el mar, teñido de marrón hasta donde alcanza la vista, está furioso.\n",
      "\n",
      "Las inundaciones, en imágenes\n",
      "\n",
      "Las primeras víctimas del devastador temporal se produjeron, sin embargo, en una población donde no llovió de manera torrencial. Al menos no como en otros muchos sitios. Los hermanos Rafael, de 61 años, y Fina Micó, de 51, murieron el pasado jueves en uno de los caminos de salida de la localidad albaceteña de Caudete (10.000 habitantes). Fina tenía el día libre en la residencia de ancianos San Juan Evangelista donde trabajaba de auxiliar. Y Rafael estaba jubilado de la obra por algunos achaques de salud. Ambos cogieron el coche y se fueron al hospital de Almansa, según apuntaban este sábado algunos vecinos, o de visita a un pueblo cercano, de acuerdo con otras versiones. El caso es que iban por la carretera de La Encina, normalmente, transitada, y una corriente de agua que vino por una rambla hizo volcar el coche. Los dos hermanos no pudieron salir del vehículo y fallecieron ahogados.\n",
      "\n",
      "Las vecinas que tomaban este sábado un aperitivo antes de comer en el bar El Molino, el abogado que a punto estuvo de coger la misma carretera la fatídica mañana para ir al juzgado de Almansa o las dos compañeras de Fina de la residencia consultadas coinciden en que no llovió tanto ese día en el pueblo que, además, está emplazado sobre un montículo. Ahora bien, sí que cayeron centenares de litros por metro cuadrado en la cercana sierra y el agua bajó con una fuerza inusitada, impulsada también por las obras que se están realizando para finalizar la autovía de la Font de la Figuera a Yecla, según varios vecinos. De tal modo, que el pueblo quedó aislado durante unas horas debido a que sus accesos se inundaron.\n",
      "\n",
      "Hermanos fallecidos\n",
      "\n",
      "Rafael y Fina ya habían abandonado la seguridad del núcleo urbano. “¡Qué mala suerte tuvieron! En fin, ella era una buena compañera, amable y trabajadora”, señala Paqui Sánchez, en la puerta de la residencia. “Sí, siempre ayudaba en todo”, corrobora su compañera Paqui Fernández. Algunos de los ancianos a los que atendía Fina se enteraron de su fallecimiento por el telediario. “Claro, ven la tele y ahora están como más apagados y tristes”, añade la primera.\n",
      "\n",
      "Los dos hermanos eran solteros, sin hijos, y vivían juntos, cerca de la residencia, del colegio Gloria Fuertes, del cuartel de la Guardia Civil del pueblo y de un Mercadona, donde solían ir a comprar. “Venían casi todos los días. Siempre amables. Si te veía apurado en la caja, él, que estaba jubilado, te decía: ‘tranquilo, que no tengo ninguna prisa’. Cuando vi su foto y supe que era el que se había muerto me quedé flipado”, recuerda Salva, encargado del supermercado. Se les veía con frecuencia juntos, como el día en que perdieron la vida.\n",
      "----------------------------------------------------------------------------------------------------\n",
      "\n",
      "\n",
      "sim = 0.4447\n",
      "Title: Un apagón deja sin luz a Tenerife \n",
      "\n",
      "Text: El suministro eléctrico en Tenerife ha comenzado a restablecerse tras el apagón que ha sufrido la isla este domingo, informa Endesa. Unos 40.000 clientes disponen ya de fluido eléctrico, aunque se tardará varias horas en restablecer el sistema. Un incidente, se especula que la caída de un rayo, en la subestación de Granadilla de Abona perteneciente a Red Eléctrica ha sido la causa del apagón.\n",
      "\n",
      "Endesa ha indicado a Efe que se han revisado todas las centrales eléctricas dependientes de esa compañía y todas funcionan con normalidad y no hay ninguna incidencia en ellas.\n",
      "\n",
      "Fuentes del Centro Coordinador de Emergencias y Seguridad 112 del Gobierno de Canarias afirman que recibieron la alerta del apagón en torno a las 13.12 horas. Los bomberos han intervenido en más de 30 incidentes en ascensores del área metropolitana..\n",
      "\n",
      "El tráfico aéreo no está afectado por el apagón que sufre la isla de Tenerife y las operaciones se mantienen con normalidad, según un portavoz de Aena. Los aeropuertos están operando con grupos electrógenos.\n",
      "\n",
      "La alcaldesa de Santa Cruz de Tenerife, Patricia Hernández, indicaba a las 15:10 en su cuenta de Twitter que el suministro tardaría en restablecerse unas seis horas, según le ha dicho Endesa.\n",
      "\n",
      "La Policía Local de Santa Cruz de Tenerife está movilizando efectivos para facilitar el tráfico ante la falta de semáforos. El Tranvía de Tenerife está recuperando paulatinamente el servicio.\n",
      "----------------------------------------------------------------------------------------------------\n",
      "\n",
      "\n",
      "sim = 0.4438\n",
      "Title: Un hombre degüella a su expareja en presencia de su hija de 11 años en Dénia \n",
      "\n",
      "Text: Una mujer de 44 años ha muerto este martes en Dénia (Alicante), tras ser degollada por su expareja, de 54, en presencia de la hija de 11 años de ambos, según fuentes de la investigación. El presunto asesino, que tenía orden de alejamiento, ha sido detenido. Se trata de la tercera mujer asesinada en tres días.\n",
      "\n",
      "\n",
      "\n",
      "El asesinato se ha producido esta madrugada en la vivienda de la mujer, en la avenida de Valencia, donde sobre las 4.30 el agresor ha accedido a través del balcón utilizando una escalera. La niña llamó a los servicios de emergencia para alertar de que su madre estaba siendo agredida. Pocos instantes antes, se había producido un primer aviso telefónico de socorro por parte de una vecina, al escuchar los gritos de la víctima.\n",
      "\n",
      "Cuando llegaron los primeros agentes de la Policía Nacional, la local y una ambulancia, la mujer ya había muerto a causa de un corte profundo en el cuello con un arma blanca. El supuesto autor fue detenido en la misma vivienda, y ha sido trasladado a los calabozos de la comisaría de Dénia.\n",
      "\n",
      "La mujer denunció al hombre el pasado 1 de octubre y había en vigor una orden de alejamiento, según fuentes de la investigación citadas por Europa Press. Ambos son de nacionalidad rusa.\n",
      "\n",
      "A falta de la confirmación oficial de que se trata de un crimen machista, en lo que va de año, 47 mujeres han sido asesinadas por sus parejas o exparejas, y otros cuatro casos permanecen en investigación, entre ellos el de la joven de 25 años que apareció muerta este domingo en Vic (Barcelona), y cuya expareja fue detenida por los mossos. Otra mujer fue asesinada ese día por su pareja, que se suicidó posteriormente, en La Zubia (Granada).\n",
      "\n",
      "El asesinato de este martes en Dénia elevaría a 1.023 el número de víctimas mortales por esta causa desde que comenzaron a registrarse las estadísticas en 2003. Además, en lo que va de año, y sin contar este caso, la violencia machista ha dejado a 34 menores huérfanos.\n",
      "\n",
      "El 016 atiende a todas las víctimas de violencia machista las 24 horas del día. Una llamada que no deja rastro en la factura, si bien hay que borrarla del registro de llamadas del teléfono móvil.\n",
      "----------------------------------------------------------------------------------------------------\n",
      "\n",
      "\n",
      "sim = 0.4434\n",
      "Title: Territorios amenazados por la subida del nivel de los océanos \n",
      "\n",
      "Text: Grandes metrópolis como Nueva York, islas canadienses bañadas por el Atlántico, países con tradición de defenderse de las aguas como Holanda o zonas de Senegal, donde ya hay desplazados climáticos, se enfrentan a una subida del nivel del mar. Este incremento es uno de los efectos más evidentes del cambio climático, contra el que una parte importante de la comunidad internacional intentará conjurarse dentro de una semana en Nueva York en una cumbre auspiciada por la ONU. El deshielo del Ártico y los glaciares por el calentamiento se ha unido el urbanismo descontrolado en muchas zonas del planeta. Algunas ciudades y regiones ya se mueven para no ser engullidas.\n",
      "\n",
      "Nueva York planta cara\n",
      "\n",
      "La crecida que acompañó a la tempestad Sandy en 2012 expuso los puntos más vulnerables de la ciudad de los rascacielos. En marzo se presentó un plan urbanístico para proteger a la zona baja de Manhattan de las crecidas, que incluye entre otras medidas crear un dique de contención y expandir el terreno hacia el río en Wall Street, con un coste estimado de 10.000 millones de dólares (8.963,4 millones de euros). Los estudios científicos revelan que el 37% de la zona puede sufrir inundaciones en 2050 si se siguen acelerando los efectos del cambio climático. El nivel del mar subirá casi dos metros para 2100.\n",
      "\n",
      "El plan incluye elevar varios parques que bordean la isla de Manhattan y desarrollar soluciones técnicas que se podrán utilizar en las tormentas. Pero, incluso con estas iniciativas, el distrito financiero todavía no estaría suficientemente protegido de las crecidas. El 30% de la zona quedaría expuesta. Para ello habría que ganar de nuevo terreno al río. Técnicamente se tendrían que expandir las orillas, el equivalente a dos bloques de edificios. Así se crearía una nueva parcela de terreno elevada, que estaría seis metros por encima del nivel del mar. La idea es que el proceso de planificación por parte de los ingenieros esté completado en 2021. Las otras iniciativas en marcha incluyen un rompeolas para proteger Staten Island y dunas artificiales en las playas de los Rockaways, en Queens.\n",
      "\n",
      "Diques en Holanda\n",
      "\n",
      "Holanda está atravesada por grandes ríos como el Rin, el Mosa y el Escalda, y la protegen una red de diques, ya que un 59% de su territorio sufre riesgo de inundación, un 26% está bajo el nivel del mar y un 29% se puede anegar si los ríos se desbordan. Además, las barreras no resguardan al 4% de la tierra en peligro. Con un aumento de temperatura de dos grados el Mar del Norte podría crecer entre uno y dos metros, según la comisión que gestiona el Plan Delta, que aborda la amenaza del agua.\n",
      "\n",
      "ampliar foto Torre de observación de la barrera Afsluitdijk. WikiCommons\n",
      "\n",
      "Semejante subida supondría cerrar, tal vez de forma permanente, las barreras contra el mar. Levantadas al sur y suroeste del país, se construyeron tras la inundación de 1953, que causó 1.800 muertes. Entre las ideas barajadas hoy figura dejar una cierta entrada a las mareas para que los sedimentos refuercen la costa y mantener los diques marítimos y hacer más resistentes los diques fluviales. Para proteger los márgenes de los ríos se puede rebajar el lecho fluvial en algunos tramos para que el cauce soporte más agua. O permitir inundaciones controladas en zonas de pasto. Y está previsto reforzar la barrera que cierra el Zuiderzee (Mar del Sur), al noroeste del país, con 75.000 bloques de cemento en el agua, de 6.500 kilos cada uno.\n",
      "\n",
      "Desplazados en Senegal\n",
      "\n",
      "En los últimos cinco años, unas 300 viviendas de la costa de Saint Louis, una bella ciudad de arquitectura colonial y la más amenazada por la subida del mar de toda África occidental, se han visto destruidas o dañadas por un océano que hace 50 años estaba a decenas de metros y que hoy llama a sus puertas.\n",
      "\n",
      "ampliar foto 'Pirogues' en el río Senegal, en Saint Louis. Rafael Pola\n",
      "\n",
      "En Goxu Bathe, Thierno Gueye señala las obras de un dique de tres metros de altura que atraviesa la playa a lo largo de dos kilómetros. “Esto no servirá para nada”, asegura. Es una obra de urgencia cofinanciada por los Gobiernos senegalés y francés. Basta un simple vistazo a las habitaciones derruidas de decenas de casas o a la escuela de Guet Ndar para comprender la desconfianza. Tierra adentro, en Djougop, 580 personas recibieron el lunes las llaves de sus casas provisionales, tras pasar más de tres años en unas tiendas en pésimas condiciones en Khar Yalla. Son los primeros desplazados por la erosión costera que han sido realojados. En los próximos meses está previsto que comiencen las obras de sus casas definitivas. El Banco Mundial prevé trasladar aquí a 10.000 personas, un ambicioso plan con un coste de 24,4 millones de euros.\n",
      "\n",
      "Si el cambio climático ha desempeñado su papel, muchos ciudadanos creen que el problema se ha agravado tras abrir una brecha artificial, en 2003, para dar salida al mar al río Senegal ante el riesgo grave de desaparición de la isla sobre la que se asienta la ciudad. Esto cambió la dinámica del flujo de arena y de la desembocadura del río y ha provocado inundaciones al sur, en Gandiol.\n",
      "\n",
      "Las islas en Canadá\n",
      "\n",
      "El país se está calentando en promedio dos veces más que el resto del orbe, apuntó un informe presentado en abril del Ministerio del Medio Ambiente y del Ministerio de Pesca y Océanos de Canadá. Los pueblos indígenas son, hasta el momento, los principales afectados. Uno de los ejemplos más graves es la isla Lennox, en la provincia de la Isla del Príncipe Eduardo, donde viven unos 450 miembros de la nación Micmac. Las aguas atlánticas ya han devorado más de 5.000 metros cuadrados allí y, según científicos de la Universidad de la Isla del Príncipe Eduardo, el 50% del total de su superficie podría desaparecer en menos de 50 años. Su falta de costas rocosas —predomina la arena y la arenisca— y su baja altura provocan que sea presa fácil de la erosión, pero los investigadores subrayan que el cambio climático está acelerando el proceso.\n",
      "\n",
      "Los Micmac han recibido financiación para realizar evaluaciones y crear un plan de emergencia; han construido con sus propias manos barreras, por ejemplo, para proteger el cementerio. El problema es que el material rocoso para dichas barreras escasea en la isla y transportarlo desde otros lugares tendría grandes costos y, tarde o temprano, el mar vencerá. Parece que la solución a medio plazo será que sus pobladores se muden a zonas de la isla alejadas de las costas.\n",
      "----------------------------------------------------------------------------------------------------\n",
      "\n",
      "\n",
      "sim = 0.4433\n",
      "Title: Normalidad en El Prat mientras Renfe reanuda el servicio de AVE a Girona \n",
      "\n",
      "Text: El Ministerio de Fomento informó este martes de que el aeropuerto Josep Tarradellas Barcelona-El Prat está este martes plenamente operativo, aunque no ocurre lo mismo con en el AVE, puesto que todavía no se ha podido reparar ninguna de las dos vías de alta velocidad en Girona que resultaron dañadas durante la quema de objetos que se produjo ayer en el marco de las protestas independentistas.\n",
      "\n",
      "Por otro lado, Fomento señala que ayer, pese a las circunstancias vividas en el aeropuerto de Barcelona, se operaron el 90% de los despegues y aterrizajes, alrededor de 800 vuelos. Por ello, el departamento dirigido por José Luis Abalos, indica que los vuelos operados ayer \"permite señalar que no es lo mismo cortar una calle u ocupar algunas zonas, que bloquear un aeropuerto\", lo que intento el movimiento denominado Tsunami Democràtic.\n",
      "\n",
      "En cuanto al servicio de AVE de la línea Barcelona-Girona-Figueres, éste se ha restablecido parcialmente por una sola vía a las 08.45 horas de este martes, después de que ayer quedara fuera de servicio cuando manifestantes independentistas que protestaban por la sentencia del \"procés\" quemaron objetos en la vía. Renfe ha informado de que los ferrocarriles circulan por una vía con limitación de velocidad a su paso por la zona de vías afectadas por los objetos quemados.\n",
      "\n",
      "Por seguridad, un tren sin pasajeros está realizando el recorrido para comprobar la seguridad en este tramo, en el que se produjo un corte del tráfico y se levantaron barricadas durante la primera jornada de movilización contra la sentencia del \"procés\". La previsión es recuperar el servicio sobre las 09.45 horas desde Barcelona, una vez el primer ferrocarril vacío recorra todo el trayecto, y a las 11.00 horas reanudarlo desde Figueres (Girona).\n",
      "\n",
      "El AVE Barcelona-Madrid circula con normalidad, según las mismas fuentes. Asimismo, Renfe ha informado de que sobre las 09.10 horas se ha restablecido la circulación de las líneas de cercanías R1 y RG1 a su paso por Mataró (Barcelona), paralizada desde primeras horas de hoy, cuando un grupo de manifestantes han ocupado la vía.\n",
      "\n",
      "En cuanto al servicio AVE, sigue interrumpido entre Barcelona-Girona y Figueres. El servicio AVE desde Barcelona hacia Madrid se presta con normalidad. Además, desde el inicio del servicio un árbol cortado y caído sobre la catenaria entre Sant Miquel de Fluvià y Flaçà interrumpe la circulación de trenes de las líneas R11 y RG1 de Rodalies de Cataluña. El primer tren Lleida-Cervera se realiza por carretera debido a los problemas derivados del corte de ayer en la zona de Vilaseca.\n",
      "\n",
      "Adif explicó ayer que la circulación ferroviaria en Cataluña se había visto afectada por \"invasiones de manifestantes\" y \"actos vandálicos\" en las vías ferroviarias. Como resultado de ello, se suspendió desde primera hora de la tarde el servicio de alta velocidad entre Barcelona y Figueres Vilafant. Primero porque el personal de seguridad detectó \"la intrusión de personas no autorizadas\". Y, después, porque los manifestantes prendieron fuego \"a barricadas sobre la infraestructura\" y tuvieron que intervenir los servicios de extinción de incendios.\n",
      "\n",
      "Listas electorales\n",
      "\n",
      "Por otro lado, el Boletín Oficial del Estado (BOE) publica este martes las listas electorales definitivas que concurrirán a las elecciones generales del 10 de noviembre, en las que ya no aparecen los condenados en la sentencia del 'procés', entre ellos Oriol Junqueras, al haber sido inhabilitados para ejercer cargo público.\n",
      "\n",
      "Junqueras, inicialmente designado como número uno de ERC por Barcelona al Congreso, ya no podrá ser candidato después de haber sido condenado a 13 años de prisión por los delitos de sedición en concurso con malversación e inhabilitado por el mismo tiempo de la condena.\n",
      "\n",
      "Así, el puesto número uno de ERC por Barcelona al Congreso lo ocupa ahora Gabriél Rufián, según la lista publicada en el BOE, mientras que Raül Romeva, que era número uno de ERC por Barcelona para el Senado, es sustituido por Mirella Cortés i Gés.\n",
      "\n",
      "Tampoco aparecen en las listas que publica el BOE Jordi Sànchez (que encabezaba la candidatura de Junts por Barcelona al Congreso), Jordi Turull (que iba de número uno por Lleida al Congreso) y Josep Rull y Joaquim Forn, quienes anteriormente figuraban como cabezas de lista de Junts al Congreso por Tarragona y Girona, respectivamente.\n",
      "\n",
      "En las candidaturas definitivas de Junts, Laura Borràs será la número uno al Congreso por Barcelona, en lugar de Sánchez; Mariona Illamola Dausà encabeza la candidatura al Congreso por Girona de este partido, y en Lleida el primer puesto de la lista lo ocupa Concepció Cañadell Salvia.\n",
      "\n",
      "Por último, Ferrán Bel i Accensi concurre como número uno de Junts al Congreso por Tarragona, puesto que antes ocupaba Josep Rull.\n",
      "----------------------------------------------------------------------------------------------------\n",
      "\n",
      "\n",
      "sim = 0.4432\n",
      "Title: El calor de octubre bate 11 récords de temperatura en Extremadura, Castilla-La Mancha y Castilla y León \n",
      "\n",
      "Text: El calor de octubre está siendo de récord en España: hasta 11 estaciones de la Agencia Estatal de Meteorología (Aemet) midieron este martes registros históricos. En un grupo seleccionado de unos 200 observatorios de la red principal y automáticos —los de máxima fiabilidad dentro de los más de 2.000 existentes— se superó la temperatura máxima para este mes en tres: Badajoz aeropuerto (34,6 grados), Zamora (29,9) y la localidad guadalajareña de Molina de Aragón (28,4).\n",
      "\n",
      "#DatosAEMET Otros récords en estaciones de la red principal y automáticas seleccionadas: Ayer se superó la t.🌡️máx. para el mes de octubre para el periodo de referencia en #Zamora, #MolinadeAragón y #Badajoz, aunque en 2017 y 2018 se han alcanzado registros aún mayores pic.twitter.com/W1BGHrlIkS — AEMET (@AEMET_Esp) October 9, 2019\n",
      "\n",
      "Esto no quiere decir que nunca haya hecho tanto calor en estos puntos en octubre como ayer, aclara sin restar relevancia a los datos una de las portavoces de la Aemet, Delia Gutiérrez: \"Se trata de récords absolutos mensuales del periodo de referencia climatológico, que va de 1981 a 2010, aunque en meses de octubre más recientes los termómetros llegaron a cifras aún mayores en dichas estaciones, lo que apunta una vez más al progresivo alargamiento de los veranos\".\n",
      "\n",
      "En Badajoz, por ejemplo, \"no se habían superado en 30 años unos valores que sí se han alcanzado el año pasado, el anterior y este\", destaca Gutiérrez. Así la máxima más alta de octubre en la ciudad extremeña se registró el 6 de octubre de 2017 y fue de 35,8 grados.\n",
      "\n",
      "En Molina de Aragón (Guadalajara), que forma parte del llamado triángulo del frío español junto con zonas limítrofes de Teruel y Castellón y donde invierno tras invierno se sufren las temperaturas más heladoras del país, se llegó a 30 grados el 12 de octubre de 2011. En Zamora, la máxima posterior a la serie de referencia es de 32,6 en octubre de 2017. \"Es muy notorio que todos estos extremos se hayan producido en fechas recientes, indicativo de la situación actual y consecuencia del calentamiento climático\", se lamenta la portavoz.\n",
      "\n",
      "Por su parte, la sede extremeña de la Aemet ha analizado los datos de sus 50 estaciones automáticas y ha añadido a estos tres récords ocho más: Jerez de los Caballeros (36,6ºC), Zafra (34,3), Guadalupe (32,9), Fregenal de la Sierra (33,6), Peraleda de Zaucejo (33,4), Fuente de Cantos (33), Monesterio (31,4) y Almendralejo (34,2). En este caso, \"sí se trata de las temperaturas más altas registradas en octubre\", destaca Marcelino Núñez, delegado de la Aemet en la comunidad.\n",
      "\n",
      "Núñez no considera este fenómeno llamativo porque en la región es habitual que \"el verano no acabe de cerrarse y se prolongue\", pero sí lo es que \"cada vez sea más frecuente, con valores más altos y con récords que se baten en pocos años\". En Extremadura, el verano fue \"suave, una delicia\", pero el delegado, con 30 años de experiencia, recuerda con pavor el de 2018, en el que se marcaron 45 grados en Badajoz y en Navalmoral de la Mata. \"Los 45 parecían inalcanzables y ya están aquí\", subraya. La buena noticia es que \"el punto más álgido del episodio ya ha pasado\" y para este miércoles se esperan temperaturas algo más bajas. \"Irán bajando un grado por día hasta el final de semana\", anuncia.\n",
      "\n",
      "#EsNoticiaAemetExtremadura\n",
      "\n",
      "Ayer, 8 de octubre de 2019, ha sido una jornada histórica en lo meteorológico en #Extremadura.\n",
      "\n",
      "Se ha alcanzado, en 8 estaciones, la temperatura más alta jamás registrada en un mes de octubre. pic.twitter.com/3JSQHqnOEc — AEMET_Extremadura (@AEMET_Ext) October 9, 2019\n",
      "\n",
      "Los valores de estos días no es que sean elevados para octubre, es que son propios de pleno verano. \"En Badajoz, la temperatura media en julio es de 35 grados, en Zamora hace un calor que es habitual a finales de agosto y en Molina, de la segunda quincena de agosto\", detalla Gutiérrez.\n",
      "\n",
      "\n",
      "\n",
      "\"Estamos viendo máximas muy anómalas, que en el interior peninsular —desde Castilla y León al oeste de Aragón, Castilla-La Mancha e interior de Andalucía y Extremadura— están entre siete y once grados por encima de sus valores normales\", precisa la experta. En cambio, las mínimas, aunque también altas, están más cercanas a los valores habituales. \"Como todavía no tenemos la capacidad de alterar la situación astronómica, los días son más cortos, un factor que hace que las temperaturas sí que bajen de noche\", ironiza la portavoz.\n",
      "\n",
      "La #Canícula invade octubre. Al menos en #Extremadura: los más de 36°C medidos ayer en #Badajoz se corresponden con las temperaturas máximas habituales en dicha ciudad en el período más cálido del año (línea discontinua roja en el gráfico inferior)\n",
      "\n",
      "👇 pic.twitter.com/MpiM76YJaR — Rubén del Campo (@Rub_dc) October 9, 2019\n",
      "\n",
      "Este año, hablar del popular veranillo de San Miguel —que en Estados Unidos llaman Indian Summer y en los países de habla alemana Altweibersommer— se queda muy corto, ya que está siendo más bien un veranazo. \"El concepto de veranillo no existe en meteorología, pero el saber popular habla de unos días frescos en torno a la festividad, que se celebra el 29 de septiembre, y que, si se analizan los datos, son relativamente habituales\", explica la experta.\n",
      "\n",
      "Sin embargo, este año no hemos visto aún el otoño. \"No es que haya habido un refrescamiento de las temperaturas lógico de esta época y luego unos días más suaves que interrumpen la tendencia, lo que sería un veranillo, sino que estamos ante una prolongación del verano. Que un 9 de octubre tengamos estas temperaturas no es normal, como reflejan los valores promedio y los récords\", aclara.\n",
      "\n",
      "Incluso en Canarias está siendo un principio de octubre muy cálido. \"Las tres temperaturas más altas del país en lo que llevamos de mes se han medido en la provincia de Las Palmas y han superado los 36,5 grados\", añade.\n",
      "\n",
      "#MolinadeAragon situada en el #triangulofrioespañol ayer, 8 de octubre, registro una EFEMERIDES DE TEMPERATURA MÁXIMA con 28,4 grados. Supero los 28,2ºC del 4 de octubre de 2004. @AEMET_Esp, @AEMET_Aragon pic.twitter.com/JJbkzjBVfv — AEMET_Cast-La Mancha (@AEMET_CLaMancha) October 9, 2019\n",
      "\n",
      "Los modelos de predicción apuntan a que las temperaturas que \"seguirán por encima de lo normal\" hasta finales de mes, aunque se espera que, según avance octubre, se vaya reduciendo la anomalía con respecto a los valores normales. \"La próxima semana puede haber un cierto cambio del tiempo y, aunque las temperaturas seguirán altas, no será tanto como esta semana. La cuarta semana de octubre será cálida y la quinta no tiene una tendencia definida, lo que no quiere decir que vaya a ser más fría, pero está abierta la puerta\", avanza la portavoz.\n",
      "\n",
      "Para este fin de semana, se espera un ligero alejamiento del anticiclón que lleva varado desde hace tres semanas al oeste de la Península y que es el causante de este calor anómalo. El movimiento permitirá la entrada de aire fresco, lo que traerá un ligero alivio de las temperaturas y algo de lluvia. \"Un frente se acercará por Galicia a partir del viernes y el sábado y barrerá la Península el domingo y el lunes\", vaticina la experta, que destaca que sus efectos en forma de chubascos se notarán más en zonas montañosas del norte y del oeste. Sin embargo, las lluvias llegarán debilitadas al resto del país.\n",
      "----------------------------------------------------------------------------------------------------\n",
      "\n",
      "\n",
      "sim = 0.4432\n",
      "Title: Vídeo: Un puente se derrumba en Taiwán y deja al menos 14 heridos \n",
      "\n",
      "Text: El puente Nanfang’ao tras el derrumbe de este martes. En vídeo, imágenes de la estructura colapsando. AP\n",
      "\n",
      "Al menos 14 personas resultaron heridas este martes al derrumbarse el puente Nanfang’ao, en el distrito taiwanés de Su’ao, ubicado en la parte norte de la isla. Según la Agencia Nacional de Bomberos de Taiwán, al menos seis personas continúan atrapadas en un barco de pesca que quedó debo de los escombros. Más de 60 militares y personal naval participan en las labores de rescate.\n",
      "\n",
      "\"Esta es una operación de rescate complicada. Estuvimos en consulta con expertos estructurales, así como con expertos en construcción de barcos, y por lo tanto nos ha llevado más tiempo. Estamos haciendo nuestro mejor esfuerzo\", ha dicho el Hsu Song-yi, jefe del departamento de bomberos.\n",
      "\n",
      "Las autoridades aún no han confirmado las causas del derrumbe del puente que conectaba distintas dársenas del Puerto de Pesca de Nanfang'ao. No obstante, los medios locales apuntan al tifón Mitag, que el lunes pasó por la isla, como el culpable de la catástrofe.\n",
      "----------------------------------------------------------------------------------------------------\n"
     ]
    }
   ],
   "source": [
    "print('Query:')\n",
    "print(sent)\n",
    "print(len(sent)*\"#\")\n",
    "for i in range(num_best):\n",
    "    print(\"\\n\")\n",
    "    print('sim = {:.4}'.format(sims[i][1]))\n",
    "    print(\"Title: {} \\n\\nText: {}\".format(df_subsampled.iloc[sims[i][0], 1],\n",
    "                                          df_subsampled.iloc[sims[i][0], 2]))\n",
    "    print(100*\"-\")"
   ]
  }
 ],
 "metadata": {
  "kernelspec": {
   "display_name": "Python 3",
   "language": "python",
   "name": "python3"
  },
  "language_info": {
   "codemirror_mode": {
    "name": "ipython",
    "version": 3
   },
   "file_extension": ".py",
   "mimetype": "text/x-python",
   "name": "python",
   "nbconvert_exporter": "python",
   "pygments_lexer": "ipython3",
   "version": "3.7.6"
  }
 },
 "nbformat": 4,
 "nbformat_minor": 2
}
