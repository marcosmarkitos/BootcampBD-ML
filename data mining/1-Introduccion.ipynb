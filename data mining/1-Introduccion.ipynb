{
 "cells": [
  {
   "cell_type": "markdown",
   "metadata": {},
   "source": [
    "# Introducción\n",
    "\n",
    "\n",
    "![](img/Diagrama.jpg)"
   ]
  },
  {
   "cell_type": "markdown",
   "metadata": {},
   "source": [
    "# Bibliografía\n",
    "\n",
    "**Deep Learning**, Ian Goodfellow\n",
    "http://www.deeplearningbook.org/\n",
    "\n",
    "**Pattern Recognition and Machine Learning**, M.Bishop: \n",
    "http://users.isr.ist.utl.pt/~wurmd/Livros/school/Bishop%20-%20Pattern%20Recognition%20And%20Machine%20Learning%20-%20Springer%20%202006.pdf\n"
   ]
  },
  {
   "cell_type": "markdown",
   "metadata": {},
   "source": [
    "# Aprendizaje máquina vs Minería de Datos vs Estadística\n",
    "\n",
    "\n",
    "## Estadística\n",
    "\n",
    "En estadística vimos como realizar un análisis exploratorio de datos. Sabemos usar:\n",
    "* Histogramas/Curvas de probabilidad/Kernel density estimation\n",
    "* Diagramas de cajas (Boxplot)\n",
    "* Comparar poblaciones: Tests estadísticos\n",
    "* Entender como afectan una o varias variables a nuestros datos: Test estadísticos y regresiones\n",
    "\n",
    "Siempre analizabamos el 100% de nuestros datos. Obteníamos una descripción detallada de nuestra población.\n",
    "No haciamos predicciones\n",
    "\n",
    "## Minería de datos\n",
    "\n",
    "Utilizado para extraer información, conocimiento, útil de los datos en bruto.\n",
    "\n",
    "## Aprendizaje máquina\n",
    "\n",
    "En el aprendizaje máquina tenemos algoritmos que dados unos datos de entrada, es capaz de *aprender* como se comportan esos datos en función de los parámetros de entrada. \n",
    "\n",
    "El objetivo **no** es entender como afecta una variable o varias variables a nuestros datos.\n",
    "\n",
    "El **objetivo** es **generalizar** el problema. Cuando llegue una variable con un valor que no ha visto nunca antes, es capaz de hacer una **estimación** lo suficientemente correcta."
   ]
  },
  {
   "cell_type": "markdown",
   "metadata": {},
   "source": [
    "### Aprendizaje supervisado\n",
    "\n",
    "\n",
    "En el aprendizaje supervisado nosotros enseñamos entradas y salidas. \n",
    "\n",
    "El algoritmo creará una **función** a partir de esos ejemplos. Este proceso se llama **entrenamiento**. El entrenamiento donde el algoritmo aprende.\n",
    "\n",
    "Cuando le damos **datos nuevos**, una **función entrenada** nos dará el resultado correcto. \n",
    "\n",
    "\n",
    "![](./img/CajaNegra.png)\n",
    "\n"
   ]
  },
  {
   "cell_type": "markdown",
   "metadata": {},
   "source": [
    "#### Ejemplo de aprendizaje supervisado\n",
    "\n",
    "Recordemos de estadística lo que era una regresión lineal:\n",
    "\n",
    "Es un modelo matemático usado para aproximar la relación de dependencia entre una variable dependiente $Y$, las variables independientes $X_i$ y un término aleatorio $\\varepsilon$. Este modelo puede ser expresado como:\n",
    "\n",
    "\\\\[\n",
    "Y=\\beta_1 X_1+\\beta_2 X_2+\\cdots +\\beta_p X_p+\\varepsilon = \\sum \\beta_k X_k+\\varepsilon\n",
    "\\\\]\n",
    "\n",
    "Un modelo de aprendizaje supervisado va a aprender de unos ejemplos que le pasemos de la forma más general posible. Así la próxima vez que le mostremos datos nuevos dará un resultado confiable."
   ]
  },
  {
   "cell_type": "code",
   "execution_count": 1,
   "metadata": {},
   "outputs": [],
   "source": [
    "library(\"dslabs\")"
   ]
  },
  {
   "cell_type": "markdown",
   "metadata": {},
   "source": [
    "Vamos a simular que soltamos un objeto desde lo alto de la torre de Pisa (55.86m) y medimos la distancia hasta al suelo que ese objeto presenta pasados $t$ segundos.\n",
    "\n",
    "Evientemente, nuestras medidas tendrán un error, por eso vamos a tomar varias medidas y repetir el experimento varias veces."
   ]
  },
  {
   "cell_type": "code",
   "execution_count": 2,
   "metadata": {},
   "outputs": [
    {
     "data": {
      "text/html": [
       "<table>\n",
       "<caption>A data.frame: 6 × 2</caption>\n",
       "<thead>\n",
       "\t<tr><th></th><th scope=col>time</th><th scope=col>observed_distance</th></tr>\n",
       "\t<tr><th></th><th scope=col>&lt;dbl&gt;</th><th scope=col>&lt;dbl&gt;</th></tr>\n",
       "</thead>\n",
       "<tbody>\n",
       "\t<tr><th scope=row>1</th><td>0.0000000</td><td>55.59265</td></tr>\n",
       "\t<tr><th scope=row>2</th><td>0.3611111</td><td>54.52492</td></tr>\n",
       "\t<tr><th scope=row>3</th><td>0.7222222</td><td>52.32089</td></tr>\n",
       "\t<tr><th scope=row>4</th><td>1.0833333</td><td>50.18996</td></tr>\n",
       "\t<tr><th scope=row>5</th><td>1.4444444</td><td>46.06636</td></tr>\n",
       "\t<tr><th scope=row>6</th><td>1.8055556</td><td>40.81459</td></tr>\n",
       "</tbody>\n",
       "</table>\n"
      ],
      "text/latex": [
       "A data.frame: 6 × 2\n",
       "\\begin{tabular}{r|ll}\n",
       "  & time & observed\\_distance\\\\\n",
       "  & <dbl> & <dbl>\\\\\n",
       "\\hline\n",
       "\t1 & 0.0000000 & 55.59265\\\\\n",
       "\t2 & 0.3611111 & 54.52492\\\\\n",
       "\t3 & 0.7222222 & 52.32089\\\\\n",
       "\t4 & 1.0833333 & 50.18996\\\\\n",
       "\t5 & 1.4444444 & 46.06636\\\\\n",
       "\t6 & 1.8055556 & 40.81459\\\\\n",
       "\\end{tabular}\n"
      ],
      "text/markdown": [
       "\n",
       "A data.frame: 6 × 2\n",
       "\n",
       "| <!--/--> | time &lt;dbl&gt; | observed_distance &lt;dbl&gt; |\n",
       "|---|---|---|\n",
       "| 1 | 0.0000000 | 55.59265 |\n",
       "| 2 | 0.3611111 | 54.52492 |\n",
       "| 3 | 0.7222222 | 52.32089 |\n",
       "| 4 | 1.0833333 | 50.18996 |\n",
       "| 5 | 1.4444444 | 46.06636 |\n",
       "| 6 | 1.8055556 | 40.81459 |\n",
       "\n"
      ],
      "text/plain": [
       "  time      observed_distance\n",
       "1 0.0000000 55.59265         \n",
       "2 0.3611111 54.52492         \n",
       "3 0.7222222 52.32089         \n",
       "4 1.0833333 50.18996         \n",
       "5 1.4444444 46.06636         \n",
       "6 1.8055556 40.81459         "
      ]
     },
     "metadata": {},
     "output_type": "display_data"
    }
   ],
   "source": [
    "data_train<-rfalling_object(n = 10)[c(\"time\",\"observed_distance\")]\n",
    "head(data_train)"
   ]
  },
  {
   "cell_type": "code",
   "execution_count": 3,
   "metadata": {},
   "outputs": [],
   "source": [
    "data_train<-rbind(data_train,rfalling_object(n = 5)[c(\"time\",\"observed_distance\")])\n",
    "data_train<-rbind(data_train,rfalling_object(n = 7)[c(\"time\",\"observed_distance\")])\n",
    "data_train<-rbind(data_train,rfalling_object(n = 20)[c(\"time\",\"observed_distance\")])"
   ]
  },
  {
   "cell_type": "code",
   "execution_count": null,
   "metadata": {},
   "outputs": [],
   "source": []
  },
  {
   "cell_type": "code",
   "execution_count": null,
   "metadata": {},
   "outputs": [],
   "source": []
  },
  {
   "cell_type": "markdown",
   "metadata": {},
   "source": [
    "En este caso estamos tratando de mejorar el error cuadrático medio:\n",
    "\n",
    "Estamos tratando de minimizar la función de error."
   ]
  },
  {
   "cell_type": "code",
   "execution_count": null,
   "metadata": {},
   "outputs": [],
   "source": [
    "sqrt(mean((data_train$observed_distance-model$fitted.values)^2))"
   ]
  },
  {
   "cell_type": "markdown",
   "metadata": {},
   "source": [
    "La próxima vez que tengamos datos nuevos, podremos realizar una estimación del resultado esperado."
   ]
  },
  {
   "cell_type": "code",
   "execution_count": null,
   "metadata": {},
   "outputs": [],
   "source": [
    "data_test<-data.frame(time=c(1,3,5))"
   ]
  },
  {
   "cell_type": "markdown",
   "metadata": {},
   "source": [
    "Pero atentos, el modelo solo puede generalizar cuando los datos son parecidos a los que hemos visto. \n",
    "\n",
    "Aquí el modelo falla en predecir que una vez que el objeto toca el suelo no va a seguir cayendo."
   ]
  },
  {
   "cell_type": "markdown",
   "metadata": {},
   "source": [
    "### Aprendizaje NO supervisado \n",
    "\n",
    "Encuentra estructuras en los datos sin necesidad de intervención externa.\n",
    "\n",
    "Nos puede servir para agrupar datos por similitud."
   ]
  },
  {
   "cell_type": "code",
   "execution_count": null,
   "metadata": {},
   "outputs": [],
   "source": [
    "head(olive)"
   ]
  },
  {
   "cell_type": "code",
   "execution_count": null,
   "metadata": {},
   "outputs": [],
   "source": [
    "library(GGally)\n",
    "options(repr.plot.height=4,repr.plot.width=8)\n",
    "ggpairs(olive[,c(\"palmitic\",\"palmitoleic\",\"stearic\",\"oleic\",\"linoleic\",\"linolenic\",\"arachidic\",\"eicosenoic\")],\n",
    "       lower = list(continuous = wrap(\"points\", alpha = 0.3,size=0.1,color='blue'))\n",
    "       )"
   ]
  }
 ],
 "metadata": {
  "kernelspec": {
   "display_name": "R",
   "language": "R",
   "name": "ir"
  },
  "language_info": {
   "codemirror_mode": "r",
   "file_extension": ".r",
   "mimetype": "text/x-r-source",
   "name": "R",
   "pygments_lexer": "r",
   "version": "3.6.0"
  }
 },
 "nbformat": 4,
 "nbformat_minor": 2
}
