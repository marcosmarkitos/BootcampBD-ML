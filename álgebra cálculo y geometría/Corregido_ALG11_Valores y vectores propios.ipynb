{
 "cells": [
  {
   "cell_type": "markdown",
   "metadata": {},
   "source": [
    "# 11. Valores y vectores propios"
   ]
  },
  {
   "cell_type": "markdown",
   "metadata": {},
   "source": [
    "# Valores y vectores propios\n"
   ]
  },
  {
   "cell_type": "markdown",
   "metadata": {},
   "source": [
    "\n",
    "Un **vector propio** de una matriz A de n × n es un vector x diferente de cero tal que Ax = λx para algún escalar λ.  \n",
    "Un escalar λ se llama **valor propio** de A si existe una solución no trivial x de Ax = λx.  \n",
    "Una x como ésta se denomina **vector propio correspondiente a λ**.  \n",
    "\n",
    "<span style=\"color:orange\"> Ejemplo:  \n",
    "Sean $\n",
    "  A=\n",
    "  \\left[ {\\begin{array}{cc}\n",
    "   1 & 6 \\\\\n",
    "   5 & 2 \\\\\n",
    "  \\end{array} } \\right], u= \\left[ {\\begin{array}{cc}\n",
    "   6 \\\\\n",
    "   -5 \\\\\n",
    "  \\end{array} } \\right] y  v= \\left[ {\\begin{array}{cc}\n",
    "   3 \\\\\n",
    "   -2 \\\\\n",
    "  \\end{array} } \\right]\n",
    "$. Vamos a calcular las imágenes de **u** y  **v** por **A**.</style>     "
   ]
  },
  {
   "cell_type": "code",
   "execution_count": 13,
   "metadata": {},
   "outputs": [
    {
     "data": {
      "text/plain": [
       "matrix([[-24],\n",
       "        [ 20]])"
      ]
     },
     "execution_count": 13,
     "metadata": {},
     "output_type": "execute_result"
    }
   ],
   "source": [
    "import numpy as np\n",
    "A=np.matrix([\n",
    "    [1,6],\n",
    "    [5,2]\n",
    "])\n",
    "u=np.matrix([\n",
    "    [6],\n",
    "    [-5]\n",
    "])\n",
    "A*u\n",
    "# Si nos fijamos, A*u = -4*u"
   ]
  },
  {
   "cell_type": "code",
   "execution_count": 14,
   "metadata": {},
   "outputs": [
    {
     "data": {
      "text/plain": [
       "matrix([[-9],\n",
       "        [11]])"
      ]
     },
     "execution_count": 14,
     "metadata": {},
     "output_type": "execute_result"
    }
   ],
   "source": [
    "import numpy as np\n",
    "A=np.matrix([\n",
    "    [1,6],\n",
    "    [5,2]\n",
    "])\n",
    "v=np.matrix([\n",
    "    [3],\n",
    "    [-2]\n",
    "])\n",
    "A*v"
   ]
  },
  {
   "cell_type": "markdown",
   "metadata": {},
   "source": [
    "<span style=\"color:orange\"> Entonces u es un vector propio correspondiente a un valor propio (−4), pero v no es un vector propio de A porque Av no es un múltiplo de v.</style>  \n",
    "\n",
    "<span style=\"color:orange\"> Ejemplo:  \n",
    "Demostrar que 7 es un valor propio de $\n",
    "  A=\n",
    "  \\left[ {\\begin{array}{cc}\n",
    "   1 & 6 \\\\\n",
    "   5 & 2 \\\\\n",
    "  \\end{array} } \\right]$ y calcular los vectores propios correspondientes.  \n",
    "  El escalar 7 es un valor propio de A si, y sólo si, la ecuación A**x**=7**x** tiene una solución no trivial. Esto es equivalente a (A-7I)**x**=**0**</style> "
   ]
  },
  {
   "cell_type": "code",
   "execution_count": 15,
   "metadata": {},
   "outputs": [
    {
     "data": {
      "text/plain": [
       "matrix([[-6.,  6.],\n",
       "        [ 5., -5.]])"
      ]
     },
     "execution_count": 15,
     "metadata": {},
     "output_type": "execute_result"
    }
   ],
   "source": [
    "import numpy as np\n",
    "A=np.matrix([\n",
    "    [1,6],\n",
    "    [5,2]\n",
    "])\n",
    "A_7I=A-7*np.identity(2)\n",
    "A_7I"
   ]
  },
  {
   "cell_type": "markdown",
   "metadata": {},
   "source": [
    "<span style=\"color:orange\"> Las columnas de A-7I son linealmente dependientes, así que existen soluciones no triviales, luego 7 es un valor propio de A.  \n",
    "Los vectores de la forma (x<sub>2</sub>,x<sub>2</sub>) con x<sub>2</sub>≠0 son vectores propios correspondientes a λ = 7.</style>  \n",
    "\n",
    "<span style=\"color:orange\"> Ejemplo:  \n",
    "Sea $\n",
    "  A=\n",
    "  \\left[ {\\begin{array}{cc}\n",
    "   4 & -1 & 6\\\\\n",
    "   2 & 1 & 6 \\\\\n",
    "   2 & -1 & 8 \\\\\n",
    "  \\end{array} } \\right]$. Un valor propio de A es 2. Encuentre una base para el espacio propio correspondiente.</style>  "
   ]
  },
  {
   "cell_type": "code",
   "execution_count": 1,
   "metadata": {},
   "outputs": [
    {
     "data": {
      "text/plain": [
       "array([[ 2., -1.,  6.],\n",
       "       [ 2., -1.,  6.],\n",
       "       [ 2., -1.,  6.]])"
      ]
     },
     "execution_count": 1,
     "metadata": {},
     "output_type": "execute_result"
    }
   ],
   "source": [
    "import numpy as np\n",
    "A=([\n",
    "    [4,-1,6],\n",
    "    [2,1,6],\n",
    "    [2,-1,8]\n",
    "])\n",
    "A_2I=A-2*np.identity(3)\n",
    "A_2I"
   ]
  },
  {
   "cell_type": "markdown",
   "metadata": {},
   "source": [
    "<span style=\"color:orange\"> $2x_1-x_2+6x_3=0$  \n",
    "$x_1$=a  \n",
    "$x_3$=b  \n",
    "$x_2$=2a+6b</style>   \n",
    "\n",
    "<span style=\"color:orange\"> {(1,0,2),(0,1,6)} base</style>  "
   ]
  },
  {
   "cell_type": "markdown",
   "metadata": {},
   "source": [
    "Los valores propios de una matriz triangular son las entradas de su diagonal principal.  \n",
    "\n",
    "<span style=\"color:orange\"> Ejemplo:  \n",
    "Sea $\n",
    "  A=\n",
    "  \\left[ {\\begin{array}{cc}\n",
    "   3 & 6 & -8\\\\\n",
    "   0 & 0 & 6 \\\\\n",
    "   0 & 0 & 2 \\\\\n",
    "  \\end{array} } \\right] y B=\\left[ {\\begin{array}{cc}\n",
    "   4 & 0 & 0\\\\\n",
    "   -2 & 1 & 0 \\\\\n",
    "   5 & 3 & 4 \\\\\n",
    "  \\end{array} } \\right]$.  \n",
    "  Los valores propios de A son 3, 0 y 2. Los valores propios de B son 4 y 1.</style>    \n",
    "  \n",
    "<span style=\"color:orange\"> Veamos ahora cómo hacerlo en Python:</style>  \n",
    "  \n"
   ]
  },
  {
   "cell_type": "code",
   "execution_count": 7,
   "metadata": {},
   "outputs": [
    {
     "data": {
      "text/plain": [
       "array([3.+0.j, 0.+0.j, 2.+0.j])"
      ]
     },
     "execution_count": 7,
     "metadata": {},
     "output_type": "execute_result"
    }
   ],
   "source": [
    "import numpy as np\n",
    "import scipy.linalg as la \n",
    "\n",
    "A = np.array([\n",
    "    [3,6,-8], \n",
    "    [0, 0,6],\n",
    "    [0,0,2]\n",
    "])\n",
    "valores_propios, autovectores_propios_en_columnas= la.eig(A)\n",
    "valores_propios"
   ]
  },
  {
   "cell_type": "code",
   "execution_count": 8,
   "metadata": {},
   "outputs": [
    {
     "data": {
      "text/plain": [
       "array([[ 1.        , -0.89442719, -0.95346259],\n",
       "       [ 0.        ,  0.4472136 ,  0.28603878],\n",
       "       [ 0.        ,  0.        ,  0.09534626]])"
      ]
     },
     "execution_count": 8,
     "metadata": {},
     "output_type": "execute_result"
    }
   ],
   "source": [
    "autovectores_propios_en_columnas"
   ]
  },
  {
   "cell_type": "markdown",
   "metadata": {},
   "source": [
    "¿Qué signfica que una matriz A tenga un valor propio de 0?   \n",
    "0 es un valor propio de A si, y sólo si, A es no invertible.  \n",
    "\n",
    "Si v<sub>1</sub>, ... , v<sub>r</sub> son vectores propios que corresponden a distintos valores propios λ<sub>1</sub>, ... , λ<sub>r</sub> de una matriz A de n × n, entonces el conjunto {v<sub>1</sub>, ... , v<sub>r</sub>} es linealmente independiente.  \n",
    "\n",
    "Un escalar λ es un valor propio de una matriz A de n × n si, y sólo si, λ satisface la **ecuación característica**\n",
    "> det(A−λI)=0  \n",
    "\n",
    "Si A es una matriz de n × n, entonces det(A − λI) es un polinomio de grado n llamado **polinomio característico** de A.  \n",
    "\n",
    "<span style=\"color:orange\"> Ejemplo:  \n",
    "Vamos a calcular la ecuación característica de $\n",
    "  A=\n",
    "  \\left[ {\\begin{array}{cc}\n",
    "   5 & 2 & 6 & -1\\\\\n",
    "   0 & 3 & -8 & 0\\\\\n",
    "   0 & 0 & 5 & 4 \\\\\n",
    "   0 & 0 & 0 & 1 \\\\\n",
    "  \\end{array} } \\right]$. \n",
    "  detA=|A-λI|=$\\left| {\\begin{array}{cc}\n",
    "   5-λ & 2 & 6 & -1\\\\\n",
    "   0 & 3-λ & -8 & 0\\\\\n",
    "   0 & 0 & 5-λ & 4 \\\\\n",
    "   0 & 0 & 0 & 1-λ \\\\\n",
    "  \\end{array} } \\right|$=(5−λ)(3−λ)(5−λ)(1−λ)=(5−λ)<sup>2</sup>(3−λ)(1−λ)  \n",
    "  que es el polinomio característico.  \n",
    "La ecuación característica es (5−λ)<sup>2</sup>(3−λ)(1−λ)=0</style>\n",
    "  "
   ]
  },
  {
   "cell_type": "code",
   "execution_count": 8,
   "metadata": {},
   "outputs": [
    {
     "data": {
      "text/plain": [
       "1.0*x**4 - 14.0*x**3 + 68.0*x**2 - 130.0*x + 75.0"
      ]
     },
     "execution_count": 8,
     "metadata": {},
     "output_type": "execute_result"
    }
   ],
   "source": [
    "import numpy as np\n",
    "import sympy as sy\n",
    "A=sy.Matrix([\n",
    "    [5,2,6,-1],\n",
    "    [0,3,-8,0],\n",
    "    [0,0,5,4],\n",
    "    [0,0,0,1]\n",
    "])\n",
    "x=sy.symbols('x')\n",
    "A_xI=A-x*np.eye(4)\n",
    "pol=sy.det(A_xI)\n",
    "pol"
   ]
  },
  {
   "cell_type": "code",
   "execution_count": 10,
   "metadata": {},
   "outputs": [
    {
     "ename": "NoConvergence",
     "evalue": "convergence to root failed; try n < 15 or maxsteps > 50",
     "output_type": "error",
     "traceback": [
      "\u001b[0;31m---------------------------------------------------------------------------\u001b[0m",
      "\u001b[0;31mNoConvergence\u001b[0m                             Traceback (most recent call last)",
      "\u001b[0;32m/anaconda3/lib/python3.6/site-packages/sympy/polys/polytools.py\u001b[0m in \u001b[0;36mnroots\u001b[0;34m(f, n, maxsteps, cleanup)\u001b[0m\n\u001b[1;32m   3543\u001b[0m             roots = mpmath.polyroots(coeffs, maxsteps=maxsteps,\n\u001b[0;32m-> 3544\u001b[0;31m                     cleanup=cleanup, error=False, extraprec=f.degree()*10)\n\u001b[0m\u001b[1;32m   3545\u001b[0m \u001b[0;34m\u001b[0m\u001b[0m\n",
      "\u001b[0;32m/anaconda3/lib/python3.6/site-packages/mpmath/calculus/polynomials.py\u001b[0m in \u001b[0;36mpolyroots\u001b[0;34m(ctx, coeffs, maxsteps, cleanup, extraprec, error, roots_init)\u001b[0m\n\u001b[1;32m    195\u001b[0m             raise ctx.NoConvergence(\"Didn't converge in maxsteps=%d steps.\" \\\n\u001b[0;32m--> 196\u001b[0;31m                     % maxsteps)\n\u001b[0m\u001b[1;32m    197\u001b[0m         \u001b[0;31m# Remove small real or imaginary parts\u001b[0m\u001b[0;34m\u001b[0m\u001b[0;34m\u001b[0m\u001b[0m\n",
      "\u001b[0;31mNoConvergence\u001b[0m: Didn't converge in maxsteps=50 steps.",
      "\nDuring handling of the above exception, another exception occurred:\n",
      "\u001b[0;31mNoConvergence\u001b[0m                             Traceback (most recent call last)",
      "\u001b[0;32m<ipython-input-10-f54418348c97>\u001b[0m in \u001b[0;36m<module>\u001b[0;34m()\u001b[0m\n\u001b[0;32m----> 1\u001b[0;31m \u001b[0msy\u001b[0m\u001b[0;34m.\u001b[0m\u001b[0mroots\u001b[0m\u001b[0;34m(\u001b[0m\u001b[0mpol\u001b[0m\u001b[0;34m)\u001b[0m\u001b[0;34m\u001b[0m\u001b[0m\n\u001b[0m",
      "\u001b[0;32m/anaconda3/lib/python3.6/site-packages/sympy/polys/polyroots.py\u001b[0m in \u001b[0;36mroots\u001b[0;34m(f, *gens, **flags)\u001b[0m\n\u001b[1;32m    987\u001b[0m     \u001b[0;32mif\u001b[0m \u001b[0;32mnot\u001b[0m \u001b[0mf\u001b[0m\u001b[0;34m.\u001b[0m\u001b[0mis_ground\u001b[0m\u001b[0;34m:\u001b[0m\u001b[0;34m\u001b[0m\u001b[0m\n\u001b[1;32m    988\u001b[0m         \u001b[0;32mif\u001b[0m \u001b[0;32mnot\u001b[0m \u001b[0mf\u001b[0m\u001b[0;34m.\u001b[0m\u001b[0mget_domain\u001b[0m\u001b[0;34m(\u001b[0m\u001b[0;34m)\u001b[0m\u001b[0;34m.\u001b[0m\u001b[0mis_Exact\u001b[0m\u001b[0;34m:\u001b[0m\u001b[0;34m\u001b[0m\u001b[0m\n\u001b[0;32m--> 989\u001b[0;31m             \u001b[0;32mfor\u001b[0m \u001b[0mr\u001b[0m \u001b[0;32min\u001b[0m \u001b[0mf\u001b[0m\u001b[0;34m.\u001b[0m\u001b[0mnroots\u001b[0m\u001b[0;34m(\u001b[0m\u001b[0;34m)\u001b[0m\u001b[0;34m:\u001b[0m\u001b[0;34m\u001b[0m\u001b[0m\n\u001b[0m\u001b[1;32m    990\u001b[0m                 \u001b[0m_update_dict\u001b[0m\u001b[0;34m(\u001b[0m\u001b[0mresult\u001b[0m\u001b[0;34m,\u001b[0m \u001b[0mr\u001b[0m\u001b[0;34m,\u001b[0m \u001b[0;36m1\u001b[0m\u001b[0;34m)\u001b[0m\u001b[0;34m\u001b[0m\u001b[0m\n\u001b[1;32m    991\u001b[0m         \u001b[0;32melif\u001b[0m \u001b[0mf\u001b[0m\u001b[0;34m.\u001b[0m\u001b[0mdegree\u001b[0m\u001b[0;34m(\u001b[0m\u001b[0;34m)\u001b[0m \u001b[0;34m==\u001b[0m \u001b[0;36m1\u001b[0m\u001b[0;34m:\u001b[0m\u001b[0;34m\u001b[0m\u001b[0m\n",
      "\u001b[0;32m/anaconda3/lib/python3.6/site-packages/sympy/polys/polytools.py\u001b[0m in \u001b[0;36mnroots\u001b[0;34m(f, n, maxsteps, cleanup)\u001b[0m\n\u001b[1;32m   3551\u001b[0m             raise NoConvergence(\n\u001b[1;32m   3552\u001b[0m                 'convergence to root failed; try n < %s or maxsteps > %s' % (\n\u001b[0;32m-> 3553\u001b[0;31m                 n, maxsteps))\n\u001b[0m\u001b[1;32m   3554\u001b[0m         \u001b[0;32mfinally\u001b[0m\u001b[0;34m:\u001b[0m\u001b[0;34m\u001b[0m\u001b[0m\n\u001b[1;32m   3555\u001b[0m             \u001b[0mmpmath\u001b[0m\u001b[0;34m.\u001b[0m\u001b[0mmp\u001b[0m\u001b[0;34m.\u001b[0m\u001b[0mdps\u001b[0m \u001b[0;34m=\u001b[0m \u001b[0mdps\u001b[0m\u001b[0;34m\u001b[0m\u001b[0m\n",
      "\u001b[0;31mNoConvergence\u001b[0m: convergence to root failed; try n < 15 or maxsteps > 50"
     ]
    }
   ],
   "source": [
    "sy.roots(pol)\n",
    "# Nos falla porque no es capaz de encontrar raices en 50 pasos, que es el maximo de roots.\n",
    "# Tenemos que usar otra funcion"
   ]
  },
  {
   "cell_type": "code",
   "execution_count": 17,
   "metadata": {},
   "outputs": [
    {
     "data": {
      "text/plain": [
       "[mpf('1.0'), mpf('3.0'), mpf('4.9999999987396402'), mpf('5.0000000027958365')]"
      ]
     },
     "execution_count": 17,
     "metadata": {},
     "output_type": "execute_result"
    }
   ],
   "source": [
    "# Probamos con polyroots, con el maximo numero de iteraciones que es 10.000\n",
    "from mpmath import *\n",
    "\n",
    "polyroots([1,-14,68,-130,75],10000)\n",
    "# Nos saca como soluciones 1, 3 y 5 doble"
   ]
  },
  {
   "cell_type": "markdown",
   "metadata": {},
   "source": [
    "<span style=\"color:orange\">Ejemplo:  \n",
    "Vamos con otro ejemplo: $\n",
    "  A=\n",
    "  \\left[ {\\begin{array}{cc}\n",
    "   -1 & -4 & -3 & -2 & -1\\\\\n",
    "   0 & -13 & -10 & -7 & -3\\\\\n",
    "   0 & -85 & -59 & -40 & -22 \\\\\n",
    "   0 & 104 & 74 & 50 & 27\\\\\n",
    "   0 & 90 & 62 & 43 & 22\\\\\n",
    "  \\end{array} } \\right]$. \n",
    "</style>"
   ]
  },
  {
   "cell_type": "code",
   "execution_count": 20,
   "metadata": {},
   "outputs": [
    {
     "data": {
      "text/plain": [
       "-1.0*x**5 - 1.0*x**4 + 6.0*x**3 + 14.0*x**2 + 11.0*x + 3.0"
      ]
     },
     "execution_count": 20,
     "metadata": {},
     "output_type": "execute_result"
    }
   ],
   "source": [
    "import numpy as np\n",
    "import sympy as sy\n",
    "\n",
    "A=sy.Matrix([\n",
    "    [-1,-4,-3,-2,-1],\n",
    "    [0,-13,-10,-7,-3],\n",
    "    [0,-85,-59,-40,-22],\n",
    "    [0,104,74,50,27],\n",
    "    [0,90,62,43,22]\n",
    "])\n",
    "\n",
    "x=sy.symbols('x')\n",
    "A_xI=A-x*np.eye(5)\n",
    "pol=sy.det(A_xI)\n",
    "pol"
   ]
  },
  {
   "cell_type": "code",
   "execution_count": 25,
   "metadata": {},
   "outputs": [
    {
     "ename": "NoConvergence",
     "evalue": "Didn't converge in maxsteps=100000 steps.",
     "output_type": "error",
     "traceback": [
      "\u001b[0;31m---------------------------------------------------------------------------\u001b[0m",
      "\u001b[0;31mNoConvergence\u001b[0m                             Traceback (most recent call last)",
      "\u001b[0;32m<ipython-input-25-94bae306c9bb>\u001b[0m in \u001b[0;36m<module>\u001b[0;34m()\u001b[0m\n\u001b[1;32m      1\u001b[0m \u001b[0;32mfrom\u001b[0m \u001b[0mmpmath\u001b[0m \u001b[0;32mimport\u001b[0m \u001b[0;34m*\u001b[0m\u001b[0;34m\u001b[0m\u001b[0m\n\u001b[1;32m      2\u001b[0m \u001b[0;34m\u001b[0m\u001b[0m\n\u001b[0;32m----> 3\u001b[0;31m \u001b[0mpolyroots\u001b[0m\u001b[0;34m(\u001b[0m\u001b[0;34m[\u001b[0m\u001b[0;34m-\u001b[0m\u001b[0;36m1\u001b[0m\u001b[0;34m,\u001b[0m\u001b[0;34m-\u001b[0m\u001b[0;36m1\u001b[0m\u001b[0;34m,\u001b[0m\u001b[0;36m6\u001b[0m\u001b[0;34m,\u001b[0m\u001b[0;36m14\u001b[0m\u001b[0;34m,\u001b[0m\u001b[0;36m11\u001b[0m\u001b[0;34m,\u001b[0m\u001b[0;36m3\u001b[0m\u001b[0;34m]\u001b[0m\u001b[0;34m,\u001b[0m\u001b[0;36m100000\u001b[0m\u001b[0;34m)\u001b[0m\u001b[0;34m\u001b[0m\u001b[0m\n\u001b[0m",
      "\u001b[0;32m/anaconda3/lib/python3.6/site-packages/mpmath/calculus/polynomials.py\u001b[0m in \u001b[0;36mpolyroots\u001b[0;34m(ctx, coeffs, maxsteps, cleanup, extraprec, error, roots_init)\u001b[0m\n\u001b[1;32m    194\u001b[0m         \u001b[0;32mif\u001b[0m \u001b[0mabs\u001b[0m\u001b[0;34m(\u001b[0m\u001b[0mmax\u001b[0m\u001b[0;34m(\u001b[0m\u001b[0merr\u001b[0m\u001b[0;34m)\u001b[0m\u001b[0;34m)\u001b[0m \u001b[0;34m>=\u001b[0m \u001b[0mtol\u001b[0m\u001b[0;34m:\u001b[0m\u001b[0;34m\u001b[0m\u001b[0m\n\u001b[1;32m    195\u001b[0m             raise ctx.NoConvergence(\"Didn't converge in maxsteps=%d steps.\" \\\n\u001b[0;32m--> 196\u001b[0;31m                     % maxsteps)\n\u001b[0m\u001b[1;32m    197\u001b[0m         \u001b[0;31m# Remove small real or imaginary parts\u001b[0m\u001b[0;34m\u001b[0m\u001b[0;34m\u001b[0m\u001b[0m\n\u001b[1;32m    198\u001b[0m         \u001b[0;32mif\u001b[0m \u001b[0mcleanup\u001b[0m\u001b[0;34m:\u001b[0m\u001b[0;34m\u001b[0m\u001b[0m\n",
      "\u001b[0;31mNoConvergence\u001b[0m: Didn't converge in maxsteps=100000 steps."
     ]
    }
   ],
   "source": [
    "from mpmath import *\n",
    "\n",
    "polyroots([-1,-1,6,14,11,3],100000)\n",
    "# Parece que así no vamos a ser capaces\n",
    "# Tenemos que probar otro modo"
   ]
  },
  {
   "cell_type": "code",
   "execution_count": 27,
   "metadata": {},
   "outputs": [
    {
     "ename": "ValueError",
     "evalue": "object arrays are not supported",
     "output_type": "error",
     "traceback": [
      "\u001b[0;31m---------------------------------------------------------------------------\u001b[0m",
      "\u001b[0;31mValueError\u001b[0m                                Traceback (most recent call last)",
      "\u001b[0;32m<ipython-input-27-e4a5dbbe0543>\u001b[0m in \u001b[0;36m<module>\u001b[0;34m()\u001b[0m\n\u001b[1;32m      2\u001b[0m \u001b[0;34m\u001b[0m\u001b[0m\n\u001b[1;32m      3\u001b[0m \u001b[0;34m\u001b[0m\u001b[0m\n\u001b[0;32m----> 4\u001b[0;31m \u001b[0mvalores_propios\u001b[0m\u001b[0;34m,\u001b[0m \u001b[0mautovectores_propios_en_columnas\u001b[0m\u001b[0;34m=\u001b[0m \u001b[0mla\u001b[0m\u001b[0;34m.\u001b[0m\u001b[0meig\u001b[0m\u001b[0;34m(\u001b[0m\u001b[0mA\u001b[0m\u001b[0;34m)\u001b[0m\u001b[0;34m\u001b[0m\u001b[0m\n\u001b[0m\u001b[1;32m      5\u001b[0m \u001b[0mvalores_propios\u001b[0m\u001b[0;34m\u001b[0m\u001b[0m\n",
      "\u001b[0;32m/anaconda3/lib/python3.6/site-packages/scipy/linalg/decomp.py\u001b[0m in \u001b[0;36meig\u001b[0;34m(a, b, left, right, overwrite_a, overwrite_b, check_finite, homogeneous_eigvals)\u001b[0m\n\u001b[1;32m    212\u001b[0m \u001b[0;34m\u001b[0m\u001b[0m\n\u001b[1;32m    213\u001b[0m     \"\"\"\n\u001b[0;32m--> 214\u001b[0;31m     \u001b[0ma1\u001b[0m \u001b[0;34m=\u001b[0m \u001b[0m_asarray_validated\u001b[0m\u001b[0;34m(\u001b[0m\u001b[0ma\u001b[0m\u001b[0;34m,\u001b[0m \u001b[0mcheck_finite\u001b[0m\u001b[0;34m=\u001b[0m\u001b[0mcheck_finite\u001b[0m\u001b[0;34m)\u001b[0m\u001b[0;34m\u001b[0m\u001b[0m\n\u001b[0m\u001b[1;32m    215\u001b[0m     \u001b[0;32mif\u001b[0m \u001b[0mlen\u001b[0m\u001b[0;34m(\u001b[0m\u001b[0ma1\u001b[0m\u001b[0;34m.\u001b[0m\u001b[0mshape\u001b[0m\u001b[0;34m)\u001b[0m \u001b[0;34m!=\u001b[0m \u001b[0;36m2\u001b[0m \u001b[0;32mor\u001b[0m \u001b[0ma1\u001b[0m\u001b[0;34m.\u001b[0m\u001b[0mshape\u001b[0m\u001b[0;34m[\u001b[0m\u001b[0;36m0\u001b[0m\u001b[0;34m]\u001b[0m \u001b[0;34m!=\u001b[0m \u001b[0ma1\u001b[0m\u001b[0;34m.\u001b[0m\u001b[0mshape\u001b[0m\u001b[0;34m[\u001b[0m\u001b[0;36m1\u001b[0m\u001b[0;34m]\u001b[0m\u001b[0;34m:\u001b[0m\u001b[0;34m\u001b[0m\u001b[0m\n\u001b[1;32m    216\u001b[0m         \u001b[0;32mraise\u001b[0m \u001b[0mValueError\u001b[0m\u001b[0;34m(\u001b[0m\u001b[0;34m'expected square matrix'\u001b[0m\u001b[0;34m)\u001b[0m\u001b[0;34m\u001b[0m\u001b[0m\n",
      "\u001b[0;32m/anaconda3/lib/python3.6/site-packages/scipy/_lib/_util.py\u001b[0m in \u001b[0;36m_asarray_validated\u001b[0;34m(a, check_finite, sparse_ok, objects_ok, mask_ok, as_inexact)\u001b[0m\n\u001b[1;32m    239\u001b[0m     \u001b[0;32mif\u001b[0m \u001b[0;32mnot\u001b[0m \u001b[0mobjects_ok\u001b[0m\u001b[0;34m:\u001b[0m\u001b[0;34m\u001b[0m\u001b[0m\n\u001b[1;32m    240\u001b[0m         \u001b[0;32mif\u001b[0m \u001b[0ma\u001b[0m\u001b[0;34m.\u001b[0m\u001b[0mdtype\u001b[0m \u001b[0;32mis\u001b[0m \u001b[0mnp\u001b[0m\u001b[0;34m.\u001b[0m\u001b[0mdtype\u001b[0m\u001b[0;34m(\u001b[0m\u001b[0;34m'O'\u001b[0m\u001b[0;34m)\u001b[0m\u001b[0;34m:\u001b[0m\u001b[0;34m\u001b[0m\u001b[0m\n\u001b[0;32m--> 241\u001b[0;31m             \u001b[0;32mraise\u001b[0m \u001b[0mValueError\u001b[0m\u001b[0;34m(\u001b[0m\u001b[0;34m'object arrays are not supported'\u001b[0m\u001b[0;34m)\u001b[0m\u001b[0;34m\u001b[0m\u001b[0m\n\u001b[0m\u001b[1;32m    242\u001b[0m     \u001b[0;32mif\u001b[0m \u001b[0mas_inexact\u001b[0m\u001b[0;34m:\u001b[0m\u001b[0;34m\u001b[0m\u001b[0m\n\u001b[1;32m    243\u001b[0m         \u001b[0;32mif\u001b[0m \u001b[0;32mnot\u001b[0m \u001b[0mnp\u001b[0m\u001b[0;34m.\u001b[0m\u001b[0missubdtype\u001b[0m\u001b[0;34m(\u001b[0m\u001b[0ma\u001b[0m\u001b[0;34m.\u001b[0m\u001b[0mdtype\u001b[0m\u001b[0;34m,\u001b[0m \u001b[0mnp\u001b[0m\u001b[0;34m.\u001b[0m\u001b[0minexact\u001b[0m\u001b[0;34m)\u001b[0m\u001b[0;34m:\u001b[0m\u001b[0;34m\u001b[0m\u001b[0m\n",
      "\u001b[0;31mValueError\u001b[0m: object arrays are not supported"
     ]
    }
   ],
   "source": [
    "# Probamos con eig de scipy\n",
    "import scipy.linalg as la \n",
    "\n",
    "valores_propios, autovectores_propios_en_columnas= la.eig(A)\n",
    "valores_propios\n",
    "# No le gusta los objetos como los crea sympy"
   ]
  },
  {
   "cell_type": "code",
   "execution_count": 28,
   "metadata": {},
   "outputs": [
    {
     "data": {
      "text/plain": [
       "array([-1.        +0.00000000e+00j,  3.        +0.00000000e+00j,\n",
       "       -0.99997857+3.71197701e-05j, -0.99997857-3.71197701e-05j,\n",
       "       -1.00004286+0.00000000e+00j])"
      ]
     },
     "execution_count": 28,
     "metadata": {},
     "output_type": "execute_result"
    }
   ],
   "source": [
    "#Probamos a calcular la matriz A con numpy\n",
    "\n",
    "import numpy as np\n",
    "import scipy.linalg as la \n",
    "\n",
    "A=np.matrix([\n",
    "    [-1,-4,-3,-2,-1],\n",
    "    [0,-13,-10,-7,-3],\n",
    "    [0,-85,-59,-40,-22],\n",
    "    [0,104,74,50,27],\n",
    "    [0,90,62,43,22]\n",
    "])\n",
    "\n",
    "valores_propios, autovectores_propios_en_columnas= la.eig(A)\n",
    "valores_propios"
   ]
  },
  {
   "cell_type": "code",
   "execution_count": 29,
   "metadata": {},
   "outputs": [
    {
     "data": {
      "text/plain": [
       "array([[ 1.00000000e+00+0.00000000e+00j, -1.53264728e-16+0.00000000e+00j,\n",
       "         9.99999801e-01+0.00000000e+00j,  9.99999801e-01-0.00000000e+00j,\n",
       "        -9.99999801e-01+0.00000000e+00j],\n",
       "       [ 0.00000000e+00+0.00000000e+00j,  9.42851296e-19+0.00000000e+00j,\n",
       "        -4.28596129e-05-7.42411163e-05j, -4.28596129e-05+7.42411163e-05j,\n",
       "        -8.57192263e-05+0.00000000e+00j],\n",
       "       [ 0.00000000e+00+0.00000000e+00j,  5.77350269e-01+0.00000000e+00j,\n",
       "        -1.50009105e-04-2.59843112e-04j, -1.50009105e-04+2.59843112e-04j,\n",
       "        -3.00018210e-04+0.00000000e+00j],\n",
       "       [ 0.00000000e+00+0.00000000e+00j, -5.77350269e-01+0.00000000e+00j,\n",
       "         2.14298065e-04+3.71205581e-04j,  2.14298065e-04-3.71205581e-04j,\n",
       "         4.28596131e-04+0.00000000e+00j],\n",
       "       [ 0.00000000e+00+0.00000000e+00j, -5.77350269e-01+0.00000000e+00j,\n",
       "         1.71439370e-04+2.96962874e-04j,  1.71439370e-04-2.96962874e-04j,\n",
       "         3.42878742e-04+0.00000000e+00j]])"
      ]
     },
     "execution_count": 29,
     "metadata": {},
     "output_type": "execute_result"
    }
   ],
   "source": [
    "autovectores_propios_en_columnas"
   ]
  },
  {
   "cell_type": "markdown",
   "metadata": {},
   "source": [
    "El cálculo de autovectores y autovalores tiene muchísimas aplicaciones, como puede ser el cálculo de componentes principales en Machine Learning.\n",
    "\n",
    "Veamos un ejemplo sencillo:  es la de obtener los ejes principales de una matriz de dispersión (o de covarianza) de un conjunto de muestras. En otras palabras, ver en qué direcciones tienden a estar alineados un montón de puntos.\n",
    "\n",
    "Un ejemplo en dos dimensiones: si calculamos la matriz de covarianza de los puntos de la figura, sus dos autovectores nos indican las direcciones marcadas por flechas, cuya longitud está dada por los autovalores. Y el autovector del mayor autovalor nos dice la dirección principal en la que se alinean los puntos.  \n",
    "\n",
    "<img src=\"Images/PCA.png\" style=\"width: 600px;\"/>"
   ]
  }
 ],
 "metadata": {
  "kernelspec": {
   "display_name": "Python 3",
   "language": "python",
   "name": "python3"
  },
  "language_info": {
   "codemirror_mode": {
    "name": "ipython",
    "version": 3
   },
   "file_extension": ".py",
   "mimetype": "text/x-python",
   "name": "python",
   "nbconvert_exporter": "python",
   "pygments_lexer": "ipython3",
   "version": "3.6.5"
  }
 },
 "nbformat": 4,
 "nbformat_minor": 2
}
