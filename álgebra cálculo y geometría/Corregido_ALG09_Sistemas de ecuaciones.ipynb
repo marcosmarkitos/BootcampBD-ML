{
 "cells": [
  {
   "cell_type": "markdown",
   "metadata": {},
   "source": [
    "# 9. Sistemas de ecuaciones"
   ]
  },
  {
   "cell_type": "markdown",
   "metadata": {},
   "source": [
    "## ¿Qué es un sistema de ecuaciones lineales?  \n",
    "\n",
    "Dados a<sub>ij</sub>, b<sub>i</sub> escalares, un sistema de ecuaciones lineales con *n* incógnitas:\n",
    "> $a_{11}\\cdot x_1+a_{12}\\cdot x_2+...+a_{1n}\\cdot x_n=b_1$  \n",
    "> $a_{21}\\cdot x_1+a_{22}\\cdot x_2+...+a_{1n}\\cdot x_n=b_2$  \n",
    "> ...  \n",
    "> $a_{m1}\\cdot x_1+a_{m2}\\cdot x_2+...+a_{mn}\\cdot x_n=b_m$  \n",
    "\n",
    "Se llama **matriz de coeficientes** a:  \n",
    "> M=$\\left( {\\begin{array}{cc}\n",
    "   a_{11} & a_{12} & ... & a_{1n}\\\\\n",
    "   a_{21} & a_{22} & ... & a_{2n}\\\\\n",
    "   ... & ... & ... & ...\\\\\n",
    "   a_{m1} & a_{m2} & ... & a_{mn}\\\\\n",
    "  \\end{array} } \\right)$ \n",
    "  \n",
    "y matriz ampliada a:  \n",
    "> M*=$\\left( {\\begin{array}{cc}\n",
    "   a_{11} & a_{12} & ... & a_{1n} & b_1\\\\\n",
    "   a_{21} & a_{22} & ... & a_{2n} & b_2\\\\\n",
    "   ... & ... & ... & ...\\\\\n",
    "   a_{m1} & a_{m2} & ... & a_{mn} & b_3\\\\\n",
    "  \\end{array} } \\right)$  \n",
    "\n",
    "* El sistema de ecuaciones será **compatible** (tiene solución) si rangoM=rangoM*\n",
    "> Compatible determinado (tiene una única solución) si rangoM=rangoM\\* =n  \n",
    "> Compatible indeterminado (tiene infinitas soluciones) si rangoM=rangoM* <n\n",
    "\n",
    "* El sistema de ecuaciones será **incompatible** (no tiene solución) si rangoM≠rangoM*  \n",
    "\n"
   ]
  },
  {
   "cell_type": "markdown",
   "metadata": {},
   "source": [
    "<span style=\"color:orange\"> Ejemplo:  \n",
    "Vamos a calcular si tiene solución el siguiente sistema de ecuaciones usando Python.  </style>  \n",
    "> <span style=\"color:orange\">x<sub>1</sub> − 2x<sub>2</sub> + x<sub>3</sub> = 0 </style>  \n",
    "> <span style=\"color:orange\">2x<sub>2</sub>−8x<sub>3</sub>= 8  </style>  \n",
    "> <span style=\"color:orange\">−4x<sub>1</sub> + 5x<sub>2</sub> + 9x<sub>3</sub> =− 9</style>"
   ]
  },
  {
   "cell_type": "code",
   "execution_count": 3,
   "metadata": {},
   "outputs": [
    {
     "data": {
      "text/plain": [
       "1.9999999999999998"
      ]
     },
     "execution_count": 3,
     "metadata": {},
     "output_type": "execute_result"
    }
   ],
   "source": [
    "import numpy as np\n",
    "A=np.matrix([\n",
    "    [1,-2,1],\n",
    "    [0,2,-8],\n",
    "    [-4,5,9]\n",
    "])\n",
    "detA=np.linalg.det(A)\n",
    "detA"
   ]
  },
  {
   "cell_type": "code",
   "execution_count": 4,
   "metadata": {},
   "outputs": [
    {
     "ename": "LinAlgError",
     "evalue": "Last 2 dimensions of the array must be square",
     "output_type": "error",
     "traceback": [
      "\u001b[0;31m---------------------------------------------------------------------------\u001b[0m",
      "\u001b[0;31mLinAlgError\u001b[0m                               Traceback (most recent call last)",
      "\u001b[0;32m<ipython-input-4-f059587010aa>\u001b[0m in \u001b[0;36m<module>\u001b[0;34m()\u001b[0m\n\u001b[1;32m      5\u001b[0m     \u001b[0;34m[\u001b[0m\u001b[0;34m-\u001b[0m\u001b[0;36m4\u001b[0m\u001b[0;34m,\u001b[0m\u001b[0;36m5\u001b[0m\u001b[0;34m,\u001b[0m\u001b[0;36m9\u001b[0m\u001b[0;34m,\u001b[0m\u001b[0;34m-\u001b[0m\u001b[0;36m9\u001b[0m\u001b[0;34m]\u001b[0m\u001b[0;34m\u001b[0m\u001b[0m\n\u001b[1;32m      6\u001b[0m ])\n\u001b[0;32m----> 7\u001b[0;31m \u001b[0mdetB\u001b[0m\u001b[0;34m=\u001b[0m\u001b[0mnp\u001b[0m\u001b[0;34m.\u001b[0m\u001b[0mlinalg\u001b[0m\u001b[0;34m.\u001b[0m\u001b[0mdet\u001b[0m\u001b[0;34m(\u001b[0m\u001b[0mB\u001b[0m\u001b[0;34m)\u001b[0m\u001b[0;34m\u001b[0m\u001b[0m\n\u001b[0m\u001b[1;32m      8\u001b[0m \u001b[0mdetB\u001b[0m\u001b[0;34m\u001b[0m\u001b[0m\n",
      "\u001b[0;32m/anaconda3/lib/python3.6/site-packages/numpy/linalg/linalg.py\u001b[0m in \u001b[0;36mdet\u001b[0;34m(a)\u001b[0m\n\u001b[1;32m   1869\u001b[0m     \u001b[0ma\u001b[0m \u001b[0;34m=\u001b[0m \u001b[0masarray\u001b[0m\u001b[0;34m(\u001b[0m\u001b[0ma\u001b[0m\u001b[0;34m)\u001b[0m\u001b[0;34m\u001b[0m\u001b[0m\n\u001b[1;32m   1870\u001b[0m     \u001b[0m_assertRankAtLeast2\u001b[0m\u001b[0;34m(\u001b[0m\u001b[0ma\u001b[0m\u001b[0;34m)\u001b[0m\u001b[0;34m\u001b[0m\u001b[0m\n\u001b[0;32m-> 1871\u001b[0;31m     \u001b[0m_assertNdSquareness\u001b[0m\u001b[0;34m(\u001b[0m\u001b[0ma\u001b[0m\u001b[0;34m)\u001b[0m\u001b[0;34m\u001b[0m\u001b[0m\n\u001b[0m\u001b[1;32m   1872\u001b[0m     \u001b[0mt\u001b[0m\u001b[0;34m,\u001b[0m \u001b[0mresult_t\u001b[0m \u001b[0;34m=\u001b[0m \u001b[0m_commonType\u001b[0m\u001b[0;34m(\u001b[0m\u001b[0ma\u001b[0m\u001b[0;34m)\u001b[0m\u001b[0;34m\u001b[0m\u001b[0m\n\u001b[1;32m   1873\u001b[0m     \u001b[0msignature\u001b[0m \u001b[0;34m=\u001b[0m \u001b[0;34m'D->D'\u001b[0m \u001b[0;32mif\u001b[0m \u001b[0misComplexType\u001b[0m\u001b[0;34m(\u001b[0m\u001b[0mt\u001b[0m\u001b[0;34m)\u001b[0m \u001b[0;32melse\u001b[0m \u001b[0;34m'd->d'\u001b[0m\u001b[0;34m\u001b[0m\u001b[0m\n",
      "\u001b[0;32m/anaconda3/lib/python3.6/site-packages/numpy/linalg/linalg.py\u001b[0m in \u001b[0;36m_assertNdSquareness\u001b[0;34m(*arrays)\u001b[0m\n\u001b[1;32m    209\u001b[0m     \u001b[0;32mfor\u001b[0m \u001b[0ma\u001b[0m \u001b[0;32min\u001b[0m \u001b[0marrays\u001b[0m\u001b[0;34m:\u001b[0m\u001b[0;34m\u001b[0m\u001b[0m\n\u001b[1;32m    210\u001b[0m         \u001b[0;32mif\u001b[0m \u001b[0mmax\u001b[0m\u001b[0;34m(\u001b[0m\u001b[0ma\u001b[0m\u001b[0;34m.\u001b[0m\u001b[0mshape\u001b[0m\u001b[0;34m[\u001b[0m\u001b[0;34m-\u001b[0m\u001b[0;36m2\u001b[0m\u001b[0;34m:\u001b[0m\u001b[0;34m]\u001b[0m\u001b[0;34m)\u001b[0m \u001b[0;34m!=\u001b[0m \u001b[0mmin\u001b[0m\u001b[0;34m(\u001b[0m\u001b[0ma\u001b[0m\u001b[0;34m.\u001b[0m\u001b[0mshape\u001b[0m\u001b[0;34m[\u001b[0m\u001b[0;34m-\u001b[0m\u001b[0;36m2\u001b[0m\u001b[0;34m:\u001b[0m\u001b[0;34m]\u001b[0m\u001b[0;34m)\u001b[0m\u001b[0;34m:\u001b[0m\u001b[0;34m\u001b[0m\u001b[0m\n\u001b[0;32m--> 211\u001b[0;31m             \u001b[0;32mraise\u001b[0m \u001b[0mLinAlgError\u001b[0m\u001b[0;34m(\u001b[0m\u001b[0;34m'Last 2 dimensions of the array must be square'\u001b[0m\u001b[0;34m)\u001b[0m\u001b[0;34m\u001b[0m\u001b[0m\n\u001b[0m\u001b[1;32m    212\u001b[0m \u001b[0;34m\u001b[0m\u001b[0m\n\u001b[1;32m    213\u001b[0m \u001b[0;32mdef\u001b[0m \u001b[0m_assertFinite\u001b[0m\u001b[0;34m(\u001b[0m\u001b[0;34m*\u001b[0m\u001b[0marrays\u001b[0m\u001b[0;34m)\u001b[0m\u001b[0;34m:\u001b[0m\u001b[0;34m\u001b[0m\u001b[0m\n",
      "\u001b[0;31mLinAlgError\u001b[0m: Last 2 dimensions of the array must be square"
     ]
    }
   ],
   "source": [
    "import numpy as np\n",
    "B=np.matrix([\n",
    "    [1,-2,1,0],\n",
    "    [0,2,-8,8],\n",
    "    [-4,5,9,-9]\n",
    "])\n",
    "detB=np.linalg.det(B)\n",
    "detB"
   ]
  },
  {
   "cell_type": "markdown",
   "metadata": {},
   "source": [
    "<span style=\"color:orange\">Anda! No se puede....Claro! Porque el determinante sólo existe para matrices cuadradas y ésta tiene dimensión 3x4.  \n",
    "¿Cómo lo hacemos?  \n",
    "Tendremos que calcular hasta los 4 determinantes de orden 3 para comprobar si hay alguno diferente de 0 y el rango de B es 3.  \n",
    "Eso sí, el que coincide con la matriz A no hace falta que lo calcule porque ya lo tengo calculado.  \n",
    "De hecho, como el de la matriz A ya es distinto de 0, no hace falta que calcule ninguno más.  \n",
    "Por tanto, el rango de B es 3 también</style>"
   ]
  },
  {
   "cell_type": "markdown",
   "metadata": {},
   "source": [
    "Si el determinante de la **matriz de coeficientes** es distinto de 0, nos encontramos con un SCD."
   ]
  },
  {
   "cell_type": "markdown",
   "metadata": {},
   "source": [
    "<span style=\"color:orange\"> Ejemplo:  \n",
    "Vamos a calcular si tiene solución el siguiente sistema de ecuaciones usando Python.</style>  \n",
    "> <span style=\"color:orange\">x<sub>2</sub> −4x<sub>3</sub> =8  </style>  \n",
    "> <span style=\"color:orange\">2x<sub>1</sub> −3x<sub>2</sub> + 2x<sub>3</sub> =1  </style>  \n",
    "> <span style=\"color:orange\">5x<sub>1</sub> −8x<sub>2</sub> + 7x<sub>3</sub> =1</style>"
   ]
  },
  {
   "cell_type": "code",
   "execution_count": 5,
   "metadata": {},
   "outputs": [
    {
     "data": {
      "text/plain": [
       "0.0"
      ]
     },
     "execution_count": 5,
     "metadata": {},
     "output_type": "execute_result"
    }
   ],
   "source": [
    "import numpy as np\n",
    "A=np.matrix([\n",
    "    [0,1,-4],\n",
    "    [2,-3,2],\n",
    "    [5,-8,7]\n",
    "])\n",
    "detA=np.linalg.det(A)\n",
    "round(detA)"
   ]
  },
  {
   "cell_type": "markdown",
   "metadata": {},
   "source": [
    "<span style=\"color:orange\"> Da 0, por lo que A no tiene rango 3. Para ver si tiene rango 2, buscamos un determinante de orden 2x2 que sea diferente de 0.</style>"
   ]
  },
  {
   "cell_type": "code",
   "execution_count": 7,
   "metadata": {},
   "outputs": [
    {
     "data": {
      "text/plain": [
       "-2.0"
      ]
     },
     "execution_count": 7,
     "metadata": {},
     "output_type": "execute_result"
    }
   ],
   "source": [
    "import numpy as np\n",
    "A=np.matrix([\n",
    "    [0,1],\n",
    "    [2,-3]\n",
    "])\n",
    "detA=np.linalg.det(A)\n",
    "round(detA)\n",
    "# Sale distinto de 0"
   ]
  },
  {
   "cell_type": "markdown",
   "metadata": {},
   "source": [
    "<span style=\"color:orange\"> Por lo que A tiene rango 2.  \n",
    "¿Qué ocurre con B?  \n",
    "El primer menor de orden 3, pongamos que es el de A, vale 0, por lo que tengo que probar a ver qué pasa con los otros 3</style>"
   ]
  },
  {
   "cell_type": "code",
   "execution_count": 9,
   "metadata": {},
   "outputs": [
    {
     "data": {
      "text/plain": [
       "-32.0"
      ]
     },
     "execution_count": 9,
     "metadata": {},
     "output_type": "execute_result"
    }
   ],
   "source": [
    "# cogemos las columnas 2, 3 y 4\n",
    "import numpy as np\n",
    "B=np.matrix([\n",
    "    [1,-4,8],\n",
    "    [-3,2,1],\n",
    "    [-8,7,1]\n",
    "])\n",
    "detA=np.linalg.det(B)\n",
    "round(detB)"
   ]
  },
  {
   "cell_type": "markdown",
   "metadata": {},
   "source": [
    "<span style=\"color:orange\"> Este menor de orden 3 sale distinto de 0, luego el rango de B es 3.  \n",
    "Como tienen distinto rango, el sistema es incompatible, es decir, no tiene solución.</style>  "
   ]
  },
  {
   "cell_type": "markdown",
   "metadata": {},
   "source": [
    "<span style=\"color:orange\"> Ejemplo:  \n",
    "Vamos a calcular si tiene solución el siguiente sistema de ecuaciones usando Python.</style>  \n",
    "> <span style=\"color:orange\">x<sub>1</sub> +x<sub>3</sub> =2  </style>  \n",
    "> <span style=\"color:orange\">2x<sub>1</sub> +3x<sub>2</sub> + x<sub>3</sub> =3  </style>  \n",
    "> <span style=\"color:orange\">3x<sub>1</sub> +3x<sub>2</sub> + 2x<sub>3</sub> =5</style>"
   ]
  },
  {
   "cell_type": "code",
   "execution_count": 10,
   "metadata": {},
   "outputs": [
    {
     "data": {
      "text/plain": [
       "-0.0"
      ]
     },
     "execution_count": 10,
     "metadata": {},
     "output_type": "execute_result"
    }
   ],
   "source": [
    "# Calculamos el determinante de A\n",
    "import numpy as np\n",
    "A=np.matrix([\n",
    "    [1,0,1],\n",
    "    [2,3,1],\n",
    "    [3,3,2]\n",
    "])\n",
    "detA=np.linalg.det(A)\n",
    "round(detA)\n",
    "# Sale 0, luego el rango de A no es 3. Probemos a ver si tiene rango 2"
   ]
  },
  {
   "cell_type": "code",
   "execution_count": 11,
   "metadata": {},
   "outputs": [
    {
     "data": {
      "text/plain": [
       "3.0"
      ]
     },
     "execution_count": 11,
     "metadata": {},
     "output_type": "execute_result"
    }
   ],
   "source": [
    "# Vamos a coger el determinante de orden 2 formado por los primeros 4 elementos\n",
    "import numpy as np\n",
    "A=np.matrix([\n",
    "   [1,0],\n",
    "   [2,3]\n",
    "])\n",
    "detA=np.linalg.det(A)\n",
    "round(detA)"
   ]
  },
  {
   "cell_type": "markdown",
   "metadata": {},
   "source": [
    "<span style=\"color:orange\"> Luego el rango de A es 2.  \n",
    "¿Qué ocurre con B?  \n",
    "El primer menor de orden 3, pongamos que es el de A, vale 0, por lo que tengo que probar a ver qué pasa con los otros 3</style>"
   ]
  },
  {
   "cell_type": "code",
   "execution_count": 12,
   "metadata": {},
   "outputs": [
    {
     "data": {
      "text/plain": [
       "0.0"
      ]
     },
     "execution_count": 12,
     "metadata": {},
     "output_type": "execute_result"
    }
   ],
   "source": [
    "import numpy as np\n",
    "B=np.matrix([\n",
    "    [0,1,2],\n",
    "    [3,1,3],\n",
    "    [3,2,5]\n",
    "])\n",
    "detB=np.linalg.det(B)\n",
    "round(detB)"
   ]
  },
  {
   "cell_type": "code",
   "execution_count": 13,
   "metadata": {},
   "outputs": [
    {
     "data": {
      "text/plain": [
       "0.0"
      ]
     },
     "execution_count": 13,
     "metadata": {},
     "output_type": "execute_result"
    }
   ],
   "source": [
    "import numpy as np\n",
    "B=np.matrix([\n",
    "    [1,1,2],\n",
    "    [2,1,3],\n",
    "    [3,2,5]\n",
    "])\n",
    "detB=np.linalg.det(B)\n",
    "round(detB)"
   ]
  },
  {
   "cell_type": "code",
   "execution_count": 14,
   "metadata": {},
   "outputs": [
    {
     "data": {
      "text/plain": [
       "-0.0"
      ]
     },
     "execution_count": 14,
     "metadata": {},
     "output_type": "execute_result"
    }
   ],
   "source": [
    "import numpy as np\n",
    "B=np.matrix([\n",
    "    [1,0,2],\n",
    "    [2,3,3],\n",
    "    [3,3,5]\n",
    "])\n",
    "detB=np.linalg.det(B)\n",
    "round(detB)"
   ]
  },
  {
   "cell_type": "markdown",
   "metadata": {},
   "source": [
    "<span style=\"color:orange\"> Luego el rango de B es 2 (Bastaría con coger el mismo determinante elegido para A).  \n",
    "Como coinciden y es menor que el número de incógnitas, es un SCI, es decir, tiene infinitas soluciones.</style>  "
   ]
  },
  {
   "cell_type": "markdown",
   "metadata": {},
   "source": [
    " Sabemos que hay un modo directo en Python para calcular los rangos.  \n",
    " \n",
    "<span style=\"color:orange\"> Ejemplo: Vamos a calcular el rango de estos tres sistemas de ecuaciones empleándolo.</style> "
   ]
  },
  {
   "cell_type": "markdown",
   "metadata": {},
   "source": [
    "> <span style=\"color:orange\">x<sub>1</sub> − 2x<sub>2</sub> + x<sub>3</sub> = 0 </style>  \n",
    "> <span style=\"color:orange\">2x<sub>2</sub>−8x<sub>3</sub>= 8  </style>  \n",
    "> <span style=\"color:orange\">−4x<sub>1</sub> + 5x<sub>2</sub> + 9x<sub>3</sub> =− 9</style>"
   ]
  },
  {
   "cell_type": "code",
   "execution_count": 15,
   "metadata": {},
   "outputs": [
    {
     "name": "stdout",
     "output_type": "stream",
     "text": [
      "¿M y M_amp tienen el mismo rango? True\n",
      "¿El rango de M es igual a 3? True\n",
      "Por tanto el sistema es compatible determinado, es decir tienen una única solución.\n"
     ]
    }
   ],
   "source": [
    "import numpy as np\n",
    "M = np.array([\n",
    "    [1, -2, 1],\n",
    "    [0, 2, -8],\n",
    "    [-4, 5, 9]\n",
    "])\n",
    "M_amp = np.array([\n",
    "    [1, -2, 1, 0],\n",
    "    [0, 2, -8, 8],\n",
    "    [-4, 5, 9, -9]\n",
    "])\n",
    "print(\"¿M y M_amp tienen el mismo rango? {}\".format(np.linalg.matrix_rank(M) == np.linalg.matrix_rank(M_amp)))\n",
    "print(\"¿El rango de M es igual a 3? {}\".format(np.linalg.matrix_rank(M) == 3))\n",
    "print(\"Por tanto el sistema es compatible determinado, es decir tienen una única solución.\")"
   ]
  },
  {
   "cell_type": "markdown",
   "metadata": {},
   "source": [
    "> <span style=\"color:orange\">x<sub>2</sub> −4x<sub>3</sub> =8  </style>  \n",
    "> <span style=\"color:orange\">2x<sub>1</sub> −3x<sub>2</sub> + 2x<sub>3</sub> =1  </style>  \n",
    "> <span style=\"color:orange\">5x<sub>1</sub> −8x<sub>2</sub> + 7x<sub>3</sub> =1</style>"
   ]
  },
  {
   "cell_type": "code",
   "execution_count": 16,
   "metadata": {},
   "outputs": [
    {
     "name": "stdout",
     "output_type": "stream",
     "text": [
      "¿M y M_amp tienen el mismo rango? False\n",
      "El rango de M es igual a 2\n",
      "El rango de M_amp es igual a 3\n",
      "Por tanto el sistema es incompatible, es decir no tiene solución.\n"
     ]
    }
   ],
   "source": [
    "M = np.array([\n",
    "    [0, 1, -4],\n",
    "    [2, -3, 2],\n",
    "    [5, -8, 7]\n",
    "])\n",
    "M_amp = np.array([\n",
    "    [0, 1, -4, 8],\n",
    "    [2, -3, 2, 1],\n",
    "    [5, -8, 7, 1]\n",
    "])\n",
    "print(\"¿M y M_amp tienen el mismo rango? {}\".format(np.linalg.matrix_rank(M) == np.linalg.matrix_rank(M_amp)))\n",
    "print(\"El rango de M es igual a {}\".format(np.linalg.matrix_rank(M)))\n",
    "print(\"El rango de M_amp es igual a {}\".format(np.linalg.matrix_rank(M_amp)))\n",
    "print(\"Por tanto el sistema es incompatible, es decir no tiene solución.\")"
   ]
  },
  {
   "cell_type": "markdown",
   "metadata": {},
   "source": [
    "> <span style=\"color:orange\">x<sub>1</sub> +x<sub>3</sub> =2  </style>  \n",
    "> <span style=\"color:orange\">2x<sub>1</sub> +3x<sub>2</sub> + x<sub>3</sub> =3  </style>  \n",
    "> <span style=\"color:orange\">3x<sub>1</sub> +3x<sub>2</sub> + 2x<sub>3</sub> =5</style>"
   ]
  },
  {
   "cell_type": "code",
   "execution_count": 17,
   "metadata": {},
   "outputs": [
    {
     "name": "stdout",
     "output_type": "stream",
     "text": [
      "¿M y M_amp tienen el mismo rango? True\n",
      "¿El rango de M es igual a 3? False\n",
      "El rango de M es igual a 2\n",
      "El rango de M_amp es igual a 2\n",
      "Por tanto el sistema es compatible indeterminado, es decir tienen infinitas soluciones.\n"
     ]
    }
   ],
   "source": [
    "import numpy as np\n",
    "M = np.array([\n",
    "    [1, 0, 1],\n",
    "    [2, 3, 1],\n",
    "    [3, 3, 2]\n",
    "])\n",
    "M_amp = np.array([\n",
    "    [1, 0, 1, 2],\n",
    "    [2, 3, 1, 3],\n",
    "    [3, 3, 2, 5]\n",
    "])\n",
    "print(\"¿M y M_amp tienen el mismo rango? {}\".format(np.linalg.matrix_rank(M) == np.linalg.matrix_rank(M_amp)))\n",
    "print(\"¿El rango de M es igual a 3? {}\".format(np.linalg.matrix_rank(M) == 3))\n",
    "print(\"El rango de M es igual a {}\".format(np.linalg.matrix_rank(M)))\n",
    "print(\"El rango de M_amp es igual a {}\".format(np.linalg.matrix_rank(M_amp)))\n",
    "print(\"Por tanto el sistema es compatible indeterminado, es decir tienen infinitas soluciones.\")\n"
   ]
  },
  {
   "cell_type": "markdown",
   "metadata": {},
   "source": [
    "## ¿Cómo calculamos la solución?  \n",
    "\n",
    "NOTA: La conclusión al final, es que antes de calcular las soluciones, debería saber qué tipo de sistema tengo, es decir, cuántas soluciones hay, si las hay, porque los métodos no fallan, pero devuelven soluciones erróneas.  \n",
    "\n",
    "**Método de la matriz inversa**  \n",
    "\n",
    "Dada A $\\cdot$ X = B, entonces X=A<sup>-1</sup> $\\cdot$ B\n",
    "\n",
    "<span style=\"color:orange\"> Ejemplo:  \n",
    "Calculemos la solución del siguiente sistema de ecuaciones (SCD) usando Python y el método de la matriz inversa.  \n",
    "</style>  \n",
    "> <span style=\"color:orange\">x<sub>1</sub> − 2x<sub>2</sub> + x<sub>3</sub> = 0 </style>  \n",
    "> <span style=\"color:orange\">2x<sub>2</sub>−8x<sub>3</sub>= 8  </style>  \n",
    "> <span style=\"color:orange\">−4x<sub>1</sub> + 5x<sub>2</sub> + 9x<sub>3</sub> =− 9</style>"
   ]
  },
  {
   "cell_type": "code",
   "execution_count": 21,
   "metadata": {},
   "outputs": [
    {
     "data": {
      "text/plain": [
       "matrix([[29.],\n",
       "        [16.],\n",
       "        [ 3.]])"
      ]
     },
     "execution_count": 21,
     "metadata": {},
     "output_type": "execute_result"
    }
   ],
   "source": [
    "import numpy as np\n",
    "A=np.matrix([\n",
    "    [1,-2,1],\n",
    "    [0,2,-8],\n",
    "    [-4,5,9]\n",
    "   ])\n",
    "B=np.matrix([\n",
    "    [0],[8],[-9]\n",
    "])\n",
    "inv_A=np.linalg.inv(A)\n",
    "inv_A*B"
   ]
  },
  {
   "cell_type": "markdown",
   "metadata": {},
   "source": [
    "<span style=\"color:orange\"> Ejemplo:  \n",
    "Calculemos la solución del siguiente sistema de ecuaciones (SI) usando Python y el método de la matriz inversa. </style>\n",
    "> <span style=\"color:orange\">x<sub>2</sub> −4x<sub>3</sub> =8  </style>  \n",
    "> <span style=\"color:orange\">2x<sub>1</sub> −3x<sub>2</sub> + 2x<sub>3</sub> =1  </style>  \n",
    "> <span style=\"color:orange\">5x<sub>1</sub> −8x<sub>2</sub> + 7x<sub>3</sub> =1</style>"
   ]
  },
  {
   "cell_type": "code",
   "execution_count": 20,
   "metadata": {},
   "outputs": [
    {
     "data": {
      "text/plain": [
       "matrix([[-9.00719925e+15],\n",
       "        [-7.20575940e+15],\n",
       "        [-1.80143985e+15]])"
      ]
     },
     "execution_count": 20,
     "metadata": {},
     "output_type": "execute_result"
    }
   ],
   "source": [
    "import numpy as np\n",
    "A=np.matrix([\n",
    "    [0,1,-4],\n",
    "    [2,-3,2],\n",
    "    [5,-8,7]\n",
    "   ])\n",
    "B=np.matrix([\n",
    "    [8],[1],[1]\n",
    "])\n",
    "inv_A=np.linalg.inv(A)\n",
    "inv_A*B"
   ]
  },
  {
   "cell_type": "markdown",
   "metadata": {},
   "source": [
    "<span style=\"color:orange\">Sabíamos que no tenía solución y si nos fijamos los números que devuelve son enormes para el rango en que estamos trabajando, es como si fuesen \"infinito\".</style>"
   ]
  },
  {
   "cell_type": "markdown",
   "metadata": {},
   "source": [
    "<span style=\"color:orange\"> Ejemplo:  \n",
    "Calculemos la solución del siguiente sistema de ecuaciones (SCI) usando Python y el método de la matriz inversa.</style>  \n",
    "> <span style=\"color:orange\">x<sub>1</sub> +x<sub>3</sub> =2  </style>  \n",
    "> <span style=\"color:orange\">2x<sub>1</sub> +3x<sub>2</sub> + x<sub>3</sub> =3  </style>  \n",
    "> <span style=\"color:orange\">3x<sub>1</sub> +3x<sub>2</sub> + 2x<sub>3</sub> =5</style>"
   ]
  },
  {
   "cell_type": "code",
   "execution_count": 19,
   "metadata": {},
   "outputs": [
    {
     "data": {
      "text/plain": [
       "matrix([[0.],\n",
       "        [0.],\n",
       "        [0.]])"
      ]
     },
     "execution_count": 19,
     "metadata": {},
     "output_type": "execute_result"
    }
   ],
   "source": [
    "import numpy as np\n",
    "A=np.matrix([\n",
    "    [1,0,1],\n",
    "    [2,3,1],\n",
    "    [3,3,2]\n",
    "   ])\n",
    "B=np.matrix([\n",
    "    [2],[3],[5]\n",
    "])\n",
    "inv_A=np.linalg.inv(A)\n",
    "inv_A*B"
   ]
  },
  {
   "cell_type": "markdown",
   "metadata": {},
   "source": [
    "<span style=\"color:orange\"> En este caso me devuelve una solución \"confusa\", porque podría ser o no solución, y, además sabemos que tiene infinitas soluciones.  \n",
    "¿Cómo haríamos para calcular todas las posibles?  \n",
    "El método más general matemáticamente es la reducción gaussiana:  \n",
    "$\n",
    "  A=\n",
    "  \\left[ {\\begin{array}{cc}\n",
    "   1 & 0 & 1 & 2\\\\\n",
    "   2 & 3 & 1 & 3\\\\\n",
    "   3 & 3 & 2 & 5\\\\\n",
    "  \\end{array} } \\right]\n",
    "$  =  $\n",
    "  \\left[ {\\begin{array}{cc}\n",
    "   1 & 0 & 1 & 2\\\\\n",
    "   0 & 3 & -1 & -1\\\\\n",
    "   0 & 3 & -1 & -1\\\\\n",
    "  \\end{array} } \\right]\n",
    "$ = $\n",
    "  \\left[ {\\begin{array}{cc}\n",
    "   1 & 0 & 1 & 2\\\\\n",
    "   0 & 3 & -1 & -1\\\\\n",
    "   0 & 0 & 0 & 0\\\\\n",
    "  \\end{array} } \\right]\n",
    "$  \n",
    "Lo que se traduce en:  </style>\n",
    "><span style=\"color:orange\"> x<sub>1</sub>+x<sub>3</sub>=2</style>  \n",
    "><span style=\"color:orange\"> 3x<sub>2</sub>-x<sub>3</sub>=-1</style>  \n",
    "\n",
    "<span style=\"color:orange\"> Como comparten el x<sub>3</sub>, x<sub>3</sub>=$\\lambda$.  \n",
    "Luego la solución queda:  \n",
    "> <span style=\"color:orange\">x<sub>1</sub> = 2-$\\lambda$</style>    \n",
    "> <span style=\"color:orange\">x<sub>2</sub> = $\\frac{-1+\\lambda}{3}$</style>    \n",
    "> <span style=\"color:orange\">x<sub>3</sub>=$\\lambda$</style>  \n",
    "\n",
    "En Python ya vimos que hay un modo más rápido para calcular las soluciones de un sistema, en particular bastante útil cuando tiene infinitas soluciones.  \n",
    "\n",
    "** Método \"solve_linear_system\" de Sympy **"
   ]
  },
  {
   "cell_type": "markdown",
   "metadata": {},
   "source": [
    "<span style=\"color:orange\"> Ejemplo:  \n",
    "Calculemos la solución del siguiente sistema de ecuaciones (SCD) usando Sympy.  \n",
    "</style>  \n",
    "> <span style=\"color:orange\">x<sub>1</sub> − 2x<sub>2</sub> + x<sub>3</sub> = 0 </style>  \n",
    "> <span style=\"color:orange\">2x<sub>2</sub>−8x<sub>3</sub>= 8  </style>  \n",
    "> <span style=\"color:orange\">−4x<sub>1</sub> + 5x<sub>2</sub> + 9x<sub>3</sub> =− 9</style>"
   ]
  },
  {
   "cell_type": "code",
   "execution_count": 22,
   "metadata": {},
   "outputs": [
    {
     "data": {
      "text/plain": [
       "{x: 29, y: 16, z: 3}"
      ]
     },
     "execution_count": 22,
     "metadata": {},
     "output_type": "execute_result"
    }
   ],
   "source": [
    "from sympy import Matrix, solve_linear_system\n",
    "from sympy.abc import x,y,z \n",
    "\n",
    "A=Matrix([\n",
    "    [1,-2,1,0],\n",
    "    [0,2,-8,8],\n",
    "    [-4,5,9,-9]\n",
    "   ])\n",
    "\n",
    "solve_linear_system(A,x,y,z)\n",
    "# Me devuelve la solución perfectamente"
   ]
  },
  {
   "cell_type": "markdown",
   "metadata": {},
   "source": [
    "<span style=\"color:orange\"> Ejemplo:  \n",
    "Calculemos la solución del siguiente sistema de ecuaciones (SI) usando Sympy. </style>\n",
    "> <span style=\"color:orange\">x<sub>2</sub> −4x<sub>3</sub> =8  </style>  \n",
    "> <span style=\"color:orange\">2x<sub>1</sub> −3x<sub>2</sub> + 2x<sub>3</sub> =1  </style>  \n",
    "> <span style=\"color:orange\">5x<sub>1</sub> −8x<sub>2</sub> + 7x<sub>3</sub> =1</style>"
   ]
  },
  {
   "cell_type": "code",
   "execution_count": 27,
   "metadata": {},
   "outputs": [],
   "source": [
    "from sympy import Matrix, solve_linear_system\n",
    "from sympy.abc import x,y,z \n",
    "\n",
    "A=Matrix([\n",
    "    [0,1,-4,8],\n",
    "    [2,-3,2,1],\n",
    "    [5,-8,7,1]\n",
    "   ])\n",
    "\n",
    "solve_linear_system(A,x,y,z)\n",
    "# Ni siquiera devuelve nada, aunque no falla"
   ]
  },
  {
   "cell_type": "markdown",
   "metadata": {},
   "source": [
    "<span style=\"color:orange\"> Ejemplo:  \n",
    "Calculemos la solución del siguiente sistema de ecuaciones (SCI) usando Sympy.</style>  \n",
    "> <span style=\"color:orange\">x<sub>1</sub> +x<sub>3</sub> =2  </style>  \n",
    "> <span style=\"color:orange\">2x<sub>1</sub> +3x<sub>2</sub> + x<sub>3</sub> =3  </style>  \n",
    "> <span style=\"color:orange\">3x<sub>1</sub> +3x<sub>2</sub> + 2x<sub>3</sub> =5</style>"
   ]
  },
  {
   "cell_type": "code",
   "execution_count": 28,
   "metadata": {},
   "outputs": [
    {
     "data": {
      "text/plain": [
       "{y: z/3 - 1/3, x: -z + 2}"
      ]
     },
     "execution_count": 28,
     "metadata": {},
     "output_type": "execute_result"
    }
   ],
   "source": [
    "from sympy import Matrix, solve_linear_system\n",
    "from sympy.abc import x,y,z \n",
    "\n",
    "A=Matrix([\n",
    "    [1,0,1,2],\n",
    "    [2,3,1,3],\n",
    "    [3,3,2,5]\n",
    "])\n",
    "solve_linear_system(A,x,y,z)\n",
    "# Me devuelve la solución perfectamente"
   ]
  },
  {
   "cell_type": "markdown",
   "metadata": {},
   "source": [
    "**Método de Cramer**\n",
    "\n",
    "Dada A $\\cdot$ X = B, entonces:\n",
    "* x=$\\frac{A_x}{detA}$  \n",
    "* y=$\\frac{A_y}{detA}$  \n",
    "* z=$\\frac{A_z}{detA}$  \n",
    "\n",
    "<span style=\"color:orange\"> Ejemplo:  \n",
    "Calculemos la solución del siguiente sistema de ecuaciones (SCD) usando Python y el método de Cramer.  \n",
    "</style>  \n",
    "> <span style=\"color:orange\">x<sub>1</sub> − 2x<sub>2</sub> + x<sub>3</sub> = 0 </style>  \n",
    "> <span style=\"color:orange\">2x<sub>2</sub>−8x<sub>3</sub>= 8  </style>  \n",
    "> <span style=\"color:orange\">−4x<sub>1</sub> + 5x<sub>2</sub> + 9x<sub>3</sub> =− 9</style>\n"
   ]
  },
  {
   "cell_type": "code",
   "execution_count": 29,
   "metadata": {},
   "outputs": [
    {
     "data": {
      "text/plain": [
       "[29.0, 16.0, 3.0]"
      ]
     },
     "execution_count": 29,
     "metadata": {},
     "output_type": "execute_result"
    }
   ],
   "source": [
    "import numpy as np\n",
    "A=np.matrix([\n",
    "    [1,-2,1],\n",
    "    [0,2,-8],\n",
    "    [-4,5,9]\n",
    "   ])\n",
    "AX=np.matrix([\n",
    "    [0,-2,1],\n",
    "    [8,2,-8],\n",
    "    [-9,5,9]\n",
    "])\n",
    "AY=np.matrix([\n",
    "    [1,0,1],\n",
    "    [0,8,-8],\n",
    "    [-4,-9,9]\n",
    "])\n",
    "AZ=np.matrix([\n",
    "    [1,-2,0],\n",
    "    [0,2,8],\n",
    "    [-4,5,-9]\n",
    "])\n",
    "x=np.linalg.det(AX)/np.linalg.det(A)\n",
    "y=np.linalg.det(AY)/np.linalg.det(A)\n",
    "z=np.linalg.det(AZ)/np.linalg.det(A)\n",
    "X=([round(x),round(y),round(z)])\n",
    "X"
   ]
  },
  {
   "cell_type": "markdown",
   "metadata": {},
   "source": [
    "<span style=\"color:orange\"> Ejemplo:  \n",
    "Calculemos la solución del siguiente sistema de ecuaciones (SI) usando Python y el método de Cramer. </style>\n",
    "> <span style=\"color:orange\">x<sub>2</sub> −4x<sub>3</sub> =8  </style>  \n",
    "> <span style=\"color:orange\">2x<sub>1</sub> −3x<sub>2</sub> + 2x<sub>3</sub> =1  </style>  \n",
    "> <span style=\"color:orange\">5x<sub>1</sub> −8x<sub>2</sub> + 7x<sub>3</sub> =1</style>"
   ]
  },
  {
   "cell_type": "code",
   "execution_count": 31,
   "metadata": {},
   "outputs": [
    {
     "data": {
      "text/plain": [
       "[-9007199254740938.0, -7205759403792747.0, -1801439850948190.0]"
      ]
     },
     "execution_count": 31,
     "metadata": {},
     "output_type": "execute_result"
    }
   ],
   "source": [
    "import numpy as np\n",
    "A=np.matrix([\n",
    "    [0,1,-4],\n",
    "    [2,-3,2],\n",
    "    [5,-8,7]\n",
    "   ])\n",
    "AX=([\n",
    "    [8,1,-4],\n",
    "    [1,-3,2],\n",
    "    [1,-8,7]\n",
    "])\n",
    "AY=([\n",
    "    [0,8,-4],\n",
    "    [2,1,2],\n",
    "    [5,1,7]\n",
    "])\n",
    "AZ=([\n",
    "    [0,1,8],\n",
    "    [2,-3,1],\n",
    "    [5,-8,1]\n",
    "])\n",
    "x=np.linalg.det(AX)/np.linalg.det(A)\n",
    "y=np.linalg.det(AY)/np.linalg.det(A)\n",
    "z=np.linalg.det(AZ)/np.linalg.det(A)\n",
    "X=([round(x),round(y),round(z)])\n",
    "X\n",
    "# Como antes, me devuelve unos números terriblemente grandes, ya que no tenía solución. \n",
    "# Eso si, no falla"
   ]
  },
  {
   "cell_type": "markdown",
   "metadata": {},
   "source": [
    "<span style=\"color:orange\"> Ejemplo:  \n",
    "Calculemos la solución del siguiente sistema de ecuaciones (SCI) usando Python y el método de Cramer.</style>  \n",
    "> <span style=\"color:orange\">x<sub>1</sub> +x<sub>3</sub> =2  </style>  \n",
    "> <span style=\"color:orange\">2x<sub>1</sub> +3x<sub>2</sub> + x<sub>3</sub> =3  </style>  \n",
    "> <span style=\"color:orange\">3x<sub>1</sub> +3x<sub>2</sub> + 2x<sub>3</sub> =5</style>"
   ]
  },
  {
   "cell_type": "code",
   "execution_count": 33,
   "metadata": {},
   "outputs": [
    {
     "data": {
      "text/plain": [
       "[-5.0, 0.0, 3.0]"
      ]
     },
     "execution_count": 33,
     "metadata": {},
     "output_type": "execute_result"
    }
   ],
   "source": [
    "import numpy as np\n",
    "A=np.matrix([\n",
    "    [1,0,1],\n",
    "    [2,3,1],\n",
    "    [3,3,2]\n",
    "   ])\n",
    "AX=np.matrix([\n",
    "    [2,0,1],\n",
    "    [3,3,1],\n",
    "    [5,3,2]\n",
    "])\n",
    "AY=np.matrix([\n",
    "    [1,2,1],\n",
    "    [2,3,1],\n",
    "    [3,5,2]\n",
    "])\n",
    "AZ=np.matrix([\n",
    "    [1,0,2],\n",
    "    [2,3,3],\n",
    "    [3,3,5]\n",
    "])\n",
    "x=np.linalg.det(AX)/np.linalg.det(A)\n",
    "y=np.linalg.det(AY)/np.linalg.det(A)\n",
    "z=np.linalg.det(AZ)/np.linalg.det(A)\n",
    "X=([round(x),round(y),round(z)])\n",
    "X\n",
    "# Devuelve una solución, pero si os fijais es errónea"
   ]
  },
  {
   "cell_type": "markdown",
   "metadata": {},
   "source": [
    "** Método de resolución de ecuaciones con Numpy**\n",
    "\n",
    "<span style=\"color:orange\"> Ejemplo:   \n",
    "Calculemos la solución del siguiente sistema de ecuaciones (SCD) usando Numpy\n",
    "</style>  \n",
    "> <span style=\"color:orange\">x<sub>1</sub> − 2x<sub>2</sub> + x<sub>3</sub> = 0 </style>  \n",
    "> <span style=\"color:orange\">2x<sub>2</sub>−8x<sub>3</sub>= 8  </style>  \n",
    "> <span style=\"color:orange\">−4x<sub>1</sub> + 5x<sub>2</sub> + 9x<sub>3</sub> =− 9</style>"
   ]
  },
  {
   "cell_type": "code",
   "execution_count": 1,
   "metadata": {},
   "outputs": [
    {
     "data": {
      "text/plain": [
       "matrix([[29.],\n",
       "        [16.],\n",
       "        [ 3.]])"
      ]
     },
     "execution_count": 1,
     "metadata": {},
     "output_type": "execute_result"
    }
   ],
   "source": [
    "import numpy as np\n",
    "\n",
    "A = np.matrix(\n",
    "    [[1,-2,1],\n",
    "    [0,2,-8],\n",
    "    [-4,5,9]]\n",
    ")\n",
    "\n",
    "B = np.matrix(\n",
    "    [[0],\n",
    "     [8],\n",
    "     [-9]]\n",
    ")\n",
    "\n",
    "X = np.linalg.solve(A, B)\n",
    "X"
   ]
  },
  {
   "cell_type": "markdown",
   "metadata": {},
   "source": [
    "<span style=\"color:orange\"> Ejemplo:  \n",
    "Calculemos la solución del siguiente sistema de ecuaciones (SI) usando Numpy.  </style>   \n",
    "> <span style=\"color:orange\">x<sub>2</sub> −4x<sub>3</sub> =8  </style>  \n",
    "> <span style=\"color:orange\">2x<sub>1</sub> −3x<sub>2</sub> + 2x<sub>3</sub> =1  </style>  \n",
    "> <span style=\"color:orange\">5x<sub>1</sub> −8x<sub>2</sub> + 7x<sub>3</sub> =1</style>"
   ]
  },
  {
   "cell_type": "code",
   "execution_count": 35,
   "metadata": {},
   "outputs": [
    {
     "data": {
      "text/plain": [
       "matrix([[-9.00719925e+15],\n",
       "        [-7.20575940e+15],\n",
       "        [-1.80143985e+15]])"
      ]
     },
     "execution_count": 35,
     "metadata": {},
     "output_type": "execute_result"
    }
   ],
   "source": [
    "import numpy as np\n",
    "\n",
    "A = np.matrix([\n",
    "    [0,1,-4],\n",
    "    [2,-3,2],\n",
    "    [5,-8,7]\n",
    "])\n",
    "\n",
    "B = np.matrix(\n",
    "    [[8],\n",
    "     [1],\n",
    "     [1]]\n",
    ")\n",
    "\n",
    "X = np.linalg.solve(A, B)\n",
    "X\n",
    "# Como podemos ver, no vale porque devuelve solución cuando no la hay."
   ]
  },
  {
   "cell_type": "markdown",
   "metadata": {},
   "source": [
    "<span style=\"color:orange\"> Ejemplo:  \n",
    "Calculemos la solución del siguiente sistema de ecuaciones (SCI) usando Numpy</style>  \n",
    "> <span style=\"color:orange\">x<sub>1</sub> +x<sub>3</sub> =2  </style>  \n",
    "> <span style=\"color:orange\">2x<sub>1</sub> +3x<sub>2</sub> + x<sub>3</sub> =3  </style>  \n",
    "> <span style=\"color:orange\">3x<sub>1</sub> +3x<sub>2</sub> + 2x<sub>3</sub> =5</style>"
   ]
  },
  {
   "cell_type": "code",
   "execution_count": 36,
   "metadata": {},
   "outputs": [
    {
     "data": {
      "text/plain": [
       "matrix([[-0.5],\n",
       "        [ 0.5],\n",
       "        [ 2.5]])"
      ]
     },
     "execution_count": 36,
     "metadata": {},
     "output_type": "execute_result"
    }
   ],
   "source": [
    "import numpy as np\n",
    "\n",
    "A = np.matrix([\n",
    "    [1,0,1],\n",
    "    [2,3,1],\n",
    "    [3,3,2]\n",
    "])\n",
    "\n",
    "B = np.matrix(\n",
    "    [[2],\n",
    "     [3],\n",
    "     [5]]\n",
    ")\n",
    "\n",
    "X = np.linalg.solve(A, B)\n",
    "X\n",
    "# Nuevamente, solución confusa"
   ]
  },
  {
   "cell_type": "markdown",
   "metadata": {},
   "source": [
    "<span style=\"color:blue\"> Ejemplo: El mercado ganadero </style>   \n",
    "\n",
    "<img src=\"Images/ganado.jpg\" style=\"width: 300px;\"/>\n",
    "\n",
    "<span style=\"color:blue\"> Tres campesinos se encontraron en el mercado ganadero.</style>  \n",
    "* <span style=\"color:blue\"> <span style=\"color:blue\"> Mira, le dijo Luis a Juan, te daré 6 de mis cerdos por 1 de tus caballos y así tendrás el doble de animales que yo.</style>  \n",
    "* <span style=\"color:blue\"> Si ése es tu modo de hacer negocios, le dijo Pepe a Luis, te daré 14 ovejas por 1 caballo, y entonces tendrás el triple de animales que yo.</style>  \n",
    "* <span style=\"color:blue\"> Bien, le dijo Juan a Pepe. Te daré 4 vacas por un caballo y entonces tendrás seis veces más animales que yo.</style>  \n",
    "<span style=\"color:blue\"> ¿Cuántos animales llevaron al mercado Juan, Luis y Pepe?</style>  "
   ]
  },
  {
   "cell_type": "markdown",
   "metadata": {},
   "source": [
    "<span style=\"color:blue\"> Llamemos L al número de animales que tiene Luis, J al número de animales que posee Juan y P al número de animales pertenecientes a Pepe.</style>  \n",
    "> <span style=\"color:blue\">J-1+6=2·(L-6+1)</style>  \n",
    "> <span style=\"color:blue\">L-1+14=3·(P-14+1)</style>  \n",
    "> <span style=\"color:blue\">P+4-1=6·(J+1-4)</style>  \n",
    "  \n",
    "  \n",
    "> <span style=\"color:blue\">J-2L=-15</style>  \n",
    "> <span style=\"color:blue\">L-3P=-52</style>  \n",
    "> <span style=\"color:blue\">P-6J=-21</style> "
   ]
  },
  {
   "cell_type": "code",
   "execution_count": 1,
   "metadata": {},
   "outputs": [
    {
     "data": {
      "text/plain": [
       "matrix([[ 7.],\n",
       "        [11.],\n",
       "        [21.]])"
      ]
     },
     "execution_count": 1,
     "metadata": {},
     "output_type": "execute_result"
    }
   ],
   "source": [
    "import numpy as np\n",
    "\n",
    "A = np.matrix([\n",
    "    [1,-2,0],\n",
    "    [0,1,-3],\n",
    "    [-6,0,1]\n",
    "])\n",
    "\n",
    "B = np.matrix(\n",
    "    [[-15],\n",
    "     [-52],\n",
    "     [-21]]\n",
    ")\n",
    "\n",
    "X = np.linalg.solve(A, B)\n",
    "X"
   ]
  },
  {
   "cell_type": "markdown",
   "metadata": {},
   "source": [
    "**Método de los mínimos cuadrado** \n",
    "\n",
    "En el caso de que un sistema sea incompatible, podemos aproximar las soluciones utilizando el **Método de los mínimos cuadrado**\n",
    "\n",
    "**El método de los mínimos cuadrados** nos permite resolver de forma aproximada sistemas de ecuaciones.**  \n",
    "\n",
    "**Supongamos que tratamos de resolver un sistema de la forma Ax = b.**  \n",
    "\n",
    "Identificando la matriz A con la matriz de una determinada aplicación lineal que la define, en una base dada, podemos entender que el sistema tiene solución siempre y cuando b ∈ Im(A). O dicho de otro modo, la columna correspondiente al segundo miembro debe ser linealmente dependiente de las columnas de la matriz A, que en esencia es lo que afirma el Teorema de Rouché-Frobenius.  \n",
    "\n",
    "Supongamos que no existe solución para este sistema. En este caso, puede ser interesante estudiar para qué vector o vectores x', Ax' ≈ b, esto es, tratamos de buscar una solución aproximada del sistema.  \n",
    "\n",
    "Una forma de interpretar esta aproximación es la siguiente:  \n",
    "Si Ax' ≈ b, entonces podemos intentar encontrar x' tal que kAx' − bk sea lo menor posible.  \n",
    "Es decir, tratamos de resolver el problema min<sub>x</sub>$\\|$Ax − b $\\|$  \n",
    "\n",
    "Si el sistema tiene solución, entonces el mínimo del problema anterior es cero, y por tanto Ax = b; pero si no hay solución, tiene sentido buscar el vector x que haga menor esa norma, y por tanto que más se parece a una solución.  \n",
    "\n",
    "Por otra parte, dado cualquier vector x, es evidente que Ax ∈ Im(A), luego el problema anterior se puede escribir como:  \n",
    "min<sub>y∈Im(A)</sub>$\\|$y − b $\\|$b  \n",
    "\n",
    "Al final, usando teoría de proyecciones ortogonales y algún otro concepto, se llega a la conclusión de que **se trata de resolver el sistema A<sup>T</sup>Ax'=A<sup>T</sup>b**\n",
    "\n",
    "<span style=\"color:orange\"> Ejemplo:  \n",
    "Resolver de forma aproximada el sistema</style>  \n",
    "> <span style=\"color:orange\"> x1 + x2 + x3 = 1</style>    \n",
    "> <span style=\"color:orange\"> x1 + x2 − x3 = 1</style>  \n",
    "> <span style=\"color:orange\"> x3 = 1</style>  \n",
    "\n"
   ]
  },
  {
   "cell_type": "code",
   "execution_count": 2,
   "metadata": {},
   "outputs": [
    {
     "data": {
      "text/plain": [
       "2"
      ]
     },
     "execution_count": 2,
     "metadata": {},
     "output_type": "execute_result"
    }
   ],
   "source": [
    "import numpy as np\n",
    "A=np.matrix([\n",
    "    [1,1,1],\n",
    "    [1,1,-1],\n",
    "    [0,0,1]\n",
    "])\n",
    "B=np.matrix([\n",
    "    [1],\n",
    "    [1],\n",
    "    [1]\n",
    "])\n",
    "AM=np.matrix([\n",
    "    [1,1,1,1],\n",
    "    [1,1,-1,1],\n",
    "    [0,0,1,1]\n",
    "])\n",
    "rangoA=np.linalg.matrix_rank(A)\n",
    "rangoA"
   ]
  },
  {
   "cell_type": "code",
   "execution_count": 3,
   "metadata": {},
   "outputs": [
    {
     "data": {
      "text/plain": [
       "3"
      ]
     },
     "execution_count": 3,
     "metadata": {},
     "output_type": "execute_result"
    }
   ],
   "source": [
    "rangoAM=np.linalg.matrix_rank(AM)\n",
    "rangoAM"
   ]
  },
  {
   "cell_type": "markdown",
   "metadata": {},
   "source": [
    "<span style=\"color:orange\"> Luego es un sistema incompatible, por lo que no tiene solución.  \n",
    "Queremos calcular AT*A*x'=AT*B  , que lo vamos a definir como: A2*x'=B2.</style>    \n",
    "\n"
   ]
  },
  {
   "cell_type": "code",
   "execution_count": 4,
   "metadata": {},
   "outputs": [
    {
     "data": {
      "text/plain": [
       "matrix([[2, 2, 0],\n",
       "        [2, 2, 0],\n",
       "        [0, 0, 3]])"
      ]
     },
     "execution_count": 4,
     "metadata": {},
     "output_type": "execute_result"
    }
   ],
   "source": [
    "A2=np.transpose(A)*A\n",
    "A2"
   ]
  },
  {
   "cell_type": "code",
   "execution_count": 5,
   "metadata": {},
   "outputs": [
    {
     "data": {
      "text/plain": [
       "matrix([[2],\n",
       "        [2],\n",
       "        [1]])"
      ]
     },
     "execution_count": 5,
     "metadata": {},
     "output_type": "execute_result"
    }
   ],
   "source": [
    "B2=np.transpose(A)*B\n",
    "B2"
   ]
  },
  {
   "cell_type": "markdown",
   "metadata": {},
   "source": [
    "<span style=\"color:orange\">$ \\left[ {\\begin{array}{cc}\n",
    "   2 & 2 & 0 \\\\\n",
    "   2 & 2 & 0 \\\\\n",
    "   0 & 0 & 3 \\\\\n",
    "  \\end{array} } \\right]\n",
    "* \\left[ {\\begin{array}{cc}\n",
    "   x_1 \\\\\n",
    "   x_2 \\\\\n",
    "   x_3 \\\\\n",
    "  \\end{array} } \\right] = \\left[ {\\begin{array}{cc}\n",
    "   2 \\\\\n",
    "   2 \\\\\n",
    "   1 \\\\\n",
    "  \\end{array} } \\right]$</style>    \n",
    "\n",
    "<span style=\"color:orange\">x<sub>1</sub>+x<sub>2</sub>=1  \n",
    "3x<sub>3</sub>=1  </style>  \n",
    "  \n",
    "<span style=\"color:orange\">x<sub>2</sub>=1 -x<sub>1</sub>  \n",
    "x<sub>3</sub>=$\\frac{1}{3}$</style>  \n",
    "\n",
    "<span style=\"color:orange\">Solución: (a,1-a,$\\frac{1}{3}$)</style>    "
   ]
  },
  {
   "cell_type": "markdown",
   "metadata": {},
   "source": [
    "<span style=\"color:blue\"> Ejemplo:  \n",
    "Encontrar la recta que mejor aproxima a los puntos (1, 1), (2, 3), (3, 5) y (4, 6).</style>  \n",
    "> <span style=\"color:blue\">a+b=1</style>   \n",
    "> <span style=\"color:blue\">2a+b=3</style>   \n",
    "> <span style=\"color:blue\">3a+b=5</style>   \n",
    "> <span style=\"color:blue\">4a+b=6</style> \n",
    "\n",
    "<span style=\"color:blue\">Ax=b.  \n",
    "$A=\\left[ {\\begin{array}{cc}\n",
    "   1 & 1 \\\\\n",
    "   2 & 1\\\\\n",
    "   3 & 1\\\\\n",
    "   4 & 1\\\\\n",
    "  \\end{array} } \\right]$ y $b=\\left[ {\\begin{array}{cc}\n",
    "   1  \\\\\n",
    "   3 \\\\\n",
    "   5 \\\\\n",
    "   6 \\\\\n",
    "  \\end{array} } \\right]$</style>"
   ]
  },
  {
   "cell_type": "code",
   "execution_count": 6,
   "metadata": {},
   "outputs": [
    {
     "data": {
      "text/plain": [
       "2"
      ]
     },
     "execution_count": 6,
     "metadata": {},
     "output_type": "execute_result"
    }
   ],
   "source": [
    "import numpy as np\n",
    "A=([\n",
    "    [1,1],\n",
    "    [2,1],\n",
    "    [3,1],\n",
    "    [4,1]\n",
    "])\n",
    "AM=([\n",
    "    [1,1,1],\n",
    "    [2,1,3],\n",
    "    [3,1,5],\n",
    "    [4,1,6]\n",
    "])\n",
    "np.linalg.matrix_rank(A)"
   ]
  },
  {
   "cell_type": "code",
   "execution_count": 7,
   "metadata": {},
   "outputs": [
    {
     "data": {
      "text/plain": [
       "3"
      ]
     },
     "execution_count": 7,
     "metadata": {},
     "output_type": "execute_result"
    }
   ],
   "source": [
    "import numpy as np\n",
    "A=([\n",
    "    [1,1],\n",
    "    [2,1],\n",
    "    [3,1],\n",
    "    [4,1]\n",
    "])\n",
    "AM=([\n",
    "    [1,1,1],\n",
    "    [2,1,3],\n",
    "    [3,1,5],\n",
    "    [4,1,6]\n",
    "])\n",
    "np.linalg.matrix_rank(AM)"
   ]
  },
  {
   "cell_type": "markdown",
   "metadata": {},
   "source": [
    "<span style=\"color:blue\"> Luego es un sistema incompatible, por lo que no tiene solución.  \n",
    "Queremos calcular AT*A*x'=AT*B  , que lo vamos a definir como: A2*x'=B2.</style>   "
   ]
  },
  {
   "cell_type": "code",
   "execution_count": 8,
   "metadata": {},
   "outputs": [
    {
     "data": {
      "text/plain": [
       "matrix([[30, 10],\n",
       "        [10,  4]])"
      ]
     },
     "execution_count": 8,
     "metadata": {},
     "output_type": "execute_result"
    }
   ],
   "source": [
    "import numpy as np\n",
    "A=np.matrix([\n",
    "    [1,1],\n",
    "    [2,1],\n",
    "    [3,1],\n",
    "    [4,1]\n",
    "])\n",
    "B=np.matrix([\n",
    "    [1],\n",
    "    [3],\n",
    "    [5],\n",
    "    [6]\n",
    "])\n",
    "A2=np.transpose(A)*A\n",
    "A2"
   ]
  },
  {
   "cell_type": "code",
   "execution_count": 9,
   "metadata": {},
   "outputs": [
    {
     "data": {
      "text/plain": [
       "matrix([[46],\n",
       "        [15]])"
      ]
     },
     "execution_count": 9,
     "metadata": {},
     "output_type": "execute_result"
    }
   ],
   "source": [
    "import numpy as np\n",
    "A=np.matrix([\n",
    "    [1,1],\n",
    "    [2,1],\n",
    "    [3,1],\n",
    "    [4,1]\n",
    "])\n",
    "B=np.matrix([\n",
    "    [1],\n",
    "    [3],\n",
    "    [5],\n",
    "    [6]\n",
    "])\n",
    "B2=np.transpose(A)*B\n",
    "B2"
   ]
  },
  {
   "cell_type": "markdown",
   "metadata": {},
   "source": [
    "<span style=\"color:blue\">$A2=\\left[ {\\begin{array}{cc}\n",
    "   30 & 10 \\\\\n",
    "   10 & 40\\\\\n",
    "  \\end{array} } \\right]$ y $B2=\\left[ {\\begin{array}{cc}\n",
    "   46 \\\\\n",
    "   15 \\\\\n",
    "  \\end{array} } \\right]$  </style>  \n",
    "  \n",
    "  > <span style=\"color:blue\">30a+10b=46. </style>    \n",
    "  > <span style=\"color:blue\">10a+40b=15</style> "
   ]
  },
  {
   "cell_type": "code",
   "execution_count": 10,
   "metadata": {},
   "outputs": [
    {
     "data": {
      "text/plain": [
       "2"
      ]
     },
     "execution_count": 10,
     "metadata": {},
     "output_type": "execute_result"
    }
   ],
   "source": [
    "np.linalg.matrix_rank(A2)"
   ]
  },
  {
   "cell_type": "code",
   "execution_count": 11,
   "metadata": {},
   "outputs": [
    {
     "data": {
      "text/plain": [
       "2"
      ]
     },
     "execution_count": 11,
     "metadata": {},
     "output_type": "execute_result"
    }
   ],
   "source": [
    "AM2=([\n",
    "    [30,10,46],\n",
    "    [10,40,15]\n",
    "])\n",
    "np.linalg.matrix_rank(AM2)"
   ]
  },
  {
   "cell_type": "markdown",
   "metadata": {},
   "source": [
    "<span style=\"color:blue\">Como es un SCD, la solución es muy sencilla. </style>  "
   ]
  },
  {
   "cell_type": "code",
   "execution_count": 12,
   "metadata": {},
   "outputs": [
    {
     "data": {
      "text/plain": [
       "matrix([[ 1.7],\n",
       "        [-0.5]])"
      ]
     },
     "execution_count": 12,
     "metadata": {},
     "output_type": "execute_result"
    }
   ],
   "source": [
    "np.linalg.solve(A2,B2)"
   ]
  },
  {
   "cell_type": "markdown",
   "metadata": {},
   "source": [
    "<span style=\"color:blue\">Por tanto, la recta es y=1.7x-0.5 </style> "
   ]
  }
 ],
 "metadata": {
  "kernelspec": {
   "display_name": "Python 3",
   "language": "python",
   "name": "python3"
  },
  "language_info": {
   "codemirror_mode": {
    "name": "ipython",
    "version": 3
   },
   "file_extension": ".py",
   "mimetype": "text/x-python",
   "name": "python",
   "nbconvert_exporter": "python",
   "pygments_lexer": "ipython3",
   "version": "3.6.5"
  }
 },
 "nbformat": 4,
 "nbformat_minor": 2
}
