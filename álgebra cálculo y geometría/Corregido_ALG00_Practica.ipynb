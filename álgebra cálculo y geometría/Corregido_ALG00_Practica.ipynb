{
 "cells": [
  {
   "cell_type": "markdown",
   "metadata": {},
   "source": [
    "# Práctica"
   ]
  },
  {
   "cell_type": "markdown",
   "metadata": {},
   "source": [
    "## 1. La conjetura de Collatz\n",
    "\n",
    "<img src=\"Images/comic_collatz.png\" style=\"width: 400px;\"/>\n",
    "\n",
    "Empiezas con un número entero natural cualquiera (1, 2, 3, 4, 5...).  \n",
    "Si el número es par, lo divides por 2  \n",
    "Si es impar, lo multiplicas por 3 y le sumas 1  \n",
    "\n",
    "Escribir un procedimiento en Python que implemente el mecanismo de la conjetura de Collatz para cualquier número entero positivo."
   ]
  },
  {
   "cell_type": "code",
   "execution_count": 1,
   "metadata": {},
   "outputs": [
    {
     "name": "stdout",
     "output_type": "stream",
     "text": [
      "Ingresa un numero: 21\n",
      "La secuencia de Collatz para nuestro número es: \n",
      "21,64,32,16,8,4,2,1\n"
     ]
    }
   ],
   "source": [
    "numero = int(input(\"Ingresa un numero: \"))\n",
    "while numero<=0:\n",
    "    print(\"Debe ser un numero entero positivo\")\n",
    "    numero = int(input(\"Ingresa un numero: \"))\n",
    "print(\"La secuencia de Collatz para nuestro número es: \")\n",
    "while numero != 1:\n",
    "    if numero % 2 == 0:\n",
    "        print(\"%d,\" % (numero), end = \"\")\n",
    "        numero = numero / 2\n",
    "    else:\n",
    "        print(\"%d,\" % (numero), end = \"\")\n",
    "        numero = (numero * 3) + 1\n",
    "\n",
    "    if numero == 1:\n",
    "        print(\"1\")"
   ]
  },
  {
   "cell_type": "markdown",
   "metadata": {},
   "source": [
    "## 2. Suma y producto escalar combinados\n",
    "\n",
    "Usando los procedimientos add y mult_vector_escalar definidos en el notebook **ALG05_Vectores**, calcular:   \n",
    "{$\\alpha$[1,2]+[3,4] : $\\alpha$$\\in$$\\mathbb{R}$, 0$\\leq$$\\alpha$$\\leq$1, con una precision de dos decimales (para la multiplicación)}"
   ]
  },
  {
   "cell_type": "code",
   "execution_count": 1,
   "metadata": {},
   "outputs": [
    {
     "data": {
      "text/plain": [
       "[[3.0, 4.0],\n",
       " [3.01, 4.02],\n",
       " [3.02, 4.04],\n",
       " [3.03, 4.06],\n",
       " [3.04, 4.08],\n",
       " [3.05, 4.1],\n",
       " [3.06, 4.12],\n",
       " [3.07, 4.14],\n",
       " [3.08, 4.16],\n",
       " [3.09, 4.18],\n",
       " [3.1, 4.2],\n",
       " [3.11, 4.22],\n",
       " [3.12, 4.24],\n",
       " [3.13, 4.26],\n",
       " [3.14, 4.28],\n",
       " [3.15, 4.3],\n",
       " [3.16, 4.32],\n",
       " [3.17, 4.34],\n",
       " [3.18, 4.36],\n",
       " [3.19, 4.38],\n",
       " [3.2, 4.4],\n",
       " [3.21, 4.42],\n",
       " [3.22, 4.44],\n",
       " [3.23, 4.46],\n",
       " [3.24, 4.48],\n",
       " [3.25, 4.5],\n",
       " [3.26, 4.52],\n",
       " [3.27, 4.54],\n",
       " [3.28, 4.56],\n",
       " [3.29, 4.58],\n",
       " [3.3, 4.6],\n",
       " [3.31, 4.62],\n",
       " [3.32, 4.64],\n",
       " [3.33, 4.66],\n",
       " [3.34, 4.68],\n",
       " [3.35, 4.7],\n",
       " [3.36, 4.72],\n",
       " [3.37, 4.74],\n",
       " [3.38, 4.76],\n",
       " [3.39, 4.78],\n",
       " [3.4, 4.8],\n",
       " [3.41, 4.82],\n",
       " [3.42, 4.84],\n",
       " [3.43, 4.86],\n",
       " [3.44, 4.88],\n",
       " [3.45, 4.9],\n",
       " [3.46, 4.92],\n",
       " [3.47, 4.94],\n",
       " [3.48, 4.96],\n",
       " [3.49, 4.98],\n",
       " [3.5, 5.0],\n",
       " [3.51, 5.02],\n",
       " [3.52, 5.04],\n",
       " [3.53, 5.06],\n",
       " [3.54, 5.08],\n",
       " [3.55, 5.1],\n",
       " [3.56, 5.12],\n",
       " [3.57, 5.14],\n",
       " [3.58, 5.16],\n",
       " [3.59, 5.18],\n",
       " [3.6, 5.2],\n",
       " [3.61, 5.22],\n",
       " [3.62, 5.24],\n",
       " [3.63, 5.26],\n",
       " [3.64, 5.28],\n",
       " [3.65, 5.3],\n",
       " [3.66, 5.32],\n",
       " [3.67, 5.34],\n",
       " [3.68, 5.36],\n",
       " [3.69, 5.38],\n",
       " [3.7, 5.4],\n",
       " [3.71, 5.42],\n",
       " [3.72, 5.44],\n",
       " [3.73, 5.46],\n",
       " [3.74, 5.48],\n",
       " [3.75, 5.5],\n",
       " [3.76, 5.52],\n",
       " [3.77, 5.54],\n",
       " [3.78, 5.56],\n",
       " [3.79, 5.58],\n",
       " [3.8, 5.6],\n",
       " [3.81, 5.62],\n",
       " [3.82, 5.64],\n",
       " [3.83, 5.66],\n",
       " [3.84, 5.68],\n",
       " [3.85, 5.7],\n",
       " [3.86, 5.72],\n",
       " [3.87, 5.74],\n",
       " [3.88, 5.76],\n",
       " [3.89, 5.78],\n",
       " [3.9, 5.8],\n",
       " [3.91, 5.82],\n",
       " [3.92, 5.84],\n",
       " [3.93, 5.86],\n",
       " [3.94, 5.88],\n",
       " [3.95, 5.9],\n",
       " [3.96, 5.92],\n",
       " [3.97, 5.94],\n",
       " [3.98, 5.96],\n",
       " [3.99, 5.98],\n",
       " [4.0, 6.0]]"
      ]
     },
     "execution_count": 1,
     "metadata": {},
     "output_type": "execute_result"
    }
   ],
   "source": [
    "def add(v,w):\n",
    "    return [v[0]+w[0],v[1]+w[1]]\n",
    "def mult_vector_escalar(alpha,v):\n",
    "    return [alpha*v[i] for i in range(len(v))]\n",
    "W=[add(mult_vector_escalar(i/100,[1,2]),[3,4]) for i in range(101)]\n",
    "W=[[round(v[0],2),round(v[1],2)] for v in W]\n",
    "W"
   ]
  },
  {
   "cell_type": "markdown",
   "metadata": {},
   "source": [
    "## 3. El secreto perfecto\n",
    "\n",
    "Representa la encriptación de la adicción de un n-vector a un n-vector de GF(2)  \n",
    "\n",
    "<img src=\"Images/mortadelo-filemon.jpg\" style=\"width: 300px;\"/>\n",
    "\n",
    "Mortadelo y Filemón usan como clave el siguiente vector:  \n",
    "**k**=[0,1,0,0,1,0,1,0,1,0] \n",
    "\n",
    "Mortadelo quiere enviarle a Filemón el siguiente mensaje:  \n",
    "**p**=[0,0,0,1,1,1,0,1,0,1] \n",
    "\n",
    "Mortadelo encripta su mensaje añadiendo k: \n",
    "**c**=**p**+**k**=[0,0,0,1,1,1,0,1,0,1]+[0,1,0,0,1,0,1,0,1,0]=[0,1,0,1,0,1,1,1,1,1] \n",
    "\n",
    "Cuando Filemón recibe el mensaje, lo desencripta añadiendo **k** a lo que ha recibido \n",
    "**p**=**c**+**k**=[0,1,0,1,0,1,1,1,1,1]+[0,1,0,0,1,0,1,0,1,0]=[0,0,0,1,1,1,0,1,0,1]    \n",
    "\n",
    "que es el mensaje original.\n",
    "\n",
    "La idea es crear un procedimiento para que Filemón:\n",
    "* No tenga que hacer este proceso manualmente cada vez que Mortadelo le envíe un mensaje encriptado para descifrarlo\n",
    "* Si deciden cambiar la clave, que el procedimiento cambie mínimamente\n",
    "\n",
    "  \n"
   ]
  },
  {
   "cell_type": "code",
   "execution_count": 1,
   "metadata": {},
   "outputs": [
    {
     "name": "stdout",
     "output_type": "stream",
     "text": [
      "0\n",
      "1\n",
      "1\n",
      "0\n",
      "El mensaje encriptado es: [0, 1, 0, 1, 0, 1, 1, 1, 1, 1]\n",
      "El mensaje desencriptado es: [0, 0, 0, 1, 1, 1, 0, 1, 0, 1]\n",
      "¿Es el mensaje original igual al mensaje desencriptado?: True\n"
     ]
    }
   ],
   "source": [
    "k=[0,1,0,0,1,0,1,0,1,0]\n",
    "p=[0,0,0,1,1,1,0,1,0,1]\n",
    "\n",
    "def galois_add(a,b):\n",
    "    return (a + b)%2\n",
    "\n",
    "def encriptar_desencriptar(clave, mensaje):\n",
    "    return [galois_add(clave[i],mensaje[i]) for i in range(len(mensaje))]\n",
    "print(galois_add(0,0))\n",
    "print(galois_add(0,1))\n",
    "print(galois_add(1,0))\n",
    "print(galois_add(1,1))\n",
    "c = encriptar_desencriptar(k, p)\n",
    "print(\"El mensaje encriptado es: {}\".format(c))\n",
    "p_1 = encriptar_desencriptar(k, c)\n",
    "print(\"El mensaje desencriptado es: {}\".format(p_1))\n",
    "print(\"¿Es el mensaje original igual al mensaje desencriptado?: {}\".format(p == p_1))"
   ]
  },
  {
   "cell_type": "markdown",
   "metadata": {},
   "source": [
    "## 4. ¿Cuánto cuesta hacer una cerveza?\n",
    "\n",
    "<img src=\"Images/cerveza.jpg\" style=\"width: 300px;\"/>\n",
    "\n",
    "Supongamos que D es el conjunto de algunos ingredientes de la cerveza: \n",
    "> D={lúpulo, malta, agua, levadura} \n",
    "\n",
    "Por otro lado tenemos el vector coste:\n",
    "> coste={lúpulo: 2,5€, malta: 1.5€, agua: 0.006€, levadura: 0,45€}  \n",
    "\n",
    "Por último tenemos el vector cantidad con lo necesario para hacer una cerveza:\n",
    "> cantidad={lúpulo: 6u, malta: 14u, agua: 7u, levadura: 11u} \n",
    "\n",
    "¿Cuánto cuesta hacer una cerveza?"
   ]
  },
  {
   "cell_type": "code",
   "execution_count": 2,
   "metadata": {},
   "outputs": [
    {
     "name": "stdout",
     "output_type": "stream",
     "text": [
      "Una cerveza cuesta: 40.992\n"
     ]
    }
   ],
   "source": [
    "def producto_escalar_diccionarios(v,w, keys):\n",
    "    return sum([v[k]*w[k] for k in keys])\n",
    "\n",
    "D={'lupulo', 'malta', 'agua', 'levadura'}\n",
    "coste={'lupulo': 2.5, 'malta': 1.5, 'agua': 0.006, 'levadura': 0.45}\n",
    "cantidad={'lupulo': 6, 'agua': 7, 'malta': 14, 'levadura': 11}\n",
    "\n",
    "precio = producto_escalar_diccionarios(coste, cantidad, D)\n",
    "print(\"Una cerveza cuesta: {0:.3f}\".format(precio))"
   ]
  },
  {
   "cell_type": "markdown",
   "metadata": {},
   "source": [
    "## 5. La carrera de caballos\n",
    "\n",
    "Tres caballos A, B y C compiten en una carrera.  \n",
    "Las apuestas para dar como vencedor a cada uno de ellos son de 4 a 1 para A, 3 a 1 para B y 2 a 1 para C, tomando las unidades siempre en euros.  \n",
    "¿Cuánto debo apostar por cada caballo para asegurarme recibir 13 euros en toal, sin importar qué csaballo gane la carrera?"
   ]
  },
  {
   "cell_type": "markdown",
   "metadata": {},
   "source": [
    "Sean x,y,z el dinero apostado por los caballos A, B y C respectivamente.\n",
    "El objetivo del problema escalcular la cantidad que debe apostarse por cada caballo de forma que la suma del dinero recibido y perdido en ñas apuestas sea siempre igual a 13€.  \n",
    "Así, podemos plantear un sistema de tres ecuaciones con tres incógnitas, en el que igualaremos matemáticamente la cantidad percibida por la victoria de los caballos A, B, C y, al mismo tiempo, señalaremos que esta cantidad corresponde a 13€.  \n",
    "\n",
    "> 4x-y-z=3y-x-z  \n",
    "> 3y-x-z=2z-x-y  \n",
    "> 2z-x-y=13\n"
   ]
  },
  {
   "cell_type": "code",
   "execution_count": 3,
   "metadata": {},
   "outputs": [
    {
     "data": {
      "text/plain": [
       "matrix([[12.],\n",
       "        [15.],\n",
       "        [20.]])"
      ]
     },
     "execution_count": 3,
     "metadata": {},
     "output_type": "execute_result"
    }
   ],
   "source": [
    "import numpy as np\n",
    "\n",
    "A = np.matrix([\n",
    "    [5,-4,0],\n",
    "    [0,4,-3],\n",
    "    [-1,-1,2]\n",
    "])\n",
    "\n",
    "B = np.matrix(\n",
    "    [[0],\n",
    "     [0],\n",
    "     [13]]\n",
    ")\n",
    "\n",
    "X = np.linalg.solve(A, B)\n",
    "X"
   ]
  },
  {
   "cell_type": "markdown",
   "metadata": {},
   "source": [
    "## 6. Dimensión de matrices\n",
    "\n",
    "Sea la matriz $\n",
    "  M=\n",
    "  \\left[ {\\begin{array}{cc}\n",
    "   1 & 0  & 0 & 5 \\\\\n",
    "   0 & 2  & 0 & 7 \\\\\n",
    "   0 & 0  & 3 & 9 \\\\\n",
    "  \\end{array} } \\right]\n",
    "$. Calcular el rango por filas y por columnas usando Python."
   ]
  },
  {
   "cell_type": "code",
   "execution_count": 6,
   "metadata": {},
   "outputs": [
    {
     "name": "stdout",
     "output_type": "stream",
     "text": [
      "El rango de M por filas es: 3\n"
     ]
    }
   ],
   "source": [
    "import numpy as np\n",
    "\n",
    "M = np.matrix([\n",
    "    [1, 0, 0, 5],\n",
    "    [0, 2, 0, 7],\n",
    "    [0, 0, 3, 9]\n",
    "])\n",
    "\n",
    "print(\"El rango de M por filas es: {}\".format(np.linalg.matrix_rank(M)))"
   ]
  },
  {
   "cell_type": "code",
   "execution_count": 7,
   "metadata": {},
   "outputs": [
    {
     "name": "stdout",
     "output_type": "stream",
     "text": [
      "El rango de M por columnas es: 3\n"
     ]
    }
   ],
   "source": [
    "M_t = np.transpose(M)\n",
    "print(\"El rango de M por columnas es: {}\".format(np.linalg.matrix_rank(M_t)))"
   ]
  },
  {
   "cell_type": "markdown",
   "metadata": {},
   "source": [
    "## 7. Bosque de extensión mínima\n",
    "\n",
    "<img src=\"Images/bosque.png\" style=\"width: 800px;\"/>\n",
    "\n",
    "En clase hemos hecho el caso del grafo de la derecha. Le toca el turno al de la izquierda.\n",
    "Supongamos que queremos diseñar la red de internet para el otro campus universitario.  \n",
    "La red debe lograr la misma conectividad que el grafo de entrada.  \n",
    "Una arista representa un posible cable.  \n",
    "El peso de la arista es el coste de instalar el cable.  \n",
    "Nuestro objetivo es minimizar el coste total, usando el algoritmo Grow y el algoritmo Shrink.\n",
    "Lo único que en este caso se pide crear un procedimiento para el algoritmo Grow y otro para el Shrink que lo hagan automáticamente una vez les metamos como parámetros las aristas y sus pesos"
   ]
  },
  {
   "cell_type": "code",
   "execution_count": 1,
   "metadata": {},
   "outputs": [],
   "source": [
    "#Definimos un procedimiento para el algoritmo Grow\n",
    "def Grow(aristas):\n",
    "    #Definimos funciones de ayuda\n",
    "    def takePeso(elem):\n",
    "        return elem[2]\n",
    "    #Ordenamos por peso descendente\n",
    "    aristas=sorted(aristas,key=takePeso,reverse=False)\n",
    "    #Partimos de un espacio vacío e incluimos la primera arista\n",
    "    S=[aristas[0]]\n",
    "    VerticesS=[aristas[0][0],aristas[0][1]]\n",
    "    incluir=0\n",
    "    i=k=0\n",
    "    #Iniciamos el bucle para comprobar si los vértices están en el espacio\n",
    "    while i <len(aristas):\n",
    "        if aristas[i][0] in VerticesS:\n",
    "            if aristas[i][1] not in VerticesS:\n",
    "                S.append(aristas[i])\n",
    "                VerticesS.append(aristas[i][1])\n",
    "        else:\n",
    "            S.append(aristas[i])\n",
    "            VerticesS.append(aristas[i][0])\n",
    "        i=i+1\n",
    "    suma=0\n",
    "    for i in range(0,len(S)):\n",
    "        suma=suma+S[i][2]\n",
    "    print(\"Los vertices contenidos son:\",VerticesS,\"con una extension de\",suma)\n",
    "    print(\"El bosque mínimo es:\",S)"
   ]
  },
  {
   "cell_type": "code",
   "execution_count": 2,
   "metadata": {},
   "outputs": [],
   "source": [
    "#Definimos un procedimiento para el algoritmo Shrink\n",
    "def Shrink(aristas):\n",
    "#Definimos algunas funciones de ayuda\n",
    "    def Vertices(aristas):\n",
    "        vector=[]\n",
    "        for i in range(0,len(aristas)):\n",
    "            for j in range(0,2):\n",
    "                vector.append(aristas[i][j])\n",
    "        vector=set(vector)\n",
    "        return vector\n",
    "    def Asignacion(entrada):\n",
    "        salida=[]\n",
    "        for i in range(0,len(entrada)):\n",
    "            salida.append(entrada[i])\n",
    "        return salida\n",
    "    def takePeso(elem):\n",
    "        return elem[2]\n",
    "    #Ordenamos por peso descendente\n",
    "    aristas=sorted(aristas,key=takePeso,reverse=True)\n",
    "    #Partimos de un espacio vacío e incluimos la primera arista\n",
    "    S=aristas\n",
    "    limite=len(S)\n",
    "    VerticesS=[]\n",
    "    VerticesS=Vertices(S)\n",
    "    i=k=0\n",
    "    #Iniciamos el bucle para retirar los vértices\n",
    "    while i<limite:\n",
    "        S1=Asignacion(S)\n",
    "        a=S1[i][0]\n",
    "        b=S1[i][1]\n",
    "        Se=Asignacion(S)\n",
    "        Se.remove(Se[i])\n",
    "        VerticesS=Vertices(Se)\n",
    "        if a in VerticesS:\n",
    "            if b in VerticesS:\n",
    "                #Se elimina la arista en S y seguimos revisando en la misma posición\n",
    "                S=Asignacion(Se)\n",
    "                i=i\n",
    "                limite=limite-1\n",
    "            else:\n",
    "                #Recuperamos la arista(porque alguno de sus vertices no están en S-e) y avanzamos una posicion del contador\n",
    "                i=i+1\n",
    "        else:\n",
    "            #Recuperamos la arista(porque alguno de sus vertices no están en S-e) y avanzamos una posicion del contador\n",
    "            i=i+1\n",
    "    suma=0\n",
    "    for i in range(0,len(S)):\n",
    "        suma=suma+S[i][2]    \n",
    "    print(\"Los vertices contenidos son:\",VerticesS,\"con una extension de\",suma)\n",
    "#Ordenamos para que la salida tenga el mismo orden que en el algoritmo Grow\n",
    "    S=sorted(S,key=takePeso,reverse=False)\n",
    "    print(\"El bosque mínimo es:\",S)"
   ]
  },
  {
   "cell_type": "code",
   "execution_count": 3,
   "metadata": {},
   "outputs": [
    {
     "name": "stdout",
     "output_type": "stream",
     "text": [
      "Los vertices contenidos son: {'AC', 'PC'} con una extension de 9\n",
      "El bosque mínimo es: [('PC', 'BM', 2), ('AC', 'PC', 7)]\n",
      "Los vertices contenidos son: ['PC', 'BM', 'AC'] con una extension de 9\n",
      "El bosque mínimo es: [('PC', 'BM', 2), ('AC', 'PC', 7)]\n"
     ]
    }
   ],
   "source": [
    "# aristas=((\"MQ\",\"WQ\",3),(\"MQ\",\"KQ\",5),(\"KQ\",\"WQ\",4),(\"WQ\",\"GQ\",6),(\"KQ\",\"GQ\",8))\n",
    "aristas=((\"PC\",\"BM\",2),(\"AC\",\"PC\",7),(\"BM\",\"AC\",9))\n",
    "Shrink(aristas)\n",
    "Grow(aristas)"
   ]
  },
  {
   "cell_type": "markdown",
   "metadata": {},
   "source": [
    "## 8. El dígito móvil\n",
    "\n",
    "<img src=\"Images/imagenx2.png\" style=\"width: 500px;\"/>\n",
    "\n",
    "Hallar un número tal que, multiplicado por 3 y dividido entre 2, dé el mismo resultado que si moviéramos el primer dígito del número, el 3, desde el principio hasta el final de la fila de dígitos\n",
    "\n",
    "PISTA: Los únicos números que, al ser multiplicados por determinadas cifras, producen otros números cuyos dígitos siguen la misma secuencia que el número original aunque comenzando por otro de sus dígitos, son los períodos de los números decimales periódicos. Estos números se dicen **cíclicos**.  \n",
    "Nosotros queremos buscar un número de este tipo\n",
    "\n",
    "PISTA: No hay que resolverlo con Python"
   ]
  },
  {
   "cell_type": "markdown",
   "metadata": {},
   "source": [
    "Primero vamos a analizar cómo se producen estos números cíclicos.  \n",
    "Supongamos que dividimos a mano 1 entre 73:  \n",
    "1 $\\hspace{1cm}  | \\hspace{1cm}$  73   \n",
    "**1**0 $\\hspace{1.9cm}$        0,01369863    \n",
    "**27**0  \n",
    "**51**0  \n",
    "**72**0  \n",
    "**63**0  \n",
    "**46**0  \n",
    "**22**0  \n",
    "**1**  \n",
    "\n",
    "A partir de aquí volveríamos a empezar. El cociente de esta división es un número cíclico.  \n",
    "Ahora, si multiplicamos este número cíclico por cada uno de los restos obtenidos hasta que ese número comienza a repetirse, lo que obtenemos son otros números cíclicos formados por la misma cadena de dígitos que el número del cociente. aunque en diferente orden:  \n",
    "> 01369863 x 10 = 13698630  \n",
    "> 01369863 x 22 = 30136986  \n",
    "> 01369863 x 27 = 36986301  \n",
    "> 01369863 x 46 = 63013698  \n",
    "> 01369863 x 51 = 69863013  \n",
    "> 01369863 x 63 = 86301369  \n",
    "> 01369863 x 72 = 98630136  \n",
    "\n",
    "Otra curiosidad interesante es que, si nos fijamos, el número por el que empieza la cadena de dígitos coincide con el lugar en que ha aparecido ese resto. Por ejemplo, al multiplicar por 72, la cadena empieza en el 9, que es el número que ocupa la posición 4, ya que es el cuarto resto que ha salido en nuestra división.  \n",
    "\n",
    "Lo que nos pide encontrar el ejercicio es un número cíclico tal que multiplicado por 3 y dividido entre 2 produzca otro número cíclico formado por la misma secuencia de dígitos que el original, en distinto orden, acabado en 3.  \n",
    "\n",
    "Traducido... Buscamos un número cíclico de la forma 3_ _ _ _ _ ... de modo que:  \n",
    "> 3_ _ _ _ _ ... x 3/2 = _ _ _ _ _ ...3  \n",
    "\n",
    "Como \"no tiene sentido\" multiplicar por una fracción ya que los restos son enteros, digamos que al dividir entre dos tiene que dar exacto, luego en el número 3_ _ _ _ _ ... lo que ocurre es que acaba en 2: 3_ _ _ _ _ ...2.  \n",
    "Por tanto, el número que buscamos es un nñumero que en casi siempre contiene los dígitos 23 juntos (excepto cuando uno está en primera posición y el otro en última).  \n",
    "\n",
    "Vamos a buscarlo. Vamos a dividir 1 entre los sucesivos números primos. Empezamos por el 3:  \n",
    "1 $\\hspace{1cm}  | \\hspace{1cm}$  3   \n",
    "**1**0 $\\hspace{1.9cm}$        0,333333    \n",
    "**1**  \n",
    "\n",
    "No sirve. Entre 5:  \n",
    "1 $\\hspace{1cm}  | \\hspace{1cm}$  5   \n",
    "**1**0 $\\hspace{1.9cm}$        0,2    \n",
    "**0**  \n",
    "\n",
    "No sirve. Entre 7:  \n",
    "1 $\\hspace{1cm}  | \\hspace{1cm}$  7   \n",
    "**1**0 $\\hspace{1.9cm}$        0,14285714    \n",
    "**3**0  \n",
    "**2**0  \n",
    "**6**0  \n",
    "**4**0  \n",
    "**5**0  \n",
    "**1**  \n",
    "\n",
    "No sirve. Entre 11:  \n",
    "1 $\\hspace{1cm}  | \\hspace{1cm}$  11   \n",
    "**1**0 $\\hspace{1.9cm}$        0,0909    \n",
    "**10**0  \n",
    "**1**  \n",
    "\n",
    "No sirve. Entre 13:  \n",
    "1 $\\hspace{1cm}  | \\hspace{1cm}$  13   \n",
    "**1**0 $\\hspace{1.9cm}$        0,076923    \n",
    "**10**0  \n",
    "**9**0  \n",
    "**12**0  \n",
    "**3**0  \n",
    "**4**0  \n",
    "**1**\n",
    "\n",
    "Aquí obtenemos el número cíclico 076923.  \n",
    "\n",
    "Para tranformar este número en otro acabado en 2, deberemos multiplicar por 4, ya que 4 es el quinto resto de la división y la posición que ocupa el 2 en el número:  \n",
    ">076923 x 4 = 307692  \n",
    "\n",
    "Sin embargo, al multiplicar este número por 3/2:  \n",
    "> 307692 x 3/2 = 461538  \n",
    "\n",
    "que no cumple que acabe en 3, que era otro de los requisitos.  \n",
    "\n",
    "Probemos con el 17:  \n",
    "1 $\\hspace{1cm}  | \\hspace{1cm}$  17   \n",
    "**1**0 $\\hspace{1.9cm}$        0,0588235294117647    \n",
    "**10**0  \n",
    "**15**0    \n",
    "**14**0    \n",
    "**4**0    \n",
    "**6**0  \n",
    "**9**0   \n",
    "**5**0    \n",
    "**16**0    \n",
    "**7**0    \n",
    "**2**0  \n",
    "**3**0  \n",
    "**13**0  \n",
    "**11**0  \n",
    "**8**0  \n",
    "**12**0  \n",
    "**1**\n",
    "\n",
    "Volvemos a hacer las mismas pruebas para el número cíclico 0588235294117647\n",
    "Para tranformar este número en otro acabado en 2, deberemos multiplicar por 6 (quinto lugar):  \n",
    ">0588235294117647 x 6 = 3529411764705882    \n",
    "\n",
    "Multiplicamos este número por 3/2:  \n",
    "> 3529411764705882 x 3/2 = 5294117647058823  \n",
    "\n",
    "Luego este número sí nos sirve: **3529411764705882** "
   ]
  },
  {
   "cell_type": "markdown",
   "metadata": {},
   "source": [
    "## 9. Agujas superpuestas\n",
    "\n",
    "<img src=\"Images/reloj-movimiento--478x578.jpg\" style=\"width: 250px;\"/>\n",
    "\n",
    "El horario y el minutero de un reloj se juntan exactamente cada 65 minutos.  \n",
    "Calcular si el reloj se adelanta o se atrasa, y cuánto por hora.  \n",
    "\n",
    "PISTA: Suponer que las agujas del reloj empiezan en las 12 en punto.\n",
    "\n",
    "PISTA: No hace falta resolverlo con Python"
   ]
  },
  {
   "cell_type": "markdown",
   "metadata": {},
   "source": [
    "Suponemos que las agujas del reloj marcan las 12 en punto. A esa hora, ambas agjas estarán juntas.  \n",
    "\n",
    "Si intentamos visualizar el movimiento posterior de las agujas en este reloj, pasada 1h:  \n",
    "> El minutero habrá dado una vuelta completa a la esfera y parte de otra vuelta  \n",
    "> El horario habrá recorrido sólo esa misma parte de una vuelta  \n",
    "\n",
    "Nos encontramos así en la siguiente hora.  \n",
    "\n",
    "Si los minutos están representados por pequeñas marcas (como en el gráfico), tendremos que:  \n",
    "> El minutero recorre 60 marcas, es decir, 60 minutos  \n",
    "> El horario recorre 5 marcas  \n",
    "\n",
    "O lo que sería lo mismo:  \n",
    "> El minutero se mueve a 60 marcas por hora  \n",
    "> El horario se mueve a 5 marcas por hora  \n",
    "\n",
    "Con una regla de 3 podemos sacar cuánta distancia se desplaza el horario cuando el minutero se mueve una marca, lo que nos devuelve que el horario se desplaza 5/60=1/12 de marca por cada marca que se mueve el minutero.  \n",
    "De este modo, cuando el minutero haya dado justamente una vuelta, es decir, haya recorrido 60 marcas, el horario esperamos que haya recorrido 60 x 1/12=5 marcas.  \n",
    "\n",
    "Según esto, cada minuto que pasa las agujas se irán separando progresivamente una distancia de 1-(1/12)=11/12 de marca.  \n",
    "Si hacemos una regla de tres directa (cuanto más tiempo pasa, más separadas están las agujas):  \n",
    "> minutos $\\hspace{1cm}$ marcas  \n",
    "> 1 $\\hspace{2.3cm}$ 11/12  \n",
    "> x $\\hspace{2.5cm}$ 60  \n",
    "\n",
    "Esto es, que en recorrer 60 marcas, transcurrirán 60/(11/12)= 720/11 minutos, lo que equivale a 65 minutos y 5/11 de minuto.  \n",
    "\n",
    "Como en el caso que nos ocupa, se juntan cada exactamente 65 minutos, la conclusión es que el reloj está adelantado 5/11 de minuto."
   ]
  },
  {
   "cell_type": "markdown",
   "metadata": {},
   "source": [
    "## 10. Cuadrados perfectos\n",
    "\n",
    "<img src=\"Images/cuadrados-perfectos.jpg\" style=\"width: 500px;\"/>\n",
    "\n",
    "Averiguar el número entero positivo que, sumado tanto a 100 como a 164, propociona sendos cuadrados perfectos.\n",
    "\n",
    "PISTA: No hace falta resolverlo con Python"
   ]
  },
  {
   "cell_type": "markdown",
   "metadata": {},
   "source": [
    "Vamos a plantear un sistema de ecuaciones, donde x es el número que buscamos, A<sup>2</sup> y B<sup>2</sup> son los dos cuadrados perfectos:  \n",
    "\n",
    "> 100 + x = A<sup>2</sup>  \n",
    "> 164 + x = B<sup>2</sup>  \n",
    "\n",
    "Al restar la segunda ecuación menos la primera:  \n",
    "> 64 = B<sup>2</sup> - A<sup>2</sup>  \n",
    "\n",
    "Por los productos notables, es lo mismo que:  \n",
    "> 64 = (B+A)(B-A)  \n",
    "\n",
    "Fíjemonos en que tanto B+A como B-A representan dos números que se encuentran a la misma distancia de B, por lo que ambos serán pares o ambos serán impares, y dado que su producto tiene que devolver 64, tiene que ser alguna de estas parejas:  \n",
    "> 32 y 2  \n",
    "> 16 y 4  \n",
    "> 8 y 8  \n",
    "\n",
    "Con esto vamos a formar 3 sistemas de ecuaciones y resolverlos.  \n",
    "\n",
    "Empecemos con el primero:\n",
    "> B + A = 32  \n",
    "> B - A = 2  \n",
    "\n",
    "Si lo resolvemos obtenemos:  \n",
    "> A = 15  \n",
    "> B = 17  \n",
    "\n",
    "Antes de meterlo en el sistema inicial, para que nos resulte más cómodo ya que son 3 sistemas, despejemos la x en ambas ecuaciones:  \n",
    "> x = A<sup>2</sup> - 100  \n",
    "> x = B<sup>2</sup> - 164  \n",
    "\n",
    "Ahora sí, incluyamos los números obtenidos:  \n",
    "> x = 15<sup>2</sup> - 100 = 125  \n",
    "> x = 17<sup>2</sup> - 164 = 125  \n",
    "\n",
    "Luego, x=125 es una solución a este problema.  \n",
    "\n",
    "Veamos qué ocurre en el segundo caso:  \n",
    "> B + A = 16  \n",
    "> B - A = 4  \n",
    "\n",
    "Si lo resolvemos obtenemos:  \n",
    "> A = 6  \n",
    "> B = 10  \n",
    "\n",
    "Si lo metemos en la ecuación inicial:  \n",
    "> x = 6<sup>2</sup> - 100 = -64  \n",
    "> x = 10<sup>2</sup> - 164 = -64  \n",
    "\n",
    "Luego, aunque x=-64 podría parecer una solución, nos pedían que fuese un número entero positivo. Luego, no es solución.  \n",
    "\n",
    "No queda por ver el tercer sistema:  \n",
    "> B + A = 8  \n",
    "> B - A = 8  \n",
    "\n",
    "Si lo resolvemos obtenemos:  \n",
    "> A = 0  \n",
    "> B = 8  \n",
    "\n",
    "Si lo metemos en la ecuación inicial:  \n",
    "> x = 0<sup>2</sup> - 100 = -100  \n",
    "> x = 8<sup>2</sup> - 164 = -100  \n",
    "\n",
    "Luego, aunque x=-100 podría parecer una solución, nos pedían que fuese un número entero positivo. Luego, no es solución.  \n"
   ]
  },
  {
   "cell_type": "markdown",
   "metadata": {},
   "source": [
    "## 11. Días de vacaciones\n",
    "\n",
    "<img src=\"Images/vacaciones.jpg\" style=\"width: 500px;\"/>\n",
    "\n",
    "Durante mis vacaciones llovió 9 días, y hubo 10 mañanas y 9 tardes soleadas. Cuando llovió por la mañana, la tarde fue soleada.\n",
    "¿Cuántos días duraron mis vacaciones?"
   ]
  },
  {
   "cell_type": "markdown",
   "metadata": {},
   "source": [
    "Llamemos:  \n",
    "> D = número total de días de vacaciones  \n",
    "> M = número de mañanas lluviosas  \n",
    "> T = Número de tardes lluviosas  \n",
    "\n",
    "Podemos plantear un sistema de tres ecuaciones con tres incógnitas:  \n",
    "> D = 10 + M  \n",
    "> D = 9 + T  \n",
    "> M + T = 9  \n",
    "\n",
    "La tercera ecuación la obtenemos teniendo en cuenta que no hubo ningún día en que coincidieran, como nos dice el enunciado, una mañana y una tarde lluviosas.\n",
    "\n",
    "\n"
   ]
  },
  {
   "cell_type": "markdown",
   "metadata": {},
   "source": [
    "La solución del problema nos da un resultado de 4 mañanas lluviosas y 5 tardes lluviosas en un total de 14 días de vacaciones"
   ]
  }
 ],
 "metadata": {
  "kernelspec": {
   "display_name": "Python 3",
   "language": "python",
   "name": "python3"
  },
  "language_info": {
   "codemirror_mode": {
    "name": "ipython",
    "version": 3
   },
   "file_extension": ".py",
   "mimetype": "text/x-python",
   "name": "python",
   "nbconvert_exporter": "python",
   "pygments_lexer": "ipython3",
   "version": "3.7.4"
  }
 },
 "nbformat": 4,
 "nbformat_minor": 2
}
