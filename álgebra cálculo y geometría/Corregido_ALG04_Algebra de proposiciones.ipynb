{
 "cells": [
  {
   "cell_type": "markdown",
   "metadata": {},
   "source": [
    "# 4. Álgebra de proposiciones"
   ]
  },
  {
   "cell_type": "markdown",
   "metadata": {},
   "source": [
    "<img src=\"Images/proposicion.jpg\" style=\"width: 500px;\"/>"
   ]
  },
  {
   "cell_type": "markdown",
   "metadata": {},
   "source": [
    "## Proposición\n",
    "\n",
    "Una **proposición** es cualquier frase de la que pueda afirmarme que es verdadera o que es falsa, pero no ambas cosas.\n",
    "\n",
    "<span style=\"color:orange\"> Ejemplo:  \n",
    "Son proposiciones:  </style>\n",
    "* <span style=\"color:orange\">El ser humano es inmortal.</style>  \n",
    "* <span style=\"color:orange\">Los números pares son divisibles por dos.</style>  \n",
    "* <span style=\"color:orange\">La capital de Francia es Paris.</style> \n",
    "* <span style=\"color:orange\">Un cuadrado tiene cuatro Lados.</style>   \n",
    "\n",
    "<span style=\"color:orange\">Todas, salvo la primera, son proposiciones verdaderas.</style>  \n",
    "    \n",
    "<span style=\"color:orange\">No son proposiciones:  </style>\n",
    "* <span style=\"color:orange\">¿Qué hora es?</style>   \n",
    "* <span style=\"color:orange\">Lava el coche, por favor.</style>   \n",
    "\n",
    "<span style=\"color:orange\">Estas no son proposiciones porque no puede decirse si son verdaderas o falsas.</style>  \n"
   ]
  },
  {
   "cell_type": "markdown",
   "metadata": {},
   "source": [
    "## Término de enlace \n",
    "\n",
    "El **término de enlace** es cualquier palabra o conjunto de palabras que sirva para unir proposiciones en el lenguaje ordinario.  \n",
    "También consideraremos la partícula \"no\" (utilizada para negar un enunciado), como término de enlace.  \n",
    "\n",
    "<span style=\"color:orange\"> Ejemplo:  \n",
    "Veamos en las siguientes proposiciones el término de enlace (en negrita)  </style>  \n",
    "* <span style=\"color:orange\">Es tarde **y** hace frío</style>  \n",
    "* <span style=\"color:orange\">**Si** hace buen tiempo **entonces** iremos al campo.</style>  \n",
    "* <span style=\"color:orange\">El Retiro es un parque **que** se encuentra en Madrid.</style>  \n",
    "* <span style=\"color:orange\">**No** es un animal, **ni** es una planta.</style>  "
   ]
  },
  {
   "cell_type": "markdown",
   "metadata": {},
   "source": [
    "## Tipos de proposiciones  \n",
    "\n",
    "Una **proposición** es **simple** cuando no contiene ningún término de enlace.  \n",
    "\n",
    "<span style=\"color:orange\">Ejemplo:  \n",
    "El Sol es una estrella</style>   \n",
    "\n",
    "Una **proposición** es **compuesta** cuando está formada por varias proposiciones simples unidas por los términos de enlace correspondientes.  \n",
    "\n",
    "<span style=\"color:orange\">Ejemplo:  \n",
    "Es tarde **y** hace frío</style>   \n",
    "\n",
    "A veces la coma sustituye al término de enlace.  \n",
    "\n",
    "<span style=\"color:orange\">Ejemplo:  \n",
    "Si el ovino come pasto, es herbívoro. </style>   "
   ]
  },
  {
   "cell_type": "markdown",
   "metadata": {},
   "source": [
    "## Valor de verdad\n",
    "\n",
    "El **valor de verdad** de una proposición puede ser:  \n",
    "* *Verdadero*: representado por un 1, V, True,...  \n",
    "* *Falso*: representado por 0, F, False,..."
   ]
  },
  {
   "cell_type": "markdown",
   "metadata": {},
   "source": [
    "## Conectores\n",
    "\n",
    "Los **conectores** son los símbolos lógicos empleados para representar los términos de enlace del lenguaje ordinario.  \n",
    "Lo vamos a entender mejor al ver a continuación las tablas de verdad.  \n",
    "\n",
    "| NOMBRE               | SIMBOLO                     | SE LEE              |\n",
    "|----------------------|-----------------------------|---------------------|\n",
    "| Negación             | $\\overline{p}$              | No p                |\n",
    "| Conjunción           | $p \\land q$                 | p y q               |\n",
    "| Disyunción           | $p \\lor q$                  | p ó q               |\n",
    "| Disyunción exclusiva | $p \\veebar q$               | p ó q pero no ambos |\n",
    "| Condicional          | $p \\to q$                   | Si p entonces q     |\n",
    "| Bicondicional        | $p \\leftrightarrow q$       | p si y sólo si q    |  \n",
    "\n",
    "Otra tabla que según nuestra formación académica, nos puede resultar útil para entender:  \n",
    "\n",
    "<img src=\"Images/Proposiciones- Simbolos.jpg\" style=\"width: 500px;\"/>"
   ]
  },
  {
   "cell_type": "markdown",
   "metadata": {},
   "source": [
    "## Tablas de verdad\n",
    "\n",
    "Las **tablas de verdad** son tablas en las que se calculan los valores de verdad de las proposiciones compuestas a partir de los valores de verdad de las proposiciones simples.  \n",
    "\n",
    "Veamos las tablas de verdad de los conectores anteriores.  \n",
    "\n"
   ]
  },
  {
   "cell_type": "markdown",
   "metadata": {},
   "source": [
    "### Tabla de verdad para la negación \n",
    "\n",
    "La **negación** de una proposición p es otra proposición $\\overline{p}$ que niega lo que afirma la primera.  \n",
    "\n",
    "<span style=\"color:orange\">Ejemplo:  \n",
    "La negación de \"la nieve es blanca\" es \"la nieve no es blanca\"</style>  \n",
    "\n",
    "En lenguaje ordinario hay diversas formas de negar una proposición:  \n",
    "* No p  \n",
    "* Es falso que p  \n",
    "* No es cierto que p  \n",
    "* etc.\n",
    "\n",
    "Veamos su tabla de verdad:  \n",
    "\n",
    "| p | $\\overline{p}$ |\n",
    "|---|---|\n",
    "| 0 | 1 |\n",
    "| 1 | 0 |  \n",
    "\n",
    "<span style=\"color:orange\">Ejemplo:  \n",
    "Vamos a escribir esta tabla de verdad en Python</style>   \n"
   ]
  },
  {
   "cell_type": "code",
   "execution_count": 6,
   "metadata": {},
   "outputs": [
    {
     "name": "stdout",
     "output_type": "stream",
     "text": [
      "x\tnot x\n",
      "-------------\n",
      "False\tTrue\n",
      "True\tFalse\n"
     ]
    }
   ],
   "source": [
    "# Definimos la lista de booleanos como los entiende Python: True, False\n",
    "booleanos = [False, True]\n",
    "print('x\\tnot x')\n",
    "# Que pinte 13 guiones\n",
    "print('-'*13)\n",
    "for x in booleanos:\n",
    "    # Le decimos que es separador sea el tabulador\n",
    "    print(x, not x, sep = '\\t')"
   ]
  },
  {
   "cell_type": "markdown",
   "metadata": {},
   "source": [
    "### Tabla de verdad para la conjunción \n",
    "\n",
    "$p \\land q$ sólo es verdadera cuando lo son p y q simultáneamente.  \n",
    "\n",
    "<span style=\"color:orange\">Ejemplo:  \n",
    "\"El azúcar es dulce y la nieve es blanca\" es verdadera por serlo las dos proposiciones simples que la componen.</style>  \n",
    "\n",
    "<span style=\"color:orange\">Ejemplo:  \n",
    "\"Napoleón fue un rey español y Madrid es la capital de España\" es falsa porque la primera proposición es falsa..</style>  \n",
    "\n",
    "En el lenguaje ordinario:  \n",
    "* p y q  \n",
    "* p pero no q  \n",
    "* p sin embargo q  \n",
    "* p, no obstante q  \n",
    "* etc.  \n",
    "\n",
    "Veamos su tabla de verdad:  \n",
    "\n",
    "| p | q | p$\\land$q|  \n",
    "|---|---|----------|  \n",
    "| 0 | 0 | 0        | \n",
    "| 0 | 1 | 0        |  \n",
    "| 1 | 0 | 0        |  \n",
    "| 1 | 1 | 1        |  \n",
    "\n",
    "<span style=\"color:orange\">Ejemplo:  \n",
    "Vamos a escribir esta tabla de verdad en Python</style>   \n"
   ]
  },
  {
   "cell_type": "code",
   "execution_count": 9,
   "metadata": {},
   "outputs": [
    {
     "name": "stdout",
     "output_type": "stream",
     "text": [
      "x\ty\tx and y\n",
      "----------------------\n",
      "False\tFalse\tFalse\n",
      "False\tTrue\tFalse\n",
      "True\tFalse\tFalse\n",
      "True\tTrue\tTrue\n"
     ]
    }
   ],
   "source": [
    "# Definimos la lista de booleanos como los entiende Python: True, False\n",
    "booleanos = [False, True]\n",
    "# Le decimos que es separador sea el tabulador\n",
    "print('x\\ty\\tx and y')\n",
    "# Que pinte 22 guiones\n",
    "print('-'*22)\n",
    "for x in booleanos:\n",
    "    for y in booleanos:\n",
    "        print(x, y, x and y, sep = '\\t')        "
   ]
  },
  {
   "cell_type": "markdown",
   "metadata": {},
   "source": [
    "### Tabla de verdad para la disyunción \n",
    "\n",
    "$p \\lor q$ sólo es falsa cuando lo son p y q simultáneamente.  \n",
    "\n",
    "<span style=\"color:orange\">Ejemplo:  \n",
    "\"La Luna es un satélite o los gatos son plantas\" es verdadera por serlo la primera proposición.</style>  \n",
    "\n",
    "<span style=\"color:orange\">Ejemplo:  \n",
    "\"La Luna es un queso o la nieve es azul\" es falsa por ser falsas las proposiciones que la componen.</style>  \n",
    "\n",
    "En el lenguaje ordinario:  \n",
    "* p ó q  \n",
    "* ó p ó q  \n",
    "* al menos p ó q  \n",
    "* etc.  \n",
    "\n",
    "Veamos su tabla de verdad:  \n",
    "\n",
    "| p | q | p$\\lor$q|   \n",
    "|---|---|---------|   \n",
    "| 0 | 0 | 0       |  \n",
    "| 0 | 1 | 1       |  \n",
    "| 1 | 0 | 1       |  \n",
    "| 1 | 1 | 1       |  \n",
    "\n",
    "<span style=\"color:orange\">Ejemplo:  \n",
    "Vamos a escribir esta tabla de verdad en Python</style>   "
   ]
  },
  {
   "cell_type": "code",
   "execution_count": 10,
   "metadata": {},
   "outputs": [
    {
     "name": "stdout",
     "output_type": "stream",
     "text": [
      "x\ty\tx or y\n",
      "----------------------\n",
      "False\tFalse\tFalse\n",
      "False\tTrue\tTrue\n",
      "True\tFalse\tTrue\n",
      "True\tTrue\tTrue\n"
     ]
    }
   ],
   "source": [
    "# Definimos la lista de booleanos como los entiende Python: True, False\n",
    "booleanos = [False, True]\n",
    "# Le decimos que es separador sea el tabulador\n",
    "print('x\\ty\\tx or y')\n",
    "# Que pinte 22 guiones\n",
    "print('-'*22)\n",
    "for x in booleanos:\n",
    "    for y in booleanos:\n",
    "        print(x, y, x or y, sep = '\\t')"
   ]
  },
  {
   "cell_type": "markdown",
   "metadata": {},
   "source": [
    "### Tabla de verdad para la disyunción  exclusiva\n",
    "\n",
    "$p \\veebar q$ es falsa cuando p y q son simultáneamente verdaderas o simultáneamente falsas.  \n",
    "\n",
    "<span style=\"color:orange\">Ejemplo:  \n",
    "\"Compraré el coche o la moto pero no ambas\".</style>  \n",
    "\n",
    "En el lenguaje ordinario:  \n",
    "* p ó q, pero no ambas  \n",
    "\n",
    "Veamos su tabla de verdad:  \n",
    "\n",
    "| p | q | p$\\veebar$q|   \n",
    "|---|---|---------|   \n",
    "| 0 | 0 | 0       |  \n",
    "| 0 | 1 | 1       |  \n",
    "| 1 | 0 | 1       |  \n",
    "| 1 | 1 | 0       |  \n",
    "\n",
    "<span style=\"color:orange\">Ejemplo:  \n",
    "Vamos a escribir esta tabla de verdad en Python</style>   "
   ]
  },
  {
   "cell_type": "code",
   "execution_count": 11,
   "metadata": {},
   "outputs": [
    {
     "name": "stdout",
     "output_type": "stream",
     "text": [
      "x\ty\tx or y\n",
      "----------------------\n",
      "False\tFalse\tFalse\n",
      "False\tTrue\tTrue\n",
      "True\tFalse\tTrue\n",
      "True\tTrue\tFalse\n"
     ]
    }
   ],
   "source": [
    "# Definimos la lista de booleanos como los entiende Python: True, False\n",
    "booleanos = [False, True]\n",
    "# Le decimos que es separador sea el tabulador\n",
    "print('x\\ty\\tx or y')\n",
    "# Que pinte 22 guiones\n",
    "print('-'*22)\n",
    "for x in booleanos:\n",
    "    for y in booleanos:\n",
    "        print(x, y, (x or y) and (x!=y), sep = '\\t')"
   ]
  },
  {
   "cell_type": "code",
   "execution_count": 1,
   "metadata": {},
   "outputs": [
    {
     "name": "stdout",
     "output_type": "stream",
     "text": [
      "x\ty\tx or y\n",
      "----------------------\n",
      "False\tFalse\tFalse\n",
      "False\tTrue\tTrue\n",
      "True\tFalse\tTrue\n",
      "True\tTrue\tFalse\n"
     ]
    }
   ],
   "source": [
    "# Otro modo\n",
    "# Definimos la lista de booleanos como los entiende Python: True, False\n",
    "booleanos = [False, True]\n",
    "# Le decimos que es separador sea el tabulador\n",
    "print('x\\ty\\tx or y')\n",
    "# Que pinte 22 guiones\n",
    "print('-'*22)\n",
    "for x in booleanos:\n",
    "    for y in booleanos:\n",
    "        print(x, y, x is not y, sep = '\\t')"
   ]
  },
  {
   "cell_type": "code",
   "execution_count": null,
   "metadata": {},
   "outputs": [],
   "source": [
    "# Otro modo\n",
    "# Definimos la lista de booleanos como los entiende Python: True, False\n",
    "booleanos=[False,True]\n",
    "# Le decimos que es separador sea el tabulador\n",
    "print('x\\ty\\tx xor y')\n",
    "# Que pinte 22 guiones\n",
    "print('-'*22)\n",
    "for x in booleanos:\n",
    "    for y in booleanos:\n",
    "        print(x,y,x^y, sep='\\t')"
   ]
  },
  {
   "cell_type": "code",
   "execution_count": null,
   "metadata": {},
   "outputs": [],
   "source": [
    "# Otro modo\n",
    "# Definimos la lista de booleanos como los entiende Python: True, False\n",
    "booleanos=[False,True]\n",
    "# Le decimos que es separador sea el tabulador\n",
    "print('x\\ty\\tx xor y')\n",
    "# Que pinte 22 guiones\n",
    "print('-'*22)\n",
    "for x in booleanos:\n",
    "    for y in booleanos:\n",
    "        print(x, y, (x and not y) or (not x and y),sep='\\t')"
   ]
  },
  {
   "cell_type": "code",
   "execution_count": null,
   "metadata": {},
   "outputs": [],
   "source": [
    "# Otro modo\n",
    "# Definimos la lista de booleanos como los entiende Python: True, False\n",
    "booleanos=[False,True]\n",
    "# Le decimos que es separador sea el tabulador\n",
    "print('x\\ty\\tx xor y')\n",
    "# Que pinte 22 guiones\n",
    "print('-'*22)\n",
    "for x in booleanos:\n",
    "    for y in booleanos:\n",
    "        print(x, y, not(x==y),sep='\\t')"
   ]
  },
  {
   "cell_type": "code",
   "execution_count": null,
   "metadata": {},
   "outputs": [],
   "source": [
    "# Otro modo\n",
    "# Definimos la lista de booleanos como los entiende Python: True, False\n",
    "booleanos=[False,True]\n",
    "# Le decimos que es separador sea el tabulador\n",
    "print('x\\ty\\tx or y')\n",
    "# Que pinte 22 guiones\n",
    "print('-'*22)\n",
    "for x in booleanos:\n",
    "    for y in booleanos:\n",
    "        print(x,y,(x or y) and not(x and y),sep='\\t')"
   ]
  },
  {
   "cell_type": "markdown",
   "metadata": {},
   "source": [
    "### Tabla de verdad para el condicional\n",
    "\n",
    "$p \\to q$ es falsa cuando la proposición p (antecedente) es verdadera y la proposición q (consecuente) es falsa.  \n",
    "\n",
    "<span style=\"color:orange\">Ejemplo:  \n",
    "\"Si me toca la lotería, entonces me compraré una isla\". En este caso no podemos afirmar que la proposición sea verdadera, porque dependerá del valor que tomen las proposiciones simples.</style>  \n",
    "\n",
    "<span style=\"color:orange\">Ejemplo:  \n",
    "\"Si la Luna es un queso, entonces los perros son plantas\". En este caso podemos afirmar que la proposición es verdadera al ser falsas la antecedente y la consecuente.</style>  \n",
    "\n",
    "\n",
    "En el lenguaje ordinario:  \n",
    "* Si p, entonces q  \n",
    "\n",
    "Veamos su tabla de verdad:  \n",
    "\n",
    "| p | q | p$\\to$q|   \n",
    "|---|---|---------|   \n",
    "| 0 | 0 | 1       |  \n",
    "| 0 | 1 | 1       |  \n",
    "| 1 | 0 | 0       |  \n",
    "| 1 | 1 | 1       |  \n",
    "\n",
    "<span style=\"color:orange\">Ejemplo:  \n",
    "Vamos a escribir esta tabla de verdad en Python</style>   "
   ]
  },
  {
   "cell_type": "code",
   "execution_count": 21,
   "metadata": {},
   "outputs": [
    {
     "name": "stdout",
     "output_type": "stream",
     "text": [
      "x\ty\tx implica y\n",
      "---------------------------\n",
      "False\tFalse\tTrue\n",
      "False\tTrue\tTrue\n",
      "True\tFalse\tFalse\n",
      "True\tTrue\tTrue\n"
     ]
    }
   ],
   "source": [
    "# Definimos la lista de booleanos como los entiende Python: True, False\n",
    "booleanos = [False, True]\n",
    "# Le decimos que es separador sea el tabulador\n",
    "print('x\\ty\\tx implica y')\n",
    "# Que pinte 27 guiones\n",
    "print('-'*27)\n",
    "for x in booleanos:\n",
    "    for y in booleanos:\n",
    "        print(x, y, (x==y) or (x is False and y is True), sep = '\\t')"
   ]
  },
  {
   "cell_type": "code",
   "execution_count": null,
   "metadata": {},
   "outputs": [],
   "source": [
    "# Otro modo\n",
    "# Definimos la lista de booleanos como los entiende Python: True, False\n",
    "booleanos=[False,True]\n",
    "# Le decimos que es separador sea el tabulador\n",
    "print('x\\ty\\tx implica y')\n",
    "# Que pinte 27 guiones\n",
    "print('-'*27)\n",
    "for x in booleanos:\n",
    "    for y in booleanos:\n",
    "        print (x, y, not ((x!=y) and x is True), sep='\\t')"
   ]
  },
  {
   "cell_type": "code",
   "execution_count": null,
   "metadata": {},
   "outputs": [],
   "source": [
    "# Otro modo\n",
    "# Definimos la lista de booleanos como los entiende Python: True, False\n",
    "booleanos=[False,True]\n",
    "# Le decimos que es separador sea el tabulador\n",
    "print('x\\ty\\tx implica y')\n",
    "# Que pinte 27 guiones\n",
    "print('-'*27)\n",
    "for x in booleanos:\n",
    "    for y in booleanos:\n",
    "        print(x,y,(x==y) or (not x and y), sep='\\t')"
   ]
  },
  {
   "cell_type": "code",
   "execution_count": null,
   "metadata": {},
   "outputs": [],
   "source": [
    "# Otro modo\n",
    "# Definimos la lista de booleanos como los entiende Python: True, False\n",
    "booleanos=[False,True]\n",
    "# Le decimos que es separador sea el tabulador\n",
    "print('x\\ty\\tx implica y')\n",
    "# Que pinte 27 guiones\n",
    "print('-'*27)\n",
    "for x in booleanos:\n",
    "    for y in booleanos:\n",
    "        print(x,y,(x and y) or not x, sep='\\t')"
   ]
  },
  {
   "cell_type": "markdown",
   "metadata": {},
   "source": [
    "### Tabla de verdad para el bicondicional\n",
    "\n",
    "$p \\leftrightarrow q$ es verdadera cuando p y q son simultáneamente verdaderas o simultáneamente falsas, siendo falsa en los otros dos casos.\n",
    "\n",
    "<span style=\"color:orange\">Ejemplo:  \n",
    "\"Un polígono es un triángulo si y sólo si tiene tres lados\". Esta proposición es verdadera pues las dos proposiciones simples que la componen son verdaderas o falsas a la vez.</style>  \n",
    "\n",
    "<span style=\"color:orange\">Ejemplo:  \n",
    "\"Me compraré un Mac si y sólo si me pagan la extra\". En esta proposición, el valor de verdad depende de los valores de verdad que tomen las dos proposiciones simples.</style>  \n",
    "\n",
    "\n",
    "En el lenguaje ordinario:  \n",
    "* p si y sólo si q \n",
    "\n",
    "Veamos su tabla de verdad:  \n",
    "\n",
    "| p | q | p$\\leftrightarrow$q|   \n",
    "|---|---|---------|   \n",
    "| 0 | 0 | 1       |  \n",
    "| 0 | 1 | 0       |  \n",
    "| 1 | 0 | 0       |  \n",
    "| 1 | 1 | 1       |  \n",
    "\n",
    "<span style=\"color:orange\">Ejemplo:  \n",
    "Vamos a escribir esta tabla de verdad en Python</style> "
   ]
  },
  {
   "cell_type": "code",
   "execution_count": 23,
   "metadata": {},
   "outputs": [
    {
     "name": "stdout",
     "output_type": "stream",
     "text": [
      "x\ty\tx si y solo si y\n",
      "--------------------------------\n",
      "False\tFalse\tTrue\n",
      "False\tTrue\tFalse\n",
      "True\tFalse\tFalse\n",
      "True\tTrue\tTrue\n"
     ]
    }
   ],
   "source": [
    "# Definimos la lista de booleanos como los entiende Python: True, False\n",
    "booleanos = [False, True]\n",
    "# Le decimos que es separador sea el tabulador\n",
    "print('x\\ty\\tx si y solo si y')\n",
    "# Que pinte 27 guiones\n",
    "print('-'*27)\n",
    "for x in booleanos:\n",
    "    for y in booleanos:\n",
    "        print(x, y, (x==y), sep = '\\t')\n",
    "        "
   ]
  },
  {
   "cell_type": "code",
   "execution_count": 1,
   "metadata": {},
   "outputs": [
    {
     "name": "stdout",
     "output_type": "stream",
     "text": [
      "x\ty\tx implica y\n",
      "---------------------------\n",
      "False\tFalse\tTrue\n",
      "False\tTrue\tFalse\n",
      "True\tFalse\tFalse\n",
      "True\tTrue\tTrue\n"
     ]
    }
   ],
   "source": [
    "# Definimos la lista de booleanos como los entiende Python: True, False\n",
    "booleanos=[False,True]\n",
    "# Le decimos que es separador sea el tabulador\n",
    "print('x\\ty\\tx implica y')\n",
    "# Que pinte 27 guiones\n",
    "print('-'*27)\n",
    "for x in booleanos:\n",
    "    for y in booleanos:\n",
    "        print(x, y, not x^y ,sep='\\t')"
   ]
  },
  {
   "cell_type": "markdown",
   "metadata": {},
   "source": [
    "## Tipos de proposiciones según sus tablas de verdad\n",
    "\n",
    "* **Tautología (T)**: cuando su tabla de verdad sólo tiene unos.  \n",
    "* **Contradicción (C)**: cuando su tabla de verdad sólo tiene ceros.  \n",
    "* **Indeterminada**: cuando en su tabla de verdad aparecen ceros y unos.  \n",
    "\n",
    "<span style=\"color:orange\">Ejemplo:  \n",
    "Averiguar qué tipo de proposición es P=($\\overline{p \\lor q}$) $\\leftrightarrow$ $\\overline{p}$ $\\land$ $\\overline{q}$ </style> \n",
    "\n",
    "\n"
   ]
  },
  {
   "cell_type": "markdown",
   "metadata": {},
   "source": [
    "<span style=\"color:orange\">Ahora en Python </style> "
   ]
  },
  {
   "cell_type": "code",
   "execution_count": 19,
   "metadata": {},
   "outputs": [
    {
     "name": "stdout",
     "output_type": "stream",
     "text": [
      "x\ty\tP\n",
      "----------------------\n",
      "False\tFalse\tTrue\n",
      "False\tTrue\tTrue\n",
      "True\tFalse\tTrue\n",
      "True\tTrue\tTrue\n"
     ]
    }
   ],
   "source": [
    "# Definimos la lista de booleanos como los entiende Python: True, False\n",
    "booleanos = [False, True]\n",
    "# Le decimos que el separador sea el tabulador\n",
    "print('x\\ty\\tP')\n",
    "# Que pinte 22 guiones\n",
    "print('-'*22)\n",
    "for x in booleanos:\n",
    "    for y in booleanos:\n",
    "        p=not (x or y)\n",
    "        q= not x and not y\n",
    "        print(x, y, (p==q), sep = '\\t')\n",
    "        "
   ]
  },
  {
   "cell_type": "markdown",
   "metadata": {},
   "source": [
    "## Implicación lógica\n",
    "\n",
    "Diremos que una proposición P implica a otra Q ( P $\\Rightarrow$ Q) cuando  $P \\to Q$ es una tautología.  \n",
    "\n",
    "<span style=\"color:orange\">Ejemplo:  \n",
    "Siendo A=($p \\to q$) $ \\land q$ p y B=q, averiguar si A $\\Rightarrow$ B es una implicación lógica</style> "
   ]
  },
  {
   "cell_type": "code",
   "execution_count": 26,
   "metadata": {},
   "outputs": [
    {
     "name": "stdout",
     "output_type": "stream",
     "text": [
      "p\tq\tA implica B\n",
      "----------------------\n",
      "False\tFalse\tTrue\n",
      "False\tTrue\tTrue\n",
      "True\tFalse\tTrue\n",
      "True\tTrue\tTrue\n"
     ]
    }
   ],
   "source": [
    "# Definimos la lista de booleanos como los entiende Python: True, False\n",
    "booleanos = [False, True]\n",
    "# Le decimos que es separador sea el tabulador\n",
    "print('p\\tq\\tA implica B')\n",
    "# Que pinte 22 guiones\n",
    "print('-'*22)\n",
    "for p in booleanos:\n",
    "    for q in booleanos:\n",
    "        A=((p==q) or (p is False and q is True)) and q\n",
    "        B= q\n",
    "        print(p, q, (A==B), sep = '\\t')\n",
    "# Luego es una implicacion logica"
   ]
  },
  {
   "cell_type": "code",
   "execution_count": 1,
   "metadata": {},
   "outputs": [
    {
     "name": "stdout",
     "output_type": "stream",
     "text": [
      "x\ty\tA = (x --> y) & y\tB = y\tresultado\n",
      "---------------------------------------------------------\n",
      "False\tFalse\tFalse\t          \tFalse\tTrue\n",
      "False\tTrue\tTrue\t          \tTrue\tTrue\n",
      "True\tFalse\tFalse\t          \tFalse\tTrue\n",
      "True\tTrue\tTrue\t          \tTrue\tTrue\n"
     ]
    }
   ],
   "source": [
    "# Otro modo\n",
    "# Definimos la lista de booleanos como los entiende Python: True, False\n",
    "booleanos=[False,True]\n",
    "# Le decimos que el separador sea el tabulador\n",
    "print('x\\ty\\tA = (x --> y) & y\\tB = y\\tresultado')\n",
    "# Que pinte 57 guiones\n",
    "print('-' * 57)\n",
    "for x in booleanos:\n",
    "    for y in booleanos:\n",
    "        print(x, y, ((x == y) or (x is False and y is True)) and y, '          ', y, (((x == y) or (x is False and y is True)) and y) == y, sep = '\\t')"
   ]
  },
  {
   "cell_type": "markdown",
   "metadata": {},
   "source": [
    "## Equivalencia lógica\n",
    "\n",
    "Diremos que una proposición P es **lógicamente equivalente** a otra Q cuando ambas tienen la misma tabla de verdad.  \n",
    "\n",
    "<span style=\"color:orange\">Ejemplo:  \n",
    "Siendo A=($p \\to q$) y B=$\\overline{p} \\lor q$, averiguar si A y B son dos proposiciones lógicamente equivalentes.</style> "
   ]
  },
  {
   "cell_type": "markdown",
   "metadata": {},
   "source": [
    "## El álgebra de Boole de las proposiciones\n",
    "\n",
    "Si consideramos el conjunto de las proposiciones lógicas P={p,q,r,...} y los conectores negación, conjunción y disyunción como operaciones definidas entre ellas, entonces P tiene estructura de Álgebra de Boole.  \n",
    "\n",
    "Sin entrar en detalle, el álgebra de Boole es un \"espacio\" en el que se cumplen cuatro axiomas:  \n",
    "* Propiedad conmutativa. \n",
    "* Elementos neutros. \n",
    "* Propiedad distributiva. \n",
    "* Elemento complementario.  \n",
    "\n",
    "Si P tiene estructura de álgebra de Boole, se cumplen las siguientes propiedades:  \n",
    "* **Idempotencia**  \n",
    "> p $\\lor$ p = p    \n",
    "> p $\\land$ p = p  \n",
    "* **Asociativa**  \n",
    "> p $\\lor$ (q $\\lor$ r) = (p $\\lor$ q) $\\lor$ r  \n",
    "> p $\\land$ (q $\\land$ r) = (p $\\land$ q) $\\land$ r\n",
    "* **Absorción**  \n",
    "> p $\\lor$ (p $\\land$ q) =p  \n",
    "> p $\\land$ (p $\\lor$ q) =p  \n",
    "* **T y C son elementos absorbentes**  \n",
    "> p $\\lor$ T = T   \n",
    "> p $\\land$ C = C\n",
    "* **Complementarios de T y C**  \n",
    "> $\\overline{T}$=C  \n",
    "> $\\overline{C}$=T  \n",
    "* **Doble complementación**  \n",
    "> $\\neg{\\neg{p}}$=p \n",
    "* **Leyes de Morgan**  \n",
    "> $\\overline{p \\lor q}$ = $\\overline{p} \\land \\overline{q}$  \n",
    "> $\\overline{p \\land q}$ = $\\overline{p} \\lor \\overline{q}$ "
   ]
  },
  {
   "cell_type": "markdown",
   "metadata": {},
   "source": [
    "## Normalización\n",
    "\n",
    "**Normalizar una proposición compuesta** es sutituirla por otra equivalente en la que sólo figuren los conectores del álgebra de Boole.  \n",
    "\n",
    "Para normalizar una expresión se pueden utilizar las leyes del álgebra de Boole y las siguientes tautologías:  \n",
    "1. $p \\to q \\Leftrightarrow \\overline{p} \\lor q$  \n",
    "2. $ p \\leftrightarrow q \\Leftrightarrow (p \\to q) \\land (q \\to p)$  \n",
    "3. $p \\veebar q \\Leftrightarrow \\overline{p \\leftrightarrow q}$  \n",
    "\n",
    "<span style=\"color:orange\">Ejemplo:  \n",
    "Normalizar $p \\veebar q$</style> "
   ]
  },
  {
   "cell_type": "markdown",
   "metadata": {},
   "source": [
    "## Tipos de formas normales\n",
    "\n",
    "Vamos a distinguir dos tipos:  \n",
    "* Forma normal conjuntiva (**FNC**)\n",
    "> 1. Adopta la estructura P $\\land$ Q $\\land$ ... $\\land$ R. \n",
    "> 2. P, Q,...R están constituidas por una o varias de las siguientes opciones:\n",
    ">> 2.1 Proposiciones simples p,q,r,...  \n",
    ">> 2.2 Proposiciones simples negadas $\\overline{p}$ ,$\\overline{q}$ , $\\overline{r}$ ,...  \n",
    ">> 2.3 Proposiciones compuestas de la forma: Disyunciones de proposiciones simples y/o sus negadas  \n",
    "* Forma normal disyuntiva (**FND**)  \n",
    "> 1. Adopta la estructura P $\\lor$ Q $\\lor$ ... $\\lor$ R. \n",
    "> 2. P, Q,...R están constituidas por una o varias de las siguientes opciones:\n",
    ">> 2.1 Proposiciones simples p,q,r,...  \n",
    ">> 2.2 Proposiciones simples negadas $\\overline{p}$ ,$\\overline{q}$ , $\\overline{r}$ ,...  \n",
    ">> 2.3 Proposiciones compuestas de la forma: Conjunciones de proposiciones simples y/o sus negadas  \n",
    "\n",
    "<span style=\"color:orange\">Ejemplo:  \n",
    "Las siguientes proposiciones están en forma FNC:</style>  \n",
    "* <span style=\"color:orange\">p</style> \n",
    "* <span style=\"color:orange\"> $\\overline{p}$</style>  \n",
    "* <span style=\"color:orange\">$p \\land q$</style>  \n",
    "* <span style=\"color:orange\">$p \\land \\overline{q} \\land r$</style>  \n",
    "\n",
    "<span style=\"color:orange\">Ejemplo:  \n",
    "Las siguientes proposiciones están en forma FND:</style>  \n",
    "* <span style=\"color:orange\">p</style> \n",
    "* <span style=\"color:orange\"> $\\overline{p}$</style>  \n",
    "* <span style=\"color:orange\">$p \\lor q$</style>  \n",
    "* <span style=\"color:orange\">$p \\lor \\overline{q} \\lor r$</style>  \n",
    "* <span style=\"color:orange\">$(p \\land q) \\lor r$</style>   \n",
    "* <span style=\"color:orange\">$(p \\land \\overline{q} \\land r) \\lor (q \\land \\overline{q} \\land p \\land \\overline{r}) \\lor (p \\land \\overline{s})$</style>   "
   ]
  },
  {
   "cell_type": "markdown",
   "metadata": {},
   "source": [
    "## Criterio de las formas normales\n",
    "\n",
    "* Una FNC es una *tautología* cuando en cada uno de sus terminos P,Q,...,R aparecen, al menos una vez, una proposición simple y su negación.  \n",
    "* Una FND es una *contradicción* cuando en cada uno de sus términos P,Q,...,R aparecen, al menos una vez, una proposición simple y su negación.\n",
    "\n",
    "<span style=\"color:orange\">Ejemplo:  \n",
    "$(p \\lor \\overline{p} \\lor r) \\land (p \\lor q \\lor \\overline{q} \\lor r) \\land (r \\lor \\overline{r})$ es una tautología:</style>   \n",
    "* <span style=\"color:orange\"> Es FNC porque tiene la forma P $\\land$ Q $\\land$ ... $\\land$ R y son disyunciones $\\lor$ de proposiciones simples</style>   \n",
    "* <span style=\"color:orange\">$(p \\lor \\overline{p} \\lor r)$ : aparece p y $\\overline{p}$</style>   \n",
    "* <span style=\"color:orange\">$(p \\lor q \\lor \\overline{q} \\lor r)$ : aparece q y $\\overline{q}$ </style>   \n",
    "* <span style=\"color:orange\">$(r \\lor \\overline{r})$ : aparece r y $\\overline{r}$</style> \n",
    "\n",
    "<span style=\"color:orange\">Ejemplo:  \n",
    "$(s \\land \\overline{s} \\land \\overline{p}) \\lor (q \\land \\overline{q}) \\lor (p \\land q \\land r \\land \\overline{r} \\land s \\land \\overline{s})$ es una contradicción:</style>   \n",
    "* <span style=\"color:orange\"> Es FND porque tiene la forma P $\\lor$ Q $\\lor$ ... $\\lor$ R y son conjunciones $\\land$ de proposiciones simples</style>   \n",
    "* <span style=\"color:orange\">$(s \\land \\overline{s} \\land \\overline{p})$ : aparece s y $\\overline{s}$</style>   \n",
    "* <span style=\"color:orange\">$(q \\land \\overline{q})$ : aparece q y $\\overline{q}$ </style>   \n",
    "* <span style=\"color:orange\">$(p \\land q \\land r \\land \\overline{r} \\land s \\land \\overline{s})$ : aparece r y $\\overline{r}$ y s y $\\overline{s}$</style> "
   ]
  },
  {
   "cell_type": "markdown",
   "metadata": {},
   "source": [
    "## Obtención de las formas normales\n",
    "\n",
    "Para obtener la FNC o la FND se siguen una serie de pasos:  \n",
    "\n",
    "> 1. Se suprimen los símbolos condicionales y bicondicionales utilizando:  \n",
    ">> $P \\to  Q = \\overline{P} \\lor Q$  \n",
    ">> $ P \\leftrightarrow Q = (\\overline{P} \\lor Q) \\land (P \\lor \\overline{Q}) $   \n",
    "\n",
    "> 2. Se introducen las negaciones dentro de los paréntesis usando las leyes de Morgan:  \n",
    ">> $\\overline{P \\land Q}=\\overline{P} \\lor \\overline{Q}$  \n",
    ">> $\\overline{P \\lor Q}=\\overline{P} \\land \\overline{Q}$    \n",
    ">> $\\neg{\\neg{P}}=P  $  \n",
    "\n",
    "> 3. Aplicamos la propiedad distributiva:  \n",
    ">> Si queremos una FNC, se sitúan las disyunciones dentro de los paréntesis y las conjunciones fuera.  \n",
    "$p \\lor (q \\land r) = (p \\lor q) \\land (p \\lor r)$  \n",
    ">> Si queremos una FND, se sitúan las conjunciones dentro de los paréntesis y las disyunciones fuera.  \n",
    "$p \\land (q \\lor r) = (p \\land q) \\lor (p \\land r)$  \n",
    "\n",
    "> 4. Se ordena el resultado y se simplifica todo lo posible usando las propiedades  \n"
   ]
  },
  {
   "cell_type": "markdown",
   "metadata": {},
   "source": [
    "<span style=\"color:orange\">Ejemplo:  \n",
    "Vamos a calcular la FNC y la FND de P= $(p \\lor q) \\land (p \\to r) \\land \\overline{r} \\to q $</style>  "
   ]
  },
  {
   "cell_type": "markdown",
   "metadata": {},
   "source": [
    "# Lógica de proposiciones\n",
    "\n",
    "## Formalización de enunciados\n",
    "\n",
    "**Formalizar un enunciado** consiste en pasar del lenguaje ordinario al simbólico, para lo cual se sustituyen las proposiciones simples del lenguaje por las variables p,q,r,... y las partículas que los enlazan por los conectores correspondientes.  \n",
    "\n",
    "<span style=\"color:orange\">Ejemplo:  \n",
    "No es cierto que no me guste bailar.  \n",
    "Proposiciones:</style>  \n",
    "* <span style=\"color:orange\">p=me gusta bailar</style> \n",
    "\n",
    "<span style=\"color:orange\">Formalización:</style>    \n",
    "> <span style=\"color:orange\">$\\neg{\\neg{p}}$</style>  \n",
    "\n",
    "<span style=\"color:orange\">Ejemplo:  \n",
    "Me gusta bailar y leer libros de ciencia ficción.  \n",
    "Proposiciones:</style>  \n",
    "* <span style=\"color:orange\">p=me gusta bailar</style>  \n",
    "* <span style=\"color:orange\">q=me gusta leer libros de ciencia ficción</style> \n",
    "\n",
    "<span style=\"color:orange\">Formalización:</style>    \n",
    "> <span style=\"color:orange\">$p \\land q$</style>  \n",
    "\n",
    "<span style=\"color:orange\">Ejemplo:  \n",
    "Si los perros de mi hermana no soltaran tanto pelo me gustaría acariciarlos.  \n",
    "Proposiciones:</style>  \n",
    "* <span style=\"color:orange\">p=los perros de mi hermana sueltan pelo</style>  \n",
    "* <span style=\"color:orange\">q=me gusta acariciar los perros</style> \n",
    "\n",
    "<span style=\"color:orange\">Formalización:</style>    \n",
    "> <span style=\"color:orange\">$\\overline{p} \\to q$</style> \n",
    "\n",
    "<span style=\"color:orange\">Ejemplo:  \n",
    "Si y sólo si viera un marciano con mis propios ojos, creería que hay vida extraterrestre.  \n",
    "Proposiciones:</style>  \n",
    "* <span style=\"color:orange\">p=ver un marciano con mis propios ojos</style>  \n",
    "* <span style=\"color:orange\">q=creer en los extraterrestres</style> \n",
    "\n",
    "<span style=\"color:orange\">Formalización:</style>    \n",
    "> <span style=\"color:orange\">$p \\leftrightarrow q$</style> \n",
    "\n",
    "<span style=\"color:orange\">Ejemplo:  \n",
    "Una de dos: o salgo a dar un paseo, o me pongo a estudiar como un energúmeno.  \n",
    "Proposiciones:</style>  \n",
    "* <span style=\"color:orange\">p=salir a dar un paseo</style>  \n",
    "* <span style=\"color:orange\">q=estudiar como un energúmeno</style> \n",
    "\n",
    "<span style=\"color:orange\">Formalización:</style>    \n",
    "> <span style=\"color:orange\">$p \\lor q$</style> \n",
    "\n",
    "<span style=\"color:orange\">Ejemplo:  \n",
    "Si los elefantes volaran o supieran tocar el acordeón, pensaría que estoy como una regadera y dejaría que me internaran en un psiquiátrico.  \n",
    "Proposiciones:</style>  \n",
    "* <span style=\"color:orange\">p=los elefantes vuelan</style>  \n",
    "* <span style=\"color:orange\">q=los elefantes tocan el acordeón</style>  \n",
    "* <span style=\"color:orange\">r=estar loco</style>  \n",
    "* <span style=\"color:orange\">s=internar en un psiquiátrico</style> \n",
    "\n",
    "<span style=\"color:orange\">Formalización:</style>    \n",
    "> <span style=\"color:orange\">$p \\lor q \\to r \\land s$</style> \n",
    "\n",
    "<span style=\"color:orange\">Ejemplo:  \n",
    "Prefiero ir de vacaciones o estar sin hacer nada si tengo tiempo para ello y no tengo que ir a trabajar.  \n",
    "Proposiciones:</style>  \n",
    "* <span style=\"color:orange\">p=ir de vacaciones</style>  \n",
    "* <span style=\"color:orange\">q=no hacer nada</style>  \n",
    "* <span style=\"color:orange\">r=tener tiempo</style>  \n",
    "* <span style=\"color:orange\">s=ir a trabajar</style> \n",
    "\n",
    "<span style=\"color:orange\">Formalización:</style>    \n",
    "> <span style=\"color:orange\">$r \\land \\overline{s} \\to p \\lor q$</style>  \n",
    "\n",
    "<span style=\"color:orange\">Ejemplo:  \n",
    "Si tuvieran que justificarse ciertos hechos por su enorme tradición entonces, si estos hechos son inofensivos y respetan a todo ser viviente y al medio ambiente, no habría ningún problema. Pero si los hechos son bárbaros o no respetuosos con los seres vivientes o el medio ambiente, entonces habría que dejar de justificarlos o no podríamos considerarnos dignos de nuestro tiempo.    \n",
    "Proposiciones:</style>  \n",
    "* <span style=\"color:orange\">j=justificar hechos por su tradición</style>  \n",
    "* <span style=\"color:orange\">i=ser inofensivo</style>  \n",
    "* <span style=\"color:orange\">r=ser respetuoso con los seres vivos</style>  \n",
    "* <span style=\"color:orange\">m=ser respetuoso con el medio ambiente</style>  \n",
    "* <span style=\"color:orange\">b=ser bárbaro</style>  \n",
    "* <span style=\"color:orange\">d=ser digno de nuestro tiempo</style> \n",
    "* <span style=\"color:orange\">p=hay problema</style> \n",
    "\n",
    "<span style=\"color:orange\">Formalización:</style>    \n",
    "> <span style=\"color:orange\"> $ j \\to ((i \\land r \\land m) \\to \\overline{p}) \\land ((b \\lor \\overline{r} \\lor \\overline{m} \\to (\\overline{j} \\lor \\overline{d}))$</style> \n",
    "\n"
   ]
  },
  {
   "cell_type": "markdown",
   "metadata": {},
   "source": [
    "## Razonamiento  \n",
    "\n",
    "Un **razonamiento** es el proceso mediante el cual a partir de un conjunto de proposiciones conocidas (**premisas**) que se suponen verdaderas, se obtiene una nueva proposición a la que se denomina **conclusión**.  \n",
    "\n",
    "El esquema que se suele adoptar para un razonamiento:  \n",
    "> P  \n",
    "> Q  \n",
    ">...  \n",
    "> S  \n",
    "> _____  \n",
    "> C  \n",
    "\n",
    "donde P,Q,...S son las premisas y C la conclusión.  \n",
    "\n",
    "Se lee: \"Si P y Q y ... y S entonces C\". \n",
    "\n",
    "Un **razonamiento** es **válido** cuando todos los casos de premisas simultáneamente verdaderas, implican que la conclusión también es verdadera.  \n",
    "Si esto no ocurre se dice que el razonamiento es una **falacia**.  \n",
    "Si es imposible que todas las premisas puedan ser simultáneamente verdaderas, se dice que el **razonamiento** es **inconsistente**.  \n",
    "\n",
    "Para comprobar si un razonamiento es válido lo podemos hacer mediante las tablas de verdad:  \n",
    "1. Construimos las tablas de verdad para las premisas y para la conclusión. \n",
    "2. Se buscan las filas en las que todas las premisas tienen un 1:  \n",
    "> 2.1 Si aparece también un 1 en todas las conclusiones asociadas, entonces el razonamiento es válido.  \n",
    "> 2.2 Si aparece un 0 en todas las conclusiones asociadas, la conclusión sería una falacia. Eso sí, para la conclusión contraria, sería un razonamiento válido.  \n",
    "> 2.3 Si aparecen ceros y unos en las conclusiones asociadas, la conclusión sería una falacia.  \n",
    "> 2.4 No existe ninguna línea en la que todas las premisas a la vez tengan un 1. Nos encontraríamos ante un razonamiento inconsistente.  \n"
   ]
  },
  {
   "cell_type": "markdown",
   "metadata": {},
   "source": [
    "<span style=\"color:orange\">Ejemplo:  \n",
    "Averiguar si es válido el razonamiento:</style>  \n",
    "> <span style=\"color:orange\">$p \\land q \\to r$</style>   \n",
    "> <span style=\"color:orange\">$p \\land r \\to q$</style>   \n",
    "> _____   \n",
    "> <span style=\"color:orange\">$q \\land r \\to p$</style>  \n",
    "\n",
    "<span style=\"color:orange\">Construimos la tabla de verdad con Python:</style>"
   ]
  },
  {
   "cell_type": "code",
   "execution_count": 37,
   "metadata": {},
   "outputs": [
    {
     "name": "stdout",
     "output_type": "stream",
     "text": [
      "p\tq\tr\tp y q\tp y r\tq y r\tP:(p y q -> r)\tP:(p y r -> q)\tC:(q y r -> p)\n",
      "----------------------------------------------------------------------------------------------------\n",
      "False\tFalse\tFalse\tFalse\tFalse\tFalse\t   \tTrue\t   \tTrue\t  \tTrue\n",
      "False\tFalse\tTrue\tFalse\tFalse\tFalse\t   \tTrue\t   \tTrue\t  \tTrue\n",
      "False\tTrue\tFalse\tFalse\tFalse\tFalse\t   \tTrue\t   \tTrue\t  \tTrue\n",
      "False\tTrue\tTrue\tFalse\tFalse\tTrue\t   \tTrue\t   \tTrue\t  \tFalse\n",
      "True\tFalse\tFalse\tFalse\tFalse\tFalse\t   \tTrue\t   \tTrue\t  \tTrue\n",
      "True\tFalse\tTrue\tFalse\tTrue\tFalse\t   \tTrue\t   \tFalse\t  \tTrue\n",
      "True\tTrue\tFalse\tTrue\tFalse\tFalse\t   \tFalse\t   \tTrue\t  \tTrue\n",
      "True\tTrue\tTrue\tTrue\tTrue\tTrue\t   \tTrue\t   \tTrue\t  \tTrue\n"
     ]
    }
   ],
   "source": [
    "# Definimos la lista de booleanos como los entiende Python: True, False\n",
    "booleanos = [False, True]\n",
    "# Le decimos que es separador sea el tabulador\n",
    "print('p\\tq\\tr\\tp y q\\tp y r\\tq y r\\tP:(p y q -> r)\\tP:(p y r -> q)\\tC:(q y r -> p)')\n",
    "# Que pinte 100 guiones\n",
    "print('-'*100)\n",
    "for p in booleanos:\n",
    "    for q in booleanos:\n",
    "        for r in booleanos:\n",
    "            A=p and q\n",
    "            B=p and r\n",
    "            C=q and r\n",
    "            # He metido algún espacio extra para que sea más legible la tabla\n",
    "            print(p, q, r, A, B, C,'   ',(A==r) or (A is False and r is True),'   ',(B==q) or (B is False and q is True),'  ',(C==p) or (C is False and p is True), sep = '\\t')\n"
   ]
  },
  {
   "cell_type": "markdown",
   "metadata": {},
   "source": [
    "<span style=\"color:orange\">Si nos fijamos en la fila 4, vemos que siendo las premisas verdaderas, la conclusión es falsa.  \n",
    "Por tanto, el razonamiento no es válido.</style>"
   ]
  },
  {
   "cell_type": "markdown",
   "metadata": {},
   "source": [
    "<span style=\"color:orange\">Ejemplo:  \n",
    "Averiguar si es válido el razonamiento:</style>  \n",
    "> <span style=\"color:orange\">$p \\lor q$</style>   \n",
    "> <span style=\"color:orange\">$p \\to r$</style>  \n",
    "> <span style=\"color:orange\">$\\overline{q}$</style>   \n",
    "> _____   \n",
    "> <span style=\"color:orange\">$r$</style>  \n",
    "\n",
    "<span style=\"color:orange\">Construimos la tabla de verdad con Python:</style>"
   ]
  },
  {
   "cell_type": "code",
   "execution_count": 2,
   "metadata": {},
   "outputs": [
    {
     "name": "stdout",
     "output_type": "stream",
     "text": [
      "p\tq\tr\tP(no q)\tP:(p o q)\tP:(p -> r)\tC:(r)\n",
      "----------------------------------------------------------------------------------------------------\n",
      "False\tFalse\tFalse\tTrue\tFalse\t   \tTrue\t   \tFalse\n",
      "False\tFalse\tTrue\tTrue\tFalse\t   \tTrue\t   \tTrue\n",
      "False\tTrue\tFalse\tFalse\tTrue\t   \tTrue\t   \tFalse\n",
      "False\tTrue\tTrue\tFalse\tTrue\t   \tTrue\t   \tTrue\n",
      "True\tFalse\tFalse\tTrue\tTrue\t   \tFalse\t   \tFalse\n",
      "True\tFalse\tTrue\tTrue\tTrue\t   \tTrue\t   \tTrue\n",
      "True\tTrue\tFalse\tFalse\tTrue\t   \tFalse\t   \tFalse\n",
      "True\tTrue\tTrue\tFalse\tTrue\t   \tTrue\t   \tTrue\n"
     ]
    }
   ],
   "source": [
    "# Definimos la lista de booleanos como los entiende Python: True, False\n",
    "booleanos = [False, True]\n",
    "# Le decimos que es separador sea el tabulador\n",
    "print('p\\tq\\tr\\tP(no q)\\tP:(p o q)\\tP:(p -> r)\\tC:(r)')\n",
    "# Que pinte 100 guiones\n",
    "print('-'*100)\n",
    "for p in booleanos:\n",
    "    for q in booleanos:\n",
    "        for r in booleanos:\n",
    "            # He metido algún espacio extra para que sea más legible la tabla\n",
    "            print(p, q, r, not q, p or q,'   ', (p==r) or (p is False and r is True),'   ',r, sep = '\\t')"
   ]
  },
  {
   "cell_type": "markdown",
   "metadata": {},
   "source": [
    "<span style=\"color:orange\">Si nos fijamos en la fila 6, en la que las premisas son todas verdaderas, la conclusión también es verdadera.  \n",
    "Por tanto, el razonamiento es válido.</style>"
   ]
  },
  {
   "cell_type": "markdown",
   "metadata": {},
   "source": [
    "<span style=\"color:orange\">Ejemplo:  \n",
    "Averiguar si es válido el razonamiento:</style>  \n",
    "> <span style=\"color:orange\">$p \\to q$</style>   \n",
    "> <span style=\"color:orange\">$q \\to r$</style>    \n",
    "> <span style=\"color:orange\">$p \\land \\overline{q}$</style>    \n",
    "> _____   \n",
    "> <span style=\"color:orange\">$\\overline{r}$</style>  \n",
    "\n",
    "<span style=\"color:orange\">Construimos la tabla de verdad con Python:</style>"
   ]
  },
  {
   "cell_type": "code",
   "execution_count": 45,
   "metadata": {},
   "outputs": [
    {
     "name": "stdout",
     "output_type": "stream",
     "text": [
      "p\tq\tr\tno p\tno q\tno r\tP:(p->q)\tP:(q->r)\tP:(p y no q)\tC:(no r)\n",
      "-----------------------------------------------------------------------------------------------------------------\n",
      "False\tFalse\tFalse\tTrue\tTrue\tTrue\tTrue\t   \tTrue\t   \tFalse\t   \tTrue\n",
      "False\tFalse\tTrue\tTrue\tTrue\tFalse\tTrue\t   \tTrue\t   \tFalse\t   \tFalse\n",
      "False\tTrue\tFalse\tTrue\tFalse\tTrue\tTrue\t   \tFalse\t   \tFalse\t   \tTrue\n",
      "False\tTrue\tTrue\tTrue\tFalse\tFalse\tTrue\t   \tTrue\t   \tFalse\t   \tFalse\n",
      "True\tFalse\tFalse\tFalse\tTrue\tTrue\tFalse\t   \tTrue\t   \tTrue\t   \tTrue\n",
      "True\tFalse\tTrue\tFalse\tTrue\tFalse\tFalse\t   \tTrue\t   \tTrue\t   \tFalse\n",
      "True\tTrue\tFalse\tFalse\tFalse\tTrue\tTrue\t   \tFalse\t   \tFalse\t   \tTrue\n",
      "True\tTrue\tTrue\tFalse\tFalse\tFalse\tTrue\t   \tTrue\t   \tFalse\t   \tFalse\n"
     ]
    }
   ],
   "source": [
    "# Definimos la lista de booleanos como los entiende Python: True, False\n",
    "booleanos = [False, True]\n",
    "# Le decimos que es separador sea el tabulador\n",
    "print('p\\tq\\tr\\tno p\\tno q\\tno r\\tP:(p->q)\\tP:(q->r)\\tP:(p y no q)\\tC:(no r)')\n",
    "# Que pinte 113 guiones\n",
    "print('-'*113)\n",
    "for p in booleanos:\n",
    "    for q in booleanos:\n",
    "        for r in booleanos:\n",
    "            # He metido algún espacio extra para que sea más legible la tabla\n",
    "            print(p, q, r, not p, not q, not r, (p==q) or (p is False and q is True)\n",
    "                  ,'   ',(q==r) or (q is False and r is True),'   ', p and (not q),'   ', not r, sep = '\\t')\n",
    "\n"
   ]
  },
  {
   "cell_type": "markdown",
   "metadata": {},
   "source": [
    "<span style=\"color:orange\">No hay ninguna fila donde todas las premisas sean simultáneamente verdaderas.  \n",
    "Por tanto, es un razonamiento inconsistente.</style>"
   ]
  },
  {
   "cell_type": "markdown",
   "metadata": {},
   "source": [
    "## Ejemplos de aplicación\n",
    "\n",
    "Vamos a ver ahora algunos ejemplos en los que se utiliza la lógica de proposiciones.  \n",
    "\n",
    "<span style=\"color:orange\">Ejemplo:  \n",
    "Si Alberto está en lo cierto, entonces Juan se equivoca.   \n",
    "Si Juan se equivoca, Óscar también se equivoca.  \n",
    "Si Óscar está equivocado, entonces el examen de Álgebra no es hoy.  \n",
    "Por otra parte, el examen es hoy o Pepe no llegará a tiempo.  \n",
    "Alberto está en lo cierto.  \n",
    "Entonces, ¿es correcto que Pepe no llegará a tiempo? </style>   \n",
    "\n",
    "<span style=\"color:orange\">Proposiciones:</style>  \n",
    "* <span style=\"color:orange\">p=Alberto está en lo cierto</style>  \n",
    "* <span style=\"color:orange\">q=Juan se equivoca</style>  \n",
    "* <span style=\"color:orange\">r=Óscar se equivoca</style>  \n",
    "* <span style=\"color:orange\">s=el examen de Álgebra es hoy</style>  \n",
    "* <span style=\"color:orange\">t= Pepe llegará a tiempo</style>  \n",
    "\n",
    "<span style=\"color:orange\">Formalización del razonamiento:</style>    \n",
    "> <span style=\"color:orange\">$p \\to q$</style>   \n",
    "> <span style=\"color:orange\">$q \\to r$</style>    \n",
    "> <span style=\"color:orange\">$r \\to \\overline{s}$</style>    \n",
    "> <span style=\"color:orange\">$s \\lor \\overline{t}$</style>  \n",
    "> <span style=\"color:orange\">$p$</style>    \n",
    "> _____   \n",
    "> <span style=\"color:orange\">$\\overline{t}$</style>   \n",
    "\n",
    "<span style=\"color:orange\">Construimos la tabla de verdad con Python:</style>"
   ]
  },
  {
   "cell_type": "code",
   "execution_count": 57,
   "metadata": {},
   "outputs": [
    {
     "name": "stdout",
     "output_type": "stream",
     "text": [
      "p\tq\tr\ts\tt\tno t\tP(p)\tP(p->q)\tP(q->r)\tP(r->no s)\tP(s o no t)\tC(no t)\n",
      "-----------------------------------------------------------------------------------------------------------------\n",
      "False\tFalse\tFalse\tFalse\tFalse\tTrue\tFalse\tTrue\tTrue\tTrue\t   \tTrue\t   \tTrue\n",
      "False\tFalse\tFalse\tFalse\tTrue\tFalse\tFalse\tTrue\tTrue\tTrue\t   \tFalse\t   \tFalse\n",
      "False\tFalse\tFalse\tTrue\tFalse\tTrue\tFalse\tTrue\tTrue\tTrue\t   \tTrue\t   \tTrue\n",
      "False\tFalse\tFalse\tTrue\tTrue\tFalse\tFalse\tTrue\tTrue\tTrue\t   \tTrue\t   \tFalse\n",
      "False\tFalse\tTrue\tFalse\tFalse\tTrue\tFalse\tTrue\tTrue\tTrue\t   \tTrue\t   \tTrue\n",
      "False\tFalse\tTrue\tFalse\tTrue\tFalse\tFalse\tTrue\tTrue\tTrue\t   \tFalse\t   \tFalse\n",
      "False\tFalse\tTrue\tTrue\tFalse\tTrue\tFalse\tTrue\tTrue\tFalse\t   \tTrue\t   \tTrue\n",
      "False\tFalse\tTrue\tTrue\tTrue\tFalse\tFalse\tTrue\tTrue\tFalse\t   \tTrue\t   \tFalse\n",
      "False\tTrue\tFalse\tFalse\tFalse\tTrue\tFalse\tTrue\tFalse\tTrue\t   \tTrue\t   \tTrue\n",
      "False\tTrue\tFalse\tFalse\tTrue\tFalse\tFalse\tTrue\tFalse\tTrue\t   \tFalse\t   \tFalse\n",
      "False\tTrue\tFalse\tTrue\tFalse\tTrue\tFalse\tTrue\tFalse\tTrue\t   \tTrue\t   \tTrue\n",
      "False\tTrue\tFalse\tTrue\tTrue\tFalse\tFalse\tTrue\tFalse\tTrue\t   \tTrue\t   \tFalse\n",
      "False\tTrue\tTrue\tFalse\tFalse\tTrue\tFalse\tTrue\tTrue\tTrue\t   \tTrue\t   \tTrue\n",
      "False\tTrue\tTrue\tFalse\tTrue\tFalse\tFalse\tTrue\tTrue\tTrue\t   \tFalse\t   \tFalse\n",
      "False\tTrue\tTrue\tTrue\tFalse\tTrue\tFalse\tTrue\tTrue\tFalse\t   \tTrue\t   \tTrue\n",
      "False\tTrue\tTrue\tTrue\tTrue\tFalse\tFalse\tTrue\tTrue\tFalse\t   \tTrue\t   \tFalse\n",
      "True\tFalse\tFalse\tFalse\tFalse\tTrue\tTrue\tFalse\tTrue\tTrue\t   \tTrue\t   \tTrue\n",
      "True\tFalse\tFalse\tFalse\tTrue\tFalse\tTrue\tFalse\tTrue\tTrue\t   \tFalse\t   \tFalse\n",
      "True\tFalse\tFalse\tTrue\tFalse\tTrue\tTrue\tFalse\tTrue\tTrue\t   \tTrue\t   \tTrue\n",
      "True\tFalse\tFalse\tTrue\tTrue\tFalse\tTrue\tFalse\tTrue\tTrue\t   \tTrue\t   \tFalse\n",
      "True\tFalse\tTrue\tFalse\tFalse\tTrue\tTrue\tFalse\tTrue\tTrue\t   \tTrue\t   \tTrue\n",
      "True\tFalse\tTrue\tFalse\tTrue\tFalse\tTrue\tFalse\tTrue\tTrue\t   \tFalse\t   \tFalse\n",
      "True\tFalse\tTrue\tTrue\tFalse\tTrue\tTrue\tFalse\tTrue\tFalse\t   \tTrue\t   \tTrue\n",
      "True\tFalse\tTrue\tTrue\tTrue\tFalse\tTrue\tFalse\tTrue\tFalse\t   \tTrue\t   \tFalse\n",
      "True\tTrue\tFalse\tFalse\tFalse\tTrue\tTrue\tTrue\tFalse\tTrue\t   \tTrue\t   \tTrue\n",
      "True\tTrue\tFalse\tFalse\tTrue\tFalse\tTrue\tTrue\tFalse\tTrue\t   \tFalse\t   \tFalse\n",
      "True\tTrue\tFalse\tTrue\tFalse\tTrue\tTrue\tTrue\tFalse\tTrue\t   \tTrue\t   \tTrue\n",
      "True\tTrue\tFalse\tTrue\tTrue\tFalse\tTrue\tTrue\tFalse\tTrue\t   \tTrue\t   \tFalse\n",
      "True\tTrue\tTrue\tFalse\tFalse\tTrue\tTrue\tTrue\tTrue\tTrue\t   \tTrue\t   \tTrue\n",
      "True\tTrue\tTrue\tFalse\tTrue\tFalse\tTrue\tTrue\tTrue\tTrue\t   \tFalse\t   \tFalse\n",
      "True\tTrue\tTrue\tTrue\tFalse\tTrue\tTrue\tTrue\tTrue\tFalse\t   \tTrue\t   \tTrue\n",
      "True\tTrue\tTrue\tTrue\tTrue\tFalse\tTrue\tTrue\tTrue\tFalse\t   \tTrue\t   \tFalse\n"
     ]
    }
   ],
   "source": [
    "# Definimos la lista de booleanos como los entiende Python: True, False\n",
    "booleanos = [False,True]\n",
    "# Le decimos que es separador sea el tabulador\n",
    "print('p\\tq\\tr\\ts\\tt\\tno t\\tP(p)\\tP(p->q)\\tP(q->r)\\tP(r->no s)\\tP(s o no t)\\tC(no t)')\n",
    "# Que pinte 113 guiones\n",
    "print('-'*113)\n",
    "for p in booleanos:\n",
    "    for q in booleanos:\n",
    "        for r in booleanos:\n",
    "            for s in booleanos:\n",
    "                for t in booleanos:\n",
    "                    # He metido algún espacio extra para que sea más legible la tabla\n",
    "                    no_s=not s\n",
    "                    no_t=not t\n",
    "                    print(p, q, r, s, t,\n",
    "                          no_t, p\n",
    "                          ,(p==q) or (p is False and q is True)\n",
    "                          , (q==r) or (q is False and r is True)\n",
    "                          , (r==no_s) or (r is False and no_s is True)\n",
    "                          ,'   '  , s or no_t\n",
    "                          ,'   '  , no_t\n",
    "                          , sep = '\\t')"
   ]
  },
  {
   "cell_type": "markdown",
   "metadata": {},
   "source": [
    "<span style=\"color:orange\">La única fila que cumple que todas las premisas sean True es la cuarta empezando desde el final. Para esta, la conclusión también es True. Por tanto es un razonamiento válido, luego Pepe no llegará a tiempo</style>"
   ]
  },
  {
   "cell_type": "markdown",
   "metadata": {},
   "source": [
    "<span style=\"color:orange\">Ejemplo:  \n",
    "O están locos o mienten.     \n",
    "Si están locos entonces vendrán los vampiros y no se salvará el pueblo.  \n",
    "Si mienten entonces los vampiros no vendrán y el pueblo se salvará.  \n",
    "Es falso que no vayan a venir los vampiros y el pueblo se salve..  \n",
    "Afirmación: \"No es cierto que si los vampiros vienen, no perezca el pueblo.   \n",
    "¿Es correcta esta afirmación?</style>   \n",
    "\n",
    "<span style=\"color:orange\">Proposiciones:</style>  \n",
    "* <span style=\"color:orange\">p=están locos</style>  \n",
    "* <span style=\"color:orange\">q=mienten</style>  \n",
    "* <span style=\"color:orange\">r=vendrán los vampiros</style>  \n",
    "* <span style=\"color:orange\">s=el pueblo se salvará</style>  \n",
    "\n",
    "<span style=\"color:orange\">Formalización del razonamiento:</style>    \n",
    "> <span style=\"color:orange\">$p \\lor q$</style>   \n",
    "> <span style=\"color:orange\">$p \\to r \\land \\overline{s}$</style>    \n",
    "> <span style=\"color:orange\">$q \\to \\overline{r} \\land s$</style>    \n",
    "> <span style=\"color:orange\">$\\overline{\\overline{r} \\land s}$</style>    \n",
    "> _____   \n",
    "> <span style=\"color:orange\">$\\overline{r \\to s}$</style>   \n",
    "\n",
    "<span style=\"color:orange\">Construimos la tabla de verdad con Python:</style>"
   ]
  },
  {
   "cell_type": "code",
   "execution_count": 2,
   "metadata": {
    "scrolled": true
   },
   "outputs": [
    {
     "name": "stdout",
     "output_type": "stream",
     "text": [
      "p\tq\tr\ts\tno r\tno s\tP(poq)\tP(p->r y no s)\tP(q->no r y s)\tP(no(no r y s))\tC(no r->s\n",
      "-----------------------------------------------------------------------------------------------------------------\n",
      "False\tFalse\tFalse\tFalse\tTrue\tTrue\tFalse\tTrue\t   \tTrue\t   \tTrue\t   \tFalse\n",
      "False\tFalse\tFalse\tTrue\tTrue\tFalse\tFalse\tTrue\t   \tTrue\t   \tFalse\t   \tFalse\n",
      "False\tFalse\tTrue\tFalse\tFalse\tTrue\tFalse\tTrue\t   \tTrue\t   \tTrue\t   \tTrue\n",
      "False\tFalse\tTrue\tTrue\tFalse\tFalse\tFalse\tTrue\t   \tTrue\t   \tTrue\t   \tFalse\n",
      "False\tTrue\tFalse\tFalse\tTrue\tTrue\tTrue\tTrue\t   \tFalse\t   \tTrue\t   \tFalse\n",
      "False\tTrue\tFalse\tTrue\tTrue\tFalse\tTrue\tTrue\t   \tTrue\t   \tFalse\t   \tFalse\n",
      "False\tTrue\tTrue\tFalse\tFalse\tTrue\tTrue\tTrue\t   \tFalse\t   \tTrue\t   \tTrue\n",
      "False\tTrue\tTrue\tTrue\tFalse\tFalse\tTrue\tTrue\t   \tFalse\t   \tTrue\t   \tFalse\n",
      "True\tFalse\tFalse\tFalse\tTrue\tTrue\tTrue\tFalse\t   \tTrue\t   \tTrue\t   \tFalse\n",
      "True\tFalse\tFalse\tTrue\tTrue\tFalse\tTrue\tFalse\t   \tTrue\t   \tFalse\t   \tFalse\n",
      "True\tFalse\tTrue\tFalse\tFalse\tTrue\tTrue\tTrue\t   \tTrue\t   \tTrue\t   \tTrue\n",
      "True\tFalse\tTrue\tTrue\tFalse\tFalse\tTrue\tFalse\t   \tTrue\t   \tTrue\t   \tFalse\n",
      "True\tTrue\tFalse\tFalse\tTrue\tTrue\tTrue\tFalse\t   \tFalse\t   \tTrue\t   \tFalse\n",
      "True\tTrue\tFalse\tTrue\tTrue\tFalse\tTrue\tFalse\t   \tTrue\t   \tFalse\t   \tFalse\n",
      "True\tTrue\tTrue\tFalse\tFalse\tTrue\tTrue\tTrue\t   \tFalse\t   \tTrue\t   \tTrue\n",
      "True\tTrue\tTrue\tTrue\tFalse\tFalse\tTrue\tFalse\t   \tFalse\t   \tTrue\t   \tFalse\n"
     ]
    }
   ],
   "source": [
    "# Definimos la lista de booleanos como los entiende Python: True, False\n",
    "booleanos = [False,True]\n",
    "# Le decimos que es separador sea el tabulador\n",
    "print('p\\tq\\tr\\ts\\tno r\\tno s\\tP(poq)\\tP(p->r y no s)\\tP(q->no r y s)\\tP(no(no r y s))\\tC(no r->s')\n",
    "# Que pinte 113 guiones\n",
    "print('-'*113)\n",
    "for p in booleanos:\n",
    "    for q in booleanos:\n",
    "        for r in booleanos:\n",
    "            for s in booleanos:\n",
    "                # He metido algún espacio extra para que sea más legible la tabla\n",
    "                no_r=not r\n",
    "                no_s=not s\n",
    "                r_y_no_s=r and no_s\n",
    "                no_r_y_s=no_r and s\n",
    "                print(p, q, r, s,no_r,no_s, p or q\n",
    "                      ,(p==r_y_no_s) or (p is False and r_y_no_s is True)\n",
    "                      ,'   ' ,(q==no_r_y_s) or (q is False and no_r_y_s is True)\n",
    "                      ,'   ' , not no_r_y_s\n",
    "                      ,'   ' ,not((r==s) or (r is False and s is True))\n",
    "                      , sep = '\\t')"
   ]
  },
  {
   "cell_type": "markdown",
   "metadata": {},
   "source": [
    "<span style=\"color:orange\">La única fila que cumple que todas las premisas sean True es la sexta empezando desde el final. Para esta, la conclusión también es True. Por tanto es un razonamiento válido, luego no es cierto que si los vampiros vienen, no perezca el pueblo.</style>"
   ]
  }
 ],
 "metadata": {
  "anaconda-cloud": {},
  "kernelspec": {
   "display_name": "Python 3",
   "language": "python",
   "name": "python3"
  },
  "language_info": {
   "codemirror_mode": {
    "name": "ipython",
    "version": 3
   },
   "file_extension": ".py",
   "mimetype": "text/x-python",
   "name": "python",
   "nbconvert_exporter": "python",
   "pygments_lexer": "ipython3",
   "version": "3.7.4"
  }
 },
 "nbformat": 4,
 "nbformat_minor": 1
}
