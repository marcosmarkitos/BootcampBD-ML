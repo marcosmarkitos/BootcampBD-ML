{
 "cells": [
  {
   "cell_type": "markdown",
   "metadata": {},
   "source": [
    "mi primer notebook de pruebas.\n",
    "A modo de borrador o libreta para todo"
   ]
  },
  {
   "cell_type": "code",
   "execution_count": 35,
   "metadata": {},
   "outputs": [
    {
     "name": "stdout",
     "output_type": "stream",
     "text": [
      "3529411764705882\n"
     ]
    }
   ],
   "source": [
    "import math\n",
    "\n",
    "# ------------------------------------------------------------------------------------------\n",
    "# obtenerCiclicos: Función para obtener números cíclicos a partir de ciertos números primos\n",
    "# ------------------------------------------------------------------------------------------\n",
    "def obtenerCiclicos():\n",
    "    \n",
    "    #estos son los números primos que dan lugar a números cíclicos\n",
    "    origen = (7,17,19,23,29,47,59,61,97)\n",
    "    ciclicos=[]\n",
    "\n",
    "    #para cada número primo calculamos el número cíclico correspondiente\n",
    "    for num in origen:\n",
    "\n",
    "        #se divide el número primo por 1. Nos interesa la parte decimal.\n",
    "        decimal, entera=math.modf(1/num)\n",
    "        #el periodo de dicho número viene dado por el número primo origen - 1.\n",
    "        periodo=num-1\n",
    "        #convertimos la parte decimal en número entero.\n",
    "        candidato=int(decimal*10**periodo)\n",
    "        #comprobamos la longitud del número obtenido para ver si nos falta el primer cero de la división.\n",
    "        #si falta el cero lo añadimos al final ( es un número cíclico)\n",
    "        longitudCandidato=int(math.log10(candidato))+1\n",
    "        if(periodo-1==longitudCandidato):\n",
    "            candidato=candidato*10\n",
    "            longitudCandidato=longitudCandidato+1\n",
    "        #convertimos el número en string y lo almacenamos en la varibale de salida\n",
    "        candidatoString=str(candidato)\n",
    "        ciclicos.append(candidatoString)\n",
    "        \n",
    "    return (ciclicos)\n",
    "\n",
    "# ------------------------------------------------------------------------------------------\n",
    "# rotar: Función para rotar una cadena tantas posiciones como veces se indique. \n",
    "#        El primer carácter pasa al final.\n",
    "# ------------------------------------------------------------------------------------------\n",
    "def rotar(string, veces):\n",
    "    \n",
    "    if veces!=0:\n",
    "        rotado= list(string)\n",
    "\n",
    "        for repeticiones in range (0, veces):\n",
    "            primero=rotado[0]\n",
    "            for i in range(0, len(string)):\n",
    "\n",
    "                if (i<len(string)-1):\n",
    "                    rotado[i]=rotado[i+1]\n",
    "                else:\n",
    "                    rotado[i]=primero\n",
    "\n",
    "            numBuscado=\"\".join(map(str,rotado))\n",
    "\n",
    "        return(numBuscado)\n",
    "    else:\n",
    "        return(string)\n",
    "\n",
    "# ------------------------------------------------------------------------------------------\n",
    "# obtenerCandidatos: Función para obtener candidatos a la solución, tiene que empezar por 3\n",
    "# ------------------------------------------------------------------------------------------\n",
    "def obtenerCandidatos(lista):\n",
    "    \n",
    "    candidatos=[]\n",
    "\n",
    "    for elem in lista:\n",
    "        posicion=[]\n",
    "        for i in range (0,len(elem)):\n",
    "            if elem[i]=='3':\n",
    "                posicion.append(i)\n",
    "\n",
    "        for i in range (0, len(posicion)):\n",
    "            rotado = rotar(elem, posicion[i])\n",
    "            candidatos.append(rotado)\n",
    "    return(candidatos)\n",
    "\n",
    "# ------------------------------------------------------------------------------------------\n",
    "# chequeoFinal: Función para obtener el resultado si cumple las 2 condiciones del enunciado\n",
    "# ------------------------------------------------------------------------------------------\n",
    "def chequeoFinal(candidatos):\n",
    "    for elem in candidatos:\n",
    "        prueba1=int(elem)*3/2\n",
    "        prueba2=rotar(elem,1)\n",
    "        if prueba1==int(prueba2):\n",
    "            return(elem)\n",
    "\n",
    "\n",
    "\n",
    "ciclicos=obtenerCiclicos()\n",
    "posibles=obtenerCandidatos(ciclicos)\n",
    "resultado=chequeoFinal(posibles)\n",
    "print(resultado)\n",
    "\n",
    "    \n",
    "\n",
    "\n"
   ]
  },
  {
   "cell_type": "code",
   "execution_count": 111,
   "metadata": {},
   "outputs": [
    {
     "name": "stdout",
     "output_type": "stream",
     "text": [
      "5882352941176470 5882352941176470\n"
     ]
    }
   ],
   "source": [
    "def rotar(string, veces):\n",
    "    \n",
    "    if veces!=0:\n",
    "        rotado= list(string)\n",
    "\n",
    "        for repeticiones in range (0, veces):\n",
    "            primero=rotado[0]\n",
    "            for i in range(0, len(string)):\n",
    "\n",
    "                if (i<len(string)-1):\n",
    "                    rotado[i]=rotado[i+1]\n",
    "                else:\n",
    "                    rotado[i]=primero\n",
    "\n",
    "            numBuscado=\"\".join(map(str,rotado))\n",
    "\n",
    "        return(numBuscado)\n",
    "    else:\n",
    "        return(string)\n",
    "\n",
    "\n",
    "rotado=rotar('5882352941176470', 0)\n",
    "print('5882352941176470',rotado)\n"
   ]
  },
  {
   "cell_type": "code",
   "execution_count": 81,
   "metadata": {},
   "outputs": [
    {
     "name": "stdout",
     "output_type": "stream",
     "text": [
      "5\n",
      "8\n",
      "8\n",
      "2\n",
      "3\n",
      "5\n",
      "2\n",
      "9\n",
      "4\n",
      "1\n",
      "1\n",
      "7\n",
      "6\n",
      "4\n",
      "7\n",
      "0\n"
     ]
    }
   ],
   "source": [
    "candidatoString= str('5882352941176470')\n",
    "for x in range (0, len(candidatoString)):\n",
    "    if(candidatoString[0]==3):\n",
    "    print(candidatoString[x])\n"
   ]
  },
  {
   "cell_type": "code",
   "execution_count": 20,
   "metadata": {},
   "outputs": [
    {
     "data": {
      "text/plain": [
       "0.13"
      ]
     },
     "execution_count": 20,
     "metadata": {},
     "output_type": "execute_result"
    }
   ],
   "source": [
    "round(0.129456,2)"
   ]
  },
  {
   "cell_type": "code",
   "execution_count": 23,
   "metadata": {},
   "outputs": [
    {
     "data": {
      "text/plain": [
       "0"
      ]
     },
     "execution_count": 23,
     "metadata": {},
     "output_type": "execute_result"
    }
   ],
   "source": [
    "(1+1)%2"
   ]
  },
  {
   "cell_type": "code",
   "execution_count": 5,
   "metadata": {},
   "outputs": [
    {
     "name": "stdout",
     "output_type": "stream",
     "text": [
      "5882352941176470 ['7647058823529411', '7058823529411764']\n"
     ]
    },
    {
     "data": {
      "text/plain": [
       "[11, 14]"
      ]
     },
     "execution_count": 5,
     "metadata": {},
     "output_type": "execute_result"
    }
   ],
   "source": [
    "candidatos=[]\n",
    "posicion=[]\n",
    "lista=cadena\n",
    "for i in range (0,len(lista)):\n",
    "\n",
    "    if lista[i]=='7':\n",
    "        posicion.append(i)\n",
    "\n",
    "for i in range (0, len(posicion)):\n",
    "    rotado = rotar(lista, posicion[i])\n",
    "    candidatos.append(rotado)\n",
    "print('5882352941176470',candidatos)\n",
    "posicion\n",
    "\n",
    "    \n"
   ]
  },
  {
   "cell_type": "code",
   "execution_count": 27,
   "metadata": {},
   "outputs": [
    {
     "name": "stdout",
     "output_type": "stream",
     "text": [
      "['142857', '5882352941176470', '526315789473684160']\n",
      "142857 <class 'str'>\n",
      "6 0 []\n",
      "6 1 []\n",
      "6 2 []\n",
      "6 3 []\n",
      "6 4 []\n",
      "6 5 []\n",
      "5882352941176470 <class 'str'>\n",
      "16 0 []\n",
      "16 1 []\n",
      "16 2 []\n",
      "16 3 []\n",
      "16 4 []\n",
      "16 5 [4]\n",
      "16 6 [4]\n",
      "16 7 [4]\n",
      "16 8 [4]\n",
      "16 9 [4]\n",
      "16 10 [4]\n",
      "16 11 [4]\n",
      "16 12 [4]\n",
      "16 13 [4]\n",
      "16 14 [4]\n",
      "16 15 [4]\n",
      "3529411764705882\n",
      "526315789473684160 <class 'str'>\n",
      "18 0 []\n",
      "18 1 []\n",
      "18 2 []\n",
      "18 3 []\n",
      "18 4 [3]\n",
      "18 5 [3]\n",
      "18 6 [3]\n",
      "18 7 [3]\n",
      "18 8 [3]\n",
      "18 9 [3]\n",
      "18 10 [3]\n",
      "18 11 [3]\n",
      "18 12 [3, 11]\n",
      "18 13 [3, 11]\n",
      "18 14 [3, 11]\n",
      "18 15 [3, 11]\n",
      "18 16 [3, 11]\n",
      "18 17 [3, 11]\n",
      "315789473684160526\n",
      "368416052631578947\n",
      "[3, 11] ['3529411764705882', '315789473684160526', '368416052631578947']\n"
     ]
    }
   ],
   "source": [
    "lista=ciclicosprueba\n",
    "print(lista)\n",
    "candidatos=[]\n",
    "\n",
    "\n",
    "for elem in lista:\n",
    "    posicion=[]\n",
    "    print(elem, type(elem))\n",
    "    for i in range (0,len(elem)):\n",
    "        print(len(elem),i,posicion)\n",
    "        if elem[i]=='3':\n",
    "            posicion.append(i)\n",
    "\n",
    "    for i in range (0, len(posicion)):\n",
    "        rotado = rotar(elem, posicion[i])\n",
    "        print(rotado)\n",
    "        candidatos.append(rotado)\n",
    "print(posicion,candidatos)\n"
   ]
  },
  {
   "cell_type": "code",
   "execution_count": 3,
   "metadata": {},
   "outputs": [
    {
     "data": {
      "text/plain": [
       "'142857'"
      ]
     },
     "execution_count": 3,
     "metadata": {},
     "output_type": "execute_result"
    }
   ],
   "source": [
    "ciclicosprueba=['142857', '5882352941176470', '526315789473684160']\n",
    "ciclicosprueba[0]"
   ]
  },
  {
   "cell_type": "code",
   "execution_count": 7,
   "metadata": {},
   "outputs": [
    {
     "name": "stdout",
     "output_type": "stream",
     "text": [
      "['1', '4', '2', '8', '5', '7']\n"
     ]
    },
    {
     "data": {
      "text/plain": [
       "'142857'"
      ]
     },
     "execution_count": 7,
     "metadata": {},
     "output_type": "execute_result"
    }
   ],
   "source": [
    "print(list(ciclicosprueba[0]))\n",
    "\"\".join(map(str,ciclicosprueba[0]))"
   ]
  },
  {
   "cell_type": "code",
   "execution_count": null,
   "metadata": {},
   "outputs": [],
   "source": []
  }
 ],
 "metadata": {
  "kernelspec": {
   "display_name": "Python 3",
   "language": "python",
   "name": "python3"
  },
  "language_info": {
   "codemirror_mode": {
    "name": "ipython",
    "version": 3
   },
   "file_extension": ".py",
   "mimetype": "text/x-python",
   "name": "python",
   "nbconvert_exporter": "python",
   "pygments_lexer": "ipython3",
   "version": "3.7.4"
  }
 },
 "nbformat": 4,
 "nbformat_minor": 2
}
