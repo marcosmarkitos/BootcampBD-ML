{
 "cells": [
  {
   "cell_type": "markdown",
   "metadata": {},
   "source": [
    "# EXTRA5. Calculus"
   ]
  },
  {
   "cell_type": "markdown",
   "metadata": {},
   "source": [
    "## Suposiciones en Sympy\n",
    "\n",
    "En todos los programas, creamos un objeto *Symbol*, definiendo una variable como:  \n",
    "> x=Symbol('x')  \n",
    "\n",
    "<span style=\"color:orange\"> Ejemplo:  \n",
    "Supongamos que necesitamos chequear si la expresión x+5 es mayor que 0.</style>\n"
   ]
  },
  {
   "cell_type": "code",
   "execution_count": 1,
   "metadata": {},
   "outputs": [
    {
     "ename": "TypeError",
     "evalue": "cannot determine truth value of Relational",
     "output_type": "error",
     "traceback": [
      "\u001b[0;31m---------------------------------------------------------------------------\u001b[0m",
      "\u001b[0;31mTypeError\u001b[0m                                 Traceback (most recent call last)",
      "\u001b[0;32m<ipython-input-1-96821d0cc2e6>\u001b[0m in \u001b[0;36m<module>\u001b[0;34m()\u001b[0m\n\u001b[1;32m      1\u001b[0m \u001b[0;32mfrom\u001b[0m \u001b[0msympy\u001b[0m \u001b[0;32mimport\u001b[0m \u001b[0mSymbol\u001b[0m\u001b[0;34m\u001b[0m\u001b[0m\n\u001b[1;32m      2\u001b[0m \u001b[0mx\u001b[0m\u001b[0;34m=\u001b[0m\u001b[0mSymbol\u001b[0m\u001b[0;34m(\u001b[0m\u001b[0;34m'x'\u001b[0m\u001b[0;34m)\u001b[0m\u001b[0;34m\u001b[0m\u001b[0m\n\u001b[0;32m----> 3\u001b[0;31m \u001b[0;32mif\u001b[0m \u001b[0;34m(\u001b[0m\u001b[0mx\u001b[0m\u001b[0;34m+\u001b[0m\u001b[0;36m5\u001b[0m\u001b[0;34m)\u001b[0m\u001b[0;34m>\u001b[0m\u001b[0;36m0\u001b[0m\u001b[0;34m:\u001b[0m\u001b[0;34m\u001b[0m\u001b[0m\n\u001b[0m\u001b[1;32m      4\u001b[0m     \u001b[0mprint\u001b[0m\u001b[0;34m(\u001b[0m\u001b[0;34m'Ok'\u001b[0m\u001b[0;34m)\u001b[0m\u001b[0;34m\u001b[0m\u001b[0m\n\u001b[1;32m      5\u001b[0m \u001b[0;32melse\u001b[0m\u001b[0;34m:\u001b[0m\u001b[0;34m\u001b[0m\u001b[0m\n",
      "\u001b[0;32m/anaconda3/lib/python3.6/site-packages/sympy/core/relational.py\u001b[0m in \u001b[0;36m__nonzero__\u001b[0;34m(self)\u001b[0m\n\u001b[1;32m    193\u001b[0m \u001b[0;34m\u001b[0m\u001b[0m\n\u001b[1;32m    194\u001b[0m     \u001b[0;32mdef\u001b[0m \u001b[0m__nonzero__\u001b[0m\u001b[0;34m(\u001b[0m\u001b[0mself\u001b[0m\u001b[0;34m)\u001b[0m\u001b[0;34m:\u001b[0m\u001b[0;34m\u001b[0m\u001b[0m\n\u001b[0;32m--> 195\u001b[0;31m         \u001b[0;32mraise\u001b[0m \u001b[0mTypeError\u001b[0m\u001b[0;34m(\u001b[0m\u001b[0;34m\"cannot determine truth value of Relational\"\u001b[0m\u001b[0;34m)\u001b[0m\u001b[0;34m\u001b[0m\u001b[0m\n\u001b[0m\u001b[1;32m    196\u001b[0m \u001b[0;34m\u001b[0m\u001b[0m\n\u001b[1;32m    197\u001b[0m     \u001b[0m__bool__\u001b[0m \u001b[0;34m=\u001b[0m \u001b[0m__nonzero__\u001b[0m\u001b[0;34m\u001b[0m\u001b[0m\n",
      "\u001b[0;31mTypeError\u001b[0m: cannot determine truth value of Relational"
     ]
    }
   ],
   "source": [
    "from sympy import Symbol\n",
    "x=Symbol('x')\n",
    "if (x+5)>0:\n",
    "    print('Ok')\n",
    "else:\n",
    "    print('No Ok')"
   ]
  },
  {
   "cell_type": "markdown",
   "metadata": {},
   "source": [
    "<span style=\"color:orange\">Como Sympy no sabe nada acerca del signo de **x**, no puede deducir si x+5 es mayor que 0, por lo que devuelve un error.</style>"
   ]
  },
  {
   "cell_type": "code",
   "execution_count": 2,
   "metadata": {},
   "outputs": [
    {
     "name": "stdout",
     "output_type": "stream",
     "text": [
      "Ok\n"
     ]
    }
   ],
   "source": [
    "from sympy import Symbol\n",
    "x=Symbol('x',positive=True)\n",
    "if (x+5)>0:\n",
    "    print('Ok')\n",
    "else:\n",
    "    print('No Ok')"
   ]
  },
  {
   "cell_type": "markdown",
   "metadata": {},
   "source": [
    "<span style=\"color:orange\">¿Y si lo deifiniésemos con signo negativo?</style>"
   ]
  },
  {
   "cell_type": "code",
   "execution_count": 3,
   "metadata": {},
   "outputs": [
    {
     "ename": "TypeError",
     "evalue": "cannot determine truth value of Relational",
     "output_type": "error",
     "traceback": [
      "\u001b[0;31m---------------------------------------------------------------------------\u001b[0m",
      "\u001b[0;31mTypeError\u001b[0m                                 Traceback (most recent call last)",
      "\u001b[0;32m<ipython-input-3-56386fe54907>\u001b[0m in \u001b[0;36m<module>\u001b[0;34m()\u001b[0m\n\u001b[1;32m      1\u001b[0m \u001b[0;32mfrom\u001b[0m \u001b[0msympy\u001b[0m \u001b[0;32mimport\u001b[0m \u001b[0mSymbol\u001b[0m\u001b[0;34m\u001b[0m\u001b[0m\n\u001b[1;32m      2\u001b[0m \u001b[0mx\u001b[0m\u001b[0;34m=\u001b[0m\u001b[0mSymbol\u001b[0m\u001b[0;34m(\u001b[0m\u001b[0;34m'x'\u001b[0m\u001b[0;34m,\u001b[0m\u001b[0mnegative\u001b[0m\u001b[0;34m=\u001b[0m\u001b[0;32mTrue\u001b[0m\u001b[0;34m)\u001b[0m\u001b[0;34m\u001b[0m\u001b[0m\n\u001b[0;32m----> 3\u001b[0;31m \u001b[0;32mif\u001b[0m \u001b[0;34m(\u001b[0m\u001b[0mx\u001b[0m\u001b[0;34m+\u001b[0m\u001b[0;36m5\u001b[0m\u001b[0;34m)\u001b[0m\u001b[0;34m>\u001b[0m\u001b[0;36m0\u001b[0m\u001b[0;34m:\u001b[0m\u001b[0;34m\u001b[0m\u001b[0m\n\u001b[0m\u001b[1;32m      4\u001b[0m     \u001b[0mprint\u001b[0m\u001b[0;34m(\u001b[0m\u001b[0;34m'Ok'\u001b[0m\u001b[0;34m)\u001b[0m\u001b[0;34m\u001b[0m\u001b[0m\n\u001b[1;32m      5\u001b[0m \u001b[0;32melse\u001b[0m\u001b[0;34m:\u001b[0m\u001b[0;34m\u001b[0m\u001b[0m\n",
      "\u001b[0;32m/anaconda3/lib/python3.6/site-packages/sympy/core/relational.py\u001b[0m in \u001b[0;36m__nonzero__\u001b[0;34m(self)\u001b[0m\n\u001b[1;32m    193\u001b[0m \u001b[0;34m\u001b[0m\u001b[0m\n\u001b[1;32m    194\u001b[0m     \u001b[0;32mdef\u001b[0m \u001b[0m__nonzero__\u001b[0m\u001b[0;34m(\u001b[0m\u001b[0mself\u001b[0m\u001b[0;34m)\u001b[0m\u001b[0;34m:\u001b[0m\u001b[0;34m\u001b[0m\u001b[0m\n\u001b[0;32m--> 195\u001b[0;31m         \u001b[0;32mraise\u001b[0m \u001b[0mTypeError\u001b[0m\u001b[0;34m(\u001b[0m\u001b[0;34m\"cannot determine truth value of Relational\"\u001b[0m\u001b[0;34m)\u001b[0m\u001b[0;34m\u001b[0m\u001b[0m\n\u001b[0m\u001b[1;32m    196\u001b[0m \u001b[0;34m\u001b[0m\u001b[0m\n\u001b[1;32m    197\u001b[0m     \u001b[0m__bool__\u001b[0m \u001b[0;34m=\u001b[0m \u001b[0m__nonzero__\u001b[0m\u001b[0;34m\u001b[0m\u001b[0m\n",
      "\u001b[0;31mTypeError\u001b[0m: cannot determine truth value of Relational"
     ]
    }
   ],
   "source": [
    "from sympy import Symbol\n",
    "x=Symbol('x',negative=True)\n",
    "if (x+5)>0:\n",
    "    print('Ok')\n",
    "else:\n",
    "    print('No Ok')"
   ]
  },
  {
   "cell_type": "markdown",
   "metadata": {},
   "source": [
    "Además de poder declarar un *symbol* como positivo y negativo, también es posible especificar si es real, integer, complex, imaginary, y muchio más.  \n",
    "Estas declaraciones es lo que se llama **suposiciones en Sympy**."
   ]
  },
  {
   "cell_type": "markdown",
   "metadata": {},
   "source": [
    "## Límite de funciones\n",
    "\n",
    "Algo comíun en cálculo es calcular el valor al que se aproxima una función.\n",
    "\n",
    "<span style=\"color:orange\">Ejemplo: Consideremos la función $\\frac{1}{x}$ </style>\n",
    "\n",
    "<img src=\"Images/main-qimg-c5be56e1b5d297b9995615a47707f52b.png\" style=\"width: 400px;\"/> \n",
    "\n",
    "<span style=\"color:orange\">Queremos calcular $\\lim_{x \\to \\infty}(\\frac{1}{x})$</style>"
   ]
  },
  {
   "cell_type": "code",
   "execution_count": 1,
   "metadata": {},
   "outputs": [
    {
     "data": {
      "text/plain": [
       "Limit(1/x, x, oo, dir='-')"
      ]
     },
     "execution_count": 1,
     "metadata": {},
     "output_type": "execute_result"
    }
   ],
   "source": [
    "from sympy import Limit, Symbol, S\n",
    "x=Symbol('x')\n",
    "l= Limit(1/x,x,S.Infinity)\n",
    "l"
   ]
  },
  {
   "cell_type": "code",
   "execution_count": 2,
   "metadata": {},
   "outputs": [
    {
     "data": {
      "text/plain": [
       "0"
      ]
     },
     "execution_count": 2,
     "metadata": {},
     "output_type": "execute_result"
    }
   ],
   "source": [
    "l.doit()"
   ]
  },
  {
   "cell_type": "markdown",
   "metadata": {},
   "source": [
    "Por defecto, Limit toma la dirección positiva.\n",
    "<span style=\"color:orange\">Queremos calcular $\\lim_{x \\to -\\infty}(\\frac{1}{x})$</style>"
   ]
  },
  {
   "cell_type": "code",
   "execution_count": 5,
   "metadata": {},
   "outputs": [
    {
     "data": {
      "text/plain": [
       "0"
      ]
     },
     "execution_count": 5,
     "metadata": {},
     "output_type": "execute_result"
    }
   ],
   "source": [
    "from sympy import Limit, Symbol, S\n",
    "x=Symbol('x')\n",
    "l= Limit(1/x,x,S.Infinity, dir='-')\n",
    "l.doit()"
   ]
  },
  {
   "cell_type": "markdown",
   "metadata": {},
   "source": [
    "<span style=\"color:orange\">Queremos calcular $\\lim_{x \\to 0}(\\frac{1}{x})$</style>"
   ]
  },
  {
   "cell_type": "code",
   "execution_count": 6,
   "metadata": {},
   "outputs": [
    {
     "data": {
      "text/plain": [
       "oo"
      ]
     },
     "execution_count": 6,
     "metadata": {},
     "output_type": "execute_result"
    }
   ],
   "source": [
    "from sympy import Limit, Symbol, S\n",
    "x=Symbol('x')\n",
    "l= Limit(1/x,x,0)\n",
    "l.doit()"
   ]
  },
  {
   "cell_type": "code",
   "execution_count": 7,
   "metadata": {},
   "outputs": [
    {
     "data": {
      "text/plain": [
       "-oo"
      ]
     },
     "execution_count": 7,
     "metadata": {},
     "output_type": "execute_result"
    }
   ],
   "source": [
    "from sympy import Limit, Symbol, S\n",
    "x=Symbol('x')\n",
    "l= Limit(1/x,x,0, dir='-')\n",
    "l.doit()"
   ]
  },
  {
   "cell_type": "markdown",
   "metadata": {},
   "source": [
    "Limit soporta también indeterminaciones del tipo 0/0 y $\\infty$/$\\infty$\n",
    "\n",
    "<span style=\"color:orange\">Queremos calcular $\\lim_{x \\to 0}(\\frac{senx}{x})$</style>"
   ]
  },
  {
   "cell_type": "code",
   "execution_count": 8,
   "metadata": {},
   "outputs": [
    {
     "data": {
      "text/plain": [
       "1"
      ]
     },
     "execution_count": 8,
     "metadata": {},
     "output_type": "execute_result"
    }
   ],
   "source": [
    "from sympy import Limit, Symbol, sin\n",
    "Limit(sin(x)/x,x,0).doit()"
   ]
  },
  {
   "cell_type": "markdown",
   "metadata": {},
   "source": [
    "No podíamos pasar de largo hablar del término $(1+\\frac{1}{n})^{n}$, quien Bernoulli demostró que tendía a *e*"
   ]
  },
  {
   "cell_type": "code",
   "execution_count": 9,
   "metadata": {},
   "outputs": [
    {
     "data": {
      "text/plain": [
       "E"
      ]
     },
     "execution_count": 9,
     "metadata": {},
     "output_type": "execute_result"
    }
   ],
   "source": [
    "from sympy import Limit, Symbol, S\n",
    "n=Symbol('n')\n",
    "Limit((1+1/n)**n,n,S.Infinity).doit()"
   ]
  },
  {
   "cell_type": "markdown",
   "metadata": {},
   "source": [
    "<span style=\"color:orange\">Ejemplo:  \n",
    "Consideremos un coche que acelera uniformemente, cuya ecuación de velocidad viene dada por:</style>  \n",
    "> <span style=\"color:orange\">S(t)=5t<sup>2</sup>+2t+8</style>  \n",
    "\n",
    "<span style=\"color:orange\">En esta función, la variable independiente es *t*, que representa el tiempo transcurrido desde que el coche empezó a moverse.  \n",
    "Si medimos la distancia recorrida entre los tiempos t<sub>1</sub> y t<sub>2</sub>, con t<sub>2</sub>>t<sub>1</sub>, podemos calcular la distancia que se mueve en coche en una unidad de tiempo:</style>  \n",
    "\n",
    "> <span style=\"color:orange\">$\\frac{S(t_{2})-S(t_{1})}{t_{2}-t_{1}}$</style> \n",
    "\n",
    "<span style=\"color:orange\"> Esto también se conoce como la tasa promedio de cambio de la función S con respecto a la variable t, o en otras palabras, la velocidad promedio.  \n",
    "Si escribimos t<sub>2</sub> como t<sub>1</sub>+$\\delta_{t}$, donde $\\delta_{t}$ es la diferencia entre t<sub>2</sub> y t<sub>1</sub>, podemos reescribir la expresión para la velocidad media como\n",
    "</style> \n",
    "\n",
    "> <span style=\"color:orange\">$\\frac{S(t_{1}+\\delta_{t})-S(t_{1})}{\\delta_{t}}$</style>  \n",
    "\n",
    "<span style=\"color:orange\"> Supongamos que $\\delta_{t}$ es lo suficientemente pequeño (conseguiríamos calcular la velocidad en un punto):\n",
    "    \n",
    "> <span style=\"color:orange\">$lim_{{\\delta_{t}} \\to 0} {\\frac{S(t_{1}+\\delta_{t})-S(t_{1})}{\\delta_{t}}}$</style>  \n",
    "\n",
    "    "
   ]
  },
  {
   "cell_type": "code",
   "execution_count": 10,
   "metadata": {},
   "outputs": [
    {
     "data": {
      "text/plain": [
       "10*t1 + 2"
      ]
     },
     "execution_count": 10,
     "metadata": {},
     "output_type": "execute_result"
    }
   ],
   "source": [
    "from sympy import Symbol, Limit\n",
    "t=Symbol('t')\n",
    "St=5*t**2+2*t+8\n",
    "t1=Symbol('t1')\n",
    "delta_t=Symbol('delta_t')\n",
    "St1=St.subs({t:t1})\n",
    "St1_delta=St.subs({t: t1+delta_t})\n",
    "Limit((St1_delta-St1)/delta_t,delta_t,0).doit()"
   ]
  },
  {
   "cell_type": "markdown",
   "metadata": {},
   "source": [
    "<span style=\"color:orange\">Esto también se conoce como **velocidad instantánea**.</style> \n",
    "\n",
    "Además, este límite se conoce como la **derivada de una función**.\n",
    "> f'(t)=$lim_{{\\delta_{t}} \\to 0} {\\frac{S(t_{1}+\\delta_{t})-S(t_{1})}{\\delta_{t}}}$\n",
    "\n",
    "Muchos recordaréis la famosa tabla de derivadas que estudiábamos en el colegio:\n",
    "\n",
    "<img src=\"Images/tabla-derivadas2.jpg\" style=\"width: 500px;\"/>\n",
    "\n",
    "Por suerte, ahora no nos va a hacer falta, ya que disponemos en sympy de la función *Derivative*\n",
    "\n",
    "<span style=\"color:orange\">Ejemplo:  \n",
    "Vamos a derivar la función S(t)=5t<sup>2</sup>+2t+8</style> \n",
    "\n",
    "<img src=\"Images/f1.png\" style=\"width: 500px;\"/>"
   ]
  },
  {
   "cell_type": "code",
   "execution_count": 11,
   "metadata": {},
   "outputs": [
    {
     "data": {
      "text/plain": [
       "10*t + 2"
      ]
     },
     "execution_count": 11,
     "metadata": {},
     "output_type": "execute_result"
    }
   ],
   "source": [
    "from sympy import Symbol, Derivative\n",
    "t=Symbol('t')\n",
    "St=5*t**2+2*t+8\n",
    "d= Derivative(St,t)\n",
    "d.doit()"
   ]
  },
  {
   "cell_type": "markdown",
   "metadata": {},
   "source": [
    "Si queremos evaluar la derivada en un valor determinado, usaremos *subs()*.  \n",
    "\n",
    "<span style=\"color:orange\">Ejemplo:  \n",
    "Vamos a derivar la función S(t)=5t<sup>2</sup>+2t+8 en t=1</style> "
   ]
  },
  {
   "cell_type": "code",
   "execution_count": 12,
   "metadata": {},
   "outputs": [
    {
     "data": {
      "text/plain": [
       "12"
      ]
     },
     "execution_count": 12,
     "metadata": {},
     "output_type": "execute_result"
    }
   ],
   "source": [
    "d.doit().subs({t:1})"
   ]
  },
  {
   "cell_type": "markdown",
   "metadata": {},
   "source": [
    "<span style=\"color:orange\">Ejemplo:  \n",
    "Vamos a derivar la función (x<sup>3</sup>-x<sup>2</sup>+x)+(x<sup>2</sup>+x)</style>"
   ]
  },
  {
   "cell_type": "code",
   "execution_count": 13,
   "metadata": {},
   "outputs": [
    {
     "data": {
      "text/plain": [
       "(2*x + 1)*(x**3 + x**2 + x) + (x**2 + x)*(3*x**2 + 2*x + 1)"
      ]
     },
     "execution_count": 13,
     "metadata": {},
     "output_type": "execute_result"
    }
   ],
   "source": [
    "from sympy import Derivative, Symbol\n",
    "x=Symbol('x')\n",
    "f=(x**3+x**2+x)*(x**2+x)\n",
    "Derivative(f,x).doit()"
   ]
  },
  {
   "cell_type": "markdown",
   "metadata": {},
   "source": [
    "## Máximos y mínimos\n",
    "\n",
    "Los máximos y los mínimos relativos de una función son aquellos que satisfacen f'(x)=0 y:\n",
    "* f''(x)>0 es mínimo\n",
    "* f''(x)<0 es máximo\n",
    "\n",
    "<span style=\"color:orange\">Ejemplo:  \n",
    "Vamos a calcular los máximos y los mínimos de la función f(x)=x<sup>5</sup>-30x<sup>3</sup>+50x en el dominio [-5,5]</style>"
   ]
  },
  {
   "cell_type": "code",
   "execution_count": 3,
   "metadata": {},
   "outputs": [
    {
     "data": {
      "text/plain": [
       "[-I*sqrt(-sqrt(71) + 9),\n",
       " I*sqrt(-sqrt(71) + 9),\n",
       " -I*sqrt(sqrt(71) + 9),\n",
       " I*sqrt(sqrt(71) + 9)]"
      ]
     },
     "execution_count": 3,
     "metadata": {},
     "output_type": "execute_result"
    }
   ],
   "source": [
    "from sympy import Derivative, Symbol, solve\n",
    "x=Symbol('x')\n",
    "f=x**5+30*x**3+50*x\n",
    "d1=Derivative(f,x).doit()\n",
    "puntos_criticos=solve(d1)\n",
    "puntos_criticos"
   ]
  },
  {
   "cell_type": "code",
   "execution_count": 4,
   "metadata": {},
   "outputs": [
    {
     "data": {
      "text/plain": [
       "20*x**3 + 180*x"
      ]
     },
     "execution_count": 4,
     "metadata": {},
     "output_type": "execute_result"
    }
   ],
   "source": [
    "d2=Derivative(d1,x).doit()\n",
    "d2"
   ]
  },
  {
   "cell_type": "markdown",
   "metadata": {},
   "source": [
    "<span style=\"color:orange\">Otra forma de calcular la segunda derivada:</style>"
   ]
  },
  {
   "cell_type": "code",
   "execution_count": 5,
   "metadata": {},
   "outputs": [
    {
     "data": {
      "text/plain": [
       "20*x*(x**2 + 9)"
      ]
     },
     "execution_count": 5,
     "metadata": {},
     "output_type": "execute_result"
    }
   ],
   "source": [
    "d2=Derivative(f,x,2).doit()\n",
    "d2"
   ]
  },
  {
   "cell_type": "markdown",
   "metadata": {},
   "source": [
    "<span style=\"color:orange\">Así no podemos evaluar los puntos en la segunda derivada. Para ello necesitamos crear etiquetas</style>"
   ]
  },
  {
   "cell_type": "code",
   "execution_count": 9,
   "metadata": {},
   "outputs": [
    {
     "data": {
      "text/plain": [
       "-127.661060789073*I"
      ]
     },
     "execution_count": 9,
     "metadata": {},
     "output_type": "execute_result"
    }
   ],
   "source": [
    "A=puntos_criticos[0]\n",
    "d2.subs({x:A}).evalf()"
   ]
  },
  {
   "cell_type": "code",
   "execution_count": 10,
   "metadata": {},
   "outputs": [
    {
     "data": {
      "text/plain": [
       "127.661060789073*I"
      ]
     },
     "execution_count": 10,
     "metadata": {},
     "output_type": "execute_result"
    }
   ],
   "source": [
    "B=puntos_criticos[1]\n",
    "d2.subs({x:B}).evalf()"
   ]
  },
  {
   "cell_type": "code",
   "execution_count": 11,
   "metadata": {},
   "outputs": [
    {
     "data": {
      "text/plain": [
       "703.493179468151*I"
      ]
     },
     "execution_count": 11,
     "metadata": {},
     "output_type": "execute_result"
    }
   ],
   "source": [
    "C=puntos_criticos[2]\n",
    "d2.subs({x:C}).evalf()"
   ]
  },
  {
   "cell_type": "code",
   "execution_count": 13,
   "metadata": {},
   "outputs": [
    {
     "data": {
      "text/plain": [
       "-703.493179468151*I"
      ]
     },
     "execution_count": 13,
     "metadata": {},
     "output_type": "execute_result"
    }
   ],
   "source": [
    "D=puntos_criticos[3]\n",
    "d2.subs({x:D}).evalf()"
   ]
  },
  {
   "cell_type": "markdown",
   "metadata": {},
   "source": [
    "<span style=\"color:orange\">Con esto, de hecho, podríamos calcular los máximos y los mínimos relativos, no?\n",
    "Cuidado!!! Nos faltaría saber que ocurre en los \"bordes\" del dominio.</style>"
   ]
  },
  {
   "cell_type": "code",
   "execution_count": 20,
   "metadata": {},
   "outputs": [
    {
     "data": {
      "text/plain": [
       "-3400.00000000000"
      ]
     },
     "execution_count": 20,
     "metadata": {},
     "output_type": "execute_result"
    }
   ],
   "source": [
    "x_min=-5\n",
    "d2.subs({x:x_min}).evalf()"
   ]
  },
  {
   "cell_type": "code",
   "execution_count": 21,
   "metadata": {},
   "outputs": [
    {
     "data": {
      "text/plain": [
       "3400.00000000000"
      ]
     },
     "execution_count": 21,
     "metadata": {},
     "output_type": "execute_result"
    }
   ],
   "source": [
    "x_max=5\n",
    "d2.subs({x:x_max}).evalf()"
   ]
  },
  {
   "cell_type": "markdown",
   "metadata": {},
   "source": [
    "<span style=\"color:orange\">Ahora que ya sabemos dónde están posicionados en el eje X los máximos y mínimos y si son máximo o mínimo, nos faltaría saber qué punto exacto son.  \n",
    "    Además, así podríamos sacar cuál es el máximo y el mínimo absoluto de la función dada.</style>"
   ]
  },
  {
   "cell_type": "code",
   "execution_count": 14,
   "metadata": {},
   "outputs": [
    {
     "data": {
      "text/plain": [
       "-705.959460380365*I"
      ]
     },
     "execution_count": 14,
     "metadata": {},
     "output_type": "execute_result"
    }
   ],
   "source": [
    "f.subs({x:A}).evalf()"
   ]
  },
  {
   "cell_type": "code",
   "execution_count": 15,
   "metadata": {},
   "outputs": [
    {
     "data": {
      "text/plain": [
       "25.0846626340294*I"
      ]
     },
     "execution_count": 15,
     "metadata": {},
     "output_type": "execute_result"
    }
   ],
   "source": [
    "f.subs({x:B}).evalf()"
   ]
  },
  {
   "cell_type": "code",
   "execution_count": 16,
   "metadata": {},
   "outputs": [
    {
     "data": {
      "text/plain": [
       "705.959460380365*I"
      ]
     },
     "execution_count": 16,
     "metadata": {},
     "output_type": "execute_result"
    }
   ],
   "source": [
    "f.subs({x:C}).evalf()"
   ]
  },
  {
   "cell_type": "code",
   "execution_count": 17,
   "metadata": {},
   "outputs": [
    {
     "data": {
      "text/plain": [
       "-705.959460380365*I"
      ]
     },
     "execution_count": 17,
     "metadata": {},
     "output_type": "execute_result"
    }
   ],
   "source": [
    "f.subs({x:D}).evalf()"
   ]
  },
  {
   "cell_type": "code",
   "execution_count": 22,
   "metadata": {},
   "outputs": [
    {
     "data": {
      "text/plain": [
       "-7125.00000000000"
      ]
     },
     "execution_count": 22,
     "metadata": {},
     "output_type": "execute_result"
    }
   ],
   "source": [
    "f.subs({x:x_min}).evalf()"
   ]
  },
  {
   "cell_type": "code",
   "execution_count": 23,
   "metadata": {},
   "outputs": [
    {
     "data": {
      "text/plain": [
       "7125.00000000000"
      ]
     },
     "execution_count": 23,
     "metadata": {},
     "output_type": "execute_result"
    }
   ],
   "source": [
    "f.subs({x:x_max}).evalf()"
   ]
  },
  {
   "cell_type": "markdown",
   "metadata": {},
   "source": [
    "Antes de continuar, vamos a introducir un ejemplo típico.  \n",
    "\n",
    "<span style=\"color:orange\">Ejemplo: Projectile Motion.   \n",
    "Queremos descubrir el ángulo de proyección para el que una pelota cubrirá la distancia horizontal máxima. </style>  \n",
    "\n",
    "<img src=\"Images/projectile.png\" style=\"width: 500px;\"/>\n",
    "\n",
    "<span style=\"color:orange\">En la figura, la pelota es lanzada desde el punto O y aterriza en el punto B, siendo la máxima altura el punto A.  \n",
    "Cuando lanzamos la pelota, ésta tiene una velocidad inicial y la dirección de la velocidad provoca un determinado ángulo con el suelo.  \n",
    "Llamemos **v** al vector velocidad inicial y al ámngulo que forma con la horizontal $\\theta$.  \n",
    "El vector velocidad puede ser descompuesto en sus dos componentes:\n",
    "</style> \n",
    "> <span style=\"color:orange\"> v<sub>x</sub>=v$\\cdot$cos$\\theta$</style>   \n",
    "> <span style=\"color:orange\"> v<sub>y</sub>=v$\\cdot$sen$\\theta$</style>     \n",
    "\n",
    "<span style=\"color:orange\"> Cuando la pelota se mueve, su velocidad va cambiando. Llamémosla **u**.  \n",
    "Para simplificar, asumiremos que la compomnente horizontal de **v**no varía durante el movimiento, mientfras que la componente verical decrece debido a la fuerza de la gravedad:\n",
    "</style>  \n",
    "> <span style=\"color:orange\"> u<sub>x</sub>=v<sub>x</sub></style>   \n",
    "> <span style=\"color:orange\"> u<sub>y</sub>=v$\\cdot$sen$\\theta$-g$\\cdot$t</style>    \n",
    "\n",
    "<span style=\"color:orange\"> Como la componente horizontal de la velocidad se mantiene constante, mientras que la componente vertical va cmabiando en función del tiempo, las componentes de la distancia recorrida quedarían:\n",
    "</style>  \n",
    "> <span style=\"color:orange\"> S<sub>x</sub>=v$\\cdot$cos$\\theta\\cdot$t</style>   \n",
    "> <span style=\"color:orange\"> S<sub>y</sub>=v$\\cdot$sen$\\theta\\cdot$t-$\\frac{1}{2}\\cdot$g$\\cdot$t<sup>2</sup></style>      \n",
    "\n",
    "<span style=\"color:orange\"> En otras palabras, S<sub>x</sub> y S<sub>y</sub> nos dan las coordenadas de la pelota en cualquier instante durante el vuelo.  \n",
    "Como nota, el tiempo es en segundos, la velocidad en m/s, $\\theta$ en grados y la gravedad en m/s<sup>2</sup>.  </style>\n",
    "\n",
    "<span style=\"color:orange\">Lo primero que nos preguntamos: ¿Cuánto tiempo tardará la pelota en caer al suelo desde que se encuentra en el punto más alto?  \n",
    "Esto ocurrirá cuando u<sub>y</sub>=v$\\cdot$sen$\\theta$-g$\\cdot$t=0  \n",
    "De aquí podemos sacar que el cálculo de t se puede obtener: </style>  \n",
    "> <span style=\"color:orange\">t<sub>pico</sub>=$\\frac{u \\cdot sen\\theta}{g}$ </style>   \n",
    "\n",
    "<span style=\"color:orange\"> Por lo que el tiempo de vuelo vendrá dado por:  </style>   \n",
    "> <span style=\"color:orange\">t<sub>vuelo</sub>=2*t<sub>pico</sub>=$2 \\cdot \\frac{u \\cdot sen\\theta}{g}$ </style> \n",
    "\n",
    "<span style=\"color:orange\">Ejemplo:  \n",
    "Calcula el tiempo de vuelo de una pelota que es lanzada con una velocidad inicial de 5 m/s con un ángulo de 45º."
   ]
  },
  {
   "cell_type": "code",
   "execution_count": 29,
   "metadata": {},
   "outputs": [
    {
     "data": {
      "text/plain": [
       "0.7215375318230076"
      ]
     },
     "execution_count": 29,
     "metadata": {},
     "output_type": "execute_result"
    }
   ],
   "source": [
    "import math\n",
    "2* (5*math.sin(math.pi/4)/9.8)"
   ]
  },
  {
   "cell_type": "markdown",
   "metadata": {},
   "source": [
    "## Encontrar el Máximo Global usando el Ascenso del Gradiente\n",
    "\n",
    "A veces nos interesa encontrar el máximo global para una función en lugar de todos los máximos y mínimos locales y globales.  \n",
    "\n",
    "Vamos a aprender un nuevo enfoque más práctico para resolver ese problema. Este enfoque utiliza solo la primera derivada, por lo que solo es aplicable a las funciones para las cuales se puede calcular la primera derivada.  \n",
    "Este método se conoce como el **Ascenso del Gradiente**, el cual es una aproximación iterativa para encontrar el máximo global.  \n",
    "Debido a que el método de gradiente de ascenso involucra una gran cantidad de cálculos, es el modo perfecto de resolver de forma programática en lugar de hacerlo a mano.  \n",
    "\n",
    "<span style=\"color:orange\">Probémoslo usando el problema Projectile Motion para encontrar el ángulo de proyección para el cual la bola se desplazará lo máximo posible horizontalmente.  \n",
    "Sabemos que</style>   \n",
    "\n",
    "> <span style=\"color:orange\">t<sub>vuelo</sub>=$2 \\cdot \\frac{u \\cdot sen\\theta}{g}$ </style>  \n",
    "\n",
    "<span style=\"color:orange\"> La distancia recorrida S es la distancia horizontal recorrida por la bola y viene dada por:</style>  \n",
    "\n",
    "> <span style=\"color:orange\"> S=u<sub>x</sub> $\\cdot$ t<sub>vuelo</sub>=u $\\cdot$ cos$\\theta \\cdot \\frac{2 \\cdot u \\cdot sen\\theta}{g} = \\frac{u^2 \\cdot sen 2\\theta}{g}$</style>  \n",
    "\n",
    "<span style=\"color:orange\"> Veamos cómo usar el Ascenso del Gradiente para encontrar este valor de $\\theta$ numéricamente.  \n",
    "El **Ascenso del Gradiente** es un método iterativo:</style>    \n",
    "> <span style=\"color:orange\">0. Empezamos con un valor $\\theta_{0}$=0.001 (en general)</style>   \n",
    "> <span style=\"color:orange\">1. Calculamos el valor $\\theta_{1}=\\theta_{0}+\\lambda \\cdot \\frac{dS}{d\\theta}$.  Normalmente $\\lambda$ toma el valor 10<sup>-3</sup>.</style>   \n",
    "> <span style=\"color:orange\">2. Si $\\theta_{1}-\\theta_{0}$ es mayor que un valor, $\\epsilon$, entonces $\\theta_{0}=\\theta_{1}$ y volvemos al paso 1. En caso contrario, vamos al paso 3. El valor de $\\epsilon$ debe ser un valor lo suficientemente pequeño que nos garantice que el valor ya va a ser poco cambiante, como 10<sup>-5</sup>.</style>   \n",
    "> <span style=\"color:orange\">3. $\\theta_{1}$ es el valor aproximado más cercano de $\\theta$ para el que S es máximo.</style> \n"
   ]
  },
  {
   "cell_type": "code",
   "execution_count": 25,
   "metadata": {},
   "outputs": [],
   "source": [
    "import math\n",
    "from sympy import Derivative, Symbol, sympify, solve\n",
    "\n",
    "def grad_ascent(x0,f1x,x):\n",
    "    # Comprobamos si f1x tiene solucion\n",
    "    if not solve(f1x):\n",
    "        print('No podemos continuar')\n",
    "        return\n",
    "    epsilon=1e-6\n",
    "    lamda=1e-4\n",
    "    x1=x0+lamda*f1x.subs({x:x0}).evalf()\n",
    "    while abs(x0-x1)>epsilon:\n",
    "        x0=x1\n",
    "        x1=x0+lamda*f1x.subs({x:x0}).evalf()\n",
    "    return x1"
   ]
  },
  {
   "cell_type": "code",
   "execution_count": null,
   "metadata": {},
   "outputs": [],
   "source": [
    "grad_ascent(0.001,x**5+30*x**3+50*x,x)"
   ]
  },
  {
   "cell_type": "markdown",
   "metadata": {},
   "source": [
    "NOTA: Esta ejecución es eterna. Si no acaba, daremos acto de fe y seguimos adelante"
   ]
  }
 ],
 "metadata": {
  "kernelspec": {
   "display_name": "Python 3",
   "language": "python",
   "name": "python3"
  },
  "language_info": {
   "codemirror_mode": {
    "name": "ipython",
    "version": 3
   },
   "file_extension": ".py",
   "mimetype": "text/x-python",
   "name": "python",
   "nbconvert_exporter": "python",
   "pygments_lexer": "ipython3",
   "version": "3.6.5"
  }
 },
 "nbformat": 4,
 "nbformat_minor": 2
}
