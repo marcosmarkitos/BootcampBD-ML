{
 "cells": [
  {
   "cell_type": "markdown",
   "metadata": {},
   "source": [
    "# 8. Determinantes"
   ]
  },
  {
   "cell_type": "markdown",
   "metadata": {},
   "source": [
    "# Breve historia\n",
    "\n",
    "* Un determinante es un número que se asigna de cierto modo a una formación cuadrada de números.  \n",
    "* En 1683 por el matemático japonés Seki Takakasu  \n",
    "* De manera independiente, en 1693 por el matemático alemán Gottfried Leibniz  \n",
    "* 160 años antes de que se desarrollara una teoría de matrices por separado.   \n",
    "* Los determinantes aparecieron principalmente en relación con sistemas de ecuaciones lineales.   \n",
    "* En 1750, un artículo del matemático suizo Gabriel Cramer sugirió que los determinantes podrían ser útiles en geometría analítica. En ese documento, Cramer usó determinantes para construir ecuaciones de ciertas curvas en el plano XY. En el mismo texto, también presentó su famosa regla para resolver un sistema n × n mediante determinantes.  \n",
    "* En 1812, Augustin-Louis Cauchy publicó un documento donde utilizó determinantes con el propósito de encontrar fórmulas para los volúmenes de ciertos poliedros sólidos.  \n",
    "* Entre los poliedros que estudió Cauchy estaban el tetraedro y el paralelepípedo. Si los vértices del paralelepípedo son el origen 0 = (0, 0, 0), v1 = (a1, b1, c1), v2 = (a2, b2, c2), y v3 = (a3, b3, c3), entonces su volumen es el valor absoluto del determinante de la matriz de coeficientes del sistema:\n",
    "> $\\left\\{\n",
    "\t       \\begin{array}{ll}\n",
    "               a_1*x+b_1*y+c_1*z=0  \\\\\n",
    "               a_2*x+b_2*y+c_2*z=0  \\\\\n",
    "               a_3*x+b_3*y+c_3*z=0\n",
    "\t       \\end{array}\n",
    "\t     \\right.$\n",
    "\n",
    "\n",
    "* El uso que en geometría analítica hizo Cauchy de los determinantes despertó un profundo interés en las aplicaciones de los determinantes, lo cual duró aproximadamente 100 años. Un simple resumen de lo que se conocía a principios del siglo XX llenó un tratado de cuatro volúmenes escrito por Thomas Muir.  \n",
    "* En tiempos de Cauchy, cuando la vida era simple y las matrices eran pequeñas, los determinantes desempeñaron un papel importante en geometría analítica y en otras áreas de las matemáticas.  \n",
    "* En la actualidad, los determinantes tienen escaso valor numérico en los cálculos de matrices a gran escala que surgen con frecuencia. No obstante, las fórmulas para determinantes todavía proporcionan información importante acerca de las matrices y el conocimiento de los determinantes resulta útil en algunas aplicaciones del álgebra lineal.  \n",
    "\n"
   ]
  },
  {
   "cell_type": "markdown",
   "metadata": {},
   "source": [
    "## ¿Qué es un determinante?  \n",
    "\n",
    "Sea una matriz cuadrada A de orden n con elementos en un cuerpo K:  \n",
    "$\n",
    "  A=\n",
    "  \\left( {\\begin{array}{cc}\n",
    "   a_{11} & a_{12}  & ... & a_{1i}  \\\\\n",
    "   a_{21} & a_{22}  & ... & a_{2i}  \\\\\n",
    "   ... & ...  & ... & ...  \\\\\n",
    "   a_{i1} & a_{i2}  & ... & a_{ii}  \\\\\n",
    "  \\end{array} } \\right)\n",
    "$  \n",
    "\n",
    "\n",
    "El **determinante** de la matriz A es la suma de los n términos de la forma $\\pm$ a<sub>1j</sub> $\\cdot$ det A<sub>1j</sub>, con los signos positivo y negativo alternándose, donde las entradas a<sub>11</sub>, a<sub>12</sub>, ..., a<sub>1n</sub> son los elementos de la primera fila de A.  \n",
    "En términos matemáticos,  \n",
    "> det A = |A| = a<sub>11</sub> $\\cdot$ det A<sub>11</sub> − a<sub>12</sub> $\\cdot$ det A<sub>12</sub> + · · · + (−1)<sup>1+n</sup> $\\cdot$ a<sub>1n</sub> $\\cdot$ det A<sub>1n</sub> = $\n",
    "\\sum_{i=1}^{n}\\sum_{j=1}^{n}(-1)^{j+i}\\cdot a_{ij} \\cdot  detA_{ij}\n",
    "$  \n",
    "\n"
   ]
  },
  {
   "cell_type": "markdown",
   "metadata": {},
   "source": [
    "### Determinante de primer orden  \n",
    "\n",
    "Aplicando la definición a una matriz de orden 1, A= (a<sub>11</sub>), resulta:  \n",
    "> |A| = |a<sub>11</sub>| = a<sub>11</sub> \n",
    "\n",
    "<span style=\"color:orange\"> Ejemplo: Vamos a calcular el determinante de A=(9)  \n",
    "    |A| = |9| = 9\n",
    "</style>  \n",
    "\n",
    "\n",
    "\n"
   ]
  },
  {
   "cell_type": "markdown",
   "metadata": {},
   "source": [
    "<span style=\"color:orange\"> Ejemplo: Vamos a calcular el determinante de A=(-9)  \n",
    "    |A| = |-9| = -9\n",
    "</style> \n",
    "\n"
   ]
  },
  {
   "cell_type": "markdown",
   "metadata": {},
   "source": [
    "<span style=\"color:orange\"> Ejemplo: Vamos a calcular el determinante de A=(0)  \n",
    "    |A| = |0| = 0\n",
    "</style> "
   ]
  },
  {
   "cell_type": "markdown",
   "metadata": {},
   "source": [
    "### Determinante de segundo orden\n",
    "\n",
    "Si A es una matriz 2x2:\n",
    "> $\n",
    "  A=\n",
    "  \\left( {\\begin{array}{cc}\n",
    "   a_{11} & a_{12}  \\\\\n",
    "   a_{21} & a_{22}  \\\\\n",
    "  \\end{array} } \\right)\n",
    "$   \n",
    "\n",
    "aplicando la definción, resulta:  \n",
    ">|A| = a<sub>11</sub> $\\cdot$ a<sub>22</sub> - a<sub>21</sub> $\\cdot$ a<sub>12</sub>  \n",
    "\n",
    "<span style=\"color:orange\"> Ejemplo: Vamos a calcular el determinante de $\n",
    "  A=\n",
    "  \\left( {\\begin{array}{cc}\n",
    "   4 & -1  \\\\\n",
    "   -2 & 0  \\\\\n",
    "  \\end{array} } \\right) \n",
    "$</style>     \n",
    "\n",
    "<span style=\"color:orange\">|A| = $\\left| {\\begin{array}{cc}\n",
    "   4 & -1  \\\\\n",
    "   -2 & 0  \\\\\n",
    "  \\end{array} } \\right| = \n",
    "$4 $\\cdot$ 0 - (-2) $\\cdot$ (-1) = -2\n",
    "</style> \n",
    " \n",
    "\n",
    "\n",
    "\n"
   ]
  },
  {
   "cell_type": "markdown",
   "metadata": {},
   "source": [
    "### Determinante de tercer orden\n",
    "\n",
    "Si A es una matriz de orden 3:\n",
    "> $\n",
    "  A=\n",
    "  \\left( {\\begin{array}{cc}\n",
    "   a_{11} & a_{12} & a_{13} \\\\\n",
    "   a_{21} & a_{22} & a_{23} \\\\\n",
    "   a_{31} & a_{32} & a_{33}\n",
    "  \\end{array} } \\right)\n",
    "$   \n",
    "\n",
    "aplicando la definición a esta matriz:  \n",
    "|A| = a<sub>11</sub> $\\cdot$ a<sub>22</sub> $\\cdot$ a<sub>33</sub> +\n",
    "a<sub>12</sub> $\\cdot$ a<sub>23</sub> $\\cdot$ a<sub>31</sub> +\n",
    "a<sub>13</sub> $\\cdot$ a<sub>21</sub> $\\cdot$ a<sub>32</sub> +\n",
    "a<sub>11</sub> $\\cdot$ a<sub>23</sub> $\\cdot$ a<sub>32</sub> -\n",
    "a<sub>12</sub> $\\cdot$ a<sub>21</sub> $\\cdot$ a<sub>33</sub> -\n",
    "a<sub>13</sub> $\\cdot$ a<sub>22</sub> $\\cdot$ a<sub>31</sub>"
   ]
  },
  {
   "cell_type": "markdown",
   "metadata": {},
   "source": [
    "<span style=\"color:orange\"> Ejemplo: Vamos a calcular el determinante de $\n",
    "  A=\n",
    "  \\left[ {\\begin{array}{cc}\n",
    "   5 & 0 & 2\\\\\n",
    "   3 & 1 & 1\\\\\n",
    "   0 & 1 & 2\n",
    "  \\end{array} } \\right]\n",
    "$.  \n",
    "$detA=\n",
    "  \\left| {\\begin{array}{cc}\n",
    "   5 & 0 & 2\\\\\n",
    "   3 & 1 & 1\\\\\n",
    "   0 & 1 & 2\n",
    "  \\end{array} } \\right|$ = 5 $\\cdot$ 1 $\\cdot$ 2+0 $\\cdot$ 1 $\\cdot$ 0+3 $\\cdot$ 1 $\\cdot$ 2-2 $\\cdot$ 1 $\\cdot$ 0-0 $\\cdot$ 3 $\\cdot$ 2-1 $\\cdot$ 1 $\\cdot$ 5 = 11"
   ]
  },
  {
   "cell_type": "markdown",
   "metadata": {},
   "source": [
    "<span style=\"color:orange\"> Ejemplo: Hagámoslos ahora en Python\n",
    "</style> "
   ]
  },
  {
   "cell_type": "code",
   "execution_count": 1,
   "metadata": {},
   "outputs": [
    {
     "data": {
      "text/plain": [
       "9.000000000000002"
      ]
     },
     "execution_count": 1,
     "metadata": {},
     "output_type": "execute_result"
    }
   ],
   "source": [
    "# Empecemos con las de primer orden\n",
    "import numpy as np\n",
    "A = np.matrix(\n",
    "    [[9]]\n",
    ")\n",
    "B = np.matrix(\n",
    "    [[-9]]\n",
    ")\n",
    "C = np.matrix(\n",
    "    [[0]]\n",
    ")\n",
    "\n",
    "detA = np.linalg.det(A)\n",
    "detA"
   ]
  },
  {
   "cell_type": "code",
   "execution_count": 12,
   "metadata": {},
   "outputs": [
    {
     "data": {
      "text/plain": [
       "-9.000000000000002"
      ]
     },
     "execution_count": 12,
     "metadata": {},
     "output_type": "execute_result"
    }
   ],
   "source": [
    "detB = np.linalg.det(B)\n",
    "detB"
   ]
  },
  {
   "cell_type": "code",
   "execution_count": 13,
   "metadata": {},
   "outputs": [
    {
     "data": {
      "text/plain": [
       "0.0"
      ]
     },
     "execution_count": 13,
     "metadata": {},
     "output_type": "execute_result"
    }
   ],
   "source": [
    "detC = np.linalg.det(C)\n",
    "detC"
   ]
  },
  {
   "cell_type": "code",
   "execution_count": 8,
   "metadata": {},
   "outputs": [
    {
     "data": {
      "text/plain": [
       "-2.0"
      ]
     },
     "execution_count": 8,
     "metadata": {},
     "output_type": "execute_result"
    }
   ],
   "source": [
    "# Ahora con la de segundo orden\n",
    "import numpy as np\n",
    "A = np.matrix(\n",
    "    [[4,-1],\n",
    "    [-2,0]]\n",
    ")\n",
    "\n",
    "det = np.linalg.det(A)\n",
    "det"
   ]
  },
  {
   "cell_type": "code",
   "execution_count": 9,
   "metadata": {},
   "outputs": [
    {
     "data": {
      "text/plain": [
       "11.000000000000002"
      ]
     },
     "execution_count": 9,
     "metadata": {},
     "output_type": "execute_result"
    }
   ],
   "source": [
    "import numpy as np\n",
    "A = np.matrix(\n",
    "    [[5,0,2],\n",
    "    [3,1,1],\n",
    "    [0,1,2]]\n",
    ")\n",
    "\n",
    "det = np.linalg.det(A)\n",
    "det"
   ]
  },
  {
   "cell_type": "markdown",
   "metadata": {},
   "source": [
    "#### Regla de Sarrus\n",
    "\n",
    "El cómo de calcula el determinante de orden tres se conoce como regla se Sarrus.  \n",
    "Para recordar fácilmente los términos positivos y negativos, fijémonos en que los positivos se obtienen a partir de la diagonal principal y de sus paralelas, mientras que los negativos proceden de la diagonal secundaria y de sus paralelas.\n",
    "\n",
    "<img src=\"Images/regla de sarrus.png\" style=\"width: 300px;\"/> \n",
    "\n",
    "Otro modo habitual de verlo es ampliando columnas antes de operar:\n",
    "\n",
    "<img src=\"Images/Schema_sarrus-regel.png\" style=\"width: 300px;\"/>"
   ]
  },
  {
   "cell_type": "markdown",
   "metadata": {},
   "source": [
    "<span style=\"color:orange\"> Ejemplo: Vamos a calcular el determinante de $\n",
    "  A=\n",
    "  \\left[ {\\begin{array}{cc}\n",
    "   1 & -4 & 2\\\\\n",
    "   -2 & 8 & -9\\\\\n",
    "   -1 & 7 & 0\\\\\n",
    "  \\end{array} } \\right]\n",
    "$ usando la regla de Sarrus.  \n",
    "detA=$1 \\cdot 8 \\cdot 0+(-2) \\cdot 7 \\cdot 2+(-1) \\cdot (-4) \\cdot (-9)-[(2 \\cdot 8 \\cdot (-1)+0 \\cdot (-2) \\cdot (-4)+1 \\cdot 7 \\cdot (-9)]=15$  </style>\n",
    "\n",
    "<span style=\"color:orange\">¿Cómo lo haríamos en Python? </style>"
   ]
  },
  {
   "cell_type": "code",
   "execution_count": 2,
   "metadata": {},
   "outputs": [
    {
     "data": {
      "text/plain": [
       "15"
      ]
     },
     "execution_count": 2,
     "metadata": {},
     "output_type": "execute_result"
    }
   ],
   "source": [
    "# Metodo basico\n",
    "import numpy as np\n",
    "A = np.matrix(\n",
    "    [[1, -4, 2],\n",
    "     [-2, 8, -9],\n",
    "     [-1, 7, 0]]\n",
    ")\n",
    "\n",
    "Sarrus=A[0,0]*A[1,1]*A[2,2]+A[0,1]*A[1,2]*A[2,0]+A[0,2]*A[1,0]*A[2,1]-(A[2,0]*A[1,1]*A[0,2]+A[2,1]*A[1,2]*A[0,0]\n",
    "                                                                       +A[2,2]*A[1,0]*A[0,1])\n",
    "\n",
    "Sarrus"
   ]
  },
  {
   "cell_type": "code",
   "execution_count": 3,
   "metadata": {},
   "outputs": [
    {
     "data": {
      "text/plain": [
       "15"
      ]
     },
     "execution_count": 3,
     "metadata": {},
     "output_type": "execute_result"
    }
   ],
   "source": [
    "# Un método un poco más elaborado\n",
    "import numpy as np\n",
    "\n",
    "def determinante_orden3(M):\n",
    "    det=M[0,0]*M[1,1]*M[2,2]+M[0,1]*M[1,2]*M[2,0]+M[0,2]*M[1,0]*M[2,1]-(M[2,0]*M[1,1]*M[0,2]+M[2,1]*M[1,2]*M[0,0]\n",
    "                                                                       +M[2,2]*M[1,0]*M[0,1])\n",
    "    return det\n",
    "\n",
    "A = np.matrix(\n",
    "    [[1, -4, 2],\n",
    "     [-2, 8, -9],\n",
    "     [-1, 7, 0]]\n",
    ")\n",
    "\n",
    "determinante_orden3(A)"
   ]
  },
  {
   "cell_type": "markdown",
   "metadata": {},
   "source": [
    "## Menor complementario\n",
    "\n",
    "Dada una matriz cuadrada de orden n, A=(a<sub>ij</sub>), se denomina **menor complementario** $\\alpha_{ij}$ de un elemento a<sub>ij</sub> al determinante de la matriz de orden n-1 que resulta de suprimir en A la fila i y la columna j."
   ]
  },
  {
   "cell_type": "markdown",
   "metadata": {},
   "source": [
    "<span style=\"color:orange\"> Ejemplo: Dada la matriz $\n",
    "  A=\n",
    "  \\left[ {\\begin{array}{cc}\n",
    "   1 & 0 & 3\\\\\n",
    "   2 & -1 & 1\\\\\n",
    "   1 & 2 & 1\\\\\n",
    "  \\end{array} } \\right]\n",
    "$ hallar $\\alpha_{33}$, $\\alpha_{12}$ y $\\alpha_{23}$</style>\n",
    "    \n",
    "<span style=\"color:orange\">$\\alpha_{33} = \\left| {\\begin{array}{cc}\n",
    "   1 & 0  \\\\\n",
    "   2 & -1  \\\\\n",
    "  \\end{array} } \\right| $ = -1</style>    \n",
    "  \n",
    "<span style=\"color:orange\">$\\alpha_{12} = \\left| {\\begin{array}{cc}\n",
    "   2 & 1  \\\\\n",
    "   1 & 1  \\\\\n",
    "  \\end{array} } \\right| $ = 1</style>  \n",
    "  \n",
    "<span style=\"color:orange\">$\\alpha_{23} = \\left| {\\begin{array}{cc}\n",
    "   1 & 0  \\\\\n",
    "   1 & 2  \\\\\n",
    "  \\end{array} } \\right| $ = 2</style>  "
   ]
  },
  {
   "cell_type": "markdown",
   "metadata": {},
   "source": [
    "## Adjunto de un elemento\n",
    "\n",
    "Se llama A<sub>ij</sub> de un elemento a<sub>ij</sub> al valor:  \n",
    "> A<sub>ij</sub>=(-1)<sup>i+j</sup> $\\cdot \\alpha_{ij}$  \n",
    "\n",
    "es decir, que si i+j es par, coincide el adjunto con el menor complementario, mientras que si i+j es impar tendrán valores opuestos."
   ]
  },
  {
   "cell_type": "markdown",
   "metadata": {},
   "source": [
    "<span style=\"color:orange\"> En el ejemplo anterior, calcular los adjuntos asociados a los elementos $\\alpha_{33}$, $\\alpha_{12}$ y $\\alpha_{23}$  \n",
    "A<sub>33</sub>=(-1)<sup>3+3</sup> $\\cdot$ (-1) = -1  \n",
    "A<sub>12</sub>=(-1)<sup>1+2</sup> $\\cdot$ 1 = -1  \n",
    "A<sub>23</sub>=(-1)<sup>2+3</sup> $\\cdot$ 2 = -2  "
   ]
  },
  {
   "cell_type": "markdown",
   "metadata": {},
   "source": [
    "## Propiedades de los determinantes  \n",
    "\n",
    "Veamos algunas propiedades de los determinante, que usadas para desarrollar determinantes de orden superior al cuarto, facilitarán mucho los cálculos.  \n",
    "1. El determinante de cualquier matriz coincide con el de su traspuesta  \n",
    "2. El valor de un determinante es igual a la suma de los productos de los elementos de una línea por sus adjuntos correspondientes\n",
    "3. Si en un determinante cambiamos entre sí dos filas o dos columnas, el valor absoluto del determinante se mantiene pero cambia de signo. \n",
    "4. Si un determinante tiene dos líneas paralelas iguales, vale cero. \n",
    "5. Si un determinante tiene una línea de ceros, vale cero.  \n",
    "6. Si en un determinante se multiplican todos los elementos de una línea por un número $\\lambda$, entonces el valor del determinante queda también multiplicado por $\\lambda$.  \n",
    "7. Si un determinante tiene dos líneas paralelas proporcionales, vale cero.  \n",
    "8. Si dos o más determinantes difieren únicamente en los elementos de una línea, su suma es otro determinante en el que los elementos de esta línea son el resultado de sumar los términos correspondientes de los determinantes dados, siendo el resto de las líneas iguales a las de los sumandos.\n",
    "9. Si una línea es combinación lineas de otras paralelas, entonces el determinante vale cero.\n",
    "10. El valor de un determinante no varía si a una línea se le suma otra paralela multiplicada por un número.\n",
    "11. El determinante de una matriz A, diagonal o triangular, es el producto de los elementos de la diagonal principal.\n",
    "12. |A $\\cdot$ B|= |A| $\\cdot$ |B|\n"
   ]
  },
  {
   "cell_type": "markdown",
   "metadata": {},
   "source": [
    "## Métodos para desarrollar determinantes de orden superior al tercero  \n",
    "\n",
    "* **Desarrollo por adjuntos**  \n",
    "\n",
    "Se basa en la segunda propiedad de los determinantes  \n",
    "\n",
    "* **Regla de Chio**  \n",
    "\n",
    "Se busca una línea que tenga un uno, al que llamaremos pivote y aplicando la propiedad 10 se anulan el resto de elementos de esa fila.  \n",
    "Así, el determinante queda reducido al adjunto del pivote, que es de un orden inferior.  \n",
    "Para calcular este nuevo determinante podemos proceder de la misma forma.  \n",
    "\n",
    "NOTA: en caso de que no exista ningún uno en el deteminante:\n",
    "> * Puede intentarse sumar a una fila una combinación lineal de otras hasta conseguir un uno. \n",
    "> * Dividir una fila por uno de sus elementos y multiplicar el determinante por ese mismo núnero. En este caso, es muy probable que tengamos que operar con fracciones.  \n",
    "\n",
    "* **Triangulación de la matriz**  \n",
    "\n",
    "Aplicando la propiedad 10 se convierten en ceros todos los elementos necesarios para triangular la matriz. Finalmente, el valor del determinante se obtiene multiplicando los valores de la diagonal.  \n"
   ]
  },
  {
   "cell_type": "markdown",
   "metadata": {},
   "source": [
    "## Matriz invertible  \n",
    "\n",
    "Una **matriz** A es **invertible** si y sólo si detA≠0.  \n",
    "\n",
    "\n",
    "<span style=\"color:orange\"> Ejemplo: Vamos a comprobar si la matriz $\n",
    "  A=\n",
    "  \\left[ {\\begin{array}{cc}\n",
    "   2 & 3 & 0\\\\\n",
    "   1 & 3 & 4\\\\\n",
    "   1 & 2 & 1\\\\\n",
    "  \\end{array} } \\right]\n",
    "$ es invertible.   \n",
    "$\n",
    "  detA=\n",
    "  \\left| {\\begin{array}{cc}\n",
    "   2 & 3 & 0\\\\\n",
    "   1 & 3 & 4\\\\\n",
    "   1 & 2 & 1\\\\\n",
    "  \\end{array} } \\right| = 2 \\cdot \\left| {\\begin{array}{cc}\n",
    "   3 & 4\\\\\n",
    "   2 & 1\\\\\n",
    "  \\end{array} } \\right| - \\left| {\\begin{array}{cc}\n",
    "   3 & 0\\\\\n",
    "   2 & 1\\\\\n",
    "  \\end{array} } \\right| + \\left| {\\begin{array}{cc}\n",
    "   3 & 0\\\\\n",
    "   3 & 4\\\\\n",
    "  \\end{array} } \\right|= 2 \\cdot (-10) - (3) + (12)= -1\n",
    "$  \n",
    "Luego la matriz A es invertible.</style>  \n",
    "\n",
    "Definimos A<sup>-1</sup> = $\\frac{1}{detA} \\cdot (A^d)^T$, donde A<sup>d</sup>= $\\left( {\\begin{array}{cc}\n",
    "   A_{11} & A_{12} & ... & A_{1n}\\\\\n",
    "   A_{21} & A_{22} & ... & A_{2n}\\\\\n",
    "   ... & ... & ... & ...\\\\\n",
    "   A_{n1} & A_{n2} & ... & A_{nn}\\\\\n",
    "  \\end{array} } \\right) = \\left( {\\begin{array}{cc}\n",
    "   \\alpha_{11} & -\\alpha_{12} & ... & (-1)^{1+n}\\cdot\\alpha_{1n}\\\\\n",
    "   -\\alpha_{21} & \\alpha_{22} & ... & (-1)^{2+n}\\cdot\\alpha_{2n}\\\\\n",
    "   ... & ... & ... & ...\\\\\n",
    "   (-1)^{1+n}\\cdot\\alpha_{n1} & (-1)^{2+n}\\cdot\\alpha_{n2} & ... & (-1)^{n+n}\\cdot\\alpha_{nn}\\\\\n",
    "  \\end{array} } \\right)\n",
    "  $\n",
    "\n",
    "<span style=\"color:orange\"> Vamos a calcular A<sup>-1</sup> para la matriz A del ejemplo anterior.  \n",
    "A<sup>-1</sup> = $\\frac{1}{-1} \\cdot \\left( {\\begin{array}{cc}\n",
    "   \\left| {\\begin{array}{cc}\n",
    "   3 & 4\\\\\n",
    "   2 & 1\\\\\n",
    "  \\end{array} } \\right| & -\\left| {\\begin{array}{cc}\n",
    "   1 & 4\\\\\n",
    "   1 & 1\\\\\n",
    "  \\end{array} } \\right| & \\left| {\\begin{array}{cc}\n",
    "   1 & 3\\\\\n",
    "   1 & 2\\\\\n",
    "  \\end{array} } \\right|\\\\\n",
    "   -\\left| {\\begin{array}{cc}\n",
    "   3 & 0\\\\\n",
    "   2 & 1\\\\\n",
    "  \\end{array} } \\right| & \\left| {\\begin{array}{cc}\n",
    "   2 & 0\\\\\n",
    "   1 & 1\\\\\n",
    "  \\end{array} } \\right| & -\\left| {\\begin{array}{cc}\n",
    "   2 & 3\\\\\n",
    "   1 & 2\\\\\n",
    "  \\end{array} } \\right|\\\\\n",
    "   \\left| {\\begin{array}{cc}\n",
    "   3 & 0\\\\\n",
    "   3 & 4\\\\\n",
    "  \\end{array} } \\right| & -\\left| {\\begin{array}{cc}\n",
    "   2 & 0\\\\\n",
    "   1 & 4\\\\\n",
    "  \\end{array} } \\right| & \\left| {\\begin{array}{cc}\n",
    "   2 & 3\\\\\n",
    "   1 & 3\\\\\n",
    "  \\end{array} } \\right|\\\\\n",
    "  \\end{array} } \\right)^T =- \\cdot \\left( {\\begin{array}{cc}\n",
    "  -5 & 3 & -1\\\\\n",
    "  -3 & 2 & -1\\\\\n",
    "  12 & -8 & 3\\\\\n",
    "  \\end{array} } \\right)^T=- \\cdot \\left( {\\begin{array}{cc}\n",
    "  -5 & -3 & 12\\\\\n",
    "  3 & 2 & -8\\\\\n",
    "  -1 & -1 & 3\\\\\n",
    "  \\end{array} } \\right) = \\left( {\\begin{array}{cc}\n",
    "  5 & 3 & -12\\\\\n",
    "  -3 & -2 & 8\\\\\n",
    "  1 & 1 & -3\\\\\n",
    "  \\end{array} } \\right)$  </style>\n"
   ]
  },
  {
   "cell_type": "markdown",
   "metadata": {},
   "source": [
    "<span style=\"color:orange\">Vamos a hacerlo ahora con NumPy, que es inmediato.</style>"
   ]
  },
  {
   "cell_type": "code",
   "execution_count": 3,
   "metadata": {},
   "outputs": [
    {
     "data": {
      "text/plain": [
       "matrix([[  5.,   3., -12.],\n",
       "        [ -3.,  -2.,   8.],\n",
       "        [  1.,   1.,  -3.]])"
      ]
     },
     "execution_count": 3,
     "metadata": {},
     "output_type": "execute_result"
    }
   ],
   "source": [
    "import numpy as np\n",
    "\n",
    "A = np.matrix(\n",
    "    [[2,3,0],\n",
    "     [1,3,4],\n",
    "     [1,2,1]]\n",
    ")\n",
    "\n",
    "inv_A = np.linalg.inv(A)\n",
    "inv_A"
   ]
  },
  {
   "cell_type": "markdown",
   "metadata": {},
   "source": [
    "<span style=\"color:orange\"> Ejemplo:    \n",
    "Volvamos al caso de las combinaciones lineales de vectores.  \n",
    "Recordemos:  \n",
    "    ¿Cómo escribirías cada uno de los vectores {[3,0,0],[0,2,0],[0,0,1]} como combinación lineal de {[2,0,1],[1,0,2],[2,2,2]}?  \n",
    "Consiste en resolver A $\\cdot$ X = B, entonces X=A<sup>-1</sup> $\\cdot$ B  \n",
    "donde $A=\n",
    "  \\left[ {\\begin{array}{cc}\n",
    "   2 & 1 & 2\\\\\n",
    "   0 & 0 & 2\\\\\n",
    "   1 & 2 & 2\\\\\n",
    "  \\end{array} } \\right]$ y B el vector correspondiente.  \n",
    "    Primero para el vector [3,0,0]</style> "
   ]
  },
  {
   "cell_type": "code",
   "execution_count": 4,
   "metadata": {},
   "outputs": [
    {
     "data": {
      "text/plain": [
       "matrix([[ 2.],\n",
       "        [-1.],\n",
       "        [ 0.]])"
      ]
     },
     "execution_count": 4,
     "metadata": {},
     "output_type": "execute_result"
    }
   ],
   "source": [
    "import numpy as np\n",
    "A=np.matrix([\n",
    "    [2,1,2],\n",
    "    [0,0,2],\n",
    "    [1,2,2]\n",
    "   ])\n",
    "B=([\n",
    "    [3],[0],[0]\n",
    "])\n",
    "inv_A=np.linalg.inv(A)\n",
    "inv_A*B"
   ]
  },
  {
   "cell_type": "markdown",
   "metadata": {},
   "source": [
    "<span style=\"color:blue\"> Ahora para el vector [0,2,0]</style> "
   ]
  },
  {
   "cell_type": "code",
   "execution_count": 5,
   "metadata": {},
   "outputs": [
    {
     "data": {
      "text/plain": [
       "matrix([[-0.66666667],\n",
       "        [-0.66666667],\n",
       "        [ 1.        ]])"
      ]
     },
     "execution_count": 5,
     "metadata": {},
     "output_type": "execute_result"
    }
   ],
   "source": [
    "import numpy as np\n",
    "A=np.matrix([\n",
    "    [2,1,2],\n",
    "    [0,0,2],\n",
    "    [1,2,2]\n",
    "   ])\n",
    "B=([\n",
    "    [0],[2],[0]\n",
    "])\n",
    "inv_A=np.linalg.inv(A)\n",
    "inv_A*B"
   ]
  },
  {
   "cell_type": "markdown",
   "metadata": {},
   "source": [
    "<span style=\"color:blue\"> Ahora para el vector [0,0,1]</style> "
   ]
  },
  {
   "cell_type": "code",
   "execution_count": 6,
   "metadata": {},
   "outputs": [
    {
     "data": {
      "text/plain": [
       "matrix([[-1.11022302e-16],\n",
       "        [ 0.00000000e+00],\n",
       "        [ 1.00000000e+00]])"
      ]
     },
     "execution_count": 6,
     "metadata": {},
     "output_type": "execute_result"
    }
   ],
   "source": [
    "import numpy as np\n",
    "A=np.matrix([\n",
    "    [2,1,2],\n",
    "    [0,0,2],\n",
    "    [1,2,2]\n",
    "   ])\n",
    "B=([\n",
    "    [2],[2],[2]\n",
    "])\n",
    "inv_A=np.linalg.inv(A)\n",
    "inv_A*B"
   ]
  },
  {
   "cell_type": "markdown",
   "metadata": {},
   "source": [
    "## Producto vectorial\n",
    "\n",
    "Como recordatorio de cuando vimos el tema de vectores:  \n",
    "\n",
    "El **producto vectorial** es una operación donde al multiplicar dos vectores se obtiene otro vector, con la característica de ser perpendicular a ambos.  \n",
    "\n",
    "Además, el módulo del producto vectorial es igual al área del paralelogramos de lado asociado a ambos vectores.\n",
    "\n",
    "<img src=\"Images/producto_vectorial.png\" style=\"width: 300px;\"/> \n",
    "\n",
    "\n",
    "$|u\\times v|$ = $| u | \\cdot$ $|v|$ $\\cdot sen(u,v)$  \n",
    "\n",
    "Ahora ya podemos proceder a su cálculo en tres dimensiones.  \n",
    "Sean dos vectores **u**=(u<sub>1</sub>,u<sub>2</sub>,u<sub>3</sub>) y **v**=(v<sub>1</sub>,v<sub>2</sub>,v<sub>3</sub>), el **producto vectorial** entre **u** y **v** viene dado por:  \n",
    "\n",
    "$|u\\times v| = \n",
    "  \\left| {\\begin{array}{cc}\n",
    "   i & j & k\\\\\n",
    "   u_{1} & u_{2} & u_{3}\\\\\n",
    "   v_{1} & v_{2} & v_{3}\\\\\n",
    "  \\end{array} } \\right| = \\left| {\\begin{array}{cc}\n",
    "   u_{2} & u_{3}\\\\\n",
    "   v_{2} & v_{3}\\\\\n",
    "  \\end{array} } \\right| \\cdot i -  \\left| {\\begin{array}{cc}\n",
    "   u_{1} & u_{3}\\\\\n",
    "   v_{1} & v_{3}\\\\\n",
    "  \\end{array} } \\right| \\cdot j + \\left| {\\begin{array}{cc}\n",
    "   u_{1} & u_{2}\\\\\n",
    "   v_{1} & v_{2}\\\\\n",
    "  \\end{array} } \\right| \\cdot k$\n",
    "  \n",
    "  "
   ]
  },
  {
   "cell_type": "markdown",
   "metadata": {},
   "source": [
    "## Rango de una matriz\n",
    "\n",
    "Aunque hemos visto otras formas de calcularlo, hay un método usando determinantes. \n",
    "\n",
    "El **rango de una matriz A** es el mayor menor no nulo"
   ]
  },
  {
   "cell_type": "markdown",
   "metadata": {},
   "source": [
    "<span style=\"color:orange\"> Ejemplo:  \n",
    "Vamos a calcular el rango de la matriz $A=\n",
    "  \\left[ {\\begin{array}{cc}\n",
    "   2 & 1 & 2\\\\\n",
    "   0 & 0 & 2\\\\\n",
    "   1 & 2 & 2\\\\\n",
    "  \\end{array} } \\right]$ usando Python.  </style>  \n"
   ]
  },
  {
   "cell_type": "code",
   "execution_count": 2,
   "metadata": {},
   "outputs": [
    {
     "data": {
      "text/plain": [
       "-6.0"
      ]
     },
     "execution_count": 2,
     "metadata": {},
     "output_type": "execute_result"
    }
   ],
   "source": [
    "# Como A es de orden 3, el rango será menor o igual a 3\n",
    "# Calculamos el determinante de A ya que es el mayor menor que tiene A\n",
    "import numpy as np\n",
    "A=np.matrix([\n",
    "    [2,1,2],\n",
    "    [0,0,2],\n",
    "    [1,2,2]\n",
    "   ])\n",
    "\n",
    "detA = np.linalg.det(A)\n",
    "detA\n",
    "# Como sale distinto de 0, que es el mayor menor, luego el rango de Aes 3"
   ]
  },
  {
   "cell_type": "markdown",
   "metadata": {},
   "source": [
    "<span style=\"color:orange\"> Ejemplo:  \n",
    "Vamos a calcular el rango de la matriz $A=\n",
    "  \\left[ {\\begin{array}{cc}\n",
    "   0 & 1 & -4\\\\\n",
    "   2 & -3 & 2\\\\\n",
    "   5 & -8 & 7\\\\\n",
    "  \\end{array} } \\right]$ usando Python.  </style>  "
   ]
  },
  {
   "cell_type": "code",
   "execution_count": 3,
   "metadata": {},
   "outputs": [
    {
     "data": {
      "text/plain": [
       "2.7755575615629087e-15"
      ]
     },
     "execution_count": 3,
     "metadata": {},
     "output_type": "execute_result"
    }
   ],
   "source": [
    "# Como A es de orden 3, el rango será menor o igual a 3\n",
    "# Calculamos el determinante de A ya que es el mayor menor que tiene A\n",
    "import numpy as np\n",
    "A=np.matrix([\n",
    "    [0,1,-4],\n",
    "    [2,-3,2],\n",
    "    [5,-8,7]\n",
    "])\n",
    "detA = np.linalg.det(A)\n",
    "detA\n",
    "# Da un número tan pequeño, que es realmente 0, por lo que A no tiene rango 3. \n",
    "# Para ver si tiene rango 2, buscamos un determinante de orden 2x2 que sea diferente de 0."
   ]
  },
  {
   "cell_type": "code",
   "execution_count": 4,
   "metadata": {},
   "outputs": [
    {
     "data": {
      "text/plain": [
       "-2.0"
      ]
     },
     "execution_count": 4,
     "metadata": {},
     "output_type": "execute_result"
    }
   ],
   "source": [
    "# Cogemos por ejemplo el formado por los primeros 4 elementos\n",
    "import numpy as np\n",
    "A2=np.matrix([\n",
    "    [0,1],\n",
    "    [2,-3]\n",
    "])\n",
    "detA2 = np.linalg.det(A2)\n",
    "detA2\n",
    "# Como sale distinto de 0, este es uno de los posibles mayores menores no nulos, luego el rango de A es 2"
   ]
  },
  {
   "cell_type": "markdown",
   "metadata": {},
   "source": [
    "<span style=\"color:orange\"> Ejemplo:  \n",
    "Vamos a calcular el rango de la matriz $A=\n",
    "  \\left[ {\\begin{array}{cc}\n",
    "   1 & -2 & 1 & 0\\\\\n",
    "   0 & 2 & -8 & 8\\\\\n",
    "   -4 & 5 & 9 & -9\\\\\n",
    "  \\end{array} } \\right]$ usando Python.  </style>  "
   ]
  },
  {
   "cell_type": "code",
   "execution_count": 5,
   "metadata": {},
   "outputs": [
    {
     "ename": "LinAlgError",
     "evalue": "Last 2 dimensions of the array must be square",
     "output_type": "error",
     "traceback": [
      "\u001b[0;31m---------------------------------------------------------------------------\u001b[0m",
      "\u001b[0;31mLinAlgError\u001b[0m                               Traceback (most recent call last)",
      "\u001b[0;32m<ipython-input-5-e519bc86a19b>\u001b[0m in \u001b[0;36m<module>\u001b[0;34m()\u001b[0m\n\u001b[1;32m      6\u001b[0m     \u001b[0;34m[\u001b[0m\u001b[0;34m-\u001b[0m\u001b[0;36m4\u001b[0m\u001b[0;34m,\u001b[0m\u001b[0;36m5\u001b[0m\u001b[0;34m,\u001b[0m\u001b[0;36m9\u001b[0m\u001b[0;34m,\u001b[0m\u001b[0;34m-\u001b[0m\u001b[0;36m9\u001b[0m\u001b[0;34m]\u001b[0m\u001b[0;34m\u001b[0m\u001b[0m\n\u001b[1;32m      7\u001b[0m ])\n\u001b[0;32m----> 8\u001b[0;31m \u001b[0mdetA\u001b[0m\u001b[0;34m=\u001b[0m\u001b[0mnp\u001b[0m\u001b[0;34m.\u001b[0m\u001b[0mlinalg\u001b[0m\u001b[0;34m.\u001b[0m\u001b[0mdet\u001b[0m\u001b[0;34m(\u001b[0m\u001b[0mA\u001b[0m\u001b[0;34m)\u001b[0m\u001b[0;34m\u001b[0m\u001b[0m\n\u001b[0m\u001b[1;32m      9\u001b[0m \u001b[0mdetA\u001b[0m\u001b[0;34m\u001b[0m\u001b[0m\n",
      "\u001b[0;32m/anaconda3/lib/python3.6/site-packages/numpy/linalg/linalg.py\u001b[0m in \u001b[0;36mdet\u001b[0;34m(a)\u001b[0m\n\u001b[1;32m   1869\u001b[0m     \u001b[0ma\u001b[0m \u001b[0;34m=\u001b[0m \u001b[0masarray\u001b[0m\u001b[0;34m(\u001b[0m\u001b[0ma\u001b[0m\u001b[0;34m)\u001b[0m\u001b[0;34m\u001b[0m\u001b[0m\n\u001b[1;32m   1870\u001b[0m     \u001b[0m_assertRankAtLeast2\u001b[0m\u001b[0;34m(\u001b[0m\u001b[0ma\u001b[0m\u001b[0;34m)\u001b[0m\u001b[0;34m\u001b[0m\u001b[0m\n\u001b[0;32m-> 1871\u001b[0;31m     \u001b[0m_assertNdSquareness\u001b[0m\u001b[0;34m(\u001b[0m\u001b[0ma\u001b[0m\u001b[0;34m)\u001b[0m\u001b[0;34m\u001b[0m\u001b[0m\n\u001b[0m\u001b[1;32m   1872\u001b[0m     \u001b[0mt\u001b[0m\u001b[0;34m,\u001b[0m \u001b[0mresult_t\u001b[0m \u001b[0;34m=\u001b[0m \u001b[0m_commonType\u001b[0m\u001b[0;34m(\u001b[0m\u001b[0ma\u001b[0m\u001b[0;34m)\u001b[0m\u001b[0;34m\u001b[0m\u001b[0m\n\u001b[1;32m   1873\u001b[0m     \u001b[0msignature\u001b[0m \u001b[0;34m=\u001b[0m \u001b[0;34m'D->D'\u001b[0m \u001b[0;32mif\u001b[0m \u001b[0misComplexType\u001b[0m\u001b[0;34m(\u001b[0m\u001b[0mt\u001b[0m\u001b[0;34m)\u001b[0m \u001b[0;32melse\u001b[0m \u001b[0;34m'd->d'\u001b[0m\u001b[0;34m\u001b[0m\u001b[0m\n",
      "\u001b[0;32m/anaconda3/lib/python3.6/site-packages/numpy/linalg/linalg.py\u001b[0m in \u001b[0;36m_assertNdSquareness\u001b[0;34m(*arrays)\u001b[0m\n\u001b[1;32m    209\u001b[0m     \u001b[0;32mfor\u001b[0m \u001b[0ma\u001b[0m \u001b[0;32min\u001b[0m \u001b[0marrays\u001b[0m\u001b[0;34m:\u001b[0m\u001b[0;34m\u001b[0m\u001b[0m\n\u001b[1;32m    210\u001b[0m         \u001b[0;32mif\u001b[0m \u001b[0mmax\u001b[0m\u001b[0;34m(\u001b[0m\u001b[0ma\u001b[0m\u001b[0;34m.\u001b[0m\u001b[0mshape\u001b[0m\u001b[0;34m[\u001b[0m\u001b[0;34m-\u001b[0m\u001b[0;36m2\u001b[0m\u001b[0;34m:\u001b[0m\u001b[0;34m]\u001b[0m\u001b[0;34m)\u001b[0m \u001b[0;34m!=\u001b[0m \u001b[0mmin\u001b[0m\u001b[0;34m(\u001b[0m\u001b[0ma\u001b[0m\u001b[0;34m.\u001b[0m\u001b[0mshape\u001b[0m\u001b[0;34m[\u001b[0m\u001b[0;34m-\u001b[0m\u001b[0;36m2\u001b[0m\u001b[0;34m:\u001b[0m\u001b[0;34m]\u001b[0m\u001b[0;34m)\u001b[0m\u001b[0;34m:\u001b[0m\u001b[0;34m\u001b[0m\u001b[0m\n\u001b[0;32m--> 211\u001b[0;31m             \u001b[0;32mraise\u001b[0m \u001b[0mLinAlgError\u001b[0m\u001b[0;34m(\u001b[0m\u001b[0;34m'Last 2 dimensions of the array must be square'\u001b[0m\u001b[0;34m)\u001b[0m\u001b[0;34m\u001b[0m\u001b[0m\n\u001b[0m\u001b[1;32m    212\u001b[0m \u001b[0;34m\u001b[0m\u001b[0m\n\u001b[1;32m    213\u001b[0m \u001b[0;32mdef\u001b[0m \u001b[0m_assertFinite\u001b[0m\u001b[0;34m(\u001b[0m\u001b[0;34m*\u001b[0m\u001b[0marrays\u001b[0m\u001b[0;34m)\u001b[0m\u001b[0;34m:\u001b[0m\u001b[0;34m\u001b[0m\u001b[0m\n",
      "\u001b[0;31mLinAlgError\u001b[0m: Last 2 dimensions of the array must be square"
     ]
    }
   ],
   "source": [
    "# Intentamos calcular el determinante de A\n",
    "import numpy as np\n",
    "A=np.matrix([\n",
    "    [1,-2,1,0],\n",
    "    [0,2,-8,8],\n",
    "    [-4,5,9,-9]\n",
    "])\n",
    "detA=np.linalg.det(A)\n",
    "detA\n",
    "# Da error porque el determinante solo se puede hacer para matrices cuadradas\n",
    "# Como A tiene orden 3x4, su rango es menor o igual a 3\n",
    "# Tengo que mirar los 4 determinantes de orden 3 antes de decidir si el rango de A es 3 o inferior"
   ]
  },
  {
   "cell_type": "code",
   "execution_count": 6,
   "metadata": {},
   "outputs": [
    {
     "data": {
      "text/plain": [
       "1.9999999999999998"
      ]
     },
     "execution_count": 6,
     "metadata": {},
     "output_type": "execute_result"
    }
   ],
   "source": [
    "# Cogiendo las columnas 1,2 y 3 de A\n",
    "import numpy as np\n",
    "A=np.matrix([\n",
    "    [1,-2,1],\n",
    "    [0,2,-8],\n",
    "    [-4,5,9]\n",
    "])\n",
    "detA=np.linalg.det(A)\n",
    "detA\n",
    "# Sale distinto de 0, luego el rango de A es 3\n",
    "# Aunque no es necesario, calculemos los otros 3 menores de A de orden 3"
   ]
  },
  {
   "cell_type": "code",
   "execution_count": 7,
   "metadata": {},
   "outputs": [
    {
     "data": {
      "text/plain": [
       "6.0"
      ]
     },
     "execution_count": 7,
     "metadata": {},
     "output_type": "execute_result"
    }
   ],
   "source": [
    "# Cogiendo las columnas 1,2 y 4 de A\n",
    "import numpy as np\n",
    "A=np.matrix([\n",
    "    [1,-2,0],\n",
    "    [0,2,8],\n",
    "    [-4,5,-9]\n",
    "])\n",
    "detA=np.linalg.det(A)\n",
    "detA\n",
    "# Sale distinto de 0, luego nos indica nuevamente que el rango de A es 3"
   ]
  },
  {
   "cell_type": "code",
   "execution_count": 8,
   "metadata": {},
   "outputs": [
    {
     "data": {
      "text/plain": [
       "-31.999999999999986"
      ]
     },
     "execution_count": 8,
     "metadata": {},
     "output_type": "execute_result"
    }
   ],
   "source": [
    "# Cogiendo las columnas 1,3 y 4 de A\n",
    "import numpy as np\n",
    "A=np.matrix([\n",
    "    [1,1,0],\n",
    "    [0,-8,8],\n",
    "    [-4,9,-9]\n",
    "])\n",
    "detA=np.linalg.det(A)\n",
    "detA\n",
    "# Sale distinto de 0, luego nos indica otra vez que el rango de A es 3"
   ]
  },
  {
   "cell_type": "code",
   "execution_count": 9,
   "metadata": {},
   "outputs": [
    {
     "data": {
      "text/plain": [
       "58.000000000000036"
      ]
     },
     "execution_count": 9,
     "metadata": {},
     "output_type": "execute_result"
    }
   ],
   "source": [
    "# Cogiendo las columnas 2,3 y 4 de A\n",
    "import numpy as np\n",
    "A=np.matrix([\n",
    "    [-2,1,0],\n",
    "    [2,-8,8],\n",
    "    [5,9,-9]\n",
    "])\n",
    "detA=np.linalg.det(A)\n",
    "detA\n",
    "# Sale distinto de 0, luego nos indica también que el rango de A es 3"
   ]
  },
  {
   "cell_type": "markdown",
   "metadata": {},
   "source": [
    "<span style=\"color:orange\"> Ejemplo:  \n",
    "Vamos a calcular el rango de la matriz $A=\n",
    "  \\left[ {\\begin{array}{cc}\n",
    "   1 & 0 & 1 & 2\\\\\n",
    "   2 & 3 & 1 & 3\\\\\n",
    "   3 & 3 & 2 & 5\\\\\n",
    "  \\end{array} } \\right]$ usando Python.  </style>  "
   ]
  },
  {
   "cell_type": "code",
   "execution_count": 11,
   "metadata": {},
   "outputs": [
    {
     "data": {
      "text/plain": [
       "-0.0"
      ]
     },
     "execution_count": 11,
     "metadata": {},
     "output_type": "execute_result"
    }
   ],
   "source": [
    "# Cogiendo las columnas 1,2 y 3 de A\n",
    "import numpy as np\n",
    "A=([\n",
    "    [1,0,1],\n",
    "    [2,3,1],\n",
    "    [3,3,2]\n",
    "])\n",
    "detA=np.linalg.det(A)\n",
    "round(detA)\n",
    "# Sale 0, por lo que no me vale para ver si el rango de A es 3"
   ]
  },
  {
   "cell_type": "code",
   "execution_count": 12,
   "metadata": {},
   "outputs": [
    {
     "data": {
      "text/plain": [
       "-0.0"
      ]
     },
     "execution_count": 12,
     "metadata": {},
     "output_type": "execute_result"
    }
   ],
   "source": [
    "# Cogiendo las columnas 1,2 y 4 de A\n",
    "import numpy as np\n",
    "A=([\n",
    "    [1,0,2],\n",
    "    [2,3,3],\n",
    "    [3,3,5]\n",
    "])\n",
    "detA=np.linalg.det(A)\n",
    "round(detA)\n",
    "# Sale 0, por lo que no me vale para ver si el rango de A es 3"
   ]
  },
  {
   "cell_type": "code",
   "execution_count": 13,
   "metadata": {},
   "outputs": [
    {
     "data": {
      "text/plain": [
       "0.0"
      ]
     },
     "execution_count": 13,
     "metadata": {},
     "output_type": "execute_result"
    }
   ],
   "source": [
    "# Cogiendo las columnas 1,3 y 4 de A\n",
    "import numpy as np\n",
    "A=([\n",
    "    [1,1,2],\n",
    "    [2,1,3],\n",
    "    [3,2,5]\n",
    "])\n",
    "detA=np.linalg.det(A)\n",
    "round(detA)\n",
    "# Sale 0, por lo que no me vale para ver si el rango de A es 3"
   ]
  },
  {
   "cell_type": "code",
   "execution_count": 14,
   "metadata": {},
   "outputs": [
    {
     "data": {
      "text/plain": [
       "0.0"
      ]
     },
     "execution_count": 14,
     "metadata": {},
     "output_type": "execute_result"
    }
   ],
   "source": [
    "# Cogiendo las columnas 2,3 y 4 de A\n",
    "import numpy as np\n",
    "A=([\n",
    "    [0,1,2],\n",
    "    [3,1,3],\n",
    "    [3,2,5]\n",
    "])\n",
    "detA=np.linalg.det(A)\n",
    "round(detA)\n",
    "# Sale 0, por lo que no me vale para ver si el rango de A es 3\n",
    "# De hecho, después de calcular los 4 menores de orden 3, ya sé que no tiene rango 3\n",
    "# Voy a ver si tiene rango 2"
   ]
  },
  {
   "cell_type": "code",
   "execution_count": 15,
   "metadata": {},
   "outputs": [
    {
     "data": {
      "text/plain": [
       "-3.0000000000000004"
      ]
     },
     "execution_count": 15,
     "metadata": {},
     "output_type": "execute_result"
    }
   ],
   "source": [
    "# Cogemos por ejemplo el formado por los primeros 4 elementos\n",
    "import numpy as np\n",
    "A2=np.matrix([\n",
    "    [0,1],\n",
    "    [3,1]\n",
    "])\n",
    "detA2 = np.linalg.det(A2)\n",
    "detA2\n",
    "# Como sale distinto de 0, este es uno de los posibles mayores menores no nulos, luego el rango de A es 2"
   ]
  },
  {
   "cell_type": "markdown",
   "metadata": {},
   "source": [
    "¿Calcular los 4 menores de orden 3 es siempre necesario? NO!!!! ¿Por qué?  \n",
    "No, porque me vale con que uno de ellos sea distinto de cero. Eso sí, si no doy con él, me tocará calcular los 4.  "
   ]
  }
 ],
 "metadata": {
  "kernelspec": {
   "display_name": "Python 3",
   "language": "python",
   "name": "python3"
  },
  "language_info": {
   "codemirror_mode": {
    "name": "ipython",
    "version": 3
   },
   "file_extension": ".py",
   "mimetype": "text/x-python",
   "name": "python",
   "nbconvert_exporter": "python",
   "pygments_lexer": "ipython3",
   "version": "3.7.4"
  }
 },
 "nbformat": 4,
 "nbformat_minor": 2
}
