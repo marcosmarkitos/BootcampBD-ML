{
 "cells": [
  {
   "cell_type": "markdown",
   "metadata": {},
   "source": [
    "# 3. Overview"
   ]
  },
  {
   "cell_type": "markdown",
   "metadata": {},
   "source": [
    "## Mindmap   \n",
    "\n",
    "<img src=\"Images/Mindmap_Algebra.png\" style=\"width: 1000px;\"/>\n",
    "\n",
    "https://www.goconqr.com/es-ES/p/17367763-Algebra-mind_maps"
   ]
  },
  {
   "cell_type": "markdown",
   "metadata": {},
   "source": [
    "## Datos atómicos\n",
    "\n",
    "### Números reales\n",
    "\n",
    "<img src=\"Images/reales.png\" style=\"width: 400px;\"/>\n",
    "\n",
    "### Números complejos\n",
    "\n",
    "<img src=\"Images/conjunto de los numeros complejos.png\" style=\"width: 400px;\"/>\n",
    "\n",
    "\n",
    "* $\\mathbb{C}$=$\\mathbb{R}$U{i}  \n",
    "* i<sup>2</sup>=-1\n",
    "\n",
    "<img src=\"Images/caracteristicas-de-los-numeros-complejos-300x197.jpg\" style=\"width: 400px;\"/>"
   ]
  },
  {
   "cell_type": "markdown",
   "metadata": {},
   "source": [
    "* *Parte decimal de un número*  \n",
    "<span style=\"color:orange\"> Ejemplo: Vamos a calcular la parte decimal de 4.14656</style>"
   ]
  },
  {
   "cell_type": "code",
   "execution_count": 1,
   "metadata": {},
   "outputs": [
    {
     "data": {
      "text/plain": [
       "0.14656000000000002"
      ]
     },
     "execution_count": 1,
     "metadata": {},
     "output_type": "execute_result"
    }
   ],
   "source": [
    "a = 4.14656\n",
    "abs(a)-abs(int(a))\n",
    "\n",
    "#residuo infinitesimal (redondeo de las operaciones en python)"
   ]
  },
  {
   "cell_type": "markdown",
   "metadata": {},
   "source": [
    "## Agrupaciones de datos\n",
    "\n",
    "> Conjuntos  \n",
    "> Listas  \n",
    "> Tuplas  \n",
    "> Diccionarios"
   ]
  },
  {
   "cell_type": "markdown",
   "metadata": {},
   "source": [
    "<span style=\"color:orange\"> Ejemplo: Escribamos el conjunto 2,2,1,1,3,3</style>"
   ]
  },
  {
   "cell_type": "code",
   "execution_count": 2,
   "metadata": {},
   "outputs": [
    {
     "data": {
      "text/plain": [
       "{1, 2, 3}"
      ]
     },
     "execution_count": 2,
     "metadata": {},
     "output_type": "execute_result"
    }
   ],
   "source": [
    "#conjuntos entre llaves\n",
    "{2,2,1,1,3,3}"
   ]
  },
  {
   "cell_type": "markdown",
   "metadata": {},
   "source": [
    "<span style=\"color:orange\"> Ejemplo: Escribamos la lista 1,1+1,3,2</style>"
   ]
  },
  {
   "cell_type": "code",
   "execution_count": 3,
   "metadata": {},
   "outputs": [
    {
     "data": {
      "text/plain": [
       "[1, 2, 3, 2]"
      ]
     },
     "execution_count": 3,
     "metadata": {},
     "output_type": "execute_result"
    }
   ],
   "source": [
    "#orden importante y sí se repiten\n",
    "lista=[1,1+1,3,2]\n",
    "lista"
   ]
  },
  {
   "cell_type": "code",
   "execution_count": 6,
   "metadata": {},
   "outputs": [
    {
     "data": {
      "text/plain": [
       "1"
      ]
     },
     "execution_count": 6,
     "metadata": {},
     "output_type": "execute_result"
    }
   ],
   "source": [
    "lista[0]"
   ]
  },
  {
   "cell_type": "code",
   "execution_count": 7,
   "metadata": {},
   "outputs": [
    {
     "data": {
      "text/plain": [
       "2"
      ]
     },
     "execution_count": 7,
     "metadata": {},
     "output_type": "execute_result"
    }
   ],
   "source": [
    "lista[1]"
   ]
  },
  {
   "cell_type": "markdown",
   "metadata": {},
   "source": [
    "<span style=\"color:orange\"> Ejemplo: Escribamos la tupla 1,1+1,3,2</style>"
   ]
  },
  {
   "cell_type": "code",
   "execution_count": 12,
   "metadata": {},
   "outputs": [
    {
     "data": {
      "text/plain": [
       "2"
      ]
     },
     "execution_count": 12,
     "metadata": {},
     "output_type": "execute_result"
    }
   ],
   "source": [
    "#como las listas pero son inmutables\n",
    "tupla = (1,1+1,3,2)\n",
    "tupla[1]"
   ]
  },
  {
   "cell_type": "markdown",
   "metadata": {},
   "source": [
    "<span style=\"color:orange\"> Ejemplo: Veamos un diccionario sencillo, que consiste en los pronombre personales en singular en español y en inglés</style>"
   ]
  },
  {
   "cell_type": "code",
   "execution_count": 14,
   "metadata": {},
   "outputs": [
    {
     "data": {
      "text/plain": [
       "{'yo': 'I', 'tú': 'You', 'él': 'He'}"
      ]
     },
     "execution_count": 14,
     "metadata": {},
     "output_type": "execute_result"
    }
   ],
   "source": [
    "#pareja clave valor\n",
    "pronombres = {'yo':'I','tú':'You','él':'He'}\n",
    "pronombres"
   ]
  },
  {
   "cell_type": "code",
   "execution_count": 15,
   "metadata": {},
   "outputs": [
    {
     "data": {
      "text/plain": [
       "'I'"
      ]
     },
     "execution_count": 15,
     "metadata": {},
     "output_type": "execute_result"
    }
   ],
   "source": [
    "pronombres['yo']"
   ]
  },
  {
   "cell_type": "markdown",
   "metadata": {},
   "source": [
    "## Aspectos de Python que debemos recordar\n",
    "\n",
    "### Iterar una lista en Python\n",
    "\n",
    "<span style=\"color:orange\"> Ejemplo: Queremos iterar la lista con todos los módulos principales que veremos a lo largo del Bootcamp.</style>"
   ]
  },
  {
   "cell_type": "code",
   "execution_count": 16,
   "metadata": {},
   "outputs": [
    {
     "data": {
      "text/plain": [
       "['BD Architecture',\n",
       " 'BD Processing',\n",
       " 'Tableau',\n",
       " 'D3',\n",
       " 'Estadística',\n",
       " 'Álgebra',\n",
       " 'Data Mining',\n",
       " 'Machine Learning',\n",
       " 'Deep Learning',\n",
       " 'NLP']"
      ]
     },
     "execution_count": 16,
     "metadata": {},
     "output_type": "execute_result"
    }
   ],
   "source": [
    "bootcamp = ['BD Architecture', 'BD Processing','Tableau','D3','Estadística','Álgebra','Data Mining','Machine Learning','Deep Learning','NLP']\n",
    "bootcamp"
   ]
  },
  {
   "cell_type": "code",
   "execution_count": 17,
   "metadata": {},
   "outputs": [
    {
     "data": {
      "text/plain": [
       "range(0, 10)"
      ]
     },
     "execution_count": 17,
     "metadata": {},
     "output_type": "execute_result"
    }
   ],
   "source": [
    "range(0,10)"
   ]
  },
  {
   "cell_type": "code",
   "execution_count": 18,
   "metadata": {},
   "outputs": [
    {
     "data": {
      "text/plain": [
       "'BD Architecture'"
      ]
     },
     "execution_count": 18,
     "metadata": {},
     "output_type": "execute_result"
    }
   ],
   "source": [
    "bootcamp[0]"
   ]
  },
  {
   "cell_type": "code",
   "execution_count": 20,
   "metadata": {},
   "outputs": [
    {
     "name": "stdout",
     "output_type": "stream",
     "text": [
      "Contenido del bootcamp:\n",
      "BD Architecture\n",
      "BD Processing\n",
      "Tableau\n",
      "D3\n",
      "Estadística\n",
      "Álgebra\n",
      "Data Mining\n",
      "Machine Learning\n",
      "Deep Learning\n",
      "NLP\n"
     ]
    }
   ],
   "source": [
    "print('Contenido del bootcamp:')\n",
    "for x in range(0,len(bootcamp)):\n",
    "    print(bootcamp[x])"
   ]
  }
 ],
 "metadata": {
  "kernelspec": {
   "display_name": "Python 3",
   "language": "python",
   "name": "python3"
  },
  "language_info": {
   "codemirror_mode": {
    "name": "ipython",
    "version": 3
   },
   "file_extension": ".py",
   "mimetype": "text/x-python",
   "name": "python",
   "nbconvert_exporter": "python",
   "pygments_lexer": "ipython3",
   "version": "3.7.4"
  }
 },
 "nbformat": 4,
 "nbformat_minor": 2
}
