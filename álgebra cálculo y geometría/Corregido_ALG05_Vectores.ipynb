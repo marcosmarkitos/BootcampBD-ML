{
 "cells": [
  {
   "cell_type": "markdown",
   "metadata": {},
   "source": [
    "# 5. Vectores"
   ]
  },
  {
   "cell_type": "markdown",
   "metadata": {},
   "source": [
    "Visión intuitiva:\n",
    "\n",
    "<img src=\"Images/bubble-shooter.jpg\" style=\"width: 300px;\"/> \n",
    "\n",
    "https://www.shooter-bubble.com/es/\n",
    "\n",
    "Un vector a menudo se visualiza como una flecha. \n",
    "\n",
    "\n"
   ]
  },
  {
   "cell_type": "markdown",
   "metadata": {},
   "source": [
    "# ¿Qué es un vector?\n",
    "\n",
    "<img src=\"Images/250px-Vector_01.png\" style=\"width: 300px;\"/>\n",
    "\n",
    "Un **vector** es una serie de elementos ordenados.  \n",
    "* Recordemos que no significa ordenados numéricamente, sino ordenados en función de un índice de orden.    \n",
    "* Equivalen formalmente al objeto de tupla en Python, aunque es habitual verlos escrito tanto con corchetes como con paréntesis. Digamos que como sabemos a lo que nos enfrentamos y no se nos va a ocurrir añadirle más elementos, la diferencia real que hay entre que sea una tupla y una lista no se utiliza. De ahí que verlo definido con uno u otro no sea un \"problema\" \n",
    "* El vector \"más famoso\" es el *cuaternión*, un 4-vector sobre $\\mathbb{R}$\n",
    "\n",
    "###### Definición  \n",
    "Para un espacio $\\mathbb{F}$ y un entero positivo *n*, un vector con n entradas, cada una de ellas pertenecientes a $\\mathbb{F}$, es llamado **n-vector sobre $\\mathbb{F}$**.  \n",
    "El conjunto de todos los n-vectores sobre $\\mathbb{F}$ se denomina $\\mathbb{F}$<sup>n</sup> .  \n",
    "  \n",
    "<span style=\"color:orange\"> Ejemplo: El conjunto de todos los 4-vectores se denota $\\mathbb{R}$<sup>4</sup> </style>"
   ]
  },
  {
   "cell_type": "markdown",
   "metadata": {
    "collapsed": true
   },
   "source": [
    "El **campo de Galois**, GF(n), que es un cuerpo definido sobre un conjunto finito de elementos.  \n",
    "\n",
    "<span style=\"color:orange\">Ejemplo: GF(2) tiene dos elementos: 0 y 1.</style>  \n",
    "\n",
    "<img src=\"Images/gf2.png\" style=\"width: 300px;\"/>\n",
    "\n",
    "<span style=\"color:orange\">Ejemplo: GF(3) tiene tres elementos: 0, 1 y -1.</style>  \n",
    "\n",
    "<img src=\"Images/gf3.png\" style=\"width: 300px;\"/>\n",
    "  \n",
    "<span style=\"color:orange\">Ejemplo: GF(2)<sup>5</sup> es el conjuntos de las secuencias de 5 dígitos: [0,0,0,0,0], [0,0,0,0,1], ...</style>   \n",
    "  "
   ]
  },
  {
   "cell_type": "markdown",
   "metadata": {},
   "source": [
    "# ¿Qué podemos representar con un vector?\n",
    "\n",
    "* *Documentos*  \n",
    "  Para recuperación de información\n",
    "    \n",
    "* *Cadenas binarias*   \n",
    "<span style=\"color:orange\">Ejemplo: La clave secreta de un criptosistema 1011101011 puede ser representada como un vector en GF(2): [1,0,1,1,1,0,1,0,1,1]</style>  \n",
    "  \n",
    "* *Una colección de atributos*\n",
    "  * Registros de votos en el Congreso  \n",
    "  <span style=\"color:orange\">Ejemplo: Cada miembro del Congreso tiene asociado un +1 si vota a favor, -1 si vota en contra, 0 si se abstiene.</style>   \n",
    "  * Registros de consumidores  \n",
    "  <span style=\"color:orange\">Ejemplo: Olimar tiene 30 años, un nivel de educación de 16 y unos ingresos de 40000€.    Olimar={'edad': 30, 'nivel de educación': 16, 'ingresos': 40000}</style>     \n",
    "* * Distribución de la población mundial  \n",
    "  <span style=\"color:orange\">Ejemplo: {'China': 1341670000, 'India': 1192570000, 'EEUU': 308745538, 'España':46560000}</style>    \n",
    "* *Distribuciones de probabilidad*  \n",
    "<span style=\"color:orange\">Ejemplo: La probabilidad de un dado: {1: 1/6, 2:1/6, 3:1/6, 4:1/6, 5:1/6, 6:1/6}</style>   \n",
    "* *Imágenes*  \n",
    "Representadas en modo cuadrícula en el plano, se les puede dar coordenadas de posición y un valor asociado que sea el color de esa celda"
   ]
  },
  {
   "cell_type": "markdown",
   "metadata": {
    "collapsed": true
   },
   "source": [
    "# Suma de vectores\n",
    "\n",
    "<img src=\"Images/Suma_vectores.png\" style=\"width: 300px;\"/>\n",
    "\n",
    "El **vector suma** está definido por:  \n",
    "> [u<sub>1</sub>,u<sub>2</sub>,...,u<sub>n</sub>] + [v<sub>1</sub>,v<sub>2</sub>,...,u<sub>n</sub>] = [u<sub>1</sub>+v<sub>1</sub>,u<sub>2</sub>+v<sub>2</sub>,...,u<sub>n</sub>+u<sub>n</sub>]  \n",
    "\n",
    "\n",
    "Para cualesquiera vectores **u**, **v**, **w**, se tiene:\n",
    "* *Propiedad asociativa*: (**u**+**v**)+**w**=**u**+(**v**+**w**)\n",
    "* *Propiedad conmutativa*: **u**+**v**=**v**+**u**\n",
    "\n",
    "Python \"no sabe\" sumar dos vectores \n",
    "\n",
    "<span style=\"color:orange\">Ejemplo: Sumemos los vectores (1,2) y (5,7)</style>  "
   ]
  },
  {
   "cell_type": "code",
   "execution_count": 1,
   "metadata": {},
   "outputs": [
    {
     "data": {
      "text/plain": [
       "(1, 2, 5, 7)"
      ]
     },
     "execution_count": 1,
     "metadata": {},
     "output_type": "execute_result"
    }
   ],
   "source": [
    "(1,2)+(5,7)"
   ]
  },
  {
   "cell_type": "markdown",
   "metadata": {},
   "source": [
    "<span style=\"color:orange\">Ejemplo: Vamos a definir el procedimiento para sumar dos vectores de dos componentes</style> "
   ]
  },
  {
   "cell_type": "code",
   "execution_count": 1,
   "metadata": {},
   "outputs": [],
   "source": [
    "def add(v,w):\n",
    "    return [v[0]+w[0],v[1]+w[1]]"
   ]
  },
  {
   "cell_type": "markdown",
   "metadata": {},
   "source": [
    "<span style=\"color:orange\">Ejemplo: Vamos a aplicar este procedimiento a la lista L:</style>  \n",
    "> <span style=\"color:orange\">L =[[2,2],[3,2],[1.75,1], [2,1],[2.25,1],[2.5,1],[2.75,1],[3,1],[3.25,1]]</style> \n",
    "    \n",
    "<span style=\"color:orange\">, añadiéndole el vector [3,2] a cada uno de los vectores </style>"
   ]
  },
  {
   "cell_type": "code",
   "execution_count": 2,
   "metadata": {},
   "outputs": [
    {
     "data": {
      "text/plain": [
       "[[5, 4],\n",
       " [6, 4],\n",
       " [4.75, 3],\n",
       " [5, 3],\n",
       " [5.25, 3],\n",
       " [5.5, 3],\n",
       " [5.75, 3],\n",
       " [6, 3],\n",
       " [6.25, 3]]"
      ]
     },
     "execution_count": 2,
     "metadata": {},
     "output_type": "execute_result"
    }
   ],
   "source": [
    "L=[[2,2],[3,2],[1.75,1], [2,1],[2.25,1],[2.5,1],[2.75,1],[3,1],[3.25,1]]\n",
    "[add(v,[3,2]) for v in L]"
   ]
  },
  {
   "cell_type": "markdown",
   "metadata": {},
   "source": [
    "<span style=\"color:orange\">Ejemplo: Vamos a definir el procedimiento para sumar dos vectores de longitud determinada pero desconocida a priori</style>"
   ]
  },
  {
   "cell_type": "code",
   "execution_count": 19,
   "metadata": {},
   "outputs": [],
   "source": [
    "def addn(v,w):\n",
    "    return[v[i]+w[i] for i in range(len(v))]"
   ]
  },
  {
   "cell_type": "markdown",
   "metadata": {},
   "source": [
    "# Multiplicación de un vector por un escalar\n",
    "\n",
    "<img src=\"Images/producto_de_vectores_por_escalares.jpg\" style=\"width: 300px;\"/>\n",
    "\n",
    "Dado un número $\\alpha$ y un vector **v**:\n",
    "> $\\alpha$[v<sub>1</sub>,v<sub>2</sub>,...,v<sub>n</sub>] = [$\\alpha$v<sub>1</sub>,$\\alpha$v<sub>2</sub>,...,$\\alpha$v<sub>n</sub>] \n",
    "\n",
    "<span style=\"color:orange\">Ejemplo: ¿Cómo haríais en Python para multiplicar 2 por el vector (1,2,3)?</style>"
   ]
  },
  {
   "cell_type": "code",
   "execution_count": 4,
   "metadata": {},
   "outputs": [
    {
     "data": {
      "text/plain": [
       "[1, 2, 3, 1, 2, 3]"
      ]
     },
     "execution_count": 4,
     "metadata": {},
     "output_type": "execute_result"
    }
   ],
   "source": [
    "2*[1,2,3]\n",
    "# Como podemos ver, lo que ha hehco ha sido \"duplicarlo\""
   ]
  },
  {
   "cell_type": "code",
   "execution_count": 1,
   "metadata": {},
   "outputs": [
    {
     "data": {
      "text/plain": [
       "[2, 4, 6]"
      ]
     },
     "execution_count": 1,
     "metadata": {},
     "output_type": "execute_result"
    }
   ],
   "source": [
    "[2*e for e in [1,2,3]]\n",
    "#Así, sí "
   ]
  },
  {
   "cell_type": "markdown",
   "metadata": {},
   "source": [
    "<span style=\"color:orange\">Ejemplo: Ahora de verdad, vamos a definir un procedimiento en Python para multiplicar un escalar *alpha* por un vector de longitud determinada.</style>"
   ]
  },
  {
   "cell_type": "code",
   "execution_count": 1,
   "metadata": {},
   "outputs": [],
   "source": [
    "def mult_vector_escalar(alpha,v):\n",
    "    return [alpha*v[i] for i in range(len(v))]"
   ]
  },
  {
   "cell_type": "markdown",
   "metadata": {},
   "source": [
    "<span style=\"color:orange\">Ejemplo: Probémoslo para multiplicar 2 por el vector (1,2,3)</style>"
   ]
  },
  {
   "cell_type": "code",
   "execution_count": 2,
   "metadata": {},
   "outputs": [
    {
     "data": {
      "text/plain": [
       "[2, 4, 6]"
      ]
     },
     "execution_count": 2,
     "metadata": {},
     "output_type": "execute_result"
    }
   ],
   "source": [
    "mult_vector_escalar(2,[1,2,3])"
   ]
  },
  {
   "cell_type": "markdown",
   "metadata": {},
   "source": [
    "Dado un vector **v** y dos números cualesquiera $\\alpha$,$\\beta$$\\in$$\\mathbb{R}$, se tiene:\n",
    "* *Propiedad asociativa*: $\\alpha$($\\beta$**v**)=($\\alpha$$\\beta$)**v**  \n",
    "* *Propiedad distributiva*: $\\alpha$(**u**+**v**)=$\\alpha$**u**+ $\\alpha$**v**\n",
    "\n",
    "Pensamiento: Si multiplicásemos un vector por todos los números reales, lo que obtendríamos sería una recta.  \n",
    "De hecho, la recta que pasa por el origen y por el vector **v** es la formada por:\n",
    "> { $\\alpha$**v** : $\\alpha$$\\in$$\\mathbb{R}$ }"
   ]
  },
  {
   "cell_type": "markdown",
   "metadata": {},
   "source": [
    "# Suma y producto escalar combinados"
   ]
  },
  {
   "cell_type": "markdown",
   "metadata": {},
   "source": [
    "Dados los vectores **u**,**v** y $\\alpha$$\\in$$\\mathbb{R}$, se tiene:\n",
    "> $\\alpha$(**u**+**v**)=$\\alpha$**u**+ $\\alpha$**v**  \n",
    "\n",
    "<span style=\"color:orange\"> En la práctica tenéis un ejemplo de uso directo. Aquí nos irá apareciendo en aplicaciones como las combinaciones lineales </style>"
   ]
  },
  {
   "cell_type": "markdown",
   "metadata": {},
   "source": [
    "###### Combinación lineal\n",
    "\n",
    "Dados tres vectores **u**, **v** , **w**, dados $\\alpha$,$\\beta$$\\in$$\\mathbb{R}$, se dice que **w** es **combinación lineal** de **u** y **v** si **w** = $\\alpha$**u** + $\\beta$**v**\n",
    "\n",
    "<span style=\"color:orange\">Ejemplo: Un ejemplo algo especial, Crossfade (Fusión de imágenes)</style>\n",
    "\n",
    "<img src=\"Images/crossfade.png\" style=\"width: 600px;\"/>\n",
    "\n",
    "NOTA: La última imagen de abajo a la derecha debería indicar 0u+1v en vez de 1u+1v"
   ]
  },
  {
   "cell_type": "markdown",
   "metadata": {},
   "source": [
    "# Algunos otros ejemplos de vectores en GF(2)  \n",
    "\n"
   ]
  },
  {
   "cell_type": "markdown",
   "metadata": {},
   "source": [
    "###### Compartiendo secretos: Todo o nada\n",
    "\n",
    "<img src=\"Images/VPw9VENr_400x400.jpg\" style=\"width: 300px;\"/>\n",
    "\n",
    "\n",
    "<span style=\"color:orange\">Ejemplo: El examen de evaluación.  \n",
    "Mi nombre es Carpanta, y soy profesor en un colegio. Para el examen de evaluación estaré de vacaciones.  \n",
    "He representado las respuestas como un n-vector **v** sobre GF(2).  \n",
    "Quiero proporcionárselo a mis dos asistentes, Zipi y Zape (A y B) para que puedan administrar el examen aunque yo no esté.  \n",
    "Sin embargo, no confío del todo en ellos.  \n",
    "Por ejemplo, un estudiante puede sobornar a uno de ellos para que le entregue las respuestas del exmen con antelación, por lo que no quiero proporcionarle simplemente las respuestas a cada asistente.  \n",
    "Por tanto, voy a tomar precauciones: voy a proporcionar piezas a cada uno de ellos de forma que puedan reconstruir la totalidad de las respuestas, pero que por separado no sean capaces de obtener información alguna.  \n",
    "Así es cómo lo hago:</style>   \n"
   ]
  },
  {
   "cell_type": "markdown",
   "metadata": {},
   "source": [
    "<span style=\"color:orange\">Sea **v** el n-vector respuestas.  \n",
    "Generamos V<sub>A</sub> un n-vector aleatorio:\n",
    "Calculamos V<sub>B</sub>    \n",
    "V<sub>B</sub>=v-V<sub>A</sub>  \n",
    "Para recuperar el vector respuestas:  \n",
    "v=V<sub>A</sub>+V<sub>B</sub></style> "
   ]
  },
  {
   "cell_type": "markdown",
   "metadata": {},
   "source": [
    "¿Se puede hacer un vector aleatorio en Python?"
   ]
  },
  {
   "cell_type": "code",
   "execution_count": 1,
   "metadata": {},
   "outputs": [
    {
     "name": "stdout",
     "output_type": "stream",
     "text": [
      "Ingrese cuantos numeros aleatorios desea obtener\n",
      "10\n",
      "[371, 521, 711, 385, 110, 106, 917, 526, 673, 750]\n"
     ]
    }
   ],
   "source": [
    "import random\n",
    "print(\"Ingrese cuantos numeros aleatorios desea obtener\")\n",
    "n=int(input())\n",
    "aleatorios = [random.randint(0,1000) for _ in range(n)]\n",
    "print(aleatorios)"
   ]
  },
  {
   "cell_type": "markdown",
   "metadata": {},
   "source": [
    "¿Y si lo quisiese en GF(2)?"
   ]
  },
  {
   "cell_type": "code",
   "execution_count": 21,
   "metadata": {},
   "outputs": [
    {
     "name": "stdout",
     "output_type": "stream",
     "text": [
      "Ingrese cuantos numeros aleatorios desea obtener\n",
      "10\n",
      "[0, 0, 0, 1, 0, 1, 1, 0, 1, 0]\n"
     ]
    }
   ],
   "source": [
    "import random\n",
    "print(\"Ingrese cuantos numeros aleatorios desea obtener\")\n",
    "n=int(input())\n",
    "aleatorios = [random.randint(0,1000)%2 for _ in range(n)]\n",
    "print(aleatorios)"
   ]
  },
  {
   "cell_type": "code",
   "execution_count": 1,
   "metadata": {},
   "outputs": [
    {
     "name": "stdout",
     "output_type": "stream",
     "text": [
      "Ingrese cuantos numeros aleatorios desea obtener\n",
      "10\n",
      "[0, 1, 0, 1, 0, 1, 0, 0, 0, 1]\n"
     ]
    }
   ],
   "source": [
    "# Otro modo\n",
    "import random\n",
    "print(\"Ingrese cuantos numeros aleatorios desea obtener\")\n",
    "n=int(input())\n",
    "aleatorios = [random.randint(0,1) for _ in range(n)]\n",
    "print(aleatorios)"
   ]
  },
  {
   "cell_type": "markdown",
   "metadata": {},
   "source": [
    "<span style=\"color:orange\">En nuestro ejemplo:</style> "
   ]
  },
  {
   "cell_type": "code",
   "execution_count": 42,
   "metadata": {},
   "outputs": [],
   "source": [
    "# Lo primero es crear un procedimiento que haga la suma en GF(2)\n",
    "def addn_GF2(v,w):\n",
    "    return[(v[i]+w[i])%2 for i in range(len(v))]"
   ]
  },
  {
   "cell_type": "code",
   "execution_count": 49,
   "metadata": {},
   "outputs": [
    {
     "name": "stdout",
     "output_type": "stream",
     "text": [
      "El n-vector respuestas v es [0, 1, 0, 0, 1, 0, 1, 0, 1, 1]\n",
      "El n-vector aleatorio vA que entregamos a Zipi es [0, 1, 0, 1, 1, 1, 0, 1, 0, 1]\n",
      "El n-vector vB que entregamos a Zape es [0, 0, 0, 1, 0, 1, 1, 1, 1, 0]\n"
     ]
    }
   ],
   "source": [
    "# Supongamos que el examen tiene 10 preguntas:\n",
    "import random\n",
    "# Definimos el vector respuestas\n",
    "v=[0,1,0,0,1,0,1,0,1,1]\n",
    "print(\"El n-vector respuestas v es {}\".format(v))\n",
    "# Calculamos el vector aleatorio vA\n",
    "vA = [ ]\n",
    "for i in range (10):\n",
    "    vA.append(random.randint(1, 100)%2)\n",
    "print(\"El n-vector aleatorio vA que entregamos a Zipi es {}\".format(vA))\n",
    "# Calculamos vB a partir de vA\n",
    "vB=addn_GF2(v,mult_vector_escalar(-1,vA))\n",
    "print(\"El n-vector vB que entregamos a Zape es {}\".format(vB))"
   ]
  },
  {
   "cell_type": "markdown",
   "metadata": {},
   "source": [
    "<span style=\"color:orange\">Para recuperar la solución:</style> "
   ]
  },
  {
   "cell_type": "code",
   "execution_count": 51,
   "metadata": {},
   "outputs": [
    {
     "name": "stdout",
     "output_type": "stream",
     "text": [
      "El n-vector respuestas v es [0, 1, 0, 0, 1, 0, 1, 0, 1, 1]\n"
     ]
    }
   ],
   "source": [
    "vB=addn_GF2(vA,vB)\n",
    "print(\"El n-vector respuestas v es {}\".format(v))"
   ]
  },
  {
   "cell_type": "markdown",
   "metadata": {},
   "source": [
    "El **RSA Distributed Credential Protection** está basado en esta idea: Cada contraseña se divide en dos partes y cada parte se guarda en un servidor diferente.\n",
    "\n",
    "<img src=\"Images/RSA.jpg\" style=\"width: 300px;\"/>\n",
    "\n"
   ]
  },
  {
   "cell_type": "markdown",
   "metadata": {},
   "source": [
    "<span style=\"color:orange\">Ejemplo: El juego Lights Out.</style> \n",
    "\n",
    "<img src=\"Images/lightout.jpg\" style=\"width: 300px;\"/>\n",
    "\n",
    "<span style=\"color:orange\">Lights Out es un juego de Puzzles que consiste en intentar apagar todas las luces del tablero de 5x5.  \n",
    "Las instrucciones son sencillas: Dando con el ratón en cada luz cambia de estado y todas las que están alrededor.  \n",
    "Inicialmente alguns luces están encendidas y otras apagadas. </style>    \n",
    "\n",
    "<span style=\"color:orange\">El problema que queremos resolver es: Dada una configuración inicial de luces, encuentre una secuencia de pulsaciones de botón que apague todas las luces o informe que no existe ninguna.</style>  \n",
    "\n",
    "<span style=\"color:orange\">¿Qué tienen que ver los vectores con este juego?  \n",
    "El estado del rompecabezas puede representarse mediante un vector sobre GF(2) con una entrada para cada una de las posiciones de la cuadrícula: (0,0), (0,1),...,(4,3),(4,4).  \n",
    "Y vamos a denotar con un 1 cuando la luz esté encendida y con un 0 cuando la luz esté apagada.  </style>\n",
    "\n",
    "\n",
    "# Producto entre vectores\n",
    "\n",
    "* Producto escalar  \n",
    "* Producto vectorial  \n",
    "\n",
    "## Producto escalar o producto interno\n",
    "\n",
    "El producto escalar entre dos vectores se entiende geométricamente como el módulo de uno de ellos por la proyección del otro sobre él. \n",
    "\n",
    "<img src=\"Images/producto_escalar.png\" style=\"width: 300px;\"/>\n",
    "\n",
    "El **producto escalar** entre **u** y **v** se define como:\n",
    "> **u** $\\cdot$ **v** = $\\sum_{i \\in D}$ **u**[i]$\\cdot$**v**[i] = u<sub>1</sub> $\\cdot$ v<sub>1</sub> + u<sub>2</sub> $\\cdot$ v<sub>2</sub> + ... + u<sub>n</sub> $\\cdot$ v<sub>n</sub>  \n",
    "\n",
    "Como podemos ver la salida es un escalar, no un vector. \n",
    "\n",
    "<span style=\"color:orange\">Ejemplo: [1,2,3,4,5]*[10,20,30,40,50]= 1$\\cdot$10+2$\\cdot$20+3$\\cdot$30+4$\\cdot$40+5$\\cdot$50=550   </style>  \n",
    "\n",
    "\n",
    "<span style=\"color:orange\">Ejemplo: Vamos a escribir un procedimiento en Python que calcule el producto escalar dados dos vectores de igual longitud, desconocida pero determinada.  </style>  "
   ]
  },
  {
   "cell_type": "code",
   "execution_count": 9,
   "metadata": {},
   "outputs": [],
   "source": [
    "def producto_escalar(u,v):\n",
    "    return sum(u[i]*v[i] for i in range(len(u)))"
   ]
  },
  {
   "cell_type": "code",
   "execution_count": 10,
   "metadata": {},
   "outputs": [
    {
     "data": {
      "text/plain": [
       "550"
      ]
     },
     "execution_count": 10,
     "metadata": {},
     "output_type": "execute_result"
    }
   ],
   "source": [
    "producto_escalar([1,2,3,4,5],[10,20,30,40,50])"
   ]
  },
  {
   "cell_type": "markdown",
   "metadata": {
    "collapsed": true
   },
   "source": [
    "<span style=\"color:orange\">Ejemplo: Un sensor consta de los siguientes componentes de hardware:</style>\n",
    "\n",
    "<img src=\"Images/sensor.jpg\" style=\"width: 300px;\"/>\n",
    "\n",
    "* <span style=\"color:orange\">CPU</style>\n",
    "* <span style=\"color:orange\">Radio</style>\n",
    "* <span style=\"color:orange\">Sensor de temperatura</style>\n",
    "* <span style=\"color:orange\">Memoria</style> \n",
    "\n",
    "<span style=\"color:orange\">Un sensor funciona con baterías y se coloca a distancia, por lo que nos preocupamos por el uso de energía que consume.  \n",
    "Supongamos que conocemos el consumo de energía para cada componente de hardware.  \n",
    "Lo representaremos como un D-vector con D = {memoria, radio,sensor, CPU}.  </style>\n",
    "> <span style=\"color:orange\">**consumo** = Vec(D, {memoria : 0.06W,radio : 0.06W,sensor : 0.004W, CPU : 0.0025W})</style>  \n",
    "\n",
    "<span style=\"color:orange\">Para obtener estos datos, lo tuvimos funcionando durante un período de prueba durante el cual sabemos cuánto tiempo estuvo trabajando cada componente.  \n",
    "Lo representamos como otro vector D:  </style>\n",
    "> <span style=\"color:orange\">**duracion** = Vec(D, {memoria : 1.0s,radio : 0.2s,sensor : 0.5s, CPU : 1.0s})</style> \n",
    "\n",
    "<span style=\"color:orange\">Calculamos ahora el total de la energía consumida en Julios: </style> \n",
    "> <span style=\"color:orange\">**total_energia** = **consumo**$\\cdot$**duracion**\n",
    "</style>"
   ]
  },
  {
   "cell_type": "code",
   "execution_count": 11,
   "metadata": {},
   "outputs": [
    {
     "data": {
      "text/plain": [
       "0.0765"
      ]
     },
     "execution_count": 11,
     "metadata": {},
     "output_type": "execute_result"
    }
   ],
   "source": [
    "producto_escalar([0.06,0.06,0.004,0.0025],[1,0.2,0.5,1])"
   ]
  },
  {
   "cell_type": "markdown",
   "metadata": {},
   "source": [
    "<span style=\"color:orange\">Hemos medido la energía total consumida por el sensor en un período.  \n",
    "¿Cuál va a ser nuestro siguiente objetivo?  \n",
    "Calcular la tasa de consumo de energía de cada componente de hardware.  \n",
    "Nos encontramos con un desafío y es que no se puede simplemente encender la memoria sin encender la CPU.  \n",
    "**Idea:**  </style>\n",
    "* <span style=\"color:orange\">Ejecuto varias pruebas en el sensor en el que mediremos el consumo total de energía.</style>\n",
    "* <span style=\"color:orange\">En cada período de prueba, conocemos la duración de cada componente de hardware.  \n",
    "Por ejemplo,  \n",
    "duracion1 = {radio: 0.2s, sensor: 0.5s, memoria: 1.0s, CPU: 1.0s}  \n",
    "duracion2 = {radio: 0s, sensor: 0.1s, memoria: 0.2s, CPU: 0.5s}  \n",
    "duracion3 = {radio: 0.4s, sensor: 0s, memoria: 0.2s, CPU: 1.0s}</style>   \n",
    "* <span style=\"color:orange\">En cada período de prueba, conocemos la energía total consumida:</style>  \n",
    "> <span style=\"color:orange\">β1 = 1J, β2 = 0.75J, β3 = 0.6J</style>\n",
    "* <span style=\"color:orange\">Uso los datos para calcular la tasa de consumo de enegía de cada componente de hardware.</style>\n",
    "\n",
    "Antes de ponernos manos a la obra, vamos a definir la **ecuación lineal**.  \n",
    "Una ecuación lineal es una ecuación de la forma:  \n",
    "> **a** $\\cdot$ **x** = $\\beta$  \n",
    "\n",
    "donde **a** es un vector, $\\beta$ es un escalar y **x** es un vector de variables.  \n",
    "\n",
    "<span style=\"color:orange\"> Volvemos a nuestro sensor.  \n",
    "Tenemos ecuaciones lineales de la forma:</style>  \n",
    "> <span style=\"color:orange\"> **duracion<sub>i</sub>** $\\cdot$ **consumo** = **$\\beta$**<sub>i</sub> </style>  \n",
    "\n",
    "<span style=\"color:orange\"> donde el vector **consumo** es un vector de variables.  \n",
    "**Preguntas:**  </style> \n",
    "* <span style=\"color:orange\">¿Podemos encontrar valores para las entradas de la tasa de consumo de energía de modo que las ecuaciones se mantengan?</style>\n",
    "* <span style=\"color:orange\">Si lo hacemos, ¿esto garantiza que hemos calculado correctamente el consumo actual para cada componente?</style>\n",
    "* <span style=\"color:orange\"> ¿Existe un algoritmo para resolver un sistema de ecuaciones lineales?</style>\n",
    "> <span style=\"color:orange\">a<sub>1</sub> · x = β<sub>1</sub></style>  \n",
    "> <span style=\"color:orange\">a<sub>2</sub> · x = β<sub>2</sub></style>  \n",
    "> <span style=\"color:orange\">...</style>  \n",
    "> <span style=\"color:orange\">a<sub>n</sub> · x = β<sub>n</sub></style>  \n",
    "* <span style=\"color:orange\">¿Cómo podemos saber si solo hay una solución?</style>\n",
    "* <span style=\"color:orange\">¿Qué pasa si nuestros datos son un poco inexactos?</style>\n",
    "\n",
    "<span style=\"color:orange\">Estas preguntas sustentan gran parte de los contenidos que veremos en temas posteriores (matrices).</style>  \n",
    "  \n",
    "  \n",
    "** Medición de similitud**  \n",
    "Podemos usar el producto escalar para medir la similitud entre vectores.  \n",
    "<span style=\"color:orange\"> Ejemplo: Comparar votos.  </style>\n",
    "\n",
    "<img src=\"Images/votos.jpg\" style=\"width: 300px;\"/> \n",
    "\n",
    "<span style=\"color:orange\">Vamos a representar la votación de cada senador como un vector:</style>\n",
    "> <span style=\"color:orange\"> [+1, +1, 0, -1]  </style>\n",
    "\n",
    "<span style=\"color:orange\"> donde +1 = A favor, 0 = Se abstiene, -1 = En contra  \n",
    "Imaginemos que tenemos dos senadores y sus votaciones son:</style>\n",
    "> <span style=\"color:orange\"> senador1 = [+1, +1, 0, -1]  </style>  \n",
    "> <span style=\"color:orange\"> senador2= [-1, -1, -1, +1]  </style>\n",
    "\n",
    "<span style=\"color:orange\"> Como sucede en la vida real, el resultado de la sesión será positivo si los dos senadores están de acuerdo y negativo si no lo están.  \n",
    "en este caso, ¿qué pensáis? ¿están de acuerdo o no?  \n",
    "Si observamos los vectores vemos que no están de acuerdo en nada, pero claro, no siempre tendremos vectores tan sencillitos.  \n",
    "¿Cómo lo podemos ver de un modo más genérico?  \n",
    "Usando el producto escalar.</style>"
   ]
  },
  {
   "cell_type": "code",
   "execution_count": 12,
   "metadata": {},
   "outputs": [
    {
     "data": {
      "text/plain": [
       "-3"
      ]
     },
     "execution_count": 12,
     "metadata": {},
     "output_type": "execute_result"
    }
   ],
   "source": [
    "producto_escalar([+1,+1,0,-1],[-1,-1,-1,+1])"
   ]
  },
  {
   "cell_type": "markdown",
   "metadata": {},
   "source": [
    "<span style=\"color:orange\"> Como podemos ver sale un número \"tremendamente\" negativo (ya que tenemos 4 votaciones), lo que significa que no están de acuerdo prácticamente en nada.</style> \n",
    "\n",
    "## Producto escalar en GF(2)\n",
    "\n",
    "<span style=\"color:orange\"> Ejemplo: Sistema de autenticación simple.</style>   \n",
    "\n",
    "<img src=\"Images/iStock_000017045657Large1.jpg\" style=\"width: 300px;\"/> \n",
    "\n",
    "* <span style=\"color:orange\"> La forma habitual de iniciar sesión en una computadora con una contraseña está sujeta a la piratería por escuchas.</style>   \n",
    "* <span style=\"color:orange\">Alternativa: sistema de desafío-respuesta.</style>   \n",
    "* <span style=\"color:orange\">El ordenador hace una pregunta sobre la contraseña.</style>   \n",
    "* <span style=\"color:orange\">El humano envía la respuesta.</style>   \n",
    "* <span style=\"color:orange\">Repito varias veces antes de que el ser humano se considere autenticado.</style>   \n",
    "* <span style=\"color:orange\">Es un sistema potencialmente seguro contra un espía, ya que probablemente la próxima vez involucre\n",
    "preguntas diferentes.</style>  \n",
    "\n",
    "<span style=\"color:orange\">Vamos a montar un sistema de desafío-respuesta simple basado en el producto de puntos de vectores sobre GF (2):</style>  \n",
    "* <span style=\"color:orange\"> La contraseña va a ser un n-vector **x**.</style>   \n",
    "* <span style=\"color:orange\"> El ordenador envía n-vector aleatorio **a**.</style>   \n",
    "* <span style=\"color:orange\"> El humano devuelve **a** · **x**.</style>   \n",
    "\n",
    "<span style=\"color:orange\">Supongamos que la password es **x**=10101.  \n",
    "El ordenador envía al humano la secuencia 11011.  \n",
    "¿Qué debería introducir como respuesta la persona?</style> "
   ]
  },
  {
   "cell_type": "code",
   "execution_count": 13,
   "metadata": {},
   "outputs": [
    {
     "data": {
      "text/plain": [
       "0"
      ]
     },
     "execution_count": 13,
     "metadata": {},
     "output_type": "execute_result"
    }
   ],
   "source": [
    "producto_escalar([1,0,1,0,1],[1,1,0,1,1])%2"
   ]
  },
  {
   "cell_type": "markdown",
   "metadata": {},
   "source": [
    "<span style=\"color:orange\">Luego la persona debería introducir 0 como respuesta.  </style> \n",
    "\n",
    "<span style=\"color:orange\">¿Este sistema es infranqueable?  \n",
    "Ojalá...  </style> \n",
    "  \n",
    "<span style=\"color:orange\">Vamos a hacer de hackers por un momento.  </style> \n",
    "\n",
    "<img src=\"Images/los-hackers-son-necesarios.jpg\" style=\"width: 300px;\"/> \n",
    "\n",
    "<span style=\"color:orange\">Observamos una secuencia de vectores de desafío a<sub>1</sub>, a<sub>2</sub>,..., a<sub>n</sub> y las correspondientes respuestas $\\beta$<sub>1</sub>, $\\beta$<sub>2</sub>,...$\\beta$<sub>n</sub>  \n",
    "¿Podemos encontrar la contraseña?  \n",
    "Sabemos que se deben cumplir las ecuaciones lineales:  </style>    \n",
    "><span style=\"color:orange\"> a<sub>1</sub> $\\cdot$ x = $\\beta$<sub>1</sub>  </style>   \n",
    "><span style=\"color:orange\"> a<sub>2</sub> $\\cdot$ x = $\\beta$<sub>2</sub>  </style>    \n",
    "> ...   \n",
    "><span style=\"color:orange\"> a<sub>n</sub> $\\cdot$ x = $\\beta$<sub>n</sub>  </style>  \n",
    "\n",
    "<span style=\"color:orange\"> Preguntas:</style>   \n",
    "* <span style=\"color:orange\">¿Cuántas soluciones hay?</style> \n",
    "* <span style=\"color:orange\">¿Cómo calcularlas?</style> \n",
    "\n",
    "<span style=\"color:orange\">Las respuestas vendrán más tarde.  </style>  \n",
    "  \n",
    "<span style=\"color:orange\">¿Se os ocurre otro modo de hackearlo?  \n",
    "</style> \n",
    "\n",
    "Recordemos lo primero las **propiedades algebraicas del producto escalar**:  \n",
    "* **Propiedad conmutativa**: **u** · **v** = **v** · **u**  \n",
    "* **Homogeneidad**: (α u) · v = α (u · v)  \n",
    "* **Propiedad distributiva**: (v<sub>1</sub> + v<sub>2</sub>) · **x** = v<sub>1</sub> · **x** + v<sub>2</sub> · **x**  \n",
    "\n",
    "<span style=\"color:orange\"> En nuestro ejemplo:  \n",
    "El ordenador nos envía el desafío 01011 y averiguamos que la respuesta es 1 (bien porque acertamos o bien porque fallamos).  \n",
    "El ordenador nos envía otro desafío: 11110, cuya respuesta es 0.  \n",
    "(01011 + 11110) · x = 01011 · x + 11110 · x  \n",
    "= 1 + 0  \n",
    "= 1  \n",
    "Para el desafío 01011 + 11110=10101, podemos extraer la respuesta correcta.  \n",
    "Expresado de un modo más general: Si un vector satsface las ecuaciones:</style>\n",
    "> <span style=\"color:orange\">a<sub>1</sub> · x = β<sub>1</sub></style>  \n",
    "> <span style=\"color:orange\">a<sub>2</sub> · x = β<sub>2</sub></style>  \n",
    "> <span style=\"color:orange\">...</style>  \n",
    "> <span style=\"color:orange\">a<sub>n</sub> · x = β<sub>n</sub></style>  \n",
    "\n",
    "<span style=\"color:orange\">¿cuántas más ecuaciones satisface este mismo vector?  \n",
    "La respuesta la veremos más adelante.  </style>"
   ]
  },
  {
   "cell_type": "markdown",
   "metadata": {},
   "source": [
    "<span style=\"color:orange\"> Ejemplo:  Casa en llamas. \n",
    "\n",
    "<img src=\"Images/Casaenllamas.png\" style=\"width: 300px;\"/>\n",
    "\n",
    "Hay una casa en llamas ubicada en las coordenadas [2, 4].  \n",
    "Hay una calle cerca de la casa, que empieza en [0,0] y acaba en [6, 2].   \n",
    "El camión de bomberos tiene una manguera de 3.5 unidades de largo.  \n",
    "¿Será lo suficientemente larga para llegar hasta la casa?  \n",
    "Si podemos colocar el camión de bomberos en el punto más cercano a la casa, ¿será la distancia  lo suficientemente pequeña como para salvar la casa?  \n",
    "Nos enfrentamos a dos preguntas: </style> \n",
    "* <span style=\"color:orange\">¿Qué punto a lo largo de la calle está más cerca de la casa?</style>  \n",
    "* <span style=\"color:orange\">¿A qué distancia estaría de la casa?</style>  \n",
    "\n",
    "Definimos la **distancia** entre dos vectores **u** y **v** como la longitud de la diferencia **u** - **v**.  \n",
    "\n",
    "Esto significa que debemos definir la longitud de un vector.\n",
    "En lugar de usar el término \"longitud\" para vectores, generalmente usamos el término **norma**. La norma de un vector v se denota por $\\|v\\|$.  \n",
    "\n",
    "<img src=\"Images/4-sel-metodos-iterativos-17-638.jpg\" style=\"width: 300px;\"/>\n",
    "\n",
    "La norma de un vector cumple las siguientes propiedades:  \n",
    "* $\\|v\\|$ es un número real no negativo.  \n",
    "* $\\|v\\|$ = 0 $\\leftrightarrow$ **v**=0.   \n",
    "* Para cualquier escalar $\\alpha$, $\\|\\alpha\\cdot v\\|$ = $| \\alpha | \\cdot$ $\\|v\\|$.  \n",
    "* $\\|u+v\\|$ ≤ $\\|u\\|$ + $\\|v\\|$.  \n",
    "\n",
    "Una forma de definir la norma del vector es definir una operación en vectores llamada **producto interno**.  \n",
    "El producto interno de los vectores u y v se expresa como ⟨u, v⟩.  \n",
    "\n",
    "IMPORTANTE!!!!! No hay forma de definir el producto interno para GF(2) así que no más GF(2).  \n",
    "\n",
    "Para los números reales y los números complejos, tenemos cierta flexibilidad para definir el producto interno.  \n",
    "Esta flexibilidad se usa mucho, por ejemplo, en Machine Learning.  \n",
    "Una vez que hemos definido un producto interno, la norma de un vector **u** se define por:\n",
    "> $\\|u\\|$ = $\\sqrt{⟨u, u⟩}$  \n",
    "\n",
    "Nos vamos a centrar en $\\mathbb{R}$.  \n",
    "La norma en $\\mathbb{R}$ se puede ver como la longitud de su \"flecha\".  \n",
    "Para vectores sobre $\\mathbb{R}$, definimos el producto interno como el producto escalar:  \n",
    "> ⟨u, v⟩ = u · v  \n",
    "\n",
    "** Propiedades del producto interno para vectores de $\\mathbb{R}$**\n",
    "\n",
    "* ⟨u+v,w⟩=⟨u,w⟩+⟨v,w⟩   \n",
    "* ⟨u,v⟩=⟨v,u⟩\n",
    "* ⟨αu,v⟩=α⟨u,v⟩  \n",
    "\n",
    "La norma es la longitud geométrica de la flecha.  \n",
    "\n",
    "<span style=\"color:orange\"> Ejemplo:  \n",
    "¿Cuál es la longitud del vector u = [u<sub>1</sub>, u<sub>2</sub>]?  \n",
    "Por el Teorema de Pitágoras:  \n",
    "para un triángulo rectángulo con longitudes laterales a, b, c, donde c es la longitud de la hipotenusa:</style>   \n",
    "> <span style=\"color:orange\">a<sup>2</sup> + b<sup>2</sup> = c<sup>2</sup></style>\n",
    "\n",
    "<span style=\"color:orange\">Podemos usar esta ecuación para calcular la longitud de u:\n",
    "(longitud de u) <sup>2</sup> = u<sub>1</sub><sup>2</sup> + u<sub>2</sub><sup>2</sup>\n",
    "</style>  \n",
    "\n",
    "**Teorema de Pitágoras para vectores**  \n",
    "Si los vectores u y v sobre los reales son ortogonales entonces $\\|u+v\\|$ <sup>2</sup> = $\\|u\\|$ <sup>2</sup> + $\\|v\\|$ <sup>2</sup>  \n",
    "\n",
    "** Propiedades de la ortogonalidad**  \n",
    "* Si u es ortogonal a v, entonces u es ortogonal a α v para cada escalar α.  \n",
    "* Si u y v son ambos ortogonales a w, u + v es ortogonal a w.  \n",
    "\n",
    "<span style=\"color:orange\"> Ejemplo:  \n",
    "[1,2]·[2,−1]=0. Luego, [1,2]·[20,−10]=0  </style>  \n",
    "\n",
    "<span style=\"color:orange\"> Ejemplo:  \n",
    "[1,2,1]·[1,−1,1] = 0.  \n",
    "[0,1,1]·[1,−1,1] = 0.  \n",
    "Luego: ([1,2,1]+[0,1,1])·[1,−1,1] = 0  </style>   \n",
    "\n",
    "<span style=\"color:orange\"> Ejemplo:  Casa en llamas.  \n",
    "Volvamos al ejemplo con el que empezamos el tema.  \n",
    "Sea **b** un vector.  \n",
    "Sea **a** sea un vector distinto de cero⇒El conjunto {αa: α∈R} es una línea L  \n",
    "Sea p ser el punto en la línea L tal que **b-p** es ortogonal a **a**.  \n",
    "Entonces p es el punto en la línea que está más cerca de b.</style>  \n",
    "\n",
    "**Descomposición de b en componentes paralelos y perpendiculares**  \n",
    "Para cualquier vector **b** y cualquier vector **a**, podemos definir los vectores b<sup>$\\|$a</sup> y b<sup>⊥a</sup> como la proyección de **b** en Gen{**a**} y la proyección de **b** ortogonal a **a** si se cumplen las dos siguientes condiciones:  \n",
    "* Hay un escalar σ ∈ R tal que b<sup>$\\|$a</sup> = σa\n",
    "* b<sup>⊥a</sup> es ortogonal a a  \n",
    "\n",
    "σ= $\\frac{⟨b,a⟩}{⟨a,a⟩}$.  \n",
    "\n",
    "<img src=\"Images/proyecciones.jpg\" style=\"width: 700px;\"/> \n",
    "\n",
    "¿Cómo lo haríamos en Python?  \n",
    "Vamos a definir b<sup>$\\|$a</sup>.  \n",
    "\n"
   ]
  },
  {
   "cell_type": "code",
   "execution_count": 14,
   "metadata": {},
   "outputs": [],
   "source": [
    "def proyeccion_paralela(b, a): \n",
    "    return mult_vector_escalar(producto_escalar(b,a)/producto_escalar(a,a),a)"
   ]
  },
  {
   "cell_type": "markdown",
   "metadata": {},
   "source": [
    "Si **a**=0, ⟨a,a⟩=0, por lo que modificamos un poco el procedimiento."
   ]
  },
  {
   "cell_type": "code",
   "execution_count": 15,
   "metadata": {},
   "outputs": [],
   "source": [
    "def proyeccion_paralela(b, a): \n",
    "    return mult_vector_escalar((producto_escalar(b,a)/producto_escalar(a,a) if producto_escalar(a,a) != 0 else 0),a)"
   ]
  },
  {
   "cell_type": "markdown",
   "metadata": {},
   "source": [
    "Mejor:"
   ]
  },
  {
   "cell_type": "code",
   "execution_count": 16,
   "metadata": {},
   "outputs": [],
   "source": [
    "def proyeccion_paralela(b, a):\n",
    " sigma = producto_escalar(b,a)/producto_escalar(a,a) if producto_escalar(a,a) != 0 else 0\n",
    " return mult_vector_escalar(sigma,a) "
   ]
  },
  {
   "cell_type": "markdown",
   "metadata": {},
   "source": [
    "A menudo, el vector a no será realmente un vector cero, pero prácticamente será cero.  \n",
    "Si las entradas de a son minúsculas, el procedimiento debería tratar a a como un vector cero: sigma debería tener asignado cero.  \n",
    "Consideraremos que a es un vector cero si su norma al cuadrado no es más que 10<sup>-20</sup>.  "
   ]
  },
  {
   "cell_type": "code",
   "execution_count": 17,
   "metadata": {},
   "outputs": [],
   "source": [
    "def proyeccion_paralela(b,a):\n",
    "    sigma = producto_escalar(b,a)/producto_escalar(a,a) if producto_escalar(a,a) > 10^-20 else 0\n",
    "    return mult_vector_escalar(sigma,a) "
   ]
  },
  {
   "cell_type": "markdown",
   "metadata": {},
   "source": [
    "¿Cómo calcularíamos la proyección ortogonal?  "
   ]
  },
  {
   "cell_type": "code",
   "execution_count": 18,
   "metadata": {},
   "outputs": [],
   "source": [
    "def proyeccion_ortogonal(b, a):\n",
    "    return addn(b, mult_vector_escalar(-1,proyeccion_paralela(b, a)))"
   ]
  },
  {
   "cell_type": "markdown",
   "metadata": {},
   "source": [
    "<span style=\"color:orange\"> Ejemplo:  Casa en llamas.  \n",
    "Volvamos al ejemplo.  \n",
    "a = [6, 2] y b = [2, 4].  \n",
    "El punto más cercano en la línea {αa: α ∈ R} es el punto b<sup>$\\|$a</sup> = σ a donde σ = $\\frac{a \\cdot b}{a \\cdot a}=\\frac{6 \\cdot 2 + 2 \\cdot 4}{6 \\cdot 6 + 2 \\cdot 2}=\\frac{20}{40}=\\frac{1}{2}$.  \n",
    "Luego el punto más cercano a **b** es $\\frac{1}{2} \\cdot$ [6,2]=[3,1].  \n",
    "La distancia a b es $\\|$b<sup>⊥a</sup>$\\|$=$\\|$[2,4]−[3,1]$\\|$=$\\|$[−1,3]$\\|$= $\\sqrt{10} <3.5$  \n",
    "Por lo tanto, la casa se salva.  \n",
    "</style>   \n",
    "\n",
    "Esta noción de \"la mejor aproximación\" aparece una y otra vez:\n",
    "* En mínimos cuadrados (una técnica fundamental de análisis de datos). \n",
    "* En compresión de imagen  \n",
    "* En el análisis de componentes principales (otra técnica de análisis de datos).  \n",
    "* En el análisis semántico latente (una técnica de recuperación de información).  \n",
    "\n",
    "<span style=\"color:orange\"> Ejemplo:  Casa en llamas.  \n",
    "Intentemos hacerlo con Python\n",
    "</style>   "
   ]
  },
  {
   "cell_type": "code",
   "execution_count": 31,
   "metadata": {},
   "outputs": [
    {
     "name": "stdout",
     "output_type": "stream",
     "text": [
      "[3.0, 1.0]\n",
      "El punto de la calle más cercano a la casa es: [3.0, 1.0]\n",
      "[-1.0, 3.0]\n",
      "3.1622776601683795\n",
      "La distancia de la casa al punto más cercano es 3.1622776601683795, que es menor de 3.5\n",
      "La distancia de la casa al punto más cercano es 3.16, que es menor de 3.5\n"
     ]
    }
   ],
   "source": [
    "import numpy as np\n",
    "proy_paralela = proyeccion_paralela([2,4], [6,2])\n",
    "print(proy_paralela)\n",
    "# Para mostrarlo de un modo más agradable. Usamos el método \"format\"\n",
    "print(\"El punto de la calle más cercano a la casa es: {}\".format(proy_paralela))\n",
    "# Ahora la proyección ortogonal\n",
    "proy_ort = proyeccion_ortogonal([2,4], [6,2])\n",
    "print(proy_ort)\n",
    "# Para calcular la norma del vector ortogonal\n",
    "norma=np.linalg.norm(proy_ort)\n",
    "print(norma)\n",
    "# Usando format de nuevo\n",
    "print(\"La distancia de la casa al punto más cercano es {}, que es menor de 3.5\".format(norma))\n",
    "# Para truncar los decimales a 2 tenemos que decirle que al argumento 0 de nuestra lista (sólo tenemos uno)\n",
    "# se quede con dos decimales\n",
    "print(\"La distancia de la casa al punto más cercano es {0:.2f}, que es menor de 3.5\".format(np.linalg.norm(proy_ort)))"
   ]
  },
  {
   "cell_type": "markdown",
   "metadata": {},
   "source": [
    "## Producto interno de vectores (Inner product)  \n",
    "\n",
    "(Como recordatorio, que ahora mismo muchos no lo recordarán de hace unas páginas.)  \n",
    "\n",
    "Sean **u** and **v** dos D-vectores. Se define el **producto interno** como **u**<sup>T</sup> $\\cdot$ **v**.  \n",
    "\n",
    "<span style=\"color:orange\"> Ejemplo: \n",
    "Vamos a realizar el producto interno de los vectores (1,2,3) y (3,2,1).</style> \n",
    "\n"
   ]
  },
  {
   "cell_type": "code",
   "execution_count": 5,
   "metadata": {},
   "outputs": [
    {
     "data": {
      "text/plain": [
       "matrix([[10]])"
      ]
     },
     "execution_count": 5,
     "metadata": {},
     "output_type": "execute_result"
    }
   ],
   "source": [
    "import numpy as np\n",
    "u=np.matrix([1,2,3])\n",
    "v=np.matrix([[3,2,1]])\n",
    "u*np.transpose(v)"
   ]
  },
  {
   "cell_type": "markdown",
   "metadata": {},
   "source": [
    "## Producto externo de vectores (Outer product). \n",
    "\n",
    "Sean **u** and **v** dos D-vectores. Se define el **producto externo** como **u** $\\cdot$ **v**<sup>T</sup>.  \n",
    "\n",
    "<span style=\"color:orange\"> Ejemplo: \n",
    "Vamos a realizar el producto externo de los vectores $\n",
    "  \\left[ {\\begin{array}{cc}\n",
    "   1  \\\\\n",
    "   2   \\\\\n",
    "   3 \\\\\n",
    "  \\end{array} } \\right]\n",
    "$ y $\\left[ {\\begin{array}{cc}\n",
    "   3  \\\\\n",
    "   2   \\\\\n",
    "   1 \\\\\n",
    "  \\end{array} } \\right]$.</style> "
   ]
  },
  {
   "cell_type": "code",
   "execution_count": 6,
   "metadata": {},
   "outputs": [
    {
     "data": {
      "text/plain": [
       "matrix([[3, 2, 1],\n",
       "        [6, 4, 2],\n",
       "        [9, 6, 3]])"
      ]
     },
     "execution_count": 6,
     "metadata": {},
     "output_type": "execute_result"
    }
   ],
   "source": [
    "import numpy as np\n",
    "u=np.matrix([1,2,3])\n",
    "v=np.matrix([[3,2,1]])\n",
    "np.transpose(u)*v"
   ]
  },
  {
   "cell_type": "markdown",
   "metadata": {},
   "source": [
    "## Producto vectorial\n",
    "\n",
    "El **producto vectorial** es una operación donde al multiplicar dos vectores se obtiene otro vector, con la característica de ser perpendicular a ambos.  \n",
    "\n",
    "Además, el módulo del producto vectorial es igual al área del paralelogramos de lado asociado a ambos vectores.\n",
    "\n",
    "<img src=\"Images/producto_vectorial.png\" style=\"width: 300px;\"/> \n",
    "\n",
    "\n",
    "$|u\\times v|$ = $| u | \\cdot$ $|v|$ $\\cdot sen(u,v)$  \n",
    "\n",
    "Para su cálculo, hace falta conocimiento de determinantes. Volveremos a ello más adelante."
   ]
  }
 ],
 "metadata": {
  "kernelspec": {
   "display_name": "Python 3",
   "language": "python",
   "name": "python3"
  },
  "language_info": {
   "codemirror_mode": {
    "name": "ipython",
    "version": 3
   },
   "file_extension": ".py",
   "mimetype": "text/x-python",
   "name": "python",
   "nbconvert_exporter": "python",
   "pygments_lexer": "ipython3",
   "version": "3.7.4"
  }
 },
 "nbformat": 4,
 "nbformat_minor": 2
}
