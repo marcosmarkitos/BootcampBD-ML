{
 "cells": [
  {
   "cell_type": "markdown",
   "metadata": {},
   "source": [
    "# 6. Espacios vectoriales"
   ]
  },
  {
   "cell_type": "markdown",
   "metadata": {},
   "source": [
    "# Espacios vectoriales\n",
    "\n",
    "Un **espacio vectorial** es una terna (V, +, ·), donde V es un conjunto no vacío y + y · son dos operaciones del tipo:\n",
    "* + : V × V → V (*suma*)   \n",
    "* · : K × V → V (*producto por un escalar*) \n",
    "\n",
    "y con las siguientes propiedades: \n",
    "> Para +: \n",
    ">> *1. Propiedad asociativa*: u+(v+w)=(u+v)+w,∀u,v,w∈V  \n",
    ">> *2. Propiedad conmutativa*: u+v=v+u,∀u,v∈V  \n",
    ">> *3. Existencia del elemento neutro*: Existe e∈V tal que e+v=v+e=v,∀v∈V  \n",
    ">> *4. Existencia del elemento opuesto*: Para cada v∈V existe w tal que v+w=w+v=e  \n",
    "\n",
    "> Para $\\cdot$ : \n",
    ">> *1. Propiedad asociativa*: λ $\\cdot$(μ$\\cdot$v) = (λ$\\cdot$μ) $\\cdot$v, ∀v ∈ V , ∀λ, μ ∈ K  \n",
    ">> *2. Existencia del elemento neutro*: Existe e∈K tal que e $\\cdot$ v=v $\\cdot$ e=v ,∀v∈V  \n",
    ">> *3. Propiedad distributiva del producto respecto la suma de vectores*: λ $\\cdot$ (u+v) = λ $\\cdot$ u+λ $\\cdot$ v, ∀u,v ∈ V y ∀λ ∈ K    \n",
    ">> *4. Propiedad distributiva del producto respecto la suma de escalares*: (λ+μ) $\\cdot$ u = λ $\\cdot$ v+μ $\\cdot$ u, ∀u ∈ V y ∀λ,μ ∈ K\n"
   ]
  },
  {
   "cell_type": "markdown",
   "metadata": {},
   "source": [
    "<span style=\"color:orange\"> Ejemplo: El modelo de color RGB</style>   \n",
    "<img src=\"Images/colores.jpg\" style=\"width: 300px;\"/>  \n",
    "\n",
    "<span style=\"color:orange\"> Ejemplo: Imagen multicolor</style>   \n",
    "<img src=\"Images/patchwork-calaveras-multicolor-fondo-negro.jpg\" style=\"width: 200px;\"/> \n",
    "\n",
    "\n",
    "<span style=\"color:orange\"> Ejemplo: Autorretrato de Escher</style>   \n",
    "<img src=\"Images/escher.jpg\" style=\"width: 200px;\"/> "
   ]
  },
  {
   "cell_type": "markdown",
   "metadata": {},
   "source": [
    "## Combinaciones lineales\n",
    "\n",
    "Dados los vectores v<sub>1</sub>, v<sub>2</sub>, ... , v<sub>j</sub> en $\\mathbb{K}$ y los escalares c<sub>1</sub>, c<sub>2</sub>, ... , c<sub>j</sub>, el vector y definido por\n",
    "> y=c<sub>1</sub>v<sub>1</sub> +···+c<sub>j</sub>v<sub>j</sub>  \n",
    "\n",
    "se llama **combinación lineal** de v<sub>1</sub>, v<sub>2</sub>, ... , v<sub>j</sub> con coeficientes c<sub>1</sub>, c<sub>2</sub>, ... , c<sub>j</sub>.  \n",
    "En una combinación lineal, los coeficientes pueden ser cualesquiera números reales, incluso el cero.   \n",
    "\n",
    "<span style=\"color:orange\"> Ejemplo:  \n",
    "Mezcla de colores\n",
    "</style> \n",
    "\n"
   ]
  },
  {
   "cell_type": "markdown",
   "metadata": {},
   "source": [
    "<span style=\"color:orange\"> Ejemplo:  \n",
    "$\\sqrt{3} \\cdot$ **v**<sub>1</sub>+**v**<sub>2</sub> es una combinación lineal de los vectores **v**<sub>1</sub> y **v**<sub>2</sub>.   \n",
    "Otras combinaciones lineales de los mismos vectores serían:\n",
    "$\\frac{1}{2}\\cdot$**v**<sub>1</sub>=$\\frac{1}{2}\\cdot$**v**<sub>1</sub>+0$\\cdot$**v**<sub>2</sub>  \n",
    "</style> "
   ]
  },
  {
   "cell_type": "markdown",
   "metadata": {},
   "source": [
    "<span style=\"color:orange\"> Ejemplo: Espionaje industrial  \n",
    "Supongamos que una empresa fabrica 4 productos usando para ello varios recursos en distinta cantidad:</style> \n",
    "\n",
    "|   |   |   |   |   |             \n",
    "| -- | -- | -- |  -- |  -- |  \n",
    "|   |  metal | plástico | agua | electricidad |               \n",
    "| tamagotchi | 1.3  | 0.2  | 0.8  | 0.4 |        \n",
    "| hula hoop  | 0 | 1.5 | 0.4 | 0.3 |         \n",
    "| gusano espiral  | 0.25 | 0 | 0.2  | 0.7 |\n",
    "| blandi-blub  | 0 | 0.3 | 0.7 | 0.5 |\n",
    "\n",
    "<span style=\"color:orange\"> Para hacer un tamagotchi:  **v**<sub>1</sub>={metal:1.3, plastico:0.2, agua:0.8, electricidad:0.4}</style>   \n",
    "<img src=\"Images/Tamagotchi-andro-700x500.jpg\" style=\"width: 200px;\"/>\n",
    "\n",
    "<span style=\"color:orange\"> Para hacer un hula hoop:  **v**<sub>2</sub>={metal:0, plastico:1.5, agua:0.4, electricidad:0.3}</style>   \n",
    "<img src=\"Images/hula-hoop-fold-a-hoop-81570.png\" style=\"width: 200px;\"/>\n",
    "\n",
    "<span style=\"color:orange\"> Para hacer un gusano espiral:  **v**<sub>3</sub>={metal:0.25, plastico:0, agua:0.2, electricidad:0.7}</style>     \n",
    "<img src=\"Images/resorte.jpg\" style=\"width: 200px;\"/>\n",
    "\n",
    "<span style=\"color:orange\"> Para hacer un blandi-blub:  **v**<sub>4</sub>={metal:0, plastico:0.3, agua:0.7, electricidad:0.5}</style>      \n",
    "<img src=\"Images/blandiblub.jpg\" style=\"width: 200px;\"/>\n",
    " \n",
    "<span style=\"color:orange\">Supongamos que la empresa fabrica $\\alpha$<sub>j</sub> unidades de cada uno de ellos. el total de recursos utilizados es:</style>     \n",
    "> <span style=\"color:orange\">**b**=$\\alpha$<sub>1</sub>$\\cdot$**v**<sub>1</sub> + $\\alpha$<sub>2</sub>$\\cdot$**v**<sub>2</sub> + $\\alpha$<sub>3</sub>$\\cdot$**v**<sub>3</sub> + $\\alpha$<sub>4</sub>$\\cdot$**v**<sub>4</sub>   </style> \n",
    "\n",
    "<span style=\"color:orange\">Supongamos que somos un espía infiltrado en la empresa.  \n",
    "Queremos averiguar el número de tamagotchis que fabrican.  \n",
    "Si conseguimos saber cuánto metal, plástico, agua y electricidad consumen, tendremos el total de recursos usados, es decir, **b**:  \n",
    "> <span style=\"color:orange\">**b**=$\\alpha$<sub>1</sub>$\\cdot$**v**<sub>1</sub> + $\\alpha$<sub>2</sub>$\\cdot$**v**<sub>2</sub> + $\\alpha$<sub>3</sub>$\\cdot$**v**<sub>3</sub> + $\\alpha$<sub>4</sub>$\\cdot$**v**<sub>4</sub>   </style>  \n",
    "    \n",
    "> <span style=\"color:orange\">Si lo desarrollamos un poco:   </style>   \n",
    "> <span style=\"color:orange\">**(b<sub>1</sub>,b<sub>2</sub>,b<sub>3</sub>,b<sub>4</sub>)**=$\\alpha$<sub>1</sub>$\\cdot$**(v<sub>11</sub>,v<sub>12</sub>,v<sub>13</sub>,v<sub>14</sub>)** + $\\alpha$<sub>2</sub>$\\cdot$**(v<sub>21</sub>,v<sub>22</sub>,v<sub>23</sub>,v<sub>24</sub>)**+ $\\alpha$<sub>3</sub>$\\cdot$**(v<sub>31</sub>,v<sub>32</sub>,v<sub>33</sub>,v<sub>34</sub>)**+ $\\alpha$<sub>4</sub>$\\cdot$**(v<sub>41</sub>,v<sub>42</sub>,v<sub>43</sub>,v<sub>44</sub>)**  </style>   \n",
    "\n",
    "> <span style=\"color:orange\">Separado en ecuaciones independientes:   </style>  \n",
    "> <span style=\"color:orange\">b<sub>1</sub>=$\\alpha$<sub>1</sub>$\\cdot$v<sub>11</sub> + $\\alpha$<sub>2</sub>$\\cdot$v<sub>21</sub>+ $\\alpha$<sub>3</sub>$\\cdot$v<sub>31</sub>+ $\\alpha$<sub>4</sub>$\\cdot$v<sub>41</sub>  </style>   \n",
    "> <span style=\"color:orange\">b<sub>2</sub>=$\\alpha$<sub>1</sub>$\\cdot$v<sub>12</sub> + $\\alpha$<sub>2</sub>$\\cdot$v<sub>22</sub>+ $\\alpha$<sub>3</sub>$\\cdot$v<sub>32</sub>+ $\\alpha$<sub>4</sub>$\\cdot$v<sub>42</sub>  </style>   \n",
    "> <span style=\"color:orange\">b<sub>3</sub>=$\\alpha$<sub>1</sub>$\\cdot$v<sub>13</sub> + $\\alpha$<sub>2</sub>$\\cdot$v<sub>23</sub>+ $\\alpha$<sub>3</sub>$\\cdot$v<sub>33</sub>+ $\\alpha$<sub>4</sub>$\\cdot$v<sub>43</sub>  </style>   \n",
    "> <span style=\"color:orange\">b<sub>4</sub>=$\\alpha$<sub>1</sub>$\\cdot$v<sub>14</sub> + $\\alpha$<sub>2</sub>$\\cdot$v<sub>24</sub>+ $\\alpha$<sub>3</sub>$\\cdot$v<sub>34</sub>+ $\\alpha$<sub>4</sub>$\\cdot$v<sub>44</sub>  </style>   \n",
    "\n",
    "<span style=\"color:orange\">¿Sería suficiente para nuestro objetivo? ¿Hay una única solución?  \n",
    "¿Qué pensais?</style>   \n",
    "\n",
    "Aunque lo veremos más adelante en detalle:\n",
    "** Teorema de Rouché-Fröbenius (versión no formal)**  \n",
    "Según el teorema de Rouché-Fröbenius, la condición necesaria y suficiente para que un sistema de m ecuaciones lineales con n incógnitas tenga solución es que el rango de la matriz de los coeficientes $\\alpha$<sub>j</sub> sea igual al rango de la matriz ampliada con la columna del vector **b**.  \n",
    "\n",
    "<span style=\"color:orange\"> Luego la respuesta es que sí, pero no podemos confirmar que sea única (de momento...).</style>  \n",
    "\n"
   ]
  },
  {
   "cell_type": "markdown",
   "metadata": {},
   "source": [
    "## Dependencia lineal de vectores\n",
    "\n",
    "Se dice que los vectores v<sub>1</sub>,... , v<sub>n</sub> son **linealmente dependientes** si el vector cero se puede escribir como una combinación lineal no trivial de los vectores:  \n",
    "> **0** = α<sub>1</sub>**v<sub>1</sub>** + ··· + α<sub>n</sub>**v<sub>n</sub>**\n",
    "\n",
    "En este caso, nos referimos a la combinación lineal como una dependencia lineal en v<sub>1</sub>,... , v<sub>n</sub>.\n",
    "Por otro lado, si la única combinación lineal que iguala el vector cero es la combinación lineal trivial, decimos v<sub>1</sub>,... , v<sub>n</sub> son **linealmente independientes**.  \n",
    "\n",
    "<span style=\"color:orange\"> Ejemplo:  \n",
    "¿Los vectores [1, 0, 0], [0, 2, 0] y [2, 4, 0] son linealmente dependientes?</style>  "
   ]
  },
  {
   "cell_type": "code",
   "execution_count": 2,
   "metadata": {},
   "outputs": [
    {
     "data": {
      "text/plain": [
       "{y: -2*z, x: -2*z}"
      ]
     },
     "execution_count": 2,
     "metadata": {},
     "output_type": "execute_result"
    }
   ],
   "source": [
    "import sympy as sp\n",
    "\n",
    "x=sp.Symbol('x')\n",
    "y=sp.Symbol('y')\n",
    "z=sp.Symbol('z')\n",
    "\n",
    "resultado=sp.solve([x+2*z,2*y+4*z,0],[x,y,z])\n",
    "resultado\n",
    "#como tiene solución (infinitas) son linealmente dependientes"
   ]
  },
  {
   "cell_type": "markdown",
   "metadata": {},
   "source": [
    "<span style=\"color:orange\"> Ejemplo:  \n",
    "Los vectores [1, 0, 0], [0, 2, 0] y [0, 0, 4] son linealmente independientes.   \n",
    "Consideremos cualquier combinación lineal:  \n",
    "α<sub>1</sub> [1,0,0] + α<sub>2</sub> [0,2,0] + α<sub>3</sub> [0,0,4] =[α<sub>1</sub>, 2α<sub>2</sub>, 4α<sub>3</sub>]  \n",
    "Para obtener el vector [0,0,0], α<sub>1</sub> = α<sub>2</sub> = α<sub>3</sub> = 0  \n",
    "Es decir, la combinación lineal es trivial.  \n",
    "En Python</style>  "
   ]
  },
  {
   "cell_type": "code",
   "execution_count": 3,
   "metadata": {},
   "outputs": [
    {
     "data": {
      "text/plain": [
       "{z: 0, y: 0, x: 0}"
      ]
     },
     "execution_count": 3,
     "metadata": {},
     "output_type": "execute_result"
    }
   ],
   "source": [
    "resultado2=sp.solve([x,2*y,4*z],[x,y,z])\n",
    "resultado2\n",
    "#solo cumple la trivial, es decir, es linealmente independiente."
   ]
  },
  {
   "cell_type": "markdown",
   "metadata": {},
   "source": [
    "## Generadores\n",
    "\n",
    "Si v<sub>1</sub>, ..., v<sub>j</sub> están en $\\mathbb{V}$, entonces el conjunto de todas las combinaciones lineales de v<sub>1</sub>, ..., v<sub>j</sub> se denota mediante Gen{v<sub>1</sub>, ..., v<sub>j</sub>} y recibe el nombre de **subespacio de $\\mathbb{V}$ generado por v<sub>1</sub>, ..., v<sub>j</sub>**.   \n",
    "Dicho de otro modo, Gen{v<sub>1</sub>, ..., v<sub>j</sub>} es la colección de todos los vectores que pueden escribirse en la forma  \n",
    ">c<sub>1</sub>$\\cdot$v<sub>1</sub> + c<sub>2</sub>$\\cdot$v<sub>2</sub> + ... + c<sub>j</sub>$\\cdot$v<sub>j</sub> \n",
    "\n",
    "donde c<sub>1</sub>, . . . , c<sub>j</sub> son escalares.  \n",
    "Los vectores v<sub>1</sub>, ..., v<sub>j</sub> se denominan **generadores** de $\\mathbb{V}$.  \n",
    "\n",
    "<span style=\"color:orange\"> Ejemplo:  \n",
    "{[2,0,0],[0,2,0],[0,0,1]} es un conjunto de vectores generadores de $\\mathbb{R}$<sup>3</sup>, ya que dado cualquier vector [x,y,z] en $\\mathbb{R}$<sup>3</sup> puede ser escrito como  \n",
    "$\\frac{x}{2}\\cdot$[2,0,0]+$\\frac{y}{2}\\cdot$[0,2,0]+z$\\cdot$[0,0,1].  </style>  \n",
    "\n",
    "Antes de continuar, vamos a volver a definir la suma de vectores y multiplicación de un escalar por un vector del mismo modo que lo vimos en el tema 2:"
   ]
  },
  {
   "cell_type": "code",
   "execution_count": 4,
   "metadata": {},
   "outputs": [],
   "source": [
    "def addn(v,w):\n",
    "    return[v[i]+w[i] for i in range(len(v))]"
   ]
  },
  {
   "cell_type": "code",
   "execution_count": 5,
   "metadata": {},
   "outputs": [],
   "source": [
    "def mult_vector_escalar(alpha,v):\n",
    "    return [alpha*v[i] for i in range(len(v))]"
   ]
  },
  {
   "cell_type": "markdown",
   "metadata": {},
   "source": [
    "<span style=\"color:orange\"> Ejemplo:  \n",
    "¿Cuántos vectores hay en Gen{[1,1]} en GF(2)?  \n",
    "Las combinaciones lineales posibles son:  \n",
    "0$\\cdot$[1,1]</style>   "
   ]
  },
  {
   "cell_type": "code",
   "execution_count": 6,
   "metadata": {},
   "outputs": [
    {
     "data": {
      "text/plain": [
       "[0, 0]"
      ]
     },
     "execution_count": 6,
     "metadata": {},
     "output_type": "execute_result"
    }
   ],
   "source": [
    "mult_vector_escalar(0,[1,1])"
   ]
  },
  {
   "cell_type": "markdown",
   "metadata": {},
   "source": [
    "<span style=\"color:orange\"> \n",
    "1$\\cdot$[1,1]</style> "
   ]
  },
  {
   "cell_type": "code",
   "execution_count": 7,
   "metadata": {},
   "outputs": [
    {
     "data": {
      "text/plain": [
       "[1, 1]"
      ]
     },
     "execution_count": 7,
     "metadata": {},
     "output_type": "execute_result"
    }
   ],
   "source": [
    "mult_vector_escalar(1,[1,1])"
   ]
  },
  {
   "cell_type": "markdown",
   "metadata": {},
   "source": [
    "<span style=\"color:orange\"> \n",
    "Luego el subespacio generado por Gen{[1,1]} en GF(2) tiene dos vectores: {[0,0],[1,1]}  </style> \n",
    "    \n",
    "<span style=\"color:orange\">Ejemplo: ¿Cuántos vectores hay en Gen{}?  \n",
    "Unicamente el vector cero.  </style> \n",
    "\n",
    "<span style=\"color:orange\">Ejemplo: ¿Cuántos vectores hay en Gen{[2,3]} en $\\mathbb{R}$?  \n",
    "Un número infinito: {a$\\cdot$[2,3]: a $\\in$ $\\mathbb{R}$}  </style> \n",
    "\n",
    "<span style=\"color:orange\">Ejemplo:  \n",
    "¿Cuántos vectores hay en Gen{[1,1],[0,1]} en GF(2)?  \n",
    "Las combinaciones lineales posibles son:  \n",
    "0$\\cdot$[1,1]+0$\\cdot$[0,1]\n",
    "</style> "
   ]
  },
  {
   "cell_type": "code",
   "execution_count": 8,
   "metadata": {},
   "outputs": [
    {
     "data": {
      "text/plain": [
       "[0, 0]"
      ]
     },
     "execution_count": 8,
     "metadata": {},
     "output_type": "execute_result"
    }
   ],
   "source": [
    "addn(mult_vector_escalar(0,[1,1]),mult_vector_escalar(0,[0,1]))"
   ]
  },
  {
   "cell_type": "markdown",
   "metadata": {},
   "source": [
    "<span style=\"color:orange\">  \n",
    "0$\\cdot$[1,1]+1$\\cdot$[0,1]\n",
    "</style> "
   ]
  },
  {
   "cell_type": "code",
   "execution_count": 9,
   "metadata": {},
   "outputs": [
    {
     "data": {
      "text/plain": [
       "[0, 1]"
      ]
     },
     "execution_count": 9,
     "metadata": {},
     "output_type": "execute_result"
    }
   ],
   "source": [
    "addn(mult_vector_escalar(0,[1,1]),mult_vector_escalar(1,[0,1]))"
   ]
  },
  {
   "cell_type": "markdown",
   "metadata": {},
   "source": [
    "<span style=\"color:orange\">  \n",
    "1$\\cdot$[1,1]+0$\\cdot$[0,1]\n",
    "</style> "
   ]
  },
  {
   "cell_type": "code",
   "execution_count": 10,
   "metadata": {},
   "outputs": [
    {
     "data": {
      "text/plain": [
       "[1, 1]"
      ]
     },
     "execution_count": 10,
     "metadata": {},
     "output_type": "execute_result"
    }
   ],
   "source": [
    "addn(mult_vector_escalar(1,[1,1]),mult_vector_escalar(0,[0,1]))"
   ]
  },
  {
   "cell_type": "markdown",
   "metadata": {},
   "source": [
    "<span style=\"color:orange\">  \n",
    "1$\\cdot$[1,1]+1$\\cdot$[0,1]\n",
    "</style> "
   ]
  },
  {
   "cell_type": "code",
   "execution_count": 13,
   "metadata": {},
   "outputs": [
    {
     "data": {
      "text/plain": [
       "[1, 2]"
      ]
     },
     "execution_count": 13,
     "metadata": {},
     "output_type": "execute_result"
    }
   ],
   "source": [
    "addn(mult_vector_escalar(1,[1,1]),mult_vector_escalar(1,[0,1]))\n",
    "#habría que incluir el módulo 2 porque no existe el 2. 1+1=0"
   ]
  },
  {
   "cell_type": "markdown",
   "metadata": {},
   "source": [
    "<span style=\"color:orange\"> Luego hay 4 vectores en el conjunto generador.  </style>\n",
    "\n",
    "<span style=\"color:orange\">Ejemplo:  \n",
    "Otro subespacio generador para $\\mathbb{R}$<sup>3</sup> es {[1,0,0],[1,1,0],[1,1,1]}.  \n",
    "Sabemos que $\\mathbb{R}$<sup>3</sup>=Gen{[2,0,0],[0,2,0],[0,0,1]}, por lo que vamos a ver que estos tres vectores se encuentran en Gen{[1,0,0],[1,1,0],[1,1,1]}.  </style>  \n",
    "><span style=\"color:orange\">[2,0,0]=2$\\cdot$[1,0,0]   </style>  \n",
    "><span style=\"color:orange\">[0,2,0]=-2$\\cdot$[1,0,0]+2$\\cdot$[1,1,0]  </style>  \n",
    "><span style=\"color:orange\">[0,0,1]=-1$\\cdot$[1,1,0]+1$\\cdot$[1,1,1]  </style>  \n",
    "<span style=\"color:orange\">¿Por qué es suficiente?  </style>  \n",
    "* <span style=\"color:orange\">Cualquier vector de $\\mathbb{R}$<sup>3</sup> puede ser escrito como combinación lineal de {[2,0,0],[0,2,0],[0,0,1]}</style>  \n",
    "* <span style=\"color:orange\">Cada uno de los vectores {[2,0,0],[0,2,0],[0,0,1]} puede ser escrito como combinación lineal de {[1,0,0],[1,1,0],[1,1,1]}.</style>  \n",
    "\n",
    "<span style=\"color:blue\"> Ejemplo:   \n",
    "¿Cómo escribirías cada uno de los vectores {[3,0,0],[0,2,0],[0,0,1]} como combinación lineal de {[2,0,1],[1,0,2],[2,2,2]}?\n",
    "Escribamos las combinaciones lineales en Python. De momento, lo hacemos \"a mano\", pero vamos a mostrarlo elegante.</style>  \n",
    "\n",
    "\n"
   ]
  },
  {
   "cell_type": "code",
   "execution_count": 14,
   "metadata": {},
   "outputs": [],
   "source": [
    "def addn3(v,w,z):\n",
    "    return(v[i]+w[i]+z[i] for i in range(len(v)))\n",
    "\n",
    "b1=[2,0,1]\n",
    "b2=[1,0,2]\n",
    "b3=[2,2,2]"
   ]
  },
  {
   "cell_type": "code",
   "execution_count": 15,
   "metadata": {},
   "outputs": [
    {
     "name": "stdout",
     "output_type": "stream",
     "text": [
      "[3, 0, 0] = 2*b1+-1*b2+0*b3\n"
     ]
    }
   ],
   "source": [
    "v=[3,0,0]\n",
    "\n",
    "print(\"{0} = {1}*b1+{2}*b2+{3}*b3\".format(v,2,-1,0))\n"
   ]
  },
  {
   "cell_type": "code",
   "execution_count": null,
   "metadata": {},
   "outputs": [],
   "source": []
  },
  {
   "cell_type": "code",
   "execution_count": null,
   "metadata": {},
   "outputs": [],
   "source": []
  },
  {
   "cell_type": "markdown",
   "metadata": {},
   "source": [
    "<span style=\"color:orange\">Este proceso que hemos hecho a mano, en breve veremos un modo más sencillo de resolverlo con matrices</style> "
   ]
  },
  {
   "cell_type": "markdown",
   "metadata": {},
   "source": [
    "<img src=\"Images/rene_descartes_coordonneescartesiennes_hd.jpg\" style=\"width: 200px;\"/>\n",
    "\n",
    "En 1618, Descartes tuvo una idea mientras estaba acostado en la cama y mirando una mosca en el techo.  \n",
    "Podría describir la ubicación de la mosca en términos de dos números: su distancia de las dos paredes.  \n",
    "Se dio cuenta de que esto funcionaba incluso si las dos paredes no eran perpendiculares. Se dio cuenta de que podía expresar la geometría en álgebra.  \n",
    "* Las paredes desempeñan un papel de lo que ahora llamamos ejes.  \n",
    "* Los dos números son lo que ahora llamamos coordenadas.  \n",
    "\n",
    "# Sistemas de coordenadas  \n",
    "\n",
    "En términos de vectores (que lo generaliza más allá de dos dimensiones):  \n",
    "* El sistema de coordenadas para un espacio vectorial V es especificado por los generadores a<sub>1</sub>,... , a<sub>n</sub> de V.  \n",
    "* Cada vector v en V se puede escribir como una combinación lineal **v** = α<sub>1</sub> a<sub>1</sub> + ... + α<sub>n</sub> a<sub>n</sub>  \n",
    "* Representamos el vector v por el vector [α1, ..., αn] de los coeficientes, denominada representación de las coordenadas de v en términos de a<sub>1</sub>,. . . , a<sub>n</sub>.  \n",
    "\n",
    "Pero asignar coordenadas a los puntos no es suficiente. Para evitar confusiones, debemos asegurarnos de que cada punto tenga coordenadas asignadas de una sola manera. ¿Cómo?  \n",
    "Discutiremos la representación única más tarde.  \n",
    "\n",
    "# Representación de las coordenadas de un vector  \n",
    "\n",
    "<img src=\"Images/coordenadas_vector.png\" style=\"width: 300px;\"/>\n",
    "\n",
    "La representación de las coordenadas del vector **v** en términos de a<sub>1</sub>,. . . , a<sub>n</sub> es el vector [α1, ..., αn] tal que  \n",
    "> **v** = α<sub>1</sub> a<sub>1</sub> + ... + α<sub>n</sub> a<sub>n</sub>  \n",
    "\n",
    "En este contexto, los coeficientes se llaman **coordenadas**.  \n",
    "\n",
    "<span style=\"color:orange\"> Ejemplo:  \n",
    "¿Cuál es la representación coordenada del vector v= [1, 3, 5, 3] en términos de los vectores [1,1,0,0],[0,1,1,0],[0,0,1,1]?</style> "
   ]
  },
  {
   "cell_type": "code",
   "execution_count": null,
   "metadata": {},
   "outputs": [],
   "source": []
  },
  {
   "cell_type": "code",
   "execution_count": 18,
   "metadata": {},
   "outputs": [
    {
     "data": {
      "text/plain": [
       "<generator object addn3.<locals>.<genexpr> at 0x00000173D970FDC8>"
      ]
     },
     "execution_count": 18,
     "metadata": {},
     "output_type": "execute_result"
    }
   ],
   "source": [
    "addn3(mult_vector_escalar(1,[1,1,0,0]),mult_vector_escalar(2,[0,1,1,0]),mult_vector_escalar(3,[0,0,1,1]))"
   ]
  },
  {
   "cell_type": "code",
   "execution_count": null,
   "metadata": {},
   "outputs": [],
   "source": [
    "resultado2=sp.solve([x-1])"
   ]
  },
  {
   "cell_type": "markdown",
   "metadata": {},
   "source": [
    "<span style=\"color:blue\"> Ejemplo:  \n",
    "¿Cuál es la representación coordenada del vector v= [6, 3, 2, 5] en términos de los vectores [2, 2, 2, 3], [1, 0, −1, 0], [0, 1, 0, 1]?</style> "
   ]
  },
  {
   "cell_type": "code",
   "execution_count": null,
   "metadata": {},
   "outputs": [],
   "source": []
  },
  {
   "cell_type": "markdown",
   "metadata": {},
   "source": [
    "<span style=\"color:blue\"> Ejemplo:  \n",
    "En GF(2), ¿Cuál es la representación en coordenadas del vector [0,0,0,1] en términos de los vectores [1,1,0,1], [0,1,0,1] y [1,1,0,0]?  </style>  "
   ]
  },
  {
   "cell_type": "code",
   "execution_count": null,
   "metadata": {},
   "outputs": [],
   "source": []
  },
  {
   "cell_type": "markdown",
   "metadata": {},
   "source": [
    "<span style=\"color:orange\"> Ejemplo: Pérdida de compresión.  \n",
    "Supongamos que necesitamos almacenar o transmitir muchas imágenes de 2 megapíxeles.  \n",
    "¿Cómo representamos la imagen de forma compacta?  </style>   \n",
    "* <span style=\"color:orange\">Método obvio: 2 millones de píxeles generan 2 millones de números.</style> \n",
    "* <span style=\"color:orange\">Método 1: ¡Usa la dispersión! Encuentra el vector k-vecino más cercano. Más adelante veremos que consiste en suprimir todas las entradas menos las k más grandes.</style>   \n",
    "* <span style=\"color:orange\">Método 2: Represente el vector de imagen por su representación de coordenadas:</style>   \n",
    "> * <span style=\"color:orange\">Antes de comprimir, seleccionamos los vectores v<sub>1</sub>,... , v<sub>n</sub>.</style>   \n",
    "> * <span style=\"color:orange\">Reemplazamos cada imagen por su representación en coordenadas de cada vector</style>   \n",
    "\n",
    "<span style=\"color:orange\">Para que esta estrategia funcione, debemos asegurarnos de que cada vector de imagen se pueda representar como una combinación lineal de v<sub>1</sub>,... , v<sub>n</sub>.  \n",
    "También necesitamos que la cantidad de vectores v<sub>1</sub>,... , v<sub>n</sub> ser mucho más pequeño que el número de píxeles.</style> \n",
    "\n",
    "* <span style=\"color:orange\">Método 3: Un híbrido:</style>    \n",
    "> * <span style=\"color:orange\"> Seleccionamos los vectores v<sub>1</sub>,... , v<sub>n</sub> </style>  \n",
    "> * <span style=\"color:orange\"> Para cada imagen a comprimir, calculamos su representación en coordenadas **u** en términos de v<sub>1</sub>,... , v<sub>n</sub> </style>   \n",
    "> * <span style=\"color:orange\"> Reemplazamos **u** con el vertor **u'**, que es el vector k-vecino más cercano </style>  \n",
    "> * <span style=\"color:orange\"> Para recuperar una imagen a partir de **u'**, calculamos la correspondiente combinación lineal de v<sub>1</sub>,... , v<sub>n</sub>. </style> \n",
    "\n",
    "# Mínimo número de vectores  \n",
    "\n",
    "Para un espacio vectorial dado V, ¿cuál es el número mínimo de vectores cuyo espacio generado por ellos es igual a V?  \n",
    "Hay dos enfoques:\n",
    "* El algoritmo Grow  \n",
    "* El algoritmo Shrink  \n",
    "\n",
    "** Algoritmo Grow **  \n",
    "> def Grow(V)  \n",
    "> S=∅\n",
    "> repetir mientras sea posible:\n",
    ">> encuentra un vector v en V que no esté en GenS,y añádelo a S.  \n",
    "\n",
    "El algoritmo se detiene cuando no hay vector para agregar, en cuyo momento S abarca todo V.  \n",
    "Por lo tanto, si el algoritmo se detiene, habrá encontrado un conjunto generador.  \n",
    "La pregunta lógica a hacerse: ¿El conjunto encontrado es más grande de lo necesario?  \n",
    "\n",
    "** Algoritmo Shrink **   \n",
    "> def Shrink(V)\n",
    "> S = conjunto finito de vectores que generan V   \n",
    "> repetir mientras sea posible:\n",
    ">> encuentra un vector v en S tal que Gen(S-{v})=V y quiítalo de S  \n",
    "\n",
    "El algoritmo se detiene cuando no hay un vector cuya eliminación dejaría un conjunto generador.  \n",
    "En cada punto durante el algoritmo, S abarca V, por lo que abarca V al final.  \n",
    "Por lo tanto, si el algoritmo se detiene, el algoritmo habrá encontrado un conjunto generador.  \n",
    "La pregunta es, nuevamente: ¿es más grande de lo necesario?  \n",
    "\n",
    "Estamos en el punto de preguntarnos:  \n",
    "¿Es obvio que el algoritmo Grow y el algoritmo Shrink encuentran los conjuntos más pequeños de generadores?  \n",
    "<span style=\"color:orange\">Pensemos en el siguiente ejemplo de un grafo:</style>     \n",
    "<img src=\"Images/grafo.png\" style=\"width: 300px;\"/>\n",
    "Los puntos se llaman nodos, los enlaces se llaman aristas.  \n",
    "Cada arista tiene dos puntos finales, los nodos que conecta.  \n",
    "Los puntos finales de un borde son vecinos.  \n",
    "Un **conjunto dominante** en un grafo es un conjunto S de nodos tal que cada nodo está en S o es un vecino de un nodo en S.  \n",
    "Algoritmo Grow:</style>   \n",
    "> <span style=\"color:orange\">S=∅</style>  \n",
    "> <span style=\"color:orange\">repetir mientras sea posible:</style>\n",
    ">> <span style=\"color:orange\">mientras que S no es un conjunto dominante, agregar un nodo a S que actualmente no sea adyacente a S. </style>  \n",
    "\n",
    "<span style=\"color:orange\">Algoritmo Shrink:</style>  \n",
    "> <span style=\"color:orange\">S = todos los nodos</style>   \n",
    "> <span style=\"color:orange\">repetir mientras sea posible:</style>\n",
    ">> <span style=\"color:orange\">Si hay un nodo x tal que S - {x} es un conjunto dominante, eliminar x de S</style>  \n",
    "\n",
    "<span style=\"color:orange\">Ninguno de los algoritmos tiene garantizado encontrar la solución más pequeña.</style>  \n",
    "\n"
   ]
  },
  {
   "cell_type": "markdown",
   "metadata": {},
   "source": [
    "# Bosque de extensión mínima  \n",
    "\n",
    "<img src=\"Images/bosque.png\" style=\"width: 800px;\"/>\n",
    "\n",
    "Una secuencia de aristas [{x<sub>1</sub>, x<sub>2</sub>}, {x<sub>2</sub>, x<sub>3</sub>}, {x<sub>3</sub>, x<sub>4</sub>},..., {x<sub>k-1</sub>, x<sub>k</sub>}] sin repeticiones se denomina **camino** de x<sub>1</sub> a x<sub>k</sub>.  \n",
    "\n",
    "<span style=\"color:orange\"> Ejemplo:  ¿Cuántos caminos tengo para ir de “Main Quad” a ”Gregorian Quad”?</style>\n",
    "\n"
   ]
  },
  {
   "cell_type": "markdown",
   "metadata": {},
   "source": [
    "<span style=\"color:orange\"> Tengo 4 caminos para ir de “Main Quad” a ”Gregorian Quad”:</style>\n",
    "* <span style=\"color:orange\">Dos caminos a través de “Wriston Quad”:</style>  \n",
    "> <span style=\"color:orange\">Main Quad - Wriston Quad - Gregorian Quad</style>  \n",
    "> <span style=\"color:orange\">Main Quad - Wriston Quad - Keeney Quad - Gregorian Quad</style>  \n",
    "\n",
    "* <span style=\"color:orange\">Dos caminos a través de “Keeney Quad”:</style>  \n",
    "> <span style=\"color:orange\">Main Quad - Keeney Quad - Gregorian Quad</style>  \n",
    "> <span style=\"color:orange\">Main Quad - Keeney Quad - Wriston Quad - Gregorian Quad</style>  \n",
    "\n"
   ]
  },
  {
   "cell_type": "markdown",
   "metadata": {},
   "source": [
    "Un camino de x a x es un **ciclo**.  \n",
    "<span style=\"color:orange\"> Ejemplo:  \n",
    "El camino Keeney Quad - Wriston Quad - Gregorian Quad - Keeney Quad es un ciclo.</style>  \n",
    "\n",
    "Un conjunto S de aristas genera un grafo G si, para cada arista {x, y} de G, hay un camino x-y que consiste en las aristas de S.  \n",
    "\n",
    "Un conjunto de aristas de G es un bosque (forest) si el conjunto no incluye ciclos.  \n",
    " \n",
    "<span style=\"color:orange\"> Ejemplo:  \n",
    "¿Hay algún bosque en nuestro ejemplo?\n",
    "    \n",
    "<img src=\"Images/bosque.png\" style=\"width: 800px;\"/>"
   ]
  },
  {
   "cell_type": "markdown",
   "metadata": {},
   "source": [
    "El conjunto de aristas {Main Quad, Wriston Quad}, {Wriston Quad,Keeney Quad}, {riston Quad,Gregorian Quad} es un bosque.</style>   \n",
    "\n"
   ]
  },
  {
   "cell_type": "markdown",
   "metadata": {},
   "source": [
    "En la realidad, cada arista lleva asignado un peso.  \n",
    "\n",
    "<span style=\"color:orange\"> Ejemplo:  \n",
    "En el grafo que estamos siguiendo de la imagen, los pesos de las aristas son:</style>     \n",
    "* <span style=\"color:orange\">{Main Quad, Wriston Quad}:3</style>   \n",
    "* <span style=\"color:orange\">{Main Quad, Keeney Quad}:5</style>     \n",
    "* <span style=\"color:orange\">{Keeney Quad, Wriston Quad}:4</style>     \n",
    "* <span style=\"color:orange\">{Wriston Quad, Gregorian Quad}:6</style>   \n",
    "* <span style=\"color:orange\">{Keeney Quad, Gregorian Quad}:8</style>   \n",
    "\n",
    "Para calcular el mínimo bosque generador del grafo:  \n",
    "* input: un grafo G, y una asignación de pesos de números reales a las aristas de G.  \n",
    "* output: un conjunto de pesos mínimo S de aristas que generan el grafo y un bosque.  \n",
    "\n",
    "<span style=\"color:orange\"> Ejemplo:  \n",
    "Supongamos que queremos diseñar la red de internet para el campus universitario.  \n",
    "La red debe lograr la misma conectividad que el grafo de entrada.  \n",
    "Una arista representa un posible cable.  \n",
    "El peso de la arista es el coste de instalar el cable.  \n",
    "Nuestro objetivo es minimizar el coste total.  \n",
    "\n"
   ]
  },
  {
   "cell_type": "markdown",
   "metadata": {},
   "source": [
    "<span style=\"color:orange\">** Algoritmo Grow**</style>  \n",
    "> <span style=\"color:orange\"> def Grow (G)</style>  \n",
    "> <span style=\"color:orange\"> S: = ∅</style>\n",
    "> <span style=\"color:orange\"> Consideremos las aristas e en orden creciente:</style>  \n",
    ">> <span style=\"color:orange\"> Si los puntos finales de e aún no están conectados, agregue e a S.</style>  \n",
    "\n",
    "<span style=\"color:orange\"> Colocamos las aristas en orden creciente según sus pesos: 3,4,5,6,8.  \n",
    "Cogemos la arista {Main Quad, Wriston Quad} y la añadimos a S.  \n",
    "Hay que añadir el nodo Keeney Quad. Se puede hacer:</style>  \n",
    "* <span style=\"color:orange\">{Main Quad, Keeney Quad}:5</style>\n",
    "* <span style=\"color:orange\">{Keeney Quad, Wriston Quad}:4</style>  \n",
    "\n",
    "<span style=\"color:orange\">Luego añadimos a S la arista {Keeney Quad, Wriston Quad}.  \n",
    "Faltaría añadir el nodo Gregorian Quad. Podemos añadirlo:</style>  \n",
    "* <span style=\"color:orange\">{Wriston Quad, Gregorian Quad}:6</style>    \n",
    "* <span style=\"color:orange\">{Keeney Quad, Gregorian Quad}:8</style>  \n",
    "\n",
    "<span style=\"color:orange\">Luego añadimos a S la arista {Wriston Quad, Gregorian Quad}.  \n",
    "Por tanto, el mínimo bosque generador del grafo quedaría:</style>  \n",
    "> <span style=\"color:orange\">S={ {Main Quad, Wriston Quad}, {Keeney Quad, Wriston Quad}, {Wriston Quad, Gregorian Quad} }  </style>    \n",
    "\n",
    "<span style=\"color:orange\"> ¿Cómo lo haríamos en Python? </style> "
   ]
  },
  {
   "cell_type": "code",
   "execution_count": 30,
   "metadata": {},
   "outputs": [],
   "source": [
    "def Fn_Get_PesoMax(grafo):\n",
    "    peso=0\n",
    "    for v in grafo:\n",
    "        if peso<v[1]:\n",
    "            peso=v[1]\n",
    "    return peso\n",
    "\n",
    "def Fn_Get_SumPeso(grafo):\n",
    "    suma=0\n",
    "    for i in grafo:\n",
    "        suma=suma+i[1]\n",
    "    return suma\n",
    "\n",
    "def Fn_Get_PesoMin(grafo):\n",
    "    if len(grafo)==0:\n",
    "        return 0\n",
    "    else:\n",
    "        peso=Fn_Get_PesoMax(grafo)\n",
    "        for v in grafo:\n",
    "            if peso>v[1]:\n",
    "                peso=v[1]\n",
    "        return peso\n",
    "\n",
    "def  Fn_Get_Pesos(grafo, mayor= True):\n",
    "    l=[]\n",
    "    for i in grafo:\n",
    "        l.append(i[1])\n",
    "    l.sort(reverse=mayor)\n",
    "    return l\n",
    "\n",
    "def Fn_Get_Nodos(grafo):\n",
    "    nodos=set()\n",
    "    for i in grafo:\n",
    "        for e in i[0]:\n",
    "            nodos.add(e)\n",
    "    return nodos\n",
    "\n",
    "def Fn_Get_NodConect (grafoOriginal,nodo):\n",
    "    nodos=set()\n",
    "    for v in grafoOriginal:\n",
    "        if nodo in v[0]:\n",
    "            nodos=nodos | (v[0])\n",
    "    nodos=nodos-{nodo}\n",
    "    \n",
    "def Fn_Eliminiar_Nodo(grafo,nodo):\n",
    "    grafoCopia=grafo.copy()\n",
    "    for v in grafo:\n",
    "        if nodo in v[0]:\n",
    "            grafoCopia.remove(v)\n",
    "    return grafoCopia\n",
    "\n",
    "def Fn_Get_Vertices(grafo, nodoInicial, listaDeNodos):\n",
    "    l=[]\n",
    "    for i in grafo:\n",
    "        nodos= i[0].copy()\n",
    "        unNodo=nodos.pop()\n",
    "        otroNodo=nodos.pop()\n",
    "        if (unNodo==nodoInicial and otroNodo in listaDeNodos) or (otroNodo==nodoInicial and unNodo in listaDeNodos):\n",
    "            l.append(i)\n",
    "    return l\n"
   ]
  },
  {
   "cell_type": "code",
   "execution_count": 27,
   "metadata": {},
   "outputs": [],
   "source": [
    "grafo=[({\"MQ\",\"WQ\"},3)\n",
    "      , ({\"MQ\",\"KQ\"},5)\n",
    "       , ({\"KQ\",\"WQ\"},4)\n",
    "       , ({\"KQ\",\"GQ\"},8)\n",
    "       , ({\"GQ\",\"WQ\"},6)]"
   ]
  },
  {
   "cell_type": "code",
   "execution_count": 31,
   "metadata": {},
   "outputs": [],
   "source": [
    "def Algorithm_Grow(grafo):\n",
    "    bosque=[]\n",
    "    gr=grafo.copy()\n",
    "    nodosDeseados=Fn_Get_Nodos(gr)\n",
    "    minimo=Fn_Get_PesoMin(gr)\n",
    "    for i in range(0,len(gr)):\n",
    "        if gr[i][1]==minimo:\n",
    "            nuevoVertice=gr.pop(i)\n",
    "            break\n",
    "    bosque.append(nuevoVertice)\n",
    "    \n",
    "    nodosEnBosque=Fn_Get_Nodos(bosque)\n",
    "    \n",
    "    nodosQueQuedan=nodosDeseados - nodosEnBosque\n",
    "    \n",
    "    while nodosQueQuedan:\n",
    "        distancia=Fn_Get_PesoMax(gr)\n",
    "        \n",
    "        for nodo in nodosQueQuedan:\n",
    "            for v in gr:\n",
    "                if nodo in v[0]:\n",
    "                    vertice=v[0].copy()\n",
    "                    unNodo=vertice.pop()\n",
    "                    otroNodo=vertice.pop\n",
    "                    if nodo==otroNodo:\n",
    "                        nodoBuscado=otroNodo\n",
    "                    else:\n",
    "                        nodoBuscado=unNodo\n",
    "                    if nodoBuscado in nodosQueQuedan:\n",
    "                        if v[1] <= distancia:\n",
    "                            distancia=v[1]\n",
    "                            nodoNuevo=nodoBuscado\n",
    "        listaVertices=Fn_Get_Vertices(gr,nodoNuevo,nodosEnBosque)\n",
    "        \n",
    "        minimo=Fn_Get_PesoMin(listaVertices)\n",
    "        for i in range(0,len(listaVertices)):\n",
    "            nuevoVertice=listaVertices.pop(i)\n",
    "            break\n",
    "        bosque.append(nuevoVertice)\n",
    "        \n",
    "        nodosEnBosque=Fn_Get_Nodos(bosque)\n",
    "        nodosQueQuedan=nodosDeseados - nodosEnBosque\n",
    "    \n",
    "    return bosque"
   ]
  },
  {
   "cell_type": "code",
   "execution_count": 32,
   "metadata": {},
   "outputs": [
    {
     "data": {
      "text/plain": [
       "[({'MQ', 'WQ'}, 3), ({'KQ', 'MQ'}, 5), ({'GQ', 'KQ'}, 8)]"
      ]
     },
     "execution_count": 32,
     "metadata": {},
     "output_type": "execute_result"
    }
   ],
   "source": [
    "Algorithm_Grow(grafo)"
   ]
  },
  {
   "cell_type": "markdown",
   "metadata": {},
   "source": [
    "<span style=\"color:orange\">** Algoritmo Shrink**</style>  \n",
    "> <span style=\"color:orange\"> def Shrink (G)</style>  \n",
    "> <span style=\"color:orange\"> S: = { {Main Quad, Wriston Quad}, {Main Quad, Keeney Quad}, {Keeney Quad, Wriston Quad}, {Wriston Quad, Gregorian Quad}, {Keeney Quad, Gregorian Quad} }</style>\n",
    "> <span style=\"color:orange\"> Consideremos las aristas e en orden decreciente:</style>  \n",
    ">> <span style=\"color:orange\"> Si cada par de nodos están conectados mediante S-{e}: quitar e de S.</style>  \n",
    "\n",
    "<span style=\"color:orange\"> Colocamos las aristas en orden decreciente según sus pesos: 8,6,5,4,3.  \n",
    "La arista que más peso tiene es {Keeney Quad, Gregorian Quad}:8. Si la quito aún podría seguir yendo de Keeney Quad a Gregorian Quad.  \n",
    "Luego S= { {Main Quad, Wriston Quad}, {Main Quad, Keeney Quad}, {Keeney Quad, Wriston Quad}, {Wriston Quad, Gregorian Quad} }.  \n",
    "La arista siguiente con más peso es {Wriston Quad, Gregorian Quad}, pero si quito esta arista Gregorian Quad se queda desconectado, por tanto, la mantengo.  \n",
    "La arista siguiente con más peso es {Main Quad, Keeney Quad}:5. Puedo eliminarla ya que pasando por Wriston Quad siguen conectadas.  \n",
    "Luego S= { {Main Quad, Wriston Quad}, {Keeney Quad, Wriston Quad}, {Wriston Quad, Gregorian Quad} }. \n",
    "La otras dos aristas restantes: {Keeney Quad, Wriston Quad} y {Main Quad, Wriston Quad} no se pueden eliminar.  \n",
    "Por tanto, finalmente queda S={ {Main Quad, Wriston Quad}, {Keeney Quad, Wriston Quad}, {Wriston Quad, Gregorian Quad} }.</style>  \n",
    "\n",
    "<span style=\"color:orange\"> Ahora veamoslo en Python</style>"
   ]
  },
  {
   "cell_type": "code",
   "execution_count": null,
   "metadata": {},
   "outputs": [],
   "source": []
  },
  {
   "cell_type": "code",
   "execution_count": null,
   "metadata": {},
   "outputs": [],
   "source": []
  },
  {
   "cell_type": "markdown",
   "metadata": {},
   "source": [
    "Los algoritmos Grow y Shrink prueban si un vector es superfluo (no necesario) para el conjunto generador del espacio vectorial V.  \n",
    "\n",
    "** Lema del vector superfluo**  \n",
    "Para cualquier conjunto S y cualquier vector v ∈ S, si v puede escribirse como una combinación lineal de los otros vectores en S entonces Gen(S - {v}) = GenS.  "
   ]
  },
  {
   "cell_type": "markdown",
   "metadata": {},
   "source": [
    "Los algoritmos Grow y Shrink devuelven un conjunto de vectores linealmente independientes.  \n",
    "\n",
    "# Bases  \n",
    "\n",
    "Si finalizan con éxito, el algoritmo Grow y el algoritmo Shrink encuentran cada uno un conjunto de vectores generadores del espacio vectorial V.  \n",
    "En cualquier caso, el conjunto de vectores encontrado es linealmente independiente.  \n",
    "\n",
    "Dado un espacio vectorial V. Una **base** para V es un conjunto de generadores linealmente independientes para V.  \n",
    "\n",
    "Por tanto, un conjunto S de vectores de V es una **base** para V si satisface:  \n",
    "* GenS=V  \n",
    "* S es linealmente independiente  "
   ]
  },
  {
   "cell_type": "markdown",
   "metadata": {},
   "source": [
    "<span style=\"color:orange\"> Ejemplo:  \n",
    "Dado V=Gen{[1, 0, 2, 0], [0, −1, 0, −2], [2, 2, 4, 4]}. ¿Es {[1, 0, 2, 0], [0, −1, 0, −2], [2, 2, 4, 4]} una base de V?  </style>  \n",
    "\n",
    "<span style=\"color:orange\">Por la definición del ejercicio es un generador.  \n",
    "Ahora bien, ¿los vectores son linealmente independientes? </style> "
   ]
  },
  {
   "cell_type": "code",
   "execution_count": 33,
   "metadata": {},
   "outputs": [
    {
     "data": {
      "text/plain": [
       "{y: 2*z, x: -2*z}"
      ]
     },
     "execution_count": 33,
     "metadata": {},
     "output_type": "execute_result"
    }
   ],
   "source": [
    "resultado4=sp.solve([x+2*z,-1*y+2*z,2*x+4*z,-2*y+4*z])\n",
    "\n",
    "resultado4"
   ]
  },
  {
   "cell_type": "markdown",
   "metadata": {},
   "source": [
    "<span style=\"color:orange\"> \n",
    "1 [1, 0, 2, 0] − 1 [0, −1, 0, −2] − $\\frac{1}{2}$ [2, 2, 4, 4] = **0**  \n",
    "Por lo tanto, son linealmente dependientes, luego no es una base.  \n",
    "¿Podríamos encontrar una base?  \n",
    "Para ello vamos a usar el lema del vector superfluo (si uno es combinación lineal, podemos \"omitirlo\"):  \n",
    "[2, 2, 4, 4] = 2 [1, 0, 2, 0] − 2 [0, −1, 0, −2]  \n",
    "Por tanto:  \n",
    "Gen {[1,0,2,0],[0,−1,0,−2]} = Gen {[1,0,2,0],[0,−1,0,−2],[2,2,4,4]}  </style> "
   ]
  },
  {
   "cell_type": "code",
   "execution_count": 35,
   "metadata": {},
   "outputs": [
    {
     "data": {
      "text/plain": [
       "{y: 0, x: 0}"
      ]
     },
     "execution_count": 35,
     "metadata": {},
     "output_type": "execute_result"
    }
   ],
   "source": [
    "resultado5=sp.solve([x,-1*y,2*x,-2*y])\n",
    "\n",
    "resultado5"
   ]
  },
  {
   "cell_type": "markdown",
   "metadata": {},
   "source": [
    "<span style=\"color:orange\"> Por tanto, {[1,0,2,0],[0,−1,0,−2]} es una base.</style> "
   ]
  },
  {
   "cell_type": "markdown",
   "metadata": {},
   "source": [
    "{[1,0,0],[0,1,0],[0,0,1]} es la **base canónica** de $\\mathbb{R}$<sup>3</sup>.  "
   ]
  },
  {
   "cell_type": "markdown",
   "metadata": {},
   "source": [
    "<span style=\"color:orange\"> Ejemplo:  \n",
    "Comprobemos que la base canónica de $\\mathbb{R}$<sup>3</sup> {[1,0,0],[0,1,0],[0,0,1]} efectivamente es una base.  \n",
    "Es generador de $\\mathbb{R}$<sup>3</sup> ya que dado [x,y,z] ∈ $\\mathbb{R}$<sup>3</sup>, [x , y , z ] = x [1, 0, 0] + y [0, 1, 0] + z [0, 0, 1].  \n",
    "¿Son linealmente independientes?</style>  "
   ]
  },
  {
   "cell_type": "code",
   "execution_count": 36,
   "metadata": {},
   "outputs": [
    {
     "data": {
      "text/plain": [
       "{z: 0, y: 0, x: 0}"
      ]
     },
     "execution_count": 36,
     "metadata": {},
     "output_type": "execute_result"
    }
   ],
   "source": [
    "resultado6=sp.solve([x,y,z])\n",
    "resultado6"
   ]
  },
  {
   "cell_type": "markdown",
   "metadata": {},
   "source": [
    "<span style=\"color:blue\"> Ejemplo:  \n",
    "Comprobemos si {[1, 1, 1], [1, 1, 0], [0, 1, 1]} es una base para $\\mathbb{R}$<sup>3</sup>  \n",
    "</style>  "
   ]
  },
  {
   "cell_type": "code",
   "execution_count": 37,
   "metadata": {},
   "outputs": [
    {
     "data": {
      "text/plain": [
       "{y: 0, z: 0, x: 0}"
      ]
     },
     "execution_count": 37,
     "metadata": {},
     "output_type": "execute_result"
    }
   ],
   "source": [
    "resultado7=sp.solve([x+y,x+y+z,x+z])\n",
    "resultado7"
   ]
  },
  {
   "cell_type": "code",
   "execution_count": null,
   "metadata": {},
   "outputs": [],
   "source": []
  },
  {
   "cell_type": "markdown",
   "metadata": {},
   "source": [
    "<span style=\"color:orange\">   Por tanto, {[1, 1, 1], [1, 1, 0], [0, 1, 1]} es una base.</style>  "
   ]
  },
  {
   "cell_type": "markdown",
   "metadata": {},
   "source": [
    "## Dimensión de un espacio vectorial\n",
    "\n",
    "Decimos que un espacio vectorial tiene dimensión n si n es el número de vectores de una cualquiera de sus bases."
   ]
  },
  {
   "cell_type": "markdown",
   "metadata": {},
   "source": [
    "<span style=\"color:orange\"> Ejemplo:  \n",
    "¿Qué dimensión tienen los espacios Gen{[1, 2, -2]} y Gen{[0, 0, 0]} ?</style>   "
   ]
  },
  {
   "cell_type": "markdown",
   "metadata": {},
   "source": [
    "<span style=\"color:orange\"> Ejemplo:  \n",
    "¿Qué dimensión tienen los espacios Gen{[1, 2], [3, 4]} y Gen{[1, 3], [2, 6]} ?</style>  "
   ]
  },
  {
   "cell_type": "markdown",
   "metadata": {},
   "source": [
    "<span style=\"color:orange\"> Ejemplo:  \n",
    "¿Qué dimensión tienen los espacios Gen{[1,0,0], [0,1,0], [0,0,1]} y Gen{[1,0,0], [0,1,0], [1 , 1,0]} ?\n",
    "</style> "
   ]
  },
  {
   "cell_type": "markdown",
   "metadata": {},
   "source": [
    "## Rango de un espacio vectorial\n",
    "\n",
    "Definimos el **rango** de un conjunto de vectores S como la dimensión de GenS.  \n",
    "Lo escribimos como rangoS.\n",
    "\n",
    "<span style=\"color:orange\"> Ejemplo:  \n",
    "¿Cuál es el rango de [1, 0, 0], [0, 2, 0], [2, 4, 0]?</style> "
   ]
  },
  {
   "cell_type": "markdown",
   "metadata": {},
   "source": [
    "<span style=\"color:orange\">Los vectores [1, 0, 0], [0, 2, 0], [2, 4, 0] son linealmente dependientes.  \n",
    "Por tanto, su rango es menor que 3.  \n",
    "Los dos primeros vectores forman una base para Gen{[1, 0, 0], [0, 2, 0], [2, 4, 0]}.  \n",
    "Por tanto, el rango es 2.  \n",
    "</style>  "
   ]
  },
  {
   "cell_type": "markdown",
   "metadata": {},
   "source": [
    "<span style=\"color:orange\"> Ejemplo:  \n",
    "El espacio vectorial Gen{[0, 0, 0]} está generado por un conjunto \"vacío\" de vectores. ¿Cuál es su rango?</style>  \n",
    "\n",
    "\n"
   ]
  },
  {
   "cell_type": "markdown",
   "metadata": {},
   "source": [
    "<span style=\"color:orange\">Por lo tanto, el rango de {[0, 0, 0]} es 0.  \n",
    "De hecho, es el único espacio vectorial con rango 0, todos los demás tienen al menos rango 1.\n",
    "</style>  "
   ]
  },
  {
   "cell_type": "markdown",
   "metadata": {},
   "source": [
    "## Subbases  \n",
    "\n",
    "Cada conjunto finito de vectores T contiene un subconjunto S que es una base para GenT.  \n",
    "\n",
    "** Fin del algoritmo Grow**  \n",
    "Si V es un subespacio de $\\mathbb{F}$<sup>D</sup> donde D es finito, entonces el algoritmo Grow termina.  \n",
    "\n",
    "**Teorema**  \n",
    "Para D finito, cada subespacio de $\\mathbb{F}$<sup>D</sup> contiene una base.  \n",
    "\n",
    "**Lema**  \n",
    "Sea V un espacio vectorial que consiste en D-vectores donde D es finito.  \n",
    "Sea C un conjunto de vectores linealmente independientes que pertenecen a V.  \n",
    "Entonces V tiene una base B que contiene todos los vectores de C.  \n",
    "\n",
    "## Subespacios vectoriales\n",
    "\n",
    "Sea V un espacio vectorial sobre un cuerpo K y W ⊂ V un subconjunto suyo. Se dice que W es un **subespacio vectorial** de V si W es un espacio vectorial sobre K con las operaciones definidas en V.  \n",
    "\n",
    "La definición de subespacio vectorial es un tanto confusa, pues en realidad no es más que un espacio vectorial que “vive” dentro de otro, que habitualmente denominaremos espacio ambiente. Puesto que las operaciones definidas en el espacio ambiente satisfacen las propiedades oportunas para ser espacio vectorial, la clave para que un subconjunto W sea subespacio vectorial es que las operaciones se mantengan definidas dentro del conjunto, es decir, que la suma de vectores de W sea un vector de W y que el producto de un escalar por un vector de W permanezca en W. El siguiente resultado expresa justamente esto.\n",
    "\n",
    "> W es un subespacio vectorial si y sólo si αu+βv ∈ W, ∀u,v ∈ W, α, β ∈ K."
   ]
  },
  {
   "cell_type": "markdown",
   "metadata": {},
   "source": [
    "<span style=\"color:orange\">Ejemplo:  \n",
    "El conjunto {(x<sub>1</sub>, x<sub>2</sub>) ∈ R<sup>2</sup> : x<sub>2</sub> = 0} es un subespacio vectorial de R<sup>2</sup>.\n",
    "Para comprobarlo, consideremos un par de elementos cualesquiera del conjunto. Dada la naturaleza del mismo, dos elementos genéricos del conjunto serán algo del estilo (x, 0), (y, 0). Tomemos ahora una combinación lineal arbitraria de estos dos elementos:</style>  \n",
    "> <span style=\"color:orange\"> α(x, 0) + β(y, 0) = (αx + βy, 0)</style>  \n",
    "\n",
    "<span style=\"color:orange\">Es evidente que el elemento (αx+βy, 0) pertenece al conjunto, cualesquiera que sean α y β.  Por tanto, dicho conjunto es subespacio vectorial.</style>"
   ]
  },
  {
   "cell_type": "markdown",
   "metadata": {},
   "source": [
    "<span style=\"color:orange\">Ejemplo:   \n",
    "El conjunto {x<sub>1</sub>, x<sub>2</sub>) ∈ R<sup>2</sup> : x<sub>2</sub> = 1} no es subespacio vectorial de R<sup>2</sup>.  \n",
    "Si tratamos de repetir el argumento anterior considerando un par de elementos arbitrarios del conjunto, (x,1), (y,1), ahora vemos que una combinación lineal de los mismos:</style>  \n",
    "> <span style=\"color:orange\"> α(x, 1) + β(y, 1) = (αx + βy, α + β)</style>  \n",
    "\n",
    "<span style=\"color:orange\">no es, en general, un elemento del conjunto. En concreto, si tomamos valores α y β tales que α + β ̸= 1, la combinación lineal resultante no pertenece al conjunto, y por tanto éste no es subespacio vectorial.</style> "
   ]
  },
  {
   "cell_type": "markdown",
   "metadata": {},
   "source": [
    "## Suma directa de subespacios\n",
    "\n",
    "Un espacio vectorial V es **suma directa** de dos subespacios L<sub>1</sub> y L<sub>2</sub> si y sólo si L<sub>1</sub>+L<sub>2</sub>=V y L<sub>1</sub>∩L<sub>2</sub>={0}  \n",
    "Se notará por V = L1 ⊕ L2.  \n",
    "\n",
    "Son equivalentes:  \n",
    "* V = L1 ⊕ L2.\n",
    "* ∀v∈V,v=v<sub>1</sub>+v<sub>2</sub>,con v<sub>1</sub> ∈L<sub>1</sub>,v<sub>2</sub> ∈L<sub>2</sub> únicos.  \n",
    "\n",
    "Dicho de otro modo:  \n",
    "La suma directa es el conjunto de todas las sumas de un vector en U y un vector en V.  "
   ]
  },
  {
   "cell_type": "markdown",
   "metadata": {},
   "source": [
    "<span style=\"color:orange\"> Ejemplo:  \n",
    "Sean U = Gen{(1,0,0,0), (0,1,0,0)} y V = Gen{(0,0,1,0)}.</style>   \n",
    "\n",
    "* <span style=\"color:orange\">Cada vector distinto de cero en U tiene uno en la primera o segunda posición (o ambas) y en ninguna otra parte.</style>  \n",
    "* <span style=\"color:orange\">Cada vector distinto de cero en V tiene uno en la tercera posición y en ninguna otra parte.</style>  \n",
    "\n",
    "<span style=\"color:orange\">Por lo tanto, el único vector en U y V es el vector cero.</style>  \n",
    "<span style=\"color:orange\">Por lo tanto:\n",
    "U $\\bigoplus$ V = {0000 + 0000, 1000 + 0000, 0100 + 0000, 1100 + 0000, 0000 + 0010, 1000 + 0010, 0100 + 0010, 1100 + 0010}={0000, 1000, 0100, 1100, 0010, 1010, 0110, 1110}.</style>  \n",
    "<span style=\"color:blue\"> Calculemos la suma directa en Python\n",
    "</style>  "
   ]
  },
  {
   "cell_type": "code",
   "execution_count": null,
   "metadata": {},
   "outputs": [],
   "source": []
  },
  {
   "cell_type": "code",
   "execution_count": null,
   "metadata": {},
   "outputs": [],
   "source": []
  },
  {
   "cell_type": "code",
   "execution_count": null,
   "metadata": {},
   "outputs": [],
   "source": []
  },
  {
   "cell_type": "code",
   "execution_count": null,
   "metadata": {},
   "outputs": [],
   "source": []
  },
  {
   "cell_type": "code",
   "execution_count": null,
   "metadata": {},
   "outputs": [],
   "source": []
  },
  {
   "cell_type": "code",
   "execution_count": null,
   "metadata": {},
   "outputs": [],
   "source": []
  },
  {
   "cell_type": "code",
   "execution_count": null,
   "metadata": {},
   "outputs": [],
   "source": []
  },
  {
   "cell_type": "code",
   "execution_count": null,
   "metadata": {},
   "outputs": [],
   "source": []
  },
  {
   "cell_type": "markdown",
   "metadata": {},
   "source": [
    "<span style=\"color:orange\">Ejemplo:  \n",
    "Sea U=Gen{[4,−1,1]} y V=Gen{[0,1,1]} sobre $\\mathbb{R}$<sup>3</sup>.  \n",
    "</style>  \n",
    "\n",
    "<span style=\"color:orange\">Son dos rectas cuya intersección está en el origen, luego puedo calcular U $\\bigoplus$ V.  \n",
    "U $\\bigoplus$ V={[4,−1,1],[0,1,1],[4,0,2]}</style>  "
   ]
  },
  {
   "cell_type": "markdown",
   "metadata": {},
   "source": [
    "<span style=\"color:orange\">Ejemplo:  \n",
    "Sean dos espacios L<sub>1</sub> y L<sub>2</sub>, donde:</style>  \n",
    "\n",
    "* <span style=\"color:orange\">una base de L<sub>1</sub> es {(1,−1,0,0),(0,0,−1,1)}</style>     \n",
    "* <span style=\"color:orange\">una base de L<sub>2</sub> es {(1,0,0,0),(0,0,0,1)}</style>  \n",
    "\n",
    "<span style=\"color:orange\">Calculemos ahora L<sub>1</sub>+L<sub>2</sub>. Para ello, simplemente consideramos el conjunto formado por la base de L<sub>1</sub> y la base de L<sub>2</sub> y estudiamos si son o no linealmente independientes. \n",
    "Como tienen los ceros colocados \"estratégicamente\" son linealmente independientes, luego su rango es 4 y, por tanto, L<sub>1</sub>+L<sub>2</sub> = R<sup>4</sup>.</style>  \n",
    "    \n",
    "<span style=\"color:orange\">Por otro lado, L<sub>1</sub>∩L<sub>2</sub> ={0}.</style>  \n",
    "\n",
    "<span style=\"color:orange\">Dado que se cumplen las condiciones, L<sub>1</sub> $\\bigoplus$ L<sub>2</sub> = R<sup>4</sup> </style>  \n"
   ]
  }
 ],
 "metadata": {
  "kernelspec": {
   "display_name": "Python 3",
   "language": "python",
   "name": "python3"
  },
  "language_info": {
   "codemirror_mode": {
    "name": "ipython",
    "version": 3
   },
   "file_extension": ".py",
   "mimetype": "text/x-python",
   "name": "python",
   "nbconvert_exporter": "python",
   "pygments_lexer": "ipython3",
   "version": "3.7.4"
  }
 },
 "nbformat": 4,
 "nbformat_minor": 2
}
