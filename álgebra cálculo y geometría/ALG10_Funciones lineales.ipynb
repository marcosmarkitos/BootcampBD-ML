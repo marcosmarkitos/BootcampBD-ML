{
 "cells": [
  {
   "cell_type": "markdown",
   "metadata": {},
   "source": [
    "# 10. Funciones lineales"
   ]
  },
  {
   "cell_type": "markdown",
   "metadata": {},
   "source": [
    "## Definición formal de una función\n",
    "\n",
    "Una función relaciona cada elemento de un conjunto con exactamente un elemento de otro conjunto (puede ser el mismo conjunto).  \n",
    "> f: X $\\rightarrow$ Y\n",
    "\n"
   ]
  },
  {
   "cell_type": "markdown",
   "metadata": {},
   "source": [
    "## Dominio, codominio e imagen\n",
    "\n",
    "Hay nombres especiales para lo que puede entrar, y también lo que puede salir de una función:\n",
    "\n",
    "* Lo que puede entrar en una función se llama el **dominio**.  \n",
    "* Lo que es posible que salga de una función se llama el **codominio**.  \n",
    "* Lo que en realidad sale de una función se llama **rango** o **imagen**  \n",
    "\n",
    "<img src=\"Images/function-sets.gif\" style=\"width: 200px;\"/> "
   ]
  },
  {
   "cell_type": "markdown",
   "metadata": {},
   "source": [
    "## Funciones o transformaciones vectoriales\n",
    "\n",
    "f: $\\mathbb{R}$<sup>n</sup> $\\rightarrow \\mathbb{R}$<sup>m</sup>\n",
    "\n",
    "Una **transformación vectorial** es una función que opera entre vectores.\n",
    "\n",
    "Se suelen denotar por T mayúscula.\n",
    "\n",
    "\n"
   ]
  },
  {
   "cell_type": "markdown",
   "metadata": {},
   "source": [
    "## Funciones o transformaciones lineales  \n",
    "\n",
    "Dados $\\mathbb{V}$ y $\\mathbb{W}$, espacios vectoriales de $\\mathbb{F}$.  \n",
    "Supongamos que una función f: $\\mathbb{V}$ $\\longrightarrow$ $\\mathbb{W}$ satisface dos propiedades:  \n",
    "* Para cada vector v en V y cada escalar α en F, f (αv) = αf(v)  \n",
    "* Por cada dos vectores u y v en V, f (u + v) = f (u) + f (v)  \n",
    "\n",
    "Entonces llamamos a f **función lineal** o **transformación lineal** u **homomorfismo**.  "
   ]
  },
  {
   "cell_type": "markdown",
   "metadata": {},
   "source": [
    "<span style=\"color:orange\"> Ejemplo:  \n",
    "¿La función f(x,y)=(x+y,3x) es una función lineal?  \n",
    "</style>  \n",
    "* <span style=\"color:orange\">f(αx,αy)=(αx+αy,3αx)=α(x+y,3x)=α$\\cdot$f(x,y)</style>  \n",
    "* <span style=\"color:orange\">f([x<sub>1</sub>,y<sub>1</sub>]+[x<sub>2</sub>,y<sub>2</sub>] = f([x<sub>1</sub>+x<sub>2</sub>,y<sub>1</sub>+y<sub>2</sub>]) = \n",
    "[x<sub>1</sub>+x<sub>2</sub>+y<sub>1</sub>+y<sub>2</sub>,3$\\cdot$(x<sub>1</sub>+x<sub>2</sub>)] =   \n",
    "[x<sub>1</sub>+x<sub>2</sub>+y<sub>1</sub>+y<sub>2</sub>,3$\\cdot$x<sub>1</sub>+3$\\cdot$x<sub>2</sub>]=\n",
    "[x<sub>1</sub>+y<sub>1</sub>,3$\\cdot$x<sub>1</sub>]+[x<sub>2</sub>+y<sub>2</sub>,3$\\cdot$x<sub>2</sub>]=\n",
    "f(x<sub>1</sub>,y<sub>1</sub>)+f(x<sub>2</sub>+y<sub>2</sub>)</style>  \n",
    "\n",
    "<span style=\"color:orange\">Luego, la función f(x,y) es una función lineal.</style>  "
   ]
  },
  {
   "cell_type": "markdown",
   "metadata": {},
   "source": [
    "<span style=\"color:orange\"> Ejemplo:  \n",
    "    ¿La función f(x,y)=(x<sup>2</sup>,0) es una función lineal?  \n",
    "</style>  \n",
    "* <span style=\"color:orange\">f(αx,αy)=((αx)<sup>2</sup>,0)=α<sup>2</sup>(x<sup>2</sup>,0)=α<sup>2</sup> f(x,y)\n",
    "\n",
    "<span style=\"color:orange\">Luego, la función f(x,y) no es una función lineal.</style>  "
   ]
  },
  {
   "cell_type": "markdown",
   "metadata": {},
   "source": [
    "### Imagen de una función lineal\n",
    "\n",
    "Dada una función f: $\\mathbb{V}$ $\\longrightarrow$ $\\mathbb{W}$, se define como conjunto **imagen**:\n",
    "> Imf = {**w** $\\in$ $\\mathbb{W}$ : $\\exists$ **v** $\\in$ $\\mathbb{V}$ tal que **w**= f (**v**)} \n",
    "\n",
    "### Núcleo de una función lineal (Kernel)  \n",
    "\n",
    "Dada una función f: $\\mathbb{V}$ $\\longrightarrow$ $\\mathbb{W}$, se define como **núcleo** el conjunto de todos los vectpres de $\\mathbb{V}$ cuya imagen es el vector nulo de $\\mathbb{W}$:\n",
    "> Kerf = {**v** $\\in$ $\\mathbb{V}$: f (**v**) = **0**}  \n",
    "\n",
    "\n",
    "### Propiedad sobre dimensiones\n",
    "\n",
    "Si f: $\\mathbb{V}$<sup>n</sup>($\\mathbb{K}$) $\\longrightarrow$ $\\mathbb{W}$<sup>m</sup>($\\mathbb{K}$), entonces:  \n",
    "> dim(Kerf)+dim(Imf)=n"
   ]
  },
  {
   "cell_type": "markdown",
   "metadata": {},
   "source": [
    "### Clasificación de las funciones lineales\n",
    "\n",
    "Dada una función f: $\\mathbb{V}$ $\\longrightarrow$ $\\mathbb{W}$, se dice que:  \n",
    "* f es **inyectiva** si para cada elemento de $\\mathbb{V}$ existe un único elemento en  $\\mathbb{W}$ . \n",
    "* f es **sobreyectiva** si cada elemento de $\\mathbb{W}$ tiene por lo menos uno de $\\mathbb{V}$ (a lo mejor más de uno) \n",
    "* f es **biyectiva** o **isomorfismo** si es inyectiva y sobreyectiva  (para cada w en $\\mathbb{W}$, hay exactamente un v en $\\mathbb{V}$ que cumple que f(v) = w)  \n",
    "\n",
    "![No se puede mostrar](Images/function-mapping.gif)\n",
    "\n",
    "Una función lineal es **biyectiva** si y solo si su kernel es un espacio vectorial trivial. \n",
    "\n"
   ]
  },
  {
   "cell_type": "markdown",
   "metadata": {},
   "source": [
    "### Endomorfismos \n",
    "\n",
    "Los **endomorfismos** son homomorfismos en los que coincide el espacio de llegada con el de salida:  \n",
    "> f: $\\mathbb{V}$<sup>n</sup>($\\mathbb{K}$) $\\longrightarrow$ $\\mathbb{V}$<sup>n</sup>($\\mathbb{K}$)"
   ]
  },
  {
   "cell_type": "markdown",
   "metadata": {},
   "source": [
    "### Automorfismos\n",
    "\n",
    "Los **automorfismos** son endomorfismos en los que además f es biyectiva."
   ]
  },
  {
   "cell_type": "markdown",
   "metadata": {},
   "source": [
    "## Transformaciones matriciales\n",
    "\n",
    "Ahora estudiaremos la relación entre una matriz M y la función x → M * x.\n",
    "\n",
    "Esta relación tiene dos caras:\n",
    "* Partiendo de la matriz M, llegar a x → M * x  \n",
    "* Pasar de la función x → M * x a la matriz M.\n",
    "\n",
    "\n"
   ]
  },
  {
   "cell_type": "markdown",
   "metadata": {},
   "source": [
    "## De matrices a funciones\n",
    "\n",
    "Dada una matriz M, definimos la función f(x) = M * x.  \n",
    "  \n",
    "Si M es una matriz R × C sobre $\\mathbb{F}$: \n",
    "> f:$\\mathbb{F}$<sup>C</sup> $\\longrightarrow$ $\\mathbb{F}$<sup>R</sup>\n",
    "\n",
    "* El dominio de f es $\\mathbb{F}$<sup>C</sup>  \n",
    "* El codominio de f es $\\mathbb{F}$<sup>R</sup>  \n",
    "\n",
    "<span style=\"color:orange\"> Ejemplo:  \n",
    "Dada la matriz $\n",
    "  M =\n",
    "  \\left[ {\\begin{array}{cc}\n",
    "   1 & 2 & 3 \\\\\n",
    "   10 & 20 & 30 \\\\\n",
    "  \\end{array} } \\right]\n",
    "$, definimos f(x) = M $\\cdot$ **x**.  \n",
    "Por ejemplo, si tenemos el vector (2,2,-2) la imagen nos devuelve (0,0). Veámoslo: </style>  \n",
    "\n"
   ]
  },
  {
   "cell_type": "code",
   "execution_count": 2,
   "metadata": {},
   "outputs": [
    {
     "data": {
      "text/plain": [
       "matrix([[0],\n",
       "        [0]])"
      ]
     },
     "execution_count": 2,
     "metadata": {},
     "output_type": "execute_result"
    }
   ],
   "source": [
    "import numpy as np\n",
    "\n",
    "def funcion(v):\n",
    "    M=np.matrix([\n",
    "        [1,2,3],\n",
    "        [10,20,30]\n",
    "    ])\n",
    "    f=M*v\n",
    "    return f\n",
    "funcion([[2],[2],[-2]])"
   ]
  },
  {
   "cell_type": "markdown",
   "metadata": {},
   "source": [
    "<span style=\"color:orange\">El dominio de f es $\\mathbb{R}$<sup>3</sup> y su imagen es $\\mathbb{R}$<sup>2</sup>. </style>  "
   ]
  },
  {
   "cell_type": "markdown",
   "metadata": {},
   "source": [
    "# De funciones a matrices\n",
    "\n",
    "Dada una función f:$\\mathbb{F}$<sup>A</sup> $\\longrightarrow$ $\\mathbb{F}$<sup>B</sup> .  \n",
    "\n",
    "Queremos calcular una matriz M tal que f(x) = M $\\cdot$ **x**.  \n",
    "* Como el dominio es $\\mathbb{F}$<sup>A</sup>, sabemos que el vector de entrada es un A-vector.  \n",
    "* Para que el producto M * x se pueda hacer, necesitamos que el número de columnas de M sea A.  \n",
    "* Dado que la imagen es $\\mathbb{F}$<sup>B</sup>, sabemos que la salida f (x) = M * x es un B-vector.   \n",
    "* Para lograr eso, necesitamos que el número de filas de M sea B.  \n",
    "\n",
    "Por tanto, M tiene que ser una matriz B × A.  \n",
    "¿Cómo calculamos los valores de la matriz?  \n",
    "* Escribimos una matriz M en términos de unos vectores desconocidos v<sub>i</sub>: M= [v<sub>1</sub> | ... |v<sub>n</sub> ].  \n",
    "* Sean los vectores estándar: **e**<sub>1</sub>=(1,0,0,...,0,0),...,**e**<sub>n</sub>=(0,0,0,...,0,1):  \n",
    "> f(**e**<sub>1</sub>) = [v<sub>1</sub> | ... |v<sub>n</sub> ] $\\cdot$ (1,0,0,...,0,0) = v<sub>1</sub>  \n",
    "> ...  \n",
    "> f(**e**<sub>n</sub>) = [v<sub>1</sub> | ... |v<sub>n</sub> ] $\\cdot$ (0,0,0,...,0,1) = v<sub>v</sub>  \n",
    "\n",
    "<span style=\"color:orange\"> Ejemplo: Escalado horizontal.</style>    \n",
    "<img src=\"Images/shaping_stretch_horiz.jpg\" style=\"width: 200px;\"/>\n",
    "<span style=\"color:orange\"> Definimos s([x,y]) = función ampliación por dos en dirección horizontal.  \n",
    "Sabemos que s([x , y ]) = M ∗ [x , y ] para alguna matriz M .</style>   \n",
    "> * <span style=\"color:orange\">Sabemos que s([1,0])=[2,0]  (porque aumentamos por dos en horizontal).</style>  \n",
    "> * <span style=\"color:orange\">Sabemos que s([0,1])=[0,1]  (porque no hay cambios en la vertical).</style>  \n",
    "\n",
    "<span style=\"color:orange\">Por lo tanto, la matriz M escritos los vectores en columnas:  \n",
    "$\n",
    "  M =\n",
    "  \\left[ {\\begin{array}{cc}\n",
    "   2 & 0 \\\\\n",
    "   0 & 1 \\\\\n",
    "  \\end{array} } \\right]\n",
    "$</style>   \n",
    "\n",
    "<span style=\"color:orange\"> Veamos cómo escalar esto mismo en Python</style>"
   ]
  },
  {
   "cell_type": "code",
   "execution_count": 8,
   "metadata": {},
   "outputs": [
    {
     "data": {
      "text/plain": [
       "matrix([[2],\n",
       "        [0]])"
      ]
     },
     "execution_count": 8,
     "metadata": {},
     "output_type": "execute_result"
    }
   ],
   "source": [
    "M=np.matrix([\n",
    "    [2,0],\n",
    "    [0,1]\n",
    "])\n",
    "\n",
    "def escalado(v):\n",
    "    w=M*v\n",
    "    return w\n",
    "\n",
    "escalado([[1],[0]])"
   ]
  },
  {
   "cell_type": "code",
   "execution_count": 4,
   "metadata": {},
   "outputs": [
    {
     "data": {
      "text/plain": [
       "matrix([[0],\n",
       "        [1]])"
      ]
     },
     "execution_count": 4,
     "metadata": {},
     "output_type": "execute_result"
    }
   ],
   "source": [
    "escalado([[0],[1]])"
   ]
  },
  {
   "cell_type": "markdown",
   "metadata": {},
   "source": [
    "<span style=\"color:orange\"> Pregunta:  \n",
    "¿Y si la matriz M la hubiésemos escrito en filas en vez de en columnas?</style>"
   ]
  },
  {
   "cell_type": "code",
   "execution_count": null,
   "metadata": {},
   "outputs": [],
   "source": []
  },
  {
   "cell_type": "markdown",
   "metadata": {},
   "source": [
    "<span style=\"color:orange\"> Ejemplo: Rotación de 90º.</style>    \n",
    "<img src=\"Images/Rotation_90_clockwise_example.jpg\" style=\"width: 200px;\"/>\n",
    "<span style=\"color:orange\"> Definimos r([x,y]) = función rotación 90º.  \n",
    "Sabemos que r([x , y ]) = M ∗ [x , y ] para alguna matriz M .</style>   \n",
    "> * <span style=\"color:orange\">Sabemos que r([1,0])=[0,-1]  .</style>  \n",
    "> * <span style=\"color:orange\">Sabemos que r([0,1])=[1,0]  .</style>  \n",
    "\n",
    "<span style=\"color:orange\">Por lo tanto:  \n",
    "$\n",
    "  M =\n",
    "  \\left[ {\\begin{array}{cc}\n",
    "   0 & 1 \\\\\n",
    "   -1 & 0 \\\\\n",
    "  \\end{array} } \\right]\n",
    "$</style>   \n",
    "\n"
   ]
  },
  {
   "cell_type": "code",
   "execution_count": 9,
   "metadata": {},
   "outputs": [
    {
     "data": {
      "text/plain": [
       "matrix([[ 0],\n",
       "        [-1]])"
      ]
     },
     "execution_count": 9,
     "metadata": {},
     "output_type": "execute_result"
    }
   ],
   "source": [
    "M=np.matrix([\n",
    "    [0,1],\n",
    "    [-1,0]\n",
    "])\n",
    "\n",
    "def rotacion_90(v):\n",
    "    w=M*v\n",
    "    return w\n",
    "\n",
    "rotacion_90([[1],[0]])"
   ]
  },
  {
   "cell_type": "code",
   "execution_count": 10,
   "metadata": {},
   "outputs": [
    {
     "data": {
      "text/plain": [
       "matrix([[1],\n",
       "        [0]])"
      ]
     },
     "execution_count": 10,
     "metadata": {},
     "output_type": "execute_result"
    }
   ],
   "source": [
    "rotacion_90([[0],[1]])"
   ]
  },
  {
   "cell_type": "markdown",
   "metadata": {},
   "source": [
    "<span style=\"color:orange\"> Ejemplo: Rotación de $\\theta$º.</style>    \n",
    "<span style=\"color:orange\"> Definimos r([x,y]) = función rotación $\\theta$º.  \n",
    "Sabemos que r([x , y ]) = M ∗ [x , y ] para alguna matriz M .</style>   \n",
    "> * <span style=\"color:orange\">Sabemos que r([1,0])=[cos$\\theta$,-sen$\\theta$]  .</style>  \n",
    "> * <span style=\"color:orange\">Sabemos que r([0,1])=[sen$\\theta$,cos$\\theta$]  .</style>  \n",
    "\n",
    "<span style=\"color:orange\">Por lo tanto:  \n",
    "$\n",
    "  M =\n",
    "  \\left[ {\\begin{array}{cc}\n",
    "   cos\\theta & sin\\theta \\\\\n",
    "   -sin\\theta & cos\\theta \\\\\n",
    "  \\end{array} } \\right]\n",
    "$</style>  \n",
    "\n"
   ]
  },
  {
   "cell_type": "code",
   "execution_count": 12,
   "metadata": {},
   "outputs": [
    {
     "data": {
      "text/plain": [
       "matrix([[1.],\n",
       "        [1.]])"
      ]
     },
     "execution_count": 12,
     "metadata": {},
     "output_type": "execute_result"
    }
   ],
   "source": [
    "import math\n",
    "\n",
    "def sen(grados):\n",
    "    return math.sin(math.radians(grados))\n",
    "\n",
    "def cos(grados):\n",
    "    return math.sin(math.radians(grados))\n",
    "\n",
    "def rotacion_theta(v,theta):\n",
    "    M=np.matrix([\n",
    "        [cos(theta),sen(theta)],\n",
    "        [-sen(theta),cos(theta)]\n",
    "    ])\n",
    "    w=M*v\n",
    "    return w\n",
    "\n",
    "rotacion_theta([[0],[1]],90)"
   ]
  },
  {
   "cell_type": "code",
   "execution_count": null,
   "metadata": {},
   "outputs": [],
   "source": []
  },
  {
   "cell_type": "markdown",
   "metadata": {},
   "source": [
    "<span style=\"color:orange\"> Ejemplo: Traslación.</style> \n",
    "<img src=\"Images/translation_example.jpg\" style=\"width: 200px;\"/>\n",
    "<span style=\"color:orange\"> Definimos t([x,y]) = función traslación por [1,2].  \n",
    "Sabemos que t([x , y ]) = M ∗ [x , y ] para alguna matriz M .</style>   \n",
    "> * <span style=\"color:orange\">Sabemos que t([1,0])=[2,2]  .</style>  \n",
    "> * <span style=\"color:orange\">Sabemos que t([0,1])=[1,3]  .</style>  \n",
    "\n",
    "<span style=\"color:orange\">Por lo tanto:  \n",
    "$\n",
    "  M =\n",
    "  \\left[ {\\begin{array}{cc}\n",
    "   2 & 1 \\\\\n",
    "   2 & 3 \\\\\n",
    "  \\end{array} } \\right]\n",
    "$</style>  \n",
    "\n"
   ]
  },
  {
   "cell_type": "code",
   "execution_count": null,
   "metadata": {},
   "outputs": [],
   "source": []
  },
  {
   "cell_type": "code",
   "execution_count": null,
   "metadata": {},
   "outputs": [],
   "source": []
  },
  {
   "cell_type": "markdown",
   "metadata": {},
   "source": [
    "<span style=\"color:orange\"> Ejemplo: Función identidad.  \n",
    "Sea f(**x**)=**x**, con f:$\\mathbb{R}$<sup>4</sup> $\\longrightarrow$ $\\mathbb{R}$<sup>4</sup>\n",
    "Sabemos que f(**x**) = M ∗ **x** para alguna matriz M .  \n",
    "Cogemos los generadores estándar:</style>  \n",
    "* <span style=\"color:orange\">e<sub>1</sub>=(1,0,0,0) $\\longrightarrow$ f(e<sub>1</sub>)=e<sub>1</sub>, por lo que la primera columna es e<sub>1</sub></style>  \n",
    "* <span style=\"color:orange\">e<sub>2</sub>=(0,1,0,0) $\\longrightarrow$ f(e<sub>2</sub>)=e<sub>2</sub>, por lo que la segunda columna es e<sub>2</sub></style>    \n",
    "* <span style=\"color:orange\">e<sub>3</sub>=(0,0,1,0) $\\longrightarrow$ f(e<sub>3</sub>)=e<sub>3</sub>, por lo que la tercera columna es e<sub>3</sub></style>    \n",
    "* <span style=\"color:orange\">e<sub>4</sub>=(0,0,0,1) $\\longrightarrow$ f(e<sub>4</sub>)=e<sub>4</sub>, por lo que la cuarta columna es e<sub>4</sub></style>    \n",
    "\n",
    "<span style=\"color:orange\">Por lo tanto:  \n",
    "$\n",
    "  M =\n",
    "  \\left[ {\\begin{array}{cc}\n",
    "   1 & 0 & 0 & 0 \\\\\n",
    "   0 & 1 & 0 & 0 \\\\\n",
    "   0 & 0 & 1 & 0 \\\\\n",
    "   0 & 0 & 0 & 1 \\\\\n",
    "  \\end{array} } \\right]\n",
    "$</style>  \n",
    "\n"
   ]
  },
  {
   "cell_type": "code",
   "execution_count": null,
   "metadata": {},
   "outputs": [],
   "source": []
  },
  {
   "cell_type": "markdown",
   "metadata": {},
   "source": [
    "¿Todas las transformaciones que hemos visto realmente son funciones lineales? \n",
    "\n",
    "<span style=\"color:orange\"> Ejemplo:  \n",
    "¿La función ampliación horizontal por dos s(x,y) es una función lineal?  \n",
    "</style>  \n",
    "* <span style=\"color:orange\">s(αx,αy)=(2αx,αy)=α(2x,y)=α$\\cdot$s(x,y)</style>  \n",
    "* <span style=\"color:orange\">s([x<sub>1</sub>,y<sub>1</sub>]+[x<sub>2</sub>,y<sub>2</sub>] = s(x<sub>1</sub>+x<sub>2</sub>,y<sub>1</sub>+y<sub>2</sub>) = (2[x<sub>1</sub>+x<sub>2</sub>],y<sub>1</sub>+y<sub>2</sub>) =  (2$\\cdot$x<sub>1</sub>+2$\\cdot$x<sub>2</sub>],y<sub>1</sub>+y<sub>2</sub>) = (2$\\cdot$x<sub>1</sub>,y<sub>1</sub>)+(2$\\cdot$x<sub>2</sub>,y<sub>2</sub>) = s(x<sub>1</sub>,y<sub>1</sub>)+s(x<sub>2</sub>,y<sub>2</sub>)</style>    \n",
    "\n",
    "<span style=\"color:orange\">Luego, la función s(x,y) es una función lineal.</style>  \n",
    "\n",
    "<span style=\"color:orange\">Si quisiésemos escribirlo en Python:</style>  "
   ]
  },
  {
   "cell_type": "code",
   "execution_count": null,
   "metadata": {},
   "outputs": [],
   "source": []
  },
  {
   "cell_type": "code",
   "execution_count": null,
   "metadata": {},
   "outputs": [],
   "source": []
  },
  {
   "cell_type": "code",
   "execution_count": null,
   "metadata": {},
   "outputs": [],
   "source": []
  },
  {
   "cell_type": "code",
   "execution_count": null,
   "metadata": {},
   "outputs": [],
   "source": []
  },
  {
   "cell_type": "code",
   "execution_count": null,
   "metadata": {},
   "outputs": [],
   "source": []
  },
  {
   "cell_type": "markdown",
   "metadata": {},
   "source": [
    "<span style=\"color:blue\"> Ejemplo:  \n",
    "Comprobar que r(x,y) para un ángulo $\\theta$ es una función lineal.</style> "
   ]
  },
  {
   "cell_type": "code",
   "execution_count": null,
   "metadata": {},
   "outputs": [],
   "source": []
  },
  {
   "cell_type": "code",
   "execution_count": null,
   "metadata": {},
   "outputs": [],
   "source": []
  },
  {
   "cell_type": "code",
   "execution_count": null,
   "metadata": {},
   "outputs": [],
   "source": []
  },
  {
   "cell_type": "code",
   "execution_count": null,
   "metadata": {},
   "outputs": [],
   "source": []
  },
  {
   "cell_type": "code",
   "execution_count": null,
   "metadata": {},
   "outputs": [],
   "source": []
  },
  {
   "cell_type": "markdown",
   "metadata": {},
   "source": [
    "<span style=\"color:orange\"> Ejemplo:   \n",
    "¿La función traslación por [1,2] t(x,y) es una función lineal?    \n",
    "No es una función lineal ya que no cumple la primera propiedad.  \n",
    "Sea por ejemplo el vector [2,3]:</style>     \n",
    "* <span style=\"color:orange\">t(5$\\cdot$[2,3]) = t(10,15)=(11,17)</style>     \n",
    "* <span style=\"color:orange\">5$\\cdot$ t[2,3] = 5$\\cdot$(3,5)=(15,25).</style>    \n",
    "\n",
    "Si f es una función lineal, f(**0**)=**0**.  "
   ]
  },
  {
   "cell_type": "markdown",
   "metadata": {},
   "source": [
    "# Función composición de la multiplicación matricial. \n",
    "\n",
    "Sean las matrices A y B, con funciones f(**y**)=A $\\cdot$ **y** y g(**x**)=B $\\cdot$ **x**.  \n",
    "Sea h(**x**)=(AB)$\\cdot$**x**.  \n",
    "Entonces se cumple que h = f o g.  \n",
    "\n",
    "<span style=\"color:orange\"> Ejemplo: \n",
    "Sean las matrices $\n",
    "  A =\n",
    "  \\left[ {\\begin{array}{cc}\n",
    "   1 & 1 \\\\\n",
    "   0 & 1 \\\\\n",
    "  \\end{array} } \\right]\n",
    "$ y $\n",
    "  B =\n",
    "  \\left[ {\\begin{array}{cc}\n",
    "   1 & 0 \\\\\n",
    "   1 & 1 \\\\\n",
    "  \\end{array} } \\right]\n",
    "$ . Comprobar que se cumple el lema de la función composición.</style>   \n"
   ]
  },
  {
   "cell_type": "code",
   "execution_count": null,
   "metadata": {},
   "outputs": [],
   "source": []
  },
  {
   "cell_type": "code",
   "execution_count": null,
   "metadata": {},
   "outputs": [],
   "source": []
  },
  {
   "cell_type": "markdown",
   "metadata": {},
   "source": [
    "<span style=\"color:orange\"> Luego, h=fog</style>   "
   ]
  }
 ],
 "metadata": {
  "kernelspec": {
   "display_name": "Python 3",
   "language": "python",
   "name": "python3"
  },
  "language_info": {
   "codemirror_mode": {
    "name": "ipython",
    "version": 3
   },
   "file_extension": ".py",
   "mimetype": "text/x-python",
   "name": "python",
   "nbconvert_exporter": "python",
   "pygments_lexer": "ipython3",
   "version": "3.7.4"
  }
 },
 "nbformat": 4,
 "nbformat_minor": 2
}
