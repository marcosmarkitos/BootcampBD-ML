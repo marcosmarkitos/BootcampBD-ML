{
 "cells": [
  {
   "cell_type": "markdown",
   "metadata": {},
   "source": [
    "# 3. Overview"
   ]
  },
  {
   "cell_type": "markdown",
   "metadata": {},
   "source": [
    "## Mindmap   \n",
    "\n",
    "<img src=\"Images/Mindmap_Algebra.png\" style=\"width: 1000px;\"/>\n",
    "\n",
    "https://www.goconqr.com/es-ES/p/17367763-Algebra-mind_maps"
   ]
  },
  {
   "cell_type": "markdown",
   "metadata": {},
   "source": [
    "## Datos atómicos\n",
    "\n",
    "### Números reales\n",
    "\n",
    "<img src=\"Images/reales.png\" style=\"width: 400px;\"/>\n",
    "\n",
    "### Números complejos\n",
    "\n",
    "<img src=\"Images/conjunto de los numeros complejos.png\" style=\"width: 400px;\"/>\n",
    "\n",
    "\n",
    "* $\\mathbb{C}$=$\\mathbb{R}$U{i}  \n",
    "* i<sup>2</sup>=-1\n",
    "\n",
    "<img src=\"Images/caracteristicas-de-los-numeros-complejos-300x197.jpg\" style=\"width: 400px;\"/>"
   ]
  },
  {
   "cell_type": "markdown",
   "metadata": {},
   "source": [
    "* *Parte decimal de un número*  \n",
    "<span style=\"color:orange\"> Ejemplo: Vamos a calcular la parte decimal de 4.14656</style>"
   ]
  },
  {
   "cell_type": "code",
   "execution_count": 1,
   "metadata": {},
   "outputs": [
    {
     "data": {
      "text/plain": [
       "0.14656000000000002"
      ]
     },
     "execution_count": 1,
     "metadata": {},
     "output_type": "execute_result"
    }
   ],
   "source": [
    "a=4.14656\n",
    "abs(a)-abs(int(a))\n",
    "# Ese residuo infinitesimal que vemos es un redondeo de las operaciones en bytes."
   ]
  },
  {
   "cell_type": "markdown",
   "metadata": {},
   "source": [
    "## Agrupaciones de datos\n",
    "\n",
    "> Conjuntos  \n",
    "> Listas  \n",
    "> Tuplas  \n",
    "> Diccionarios"
   ]
  },
  {
   "cell_type": "markdown",
   "metadata": {},
   "source": [
    "<span style=\"color:orange\"> Ejemplo: Escribamos el conjunto 2,2,1,1,3,3</style>"
   ]
  },
  {
   "cell_type": "code",
   "execution_count": 2,
   "metadata": {},
   "outputs": [
    {
     "data": {
      "text/plain": [
       "{1, 2, 3}"
      ]
     },
     "execution_count": 2,
     "metadata": {},
     "output_type": "execute_result"
    }
   ],
   "source": [
    "{ 2,2,1,1,3,3}\n",
    "# Vemos que sólo nos devuelve una vez cada valor, es decir, sólo elementos distintos"
   ]
  },
  {
   "cell_type": "markdown",
   "metadata": {},
   "source": [
    "<span style=\"color:orange\"> Ejemplo: Escribamos la lista 1,1+1,3,2</style>"
   ]
  },
  {
   "cell_type": "code",
   "execution_count": 7,
   "metadata": {},
   "outputs": [
    {
     "data": {
      "text/plain": [
       "[1, 2, 3, 2]"
      ]
     },
     "execution_count": 7,
     "metadata": {},
     "output_type": "execute_result"
    }
   ],
   "source": [
    "lista=[1,1+1,3,2]\n",
    "lista\n",
    "# Realmente el segundo y el cuarto valor son iguales, pero en las listas, al importar el orden, aparecen los dos\n",
    "#, ya que realmente no son el mismo"
   ]
  },
  {
   "cell_type": "code",
   "execution_count": 8,
   "metadata": {},
   "outputs": [
    {
     "data": {
      "text/plain": [
       "2"
      ]
     },
     "execution_count": 8,
     "metadata": {},
     "output_type": "execute_result"
    }
   ],
   "source": [
    "# Imaginemos que queremos que nos devuelva el elemento que está en la posición 1. Haríamos:\n",
    "lista[1]\n",
    "# Cuidado! La primera posición en Python es el 0"
   ]
  },
  {
   "cell_type": "code",
   "execution_count": 9,
   "metadata": {},
   "outputs": [
    {
     "data": {
      "text/plain": [
       "1"
      ]
     },
     "execution_count": 9,
     "metadata": {},
     "output_type": "execute_result"
    }
   ],
   "source": [
    "lista[0]"
   ]
  },
  {
   "cell_type": "markdown",
   "metadata": {},
   "source": [
    "<span style=\"color:orange\"> Ejemplo: Escribamos la tupla 1,1+1,3,2</style>"
   ]
  },
  {
   "cell_type": "code",
   "execution_count": 10,
   "metadata": {},
   "outputs": [
    {
     "data": {
      "text/plain": [
       "(1, 2, 3, 2)"
      ]
     },
     "execution_count": 10,
     "metadata": {},
     "output_type": "execute_result"
    }
   ],
   "source": [
    "tupla=(1,1+1,3,2)\n",
    "tupla"
   ]
  },
  {
   "cell_type": "markdown",
   "metadata": {},
   "source": [
    "<span style=\"color:orange\"> Ejemplo: Veamos un diccionario sencillo, que consiste en los pronombre personales en singular en español y en inglés</style>"
   ]
  },
  {
   "cell_type": "code",
   "execution_count": 11,
   "metadata": {},
   "outputs": [
    {
     "data": {
      "text/plain": [
       "{'yo': 'I', 'tú': 'You', 'él': 'He'}"
      ]
     },
     "execution_count": 11,
     "metadata": {},
     "output_type": "execute_result"
    }
   ],
   "source": [
    "pronombres={'yo':'I','tú':'You','él':'He'}\n",
    "pronombres"
   ]
  },
  {
   "cell_type": "code",
   "execution_count": 12,
   "metadata": {},
   "outputs": [
    {
     "data": {
      "text/plain": [
       "'I'"
      ]
     },
     "execution_count": 12,
     "metadata": {},
     "output_type": "execute_result"
    }
   ],
   "source": [
    "#  Queremos obtener lo que tiene guardado el diccionario pronombres para \"yo\"\n",
    "pronombres['yo']"
   ]
  },
  {
   "cell_type": "markdown",
   "metadata": {},
   "source": [
    "## Aspectos de Python que debemos recordar\n",
    "\n",
    "### Iterar una lista en Python\n",
    "\n",
    "<span style=\"color:orange\"> Ejemplo: Queremos iterar la lista con todos los módulos principales que veremos a lo largo del Bootcamp.</style>"
   ]
  },
  {
   "cell_type": "code",
   "execution_count": 13,
   "metadata": {},
   "outputs": [
    {
     "data": {
      "text/plain": [
       "['BD Architecture',\n",
       " 'BD Processing',\n",
       " 'Tableau',\n",
       " 'D3',\n",
       " 'Estadística',\n",
       " 'Álgebra',\n",
       " 'Data Mining',\n",
       " 'Machine Learning',\n",
       " 'Deep Learning',\n",
       " 'NLP']"
      ]
     },
     "execution_count": 13,
     "metadata": {},
     "output_type": "execute_result"
    }
   ],
   "source": [
    "# Escribimos nuestra lista\n",
    "bootcamp= [\"BD Architecture\", \"BD Processing\", \"Tableau\", \"D3\", \"Estadística\", \"Álgebra\", \"Data Mining\"\n",
    "           , \"Machine Learning\", \"Deep Learning\",\"NLP\"]\n",
    "bootcamp"
   ]
  },
  {
   "cell_type": "code",
   "execution_count": 14,
   "metadata": {},
   "outputs": [
    {
     "data": {
      "text/plain": [
       "range(0, 10)"
      ]
     },
     "execution_count": 14,
     "metadata": {},
     "output_type": "execute_result"
    }
   ],
   "source": [
    "# Lo siguiente será crear un rango de números que iremos recorriendo y que serán los índices.\n",
    "range(0,len(bootcamp))"
   ]
  },
  {
   "cell_type": "code",
   "execution_count": 15,
   "metadata": {},
   "outputs": [
    {
     "data": {
      "text/plain": [
       "'BD Architecture'"
      ]
     },
     "execution_count": 15,
     "metadata": {},
     "output_type": "execute_result"
    }
   ],
   "source": [
    "# Para acceder al elemento utilizando el indice necesitamos pasar dicho índice entre corchetes. \n",
    "# Así podríamos acceder de forma individual a los elementos escribiendo.\n",
    "# Por ejemplo, el primer elemento\n",
    "bootcamp[0]\n",
    "# y así con el resto de elementos"
   ]
  },
  {
   "cell_type": "code",
   "execution_count": 19,
   "metadata": {},
   "outputs": [
    {
     "name": "stdout",
     "output_type": "stream",
     "text": [
      "Contenido del Bootcamp\n",
      "BD Architecture\n",
      "BD Processing\n",
      "Tableau\n",
      "D3\n",
      "Estadística\n",
      "Álgebra\n",
      "Data Mining\n",
      "Machine Learning\n",
      "Deep Learning\n",
      "NLP\n"
     ]
    }
   ],
   "source": [
    "# Ahora solo nos quedará utilizar este rango con el bucle for-each y el acceso mediante índices del siguiente modo\n",
    "print (\"Contenido del Bootcamp\")\n",
    "for x in range(0,len(bootcamp)):\n",
    "    print(bootcamp[x])\n",
    "# Seguro que alguno conoce más formas, pero en cualquier caso, esta es una de ellas :D"
   ]
  }
 ],
 "metadata": {
  "kernelspec": {
   "display_name": "Python 3",
   "language": "python",
   "name": "python3"
  },
  "language_info": {
   "codemirror_mode": {
    "name": "ipython",
    "version": 3
   },
   "file_extension": ".py",
   "mimetype": "text/x-python",
   "name": "python",
   "nbconvert_exporter": "python",
   "pygments_lexer": "ipython3",
   "version": "3.7.4"
  }
 },
 "nbformat": 4,
 "nbformat_minor": 2
}
