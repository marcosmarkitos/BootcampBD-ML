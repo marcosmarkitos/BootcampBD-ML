{
 "cells": [
  {
   "cell_type": "markdown",
   "metadata": {},
   "source": [
    "# 7. Matrices"
   ]
  },
  {
   "cell_type": "markdown",
   "metadata": {},
   "source": [
    "## ¿Qué es una matriz?\n",
    "\n",
    "Si A es una matriz m × n, esto es, una matriz con m filas y n columnas, entonces la entrada escalar en la i-ésima  la y la j-ésima columna de A se denota mediante aij y se llama entrada (i, j) de A.  \n",
    "$\n",
    "  M=\n",
    "  \\left[ {\\begin{array}{cc}\n",
    "   a_{11} & a_{12}  & ... & a_{1j}  \\\\\n",
    "   a_{21} & a_{22}  & ... & a_{2j}  \\\\\n",
    "   ... & ...  & ... & ...  \\\\\n",
    "   a_{i1} & a_{i2}  & ... & a_{ij}  \\\\\n",
    "  \\end{array} } \\right]\n",
    "$  \n",
    "Las entradas diagonales en una matriz m × n A = [aij] son a<sub>11</sub>, a<sub>22</sub>, a<sub>33</sub>, ... , y forman la **diagonal principal** de A.  \n",
    "Una **matriz diagonal** es una matriz cuadrada cuyas entradas no diagonales son cero.  \n",
    "Un ejemplo es la matriz identidad n × n, I<sub>n</sub>.  \n",
    "$\n",
    "  I_n=\n",
    "  \\left[ {\\begin{array}{cc}\n",
    "   1 & 0  & ... & 0  \\\\\n",
    "   0 & 1  & ... & 0  \\\\\n",
    "   ... & ...  & ... & ...  \\\\\n",
    "   0 & 0  & ... & 1  \\\\\n",
    "  \\end{array} } \\right]\n",
    "$  \n",
    "Una matriz de m × n cuyas entradas son todas cero es una **matriz cero** y se escribe como 0. El tamaño de 0, por lo general, resulta evidente a partir del contexto.  \n",
    "\n",
    "La representación en Python puede venir dada de varias maneras diferentes. Nosotros vamos a ver:  \n",
    "* Arrays  \n",
    "* Matrices  \n",
    "\n",
    "NOTA: Las ventajas de usar matrices en el fondo son muy pocas y además la mayoría de funciones de NumPy maneja arrays, así que tendrías que convertir entre ambos tipos constantemente. Vamos a mostrar brevemente el uso de las matrices también, pero mejor utilizar arrays y olvidarse.\n"
   ]
  },
  {
   "cell_type": "markdown",
   "metadata": {},
   "source": [
    "<span style=\"color:orange\"> Ejemplo: Escribamos en Python la siguiente matriz: \n",
    "$\n",
    "  A=\n",
    "  \\left[ {\\begin{array}{cc}\n",
    "   1 & 2  & 3   \\\\\n",
    "   10 & 20  & 30   \\\\\n",
    "  \\end{array} } \\right]\n",
    "$.  \n",
    "Primero con matrices:</style> "
   ]
  },
  {
   "cell_type": "code",
   "execution_count": 1,
   "metadata": {},
   "outputs": [
    {
     "data": {
      "text/plain": [
       "matrix([[ 1,  2,  3],\n",
       "        [10, 20, 30]])"
      ]
     },
     "execution_count": 1,
     "metadata": {},
     "output_type": "execute_result"
    }
   ],
   "source": [
    "import numpy as np\n",
    "np.matrix([\n",
    "   [1, 2, 3],\n",
    "   [10, 20, 30]\n",
    "   ])"
   ]
  },
  {
   "cell_type": "markdown",
   "metadata": {},
   "source": [
    "<span style=\"color:orange\">Ahora con arrays:</style> "
   ]
  },
  {
   "cell_type": "code",
   "execution_count": 2,
   "metadata": {},
   "outputs": [
    {
     "data": {
      "text/plain": [
       "array([[ 1,  2,  3],\n",
       "       [10, 20, 30]])"
      ]
     },
     "execution_count": 2,
     "metadata": {},
     "output_type": "execute_result"
    }
   ],
   "source": [
    "import numpy as np\n",
    "A = np.array([[1, 2,3], [10,20,30]])\n",
    "A"
   ]
  },
  {
   "cell_type": "markdown",
   "metadata": {},
   "source": [
    "<span style=\"color:orange\"> Ejemplo: Ahora queremos generar la matriz identidad de orden 4\n",
    "</style> "
   ]
  },
  {
   "cell_type": "code",
   "execution_count": 3,
   "metadata": {},
   "outputs": [
    {
     "data": {
      "text/plain": [
       "array([[1., 0., 0., 0.],\n",
       "       [0., 1., 0., 0.],\n",
       "       [0., 0., 1., 0.],\n",
       "       [0., 0., 0., 1.]])"
      ]
     },
     "execution_count": 3,
     "metadata": {},
     "output_type": "execute_result"
    }
   ],
   "source": [
    "import numpy as np\n",
    "np.identity(4)"
   ]
  },
  {
   "cell_type": "markdown",
   "metadata": {},
   "source": [
    "<span style=\"color:orange\"> Ejemplo: Escribamos en Python la matriz de 4x3 con unos en una diagonal y ceros en el resto de elementos/style> "
   ]
  },
  {
   "cell_type": "code",
   "execution_count": 4,
   "metadata": {},
   "outputs": [
    {
     "data": {
      "text/plain": [
       "array([[1., 0., 0.],\n",
       "       [0., 1., 0.],\n",
       "       [0., 0., 1.],\n",
       "       [0., 0., 0.]])"
      ]
     },
     "execution_count": 4,
     "metadata": {},
     "output_type": "execute_result"
    }
   ],
   "source": [
    "import numpy as np\n",
    "np.eye(4, 3)"
   ]
  },
  {
   "cell_type": "markdown",
   "metadata": {},
   "source": [
    "<span style=\"color:orange\"> Con el siguiente parámetro podemos controlar qué diagonal se rellena.</style> "
   ]
  },
  {
   "cell_type": "code",
   "execution_count": 5,
   "metadata": {},
   "outputs": [
    {
     "data": {
      "text/plain": [
       "array([[0., 0., 0.],\n",
       "       [1., 0., 0.],\n",
       "       [0., 1., 0.],\n",
       "       [0., 0., 1.]])"
      ]
     },
     "execution_count": 5,
     "metadata": {},
     "output_type": "execute_result"
    }
   ],
   "source": [
    "import numpy as np\n",
    "np.eye(4, 3,k=-1)"
   ]
  },
  {
   "cell_type": "markdown",
   "metadata": {},
   "source": [
    "<span style=\"color:orange\"> Ejemplo: Ahora queremos generar la matriz cero de orden 4\n",
    "</style> "
   ]
  },
  {
   "cell_type": "code",
   "execution_count": 6,
   "metadata": {},
   "outputs": [
    {
     "data": {
      "text/plain": [
       "array([[0., 0., 0., 0.],\n",
       "       [0., 0., 0., 0.],\n",
       "       [0., 0., 0., 0.],\n",
       "       [0., 0., 0., 0.]])"
      ]
     },
     "execution_count": 6,
     "metadata": {},
     "output_type": "execute_result"
    }
   ],
   "source": [
    "import numpy as np\n",
    "A = np.zeros((4, 4))\n",
    "A"
   ]
  },
  {
   "cell_type": "markdown",
   "metadata": {},
   "source": [
    "## Suma de matrices\n",
    "\n",
    "* Se dice que dos **matrices** son **iguales** si tienen el mismo tamaño, es decir, el mismo número de filas y de columnas, y sus columnas correspondientes son iguales.  \n",
    "* Si A y B son matrices m × n, entonces la suma A + B es la matriz m × n cuyas columnas son las sumas de las columnas correspondientes de A y B. Como la suma vectorial de las columnas se realiza por entradas, cada entrada en A + B es la suma de las entradas correspondientes de A y B. \n",
    "* La suma A + B está definida sólo cuando A y B son del mismo tamaño.  \n",
    "\n",
    "<span style=\"color:orange\"> Ejemplo: Queremos sumar las matrices $\n",
    "  matriz1=\n",
    "  \\left[ {\\begin{array}{cc}\n",
    "   1 & 4 \\\\\n",
    "   2 & 0\\\\\n",
    "  \\end{array} } \\right]\n",
    "$ y $\n",
    "  matriz2=\n",
    "  \\left[ {\\begin{array}{cc}\n",
    "   -1 & 2 \\\\\n",
    "   1 & -2\\\\\n",
    "  \\end{array} } \\right]\n",
    "$.  \n",
    "Primero con matrices:</style> "
   ]
  },
  {
   "cell_type": "code",
   "execution_count": 7,
   "metadata": {},
   "outputs": [
    {
     "data": {
      "text/plain": [
       "matrix([[ 0,  6],\n",
       "        [ 3, -2]])"
      ]
     },
     "execution_count": 7,
     "metadata": {},
     "output_type": "execute_result"
    }
   ],
   "source": [
    "import numpy as np\n",
    "\n",
    "matriz1 = np.matrix(\n",
    "    [[1, 4],\n",
    "     [2, 0]]\n",
    ")\n",
    "\n",
    "matriz2 = np.matrix(\n",
    "    [[-1, 2],\n",
    "     [1, -2]]\n",
    ")\n",
    "\n",
    "matriz1 + matriz2"
   ]
  },
  {
   "cell_type": "markdown",
   "metadata": {},
   "source": [
    "<span style=\"color:orange\"> Ahora con arrays:</style> "
   ]
  },
  {
   "cell_type": "code",
   "execution_count": 8,
   "metadata": {},
   "outputs": [
    {
     "data": {
      "text/plain": [
       "array([[ 0,  6],\n",
       "       [ 3, -2]])"
      ]
     },
     "execution_count": 8,
     "metadata": {},
     "output_type": "execute_result"
    }
   ],
   "source": [
    "import numpy as np\n",
    "\n",
    "matriz1 = np.array(\n",
    "    [[1, 4],\n",
    "     [2, 0]]\n",
    ")\n",
    "\n",
    "matriz2 = np.array(\n",
    "    [[-1, 2],\n",
    "     [1, -2]]\n",
    ")\n",
    "\n",
    "matriz1 + matriz2"
   ]
  },
  {
   "cell_type": "markdown",
   "metadata": {},
   "source": [
    "## Multiplicación de una matriz por un escalar\n",
    "\n",
    "* Si r es un escalar y A es una matriz, entonces el múltiplo escalar rA es la matriz cuyas columnas son r veces las columnas correspondientes de A. \n",
    "* Al igual que con los vectores, se de ne −A como (−1)A y se escribe A − B en lugar de A + (−1)B."
   ]
  },
  {
   "cell_type": "markdown",
   "metadata": {},
   "source": [
    "<span style=\"color:orange\"> Ejemplo: Queremos multiplicar la $\n",
    "  matriz1=\n",
    "  \\left[ {\\begin{array}{cc}\n",
    "   1 & 4 \\\\\n",
    "   2 & 0\\\\\n",
    "  \\end{array} } \\right]\n",
    "$ por 2.  \n",
    "Primero con matrices:\n",
    "</style>"
   ]
  },
  {
   "cell_type": "code",
   "execution_count": 9,
   "metadata": {},
   "outputs": [
    {
     "data": {
      "text/plain": [
       "matrix([[2, 8],\n",
       "        [4, 0]])"
      ]
     },
     "execution_count": 9,
     "metadata": {},
     "output_type": "execute_result"
    }
   ],
   "source": [
    "import numpy as np\n",
    "\n",
    "matriz1 = np.matrix(\n",
    "    [[1, 4],\n",
    "     [2, 0]]\n",
    ")\n",
    "\n",
    "2*matriz1"
   ]
  },
  {
   "cell_type": "markdown",
   "metadata": {},
   "source": [
    "<span style=\"color:orange\"> Ahora con arrays:</style> "
   ]
  },
  {
   "cell_type": "code",
   "execution_count": 10,
   "metadata": {},
   "outputs": [
    {
     "data": {
      "text/plain": [
       "array([[2, 8],\n",
       "       [4, 0]])"
      ]
     },
     "execution_count": 10,
     "metadata": {},
     "output_type": "execute_result"
    }
   ],
   "source": [
    "import numpy as np\n",
    "\n",
    "matriz1 = np.array(\n",
    "    [[1, 4],\n",
    "     [2, 0]]\n",
    ")\n",
    "\n",
    "2*matriz1"
   ]
  },
  {
   "cell_type": "markdown",
   "metadata": {},
   "source": [
    "## Multiplicación matricial\n",
    "\n",
    "Si A es una matriz m × n, y si B es una matriz n × p con columnas b<sub>1</sub>, ... , b<sub>p</sub>, entonces el **producto** AB es la matriz m × p cuyas columnas son Ab<sub>1</sub>, ... , Ab<sub>p</sub>.\n",
    "Esto es,\n",
    "> AB = A [ b<sub>1</sub> b<sub>2</sub> ... b<sub>p</sub> ] = [ Ab<sub>1</sub> Ab<sub>2</sub> ... Ab<sub>p</sub> ]  \n",
    "Más explícitamente:\n",
    "A*B= $\n",
    "  \\left[ {\\begin{array}{cc}\n",
    "   a_{11} & a_{12}  & ... & a_{1n}  \\\\\n",
    "   a_{21} & a_{22}  & ... & a_{2n}  \\\\\n",
    "   ... & ...  & ... & ...  \\\\\n",
    "   a_{m1} & a_{m2}  & ... & a_{mn}  \\\\\n",
    "  \\end{array} } \\right]\n",
    "$ * $\n",
    "  \\left[ {\\begin{array}{cc}\n",
    "   b_{11} & b_{12}  & ... & b_{1p}  \\\\\n",
    "   b_{21} & b_{22}  & ... & b_{2p}  \\\\\n",
    "   ... & ...  & ... & ...  \\\\\n",
    "   b_{n1} & b_{n2}  & ... & b_{np}  \\\\\n",
    "  \\end{array} } \\right]\n",
    "$ = $\n",
    "  \\left[ {\\begin{array}{cc}\n",
    "   a_{11}\\cdot b_{11}+ a_{12}\\cdot b_{21} + ... + a_{1n}\\cdot b_{n1}& a_{11}\\cdot b_{12}+ a_{12}\\cdot b_{22} + ... + a_{1n}\\cdot b_{n2}  & ... & a_{11}\\cdot b_{1p}+ a_{12}\\cdot b_{2p} + ... + a_{1n}\\cdot b_{np}  \\\\\n",
    "   a_{21}\\cdot b_{11}+ a_{22}\\cdot b_{21} + ... + a_{2n}\\cdot b_{n1}& a_{21}\\cdot b_{12}+ a_{22}\\cdot b_{22} + ... + a_{2n}\\cdot b_{n2}  & ... & a_{21}\\cdot b_{1p}+ a_{22}\\cdot b_{2p} + ... + a_{2n}\\cdot b_{np}  \\\\\n",
    "   ... & ...  & ... & ...  \\\\\n",
    "      a_{m1}\\cdot b_{11}+ a_{m2}\\cdot b_{21} + ... + a_{mn}\\cdot b_{n1}& a_{m1}\\cdot b_{12}+ a_{m2}\\cdot b_{22} + ... + a_{mn}\\cdot b_{n2}  & ... & a_{m1}\\cdot b_{1p}+ a_{m2}\\cdot b_{2p} + ... + a_{mn}\\cdot b_{np}  \\\\\n",
    "  \\end{array} } \\right]\n",
    "$  \n",
    "\n",
    "<span style=\"color:orange\"> Ejemplo: Queremos multiplicar las matrices $\n",
    "  matriz1=\n",
    "  \\left[ {\\begin{array}{cc}\n",
    "   1 & 4 \\\\\n",
    "   2 & 0\\\\\n",
    "  \\end{array} } \\right]\n",
    "$ y $\n",
    "  matriz2=\n",
    "  \\left[ {\\begin{array}{cc}\n",
    "   -1 & 2 \\\\\n",
    "   1 & -2\\\\\n",
    "  \\end{array} } \\right]\n",
    "$.  \n",
    "Primero con matrices:</style> "
   ]
  },
  {
   "cell_type": "code",
   "execution_count": 11,
   "metadata": {},
   "outputs": [
    {
     "data": {
      "text/plain": [
       "matrix([[ 3, -6],\n",
       "        [-2,  4]])"
      ]
     },
     "execution_count": 11,
     "metadata": {},
     "output_type": "execute_result"
    }
   ],
   "source": [
    "import numpy as np\n",
    "\n",
    "matriz1 = np.matrix(\n",
    "    [[1, 4],\n",
    "     [2, 0]]\n",
    ")\n",
    "\n",
    "matriz2 = np.matrix(\n",
    "    [[-1, 2],\n",
    "     [1, -2]]\n",
    ")\n",
    "\n",
    "matriz1 * matriz2"
   ]
  },
  {
   "cell_type": "markdown",
   "metadata": {},
   "source": [
    "<span style=\"color:orange\"> Ahora con arrays:</style> "
   ]
  },
  {
   "cell_type": "code",
   "execution_count": 12,
   "metadata": {},
   "outputs": [
    {
     "data": {
      "text/plain": [
       "array([[-1,  8],\n",
       "       [ 2,  0]])"
      ]
     },
     "execution_count": 12,
     "metadata": {},
     "output_type": "execute_result"
    }
   ],
   "source": [
    "import numpy as np\n",
    "\n",
    "matriz1 = np.array(\n",
    "    [[1, 4],\n",
    "     [2, 0]]\n",
    ")\n",
    "\n",
    "matriz2 = np.array(\n",
    "    [[-1, 2],\n",
    "     [1, -2]]\n",
    ")\n",
    "\n",
    "matriz1 * matriz2"
   ]
  },
  {
   "cell_type": "markdown",
   "metadata": {},
   "source": [
    "<span style=\"color:orange\"> Si nos fijamos, no coincide con el anterior resultado. Aquí una diferencia entre trabajar con arrays y con matrices.  \n",
    "El asterisco con arrays es multiplicación elemento aelemento. Si lo que queremos, como es el caso, es hacer la multiplicación matrical, tenemos que usar dot:</style> "
   ]
  },
  {
   "cell_type": "code",
   "execution_count": 13,
   "metadata": {},
   "outputs": [
    {
     "data": {
      "text/plain": [
       "array([[ 3, -6],\n",
       "       [-2,  4]])"
      ]
     },
     "execution_count": 13,
     "metadata": {},
     "output_type": "execute_result"
    }
   ],
   "source": [
    "import numpy as np\n",
    "\n",
    "matriz1 = np.array(\n",
    "    [[1, 4],\n",
    "     [2, 0]]\n",
    ")\n",
    "\n",
    "matriz2 = np.array(\n",
    "    [[-1, 2],\n",
    "     [1, -2]]\n",
    ")\n",
    "\n",
    "np.dot(matriz1,matriz2)"
   ]
  },
  {
   "cell_type": "markdown",
   "metadata": {},
   "source": [
    "#### Advertencias\n",
    "\n",
    "* En general, AB ≠ BA.  \n",
    "\n",
    "<span style=\"color:orange\"> Ejemplo: Dadas las matrices $\n",
    "  A=\n",
    "  \\left[ {\\begin{array}{cc}\n",
    "   5 & 1 \\\\\n",
    "   3 & -2\\\\\n",
    "  \\end{array} } \\right]\n",
    "$ y $\n",
    "  B=\n",
    "  \\left[ {\\begin{array}{cc}\n",
    "   2 & 0 \\\\\n",
    "   4 & 3\\\\\n",
    "  \\end{array} } \\right]\n",
    "$, queremos calcular AB y BA.</style> "
   ]
  },
  {
   "cell_type": "code",
   "execution_count": 14,
   "metadata": {},
   "outputs": [
    {
     "data": {
      "text/plain": [
       "matrix([[14,  3],\n",
       "        [-2, -6]])"
      ]
     },
     "execution_count": 14,
     "metadata": {},
     "output_type": "execute_result"
    }
   ],
   "source": [
    "import numpy as np\n",
    "\n",
    "matriz1 = np.matrix(\n",
    "    [[5, 1],\n",
    "     [3, -2]]\n",
    ")\n",
    "\n",
    "matriz2 = np.matrix(\n",
    "    [[2, 0],\n",
    "     [4, 3]]\n",
    ")\n",
    "\n",
    "matriz1 * matriz2"
   ]
  },
  {
   "cell_type": "code",
   "execution_count": 15,
   "metadata": {},
   "outputs": [
    {
     "data": {
      "text/plain": [
       "matrix([[10,  2],\n",
       "        [29, -2]])"
      ]
     },
     "execution_count": 15,
     "metadata": {},
     "output_type": "execute_result"
    }
   ],
   "source": [
    "import numpy as np\n",
    "\n",
    "matriz1 = np.matrix(\n",
    "    [[5, 1],\n",
    "     [3, -2]]\n",
    ")\n",
    "\n",
    "matriz2 = np.matrix(\n",
    "    [[2, 0],\n",
    "     [4, 3]]\n",
    ")\n",
    "\n",
    "matriz2 * matriz1"
   ]
  },
  {
   "cell_type": "markdown",
   "metadata": {},
   "source": [
    "* Si AB = AC, en general no es cierto que B = C.  \n",
    "\n",
    "<span style=\"color:blue\"> Ejemplo:  \n",
    "Dadas las matrices $\n",
    "  A=\n",
    "  \\left[ {\\begin{array}{cc}\n",
    "   2 & -3 \\\\\n",
    "   -4 & 6\\\\\n",
    "  \\end{array} } \\right]\n",
    "$ , $\n",
    "  B=\n",
    "  \\left[ {\\begin{array}{cc}\n",
    "   8 & 4 \\\\\n",
    "   5 & 5\\\\\n",
    "  \\end{array} } \\right]\n",
    "$\n",
    "y $\n",
    "  C=\n",
    "  \\left[ {\\begin{array}{cc}\n",
    "   5 & -2 \\\\\n",
    "   3 & 1\\\\\n",
    "  \\end{array} } \\right]\n",
    "$, queremos verificar que AB=AC pero que B≠C.</style> "
   ]
  },
  {
   "cell_type": "code",
   "execution_count": 7,
   "metadata": {},
   "outputs": [
    {
     "name": "stdout",
     "output_type": "stream",
     "text": [
      "[[ 1 -7]\n",
      " [-2 14]]\n",
      "[[ 1 -7]\n",
      " [-2 14]]\n",
      "¿Es AB = AC?: True\n"
     ]
    }
   ],
   "source": [
    "import numpy as np\n",
    "\n",
    "A = np.matrix([\n",
    "    [2, -3],\n",
    "    [-4, 6]\n",
    "])\n",
    "\n",
    "B = np.matrix([\n",
    "    [8, 4],\n",
    "    [5, 5]\n",
    "])\n",
    "\n",
    "C = np.matrix([\n",
    "    [5, -2],\n",
    "    [3, 1]\n",
    "])\n",
    "\n",
    "AB= A*B\n",
    "AC = A * C\n",
    "print(AB)\n",
    "print(AC)\n",
    "\n",
    "print(\"¿Es AB = AC?: {0}\".format(np.array_equal(AB, AC)))"
   ]
  },
  {
   "cell_type": "code",
   "execution_count": 8,
   "metadata": {},
   "outputs": [
    {
     "name": "stdout",
     "output_type": "stream",
     "text": [
      "¿Es B = C?: False\n"
     ]
    }
   ],
   "source": [
    "print(\"¿Es B = C?: {0}\".format(np.array_equal(B, C)))"
   ]
  },
  {
   "cell_type": "markdown",
   "metadata": {},
   "source": [
    "<span style=\"color:blue\"> Ejemplo :  \n",
    "Dadas la matriz $\n",
    "  A=\n",
    "  \\left[ {\\begin{array}{cc}\n",
    "   3 & -6 \\\\\n",
    "   -1 & 2\\\\\n",
    "  \\end{array} } \\right]\n",
    "$ , construye una matriz B de 2 × 2 tal que AB sea igual a la matriz cero. Las columnas de B no deben ser iguales entre sí y deben ser distintas de cero.\n",
    ".</style> "
   ]
  },
  {
   "cell_type": "code",
   "execution_count": 6,
   "metadata": {},
   "outputs": [
    {
     "data": {
      "text/plain": [
       "matrix([[0, 0],\n",
       "        [0, 0]])"
      ]
     },
     "execution_count": 6,
     "metadata": {},
     "output_type": "execute_result"
    }
   ],
   "source": [
    "import numpy as np\n",
    "\n",
    "A = np.matrix(\n",
    "    [[3, -6],\n",
    "     [-1, 2]]\n",
    ")\n",
    "\n",
    "B = np.matrix(\n",
    "    [[2, 6],\n",
    "     [1, 3]]\n",
    ")\n",
    "\n",
    "A*B"
   ]
  },
  {
   "cell_type": "markdown",
   "metadata": {},
   "source": [
    "## Traspuesta de una matriz\n",
    "\n",
    "Dada una matriz A de m × n, la transpuesta de A es la matriz n × m, denotada mediante A<sup>T</sup>, cuyas columnas se forman a partir de las filas correspondientes de A.\n",
    "\n",
    "<span style=\"color:orange\"> Ejemplo: Dada la matriz $\n",
    "  A=\n",
    "  \\left[ {\\begin{array}{cc}\n",
    "   5 & 1 & 7\\\\\n",
    "   3 & -2 & 5\\\\\n",
    "  \\end{array} } \\right]\n",
    "$ , su matriz traspuesta es $\n",
    "  A^T=\n",
    "  \\left[ {\\begin{array}{cc}\n",
    "   5 & 3 \\\\\n",
    "   1 & -2\\\\\n",
    "   7 & 5\\\\\n",
    "  \\end{array} } \\right]\n",
    "$.  \n",
    "¿Cómo lo haríamos en Python?  \n",
    "Primero con matrices:</style> "
   ]
  },
  {
   "cell_type": "code",
   "execution_count": 18,
   "metadata": {},
   "outputs": [
    {
     "data": {
      "text/plain": [
       "matrix([[ 5,  3],\n",
       "        [ 1, -2],\n",
       "        [ 7,  5]])"
      ]
     },
     "execution_count": 18,
     "metadata": {},
     "output_type": "execute_result"
    }
   ],
   "source": [
    "import numpy as np\n",
    "A=np.matrix([\n",
    "   [5,1,7],\n",
    "   [3,-2,5]\n",
    "   ])\n",
    "AT=np.transpose(A)\n",
    "AT"
   ]
  },
  {
   "cell_type": "markdown",
   "metadata": {},
   "source": [
    "<span style=\"color:orange\"> Ahora con arrays:</style> "
   ]
  },
  {
   "cell_type": "code",
   "execution_count": 19,
   "metadata": {},
   "outputs": [
    {
     "data": {
      "text/plain": [
       "array([[ 5,  3],\n",
       "       [ 1, -2],\n",
       "       [ 7,  5]])"
      ]
     },
     "execution_count": 19,
     "metadata": {},
     "output_type": "execute_result"
    }
   ],
   "source": [
    "import numpy as np\n",
    "A=np.array([\n",
    "   [5,1,7],\n",
    "   [3,-2,5]\n",
    "   ])\n",
    "AT=np.transpose(A)\n",
    "AT"
   ]
  },
  {
   "cell_type": "markdown",
   "metadata": {},
   "source": [
    "## Un paréntesis necesario\n",
    "\n",
    "**append vs vstack vs hstack**  \n",
    "* numpy.vstack: agrupa los conjuntos en filas \n",
    "* numpy.hstack: apila matrices horizontalmente  \n",
    "* append es una función en la que cada vez agrega un elemento a la lista\n",
    "\n"
   ]
  },
  {
   "cell_type": "code",
   "execution_count": 26,
   "metadata": {},
   "outputs": [
    {
     "data": {
      "text/plain": [
       "array([[1, 2, 3],\n",
       "       [4, 5, 6],\n",
       "       [7, 8, 9]])"
      ]
     },
     "execution_count": 26,
     "metadata": {},
     "output_type": "execute_result"
    }
   ],
   "source": [
    "import numpy as np\n",
    "np.vstack(([1,2,3],[4,5,6],[7,8,9]))"
   ]
  },
  {
   "cell_type": "code",
   "execution_count": 27,
   "metadata": {},
   "outputs": [
    {
     "data": {
      "text/plain": [
       "array([1, 2, 3, 4, 5, 6, 7, 8, 9])"
      ]
     },
     "execution_count": 27,
     "metadata": {},
     "output_type": "execute_result"
    }
   ],
   "source": [
    "import numpy as np\n",
    "np.hstack(([1,2,3],[4,5,6],[7,8,9]))"
   ]
  },
  {
   "cell_type": "code",
   "execution_count": 31,
   "metadata": {},
   "outputs": [
    {
     "data": {
      "text/plain": [
       "array([1, 2, 3, 4, 5, 6])"
      ]
     },
     "execution_count": 31,
     "metadata": {},
     "output_type": "execute_result"
    }
   ],
   "source": [
    "import numpy as np\n",
    "np.append([1,2,3],[4,5,6])"
   ]
  },
  {
   "cell_type": "markdown",
   "metadata": {},
   "source": [
    "**¿Cómo agregar una nueva fila a una matriz numpy vacía?**  \n",
    "\n",
    "Si usase el estándar de Python, podría hacer lo siguiente:"
   ]
  },
  {
   "cell_type": "code",
   "execution_count": 1,
   "metadata": {},
   "outputs": [
    {
     "data": {
      "text/plain": [
       "[]"
      ]
     },
     "execution_count": 1,
     "metadata": {},
     "output_type": "execute_result"
    }
   ],
   "source": [
    "matriz=[]\n",
    "matriz"
   ]
  },
  {
   "cell_type": "code",
   "execution_count": 2,
   "metadata": {},
   "outputs": [
    {
     "data": {
      "text/plain": [
       "[[1, 2, 3]]"
      ]
     },
     "execution_count": 2,
     "metadata": {},
     "output_type": "execute_result"
    }
   ],
   "source": [
    "# añado la fila primera\n",
    "matriz.append([1,2,3])\n",
    "matriz"
   ]
  },
  {
   "cell_type": "code",
   "execution_count": 3,
   "metadata": {},
   "outputs": [
    {
     "data": {
      "text/plain": [
       "[[1, 2, 3], [4, 5, 6]]"
      ]
     },
     "execution_count": 3,
     "metadata": {},
     "output_type": "execute_result"
    }
   ],
   "source": [
    "# Añado la segunda fila\n",
    "matriz.append([4,5,6])\n",
    "matriz"
   ]
  },
  {
   "cell_type": "markdown",
   "metadata": {},
   "source": [
    "Sin embargo, en Numpy tengo que tener cuidado:"
   ]
  },
  {
   "cell_type": "code",
   "execution_count": 6,
   "metadata": {},
   "outputs": [
    {
     "data": {
      "text/plain": [
       "array([], dtype=float64)"
      ]
     },
     "execution_count": 6,
     "metadata": {},
     "output_type": "execute_result"
    }
   ],
   "source": [
    "import numpy as np\n",
    "matriz=np.array([])\n",
    "matriz\n",
    "# Nos devuelve el tipo float"
   ]
  },
  {
   "cell_type": "code",
   "execution_count": 28,
   "metadata": {},
   "outputs": [
    {
     "data": {
      "text/plain": [
       "array([], dtype=int64)"
      ]
     },
     "execution_count": 28,
     "metadata": {},
     "output_type": "execute_result"
    }
   ],
   "source": [
    "# Para convertirlo a formato entero\n",
    "import numpy as np\n",
    "matriz=np.array([], dtype=int)\n",
    "matriz"
   ]
  },
  {
   "cell_type": "code",
   "execution_count": 29,
   "metadata": {},
   "outputs": [
    {
     "data": {
      "text/plain": [
       "array([1, 2, 3])"
      ]
     },
     "execution_count": 29,
     "metadata": {},
     "output_type": "execute_result"
    }
   ],
   "source": [
    "matriz=np.append(matriz,np.array([1,2,3]))\n",
    "matriz"
   ]
  },
  {
   "cell_type": "code",
   "execution_count": 26,
   "metadata": {},
   "outputs": [
    {
     "data": {
      "text/plain": [
       "array([1, 2, 3, 4, 5, 6])"
      ]
     },
     "execution_count": 26,
     "metadata": {},
     "output_type": "execute_result"
    }
   ],
   "source": [
    "matriz=np.append(matriz,np.array([4,5,6]))\n",
    "matriz\n",
    "# No valdría. Lo está tratando como un array cualquiera"
   ]
  },
  {
   "cell_type": "code",
   "execution_count": 31,
   "metadata": {},
   "outputs": [
    {
     "data": {
      "text/plain": [
       "array([[1, 2, 3],\n",
       "       [4, 5, 6],\n",
       "       [7, 8, 9]])"
      ]
     },
     "execution_count": 31,
     "metadata": {},
     "output_type": "execute_result"
    }
   ],
   "source": [
    "# Volvemos al estado anterior\n",
    "import numpy as np\n",
    "matriz=np.array([], dtype=int)\n",
    "matriz\n",
    "matriz=np.append(matriz,np.array([1,2,3]))\n",
    "matriz\n",
    "# Si le ponemos doble corchete, entonces sí que lo interpreta como matriz\n",
    "matriz=np.append([matriz],[[4,5,6], [7,8,9]], axis=0)\n",
    "matriz"
   ]
  },
  {
   "cell_type": "markdown",
   "metadata": {},
   "source": [
    "Si intentásemos hacerlo con vstack:"
   ]
  },
  {
   "cell_type": "code",
   "execution_count": 12,
   "metadata": {},
   "outputs": [
    {
     "ename": "ValueError",
     "evalue": "need at least one array to concatenate",
     "output_type": "error",
     "traceback": [
      "\u001b[0;31m---------------------------------------------------------------------------\u001b[0m",
      "\u001b[0;31mValueError\u001b[0m                                Traceback (most recent call last)",
      "\u001b[0;32m<ipython-input-12-c63c454d3a42>\u001b[0m in \u001b[0;36m<module>\u001b[0;34m()\u001b[0m\n\u001b[1;32m      1\u001b[0m \u001b[0;32mimport\u001b[0m \u001b[0mnumpy\u001b[0m \u001b[0;32mas\u001b[0m \u001b[0mnp\u001b[0m\u001b[0;34m\u001b[0m\u001b[0m\n\u001b[0;32m----> 2\u001b[0;31m \u001b[0mmatriz\u001b[0m\u001b[0;34m=\u001b[0m\u001b[0mnp\u001b[0m\u001b[0;34m.\u001b[0m\u001b[0mvstack\u001b[0m\u001b[0;34m(\u001b[0m\u001b[0;34m[\u001b[0m\u001b[0;34m]\u001b[0m\u001b[0;34m)\u001b[0m\u001b[0;34m\u001b[0m\u001b[0m\n\u001b[0m\u001b[1;32m      3\u001b[0m \u001b[0mmatriz\u001b[0m\u001b[0;34m\u001b[0m\u001b[0m\n\u001b[1;32m      4\u001b[0m \u001b[0;31m# No se puede. ¿Entonces cómo lo hago?\u001b[0m\u001b[0;34m\u001b[0m\u001b[0;34m\u001b[0m\u001b[0m\n\u001b[1;32m      5\u001b[0m \u001b[0;31m# Hay varios modos. Por ejemplo, inicializarla con append y continuar con vstarck una vez haya al menos una fila\u001b[0m\u001b[0;34m\u001b[0m\u001b[0;34m\u001b[0m\u001b[0m\n",
      "\u001b[0;32m/anaconda3/lib/python3.6/site-packages/numpy/core/shape_base.py\u001b[0m in \u001b[0;36mvstack\u001b[0;34m(tup)\u001b[0m\n\u001b[1;32m    232\u001b[0m \u001b[0;34m\u001b[0m\u001b[0m\n\u001b[1;32m    233\u001b[0m     \"\"\"\n\u001b[0;32m--> 234\u001b[0;31m     \u001b[0;32mreturn\u001b[0m \u001b[0m_nx\u001b[0m\u001b[0;34m.\u001b[0m\u001b[0mconcatenate\u001b[0m\u001b[0;34m(\u001b[0m\u001b[0;34m[\u001b[0m\u001b[0matleast_2d\u001b[0m\u001b[0;34m(\u001b[0m\u001b[0m_m\u001b[0m\u001b[0;34m)\u001b[0m \u001b[0;32mfor\u001b[0m \u001b[0m_m\u001b[0m \u001b[0;32min\u001b[0m \u001b[0mtup\u001b[0m\u001b[0;34m]\u001b[0m\u001b[0;34m,\u001b[0m \u001b[0;36m0\u001b[0m\u001b[0;34m)\u001b[0m\u001b[0;34m\u001b[0m\u001b[0m\n\u001b[0m\u001b[1;32m    235\u001b[0m \u001b[0;34m\u001b[0m\u001b[0m\n\u001b[1;32m    236\u001b[0m \u001b[0;32mdef\u001b[0m \u001b[0mhstack\u001b[0m\u001b[0;34m(\u001b[0m\u001b[0mtup\u001b[0m\u001b[0;34m)\u001b[0m\u001b[0;34m:\u001b[0m\u001b[0;34m\u001b[0m\u001b[0m\n",
      "\u001b[0;31mValueError\u001b[0m: need at least one array to concatenate"
     ]
    }
   ],
   "source": [
    "import numpy as np\n",
    "matriz=np.vstack([])\n",
    "matriz\n",
    "# No se puede. ¿Entonces cómo lo hago?\n",
    "# Hay varios modos. Por ejemplo, inicializarla con append y continuar con vstarck una vez haya al menos una fila"
   ]
  },
  {
   "cell_type": "code",
   "execution_count": 32,
   "metadata": {},
   "outputs": [
    {
     "data": {
      "text/plain": [
       "array([], dtype=float64)"
      ]
     },
     "execution_count": 32,
     "metadata": {},
     "output_type": "execute_result"
    }
   ],
   "source": [
    "import numpy as np\n",
    "matriz=np.array([])\n",
    "matriz"
   ]
  },
  {
   "cell_type": "code",
   "execution_count": 33,
   "metadata": {},
   "outputs": [
    {
     "data": {
      "text/plain": [
       "array([[1, 2, 3],\n",
       "       [4, 5, 6],\n",
       "       [7, 8, 9]])"
      ]
     },
     "execution_count": 33,
     "metadata": {},
     "output_type": "execute_result"
    }
   ],
   "source": [
    "matriz=np.vstack(([1,2,3],[4,5,6],[7,8,9]))\n",
    "matriz"
   ]
  },
  {
   "cell_type": "markdown",
   "metadata": {},
   "source": [
    "## Matriz inversa (usando Gauss)\n",
    "\n",
    "Al igual que el inverso de 5 es $\\frac{1}{5}$ = 5<sup>-1</sup>, dada la matriz A, no puedo calcular $\\frac{1}{A}$, pero sí A<sup>-1</sup>.  \n",
    "La manera usual de calcular la matriz inversa, sobre todo si no es demasiado grande, es mediante determinantes (lo veremos posteriormente), pero hay otro modo general de calcular la matriz inversa, que es con el método de Gauss:  \n",
    "* Dada una matriz A, considero la matriz (A|I)\n",
    "* Mediante una serie de transformaciones tengo que conseguir transformarla en (I|B)\n",
    "* B=A<sup>-1</sup>  \n",
    "\n",
    "<span style=\"color:orange\"> Ejemplo: Vamos a encontrar la inversa de  $\n",
    "  A=\n",
    "  \\left[ {\\begin{array}{cc}\n",
    "   0 & 1 & 2\\\\\n",
    "   1 & 0 & 3\\\\\n",
    "   4 & -3 & 8\\\\\n",
    "  \\end{array} } \\right]\n",
    "$  usando el método de Gauss \"a mano\"</style> "
   ]
  },
  {
   "cell_type": "markdown",
   "metadata": {},
   "source": [
    "<span style=\"color:blue\"> Ejemplo: Vamos a encontrar la inversa de  $\n",
    "  A=\n",
    "  \\left[ {\\begin{array}{cc}\n",
    "   0 & 1 & 2\\\\\n",
    "   1 & 0 & 3\\\\\n",
    "   4 & -3 & 8\\\\\n",
    "  \\end{array} } \\right]\n",
    "$  usando el método de Gauss esta vez con Python</style> "
   ]
  },
  {
   "cell_type": "markdown",
   "metadata": {},
   "source": [
    "<span style=\"color:blue\"> Vamos a considerar la matriz ampliada con la matriz identidad:  \n",
    "$\n",
    "  (A|I)=\n",
    "  \\left[ {\\begin{array}{cc}\n",
    "   0 & 1 & 2 & 1 & 0 & 0\\\\\n",
    "   1 & 0 & 3 & 0 & 1 & 0\\\\\n",
    "   4 & -3 & 8 & 0 & 0 & 1\\\\\n",
    "  \\end{array} } \\right]\n",
    "$  usando el método de Gauss</style> "
   ]
  },
  {
   "cell_type": "code",
   "execution_count": 20,
   "metadata": {},
   "outputs": [
    {
     "data": {
      "text/plain": [
       "array([[ 0,  1,  2,  1,  0,  0],\n",
       "       [ 1,  0,  3,  0,  1,  0],\n",
       "       [ 4, -3,  8,  0,  0,  1]])"
      ]
     },
     "execution_count": 20,
     "metadata": {},
     "output_type": "execute_result"
    }
   ],
   "source": [
    "import numpy as np\n",
    "A_I=np.array([\n",
    "   [0,1,2,1,0,0],\n",
    "   [1,0,3,0,1,0],\n",
    "   [4,-3,8,0,0,1]\n",
    "   ])\n",
    "A_I"
   ]
  },
  {
   "cell_type": "markdown",
   "metadata": {},
   "source": [
    "<span style=\"color:blue\"> Buscamos hacer transformaciones de modo que obtengamos una matriz de la pinta ( I | matriz).  \n",
    "Lo primero que hacemos es intercambiar la segunda fila con la primera fla</style>   \n",
    "\n",
    "<span style=\"color:blue\"> Vamos a considerar la matriz ampliada con la matriz identidad:  \n",
    "$\n",
    "  (A|I)=\n",
    "  \\left[ {\\begin{array}{cc}\n",
    "   1 & 0 & 3 & 0 & 1 & 0\\\\\n",
    "   0 & 1 & 2 & 1 & 0 & 0\\\\\n",
    "   4 & -3 & 8 & 0 & 0 & 1\\\\\n",
    "  \\end{array} } \\right]\n",
    "$  usando el método de Gauss</style> "
   ]
  },
  {
   "cell_type": "code",
   "execution_count": 21,
   "metadata": {},
   "outputs": [
    {
     "data": {
      "text/plain": [
       "(array([1, 0, 3, 0, 1, 0]),\n",
       " array([0, 1, 2, 1, 0, 0]),\n",
       " array([ 4, -3,  8,  0,  0,  1]))"
      ]
     },
     "execution_count": 21,
     "metadata": {},
     "output_type": "execute_result"
    }
   ],
   "source": [
    "A_I_paso1=(\n",
    "    A_I[1],A_I[0],A_I[2])\n",
    "A_I_paso1"
   ]
  },
  {
   "cell_type": "markdown",
   "metadata": {},
   "source": [
    "<span style=\"color:blue\"> OJO! Se ha convertido en un array de arrays, pero nosotros queremos un único array.  \n",
    "Veamos cómo hacerlo.</style> "
   ]
  },
  {
   "cell_type": "code",
   "execution_count": 22,
   "metadata": {},
   "outputs": [
    {
     "data": {
      "text/plain": [
       "array([[1, 0, 3, 0, 1, 0],\n",
       "       [0, 1, 2, 1, 0, 0]])"
      ]
     },
     "execution_count": 22,
     "metadata": {},
     "output_type": "execute_result"
    }
   ],
   "source": [
    "# Añadimos al array la primera y la segunda fila\n",
    "A_I_paso1=np.append([A_I[1]],[A_I[0]],0)\n",
    "A_I_paso1"
   ]
  },
  {
   "cell_type": "code",
   "execution_count": 23,
   "metadata": {},
   "outputs": [
    {
     "data": {
      "text/plain": [
       "array([[ 1,  0,  3,  0,  1,  0],\n",
       "       [ 0,  1,  2,  1,  0,  0],\n",
       "       [ 4, -3,  8,  0,  0,  1]])"
      ]
     },
     "execution_count": 23,
     "metadata": {},
     "output_type": "execute_result"
    }
   ],
   "source": [
    "# Añadimos a nuestra \"temporal\" A_I_paso1 la tercera fila\n",
    "A_I_paso1=np.vstack([A_I_paso1,[A_I[2]]])\n",
    "A_I_paso1"
   ]
  },
  {
   "cell_type": "markdown",
   "metadata": {},
   "source": [
    "<span style=\"color:blue\"> Queremos hacer 0 el elemento de la posición 31 (20 para Python).  \n",
    "Para ello la tercera fila se convertirá en el resultado de multiplicar -4 por la primera fila y sumarle la tercera fila. A partir de ahora, este tipo de operaciones lo expresaremos como (III) = -4(I)+(III):</style>  \n",
    "\n",
    "<span style=\"color:blue\">$\n",
    "  (A|I)=\n",
    "  \\left[ {\\begin{array}{cc}\n",
    "   1 & 0 & 3 & 0 & 1 & 0\\\\\n",
    "   0 & 1 & 2 & 1 & 0 & 0\\\\\n",
    "   0 & -3 & -4 & 0 & -4 & 1\\\\\n",
    "  \\end{array} } \\right]\n",
    "$ </style> "
   ]
  },
  {
   "cell_type": "code",
   "execution_count": 24,
   "metadata": {},
   "outputs": [
    {
     "data": {
      "text/plain": [
       "array([[1, 0, 3, 0, 1, 0],\n",
       "       [0, 1, 2, 1, 0, 0]])"
      ]
     },
     "execution_count": 24,
     "metadata": {},
     "output_type": "execute_result"
    }
   ],
   "source": [
    "# Creamos la A_I_paso2 con las filas 1 y 2 de la matriz A_I_paso1\n",
    "A_I_paso2=np.append([A_I_paso1[0]],[A_I_paso1[1]],0)\n",
    "A_I_paso2"
   ]
  },
  {
   "cell_type": "code",
   "execution_count": 25,
   "metadata": {},
   "outputs": [
    {
     "data": {
      "text/plain": [
       "array([[ 1,  0,  3,  0,  1,  0],\n",
       "       [ 0,  1,  2,  1,  0,  0],\n",
       "       [ 0, -3, -4,  0, -4,  1]])"
      ]
     },
     "execution_count": 25,
     "metadata": {},
     "output_type": "execute_result"
    }
   ],
   "source": [
    "# Añadimos a nuestra \"temporal\" A_I_paso2 la tercera fila \"transformada\"\n",
    "A_I_paso2=np.vstack([A_I_paso2,[A_I_paso1[2]-4*A_I_paso1[0]]])\n",
    "A_I_paso2"
   ]
  },
  {
   "cell_type": "markdown",
   "metadata": {},
   "source": [
    "<span style=\"color:blue\"> Queremos hacer 0 el elemento de la posición 32 (21 para Python).</style>  \n",
    "\n",
    "<span style=\"color:blue\"> Para ello haremos (III)=3 (II) + (III)</style>  \n",
    "\n",
    "<span style=\"color:blue\">$\n",
    "  (A|I)=\n",
    "  \\left[ {\\begin{array}{cc}\n",
    "   1 & 0 & 3 & 0 & 1 & 0\\\\\n",
    "   0 & 1 & 2 & 1 & 0 & 0\\\\\n",
    "   0 & 0 & 2 & 3 & -4 & 1\\\\\n",
    "  \\end{array} } \\right]\n",
    "$ </style> "
   ]
  },
  {
   "cell_type": "code",
   "execution_count": 26,
   "metadata": {},
   "outputs": [
    {
     "data": {
      "text/plain": [
       "array([[1, 0, 3, 0, 1, 0],\n",
       "       [0, 1, 2, 1, 0, 0]])"
      ]
     },
     "execution_count": 26,
     "metadata": {},
     "output_type": "execute_result"
    }
   ],
   "source": [
    "# Creamos la A_I_paso3 con las filas 1 y 2 de la matriz A_I_paso2\n",
    "A_I_paso3=np.append([A_I_paso2[0]],[A_I_paso2[1]],0)\n",
    "A_I_paso3"
   ]
  },
  {
   "cell_type": "code",
   "execution_count": 27,
   "metadata": {},
   "outputs": [
    {
     "data": {
      "text/plain": [
       "array([[ 1,  0,  3,  0,  1,  0],\n",
       "       [ 0,  1,  2,  1,  0,  0],\n",
       "       [ 0,  0,  2,  3, -4,  1]])"
      ]
     },
     "execution_count": 27,
     "metadata": {},
     "output_type": "execute_result"
    }
   ],
   "source": [
    "# Añadimos a nuestra \"temporal\" A_I_paso3 la tercera fila \"transformada\"\n",
    "A_I_paso3=np.vstack([A_I_paso3,[A_I_paso2[2]+3*A_I_paso2[1]]])\n",
    "A_I_paso3"
   ]
  },
  {
   "cell_type": "markdown",
   "metadata": {},
   "source": [
    "<span style=\"color:blue\"> Queremos hacer 0 el elemento de la posición 13 (02 para Python).</style> \n",
    "\n",
    "<span style=\"color:blue\"> Para ello haremos (I)=(I) - 3/2 * (III)</style>  \n",
    "\n",
    "<span style=\"color:blue\">$\n",
    "  (A|I)=\n",
    "  \\left[ {\\begin{array}{cc}\n",
    "   1 & 0 & 0 & -9/2 & 7 & -3/2\\\\\n",
    "   0 & 1 & 2 & 1 & 0 & 0\\\\\n",
    "   0 & 0 & 2 & 3 & -4 & 1\\\\\n",
    "  \\end{array} } \\right]\n",
    "$ </style> "
   ]
  },
  {
   "cell_type": "code",
   "execution_count": 28,
   "metadata": {},
   "outputs": [
    {
     "data": {
      "text/plain": [
       "array([[ 1. ,  0. ,  0. , -4.5,  7. , -1.5]])"
      ]
     },
     "execution_count": 28,
     "metadata": {},
     "output_type": "execute_result"
    }
   ],
   "source": [
    "# Creamos la A_I_paso4 con la filas 1 transformada\n",
    "A_I_paso4=np.array([A_I_paso3[0]-(3/2)*A_I_paso3[2]])\n",
    "A_I_paso4"
   ]
  },
  {
   "cell_type": "code",
   "execution_count": 29,
   "metadata": {},
   "outputs": [
    {
     "data": {
      "text/plain": [
       "array([[ 1. ,  0. ,  0. , -4.5,  7. , -1.5],\n",
       "       [ 0. ,  1. ,  2. ,  1. ,  0. ,  0. ]])"
      ]
     },
     "execution_count": 29,
     "metadata": {},
     "output_type": "execute_result"
    }
   ],
   "source": [
    "# Añadimos a nuestra \"temporal\" A_I_paso4 la segunda fila\n",
    "A_I_paso4=np.vstack([A_I_paso4,[A_I_paso3[1]]])\n",
    "A_I_paso4"
   ]
  },
  {
   "cell_type": "code",
   "execution_count": 30,
   "metadata": {},
   "outputs": [
    {
     "data": {
      "text/plain": [
       "array([[ 1. ,  0. ,  0. , -4.5,  7. , -1.5],\n",
       "       [ 0. ,  1. ,  2. ,  1. ,  0. ,  0. ],\n",
       "       [ 0. ,  0. ,  2. ,  3. , -4. ,  1. ]])"
      ]
     },
     "execution_count": 30,
     "metadata": {},
     "output_type": "execute_result"
    }
   ],
   "source": [
    "# Añadimos a nuestra \"temporal\" A_I_paso4 la tercera fila\n",
    "A_I_paso4=np.vstack([A_I_paso4,[A_I_paso3[2]]])\n",
    "A_I_paso4"
   ]
  },
  {
   "cell_type": "markdown",
   "metadata": {},
   "source": [
    "<span style=\"color:blue\"> Queremos hacer 0 el elemento de la posición 23 (02 para Python).</style>  \n",
    "\n",
    "<span style=\"color:blue\"> Para ello haremos (II)=(II) - (III)</style>  \n",
    "\n",
    "<span style=\"color:blue\">$\n",
    "  (A|I)=\n",
    "  \\left[ {\\begin{array}{cc}\n",
    "   1 & 0 & 0 & -9/2 & 7 & -3/2\\\\\n",
    "   0 & 1 & 0 & -2 & 4 & -1\\\\\n",
    "   0 & 0 & 2 & 3 & -4 & 1\\\\\n",
    "  \\end{array} } \\right]\n",
    "$ </style> "
   ]
  },
  {
   "cell_type": "code",
   "execution_count": 31,
   "metadata": {},
   "outputs": [
    {
     "data": {
      "text/plain": [
       "array([[ 1. ,  0. ,  0. , -4.5,  7. , -1.5],\n",
       "       [ 0. ,  1. ,  0. , -2. ,  4. , -1. ]])"
      ]
     },
     "execution_count": 31,
     "metadata": {},
     "output_type": "execute_result"
    }
   ],
   "source": [
    "# Creamos la A_I_paso5 con las filas 1 y la 2 transformada\n",
    "A_I_paso5=np.append([A_I_paso4[0]],[A_I_paso4[1]-A_I_paso4[2]],0)\n",
    "A_I_paso5"
   ]
  },
  {
   "cell_type": "code",
   "execution_count": 32,
   "metadata": {},
   "outputs": [
    {
     "data": {
      "text/plain": [
       "array([[ 1. ,  0. ,  0. , -4.5,  7. , -1.5],\n",
       "       [ 0. ,  1. ,  0. , -2. ,  4. , -1. ],\n",
       "       [ 0. ,  0. ,  2. ,  3. , -4. ,  1. ]])"
      ]
     },
     "execution_count": 32,
     "metadata": {},
     "output_type": "execute_result"
    }
   ],
   "source": [
    "# Añadimos a nuestra \"temporal\" A_I_paso5 la tercera fila\n",
    "A_I_paso5=np.vstack([A_I_paso5,[A_I_paso4[2]]])\n",
    "A_I_paso5"
   ]
  },
  {
   "cell_type": "markdown",
   "metadata": {},
   "source": [
    "<span style=\"color:blue\"> Queremos hacer 1 el elemento de la posición 33 (02 para Python).</style>  \n",
    "\n",
    "<span style=\"color:blue\"> Para ello haremos (III)=(1/2) * (III)</style>  \n",
    "\n",
    "<span style=\"color:blue\">$\n",
    "  (A|I)=\n",
    "  \\left[ {\\begin{array}{cc}\n",
    "   1 & 0 & 0 & -9/2 & 7 & -3/2\\\\\n",
    "   0 & 1 & 0 & -2 & 4 & -1\\\\\n",
    "   0 & 0 & 1 & 3/2 & -2 & 1/2\\\\\n",
    "  \\end{array} } \\right]\n",
    "$ </style> "
   ]
  },
  {
   "cell_type": "code",
   "execution_count": 33,
   "metadata": {},
   "outputs": [
    {
     "data": {
      "text/plain": [
       "array([[ 1. ,  0. ,  0. , -4.5,  7. , -1.5],\n",
       "       [ 0. ,  1. ,  0. , -2. ,  4. , -1. ]])"
      ]
     },
     "execution_count": 33,
     "metadata": {},
     "output_type": "execute_result"
    }
   ],
   "source": [
    "# Creamos la A_I_paso6 con las filas 1 y 2\n",
    "A_I_paso6=np.append([A_I_paso5[0]],[A_I_paso5[1]],0)\n",
    "A_I_paso6"
   ]
  },
  {
   "cell_type": "code",
   "execution_count": 34,
   "metadata": {},
   "outputs": [
    {
     "data": {
      "text/plain": [
       "array([[ 1. ,  0. ,  0. , -4.5,  7. , -1.5],\n",
       "       [ 0. ,  1. ,  0. , -2. ,  4. , -1. ],\n",
       "       [ 0. ,  0. ,  1. ,  1.5, -2. ,  0.5]])"
      ]
     },
     "execution_count": 34,
     "metadata": {},
     "output_type": "execute_result"
    }
   ],
   "source": [
    "# Añadimos a nuestra \"temporal\" A_I_paso6 la tercera fila transformada\n",
    "A_I_paso6=np.vstack([A_I_paso6,[(1/2)*A_I_paso5[2]]])\n",
    "A_I_paso6"
   ]
  },
  {
   "cell_type": "markdown",
   "metadata": {},
   "source": [
    "<span style=\"color:blue\"> Luego la matriz inversa queda:</style> \n",
    "<span style=\"color:blue\">$\n",
    "  (A|I)=\n",
    "  \\left[ {\\begin{array}{cc}\n",
    "   1 & 0 & 0 & -9/2 & 7 & -3/2\\\\\n",
    "   0 & 1 & 0 & -2 & 4 & -1\\\\\n",
    "   0 & 0 & 1 & 3/2 & -2 & 1/2\\\\\n",
    "  \\end{array} } \\right]\n",
    "$ </style> "
   ]
  },
  {
   "cell_type": "code",
   "execution_count": 35,
   "metadata": {},
   "outputs": [
    {
     "data": {
      "text/plain": [
       "array([[-4.5,  7. , -1.5],\n",
       "       [-2. ,  4. , -1. ],\n",
       "       [ 1.5, -2. ,  0.5]])"
      ]
     },
     "execution_count": 35,
     "metadata": {},
     "output_type": "execute_result"
    }
   ],
   "source": [
    "#Para sacarlo en Python hay que hacerlo un poquito especial\n",
    "inv_A=np.transpose(np.vstack([A_I_paso6[:,3],A_I_paso6[:,4],A_I_paso6[:,5]]))\n",
    "inv_A"
   ]
  },
  {
   "cell_type": "markdown",
   "metadata": {},
   "source": [
    "\n",
    "Sorpresa! Se puede hacer directamente:"
   ]
  },
  {
   "cell_type": "code",
   "execution_count": 36,
   "metadata": {},
   "outputs": [
    {
     "data": {
      "text/plain": [
       "matrix([[-4.5,  7. , -1.5],\n",
       "        [-2. ,  4. , -1. ],\n",
       "        [ 1.5, -2. ,  0.5]])"
      ]
     },
     "execution_count": 36,
     "metadata": {},
     "output_type": "execute_result"
    }
   ],
   "source": [
    "import numpy as np\n",
    "A=np.matrix([\n",
    "   [0,1,2],\n",
    "   [1,0,3],\n",
    "   [4,-3,8]\n",
    "   ])\n",
    "\n",
    "inv_A = np.linalg.inv(A)\n",
    "inv_A"
   ]
  },
  {
   "cell_type": "code",
   "execution_count": 37,
   "metadata": {},
   "outputs": [
    {
     "data": {
      "text/plain": [
       "array([[-4.5,  7. , -1.5],\n",
       "       [-2. ,  4. , -1. ],\n",
       "       [ 1.5, -2. ,  0.5]])"
      ]
     },
     "execution_count": 37,
     "metadata": {},
     "output_type": "execute_result"
    }
   ],
   "source": [
    "import numpy as np\n",
    "A=np.array([\n",
    "   [0,1,2],\n",
    "   [1,0,3],\n",
    "   [4,-3,8]\n",
    "   ])\n",
    "\n",
    "inv_A = np.linalg.inv(A)\n",
    "inv_A"
   ]
  },
  {
   "cell_type": "markdown",
   "metadata": {},
   "source": [
    "## Rango de una matriz\n",
    "\n",
    "El rango de una matriz se define como el número de vectores linealmente independientes que la componen.  \n",
    "Siempre va a ser menor o igual que el menor de las cantidades número_filas y número_columnas.  \n",
    "\n",
    "<span style=\"color:blue\"> Ejemplo: Vamos a calcular el rango de  $\n",
    "  A=\n",
    "  \\left[ {\\begin{array}{cc}\n",
    "   2 & 5 & -3 & -4 & 8\\\\\n",
    "   4 & 7 & -4 & -3 & 9\\\\\n",
    "   6 & 9 & -5 & 2 & 4\\\\\n",
    "   60 & -9 & 6 & 5 & -6\\\\\n",
    "  \\end{array} } \\right]\n",
    "$ usando Gauss </style> \n"
   ]
  },
  {
   "cell_type": "code",
   "execution_count": 38,
   "metadata": {},
   "outputs": [
    {
     "data": {
      "text/plain": [
       "matrix([[ 2,  5, -3, -4,  8],\n",
       "        [ 4,  7, -4, -3,  9],\n",
       "        [ 6,  9, -5,  2,  4],\n",
       "        [60, -9,  6,  5, -6]])"
      ]
     },
     "execution_count": 38,
     "metadata": {},
     "output_type": "execute_result"
    }
   ],
   "source": [
    "import numpy as np\n",
    "A=np.matrix([\n",
    "   [2,5,-3,-4,8],\n",
    "   [4,7,-4,-3,9],\n",
    "   [6,9,-5,2,4],\n",
    "   [60,-9,6,5,-6]\n",
    "   ])\n",
    "A"
   ]
  },
  {
   "cell_type": "markdown",
   "metadata": {},
   "source": [
    "<span style=\"color:blue\"> Queremos hacer 0 los elementos de la primera columna salvo el de la primera fila.</style> "
   ]
  },
  {
   "cell_type": "code",
   "execution_count": 39,
   "metadata": {},
   "outputs": [
    {
     "data": {
      "text/plain": [
       "matrix([[ 2,  5, -3, -4,  8],\n",
       "        [ 0, -3,  2,  5, -7]])"
      ]
     },
     "execution_count": 39,
     "metadata": {},
     "output_type": "execute_result"
    }
   ],
   "source": [
    "A_paso1=np.vstack([A[0],A[1]-2*A[0]])\n",
    "A_paso1"
   ]
  },
  {
   "cell_type": "code",
   "execution_count": 40,
   "metadata": {},
   "outputs": [
    {
     "data": {
      "text/plain": [
       "matrix([[  2,   5,  -3,  -4,   8],\n",
       "        [  0,  -3,   2,   5,  -7],\n",
       "        [  0,  -6,   4,  14, -20]])"
      ]
     },
     "execution_count": 40,
     "metadata": {},
     "output_type": "execute_result"
    }
   ],
   "source": [
    "A_paso1=np.vstack([A_paso1,A[2]-3*A[0]])\n",
    "A_paso1"
   ]
  },
  {
   "cell_type": "code",
   "execution_count": 41,
   "metadata": {},
   "outputs": [
    {
     "data": {
      "text/plain": [
       "matrix([[  2,   5,  -3,  -4,   8],\n",
       "        [  0,  -3,   2,   5,  -7],\n",
       "        [  0,  -6,   4,  14, -20],\n",
       "        [  0, -99,  56, -15, -46]])"
      ]
     },
     "execution_count": 41,
     "metadata": {},
     "output_type": "execute_result"
    }
   ],
   "source": [
    "A_paso1=np.vstack([A_paso1,A[3]-10*A[2]])\n",
    "A_paso1"
   ]
  },
  {
   "cell_type": "markdown",
   "metadata": {},
   "source": [
    "<span style=\"color:blue\"> Queremos hacer 0 los elementos de la segunda columna exceptuando las dos primeras filas.</style>"
   ]
  },
  {
   "cell_type": "code",
   "execution_count": 42,
   "metadata": {},
   "outputs": [
    {
     "data": {
      "text/plain": [
       "matrix([[ 2,  5, -3, -4,  8],\n",
       "        [ 0, -3,  2,  5, -7]])"
      ]
     },
     "execution_count": 42,
     "metadata": {},
     "output_type": "execute_result"
    }
   ],
   "source": [
    "A_paso2=np.vstack([A_paso1[0],A_paso1[1]])\n",
    "A_paso2"
   ]
  },
  {
   "cell_type": "code",
   "execution_count": 43,
   "metadata": {},
   "outputs": [
    {
     "data": {
      "text/plain": [
       "matrix([[ 2,  5, -3, -4,  8],\n",
       "        [ 0, -3,  2,  5, -7],\n",
       "        [ 0,  0,  0,  4, -6]])"
      ]
     },
     "execution_count": 43,
     "metadata": {},
     "output_type": "execute_result"
    }
   ],
   "source": [
    "A_paso2=np.vstack([A_paso2,A_paso1[2]-2*A_paso1[1]])\n",
    "A_paso2"
   ]
  },
  {
   "cell_type": "code",
   "execution_count": 44,
   "metadata": {},
   "outputs": [
    {
     "data": {
      "text/plain": [
       "matrix([[   2,    5,   -3,   -4,    8],\n",
       "        [   0,   -3,    2,    5,   -7],\n",
       "        [   0,    0,    0,    4,   -6],\n",
       "        [   0,    0,  -10, -180,  185]])"
      ]
     },
     "execution_count": 44,
     "metadata": {},
     "output_type": "execute_result"
    }
   ],
   "source": [
    "A_paso2=np.vstack([A_paso2,A_paso1[3]-33*A_paso1[1]])\n",
    "A_paso2"
   ]
  },
  {
   "cell_type": "markdown",
   "metadata": {},
   "source": [
    "<span style=\"color:blue\"> Queremos hacer 0 el elemento 43.  \n",
    "Si intercambio la fila 3 con la 4 ya lo tendría:</style>"
   ]
  },
  {
   "cell_type": "code",
   "execution_count": 45,
   "metadata": {},
   "outputs": [
    {
     "data": {
      "text/plain": [
       "matrix([[   2,    5,   -3,   -4,    8],\n",
       "        [   0,   -3,    2,    5,   -7],\n",
       "        [   0,    0,  -10, -180,  185],\n",
       "        [   0,    0,    0,    4,   -6]])"
      ]
     },
     "execution_count": 45,
     "metadata": {},
     "output_type": "execute_result"
    }
   ],
   "source": [
    "A_paso3=np.vstack([A_paso2[0],A_paso2[1]])\n",
    "A_paso3=np.vstack([A_paso3,A_paso2[3]])\n",
    "A_paso3=np.vstack([A_paso3,A_paso2[2]])\n",
    "A_paso3"
   ]
  },
  {
   "cell_type": "markdown",
   "metadata": {},
   "source": [
    "<span style=\"color:blue\"> Luego RangoA=4.</style>  \n",
    "\n",
    "¿Alguna manera directa desde Python?"
   ]
  },
  {
   "cell_type": "code",
   "execution_count": 7,
   "metadata": {},
   "outputs": [
    {
     "data": {
      "text/plain": [
       "4"
      ]
     },
     "execution_count": 7,
     "metadata": {},
     "output_type": "execute_result"
    }
   ],
   "source": [
    "import numpy as np\n",
    "A=np.matrix([\n",
    "   [2,5,-3,-4,8],\n",
    "   [4,7,-4,-3,9],\n",
    "   [6,9,-5,2,4],\n",
    "   [60,-9,6,5,-6]\n",
    "   ])\n",
    "np.linalg.matrix_rank(A)"
   ]
  },
  {
   "cell_type": "markdown",
   "metadata": {},
   "source": [
    "Para una matriz M, el **rango por filas** de M es el rango de sus filas y el **rango por columnas** de M es el rango de sus columnas.  \n",
    "\n",
    "<span style=\"color:blue\"> Ejemplo:  \n",
    "Sea la matriz $\n",
    "  M=\n",
    "  \\left[ {\\begin{array}{cc}\n",
    "   1 & 0  & 0   \\\\\n",
    "   0 & 2  & 0   \\\\\n",
    "   2 & 4  & 0   \\\\\n",
    "  \\end{array} } \\right]\n",
    "$\n",
    "Las filas de M son los vectores [1, 0, 0], [0, 2, 0], [2, 4, 0]. El conjunto formado por estos vectores {[1, 0, 0], [0, 2, 0], [2, 4, 0]} tiene rango dos, por lo que el rango por filas de M es 2.  \n",
    "Las columnas de M son [1, 0, 2], [0, 2, 4], [0, 0, 0]. Como el tercer vector es el vector cero, no es necesario calcular el espacio vectorial generado por los tres vectores. Basta con observar que los dos primeros vectores tienen alguna coordenada 0 pero en diferentes posiciones, luego ambos son linalmente independientes. Por tanto, el rango por columnas es dos.  \n",
    "¿Cómo lo podemos calcular en Python?</style>"
   ]
  },
  {
   "cell_type": "code",
   "execution_count": 1,
   "metadata": {},
   "outputs": [
    {
     "data": {
      "text/plain": [
       "2"
      ]
     },
     "execution_count": 1,
     "metadata": {},
     "output_type": "execute_result"
    }
   ],
   "source": [
    "import numpy as np\n",
    "M=np.matrix([\n",
    "    [1,0,0],\n",
    "    [0,2,0],\n",
    "    [2,4,0]\n",
    "])\n",
    "rangoM=np.linalg.matrix_rank(M)\n",
    "rangoM"
   ]
  },
  {
   "cell_type": "markdown",
   "metadata": {},
   "source": [
    "<span style=\"color:blue\"> Ejemplo:  \n",
    "Sea la matriz $\n",
    "  M=\n",
    "  \\left[ {\\begin{array}{cc}\n",
    "   1 & 0  & 0 & 5 \\\\\n",
    "   0 & 2  & 0 & 7 \\\\\n",
    "   0 & 0  & 3 & 9 \\\\\n",
    "  \\end{array} } \\right]\n",
    "$  \n",
    "Cada una de las filas tiene un valor distinto de cero donde las demás tienen ceros, por lo que las tres filas son linealmente independientes. Por lo tanto, el rango por filas de M es tres.\n",
    "Las columnas de M son [1,0,0], [0,2,0], [0,0,3] y [5,7,9].\n",
    "Las tres primeras columnas son linealmente independientes, y la cuarta puede escribirse como una combinación lineal de las tres primeras, por lo que el rango de columna es tres.</style>  "
   ]
  },
  {
   "cell_type": "code",
   "execution_count": 34,
   "metadata": {},
   "outputs": [
    {
     "data": {
      "text/plain": [
       "3"
      ]
     },
     "execution_count": 34,
     "metadata": {},
     "output_type": "execute_result"
    }
   ],
   "source": [
    "import numpy as np\n",
    "M=np.matrix([\n",
    "    [1,0,0,5],\n",
    "    [0,2,0,7],\n",
    "    [0,0,3,9]\n",
    "])\n",
    "rangoM=np.linalg.matrix_rank(M)\n",
    "rangoM"
   ]
  },
  {
   "cell_type": "markdown",
   "metadata": {},
   "source": [
    "## Eliminación gaussiana\n",
    "\n",
    "Aunque ya hemos visto algunos casos de uso \"algebraico\", comentemos algunas utilidades importantes que tiene la eliminación gaussiana:  \n",
    "\n",
    "* Encontrar una base para el espacio generador dados ciertos vectores. Esto también nos proporciona un algoritmo para el rango y, por lo tanto, para probar la dependencia lineal.  \n",
    "* Resolver una ecuación matricial, que es lo mismo que expresar un vector dado como una combinación lineal de otros vectores dados, que es lo mismo que resolver un sistema de ecuaciones lineales.  \n",
    "* Encontrar una base para el espacio nulo de una matriz, que es lo mismo que encontrar una base para el conjunto de soluciones de un sistema lineal homogéneo, que también es importante para representar el conjunto de soluciones de un sistema lineal general.  \n"
   ]
  },
  {
   "cell_type": "markdown",
   "metadata": {},
   "source": [
    "## Forma escalonada  \n",
    "\n",
    "La **forma escalonada** es la generalización de las matrices triangulares.  \n",
    "\n",
    "<span style=\"color:orange\"> Ejemplo:  \n",
    "La matriz $\n",
    "  M=\n",
    "  \\left[ {\\begin{array}{cc}\n",
    "   1 & 2  & 3 & 0 & 5 & 6 \\\\\n",
    "   0 & 1  & 1 & 0 & 3 & 4 \\\\\n",
    "   0 & 0  & 1 & 0 & 1 & 2 \\\\\n",
    "   0 & 0  & 0 & 1 & 0 & 6 \\\\\n",
    "  \\end{array} } \\right]\n",
    "$ está en forma escalonada.  \n",
    "Fijemonos en:</style>  \n",
    "* <span style=\"color:orange\"> La primera entrada distinta de cero en la fila 1 está en la columna 1.</style>   \n",
    "* <span style=\"color:orange\"> La primera entrada distinta de cero en la fila 2 está en la columna 2.</style>   \n",
    "* <span style=\"color:orange\"> La primera entrada distinta de cero en la fila 3 está en la columna 3.</style>     \n",
    "<span style=\"color:orange\"> La primera entrada distinta de cero en la fila 4 está en la columna 4.</style>   \n",
    "\n",
    "<span style=\"color:orange\"> Un poco más retorcido:  \n",
    "La matriz $\n",
    "  M=\n",
    "  \\left[ {\\begin{array}{cc}\n",
    "   1 & 2  & 3 & 0 & 5 & 6 \\\\\n",
    "   0 & 1  & 1 & 0 & 3 & 4 \\\\\n",
    "   0 & 0  & 0 & 0 & 1 & 2 \\\\\n",
    "   0 & 0  & 0  & 0 & 0 & 6 \\\\\n",
    "  \\end{array} } \\right]\n",
    "$ está en forma escalonada.  \n",
    "Fijemonos en:</style>  \n",
    "* <span style=\"color:orange\"> La primera entrada distinta de cero en la fila 1 está en la columna 1.</style>   \n",
    "* <span style=\"color:orange\"> La primera entrada distinta de cero en la fila 2 está en la columna 2.</style>   \n",
    "* <span style=\"color:orange\"> La primera entrada distinta de cero en la fila 3 está en la columna 5.</style>     * <span style=\"color:orange\"> La primera entrada distinta de cero en la fila 4 está en la columna 6.</style>   \n",
    "\n",
    "Una matriz A mxn está en **forma escalonada** si cumple la siguiente condición:  \n",
    "para cualquier fila, si la primera entrada distinta de cero de esa fila está en la posición k, la primera entrada distinta de cero de cada fila anterior está en una posición menor que k.  \n",
    "\n",
    "Esta definición implica que, a medida que recorre las filas de A, las primeras entradas distintas de cero se mueven estrictamente a la derecha, formando una especie de escalera que desciende a la derecha. \n",
    "\n",
    "Dicho de otro modo, una matriz está escalonada si:\n",
    "* El primer elemento de la matriz, a<sub>11</sub>, debe ser distinto de cero.  \n",
    "* El primer elemento diferente de 0 de cada fila esta a la derecha del primer elemento diferente de 0 de la fila anterior.  \n",
    "* Todas filas cero están en la parte inferior de la matriz.\n",
    "\n",
    "<span style=\"color:orange\"> Ejemplo:  \n",
    "La matriz $\n",
    "  M=\n",
    "  \\left[ {\\begin{array}{cc}\n",
    "   4 & 1  & 3 & 0  \\\\\n",
    "   0 & 3  & 0 & 1  \\\\\n",
    "   0 & 0  & 1 & 7  \\\\\n",
    "   0 & 0 & 0  & 9  \\\\\n",
    "  \\end{array} } \\right]\n",
    "$ está en forma escalonada.  </style>  \n",
    "\n",
    "Si una fila de una matriz en forma escalonada es cero, cada fila subsiguiente también debe ser cero.  \n",
    "\n",
    "<span style=\"color:orange\"> Ejemplo:  \n",
    "La matriz $\n",
    "  M=\n",
    "  \\left[ {\\begin{array}{cc}\n",
    "   0 & 2  & 3 & 0 & 5 & 6 \\\\\n",
    "   0 & 0  & 1 & 0 & 3 & 4 \\\\\n",
    "   0 & 0  & 0 & 0 & 0 & 0 \\\\\n",
    "   0 & 0 & 0  & 0 & 0 & 0 \\\\\n",
    "  \\end{array} } \\right]\n",
    "$ NO está en forma escalonada.  </style>  \n",
    "\n",
    "Una **matriz Escalonada Reducida por Filas** es aquella matriz en las que los pivotes son los únicos elementos no nulos de cada fila. \n",
    "\n",
    "<span style=\"color:orange\"> Ejemplo:  \n",
    "La matriz $\n",
    "  M=\n",
    "  \\left[ {\\begin{array}{cc}\n",
    "   1 & 0  & 0  \\\\\n",
    "   0 & 1  & 0  \\\\\n",
    "   0 & 0  & 1  \\\\\n",
    "   0 & 0  & 0  \\\\\n",
    "  \\end{array} } \\right]\n",
    "$ está en forma escalonada reducida por filas.  </style> \n",
    "\n",
    "¿De qué sirve tener una matriz en forma escalonada?  \n",
    "Si una matriz está en forma escalonada, las filas distintas de cero forman una base para el espacio vectorial formado por las \"filas\".  \n",
    "\n",
    "<span style=\"color:orange\"> Ejemplo:  \n",
    "Una base para el espacio filas de $\n",
    "  M=\n",
    "  \\left[ {\\begin{array}{cc}\n",
    "   0 & 2  & 3 & 0 & 5 & 6 \\\\\n",
    "   0 & 0  & 1 & 0 & 3 & 4 \\\\\n",
    "   0 & 0  & 0 & 0 & 0 & 0 \\\\\n",
    "   0 & 0 & 0  & 0 & 0 & 0 \\\\\n",
    "  \\end{array} } \\right]\n",
    "$ es {[0,2,3,0,5,6],[0,1,0,3,4]}.</style>  \n",
    "\n",
    "<span style=\"color:orange\"> Ejemplo:  \n",
    "Si todas las filas son diferentes de cero, como en $\n",
    "  M=\n",
    "  \\left[ {\\begin{array}{cc}\n",
    "   0 & 2  & 3 & 0 & 5 & 6 \\\\\n",
    "   0 & 0  & 1 & 0 & 3 & 4 \\\\\n",
    "   0 & 0  & 0 & 0 & 1 & 2 \\\\\n",
    "   0 & 0 & 0  & 0 & 0 & 6 \\\\\n",
    "  \\end{array} } \\right]\n",
    "$, el espacio filas estará formado por todas las filas.</style>  \n",
    "\n",
    "Si la matriz está en forma escalonada, las filas distintas de cero forman una base para el espacio vectorial \"filas\". "
   ]
  },
  {
   "cell_type": "markdown",
   "metadata": {},
   "source": [
    "## Algoritmo para transformar una matriz en una matriz escalonada  \n",
    "\n",
    "Es algo complicado y desde luego mejorable continuamente. ¡Se admiten sugerencias!"
   ]
  },
  {
   "cell_type": "code",
   "execution_count": 88,
   "metadata": {},
   "outputs": [
    {
     "data": {
      "text/plain": [
       "matrix([[5, 8, 9],\n",
       "        [0, 6, 7],\n",
       "        [1, 2, 3]])"
      ]
     },
     "execution_count": 88,
     "metadata": {},
     "output_type": "execute_result"
    }
   ],
   "source": [
    "import numpy as np\n",
    "\n",
    "A = np.matrix([\n",
    "    [5,8,9],\n",
    "    [0,6,7],\n",
    "    [1,2,3]\n",
    "])\n",
    "\n",
    "def escalonar(M):\n",
    "    # Tenemos que hacer 0´s. Recordemos que lo hacemos por columnas\n",
    "    # Empecemos por la columna 0:\n",
    "    i=0\n",
    "    # Si el elemento que está es la posición (0,0) es diferente de 0, estaría perfecto:\n",
    "    if M[i,i]!=0:\n",
    "        M[i,i]=M[i,i]    \n",
    "    return M\n",
    "\n",
    "escalonar(A)\n",
    "\n",
    "# ¿Qué ocurre si el primer elemento es 0? \n",
    "# Tenemos que buscas una fila en la que ese elemento no sea 0"
   ]
  },
  {
   "cell_type": "code",
   "execution_count": 90,
   "metadata": {},
   "outputs": [
    {
     "name": "stdout",
     "output_type": "stream",
     "text": [
      "El elemento (0,0) vale 0. Busco intercambiar esa fila por una posterior\n",
      "El elemento (2,0) vale distinto de 0. La fila 2 es la que quiero intercambiar\n"
     ]
    },
    {
     "data": {
      "text/plain": [
       "matrix([[1, 2, 3],\n",
       "        [0, 6, 7],\n",
       "        [0, 8, 9]])"
      ]
     },
     "execution_count": 90,
     "metadata": {},
     "output_type": "execute_result"
    }
   ],
   "source": [
    "#Copiamos del anterior\n",
    "import numpy as np\n",
    "# Ponemos un 0 en la posicón (0,0)\n",
    "B = np.matrix([\n",
    "    [0,8,9],\n",
    "    [0,6,7],\n",
    "    [1,2,3]\n",
    "])\n",
    "\n",
    "def escalonar(M):\n",
    "    i=0\n",
    "    if M[i,i]!=0:\n",
    "        M[i,i]=M[i,i]\n",
    "    #Cuando el elemento es 0\n",
    "    if M[i,i]==0:\n",
    "        print(\"El elemento ({0},{0}) vale 0. Busco intercambiar esa fila por una posterior\".format(i))\n",
    "        # Hacemos un for que mire desde la posicion 1 hasta el final de la columna\n",
    "        # shape devuelve el rango (filas, columnas)\n",
    "        for l in range(i+1,M.shape[0]):\n",
    "            # En range el ultimo valor no esta incluido: \n",
    "            # como i es 0, cogera los valores 1 y 2 (lo que queremos)\n",
    "            if M[l, i] !=0:\n",
    "                print(\"El elemento ({0},{1}) vale distinto de 0. La fila {0} es la que quiero intercambiar\".format(l,i))\n",
    "                # Me \"guardo\" la fila 0\n",
    "                temp = M[i, :].copy()\n",
    "                # Copio la fila encontrada en la fila 0\n",
    "                M[i,:] = M[l,:]\n",
    "                # Sustituyo la fila encontrada por la fila 0\n",
    "                M[l,:] = temp\n",
    "    return M\n",
    "\n",
    "escalonar(B)\n",
    "# Vale, funciona\n",
    "# Realmente el primer if (M[i,i]!=0) no haría falta, así que a partir de ahora lo quitamos"
   ]
  },
  {
   "cell_type": "code",
   "execution_count": 91,
   "metadata": {},
   "outputs": [
    {
     "name": "stdout",
     "output_type": "stream",
     "text": [
      "Dejamos la fila 1 como esta\n",
      "Veremos ahora cómo tratar la fila 2\n"
     ]
    },
    {
     "data": {
      "text/plain": [
       "matrix([[5, 8, 9],\n",
       "        [0, 6, 7],\n",
       "        [1, 2, 3]])"
      ]
     },
     "execution_count": 91,
     "metadata": {},
     "output_type": "execute_result"
    }
   ],
   "source": [
    "# Volvamos con la matriz A\n",
    "\n",
    "import numpy as np\n",
    "\n",
    "A = np.matrix([\n",
    "    [5,8,9],\n",
    "    [0,6,7],\n",
    "    [1,2,3]\n",
    "])\n",
    "\n",
    "def escalonar(M):\n",
    "    i=0\n",
    "    if M[i,i]==0:\n",
    "        print(\"El elemento ({0},{0}) vale 0. Busco intercambiar esa fila por una posterior\".format(i))\n",
    "        for l in range(i+1,M.shape[0]):\n",
    "            if M[l, i] !=0:\n",
    "                print(\"El elemento ({0},{1}) vale distinto de 0. La fila {0} es la que quiero intercambiar\".format(l,i))\n",
    "                temp = M[i, :].copy()\n",
    "                M[i,:] = M[l,:]\n",
    "                M[l,:] = temp\n",
    "    # Para los elementos en la posicion (loquesea,0), que estén por debajo de la fila 0, \n",
    "    # es decir, desde la fila 1, queremos hacerlos cero.\n",
    "    for j in range(i+1,M.shape[0]):\n",
    "        if M[j,i] ==0:\n",
    "            print(\"Dejamos la fila {0} como esta\".format(j))\n",
    "            M[j,:]=M[j,:]\n",
    "        if M[j,i] !=0: \n",
    "            print(\"Veremos ahora cómo tratar la fila {0}\".format(j))\n",
    "    return M\n",
    "\n",
    "escalonar(A)\n",
    "\n"
   ]
  },
  {
   "cell_type": "code",
   "execution_count": 92,
   "metadata": {},
   "outputs": [
    {
     "data": {
      "text/plain": [
       "matrix([[ 5,  8,  9],\n",
       "        [ 0,  6,  7],\n",
       "        [ 0, -2, -6]])"
      ]
     },
     "execution_count": 92,
     "metadata": {},
     "output_type": "execute_result"
    }
   ],
   "source": [
    "import numpy as np\n",
    "\n",
    "A = np.matrix([\n",
    "    [5,8,9],\n",
    "    [0,6,7],\n",
    "    [1,2,3]\n",
    "])\n",
    "\n",
    "def escalonar(M):\n",
    "    i=0\n",
    "    if M[i,i]==0:\n",
    "        print(\"El elemento ({0},{0}) vale 0. Busco intercambiar esa fila por una posterior\".format(i))\n",
    "        for l in range(i+1,M.shape[0]):\n",
    "            if M[l, i] !=0:\n",
    "                print(\"El elemento ({0},{1}) vale distinto de 0. La fila {0} es la que quiero intercambiar\".format(l,i))\n",
    "                temp = M[i, :].copy()\n",
    "                M[i,:] = M[l,:]\n",
    "                M[l,:] = temp\n",
    "    for j in range(i+1,M.shape[0]):\n",
    "        if M[j,i] ==0:\n",
    "            M[j,:]=M[j,:]\n",
    "        if M[j,i] !=0: \n",
    "            # Para que valga siempre, tengo que hacer 0 usando la primera fila\n",
    "            # Multiplicamos la fila cero por el valor en la posicion (2,0)\n",
    "            # y la segunda fila por el valor de la posicion (0,0)\n",
    "            # Ahora cuidado:\n",
    "            # Si el valor (0,0) es negativo y el (2,0) positivo los sumaría o al revés también\n",
    "            # Pero si los dos son negativos o los dos positivos, necesito cambiar el signo a uno de ellos\n",
    "            if M[i,i]>0:\n",
    "                M[j,:]=M[j,i]*M[i,:]-M[i,i]*M[j,:]\n",
    "            if M[i,i]<0:\n",
    "                if M[j,i]>0:\n",
    "                    M[j,:]=M[j,i]*M[i,:]+M[i,i]*M[j,:]\n",
    "                if M[j,i]<0:\n",
    "                    M[j,:]=M[j,i]*M[i,:]-M[i,i]*M[j,:]\n",
    "    return M\n",
    "\n",
    "escalonar(A)"
   ]
  },
  {
   "cell_type": "code",
   "execution_count": 93,
   "metadata": {},
   "outputs": [
    {
     "data": {
      "text/plain": [
       "matrix([[  5,   8,   9],\n",
       "        [  0,   6,   7],\n",
       "        [  0, -18, -24]])"
      ]
     },
     "execution_count": 93,
     "metadata": {},
     "output_type": "execute_result"
    }
   ],
   "source": [
    "# Veamos que funciona en todas las combinaciones\n",
    "\n",
    "import numpy as np\n",
    "\n",
    "C = np.matrix([\n",
    "    [5,8,9],\n",
    "    [0,6,7],\n",
    "    [-1,2,3]\n",
    "])\n",
    "\n",
    "escalonar(C)"
   ]
  },
  {
   "cell_type": "code",
   "execution_count": 94,
   "metadata": {},
   "outputs": [
    {
     "data": {
      "text/plain": [
       "matrix([[  -5,    8,    9],\n",
       "        [   0,    6,    7],\n",
       "        [   0,  -90, -120]])"
      ]
     },
     "execution_count": 94,
     "metadata": {},
     "output_type": "execute_result"
    }
   ],
   "source": [
    "import numpy as np\n",
    "\n",
    "D = np.matrix([\n",
    "    [-5,8,9],\n",
    "    [0,6,7],\n",
    "    [1,2,3]\n",
    "])\n",
    "\n",
    "escalonar(D)"
   ]
  },
  {
   "cell_type": "code",
   "execution_count": 95,
   "metadata": {},
   "outputs": [
    {
     "data": {
      "text/plain": [
       "matrix([[-5,  8,  9],\n",
       "        [ 0,  6,  7],\n",
       "        [ 0,  2,  6]])"
      ]
     },
     "execution_count": 95,
     "metadata": {},
     "output_type": "execute_result"
    }
   ],
   "source": [
    "import numpy as np\n",
    "\n",
    "E = np.matrix([\n",
    "    [-5,8,9],\n",
    "    [0,6,7],\n",
    "    [-1,2,3]\n",
    "])\n",
    "\n",
    "escalonar(E)"
   ]
  },
  {
   "cell_type": "code",
   "execution_count": 98,
   "metadata": {},
   "outputs": [
    {
     "data": {
      "text/plain": [
       "matrix([[ 5,  8,  9],\n",
       "        [ 0,  6,  7],\n",
       "        [ 0,  0, 22]])"
      ]
     },
     "execution_count": 98,
     "metadata": {},
     "output_type": "execute_result"
    }
   ],
   "source": [
    "#Habíamos fijado la primera columna\n",
    "# Ahora uqeremos recorrer todas las columnas\n",
    "import numpy as np\n",
    "\n",
    "A = np.matrix([\n",
    "    [5,8,9],\n",
    "    [0,6,7],\n",
    "    [1,2,3]\n",
    "])\n",
    "\n",
    "def escalonar(M):\n",
    "    # El rango lo miramos con respecto al numero de columnas\n",
    "    for i in range(0, M.shape[1]-1):\n",
    "        if M[i,i]!=0:\n",
    "            M[i,i]=M[i,i]\n",
    "        if M[i,i]==0:\n",
    "            for l in range(i+1,M.shape[0]):\n",
    "                if M[l, i] !=0:\n",
    "                    temp = M[i, :].copy()\n",
    "                    M[i,:] = M[l,:]\n",
    "                    M[l,:] = temp\n",
    "        for j in range(i+1,M.shape[0]):\n",
    "            if M[j,i] ==0:\n",
    "                M[j,:]=M[j,:]\n",
    "            if M[j,i] !=0: \n",
    "                if M[i,i]>0:\n",
    "                    M[j,:]=M[j,i]*M[i,:]-M[i,i]*M[j,:]\n",
    "                if M[i,i]<0:\n",
    "                    if M[j,i]>0:\n",
    "                        M[j,:]=M[j,i]*M[i,:]+M[i,i]*M[j,:]\n",
    "                    if M[j,i]<0:\n",
    "                        M[j,:]=M[j,i]*M[i,:]-M[i,i]*M[j,:]\n",
    "    return M\n",
    "\n",
    "escalonar(A)"
   ]
  },
  {
   "cell_type": "code",
   "execution_count": 99,
   "metadata": {},
   "outputs": [
    {
     "data": {
      "text/plain": [
       "matrix([[1, 2, 3],\n",
       "        [0, 2, 4],\n",
       "        [0, 0, 0],\n",
       "        [0, 0, 0],\n",
       "        [0, 0, 0]])"
      ]
     },
     "execution_count": 99,
     "metadata": {},
     "output_type": "execute_result"
    }
   ],
   "source": [
    "# ¿Funcionaría también si el número de filas es mayor que el de columnas?\n",
    "\n",
    "import numpy as np\n",
    "\n",
    "F = np.matrix([\n",
    "    [1,2,3],\n",
    "    [3,4,5],\n",
    "    [1,2,3],\n",
    "    [1,2,3],\n",
    "    [1,2,3]\n",
    "])\n",
    "\n",
    "escalonar(F)"
   ]
  },
  {
   "cell_type": "code",
   "execution_count": 100,
   "metadata": {},
   "outputs": [
    {
     "ename": "IndexError",
     "evalue": "index 5 is out of bounds for axis 0 with size 5",
     "output_type": "error",
     "traceback": [
      "\u001b[0;31m---------------------------------------------------------------------------\u001b[0m",
      "\u001b[0;31mIndexError\u001b[0m                                Traceback (most recent call last)",
      "\u001b[0;32m<ipython-input-100-8774a4ad48fb>\u001b[0m in \u001b[0;36m<module>\u001b[0;34m()\u001b[0m\n\u001b[1;32m     11\u001b[0m ])\n\u001b[1;32m     12\u001b[0m \u001b[0;34m\u001b[0m\u001b[0m\n\u001b[0;32m---> 13\u001b[0;31m \u001b[0mescalonar\u001b[0m\u001b[0;34m(\u001b[0m\u001b[0mG\u001b[0m\u001b[0;34m)\u001b[0m\u001b[0;34m\u001b[0m\u001b[0m\n\u001b[0m",
      "\u001b[0;32m<ipython-input-98-a5ba27c16252>\u001b[0m in \u001b[0;36mescalonar\u001b[0;34m(M)\u001b[0m\n\u001b[1;32m     10\u001b[0m     \u001b[0;31m# El rango lo miramos con respecto al numero de columnas\u001b[0m\u001b[0;34m\u001b[0m\u001b[0;34m\u001b[0m\u001b[0m\n\u001b[1;32m     11\u001b[0m     \u001b[0;32mfor\u001b[0m \u001b[0mi\u001b[0m \u001b[0;32min\u001b[0m \u001b[0mrange\u001b[0m\u001b[0;34m(\u001b[0m\u001b[0;36m0\u001b[0m\u001b[0;34m,\u001b[0m \u001b[0mM\u001b[0m\u001b[0;34m.\u001b[0m\u001b[0mshape\u001b[0m\u001b[0;34m[\u001b[0m\u001b[0;36m1\u001b[0m\u001b[0;34m]\u001b[0m\u001b[0;34m-\u001b[0m\u001b[0;36m1\u001b[0m\u001b[0;34m)\u001b[0m\u001b[0;34m:\u001b[0m\u001b[0;34m\u001b[0m\u001b[0m\n\u001b[0;32m---> 12\u001b[0;31m         \u001b[0;32mif\u001b[0m \u001b[0mM\u001b[0m\u001b[0;34m[\u001b[0m\u001b[0mi\u001b[0m\u001b[0;34m,\u001b[0m\u001b[0mi\u001b[0m\u001b[0;34m]\u001b[0m\u001b[0;34m!=\u001b[0m\u001b[0;36m0\u001b[0m\u001b[0;34m:\u001b[0m\u001b[0;34m\u001b[0m\u001b[0m\n\u001b[0m\u001b[1;32m     13\u001b[0m             \u001b[0mM\u001b[0m\u001b[0;34m[\u001b[0m\u001b[0mi\u001b[0m\u001b[0;34m,\u001b[0m\u001b[0mi\u001b[0m\u001b[0;34m]\u001b[0m\u001b[0;34m=\u001b[0m\u001b[0mM\u001b[0m\u001b[0;34m[\u001b[0m\u001b[0mi\u001b[0m\u001b[0;34m,\u001b[0m\u001b[0mi\u001b[0m\u001b[0;34m]\u001b[0m\u001b[0;34m\u001b[0m\u001b[0m\n\u001b[1;32m     14\u001b[0m         \u001b[0;32mif\u001b[0m \u001b[0mM\u001b[0m\u001b[0;34m[\u001b[0m\u001b[0mi\u001b[0m\u001b[0;34m,\u001b[0m\u001b[0mi\u001b[0m\u001b[0;34m]\u001b[0m\u001b[0;34m==\u001b[0m\u001b[0;36m0\u001b[0m\u001b[0;34m:\u001b[0m\u001b[0;34m\u001b[0m\u001b[0m\n",
      "\u001b[0;32m/anaconda3/lib/python3.6/site-packages/numpy/matrixlib/defmatrix.py\u001b[0m in \u001b[0;36m__getitem__\u001b[0;34m(self, index)\u001b[0m\n\u001b[1;32m    282\u001b[0m \u001b[0;34m\u001b[0m\u001b[0m\n\u001b[1;32m    283\u001b[0m         \u001b[0;32mtry\u001b[0m\u001b[0;34m:\u001b[0m\u001b[0;34m\u001b[0m\u001b[0m\n\u001b[0;32m--> 284\u001b[0;31m             \u001b[0mout\u001b[0m \u001b[0;34m=\u001b[0m \u001b[0mN\u001b[0m\u001b[0;34m.\u001b[0m\u001b[0mndarray\u001b[0m\u001b[0;34m.\u001b[0m\u001b[0m__getitem__\u001b[0m\u001b[0;34m(\u001b[0m\u001b[0mself\u001b[0m\u001b[0;34m,\u001b[0m \u001b[0mindex\u001b[0m\u001b[0;34m)\u001b[0m\u001b[0;34m\u001b[0m\u001b[0m\n\u001b[0m\u001b[1;32m    285\u001b[0m         \u001b[0;32mfinally\u001b[0m\u001b[0;34m:\u001b[0m\u001b[0;34m\u001b[0m\u001b[0m\n\u001b[1;32m    286\u001b[0m             \u001b[0mself\u001b[0m\u001b[0;34m.\u001b[0m\u001b[0m_getitem\u001b[0m \u001b[0;34m=\u001b[0m \u001b[0;32mFalse\u001b[0m\u001b[0;34m\u001b[0m\u001b[0m\n",
      "\u001b[0;31mIndexError\u001b[0m: index 5 is out of bounds for axis 0 with size 5"
     ]
    }
   ],
   "source": [
    "# ¿Y si el numero de columnas es mayor que el de filas?\n",
    "\n",
    "import numpy as np\n",
    "\n",
    "G = np.matrix([\n",
    "    [1,2,3,4,5,6,7],\n",
    "    [3,4,5,6,7,4,2],\n",
    "    [1,2,3,4,5,6,7],\n",
    "    [1,2,3,4,5,6,7],\n",
    "    [1,2,3,4,5,6,7]\n",
    "])\n",
    "\n",
    "escalonar(G)\n",
    "# No funciona porque la variable i es grande y al hacer los for, \n",
    "# los valores que va encontrando, los elementos que busca, no los encuentra"
   ]
  },
  {
   "cell_type": "code",
   "execution_count": 129,
   "metadata": {},
   "outputs": [
    {
     "data": {
      "text/plain": [
       "matrix([[ 5,  8,  9],\n",
       "        [ 0,  6,  7],\n",
       "        [ 0,  0, 22]])"
      ]
     },
     "execution_count": 129,
     "metadata": {},
     "output_type": "execute_result"
    }
   ],
   "source": [
    "import numpy as np\n",
    "\n",
    "A = np.matrix([\n",
    "    [5,8,9],\n",
    "    [0,6,7],\n",
    "    [1,2,3]\n",
    "])\n",
    "\n",
    "def escalonar(M):\n",
    "    # El rango lo miramos con respecto al minimo entre el numero de filas y de columnas\n",
    "    for i in range(0, min(M.shape[0],M.shape[1])-1):\n",
    "        if M[i,i]!=0:\n",
    "            M[i,i]=M[i,i]\n",
    "        if M[i,i]==0:\n",
    "            for l in range(i+1,M.shape[0]):\n",
    "                if M[l, i] !=0:\n",
    "                    temp = M[i, :].copy()\n",
    "                    M[i,:] = M[l,:]\n",
    "                    M[l,:] = temp\n",
    "        for j in range(i+1,M.shape[0]):\n",
    "            if M[j,i] ==0:\n",
    "                M[j,:]=M[j,:]\n",
    "            if M[j,i] !=0: \n",
    "                if M[i,i]>0:\n",
    "                    M[j,:]=M[j,i]*M[i,:]-M[i,i]*M[j,:]\n",
    "                if M[i,i]<0:\n",
    "                    if M[j,i]>0:\n",
    "                        M[j,:]=M[j,i]*M[i,:]+M[i,i]*M[j,:]\n",
    "                    if M[j,i]<0:\n",
    "                        M[j,:]=M[j,i]*M[i,:]-M[i,i]*M[j,:]\n",
    "    return M\n",
    "\n",
    "escalonar(A)"
   ]
  },
  {
   "cell_type": "code",
   "execution_count": 131,
   "metadata": {},
   "outputs": [
    {
     "data": {
      "text/plain": [
       "matrix([[  1,   2,   3,   4,   5,   6,   7],\n",
       "        [  0,   2,   4,   6,   8,  14,  19],\n",
       "        [  0,   0, -18, -18, -28, -30, -32],\n",
       "        [  0,   0,   0,   2,   6,  -4,  -7],\n",
       "        [  0,   0,   0,   0,   0,   0,   0]])"
      ]
     },
     "execution_count": 131,
     "metadata": {},
     "output_type": "execute_result"
    }
   ],
   "source": [
    "import numpy as np\n",
    "\n",
    "G = np.matrix([\n",
    "    [1,2,3,4,5,6,7],\n",
    "    [3,4,5,6,7,4,2],\n",
    "    [2,3,4,6,9,3,1],\n",
    "    [5,8,2,5,3,1,0],\n",
    "    [1,2,3,4,5,6,7]\n",
    "])\n",
    "\n",
    "escalonar(G)"
   ]
  },
  {
   "cell_type": "code",
   "execution_count": 132,
   "metadata": {},
   "outputs": [
    {
     "data": {
      "text/plain": [
       "matrix([[1, 2, 3],\n",
       "        [0, 2, 4],\n",
       "        [0, 0, 0],\n",
       "        [0, 0, 0],\n",
       "        [0, 0, 0]])"
      ]
     },
     "execution_count": 132,
     "metadata": {},
     "output_type": "execute_result"
    }
   ],
   "source": [
    "import numpy as np\n",
    "\n",
    "F = np.matrix([\n",
    "    [1,2,3],\n",
    "    [3,4,5],\n",
    "    [1,2,3],\n",
    "    [1,2,3],\n",
    "    [1,2,3]\n",
    "])\n",
    "\n",
    "escalonar(F)"
   ]
  },
  {
   "cell_type": "markdown",
   "metadata": {},
   "source": [
    "## Factorización LU (Lower-Upper)\n",
    "\n",
    "Sea A una matriz tenemos:  \n",
    "> A = LU  \n",
    "\n",
    "donde L y U son matrices inferiores y superiores triangulares respectivamente.  \n",
    "\n",
    "Si pensamos en una matriz cuadrada:  \n",
    "$\n",
    "  \\left[ {\\begin{array}{cc}\n",
    "   a_{11} & a_{12}  & ... & a_{1n}  \\\\\n",
    "   a_{21} & a_{22}  & ... & a_{2n}  \\\\\n",
    "   ... & ...  & ... & ...  \\\\\n",
    "   a_{n1} & a_{n2}  & ... & a_{nn}  \\\\\n",
    "  \\end{array} } \\right]\n",
    "$ =\n",
    "$\n",
    "  \\left[ {\\begin{array}{cc}\n",
    "   1      & 0       & 0    & ... & 0  \\\\\n",
    "   l_{21} & 1       & 0    & ... & 0  \\\\\n",
    "   ...    & ...     & ...  & ... & ... \\\\\n",
    "   l_{n1} & l_{n2}  & ...  & ... & 1  \\\\\n",
    "  \\end{array} } \\right]\n",
    "$* $\n",
    "  \\left[ {\\begin{array}{cc}\n",
    "   u_{11} & u_{12} & u_{13} & ... & u_{1n}  \\\\\n",
    "   0      & u_{22} & u_{23} & ... & b_{2n}  \\\\\n",
    "   ...    & ...    & ...    & ... & ...     \\\\\n",
    "   0      & 0      & ...    & ... & u_{nn}  \\\\\n",
    "  \\end{array} } \\right]\n",
    "$\n",
    "  \n",
    "Si la matriz A es invertible, es decir, tiene inversa, las matrices L y U son únicas.  \n",
    "\n",
    "¿Qué utilidad tiene?   \n",
    "* Resolución de sistemas de ecuaciones  \n",
    "* Cálculo de la matriz inversa: A<sup>-1</sup>=U<sup>-1</sup> L<sup>-1</sup>  \n",
    "\n"
   ]
  },
  {
   "cell_type": "markdown",
   "metadata": {},
   "source": [
    "<span style=\"color:orange\"> Ejemplo:  \n",
    "$\\left[ {\\begin{array}{cc}\n",
    "   2 & 1 & 1\\\\\n",
    "   1 & 2 & 1\\\\\n",
    "   1 & 1 & 2\\\\\n",
    "  \\end{array} } \\right] = \\left[ {\\begin{array}{cc}\n",
    "   1 & 0 & 0\\\\\n",
    "   \\frac{1}{2} & 1 & 0\\\\\n",
    "   \\frac{1}{2} & \\frac{1}{3} & 1\\\\\n",
    "  \\end{array} } \\right] \\left[ {\\begin{array}{cc}\n",
    "   2 & 1 & 1\\\\\n",
    "   0 & \\frac{3}{2} & \\frac{1}{2}\\\\\n",
    "   0 & 0 & \\frac{4}{3}\\\\\n",
    "  \\end{array} } \\right]$  \n",
    "  Con Scipy:</style>"
   ]
  },
  {
   "cell_type": "code",
   "execution_count": 107,
   "metadata": {},
   "outputs": [
    {
     "data": {
      "text/plain": [
       "array([[1., 0., 0.],\n",
       "       [0., 1., 0.],\n",
       "       [0., 0., 1.]])"
      ]
     },
     "execution_count": 107,
     "metadata": {},
     "output_type": "execute_result"
    }
   ],
   "source": [
    "from numpy import matrix\n",
    "from scipy import linalg\n",
    "A=matrix([\n",
    "    [2,1,1],\n",
    "    [1,2,1],\n",
    "    [1,1,2]\n",
    "])\n",
    "p, l,u=linalg.lu(A)\n",
    "# p es la matriz de permutaciones. \n",
    "# Guarda algo así como los movimientos de filas que se hacen en el proceso de sacar L y U\n",
    "p"
   ]
  },
  {
   "cell_type": "code",
   "execution_count": 108,
   "metadata": {},
   "outputs": [
    {
     "data": {
      "text/plain": [
       "array([[1.        , 0.        , 0.        ],\n",
       "       [0.5       , 1.        , 0.        ],\n",
       "       [0.5       , 0.33333333, 1.        ]])"
      ]
     },
     "execution_count": 108,
     "metadata": {},
     "output_type": "execute_result"
    }
   ],
   "source": [
    "l"
   ]
  },
  {
   "cell_type": "code",
   "execution_count": 109,
   "metadata": {},
   "outputs": [
    {
     "data": {
      "text/plain": [
       "array([[2.        , 1.        , 1.        ],\n",
       "       [0.        , 1.5       , 0.5       ],\n",
       "       [0.        , 0.        , 1.33333333]])"
      ]
     },
     "execution_count": 109,
     "metadata": {},
     "output_type": "execute_result"
    }
   ],
   "source": [
    "u"
   ]
  },
  {
   "cell_type": "markdown",
   "metadata": {},
   "source": [
    "<span style=\"color:orange\"> Con Sympy:</style>"
   ]
  },
  {
   "cell_type": "code",
   "execution_count": 110,
   "metadata": {},
   "outputs": [
    {
     "data": {
      "text/plain": [
       "Matrix([\n",
       "[  1,   0, 0],\n",
       "[1/2,   1, 0],\n",
       "[1/2, 1/3, 1]])"
      ]
     },
     "execution_count": 110,
     "metadata": {},
     "output_type": "execute_result"
    }
   ],
   "source": [
    "from sympy import Matrix\n",
    "A=Matrix([\n",
    "    [2,1,1],\n",
    "    [1,2,1],\n",
    "    [1,1,2]\n",
    "])\n",
    "l,u,p=A.LUdecomposition()\n",
    "l"
   ]
  },
  {
   "cell_type": "code",
   "execution_count": 111,
   "metadata": {},
   "outputs": [
    {
     "data": {
      "text/plain": [
       "Matrix([\n",
       "[2,   1,   1],\n",
       "[0, 3/2, 1/2],\n",
       "[0,   0, 4/3]])"
      ]
     },
     "execution_count": 111,
     "metadata": {},
     "output_type": "execute_result"
    }
   ],
   "source": [
    "u"
   ]
  },
  {
   "cell_type": "markdown",
   "metadata": {},
   "source": [
    "### Pasos para descomponer un sistema de ecuaciones utilizando la factorización LU\n",
    "\n",
    "1. Obtener la matriz triangular inferior L y la matriz triangular superior U.  \n",
    "2. Resolver Ly = b (para encontrar y).  \n",
    "3. El resultado del paso anterior se guarda en una matriz nueva de nombre \"y\".  \n",
    "4. Realizar Ux = y (para encontrar x).  \n",
    "5. El resultado del paso anterior se almacena en una matriz nueva llamada \"x\", la cual da los valores correspondientes a las incógnitas de la ecuación.  \n",
    "\n",
    "<span style=\"color:orange\">Vamos a encontrar las soluciones del sistema (usando la factorización LU):</style>  \n",
    "> <span style=\"color:orange\">$\\left\\{\n",
    "\t       \\begin{array}{ll}\n",
    "               4x-2y-z=9  \\\\\n",
    "               5x+y-z=7   \\\\\n",
    "               x+2y-4z=12\n",
    "\t       \\end{array}\n",
    "\t     \\right.$</style>  \n",
    "\n",
    "<span style=\"color:orange\">Este sistema puede ser escrito como:</style>     \n",
    "> <span style=\"color:orange\">$\\left(\n",
    "\\begin{array}{ccc|c}\n",
    "4 & -2 & -1 & 9 \\\\\n",
    "5 & 1  & -1 & 7 \\\\\n",
    "1 & 2  & -4 & 12\\\\\n",
    "\\end{array}\n",
    "\\right)$</style>  \n",
    "\n",
    "<span style=\"color:orange\">donde: </style>    \n",
    "> <span style=\"color:orange\">A= $\\left(\n",
    "\\begin{array}{ll}\n",
    "4 & -2 & -1 \\\\\n",
    "5 & 1  & -1 \\\\\n",
    "1 & 2  & -4 \\\\\n",
    "\\end{array}\n",
    "\\right)$</style>  \n",
    "\n",
    "<span style=\"color:orange\">y B es igual a:  </style>  \n",
    "> <span style=\"color:orange\">B= $\\left(\n",
    "\\begin{array}{ll}\n",
    "9 \\\\\n",
    "7 \\\\\n",
    "12\\\\\n",
    "\\end{array}\n",
    "\\right)$</style> \n",
    "\n",
    "<span style=\"color:orange\">Primero calculamos las matrices L y U</style>  \n"
   ]
  },
  {
   "cell_type": "code",
   "execution_count": 3,
   "metadata": {},
   "outputs": [
    {
     "data": {
      "text/plain": [
       "Matrix([\n",
       "[  1,   0, 0],\n",
       "[5/4,   1, 0],\n",
       "[1/4, 5/7, 1]])"
      ]
     },
     "execution_count": 3,
     "metadata": {},
     "output_type": "execute_result"
    }
   ],
   "source": [
    "from sympy import Matrix\n",
    "A=Matrix([\n",
    "    [4,-2,-1],\n",
    "    [5,1,-1],\n",
    "    [1,2,-4]\n",
    "])\n",
    "l,u,p=A.LUdecomposition()\n",
    "l"
   ]
  },
  {
   "cell_type": "code",
   "execution_count": 4,
   "metadata": {},
   "outputs": [
    {
     "data": {
      "text/plain": [
       "Matrix([\n",
       "[4,  -2,     -1],\n",
       "[0, 7/2,    1/4],\n",
       "[0,   0, -55/14]])"
      ]
     },
     "execution_count": 4,
     "metadata": {},
     "output_type": "execute_result"
    }
   ],
   "source": [
    "u"
   ]
  },
  {
   "cell_type": "markdown",
   "metadata": {},
   "source": [
    "<span style=\"color:orange\">Ahora tenemos que resolver Ly=b y guardarlo en la variable Y:</style>  "
   ]
  },
  {
   "cell_type": "code",
   "execution_count": 5,
   "metadata": {},
   "outputs": [
    {
     "data": {
      "text/plain": [
       "matrix([[1, 0, 0, 9],\n",
       "        [5/4, 1, 0, 7],\n",
       "        [1/4, 5/7, 1, 12]], dtype=object)"
      ]
     },
     "execution_count": 5,
     "metadata": {},
     "output_type": "execute_result"
    }
   ],
   "source": [
    "import sympy as sp\n",
    "import numpy as np\n",
    "\n",
    "L=l\n",
    "\n",
    "B = np.matrix([\n",
    "    [9],\n",
    "    [7],\n",
    "    [12]\n",
    "])\n",
    "\n",
    "# Para no aplanar el resultado, le ponemos axis=1\n",
    "L_B=np.append(L,B, axis=1)\n",
    "L_B\n",
    "\n"
   ]
  },
  {
   "cell_type": "code",
   "execution_count": 15,
   "metadata": {},
   "outputs": [
    {
     "data": {
      "text/plain": [
       "{x: 9, y: -17/4, z: 179/14}"
      ]
     },
     "execution_count": 15,
     "metadata": {},
     "output_type": "execute_result"
    }
   ],
   "source": [
    "from sympy import Matrix, solve_linear_system\n",
    "from sympy.abc import x,y,z\n",
    "\n",
    "# Lo pasamos a objeto de sympy\n",
    "L_B=Matrix(L_B)\n",
    "\n",
    "Y=solve_linear_system(L_B,x,y,z)\n",
    "Y\n",
    "\n"
   ]
  },
  {
   "cell_type": "markdown",
   "metadata": {},
   "source": [
    "<span style=\"color:orange\">Ahora tenemos que resolver Ux=y y guardarlo en la variable X:</style>  "
   ]
  },
  {
   "cell_type": "code",
   "execution_count": 16,
   "metadata": {},
   "outputs": [
    {
     "data": {
      "text/plain": [
       "array([[4, -2, -1, 9],\n",
       "       [0, 7/2, 1/4, -4.25000000000000],\n",
       "       [0, 0, -55/14, 12.7857142857143]], dtype=object)"
      ]
     },
     "execution_count": 16,
     "metadata": {},
     "output_type": "execute_result"
    }
   ],
   "source": [
    "from sympy import Matrix, solve_linear_system\n",
    "from sympy.abc import x,y,z\n",
    "\n",
    "U=u\n",
    "\n",
    "Y=Matrix([\n",
    "    [9],\n",
    "    [-17/4],\n",
    "    [179/14]\n",
    "])\n",
    "Y\n",
    "\n",
    "U_Y=np.append(U,Y, axis=1)\n",
    "U_Y"
   ]
  },
  {
   "cell_type": "code",
   "execution_count": 17,
   "metadata": {},
   "outputs": [
    {
     "data": {
      "text/plain": [
       "{x: 0.945454545454545, y: -0.981818181818182, z: -3.25454545454545}"
      ]
     },
     "execution_count": 17,
     "metadata": {},
     "output_type": "execute_result"
    }
   ],
   "source": [
    "from sympy import Matrix, solve_linear_system\n",
    "from sympy.abc import x,y,z\n",
    "\n",
    "U_Y=Matrix(U_Y)\n",
    "\n",
    "X=solve_linear_system(U_Y,x,y,z)\n",
    "X\n",
    "# Y tendríamos la solución del sistema"
   ]
  },
  {
   "cell_type": "markdown",
   "metadata": {},
   "source": [
    "## Cambio de base en espacios vectoriales \n",
    "\n",
    "Recuperamos algo pendiente de los espacios vectoriales.\n",
    "\n",
    "Recordemos que:  \n",
    "Decimos que S es una **base** de vectores del espacio vectorial E si los vectores de S son linealmente independientes y generadores del espacio vectorial E.  \n",
    "\n",
    "La idea es que queremos construir una matriz que nos permita cambiar las coordenadas de un vector en una base por las coordenadas del mismo vector en otra base.  "
   ]
  },
  {
   "cell_type": "markdown",
   "metadata": {},
   "source": [
    "Dados a<sub>1</sub>,...,a<sub>n</sub> una base para V y b<sub>1</sub>,...,b<sub>k</sub> otra base para V.  \n",
    "\n",
    "Queremos una matriz que nos mapee un vector cualquiera en la base b<sub>1</sub>,...,b<sub>k</sub> y lo convierte en un vector en la base a<sub>1</sub>,...,a<sub>n</sub>.  \n",
    "\n",
    "Para ello, calculamos la matriz B a partir de los vectores b<sub>1</sub>,...,b<sub>k</sub> y A a partir de los vectores a<sub>1</sub>,...,a<sub>n</sub>.\n",
    "\n",
    "Calculamos la **matriz de cambio de base** C como:  \n",
    "> C=A<sup>-1</sup>*B   \n",
    "\n",
    "Esta matriz mapea un vector en la base b<sub>1</sub>,...,b<sub>k</sub> y lo convierte en un vector en la base a<sub>1</sub>,...,a<sub>n</sub>.  "
   ]
  },
  {
   "cell_type": "markdown",
   "metadata": {},
   "source": [
    "<span style=\"color:orange\"> Ejemplo:  \n",
    "Calcula la matriz de cambio de base de la base [1,2,3],[2,1,0],[0,1,4] a la base [2,0,1],[0,1,−1],[1,2,0].</style> "
   ]
  },
  {
   "cell_type": "code",
   "execution_count": 18,
   "metadata": {},
   "outputs": [
    {
     "data": {
      "text/plain": [
       "matrix([[-1.        ,  1.        , -1.66666667],\n",
       "        [-4.        ,  1.        , -5.66666667],\n",
       "        [ 3.        ,  0.        ,  3.33333333]])"
      ]
     },
     "execution_count": 18,
     "metadata": {},
     "output_type": "execute_result"
    }
   ],
   "source": [
    "# Queremos cambiar de la base B = {[1,2,3],[2,1,0],[0,1,4]} a la base A={[2,0,1],[0,1,−1],[1,2,0]}\n",
    "import numpy as np\n",
    "\n",
    "# Escribimos la matriz B en columnas\n",
    "B=np.matrix([\n",
    "    [1,2,0],\n",
    "    [2,1,1],\n",
    "    [3,0,4]\n",
    "])\n",
    "\n",
    "# Escribimos la matriz A en columnas\n",
    "A=np.matrix([\n",
    "    [2,0,1],\n",
    "    [0,1,2],\n",
    "    [1,-1,0]\n",
    "])\n",
    "\n",
    "inv_A=np.linalg.inv(A)\n",
    "\n",
    "matriz_cambio=inv_A*B\n",
    "matriz_cambio"
   ]
  },
  {
   "cell_type": "markdown",
   "metadata": {},
   "source": [
    "<span style=\"color:orange\"> Queremos convertir el vector [1,2,3] a la base [2,0,1],[0,1,−1],[1,2,0].</style> "
   ]
  },
  {
   "cell_type": "code",
   "execution_count": 223,
   "metadata": {},
   "outputs": [
    {
     "data": {
      "text/plain": [
       "matrix([[ -4.],\n",
       "        [-19.],\n",
       "        [ 13.]])"
      ]
     },
     "execution_count": 223,
     "metadata": {},
     "output_type": "execute_result"
    }
   ],
   "source": [
    "import numpy as np\n",
    "V=np.matrix([\n",
    "    [1],\n",
    "    [2],\n",
    "    [3]\n",
    "])\n",
    "\n",
    "matriz_cambio*V"
   ]
  },
  {
   "cell_type": "markdown",
   "metadata": {},
   "source": [
    "En la vida real, el cambio de base se utiliza para muchas cosas, entre ellas, para eliminar la perspectiva de una imagen.\n",
    "\n",
    "<img src=\"Images/perspective_1.png\" style=\"width: 300px;\"/> \n",
    "<img src=\"Images/perspective_1a.png\" style=\"width: 300px;\"/> "
   ]
  },
  {
   "cell_type": "markdown",
   "metadata": {},
   "source": [
    " "
   ]
  }
 ],
 "metadata": {
  "kernelspec": {
   "display_name": "Python 3",
   "language": "python",
   "name": "python3"
  },
  "language_info": {
   "codemirror_mode": {
    "name": "ipython",
    "version": 3
   },
   "file_extension": ".py",
   "mimetype": "text/x-python",
   "name": "python",
   "nbconvert_exporter": "python",
   "pygments_lexer": "ipython3",
   "version": "3.7.4"
  }
 },
 "nbformat": 4,
 "nbformat_minor": 2
}
