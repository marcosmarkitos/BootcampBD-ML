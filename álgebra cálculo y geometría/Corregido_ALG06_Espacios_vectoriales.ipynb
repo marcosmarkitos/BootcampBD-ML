{
 "cells": [
  {
   "cell_type": "markdown",
   "metadata": {},
   "source": [
    "# 6. Espacios vectoriales"
   ]
  },
  {
   "cell_type": "markdown",
   "metadata": {},
   "source": [
    "# Espacios vectoriales\n",
    "\n",
    "Un **espacio vectorial** es una terna (V, +, ·), donde V es un conjunto no vacío y + y · son dos operaciones del tipo:\n",
    "* + : V × V → V (*suma*)   \n",
    "* · : K × V → V (*producto por un escalar*) \n",
    "\n",
    "y con las siguientes propiedades: \n",
    "> Para +: \n",
    ">> *1. Propiedad asociativa*: u+(v+w)=(u+v)+w,∀u,v,w∈V  \n",
    ">> *2. Propiedad conmutativa*: u+v=v+u,∀u,v∈V  \n",
    ">> *3. Existencia del elemento neutro*: Existe e∈V tal que e+v=v+e=v,∀v∈V  \n",
    ">> *4. Existencia del elemento opuesto*: Para cada v∈V existe w tal que v+w=w+v=e  \n",
    "\n",
    "> Para $\\cdot$ : \n",
    ">> *1. Propiedad asociativa*: λ $\\cdot$(μ$\\cdot$v) = (λ$\\cdot$μ) $\\cdot$v, ∀v ∈ V , ∀λ, μ ∈ K  \n",
    ">> *2. Existencia del elemento neutro*: Existe e∈K tal que e $\\cdot$ v=v $\\cdot$ e=v ,∀v∈V  \n",
    ">> *3. Propiedad distributiva del producto respecto la suma de vectores*: λ $\\cdot$ (u+v) = λ $\\cdot$ u+λ $\\cdot$ v, ∀u,v ∈ V y ∀λ ∈ K    \n",
    ">> *4. Propiedad distributiva del producto respecto la suma de escalares*: (λ+μ) $\\cdot$ u = λ $\\cdot$ v+μ $\\cdot$ u, ∀u ∈ V y ∀λ,μ ∈ K\n"
   ]
  },
  {
   "cell_type": "markdown",
   "metadata": {},
   "source": [
    "<span style=\"color:orange\"> Ejemplo: El modelo de color RGB</style>   \n",
    "<img src=\"Images/colores.jpg\" style=\"width: 300px;\"/>  \n",
    "\n",
    "<span style=\"color:orange\"> Ejemplo: Imagen multicolor</style>   \n",
    "<img src=\"Images/patchwork-calaveras-multicolor-fondo-negro.jpg\" style=\"width: 200px;\"/> \n",
    "\n",
    "\n",
    "<span style=\"color:orange\"> Ejemplo: Autorretrato de Escher</style>   \n",
    "<img src=\"Images/escher.jpg\" style=\"width: 200px;\"/> "
   ]
  },
  {
   "cell_type": "markdown",
   "metadata": {},
   "source": [
    "## Combinaciones lineales\n",
    "\n",
    "Dados los vectores v<sub>1</sub>, v<sub>2</sub>, ... , v<sub>j</sub> en $\\mathbb{V}$ y los escalares c<sub>1</sub>, c<sub>2</sub>, ... , c<sub>j</sub> en $\\mathbb{K}$, el vector y definido por\n",
    "> y=c<sub>1</sub>v<sub>1</sub> +···+c<sub>j</sub>v<sub>j</sub>  \n",
    "\n",
    "se llama **combinación lineal** de v<sub>1</sub>, v<sub>2</sub>, ... , v<sub>j</sub> con coeficientes c<sub>1</sub>, c<sub>2</sub>, ... , c<sub>j</sub>.  \n",
    "En una combinación lineal, los coeficientes pueden ser cualesquiera números reales, incluso el cero.   \n",
    "\n",
    "<span style=\"color:orange\"> Ejemplo:  \n",
    "Mezcla de colores\n",
    "</style> \n",
    "\n"
   ]
  },
  {
   "cell_type": "markdown",
   "metadata": {},
   "source": [
    "<span style=\"color:orange\"> Ejemplo:  \n",
    "$\\sqrt{3} \\cdot$ **v**<sub>1</sub>+**v**<sub>2</sub> es una combinación lineal de los vectores **v**<sub>1</sub> y **v**<sub>2</sub>.   \n",
    "Otras combinaciones lineales de los mismos vectores serían:\n",
    "$\\frac{1}{2}\\cdot$**v**<sub>1</sub>=$\\frac{1}{2}\\cdot$**v**<sub>1</sub>+0$\\cdot$**v**<sub>2</sub>  \n",
    "</style> "
   ]
  },
  {
   "cell_type": "markdown",
   "metadata": {},
   "source": [
    "<span style=\"color:orange\"> Ejemplo: Espionaje industrial  \n",
    "Supongamos que una empresa fabrica 4 productos usando para ello varios recursos en distinta cantidad:</style> \n",
    "\n",
    "|   |   |   |            \n",
    "| -- | -- | -- |  \n",
    "|   |  metal | plástico | agua | electricidad |               \n",
    "| tamagotchi | 1.3  | 0.2  | 0.8  | 0.4 |        \n",
    "| hula hoop  | 0 | 1.5 | 0.4 | 0.3 |         \n",
    "| gusano espiral  | 0.25 | 0 | 0.2  | 0.7 |\n",
    "| blandi-blub  | 0 | 0.3 | 0.7 | 0.5 |\n",
    "\n",
    "<span style=\"color:orange\"> Para hacer un tamagotchi:  **v**<sub>1</sub>={metal:1.3, plastico:0.2, agua:0.8, electricidad:0.4}</style>   \n",
    "<img src=\"Images/Tamagotchi-andro-700x500.jpg\" style=\"width: 200px;\"/>\n",
    "\n",
    "<span style=\"color:orange\"> Para hacer un hula hoop:  **v**<sub>2</sub>={metal:0, plastico:1.5, agua:0.4, electricidad:0.3}</style>   \n",
    "<img src=\"Images/hula-hoop-fold-a-hoop-81570.png\" style=\"width: 200px;\"/>\n",
    "\n",
    "<span style=\"color:orange\"> Para hacer un gusano espiral:  **v**<sub>3</sub>={metal:0.25, plastico:0, agua:0.2, electricidad:0.7}</style>     \n",
    "<img src=\"Images/resorte.jpg\" style=\"width: 200px;\"/>\n",
    "\n",
    "<span style=\"color:orange\"> Para hacer un blandi-blub:  **v**<sub>4</sub>={metal:0, plastico:0.3, agua:0.7, electricidad:0.5}</style>      \n",
    "<img src=\"Images/blandiblub.jpg\" style=\"width: 200px;\"/>\n",
    " \n",
    "<span style=\"color:orange\">Supongamos que la empresa fabrica $\\alpha$<sub>j</sub> unidades de cada uno de ellos. el total de recursos utilizados es:</style>     \n",
    "> <span style=\"color:orange\">**b**=$\\alpha$<sub>1</sub>$\\cdot$**v**<sub>1</sub> + $\\alpha$<sub>2</sub>$\\cdot$**v**<sub>2</sub> + $\\alpha$<sub>3</sub>$\\cdot$**v**<sub>3</sub> + $\\alpha$<sub>4</sub>$\\cdot$**v**<sub>4</sub>   </style> \n",
    "\n",
    "<span style=\"color:orange\">Supongamos que somos un espía infiltrado en la empresa.  \n",
    "Queremos averiguar el número de tamagotchis que fabrican.  \n",
    "Si conseguimos saber cuánto metal, plástico, agua y electricidad consumen, tendremos el total de recursos usados, es decir, **b**:  \n",
    "> <span style=\"color:orange\">**b**=$\\alpha$<sub>1</sub>$\\cdot$**v**<sub>1</sub> + $\\alpha$<sub>2</sub>$\\cdot$**v**<sub>2</sub> + $\\alpha$<sub>3</sub>$\\cdot$**v**<sub>3</sub> + $\\alpha$<sub>4</sub>$\\cdot$**v**<sub>4</sub>   </style>  \n",
    "    \n",
    "> <span style=\"color:orange\">Si lo desarrollamos un poco:   </style>   \n",
    "> <span style=\"color:orange\">**(b<sub>1</sub>,b<sub>2</sub>,b<sub>3</sub>,b<sub>4</sub>)**=$\\alpha$<sub>1</sub>$\\cdot$**(v<sub>11</sub>,v<sub>12</sub>,v<sub>13</sub>,v<sub>14</sub>)** + $\\alpha$<sub>2</sub>$\\cdot$**(v<sub>21</sub>,v<sub>22</sub>,v<sub>23</sub>,v<sub>24</sub>)**+ $\\alpha$<sub>3</sub>$\\cdot$**(v<sub>31</sub>,v<sub>32</sub>,v<sub>33</sub>,v<sub>34</sub>)**+ $\\alpha$<sub>4</sub>$\\cdot$**(v<sub>41</sub>,v<sub>42</sub>,v<sub>43</sub>,v<sub>44</sub>)**  </style>   \n",
    "\n",
    "> <span style=\"color:orange\">Separado en ecuaciones independientes:   </style>  \n",
    "> <span style=\"color:orange\">b<sub>1</sub>=$\\alpha$<sub>1</sub>$\\cdot$v<sub>11</sub> + $\\alpha$<sub>2</sub>$\\cdot$v<sub>21</sub>+ $\\alpha$<sub>3</sub>$\\cdot$v<sub>31</sub>+ $\\alpha$<sub>4</sub>$\\cdot$v<sub>41</sub>  </style>   \n",
    "> <span style=\"color:orange\">b<sub>2</sub>=$\\alpha$<sub>1</sub>$\\cdot$v<sub>12</sub> + $\\alpha$<sub>2</sub>$\\cdot$v<sub>22</sub>+ $\\alpha$<sub>3</sub>$\\cdot$v<sub>32</sub>+ $\\alpha$<sub>4</sub>$\\cdot$v<sub>42</sub>  </style>   \n",
    "> <span style=\"color:orange\">b<sub>3</sub>=$\\alpha$<sub>1</sub>$\\cdot$v<sub>13</sub> + $\\alpha$<sub>2</sub>$\\cdot$v<sub>23</sub>+ $\\alpha$<sub>3</sub>$\\cdot$v<sub>33</sub>+ $\\alpha$<sub>4</sub>$\\cdot$v<sub>43</sub>  </style>   \n",
    "> <span style=\"color:orange\">b<sub>4</sub>=$\\alpha$<sub>1</sub>$\\cdot$v<sub>14</sub> + $\\alpha$<sub>2</sub>$\\cdot$v<sub>24</sub>+ $\\alpha$<sub>3</sub>$\\cdot$v<sub>34</sub>+ $\\alpha$<sub>4</sub>$\\cdot$v<sub>44</sub>  </style>   \n",
    "\n",
    "<span style=\"color:orange\">¿Sería suficiente para nuestro objetivo? ¿Hay una única solución?  \n",
    "¿Qué pensais?</style>   \n",
    "\n",
    "Aunque lo veremos más adelante en detalle:\n",
    "** Teorema de Rouché-Fröbenius (versión no formal)**  \n",
    "Según el teorema de Rouché-Fröbenius, la condición necesaria y suficiente para que un sistema de m ecuaciones lineales con n incógnitas tenga solución es que el rango de la matriz de los coeficientes $\\alpha$<sub>j</sub> sea igual al rango de la matriz ampliada con la columna del vector **b**.  \n",
    "\n",
    "<span style=\"color:orange\"> Luego la respuesta es que sí, pero no podemos confirmar que sea única (de momento...).</style>  \n",
    "\n"
   ]
  },
  {
   "cell_type": "markdown",
   "metadata": {},
   "source": [
    "## Dependencia lineal de vectores\n",
    "\n",
    "Se dice que los vectores v<sub>1</sub>,... , v<sub>n</sub> son **linealmente dependientes** si el vector cero se puede escribir como una combinación lineal no trivial de los vectores:  \n",
    "> **0** = α<sub>1</sub>**v<sub>1</sub>** + ··· + α<sub>n</sub>**v<sub>n</sub>**\n",
    "\n",
    "En este caso, nos referimos a la combinación lineal como una dependencia lineal en v<sub>1</sub>,... , v<sub>n</sub>.\n",
    "Por otro lado, si la única combinación lineal que iguala el vector cero es la combinación lineal trivial, decimos v<sub>1</sub>,... , v<sub>n</sub> son **linealmente independientes**.  \n",
    "\n",
    "<span style=\"color:orange\"> Ejemplo:  \n",
    "¿Los vectores [1, 0, 0], [0, 2, 0] y [2, 4, 0] son linealmente dependientes?</style>  "
   ]
  },
  {
   "cell_type": "code",
   "execution_count": 4,
   "metadata": {},
   "outputs": [
    {
     "data": {
      "text/plain": [
       "{y: -2*z, x: -2*z}"
      ]
     },
     "execution_count": 4,
     "metadata": {},
     "output_type": "execute_result"
    }
   ],
   "source": [
    "import sympy as sp\n",
    "\n",
    "#Se define las variables simbolicas x,y,z\n",
    "x = sp.Symbol('x')\n",
    "y = sp.Symbol('y')\n",
    "z= sp.Symbol('z')\n",
    "\n",
    "# Para ver si son linealmente independientes, tenemos que ver si éste sistema tiene solución\n",
    "resultado =sp.solve([x+2*z,2*y+4*z,0],[x,y,z])\n",
    "\n",
    "resultado\n",
    "# Por tanto, son linealmente dependientes, ya que todas las combinaciones (-2z,-2z,z)\n",
    "# que son distintas del vector cero devuelven el vector 0\n",
    "# Por ejemplo: 2,2,-1"
   ]
  },
  {
   "cell_type": "markdown",
   "metadata": {},
   "source": [
    "<span style=\"color:orange\"> Ejemplo:  \n",
    "Los vectores [1, 0, 0], [0, 2, 0] y [0, 0, 4] son linealmente independientes.   \n",
    "Consideremos cualquier combinación lineal:  \n",
    "α<sub>1</sub> [1,0,0] + α<sub>2</sub> [0,2,0] + α<sub>3</sub> [0,0,4] =[α<sub>1</sub>, 2α<sub>2</sub>, 4α<sub>3</sub>]  \n",
    "Para obtener el vector [0,0,0], α<sub>1</sub> = α<sub>2</sub> = α<sub>3</sub> = 0  \n",
    "Es decir, la combinación lineal es trivial.  \n",
    "En Python</style>  "
   ]
  },
  {
   "cell_type": "code",
   "execution_count": 5,
   "metadata": {},
   "outputs": [
    {
     "data": {
      "text/plain": [
       "{z: 0, y: 0, x: 0}"
      ]
     },
     "execution_count": 5,
     "metadata": {},
     "output_type": "execute_result"
    }
   ],
   "source": [
    "import sympy as sp\n",
    "\n",
    "#Se define las variables simbolicas x,y,z\n",
    "x = sp.Symbol('x')\n",
    "y = sp.Symbol('y')\n",
    "z= sp.Symbol('z')\n",
    "\n",
    "# Para ver si son linealmente independientes, tenemos que ver si éste sistema tiene solución\n",
    "resultado =sp.solve([x,2*y,4*z],[x,y,z])\n",
    "\n",
    "resultado\n",
    "# Sólo devuelve el vector cero, luego son l.i"
   ]
  },
  {
   "cell_type": "markdown",
   "metadata": {},
   "source": [
    "## Generadores\n",
    "\n",
    "Si v<sub>1</sub>, ..., v<sub>j</sub> están en $\\mathbb{V}$, entonces el conjunto de todas las combinaciones lineales de v<sub>1</sub>, ..., v<sub>j</sub> se denota mediante Gen{v<sub>1</sub>, ..., v<sub>j</sub>} y recibe el nombre de **subespacio de $\\mathbb{V}$ generado por v<sub>1</sub>, ..., v<sub>j</sub>**.   \n",
    "Dicho de otro modo, Gen{v<sub>1</sub>, ..., v<sub>j</sub>} es la colección de todos los vectores que pueden escribirse en la forma  \n",
    ">c<sub>1</sub>$\\cdot$v<sub>1</sub> + c<sub>2</sub>$\\cdot$v<sub>2</sub> + ... + c<sub>j</sub>$\\cdot$v<sub>j</sub> \n",
    "\n",
    "donde c<sub>1</sub>, . . . , c<sub>j</sub> son escalares.  \n",
    "Los vectores v<sub>1</sub>, ..., v<sub>j</sub> se denominan **generadores** de $\\mathbb{V}$.  \n",
    "\n",
    "<span style=\"color:orange\"> Ejemplo:  \n",
    "{[2,0,0],[0,2,0],[0,0,1]} es un conjunto de vectores generadores de $\\mathbb{R}$<sup>3</sup>, ya que dado cualquier vector [x,y,z] en $\\mathbb{R}$<sup>3</sup> puede ser escrito como  \n",
    "$\\frac{x}{2}\\cdot$[2,0,0]+$\\frac{y}{2}\\cdot$[0,2,0]+z$\\cdot$[0,0,1].  </style>  \n",
    "\n",
    "Antes de continuar, vamos a volver a definir la suma de vectores y multiplicación de un escalar por un vector del mismo modo que lo vimos en el tema 2:"
   ]
  },
  {
   "cell_type": "code",
   "execution_count": 1,
   "metadata": {},
   "outputs": [],
   "source": [
    "def addn(v,w):\n",
    "    return[v[i]+w[i] for i in range(len(v))]"
   ]
  },
  {
   "cell_type": "code",
   "execution_count": 2,
   "metadata": {},
   "outputs": [],
   "source": [
    "def mult_vector_escalar(alpha,v):\n",
    "    return [alpha*v[i] for i in range(len(v))]"
   ]
  },
  {
   "cell_type": "markdown",
   "metadata": {},
   "source": [
    "<span style=\"color:orange\"> Ejemplo:  \n",
    "¿Cuántos vectores hay en Gen{[1,1]} en GF(2)?  \n",
    "Las combinaciones lineales posibles son:  \n",
    "0$\\cdot$[1,1]</style>   "
   ]
  },
  {
   "cell_type": "code",
   "execution_count": 3,
   "metadata": {},
   "outputs": [
    {
     "data": {
      "text/plain": [
       "[0, 0]"
      ]
     },
     "execution_count": 3,
     "metadata": {},
     "output_type": "execute_result"
    }
   ],
   "source": [
    "mult_vector_escalar(0,[1,1])"
   ]
  },
  {
   "cell_type": "markdown",
   "metadata": {},
   "source": [
    "<span style=\"color:orange\"> \n",
    "1$\\cdot$[1,1]</style> "
   ]
  },
  {
   "cell_type": "code",
   "execution_count": 4,
   "metadata": {},
   "outputs": [
    {
     "data": {
      "text/plain": [
       "[1, 1]"
      ]
     },
     "execution_count": 4,
     "metadata": {},
     "output_type": "execute_result"
    }
   ],
   "source": [
    "mult_vector_escalar(1,[1,1])"
   ]
  },
  {
   "cell_type": "markdown",
   "metadata": {},
   "source": [
    "<span style=\"color:orange\"> \n",
    "Luego el subespacio generado por Gen{[1,1]} en GF(2) tiene dos vectores: {[0,0],[1,1]}  </style> \n",
    "    \n",
    "<span style=\"color:orange\">Ejemplo: ¿Cuántos vectores hay en Gen{}?  \n",
    "Unicamente el vector cero.  </style> \n",
    "\n",
    "<span style=\"color:orange\">Ejemplo: ¿Cuántos vectores hay en Gen{[2,3]} en $\\mathbb{R}$?  \n",
    "Un número infinito: {a$\\cdot$[2,3]: a $\\in$ $\\mathbb{R}$}  </style> \n",
    "\n",
    "<span style=\"color:orange\">Ejemplo:  \n",
    "¿Cuántos vectores hay en Gen{[1,1],[0,1]} en GF(2)?  \n",
    "Las combinaciones lineales posibles son:  \n",
    "0$\\cdot$[1,1]+0$\\cdot$[0,1]\n",
    "</style> "
   ]
  },
  {
   "cell_type": "code",
   "execution_count": 5,
   "metadata": {},
   "outputs": [
    {
     "data": {
      "text/plain": [
       "[0, 0]"
      ]
     },
     "execution_count": 5,
     "metadata": {},
     "output_type": "execute_result"
    }
   ],
   "source": [
    "addn(mult_vector_escalar(0,[1,1]),mult_vector_escalar(0,[0,1]))"
   ]
  },
  {
   "cell_type": "markdown",
   "metadata": {},
   "source": [
    "<span style=\"color:orange\">  \n",
    "0$\\cdot$[1,1]+1$\\cdot$[0,1]\n",
    "</style> "
   ]
  },
  {
   "cell_type": "code",
   "execution_count": 6,
   "metadata": {},
   "outputs": [
    {
     "data": {
      "text/plain": [
       "[0, 1]"
      ]
     },
     "execution_count": 6,
     "metadata": {},
     "output_type": "execute_result"
    }
   ],
   "source": [
    "addn(mult_vector_escalar(0,[1,1]),mult_vector_escalar(1,[0,1]))"
   ]
  },
  {
   "cell_type": "markdown",
   "metadata": {},
   "source": [
    "<span style=\"color:orange\">  \n",
    "1$\\cdot$[1,1]+0$\\cdot$[0,1]\n",
    "</style> "
   ]
  },
  {
   "cell_type": "code",
   "execution_count": 7,
   "metadata": {},
   "outputs": [
    {
     "data": {
      "text/plain": [
       "[1, 1]"
      ]
     },
     "execution_count": 7,
     "metadata": {},
     "output_type": "execute_result"
    }
   ],
   "source": [
    "addn(mult_vector_escalar(1,[1,1]),mult_vector_escalar(0,[0,1]))"
   ]
  },
  {
   "cell_type": "markdown",
   "metadata": {},
   "source": [
    "<span style=\"color:orange\">  \n",
    "1$\\cdot$[1,1]+1$\\cdot$[0,1]\n",
    "</style> "
   ]
  },
  {
   "cell_type": "code",
   "execution_count": 8,
   "metadata": {},
   "outputs": [
    {
     "data": {
      "text/plain": [
       "[1, 2]"
      ]
     },
     "execution_count": 8,
     "metadata": {},
     "output_type": "execute_result"
    }
   ],
   "source": [
    "addn(mult_vector_escalar(1,[1,1]),mult_vector_escalar(1,[0,1]))"
   ]
  },
  {
   "cell_type": "markdown",
   "metadata": {},
   "source": [
    "<span style=\"color:orange\"> Luego hay 4 vectores en el conjunto generador.  </style>\n",
    "\n",
    "<span style=\"color:orange\">Ejemplo:  \n",
    "Otro subespacio generador para $\\mathbb{R}$<sup>3</sup> es {[1,0,0],[1,1,0],[1,1,1]}.  \n",
    "Sabemos que $\\mathbb{R}$<sup>3</sup>=Gen{[2,0,0],[0,2,0],[0,0,1]}, por lo que vamos a ver que estos tres vectores se encuentran en Gen{[1,0,0],[1,1,0],[1,1,1]}.  </style>  \n",
    "><span style=\"color:orange\">[2,0,0]=2$\\cdot$[1,0,0]   </style>  \n",
    "><span style=\"color:orange\">[0,2,0]=-2$\\cdot$[1,0,0]+2$\\cdot$[1,1,0]  </style>  \n",
    "><span style=\"color:orange\">[0,0,1]=-1$\\cdot$[1,1,0]+1$\\cdot$[1,1,1]  </style>  \n",
    "<span style=\"color:orange\">¿Por qué es suficiente?  </style>  \n",
    "* <span style=\"color:orange\">Cualquier vector de $\\mathbb{R}$<sup>3</sup> puede ser escrito como combinación lineal de {[2,0,0],[0,2,0],[0,0,1]}</style>  \n",
    "* <span style=\"color:orange\">Cada uno de los vectores {[2,0,0],[0,2,0],[0,0,1]} puede ser escrito como combinación lineal de {[1,0,0],[1,1,0],[1,1,1]}.</style>  \n",
    "\n",
    "<span style=\"color:blue\"> Ejemplo:   \n",
    "¿Cómo escribirías cada uno de los vectores {[3,0,0],[0,2,0],[0,0,1]} como combinación lineal de {[2,0,1],[1,0,2],[2,2,2]}?\n",
    "Escribamos las combinaciones lineales en Python. De momento, lo hacemos \"a mano\", pero vamos a mostrarlo elegante.</style>  \n",
    "\n",
    "\n"
   ]
  },
  {
   "cell_type": "code",
   "execution_count": 11,
   "metadata": {},
   "outputs": [],
   "source": [
    "# Tenemos que definir un nuevo procedimiento suma de tres vectores\n",
    "def addn3(v,w,z):\n",
    "    return[v[i]+w[i]+z[i] for i in range(len(v))]\n",
    "# Definimos nuestros tres vectores \"pivote\"\n",
    "b1 = [2, 0, 1]\n",
    "b2 = [1, 0, 2]\n",
    "b3 = [2, 2, 2]"
   ]
  },
  {
   "cell_type": "code",
   "execution_count": 6,
   "metadata": {},
   "outputs": [
    {
     "name": "stdout",
     "output_type": "stream",
     "text": [
      "[3, 0, 0] = 2*b1 + -1*b2 + 0*b3\n"
     ]
    }
   ],
   "source": [
    "v = [3, 0, 0]\n",
    "# Con una cuenta rapida, sacamos que las soluciones son 2, -1 y 0\n",
    "print(\"{0} = {1}*b1 + {2}*b2 + {3}*b3\".format(v, 2, -1, 0))"
   ]
  },
  {
   "cell_type": "code",
   "execution_count": 7,
   "metadata": {},
   "outputs": [
    {
     "name": "stdout",
     "output_type": "stream",
     "text": [
      "[0, 2, 0] = -0.67*b1 + -0.67*b2 + 1*b3\n"
     ]
    }
   ],
   "source": [
    "v = [0, 2, 0]\n",
    "# Se obtiene con -2/3,-2/3,1\n",
    "print(\"{0} = {1:.2f}*b1 + {2:.2f}*b2 + {3}*b3\".format(v, -2/3, -2/3, 1))"
   ]
  },
  {
   "cell_type": "code",
   "execution_count": 14,
   "metadata": {},
   "outputs": [
    {
     "name": "stdout",
     "output_type": "stream",
     "text": [
      "[0, 0, 1] = -0.333333*b1 + -0.666667*b2 + 0*b3\n"
     ]
    },
    {
     "data": {
      "text/plain": [
       "True"
      ]
     },
     "execution_count": 14,
     "metadata": {},
     "output_type": "execute_result"
    }
   ],
   "source": [
    "v = [0, 0, 1]\n",
    "# Se obtiene con -1/3, -2/3 y 0\n",
    "print(\"{0} = {1:f}*b1 + {2:f}*b2 + {3}*b3\".format(v, -1/3, -2/3, 0))"
   ]
  },
  {
   "cell_type": "markdown",
   "metadata": {},
   "source": [
    "<span style=\"color:orange\">Este proceso que hemos hecho a mano, en breve veremos un modo más sencillo de resolverlo con matrices</style> "
   ]
  },
  {
   "cell_type": "markdown",
   "metadata": {},
   "source": [
    "<img src=\"Images/rene_descartes_coordonneescartesiennes_hd.jpg\" style=\"width: 200px;\"/>\n",
    "\n",
    "En 1618, Descartes tuvo una idea mientras estaba acostado en la cama y mirando una mosca en el techo.  \n",
    "Podría describir la ubicación de la mosca en términos de dos números: su distancia de las dos paredes.  \n",
    "Se dio cuenta de que esto funcionaba incluso si las dos paredes no eran perpendiculares. Se dio cuenta de que podía expresar la geometría en álgebra.  \n",
    "* Las paredes desempeñan un papel de lo que ahora llamamos ejes.  \n",
    "* Los dos números son lo que ahora llamamos coordenadas.  \n",
    "\n",
    "# Sistemas de coordenadas  \n",
    "\n",
    "En términos de vectores (que lo generaliza más allá de dos dimensiones):  \n",
    "* El sistema de coordenadas para un espacio vectorial V es especificado por los generadores a<sub>1</sub>,... , a<sub>n</sub> de V.  \n",
    "* Cada vector v en V se puede escribir como una combinación lineal **v** = α<sub>1</sub> a<sub>1</sub> + ... + α<sub>n</sub> a<sub>n</sub>  \n",
    "* Representamos el vector v por el vector [α1, ..., αn] de los coeficientes, denominada representación de las coordenadas de v en términos de a<sub>1</sub>,. . . , a<sub>n</sub>.  \n",
    "\n",
    "Pero asignar coordenadas a los puntos no es suficiente. Para evitar confusiones, debemos asegurarnos de que cada punto tenga coordenadas asignadas de una sola manera. ¿Cómo?  \n",
    "Discutiremos la representación única más tarde.  \n",
    "\n",
    "# Representación de las coordenadas de un vector  \n",
    "\n",
    "<img src=\"Images/coordenadas_vector.png\" style=\"width: 300px;\"/>\n",
    "\n",
    "La representación de las coordenadas del vector **v** en términos de a<sub>1</sub>,. . . , a<sub>n</sub> es el vector [α1, ..., αn] tal que  \n",
    "> **v** = α<sub>1</sub> a<sub>1</sub> + ... + α<sub>n</sub> a<sub>n</sub>  \n",
    "\n",
    "En este contexto, los coeficientes se llaman **coordenadas**.  \n",
    "\n",
    "<span style=\"color:orange\"> Ejemplo:  \n",
    "¿Cuál es la representación coordenada del vector v= [1, 3, 5, 3] en términos de los vectores [1,1,0,0],[0,1,1,0],[0,0,1,1]?</style> "
   ]
  },
  {
   "cell_type": "code",
   "execution_count": 8,
   "metadata": {},
   "outputs": [
    {
     "data": {
      "text/plain": [
       "[1, 1, 0, 0, 0, 1, 1, 0, 0, 1, 1, 0, 0, 0, 1, 1, 0, 0, 1, 1, 0, 0, 1, 1]"
      ]
     },
     "execution_count": 8,
     "metadata": {},
     "output_type": "execute_result"
    }
   ],
   "source": [
    "# Primera forma: a ojo\n",
    "1*[1,1,0,0]+2*[0,1,1,0]+3*[0,0,1,1]\n",
    "# Recordemos que así no se podía"
   ]
  },
  {
   "cell_type": "code",
   "execution_count": 9,
   "metadata": {},
   "outputs": [
    {
     "data": {
      "text/plain": [
       "[1, 3, 5, 3]"
      ]
     },
     "execution_count": 9,
     "metadata": {},
     "output_type": "execute_result"
    }
   ],
   "source": [
    "# Segunda forma: a ojo pero bien\n",
    "def addn(v,w,z):\n",
    "    return[v[i]+w[i]+z[i] for i in range(len(v))]\n",
    "\n",
    "def mult_vector_escalar(alpha,v):\n",
    "    return[alpha*v[i] for i in range(len(v))]\n",
    "\n",
    "addn(mult_vector_escalar(1,[1,1,0,0]),mult_vector_escalar(2,[0,1,1,0]),mult_vector_escalar(3,[0,0,1,1]))"
   ]
  },
  {
   "cell_type": "code",
   "execution_count": 11,
   "metadata": {},
   "outputs": [
    {
     "data": {
      "text/plain": [
       "{z: 3, y: 2, x: 1}"
      ]
     },
     "execution_count": 11,
     "metadata": {},
     "output_type": "execute_result"
    }
   ],
   "source": [
    "#Cuarta forma: Se importa sympy\n",
    "import sympy as sp\n",
    "\n",
    "#Se define las variables simbolicas x,y,z\n",
    "x = sp.Symbol('x')\n",
    "y = sp.Symbol('y')\n",
    "z= sp.Symbol('z')\n",
    "\n",
    "resultado =sp.solve([x-1,x+y-3,y+z-5,z-3],[x,y,z])\n",
    "\n",
    "resultado\n",
    "#la representación en coordenadas de [1, 3, 5, 3]  es [1,2,3]"
   ]
  },
  {
   "cell_type": "markdown",
   "metadata": {},
   "source": [
    "<span style=\"color:blue\"> Ejemplo:  \n",
    "¿Cuál es la representación coordenada del vector v= [6, 3, 2, 5] en términos de los vectores [2, 2, 2, 3], [1, 0, −1, 0], [0, 1, 0, 1]?</style> "
   ]
  },
  {
   "cell_type": "code",
   "execution_count": 12,
   "metadata": {},
   "outputs": [
    {
     "data": {
      "text/plain": [
       "{z: -1, y: 2, x: 2}"
      ]
     },
     "execution_count": 12,
     "metadata": {},
     "output_type": "execute_result"
    }
   ],
   "source": [
    "#Por la cuarta forma: Se importa sympy\n",
    "import sympy as sp\n",
    "\n",
    "#Se define las variables simbolicas x,y,z\n",
    "x = sp.Symbol('x')\n",
    "y = sp.Symbol('y')\n",
    "z= sp.Symbol('z')\n",
    "\n",
    "resultado =sp.solve([2*x+y-6,2*x+z-3,2*x-y-2,3*x+z-5],[x,y,z])\n",
    "\n",
    "resultado\n",
    "#la representación en coordenadas de [6,3,2,5] es [2,2,-1]"
   ]
  },
  {
   "cell_type": "markdown",
   "metadata": {},
   "source": [
    "<span style=\"color:blue\"> Ejemplo:  \n",
    "En GF(2), ¿Cuál es la representación en coordenadas del vector [0,0,0,1] en términos de los vectores [1,1,0,1], [0,1,0,1] y [1,1,0,0]?  </style>  "
   ]
  },
  {
   "cell_type": "code",
   "execution_count": 16,
   "metadata": {},
   "outputs": [
    {
     "data": {
      "text/plain": [
       "{x: 1, y: 0, z: -1}"
      ]
     },
     "execution_count": 16,
     "metadata": {},
     "output_type": "execute_result"
    }
   ],
   "source": [
    "#Por la cuarta forma: Se importa sympy\n",
    "import sympy as sp\n",
    "\n",
    "#Se define las variables simbolicas x,y,z\n",
    "x = sp.Symbol('x')\n",
    "y = sp.Symbol('y')\n",
    "z = sp.Symbol('z')\n",
    "\n",
    "resultado =sp.solve([x+z,x+y+z,0,x+y-1],[x,y,z])\n",
    "\n",
    "resultado\n",
    "# Nos sale que la representación en coordenadas de [0, 0, 0, 1] es [1, 0, -1]\n",
    "# Cuidado! En GF(2)!!"
   ]
  },
  {
   "cell_type": "code",
   "execution_count": 106,
   "metadata": {},
   "outputs": [
    {
     "name": "stdout",
     "output_type": "stream",
     "text": [
      "{x: 1, y: 0, z: 1}\n"
     ]
    }
   ],
   "source": [
    "#Por la cuarta forma: Se importa sympy\n",
    "import sympy as sp\n",
    "\n",
    "#Se define las variables simbolicas x,y,z\n",
    "x = sp.Symbol('x')\n",
    "y = sp.Symbol('y')\n",
    "z = sp.Symbol('z')\n",
    "\n",
    "resultado =sp.solve([x+z,x+y+z,0,x+y-1],[x,y,z])\n",
    "\n",
    "for key in resultado:\n",
    "    resultado[key] = resultado[key] % 2\n",
    "print(resultado)\n",
    "# la representación en coordenadas de [0, 0, 0, 1] es [1, 0, 1]"
   ]
  },
  {
   "cell_type": "markdown",
   "metadata": {},
   "source": [
    "<span style=\"color:orange\"> Ejemplo: Pérdida de compresión.  \n",
    "Supongamos que necesitamos almacenar o transmitir muchas imágenes de 2 megapíxeles.  \n",
    "¿Cómo representamos la imagen de forma compacta?  </style>   \n",
    "* <span style=\"color:orange\">Método obvio: 2 millones de píxeles generan 2 millones de números.</style> \n",
    "* <span style=\"color:orange\">Método 1: ¡Usa la dispersión! Encuentra el vector k-vecino más cercano. Más adelante veremos que consiste en suprimir todas las entradas menos las k más grandes.</style>   \n",
    "* <span style=\"color:orange\">Método 2: Represente el vector de imagen por su representación de coordenadas:</style>   \n",
    "> * <span style=\"color:orange\">Antes de comprimir, seleccionamos los vectores v<sub>1</sub>,... , v<sub>n</sub>.</style>   \n",
    "> * <span style=\"color:orange\">Reemplazamos cada imagen por su representación en coordenadas de cada vector</style>   \n",
    "\n",
    "<span style=\"color:orange\">Para que esta estrategia funcione, debemos asegurarnos de que cada vector de imagen se pueda representar como una combinación lineal de v<sub>1</sub>,... , v<sub>n</sub>.  \n",
    "También necesitamos que la cantidad de vectores v<sub>1</sub>,... , v<sub>n</sub> ser mucho más pequeño que el número de píxeles.</style> \n",
    "\n",
    "* <span style=\"color:orange\">Método 3: Un híbrido:</style>    \n",
    "> * <span style=\"color:orange\"> Seleccionamos los vectores v<sub>1</sub>,... , v<sub>n</sub> </style>  \n",
    "> * <span style=\"color:orange\"> Para cada imagen a comprimir, calculamos su representación en coordenadas **u** en términos de v<sub>1</sub>,... , v<sub>n</sub> </style>   \n",
    "> * <span style=\"color:orange\"> Reemplazamos **u** con el vertor **u'**, que es el vector k-vecino más cercano </style>  \n",
    "> * <span style=\"color:orange\"> Para recuperar una imagen a partir de **u'**, calculamos la correspondiente combinación lineal de v<sub>1</sub>,... , v<sub>n</sub>. </style> \n",
    "\n",
    "# Mínimo número de vectores  \n",
    "\n",
    "Para un espacio vectorial dado V, ¿cuál es el número mínimo de vectores cuyo espacio generado por ellos es igual a V?  \n",
    "Hay dos enfoques:\n",
    "* El algoritmo Grow  \n",
    "* El algoritmo Shrink  \n",
    "\n",
    "** Algoritmo Grow **  \n",
    "> def Grow(V)  \n",
    "> S=∅\n",
    "> repetir mientras sea posible:\n",
    ">> encuentra un vector v en V que no esté en GenS,y añádelo a S.  \n",
    "\n",
    "El algoritmo se detiene cuando no hay vector para agregar, en cuyo momento S abarca todo V.  \n",
    "Por lo tanto, si el algoritmo se detiene, habrá encontrado un conjunto generador.  \n",
    "La pregunta lógica a hacerse: ¿El conjunto encontrado es más grande de lo necesario?  \n",
    "\n",
    "** Algoritmo Shrink **   \n",
    "> def Shrink(V)\n",
    "> S = conjunto finito de vectores que generan V   \n",
    "> repetir mientras sea posible:\n",
    ">> encuentra un vector v en S tal que Gen(S-{v})=V y quiítalo de S  \n",
    "\n",
    "El algoritmo se detiene cuando no hay un vector cuya eliminación dejaría un conjunto generador.  \n",
    "En cada punto durante el algoritmo, S abarca V, por lo que abarca V al final.  \n",
    "Por lo tanto, si el algoritmo se detiene, el algoritmo habrá encontrado un conjunto generador.  \n",
    "La pregunta es, nuevamente: ¿es más grande de lo necesario?  \n",
    "\n",
    "Estamos en el punto de preguntarnos:  \n",
    "¿Es obvio que el algoritmo Grow y el algoritmo Shrink encuentran los conjuntos más pequeños de generadores?  \n",
    "<span style=\"color:orange\">Pensemos en el siguiente ejemplo de un grafo:</style>     \n",
    "<img src=\"Images/grafo.png\" style=\"width: 300px;\"/>\n",
    "Los puntos se llaman nodos, los enlaces se llaman aristas.  \n",
    "Cada arista tiene dos puntos finales, los nodos que conecta.  \n",
    "Los puntos finales de un borde son vecinos.  \n",
    "Un **conjunto dominante** en un grafo es un conjunto S de nodos tal que cada nodo está en S o es un vecino de un nodo en S.  \n",
    "Algoritmo Grow:</style>   \n",
    "> <span style=\"color:orange\">S=∅</style>  \n",
    "> <span style=\"color:orange\">repetir mientras sea posible:</style>\n",
    ">> <span style=\"color:orange\">mientras que S no es un conjunto dominante, agregar un nodo a S que actualmente no sea adyacente a S. </style>  \n",
    "\n",
    "<span style=\"color:orange\">Algoritmo Shrink:</style>  \n",
    "> <span style=\"color:orange\">S = todos los nodos</style>   \n",
    "> <span style=\"color:orange\">repetir mientras sea posible:</style>\n",
    ">> <span style=\"color:orange\">Si hay un nodo x tal que S - {x} es un conjunto dominante, eliminar x de S</style>  \n",
    "\n",
    "<span style=\"color:orange\">Ninguno de los algoritmos tiene garantizado encontrar la solución más pequeña.</style>  \n",
    "\n"
   ]
  },
  {
   "cell_type": "markdown",
   "metadata": {},
   "source": [
    "# Bosque de extensión mínima  \n",
    "\n",
    "<img src=\"Images/bosque.png\" style=\"width: 800px;\"/>\n",
    "\n",
    "Una secuencia de aristas [{x<sub>1</sub>, x<sub>2</sub>}, {x<sub>2</sub>, x<sub>3</sub>}, {x<sub>3</sub>, x<sub>4</sub>},..., {x<sub>k-1</sub>, x<sub>k</sub>}] sin repeticiones se denomina **camino** de x<sub>1</sub> a x<sub>k</sub>.  \n",
    "\n",
    "<span style=\"color:orange\"> Ejemplo:  ¿Cuántos caminos tengo para ir de “Main Quad” a ”Gregorian Quad”?</style>\n",
    "\n"
   ]
  },
  {
   "cell_type": "markdown",
   "metadata": {},
   "source": [
    "<span style=\"color:orange\"> Tengo 4 caminos para ir de “Main Quad” a ”Gregorian Quad”:</style>\n",
    "* <span style=\"color:orange\">Dos caminos a través de “Wriston Quad”:</style>  \n",
    "> <span style=\"color:orange\">Main Quad - Wriston Quad - Gregorian Quad</style>  \n",
    "> <span style=\"color:orange\">Main Quad - Wriston Quad - Keeney Quad - Gregorian Quad</style>  \n",
    "\n",
    "* <span style=\"color:orange\">Dos caminos a través de “Keeney Quad”:</style>  \n",
    "> <span style=\"color:orange\">Main Quad - Keeney Quad - Gregorian Quad</style>  \n",
    "> <span style=\"color:orange\">Main Quad - Keeney Quad - Wriston Quad - Gregorian Quad</style>  \n",
    "\n"
   ]
  },
  {
   "cell_type": "markdown",
   "metadata": {},
   "source": [
    "Un camino de x a x es un **ciclo**.  \n",
    "<span style=\"color:orange\"> Ejemplo:  \n",
    "El camino Keeney Quad - Wriston Quad - Gregorian Quad - Keeney Quad es un ciclo.</style>  \n",
    "\n",
    "Un conjunto S de aristas genera un grafo G si, para cada arista {x, y} de G, hay un camino x-y que consiste en las aristas de S.  \n",
    "\n",
    "Un conjunto de aristas de G es un bosque (forest) si el conjunto no incluye ciclos.  \n",
    " \n",
    "<span style=\"color:orange\"> Ejemplo:  \n",
    "¿Hay algún bosque en nuestro ejemplo?\n",
    "    \n",
    "<img src=\"Images/bosque.png\" style=\"width: 800px;\"/>"
   ]
  },
  {
   "cell_type": "markdown",
   "metadata": {},
   "source": [
    "El conjunto de aristas {Main Quad, Wriston Quad}, {Wriston Quad,Keeney Quad}, {riston Quad,Gregorian Quad} es un bosque.</style>   \n",
    "\n"
   ]
  },
  {
   "cell_type": "markdown",
   "metadata": {},
   "source": [
    "En la realidad, cada arista lleva asignado un peso.  \n",
    "\n",
    "<span style=\"color:orange\"> Ejemplo:  \n",
    "En el grafo que estamos siguiendo de la imagen, los pesos de las aristas son:</style>     \n",
    "* <span style=\"color:orange\">{Main Quad, Wriston Quad}:3</style>   \n",
    "* <span style=\"color:orange\">{Main Quad, Keeney Quad}:5</style>     \n",
    "* <span style=\"color:orange\">{Keeney Quad, Wriston Quad}:4</style>     \n",
    "* <span style=\"color:orange\">{Wriston Quad, Gregorian Quad}:6</style>   \n",
    "* <span style=\"color:orange\">{Keeney Quad, Gregorian Quad}:8</style>   \n",
    "\n",
    "Para calcular el mínimo bosque generador del grafo:  \n",
    "* input: un grafo G, y una asignación de pesos de números reales a las aristas de G.  \n",
    "* output: un conjunto de pesos mínimo S de aristas que generan el grafo y un bosque.  \n",
    "\n",
    "<span style=\"color:orange\"> Ejemplo:  \n",
    "Supongamos que queremos diseñar la red de internet para el campus universitario.  \n",
    "La red debe lograr la misma conectividad que el grafo de entrada.  \n",
    "Una arista representa un posible cable.  \n",
    "El peso de la arista es el coste de instalar el cable.  \n",
    "Nuestro objetivo es minimizar el coste total.  </style> "
   ]
  },
  {
   "cell_type": "markdown",
   "metadata": {},
   "source": [
    "<span style=\"color:orange\">** Algoritmo Grow**</style>  \n",
    "> <span style=\"color:orange\"> def Grow (G)</style>  \n",
    "> <span style=\"color:orange\"> S: = ∅</style>\n",
    "> <span style=\"color:orange\"> Consideremos las aristas e en orden creciente:</style>  \n",
    ">> <span style=\"color:orange\"> Si los puntos finales de e aún no están conectados, agregue e a S.</style>  \n",
    "\n",
    "<span style=\"color:orange\"> Colocamos las aristas en orden creciente según sus pesos: 3,4,5,6,8.  \n",
    "Cogemos la arista {Main Quad, Wriston Quad} y la añadimos a S.  \n",
    "Hay que añadir el nodo Keeney Quad. Se puede hacer:</style>  \n",
    "* <span style=\"color:orange\">{Main Quad, Keeney Quad}:5</style>\n",
    "* <span style=\"color:orange\">{Keeney Quad, Wriston Quad}:4</style>  \n",
    "\n",
    "<span style=\"color:orange\">Luego añadimos a S la arista {Keeney Quad, Wriston Quad}.  \n",
    "Faltaría añadir el nodo Gregorian Quad. Podemos añadirlo:</style>  \n",
    "* <span style=\"color:orange\">{Wriston Quad, Gregorian Quad}:6</style>    \n",
    "* <span style=\"color:orange\">{Keeney Quad, Gregorian Quad}:8</style>  \n",
    "\n",
    "<span style=\"color:orange\">Luego añadimos a S la arista {Wriston Quad, Gregorian Quad}.  \n",
    "Por tanto, el mínimo bosque generador del grafo quedaría:</style>  \n",
    "> <span style=\"color:orange\">S={ {Main Quad, Wriston Quad}, {Keeney Quad, Wriston Quad}, {Wriston Quad, Gregorian Quad} }  </style>    \n",
    "\n",
    "<span style=\"color:orange\"> ¿Cómo lo haríamos en Python? </style> "
   ]
  },
  {
   "cell_type": "code",
   "execution_count": 1,
   "metadata": {},
   "outputs": [],
   "source": [
    "# Detallamos nuestro grafo\n",
    "grafo = [({\"Main Quad\",\"Wriston Quad\"},3),\n",
    "         ({\"Main Quad\",\"Keeney Quad\"},5),\n",
    "         ({\"Keeney Quad\",\"Wriston Quad\"},4),\n",
    "         ({\"Keeney Quad\",\"Gregorian Quad\"},8),\n",
    "         ({\"Gregorian Quad\",\"Wriston Quad\"},6)\n",
    "        ]\n"
   ]
  },
  {
   "cell_type": "code",
   "execution_count": 2,
   "metadata": {},
   "outputs": [],
   "source": [
    "# ------------------------------------------------------------------------------------------\n",
    "# Algoritmo Grow\n",
    "# ------------------------------------------------------------------------------------------\n",
    "# 1.Empezamos con un grafo vacio\n",
    "    \n",
    "def Algorithm_Grow(grafo):\n",
    "    #empezamos con un grafo vacio\n",
    "    bosque = []\n",
    "    return bosque"
   ]
  },
  {
   "cell_type": "code",
   "execution_count": 3,
   "metadata": {},
   "outputs": [
    {
     "data": {
      "text/plain": [
       "[]"
      ]
     },
     "execution_count": 3,
     "metadata": {},
     "output_type": "execute_result"
    }
   ],
   "source": [
    "Algorithm_Grow(grafo)\n",
    "# Me devuelve el bosque vacío"
   ]
  },
  {
   "cell_type": "code",
   "execution_count": 6,
   "metadata": {},
   "outputs": [
    {
     "data": {
      "text/plain": [
       "3"
      ]
     },
     "execution_count": 6,
     "metadata": {},
     "output_type": "execute_result"
    }
   ],
   "source": [
    "# Vamos ahora con el paso 2\n",
    "\n",
    "# ------------------------------------------------------------------------------------------\n",
    "# Algoritmo Grow\n",
    "# ------------------------------------------------------------------------------------------\n",
    "# HECHO 1.Empezamos con un grafo vacio\n",
    "# 2.Tenemos que añadir la arista con menor peso al grafo vacio\n",
    "# Para ello necesitamos una funcion que obtenga la arista de menor peso del grafo\n",
    "\n",
    "# ------------------------------------------------------------------------------------------\n",
    "# Fn_Get_PesoMin: Funcion para obtener el peso min de un grafo\n",
    "# ------------------------------------------------------------------------------------------\n",
    "def Fn_Get_PesoMin(grafo):\n",
    "    # inicializamos el peso a 100 (un valor más grande que el máximo peso de arista que encuentro)\n",
    "    peso=100\n",
    "    # Para cada arista en el grafo...\n",
    "    for v in grafo:\n",
    "        if peso>v[1]: #v[1] dice que coja para cada elemento su valor de la posición 1 (en Python), e.d, los pesos\n",
    "            peso=v[1] \n",
    "    return peso\n",
    "    \n",
    "# veamos que funciona con nuestro grafo\n",
    "Fn_Get_PesoMin(grafo)\n",
    "# Bien! Me devuelve el peso 3 que es el de la arista con menor peso"
   ]
  },
  {
   "cell_type": "code",
   "execution_count": 10,
   "metadata": {},
   "outputs": [
    {
     "data": {
      "text/plain": [
       "8"
      ]
     },
     "execution_count": 10,
     "metadata": {},
     "output_type": "execute_result"
    }
   ],
   "source": [
    "# Pero no quiero mirar \"a mano\" cuál es el valor máximo de arista\n",
    "\n",
    "# ------------------------------------------------------------------------------------------\n",
    "# Fn_Get_PesoMax: Funcion para obtener el peso max de un grafo\n",
    "# ------------------------------------------------------------------------------------------\n",
    "def Fn_Get_PesoMax(grafo):\n",
    "    # Inicializo la variable peso a 0\n",
    "    peso = 0\n",
    "    for v in grafo:\n",
    "        if peso<v[1]:\n",
    "            peso = v[1]\n",
    "    return peso\n",
    "\n",
    "# veamos que funciona con nuestro grafo\n",
    "Fn_Get_PesoMax(grafo)\n",
    "# Bien! Me devuelve el peso 8 que es el de la arista con mayor peso"
   ]
  },
  {
   "cell_type": "code",
   "execution_count": 11,
   "metadata": {},
   "outputs": [
    {
     "data": {
      "text/plain": [
       "3"
      ]
     },
     "execution_count": 11,
     "metadata": {},
     "output_type": "execute_result"
    }
   ],
   "source": [
    "# Modifiquemos entonces la función para obtener el peso mínimo\n",
    "\n",
    "# ------------------------------------------------------------------------------------------\n",
    "# Fn_Get_PesoMin: Funcion para obtener el peso min de un grafo\n",
    "# ------------------------------------------------------------------------------------------\n",
    "def Fn_Get_PesoMin(grafo):\n",
    "    # inicializamos el peso con el peso máximo de arista que encuentro\n",
    "    peso=Fn_Get_PesoMax(grafo)\n",
    "    # Para cada arista en el grafo...\n",
    "    for v in grafo:\n",
    "        if peso>v[1]: #v[1] dice que coja para cada elemento su valor de la posición 1 (en Python), e.d, los pesos\n",
    "            peso=v[1] \n",
    "    return peso\n",
    "    \n",
    "# veamos que funciona con nuestro grafo\n",
    "Fn_Get_PesoMin(grafo)\n",
    "# Bien! Me devuelve el peso 3 que es el de la arista con menor peso\n"
   ]
  },
  {
   "cell_type": "code",
   "execution_count": 12,
   "metadata": {},
   "outputs": [],
   "source": [
    "# Seguimos con el paso 2\n",
    "\n",
    "# ------------------------------------------------------------------------------------------\n",
    "# Algoritmo Grow\n",
    "# ------------------------------------------------------------------------------------------\n",
    "# HECHO 1.Empezamos con un grafo vacio\n",
    "# 2.Tenemos que añadir la arista con menor peso al grafo vacio\n",
    "\n",
    "\n",
    "def Algorithm_Grow(grafo):\n",
    "    bosque = []\n",
    "    # Creamos una copia del grafo para \"jugar\" sin alterar el grafo original\n",
    "    gr = grafo.copy()\n",
    "\n",
    "    # Declaramos la variable PesoMinimo como el peso mínimo de arista que encuentro en el grafo\n",
    "    PesoMinimo = Fn_Get_PesoMin(gr)\n",
    "    # Tenemos que sacar cuál es la arista asociada a ese PesoMinimo\n",
    "    # Queremos recorrer todos los elementos del grafo\n",
    "    for i in range(0,len(gr)):\n",
    "        # Si el peso del elemento del grafo es igual a ese PesoMinimo, esa será mi PrimeraArista\n",
    "        if gr[i][1] == PesoMinimo:  \n",
    "            PrimeraArista = gr.pop(i) #Usamos la función pop, que por un lado me devuelve el valor de gr en la\n",
    "                                      # posición i y lo insertamos en PrimeraArista\n",
    "                                      # y además lo elimina del grafo gr  \n",
    "            break\n",
    "    #Añado por fin la PrimeraArista a mi bosque\n",
    "    bosque.append(PrimeraArista)\n",
    "    \n",
    "    return bosque"
   ]
  },
  {
   "cell_type": "code",
   "execution_count": 14,
   "metadata": {},
   "outputs": [
    {
     "data": {
      "text/plain": [
       "[({'Main Quad', 'Wriston Quad'}, 3)]"
      ]
     },
     "execution_count": 14,
     "metadata": {},
     "output_type": "execute_result"
    }
   ],
   "source": [
    "# Comprobamos que funciona\n",
    "Algorithm_Grow(grafo)\n",
    "# Bien! Me devuelve el bosque con la arista de menor peso"
   ]
  },
  {
   "cell_type": "code",
   "execution_count": 15,
   "metadata": {},
   "outputs": [],
   "source": [
    "# Vamos con el paso 3\n",
    "\n",
    "# ------------------------------------------------------------------------------------------\n",
    "# Algoritmo Grow\n",
    "# ------------------------------------------------------------------------------------------\n",
    "# HECHO 1.Empezamos con un grafo vacio\n",
    "# HECHO 2.Añadimos el vertice con menor peso al grafo vacio\n",
    "# 3.Necesitamos saber qué nodos nos quedan por añadir\n",
    "# Para ello veamos primero una función para listar los nodos\n",
    "\n",
    "# ------------------------------------------------------------------------------------------\n",
    "# Fn_Get_Nodos: Funcion para obtener los nodos que componen un grado\n",
    "# ------------------------------------------------------------------------------------------\n",
    "def Fn_Get_Nodos(grafo):\n",
    "    # Inicializamos el conjunto \"nodos\" como un conjunto vacío\n",
    "    nodos = set()\n",
    "    # Para cada elemento del grafo...\n",
    "    for i in grafo:\n",
    "        # Para cada arista (primera posición) de esos elementos del grafo...\n",
    "        for e in i[0]:\n",
    "            # Lo añadimos al conjunto nodos.\n",
    "            # Al ser nodos un conjunto, si un elemento lo añado dos veces, sólo se añadirá la primera vez\n",
    "            nodos.add(e)    \n",
    "            \n",
    "    return nodos"
   ]
  },
  {
   "cell_type": "code",
   "execution_count": 16,
   "metadata": {},
   "outputs": [
    {
     "data": {
      "text/plain": [
       "{'Gregorian Quad', 'Keeney Quad', 'Main Quad', 'Wriston Quad'}"
      ]
     },
     "execution_count": 16,
     "metadata": {},
     "output_type": "execute_result"
    }
   ],
   "source": [
    "# Comprobamos que funciona\n",
    "Fn_Get_Nodos(grafo)\n",
    "# Efectivamente, cada elemento sólo se ha añadido una vez\n",
    "# Así tengo listado todos los nodos del grafo"
   ]
  },
  {
   "cell_type": "code",
   "execution_count": 19,
   "metadata": {},
   "outputs": [],
   "source": [
    "# Seguimos en el paso 3\n",
    "\n",
    "# ------------------------------------------------------------------------------------------\n",
    "# Algoritmo Grow\n",
    "# ------------------------------------------------------------------------------------------\n",
    "# HECHO 1.Empezamos con un grafo vacio\n",
    "# HECHO 2.Añadimos el vertice con menor peso al grafo vacio\n",
    "# 3.Necesitamos saber qué nodos nos quedan por añadir\n",
    "# Estos van a ser todos los nodos menos los que ya estén en el bosque\n",
    "    \n",
    "def Algorithm_Grow(grafo):\n",
    "    bosque = []\n",
    "    gr = grafo.copy()\n",
    "\n",
    "    PesoMinimo = Fn_Get_PesoMin(gr)\n",
    "    for i in range(0,len(gr)):\n",
    "        if gr[i][1] == PesoMinimo:  \n",
    "            PrimeraArista = gr.pop(i)  \n",
    "            break\n",
    "    bosque.append(PrimeraArista)\n",
    "    \n",
    "    # Primero todos los nodos que nos faltan por añadir, una vez quitada la primera arista\n",
    "    # Esto es coger el grafo gr\n",
    "    nodosDeseados = Fn_Get_Nodos(gr)\n",
    "    \n",
    "    # Para ver que funciona, pongamos momentaneamente que nos devuelva la salida de nodosDeseados\n",
    "    return nodosDeseados"
   ]
  },
  {
   "cell_type": "code",
   "execution_count": 21,
   "metadata": {},
   "outputs": [
    {
     "data": {
      "text/plain": [
       "{'Gregorian Quad', 'Keeney Quad', 'Main Quad', 'Wriston Quad'}"
      ]
     },
     "execution_count": 21,
     "metadata": {},
     "output_type": "execute_result"
    }
   ],
   "source": [
    "# Comprobamos que funciona\n",
    "Algorithm_Grow(grafo)\n",
    "# ¿Por qué no ha quitado ninguna? \n",
    "# Porque hay aristas que contienen también esos nodos de la arista de menor peso "
   ]
  },
  {
   "cell_type": "code",
   "execution_count": 22,
   "metadata": {},
   "outputs": [],
   "source": [
    "# Seguimos en el paso 3\n",
    "\n",
    "# ------------------------------------------------------------------------------------------\n",
    "# Algoritmo Grow\n",
    "# ------------------------------------------------------------------------------------------\n",
    "# HECHO 1.Empezamos con un grafo vacio\n",
    "# HECHO 2.Añadimos el vertice con menor peso al grafo vacio\n",
    "# 3.Necesitamos saber qué nodos nos quedan por añadir\n",
    "# Estos van a ser todos los nodos menos los que ya estén en el bosque\n",
    "\n",
    "# Ahora listamos los que están ya en el bosque\n",
    "# Esto es ahora mismo los nodos de la primera arista\n",
    "   \n",
    "def Algorithm_Grow(grafo):\n",
    "    bosque = []\n",
    "    gr = grafo.copy()\n",
    "\n",
    "    PesoMinimo = Fn_Get_PesoMin(gr)\n",
    "    for i in range(0,len(gr)):\n",
    "        if gr[i][1] == PesoMinimo:  \n",
    "            PrimeraArista = gr.pop(i)  \n",
    "            break\n",
    "    bosque.append(PrimeraArista)\n",
    "    \n",
    "    nodosDeseados = Fn_Get_Nodos(gr)\n",
    "    \n",
    "    nodosEnBosque=Fn_Get_Nodos(bosque)\n",
    "    \n",
    "    # Para ver que funciona, pongamos momentaneamente que nos devuelva la salida de nodosEnBosque      \n",
    "    return nodosEnBosque"
   ]
  },
  {
   "cell_type": "code",
   "execution_count": 23,
   "metadata": {},
   "outputs": [
    {
     "data": {
      "text/plain": [
       "{'Main Quad', 'Wriston Quad'}"
      ]
     },
     "execution_count": 23,
     "metadata": {},
     "output_type": "execute_result"
    }
   ],
   "source": [
    "# Comprobamos que funciona\n",
    "Algorithm_Grow(grafo)\n",
    "# Efectivamente me devuelve los dos nodos de la primera arista"
   ]
  },
  {
   "cell_type": "code",
   "execution_count": 24,
   "metadata": {},
   "outputs": [],
   "source": [
    "# Seguimos en el paso 3\n",
    "\n",
    "# ------------------------------------------------------------------------------------------\n",
    "# Algoritmo Grow\n",
    "# ------------------------------------------------------------------------------------------\n",
    "# HECHO 1.Empezamos con un grafo vacio\n",
    "# HECHO 2.Añadimos el vertice con menor peso al grafo vacio\n",
    "# 3.Necesitamos saber qué nodos nos quedan por añadir\n",
    "\n",
    "# ¿Qué nodos son entonces los que me quedan por añadir?\n",
    "# Estos van a ser todos los nodos menos los que ya estén en el bosque\n",
    "   \n",
    "def Algorithm_Grow(grafo):\n",
    "    bosque = []\n",
    "    gr = grafo.copy()\n",
    "\n",
    "    PesoMinimo = Fn_Get_PesoMin(gr)\n",
    "    for i in range(0,len(gr)):\n",
    "        if gr[i][1] == PesoMinimo:  \n",
    "            PrimeraArista = gr.pop(i)  \n",
    "            break\n",
    "    bosque.append(PrimeraArista)\n",
    "    \n",
    "    nodosDeseados = Fn_Get_Nodos(gr)\n",
    "    \n",
    "    nodosEnBosque=Fn_Get_Nodos(bosque)\n",
    "    \n",
    "    #que nodos quedan por añadir al bosque\n",
    "    nodosQueQuedan = nodosDeseados - nodosEnBosque\n",
    "    \n",
    "    # Otra vez puntualmente cambiemos la salida para que muestre nodosQueQuedan\n",
    "    return nodosQueQuedan"
   ]
  },
  {
   "cell_type": "code",
   "execution_count": 25,
   "metadata": {},
   "outputs": [
    {
     "data": {
      "text/plain": [
       "{'Gregorian Quad', 'Keeney Quad'}"
      ]
     },
     "execution_count": 25,
     "metadata": {},
     "output_type": "execute_result"
    }
   ],
   "source": [
    "# Comprobamos que funciona\n",
    "Algorithm_Grow(grafo)\n",
    "# Efectivamente Gregorian Quad y Keeney Quad son los dos nodos que faltan\n",
    "# NOTA: Lo bueno de trabajar con conjuntos es que me permite añadir, quitar, etc..sin importar que se repitan "
   ]
  },
  {
   "cell_type": "code",
   "execution_count": 28,
   "metadata": {},
   "outputs": [],
   "source": [
    "# Vamos ya con el paso 4\n",
    "\n",
    "# ------------------------------------------------------------------------------------------\n",
    "# Algoritmo Grow\n",
    "# ------------------------------------------------------------------------------------------\n",
    "# HECHO 1.Empezamos con un grafo vacio\n",
    "# HECHO 2.Añadimos el vertice con menor peso al grafo vacio\n",
    "# HECHO 3.Vemos que nodos nos quedan por añadir\n",
    "# 4.Añadimos el nodo que tenga un vertice que una con el arbol (ahora mismo son los nodos de la primera arista) \n",
    "# y que tenga el peso de arista más pequeño\n",
    "    \n",
    "def Algorithm_Grow(grafo):\n",
    "    bosque = []\n",
    "    gr = grafo.copy()\n",
    "    nodosDeseados = Fn_Get_Nodos(gr)\n",
    "    \n",
    "    minimo = Fn_Get_PesoMin(gr)\n",
    "    for i in range(0,len(gr)):\n",
    "        if gr[i][1] == minimo:\n",
    "            nuevoVertice = gr.pop(i)\n",
    "            break\n",
    "    bosque.append(nuevoVertice)\n",
    "    \n",
    "    nodosEnBosque=Fn_Get_Nodos(bosque)\n",
    "    \n",
    "    nodosQueQuedan = nodosDeseados - nodosEnBosque\n",
    "    \n",
    "    # Recorremos los nodos que faltan\n",
    "    while nodosQueQuedan:\n",
    "        for nodo in nodosQueQuedan:\n",
    "            # Recorremos los elementos del grafo gr\n",
    "            for v in gr:\n",
    "                # Necesitamos que este nodo esté en la arista del elemento del grafo (v[0])\n",
    "                if nodo in v[0]:\n",
    "                    # creamos el conjunto vertices con los dos nodos de esta arista\n",
    "                    vertices = v[0].copy()\n",
    "                    # Uno de estos vértices lo metemos en unNodo y lo eliminamos del conjunto vertices\n",
    "                    unNodo = vertices.pop()\n",
    "                    # Metemos el otro vertice en otroNodo \n",
    "                    otroNodo = vertices.pop()\n",
    "                    # Tenemos que ver ahora si el nodo se corresponde con unNodo u otroNodo\n",
    "                    if nodo == otroNodo:\n",
    "                        nodoBuscado = otroNodo\n",
    "                    else:\n",
    "                        nodoBuscado = unNodo\n",
    "                    # Ahora bien, si ese nodoBuscado es de los que me faltan (nodosQueQuedan), tengo que mirar \n",
    "                    # cuál es la arista de menor peso\n",
    "                    if nodoBuscado in nodosQueQuedan:\n",
    "                        # Calculo el maximo peso del grafo gr\n",
    "                        maximo=Fn_Get_PesoMax(gr)\n",
    "                        # A partir de aquí, miro el peso de esa arista que contiene ese nodoBuscado\n",
    "                        # y si tiene menor peso que la que tiene máximo peso entre las que quedan\n",
    "                        # la sustituyo por este nuevo valor\n",
    "                        if v[1] <= maximo:\n",
    "                            maximo = v[1]\n",
    "                            nodoNuevo = nodoBuscado\n",
    "                            # Para ver que funciona, metamos que nos enseñe los nodoNuevo\n",
    "                            return nodoNuevo\n",
    "    # Cuando termina el bucle tenemos el nodo que tenemos que añadir (nodoNuevo)"
   ]
  },
  {
   "cell_type": "code",
   "execution_count": 29,
   "metadata": {},
   "outputs": [
    {
     "data": {
      "text/plain": [
       "'Keeney Quad'"
      ]
     },
     "execution_count": 29,
     "metadata": {},
     "output_type": "execute_result"
    }
   ],
   "source": [
    "# Comprobamos que funciona\n",
    "Algorithm_Grow(grafo)\n",
    "# Efectivamente, vuando termina el bucle tenemos el nodo Keeney Quad que es el que queremos añadir"
   ]
  },
  {
   "cell_type": "code",
   "execution_count": 34,
   "metadata": {},
   "outputs": [],
   "source": [
    "# Tenemos que seguir dentro del while\n",
    "# Una vez localizado el siguiente nodo a añadir, lo que tengo que hacer es buscar una arista que una este nodo\n",
    "# con lo que ya tengo dentro de mi \"bosque\"\n",
    "\n",
    "# Para esto vamos a definir una nueva función, que haga exactamente esto\n",
    "\n",
    "# -----------------------------------------------------------------------------------------------\n",
    "# Fn_Get_Vertices : Funcion que devuelve las aristas entre un nodo y una lista de nodos o grafo\n",
    "# -----------------------------------------------------------------------------------------------\n",
    "\n",
    "def Fn_Get_Vertices(grafo, nodoInicial, listaDeNodos):\n",
    "    # Declaramos la lista l vacía\n",
    "    l = []\n",
    "    # Para todos los elementos del grafo...\n",
    "    for i in grafo:\n",
    "        # creamos el conjunto vertices con los dos nodos de cada una de las aristas (una cada vez)\n",
    "        vertices = i[0].copy()\n",
    "        # Uno de estos vértices lo metemos en unNodo y lo eliminamos del conjunto vertices\n",
    "        unNodo = vertices.pop()\n",
    "        # Metemos el otro vertice en otroNodo \n",
    "        otroNodo = vertices.pop()\n",
    "        # Si uno de estos dos vertices es el nodo contra el que buscamos y el otro está en la listaDeNodos\n",
    "        # entonces añadimos este nuevo vertice a la lista l\n",
    "        if (unNodo == nodoInicial and otroNodo in listaDeNodos) or (otroNodo \n",
    "                                                                    == nodoInicial and unNodo in listaDeNodos):\n",
    "            l.append(i)\n",
    "    return l\n"
   ]
  },
  {
   "cell_type": "code",
   "execution_count": 35,
   "metadata": {},
   "outputs": [
    {
     "data": {
      "text/plain": [
       "[({'Keeney Quad', 'Main Quad'}, 5), ({'Keeney Quad', 'Wriston Quad'}, 4)]"
      ]
     },
     "execution_count": 35,
     "metadata": {},
     "output_type": "execute_result"
    }
   ],
   "source": [
    "# Comprobamos que funciona\n",
    "Fn_Get_Vertices(grafo, 'Keeney Quad', {'Main Quad', 'Wriston Quad'})\n",
    "# Efectivamente nos devuelve los elementos del grafo que contienen Keeney Quad"
   ]
  },
  {
   "cell_type": "code",
   "execution_count": 42,
   "metadata": {},
   "outputs": [],
   "source": [
    "# Seguimos con el while del paso 4\n",
    "\n",
    "# ------------------------------------------------------------------------------------------\n",
    "# Algoritmo Grow\n",
    "# ------------------------------------------------------------------------------------------\n",
    "# HECHO 1.Empezamos con un grafo vacio\n",
    "# HECHO 2.Añadimos el vertice con menor peso al grafo vacio\n",
    "# HECHO 3.Vemos que nodos nos quedan por añadir\n",
    "# 4.Añadimos el nodo que tenga un vertice que una con el arbol (ahora mismo son los nodos de la primera arista) \n",
    "# y que tenga el peso de arista más pequeño\n",
    "\n",
    "def Algorithm_Grow(grafo):\n",
    "    bosque = []\n",
    "    gr = grafo.copy()\n",
    "    nodosDeseados = Fn_Get_Nodos(gr)\n",
    "    \n",
    "    minimo = Fn_Get_PesoMin(gr)\n",
    "    for i in range(0,len(gr)):\n",
    "        if gr[i][1] == minimo:\n",
    "            nuevoVertice = gr.pop(i)\n",
    "            break\n",
    "    bosque.append(nuevoVertice)\n",
    "    \n",
    "    nodosEnBosque=Fn_Get_Nodos(bosque)\n",
    "    \n",
    "    nodosQueQuedan = nodosDeseados - nodosEnBosque\n",
    "    \n",
    "    while nodosQueQuedan:\n",
    "        for nodo in nodosQueQuedan:\n",
    "            for v in gr:\n",
    "                if nodo in v[0]:\n",
    "                    vertices = v[0].copy()\n",
    "                    unNodo = vertices.pop()\n",
    "                    otroNodo = vertices.pop()\n",
    "                    if nodo == otroNodo:\n",
    "                        nodoBuscado = otroNodo\n",
    "                    else:\n",
    "                        nodoBuscado = unNodo\n",
    "                    if nodoBuscado in nodosQueQuedan:\n",
    "                        maximo=Fn_Get_PesoMax(gr)\n",
    "                        if v[1] <= maximo:\n",
    "                            maximo = v[1]\n",
    "                            nodoNuevo = nodoBuscado\n",
    "                            \n",
    "        # busco entre todos los vertices los que unan el nodo buscado con los nodos que tengo\n",
    "        # (Haría exactamente lo que hemos visto en el ejemplo de comprobación)\n",
    "        listaVertices = Fn_Get_Vertices(gr, nodoNuevo, nodosEnBosque)\n",
    "\n",
    "        # Y cojo la de menor peso\n",
    "        minimo = Fn_Get_PesoMin(listaVertices)\n",
    "        for i in range(0,len(listaVertices)):\n",
    "            if listaVertices[i][1] == minimo: # Miro los pesos\n",
    "                nuevoVertice = listaVertices.pop(i)\n",
    "                break\n",
    "        # Añado esta arista de peso mínimo al bosque\n",
    "        bosque.append(nuevoVertice)\n",
    "        # Momentaneamente le añadimos un break para que no reejecute el while\n",
    "        # ya que entraría en bucle infinito ya que siempre cogería el mismo elemento del grafo\n",
    "        break\n",
    "        \n",
    "    return bosque                            "
   ]
  },
  {
   "cell_type": "code",
   "execution_count": 43,
   "metadata": {},
   "outputs": [
    {
     "data": {
      "text/plain": [
       "[({'Main Quad', 'Wriston Quad'}, 3), ({'Gregorian Quad', 'Wriston Quad'}, 6)]"
      ]
     },
     "execution_count": 43,
     "metadata": {},
     "output_type": "execute_result"
    }
   ],
   "source": [
    "# Comprobamos que funciona\n",
    "Algorithm_Grow(grafo)"
   ]
  },
  {
   "cell_type": "code",
   "execution_count": 44,
   "metadata": {},
   "outputs": [],
   "source": [
    "# Nos faltaría el paso 5\n",
    "\n",
    "# ------------------------------------------------------------------------------------------\n",
    "# Algoritmo Grow\n",
    "# ------------------------------------------------------------------------------------------\n",
    "# HECHO 1.Empezamos con un grafo vacio\n",
    "# HECHO 2.Añadimos el vertice con menor peso al grafo vacio\n",
    "# HECHO 3.Vemos que nodos nos quedan por añadir\n",
    "# HECHO 4.Añadimos el nodo que tenga un vertice que una con el arbol (ahora mismo son los nodos de la primera arista) \n",
    "# y que tenga el peso de arista más pequeño\n",
    "# 5.Si siguen quedando nodos por añadir repetimos 4\n",
    "\n",
    "def Algorithm_Grow(grafo):\n",
    "    bosque = []\n",
    "    gr = grafo.copy()\n",
    "    nodosDeseados = Fn_Get_Nodos(gr)\n",
    "    \n",
    "    minimo = Fn_Get_PesoMin(gr)\n",
    "    for i in range(0,len(gr)):\n",
    "        if gr[i][1] == minimo:\n",
    "            nuevoVertice = gr.pop(i)\n",
    "            break\n",
    "    bosque.append(nuevoVertice)\n",
    "    \n",
    "    nodosEnBosque=Fn_Get_Nodos(bosque)\n",
    "    \n",
    "    nodosQueQuedan = nodosDeseados - nodosEnBosque\n",
    "    \n",
    "    while nodosQueQuedan:\n",
    "        for nodo in nodosQueQuedan:\n",
    "            for v in gr:\n",
    "                if nodo in v[0]:\n",
    "                    vertices = v[0].copy()\n",
    "                    unNodo = vertices.pop()\n",
    "                    otroNodo = vertices.pop()\n",
    "                    if nodo == otroNodo:\n",
    "                        nodoBuscado = otroNodo\n",
    "                    else:\n",
    "                        nodoBuscado = unNodo\n",
    "                    if nodoBuscado in nodosQueQuedan:\n",
    "                        maximo=Fn_Get_PesoMax(gr)\n",
    "                        if v[1] <= maximo:\n",
    "                            maximo = v[1]\n",
    "                            nodoNuevo = nodoBuscado\n",
    "                            \n",
    "        listaVertices = Fn_Get_Vertices(gr, nodoNuevo, nodosEnBosque)\n",
    "\n",
    "        minimo = Fn_Get_PesoMin(listaVertices)\n",
    "        for i in range(0,len(listaVertices)):\n",
    "            if listaVertices[i][1] == minimo: # Miro los pesos\n",
    "                nuevoVertice = listaVertices.pop(i)\n",
    "                break\n",
    "        bosque.append(nuevoVertice)\n",
    "        \n",
    "        # Actualizo nodosEnBosque y nodosQueQuedan para la siguiente iteración del while\n",
    "        # El while se iría repitiendo siempre y cuando queden elementos en nodosQueQuedan\n",
    "        nodosEnBosque=Fn_Get_Nodos(bosque)\n",
    "        nodosQueQuedan = nodosDeseados - nodosEnBosque\n",
    "        \n",
    "    return bosque  "
   ]
  },
  {
   "cell_type": "code",
   "execution_count": 45,
   "metadata": {},
   "outputs": [
    {
     "data": {
      "text/plain": [
       "[({'Main Quad', 'Wriston Quad'}, 3),\n",
       " ({'Gregorian Quad', 'Wriston Quad'}, 6),\n",
       " ({'Keeney Quad', 'Wriston Quad'}, 4)]"
      ]
     },
     "execution_count": 45,
     "metadata": {},
     "output_type": "execute_result"
    }
   ],
   "source": [
    "# Finalmente ya tenemos nuestro algoritmo\n",
    "Algorithm_Grow(grafo)"
   ]
  },
  {
   "cell_type": "markdown",
   "metadata": {},
   "source": [
    "<span style=\"color:orange\">** Algoritmo Shrink**</style>  \n",
    "> <span style=\"color:orange\"> def Shrink (G)</style>  \n",
    "> <span style=\"color:orange\"> S: = { {Main Quad, Wriston Quad}, {Main Quad, Keeney Quad}, {Keeney Quad, Wriston Quad}, {Wriston Quad, Gregorian Quad}, {Keeney Quad, Gregorian Quad} }</style>\n",
    "> <span style=\"color:orange\"> Consideremos las aristas e en orden decreciente:</style>  \n",
    ">> <span style=\"color:orange\"> Si cada par de nodos están conectados mediante S-{e}: quitar e de S.</style>  \n",
    "\n",
    "<span style=\"color:orange\"> Colocamos las aristas en orden decreciente según sus pesos: 8,6,5,4,3.  \n",
    "La arista que más peso tiene es {Keeney Quad, Gregorian Quad}:8. Si la quito aún podría seguir yendo de Keeney Quad a Gregorian Quad.  \n",
    "Luego S= { {Main Quad, Wriston Quad}, {Main Quad, Keeney Quad}, {Keeney Quad, Wriston Quad}, {Wriston Quad, Gregorian Quad} }.  \n",
    "La arista siguiente con más peso es {Wriston Quad, Gregorian Quad}, pero si quito esta arista Gregorian Quad se queda desconectado, por tanto, la mantengo.  \n",
    "La arista siguiente con más peso es {Main Quad, Keeney Quad}:5. Puedo eliminarla ya que pasando por Wriston Quad siguen conectadas.  \n",
    "Luego S= { {Main Quad, Wriston Quad}, {Keeney Quad, Wriston Quad}, {Wriston Quad, Gregorian Quad} }. \n",
    "La otras dos aristas restantes: {Keeney Quad, Wriston Quad} y {Main Quad, Wriston Quad} no se pueden eliminar.  \n",
    "Por tanto, finalmente queda S={ {Main Quad, Wriston Quad}, {Keeney Quad, Wriston Quad}, {Wriston Quad, Gregorian Quad} }.</style>  \n",
    "\n",
    "<span style=\"color:orange\"> Ahora veamoslo en Python</style>\n"
   ]
  },
  {
   "cell_type": "code",
   "execution_count": 76,
   "metadata": {},
   "outputs": [],
   "source": [
    "# Empezamos el algoritmo\n",
    "\n",
    "# ------------------------------------------------------------------------------------------\n",
    "# Algoritmo Shrink\n",
    "# ------------------------------------------------------------------------------------------\n",
    "# 1.Empezamos con el grafo completo\n",
    "\n",
    "def Algorithm_Shrink(grafo):\n",
    "    bosque = grafo.copy()\n",
    "    \n",
    "    return(bosque)"
   ]
  },
  {
   "cell_type": "code",
   "execution_count": 77,
   "metadata": {},
   "outputs": [
    {
     "data": {
      "text/plain": [
       "[({'Main Quad', 'Wriston Quad'}, 3),\n",
       " ({'Keeney Quad', 'Main Quad'}, 5),\n",
       " ({'Keeney Quad', 'Wriston Quad'}, 4),\n",
       " ({'Gregorian Quad', 'Keeney Quad'}, 8),\n",
       " ({'Gregorian Quad', 'Wriston Quad'}, 6)]"
      ]
     },
     "execution_count": 77,
     "metadata": {},
     "output_type": "execute_result"
    }
   ],
   "source": [
    "# Comprobamos que funciona\n",
    "Algorithm_Shrink(grafo)\n",
    "# Nos devuelve toda la colección de aristas del grafo :+1:"
   ]
  },
  {
   "cell_type": "code",
   "execution_count": 78,
   "metadata": {},
   "outputs": [],
   "source": [
    "# Vamos con el paso 2\n",
    "\n",
    "# ------------------------------------------------------------------------------------------\n",
    "# Algoritmo Shrink\n",
    "# ------------------------------------------------------------------------------------------\n",
    "# HECHO 1.Empezamos con el grafo completo\n",
    "# 2.Buscamos el vertice con mas peso y lo quitamos del bosque\n",
    "\n",
    "# Para este paso vamos a necesitar una nueva función que nos de la lista de pesos de un grafo\n",
    "\n",
    "# ------------------------------------------------------------------------------------------\n",
    "# Fn_Get_Pesos: Funcion para obtener la lista de pesos de un grafo\n",
    "# ------------------------------------------------------------------------------------------\n",
    "\n",
    "def Fn_Get_Pesos(grafo):\n",
    "    # Creamos la lista vacía\n",
    "    l = []\n",
    "    # Para los elementos del grafo...\n",
    "    for i in grafo:\n",
    "        # ...Cogemos sus pesos y los añadimos a la lista l\n",
    "        l.append(i[1])\n",
    "    # Ordenamos la lista l de modo decreciente\n",
    "    l.sort(reverse=True)\n",
    "    return l\n"
   ]
  },
  {
   "cell_type": "code",
   "execution_count": 79,
   "metadata": {},
   "outputs": [
    {
     "data": {
      "text/plain": [
       "[8, 6, 5, 4, 3]"
      ]
     },
     "execution_count": 79,
     "metadata": {},
     "output_type": "execute_result"
    }
   ],
   "source": [
    "# Comprobamos que funciona\n",
    "Fn_Get_Pesos(grafo)\n",
    "# Que efectivamente son los pesos del grafo ordenados de modo decreciente"
   ]
  },
  {
   "cell_type": "code",
   "execution_count": 82,
   "metadata": {},
   "outputs": [],
   "source": [
    "# Volvamos al paso 2 del algoritmo\n",
    "\n",
    "# ------------------------------------------------------------------------------------------\n",
    "# Algoritmo Shrink\n",
    "# ------------------------------------------------------------------------------------------\n",
    "# HECHO 1.Empezamos con el grafo completo\n",
    "# 2.Buscamos la arista con mas peso y la quitamos del bosque\n",
    "\n",
    "\n",
    "def Algorithm_Shrink(grafo):\n",
    "    bosque = grafo.copy()\n",
    "    \n",
    "    # Obtenemos el listado de pesos en orden decreciente\n",
    "    pesos = Fn_Get_Pesos(grafo)\n",
    "    \n",
    "    # Vamos a recorrer el listado de pesos\n",
    "    while pesos:\n",
    "        # Cogemos el de la posición 0 (el de mayor peso)\n",
    "        pesoBuscado = pesos[0] \n",
    "        # Vamos a buscar la arista asociada a ese peso\n",
    "        # Tenemos que recorrer el bosque\n",
    "        for i in range(0, len(bosque)): \n",
    "            # y buscar qué elemento coincide en peso con el buscado\n",
    "            if bosque[i][1] == pesoBuscado:\n",
    "                # Nos guardamos ese elemento y lo quitamos del bosque\n",
    "                nuevoVertice = bosque.pop(i)\n",
    "                # No queremos volver a buscar ese peso, así que lo eliminamos de la lista pesos\n",
    "                pesos.remove(pesoBuscado)\n",
    "                break\n",
    "    \n",
    "    return(bosque)"
   ]
  },
  {
   "cell_type": "code",
   "execution_count": 83,
   "metadata": {},
   "outputs": [
    {
     "data": {
      "text/plain": [
       "[]"
      ]
     },
     "execution_count": 83,
     "metadata": {},
     "output_type": "execute_result"
    }
   ],
   "source": [
    "# Comprobamos que funciona\n",
    "Algorithm_Shrink(grafo)\n",
    "# Nos sale vacío porque lo único que estamos haciendo es buscar para el máximo peso, su arista y borrarla de bosque\n",
    "# y así con todas\n",
    "# Tenemos que añadir más condiciones en el while...Sigamos!"
   ]
  },
  {
   "cell_type": "code",
   "execution_count": 65,
   "metadata": {},
   "outputs": [],
   "source": [
    "# Vamos ahora con el paso 3\n",
    "\n",
    "# ------------------------------------------------------------------------------------------\n",
    "# Algoritmo Shrink\n",
    "# ------------------------------------------------------------------------------------------\n",
    "# HECHO 1.Empezamos con el grafo completo\n",
    "# HECHO 2.Buscamos la arista con mas peso y la quitamos del bosque\n",
    "# 3.Miramos a ver si hemos dejado algun nodo sin conectar o si hemos generado dos islas \n",
    "#                 (es decir que todos los nodos del grafo tienen que seguir conectados entre ellos)\n",
    "\n",
    "# Para ello necesitamos una nueva función, que checkee si existe un camino\n",
    "\n",
    "# ------------------------------------------------------------------------------------------\n",
    "# Fn_Check_Camino: Función que checkea si entre dos vértices hay un camino\n",
    "# ------------------------------------------------------------------------------------------\n",
    "\n",
    "def Fn_Check_Camino(grafoOriginal,nodoA,nodoB):\n",
    "    grafo=grafoOriginal.copy()\n",
    "    \n",
    "    # Queremos ver si hay un camino directo\n",
    "    # Inicializamos la variable directo a False\n",
    "    # directo=False\n",
    "    # Recorremos los elementos del grafo\n",
    "    for v in grafo:\n",
    "        # Vemos si los dos vértices están en ese elemento del grafo\n",
    "        # Esto sería un camino directo\n",
    "        if (nodoA in v[0]) and (nodoB in v[0]):\n",
    "            return True\n",
    "    "
   ]
  },
  {
   "cell_type": "code",
   "execution_count": 66,
   "metadata": {},
   "outputs": [
    {
     "data": {
      "text/plain": [
       "True"
      ]
     },
     "execution_count": 66,
     "metadata": {},
     "output_type": "execute_result"
    }
   ],
   "source": [
    "# Comprobamos que funciona\n",
    "Fn_Check_Camino(grafo,'Main Quad','Keeney Quad')\n",
    "# Efectivamente hay una arista que une Main Quad con Keeney Quad"
   ]
  },
  {
   "cell_type": "code",
   "execution_count": 67,
   "metadata": {},
   "outputs": [],
   "source": [
    "# Ahora bien, ¿y si no existe un camino directo, entonces existe un camino?\n",
    "# Como por ejemplo entre Main Quad y Gregorian Quad\n",
    "Fn_Check_Camino(grafo,'Main Quad','Gregorian Quad')\n",
    "# No devuelve True porque no hay un camino directo"
   ]
  },
  {
   "cell_type": "code",
   "execution_count": 68,
   "metadata": {},
   "outputs": [],
   "source": [
    "# Necesitamos entonces una función  que devuelva los vértices que conectan al nodo dado\n",
    "\n",
    "# ------------------------------------------------------------------------------------------\n",
    "# Fn_Get_NodConect: Función para obtener los nodos que conectan al nodo dado\n",
    "# ------------------------------------------------------------------------------------------\n",
    "\n",
    "def Fn_Get_NodConect (grafoOriginal,nodo):\n",
    "    # inicializamos el conjunto nodos a vacío\n",
    "    nodos=set()\n",
    "    #Recorremos los elementos de grafoOriginal\n",
    "    for v in grafoOriginal:\n",
    "        # Buscamos si el nodo que hemos metido como parámetro pertenece a ese elemento del grafoOriginal\n",
    "        if nodo in v[0]:\n",
    "            # Si está lo añadimos a nodos\n",
    "            nodos=nodos | (v[0])  # La | es unión de conjuntos\n",
    "        # Una vez añadido, como el elemento que añadimos tiene también el nodo que estamos comprobando\n",
    "        # y éste no le queremos en \"nodos\", lo eliminamos del conjunto\n",
    "        nodos= nodos - {nodo}\n",
    "    return nodos"
   ]
  },
  {
   "cell_type": "code",
   "execution_count": 69,
   "metadata": {},
   "outputs": [
    {
     "data": {
      "text/plain": [
       "{'Keeney Quad', 'Wriston Quad'}"
      ]
     },
     "execution_count": 69,
     "metadata": {},
     "output_type": "execute_result"
    }
   ],
   "source": [
    "# Comprobamos que funciona\n",
    "Fn_Get_NodConect (grafo,'Main Quad')\n",
    "# Efectivamente nos devuelve los vértices con los que Main Quad comparte arista"
   ]
  },
  {
   "cell_type": "code",
   "execution_count": null,
   "metadata": {},
   "outputs": [],
   "source": [
    "# Volvemos a nuestra función de checkear el camino\n",
    "\n",
    "# ------------------------------------------------------------------------------------------\n",
    "# Fn_Check_Camino: Función que checkea si entre dos vértices hay un camino\n",
    "# ------------------------------------------------------------------------------------------\n",
    "\n",
    "def Fn_Check_Camino(grafoOriginal,nodoA,nodoB):\n",
    "    grafo=grafoOriginal.copy()\n",
    "    \n",
    "    for v in grafo:\n",
    "        if (nodoA in v[0]) and (nodoB in v[0]):\n",
    "            return True\n",
    "    # Para el caso en el que no hay un camino directo, hay que buscar entre los nodos con los que el vértice\n",
    "    # no comparte un camino\n",
    "    # Entonces miramos con los vértices con los que comparte camino\n",
    "    nodosParaBuscar=Fn_Get_NodConect (grafo,nodoA)\n",
    "    # La idea ahora es quitar el nodoA\n",
    "    # Para ello vamos a necesitar una nueva función\n",
    "    \n",
    "        \n",
    "        "
   ]
  },
  {
   "cell_type": "code",
   "execution_count": 70,
   "metadata": {},
   "outputs": [],
   "source": [
    "# ------------------------------------------------------------------------------------------\n",
    "# Fn_Eliminar_Nodo: Función para eliminar un nodo de un grafo dado\n",
    "# ------------------------------------------------------------------------------------------\n",
    "\n",
    "def Fn_Eliminar_Nodo (grafo,nodo):\n",
    "    # Creamos una copia del grafo\n",
    "    grafoCopia=grafo.copy()\n",
    "    # Recorremos los elementos del grafo\n",
    "    for v in grafo:\n",
    "        # Miramos si el nodo está en ese elemento del grafo\n",
    "        if nodo in v[0]:\n",
    "            # Si está, eliminamos ese elemento del grafo\n",
    "            grafoCopia.remove(v)\n",
    "    return grafoCopia"
   ]
  },
  {
   "cell_type": "code",
   "execution_count": 71,
   "metadata": {},
   "outputs": [
    {
     "data": {
      "text/plain": [
       "[({'Keeney Quad', 'Wriston Quad'}, 4),\n",
       " ({'Gregorian Quad', 'Keeney Quad'}, 8),\n",
       " ({'Gregorian Quad', 'Wriston Quad'}, 6)]"
      ]
     },
     "execution_count": 71,
     "metadata": {},
     "output_type": "execute_result"
    }
   ],
   "source": [
    "# Comprobamos que funciona\n",
    "Fn_Eliminar_Nodo (grafo,'Main Quad')\n",
    "# Efectivamente ha borrado las dos aristas que llegaban al vértice Main Quad"
   ]
  },
  {
   "cell_type": "code",
   "execution_count": 72,
   "metadata": {},
   "outputs": [],
   "source": [
    "# Volvemos a nuestra función de checkear el camino\n",
    "# Queríamos quitar el nodoA\n",
    "\n",
    "# ------------------------------------------------------------------------------------------\n",
    "# Fn_Check_Camino: Función que checkea si entre dos vértices hay un camino\n",
    "# ------------------------------------------------------------------------------------------\n",
    "\n",
    "def Fn_Check_Camino(grafoOriginal,nodoA,nodoB):\n",
    "    grafo=grafoOriginal.copy()\n",
    "    \n",
    "    for v in grafo:\n",
    "        if (nodoA in v[0]) and (nodoB in v[0]):\n",
    "            return True\n",
    "    nodosParaBuscar=Fn_Get_NodConect (grafo,nodoA)\n",
    "    # Quitar el nodoA\n",
    "    nuevoGrafo=Fn_Eliminar_Nodo(grafo,nodoA)\n",
    "    # Ahora bien, nos preguntamos:\n",
    "    # ¿Para los vértices unidos a nodoA (nodosParaBuscar) dejando de lado el nodoA (nuevoGrafo)\n",
    "    # existe un camino directo hasta nodoB?\n",
    "    for e in nodosParaBuscar:\n",
    "        if Fn_Check_Camino(nuevoGrafo,e,nodoB):\n",
    "            return True   "
   ]
  },
  {
   "cell_type": "code",
   "execution_count": 73,
   "metadata": {},
   "outputs": [
    {
     "data": {
      "text/plain": [
       "True"
      ]
     },
     "execution_count": 73,
     "metadata": {},
     "output_type": "execute_result"
    }
   ],
   "source": [
    "# Comprobamos que funciona para el caso que no nos devolvía valor antes\n",
    "Fn_Check_Camino(grafo,'Main Quad','Gregorian Quad')\n",
    "# Perfect!"
   ]
  },
  {
   "cell_type": "code",
   "execution_count": 103,
   "metadata": {},
   "outputs": [],
   "source": [
    "# Continuamos ya con el paso 3 del algoritmo Shrink\n",
    "\n",
    "# ------------------------------------------------------------------------------------------\n",
    "# Algoritmo Shrink\n",
    "# ------------------------------------------------------------------------------------------\n",
    "# HECHO 1.Empezamos con el grafo completo\n",
    "# HECHO 2.Buscamos la arista con mas peso y la quitamos del bosque\n",
    "# 3.Miramos a ver si hemos dejado algun nodo sin conectar o si hemos generado dos islas \n",
    "#                 (es decir que todos los nodos del grafo tienen que seguir conectados entre ellos)\n",
    "\n",
    "# Esto lo seguiremos haciendo dentro del while\n",
    "\n",
    "def Algorithm_Shrink(grafo):\n",
    "    bosque = grafo.copy()\n",
    "    \n",
    "    pesos = Fn_Get_Pesos(grafo)\n",
    "    # Necesitamos antes de meternos en el while el listado de vértices del grafo original\n",
    "    nodosTotales = Fn_Get_Nodos(grafo)\n",
    "    \n",
    "    while pesos:\n",
    "        pesoBuscado = pesos[0] \n",
    "        for i in range(0, len(bosque)): \n",
    "            if bosque[i][1] == pesoBuscado:\n",
    "                nuevoVertice = bosque.pop(i)\n",
    "                pesos.remove(pesoBuscado)\n",
    "                break\n",
    "        # Queremos comprobar que \"bosque\", que ahora tiene una arista menos\n",
    "        # , sigue teniendo un camino entre cada par de nodos\n",
    "        # Vamos a recorrer cada uno de los vértices que teníamos guardados del bosque original\n",
    "        for n1 in nodosTotales:\n",
    "            # Incluimos este nodo en un conjunto nuevo, el conjunto esteNodo\n",
    "            esteNodo = set()\n",
    "            esteNodo.add(n1)\n",
    "            # el resto de nodos los meto en otro conjunto, el conjunto otrosNodos\n",
    "            otrosNodos = nodosTotales - esteNodo\n",
    "            # Vamos a comprobar para cada vértices de otrosNodos que existe un camino a \"esteNodo\"\n",
    "            # con el bosque tal y como está actualmente\n",
    "            for n2 in otrosNodos:\n",
    "                conectados=Fn_Check_Camino(bosque, n1, n2)\n",
    "                # Si encuentro un camino me salgo del bucle ya que ya habría acabado mi comprobación\n",
    "                if conectados is True:\n",
    "                    break\n",
    "        \n",
    "        # Ahora bien, si en esta iteración, el bosque ha perdido un vértice, es decir, que el conjunto\n",
    "        # Fn_Get_Nodos(bosque) es más pequeño que nodosTotales, entonces el vértice nuevoVertice que había quitado\n",
    "        # en esta iteración, tengo que volver a añadirlo\n",
    "        if Fn_Get_Nodos(bosque) != nodosTotales:\n",
    "            bosque.append(nuevoVertice)\n",
    "        # También, si al hacer la comprobación, me hubiese salido que no están conectados, también en este caso\n",
    "        # tengo que volver a añadir el vértice quitado\n",
    "        elif conectados is False:\n",
    "            bosque.append(nuevoVertice)\n",
    "            \n",
    "    return(bosque)"
   ]
  },
  {
   "cell_type": "code",
   "execution_count": 104,
   "metadata": {},
   "outputs": [
    {
     "data": {
      "text/plain": [
       "[({'Gregorian Quad', 'Wriston Quad'}, 6),\n",
       " ({'Keeney Quad', 'Wriston Quad'}, 4),\n",
       " ({'Main Quad', 'Wriston Quad'}, 3)]"
      ]
     },
     "execution_count": 104,
     "metadata": {},
     "output_type": "execute_result"
    }
   ],
   "source": [
    "Algorithm_Shrink(grafo)"
   ]
  },
  {
   "cell_type": "markdown",
   "metadata": {},
   "source": [
    "Los algoritmos Grow y Shrink prueban si un vector es superfluo (no necesario) para el conjunto generador del espacio vectorial V.  \n",
    "\n",
    "** Lema del vector superfluo**  \n",
    "Para cualquier conjunto S y cualquier vector v ∈ S, si v puede escribirse como una combinación lineal de los otros vectores en S entonces Gen(S - {v}) = GenS.  "
   ]
  },
  {
   "cell_type": "markdown",
   "metadata": {},
   "source": [
    "Los algoritmos Grow y Shrink devuelven un conjunto de vectores linealmente independientes.  \n",
    "\n",
    "# Bases  \n",
    "\n",
    "Si finalizan con éxito, el algoritmo Grow y el algoritmo Shrink encuentran cada uno un conjunto de vectores generadores del espacio vectorial V.  \n",
    "En cualquier caso, el conjunto de vectores encontrado es linealmente independiente.  \n",
    "\n",
    "Dado un espacio vectorial V. Una **base** para V es un conjunto de generadores linealmente independientes para V.  \n",
    "\n",
    "Por tanto, un conjunto S de vectores de V es una **base** para V si satisface:  \n",
    "* GenS=V  \n",
    "* S es linealmente independiente  "
   ]
  },
  {
   "cell_type": "markdown",
   "metadata": {},
   "source": [
    "<span style=\"color:orange\"> Ejemplo:  \n",
    "Dado V=Gen{[1, 0, 2, 0], [0, −1, 0, −2], [2, 2, 4, 4]}. ¿Es {[1, 0, 2, 0], [0, −1, 0, −2], [2, 2, 4, 4]} una base de V?  </style>  \n",
    "\n",
    "<span style=\"color:orange\">Por la definición del ejercicio es un generador.  \n",
    "Ahora bien, ¿los vectores son linealmente independientes? </style> "
   ]
  },
  {
   "cell_type": "code",
   "execution_count": 17,
   "metadata": {},
   "outputs": [
    {
     "data": {
      "text/plain": [
       "{y: 2*z, x: -2*z}"
      ]
     },
     "execution_count": 17,
     "metadata": {},
     "output_type": "execute_result"
    }
   ],
   "source": [
    "import sympy as sp\n",
    "\n",
    "#Se define las variables simbolicas x,y,z\n",
    "x = sp.Symbol('x')\n",
    "y = sp.Symbol('y')\n",
    "z = sp.Symbol('z')\n",
    "\n",
    "# Para ver si son linealmente independientes, tenemos que ver si éste sistema tiene solución\n",
    "resultado =sp.solve([x+2*z,-1*y+2*z,2*x+4*z,-2*y+4*z],[x,y,z])\n",
    "\n",
    "resultado\n",
    "# Luego son linealmente dependientes, por tanto no es base"
   ]
  },
  {
   "cell_type": "markdown",
   "metadata": {},
   "source": [
    "<span style=\"color:orange\"> \n",
    "1 [1, 0, 2, 0] − 1 [0, −1, 0, −2] − $\\frac{1}{2}$ [2, 2, 4, 4] = **0**  \n",
    "Por lo tanto, son linealmente dependientes, luego no es una base.  \n",
    "¿Podríamos encontrar una base?  \n",
    "Para ello vamos a usar el lema del vector superfluo (si uno es combinación lineal, podemos \"omitirlo\"):  \n",
    "[2, 2, 4, 4] = 2 [1, 0, 2, 0] − 2 [0, −1, 0, −2]  \n",
    "Por tanto:  \n",
    "Gen {[1,0,2,0],[0,−1,0,−2]} = Gen {[1,0,2,0],[0,−1,0,−2],[2,2,4,4]}  </style> "
   ]
  },
  {
   "cell_type": "code",
   "execution_count": 18,
   "metadata": {},
   "outputs": [
    {
     "data": {
      "text/plain": [
       "{y: 0, x: 0}"
      ]
     },
     "execution_count": 18,
     "metadata": {},
     "output_type": "execute_result"
    }
   ],
   "source": [
    "import sympy as sp\n",
    "\n",
    "#Se define las variables simbolicas x,y,z\n",
    "x = sp.Symbol('x')\n",
    "y = sp.Symbol('y')\n",
    "z = sp.Symbol('z')\n",
    "\n",
    "# Para ver si son linealmente independientes, tenemos que ver si éste sistema tiene solución\n",
    "resultado =sp.solve([x,-y,2*x,-2*y],[x,y,z])\n",
    "\n",
    "resultado\n",
    "# Luego son linealmente independientes"
   ]
  },
  {
   "cell_type": "markdown",
   "metadata": {},
   "source": [
    "<span style=\"color:orange\"> Por tanto, {[1,0,2,0],[0,−1,0,−2]} es una base.</style> "
   ]
  },
  {
   "cell_type": "markdown",
   "metadata": {},
   "source": [
    "{[1,0,0],[0,1,0],[0,0,1]} es la **base canónica** de $\\mathbb{R}$<sup>3</sup>.  "
   ]
  },
  {
   "cell_type": "markdown",
   "metadata": {},
   "source": [
    "<span style=\"color:orange\"> Ejemplo:  \n",
    "Comprobemos que la base canónica de $\\mathbb{R}$<sup>3</sup> {[1,0,0],[0,1,0],[0,0,1]} efectivamente es una base.  \n",
    "Es generador de $\\mathbb{R}$<sup>3</sup> ya que dado [x,y,z] ∈ $\\mathbb{R}$<sup>3</sup>, [x , y , z ] = x [1, 0, 0] + y [0, 1, 0] + z [0, 0, 1].  \n",
    "¿Son linealmente independientes?</style>  "
   ]
  },
  {
   "cell_type": "code",
   "execution_count": 19,
   "metadata": {},
   "outputs": [
    {
     "data": {
      "text/plain": [
       "{z: 0, y: 0, x: 0}"
      ]
     },
     "execution_count": 19,
     "metadata": {},
     "output_type": "execute_result"
    }
   ],
   "source": [
    "import sympy as sp\n",
    "\n",
    "#Se define las variables simbolicas x,y,z\n",
    "x = sp.Symbol('x')\n",
    "y = sp.Symbol('y')\n",
    "z = sp.Symbol('z')\n",
    "\n",
    "# Para ver si son linealmente independientes, tenemos que ver si éste sistema tiene solución\n",
    "resultado =sp.solve([x,y,z],[x,y,z])\n",
    "\n",
    "resultado\n",
    "# Luego son linealmente independientes"
   ]
  },
  {
   "cell_type": "markdown",
   "metadata": {},
   "source": [
    "<span style=\"color:blue\"> Ejemplo:  \n",
    "Comprobemos si {[1, 1, 1], [1, 1, 0], [0, 1, 1]} es una base para $\\mathbb{R}$<sup>3</sup>   \n",
    "</style>  "
   ]
  },
  {
   "cell_type": "markdown",
   "metadata": {},
   "source": [
    "<span style=\"color:blue\"> Para ver que es un generador basta con comprobar que los vectores de la base canonica (que sabemos que son un generador) se  se pueden escribir como una combinación lineal de dichos vectores \n",
    "[1,0,0] = [1,1,1]−[0,1,1]  \n",
    "[0,1,0] = [1,1,0]+[0,1,1]−[1,1,1]  \n",
    "[0,0,1] = [1,1,1]−[1,1,0]  \n",
    "Luego, {[1, 1, 1], [1, 1, 0], [0, 1, 1]} es un generador.  \n",
    "Falta ver que son linealmente independientes:  \n",
    "</style>  "
   ]
  },
  {
   "cell_type": "code",
   "execution_count": 20,
   "metadata": {},
   "outputs": [
    {
     "data": {
      "text/plain": [
       "{y: 0, z: 0, x: 0}"
      ]
     },
     "execution_count": 20,
     "metadata": {},
     "output_type": "execute_result"
    }
   ],
   "source": [
    "import sympy as sp\n",
    "\n",
    "#Se define las variables simbolicas x,y,z\n",
    "x = sp.Symbol('x')\n",
    "y = sp.Symbol('y')\n",
    "z = sp.Symbol('z')\n",
    "\n",
    "# Para ver si son linealmente independientes, tenemos que ver si éste sistema tiene solución\n",
    "resultado =sp.solve([x+y,x+y+z,x+z],[x,y,z])\n",
    "\n",
    "resultado\n",
    "# Luego son linealmente independientes"
   ]
  },
  {
   "cell_type": "markdown",
   "metadata": {},
   "source": [
    "<span style=\"color:orange\">   Por tanto, {[1, 1, 1], [1, 1, 0], [0, 1, 1]} es una base.</style>  "
   ]
  },
  {
   "cell_type": "markdown",
   "metadata": {},
   "source": [
    "## Dimensión de un espacio vectorial\n",
    "\n",
    "Decimos que un espacio vectorial tiene dimensión n si n es el número de vectores de una cualquiera de sus bases."
   ]
  },
  {
   "cell_type": "markdown",
   "metadata": {},
   "source": [
    "<span style=\"color:orange\"> Ejemplo:  \n",
    "¿Qué dimensión tienen los espacios Gen{[1, 2, -2]} y Gen{[0, 0, 0]} ?</style>   "
   ]
  },
  {
   "cell_type": "markdown",
   "metadata": {},
   "source": [
    "<span style=\"color:orange\"> Ejemplo:  \n",
    "¿Qué dimensión tienen los espacios Gen{[1, 2], [3, 4]} y Gen{[1, 3], [2, 6]} ?</style>  "
   ]
  },
  {
   "cell_type": "markdown",
   "metadata": {},
   "source": [
    "<span style=\"color:orange\"> Ejemplo:  \n",
    "¿Qué dimensión tienen los espacios Gen{[1,0,0], [0,1,0], [0,0,1]} y Gen{[1,0,0], [0,1,0], [1 , 1,0]} ?\n",
    "</style> "
   ]
  },
  {
   "cell_type": "markdown",
   "metadata": {},
   "source": [
    "## Rango de un espacio vectorial\n",
    "\n",
    "Definimos el **rango** de un conjunto de vectores S como la dimensión de GenS.  \n",
    "Lo escribimos como rangoS.\n",
    "\n",
    "<span style=\"color:orange\"> Ejemplo:  \n",
    "¿Cuál es el rango de [1, 0, 0], [0, 2, 0], [2, 4, 0]?</style> "
   ]
  },
  {
   "cell_type": "markdown",
   "metadata": {},
   "source": [
    "<span style=\"color:orange\">Los vectores [1, 0, 0], [0, 2, 0], [2, 4, 0] son linealmente dependientes.  \n",
    "Por tanto, su rango es menor que 3.  \n",
    "Los dos primeros vectores forman una base para Gen{[1, 0, 0], [0, 2, 0], [2, 4, 0]}.  \n",
    "Por tanto, el rango es 2.  \n",
    "</style>  "
   ]
  },
  {
   "cell_type": "markdown",
   "metadata": {},
   "source": [
    "<span style=\"color:orange\"> Ejemplo:  \n",
    "El espacio vectorial Gen{[0, 0, 0]} está generado por un conjunto \"vacío\" de vectores. ¿Cuál es su rango?</style>  \n",
    "\n",
    "\n"
   ]
  },
  {
   "cell_type": "markdown",
   "metadata": {},
   "source": [
    "<span style=\"color:orange\">Por lo tanto, el rango de {[0, 0, 0]} es 0.  \n",
    "De hecho, es el único espacio vectorial con rango 0, todos los demás tienen al menos rango 1.\n",
    "</style>  "
   ]
  },
  {
   "cell_type": "markdown",
   "metadata": {},
   "source": [
    "## Subbases  \n",
    "\n",
    "Cada conjunto finito de vectores T contiene un subconjunto S que es una base para GenT.  \n",
    "\n",
    "** Fin del algoritmo Grow**  \n",
    "Si V es un subespacio de $\\mathbb{F}$<sup>D</sup> donde D es finito, entonces el algoritmo Grow termina.  \n",
    "\n",
    "**Teorema**  \n",
    "Para D finito, cada subespacio de $\\mathbb{F}$<sup>D</sup> contiene una base.  \n",
    "\n",
    "**Lema**  \n",
    "Sea V un espacio vectorial que consiste en D-vectores donde D es finito.  \n",
    "Sea C un conjunto de vectores linealmente independientes que pertenecen a V.  \n",
    "Entonces V tiene una base B que contiene todos los vectores de C.  \n",
    "\n",
    "## Subespacios vectoriales\n",
    "\n",
    "Sea V un espacio vectorial sobre un cuerpo K y W ⊂ V un subconjunto suyo. Se dice que W es un **subespacio vectorial** de V si W es un espacio vectorial sobre K con las operaciones definidas en V.  \n",
    "\n",
    "La definición de subespacio vectorial es un tanto confusa, pues en realidad no es más que un espacio vectorial que “vive” dentro de otro, que habitualmente denominaremos espacio ambiente. Puesto que las operaciones definidas en el espacio ambiente satisfacen las propiedades oportunas para ser espacio vectorial, la clave para que un subconjunto W sea subespacio vectorial es que las operaciones se mantengan definidas dentro del conjunto, es decir, que la suma de vectores de W sea un vector de W y que el producto de un escalar por un vector de W permanezca en W. El siguiente resultado expresa justamente esto.\n",
    "\n",
    "> W es un subespacio vectorial si y sólo si αu+βv ∈ W, ∀u,v ∈ W, α, β ∈ K."
   ]
  },
  {
   "cell_type": "markdown",
   "metadata": {},
   "source": [
    "<span style=\"color:orange\">Ejemplo:  \n",
    "El conjunto {(x<sub>1</sub>, x<sub>2</sub>) ∈ R<sup>2</sup> : x<sub>2</sub> = 0} es un subespacio vectorial de R<sup>2</sup>.\n",
    "Para comprobarlo, consideremos un par de elementos cualesquiera del conjunto. Dada la naturaleza del mismo, dos elementos genéricos del conjunto serán algo del estilo (x, 0), (y, 0). Tomemos ahora una combinación lineal arbitraria de estos dos elementos:</style>  \n",
    "> <span style=\"color:orange\"> α(x, 0) + β(y, 0) = (αx + βy, 0)</style>  \n",
    "\n",
    "<span style=\"color:orange\">Es evidente que el elemento (αx+βy, 0) pertenece al conjunto, cualesquiera que sean α y β.  Por tanto, dicho conjunto es subespacio vectorial.</style>"
   ]
  },
  {
   "cell_type": "markdown",
   "metadata": {},
   "source": [
    "<span style=\"color:orange\">Ejemplo:   \n",
    "El conjunto {x<sub>1</sub>, x<sub>2</sub>) ∈ R<sup>2</sup> : x<sub>2</sub> = 1} no es subespacio vectorial de R<sup>2</sup>.  \n",
    "Si tratamos de repetir el argumento anterior considerando un par de elementos arbitrarios del conjunto, (x,1), (y,1), ahora vemos que una combinación lineal de los mismos:</style>  \n",
    "> <span style=\"color:orange\"> α(x, 1) + β(y, 1) = (αx + βy, α + β)</style>  \n",
    "\n",
    "<span style=\"color:orange\">no es, en general, un elemento del conjunto. En concreto, si tomamos valores α y β tales que α + β ̸= 1, la combinación lineal resultante no pertenece al conjunto, y por tanto éste no es subespacio vectorial.</style> "
   ]
  },
  {
   "cell_type": "markdown",
   "metadata": {},
   "source": [
    "## Suma directa de subespacios\n",
    "\n",
    "Un espacio vectorial V es **suma directa** de dos subespacios L<sub>1</sub> y L<sub>2</sub> si y sólo si L<sub>1</sub>+L<sub>2</sub>=V y L<sub>1</sub>∩L<sub>2</sub>={0}  \n",
    "Se notará por V = L1 ⊕ L2.  \n",
    "\n",
    "Son equivalentes:  \n",
    "* V = L1 ⊕ L2.\n",
    "* ∀v∈V,v=v<sub>1</sub>+v<sub>2</sub>,con v<sub>1</sub> ∈L<sub>1</sub>,v<sub>2</sub> ∈L<sub>2</sub> únicos.  \n",
    "\n",
    "Dicho de otro modo:  \n",
    "La suma directa es el conjunto de todas las sumas de un vector en U y un vector en V.  "
   ]
  },
  {
   "cell_type": "markdown",
   "metadata": {},
   "source": [
    "<span style=\"color:orange\"> Ejemplo:  \n",
    "Sean U = Gen{(1,0,0,0), (0,1,0,0)} y V = Gen{(0,0,1,0)}.</style>   \n",
    "\n",
    "* <span style=\"color:orange\">Cada vector distinto de cero en U tiene uno en la primera o segunda posición (o ambas) y en ninguna otra parte.</style>  \n",
    "* <span style=\"color:orange\">Cada vector distinto de cero en V tiene uno en la tercera posición y en ninguna otra parte.</style>  \n",
    "\n",
    "<span style=\"color:orange\">Por lo tanto, el único vector en U y V es el vector cero.</style>  \n",
    "<span style=\"color:orange\">Por lo tanto:\n",
    "U $\\bigoplus$ V = {0000 + 0000, 1000 + 0000, 0100 + 0000, 1100 + 0000, 0000 + 0010, 1000 + 0010, 0100 + 0010, 1100 + 0010}={0000, 1000, 0100, 1100, 0010, 1010, 0110, 1110}.</style>  \n",
    "<span style=\"color:blue\"> Calculemos la suma directa en Python\n",
    "</style>  "
   ]
  },
  {
   "cell_type": "code",
   "execution_count": 1,
   "metadata": {},
   "outputs": [
    {
     "data": {
      "text/plain": [
       "array([0, 0, 0, 0])"
      ]
     },
     "execution_count": 1,
     "metadata": {},
     "output_type": "execute_result"
    }
   ],
   "source": [
    "import numpy as np\n",
    "\n",
    "u1=np.array([0,0,0,0])\n",
    "u2=np.array([1,0,0,0])\n",
    "u3=np.array([0,1,0,0])\n",
    "u4=np.array([1,1,0,0])\n",
    "\n",
    "v1=np.array([0,0,0,0])\n",
    "v2=np.array([0,0,1,0])\n",
    "\n",
    "u1+v1"
   ]
  },
  {
   "cell_type": "code",
   "execution_count": 2,
   "metadata": {},
   "outputs": [
    {
     "data": {
      "text/plain": [
       "array([1, 0, 0, 0])"
      ]
     },
     "execution_count": 2,
     "metadata": {},
     "output_type": "execute_result"
    }
   ],
   "source": [
    "u2+v1"
   ]
  },
  {
   "cell_type": "code",
   "execution_count": 3,
   "metadata": {},
   "outputs": [
    {
     "data": {
      "text/plain": [
       "array([0, 1, 0, 0])"
      ]
     },
     "execution_count": 3,
     "metadata": {},
     "output_type": "execute_result"
    }
   ],
   "source": [
    "u3+v1"
   ]
  },
  {
   "cell_type": "code",
   "execution_count": 4,
   "metadata": {},
   "outputs": [
    {
     "data": {
      "text/plain": [
       "array([1, 1, 0, 0])"
      ]
     },
     "execution_count": 4,
     "metadata": {},
     "output_type": "execute_result"
    }
   ],
   "source": [
    "u4+v1"
   ]
  },
  {
   "cell_type": "code",
   "execution_count": 5,
   "metadata": {},
   "outputs": [
    {
     "data": {
      "text/plain": [
       "array([0, 0, 1, 0])"
      ]
     },
     "execution_count": 5,
     "metadata": {},
     "output_type": "execute_result"
    }
   ],
   "source": [
    "u1+v2"
   ]
  },
  {
   "cell_type": "code",
   "execution_count": 6,
   "metadata": {},
   "outputs": [
    {
     "data": {
      "text/plain": [
       "array([1, 0, 1, 0])"
      ]
     },
     "execution_count": 6,
     "metadata": {},
     "output_type": "execute_result"
    }
   ],
   "source": [
    "u2+v2"
   ]
  },
  {
   "cell_type": "code",
   "execution_count": 7,
   "metadata": {},
   "outputs": [
    {
     "data": {
      "text/plain": [
       "array([0, 1, 1, 0])"
      ]
     },
     "execution_count": 7,
     "metadata": {},
     "output_type": "execute_result"
    }
   ],
   "source": [
    "u3+v2"
   ]
  },
  {
   "cell_type": "code",
   "execution_count": 8,
   "metadata": {},
   "outputs": [
    {
     "data": {
      "text/plain": [
       "array([1, 1, 1, 0])"
      ]
     },
     "execution_count": 8,
     "metadata": {},
     "output_type": "execute_result"
    }
   ],
   "source": [
    "u4+v2"
   ]
  },
  {
   "cell_type": "markdown",
   "metadata": {},
   "source": [
    "<span style=\"color:orange\">Ejemplo:  \n",
    "Sea U=Gen{[4,−1,1]} y V=Gen{[0,1,1]} sobre $\\mathbb{R}$<sup>3</sup>.  \n",
    "</style>  \n",
    "\n",
    "<span style=\"color:orange\">Son dos rectas cuya intersección está en el origen, luego puedo calcular U $\\bigoplus$ V.  \n",
    "U $\\bigoplus$ V={[4,−1,1],[0,1,1],[4,0,2]}</style>  "
   ]
  },
  {
   "cell_type": "markdown",
   "metadata": {},
   "source": [
    "<span style=\"color:orange\">Ejemplo:  \n",
    "Sean dos espacios L<sub>1</sub> y L<sub>2</sub>, donde:</style>  \n",
    "\n",
    "* <span style=\"color:orange\">una base de L<sub>1</sub> es {(1,−1,0,0),(0,0,−1,1)}</style>     \n",
    "* <span style=\"color:orange\">una base de L<sub>2</sub> es {(1,0,0,0),(0,0,0,1)}</style>  \n",
    "\n",
    "<span style=\"color:orange\">Calculemos ahora L<sub>1</sub>+L<sub>2</sub>. Para ello, simplemente consideramos el conjunto formado por la base de L<sub>1</sub> y la base de L<sub>2</sub> y estudiamos si son o no linealmente independientes. \n",
    "Como tienen los ceros colocados \"estratégicamente\" son linealmente independientes, luego su rango es 4 y, por tanto, L<sub>1</sub>+L<sub>2</sub> = R<sup>4</sup>.</style>  \n",
    "    \n",
    "<span style=\"color:orange\">Por otro lado, L<sub>1</sub>∩L<sub>2</sub> ={0}.</style>  \n",
    "\n",
    "<span style=\"color:orange\">Dado que se cumplen las condiciones, L<sub>1</sub> $\\bigoplus$ L<sub>2</sub> = R<sup>4</sup> </style>  \n"
   ]
  }
 ],
 "metadata": {
  "kernelspec": {
   "display_name": "Python 3",
   "language": "python",
   "name": "python3"
  },
  "language_info": {
   "codemirror_mode": {
    "name": "ipython",
    "version": 3
   },
   "file_extension": ".py",
   "mimetype": "text/x-python",
   "name": "python",
   "nbconvert_exporter": "python",
   "pygments_lexer": "ipython3",
   "version": "3.7.4"
  }
 },
 "nbformat": 4,
 "nbformat_minor": 2
}
